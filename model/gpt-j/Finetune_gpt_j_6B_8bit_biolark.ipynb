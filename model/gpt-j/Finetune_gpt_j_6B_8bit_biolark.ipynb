{
 "cells": [
  {
   "cell_type": "markdown",
   "metadata": {
    "id": "kLzX_EPqAnEW"
   },
   "source": [
    "### Fine-tuning 6-Billion GPT-J in colab with LoRA and 8-bit compression\n",
    "\n",
    "This notebook is a proof of concept for fine-tuning [GPT-J-6B](https://huggingface.co/EleutherAI/gpt-j-6B) with limited memory. A detailed explanation of how it works can be found in [this model card](https://huggingface.co/hivemind/gpt-j-6B-8bit)."
   ]
  },
  {
   "cell_type": "code",
   "execution_count": 1,
   "metadata": {
    "colab": {
     "base_uri": "https://localhost:8080/",
     "height": 549
    },
    "id": "p0dy1ZFwClcq",
    "outputId": "9c60c130-6970-4b6c-c2d6-d8fc96990f7b",
    "scrolled": true
   },
   "outputs": [
    {
     "name": "stderr",
     "output_type": "stream",
     "text": [
      "/home/yangj13/miniconda3/envs/GPTJ/lib/python3.11/site-packages/tqdm/auto.py:21: TqdmWarning: IProgress not found. Please update jupyter and ipywidgets. See https://ipywidgets.readthedocs.io/en/stable/user_install.html\n",
      "  from .autonotebook import tqdm as notebook_tqdm\n"
     ]
    },
    {
     "name": "stdout",
     "output_type": "stream",
     "text": [
      "==============================WARNING: DEPRECATED!==============================\n",
      "WARNING! This version of bitsandbytes is deprecated. Please switch to `pip install bitsandbytes` and the new repo: https://github.com/TimDettmers/bitsandbytes\n",
      "==============================WARNING: DEPRECATED!==============================\n"
     ]
    }
   ],
   "source": [
    "import transformers\n",
    "\n",
    "import torch\n",
    "import torch.nn.functional as F\n",
    "from torch import nn\n",
    "from torch.cuda.amp import custom_fwd, custom_bwd\n",
    "\n",
    "from bitsandbytes.functional import quantize_blockwise, dequantize_blockwise\n",
    "\n",
    "from tqdm.auto import tqdm"
   ]
  },
  {
   "cell_type": "markdown",
   "metadata": {
    "id": "GODiktIBFt4w"
   },
   "source": [
    "### Converting the model to 8 bits.\n",
    "\n",
    "We convert EleutherAI's GPT-J-6B model to 8 bits using facebook's [bitsandbytes](https://github.com/facebookresearch/bitsandbytes) library. This reduces the model's size from 20Gb down to just 6Gb.\n",
    "\n",
    "Note that we don't convert linear layer biases to 8 bit as they take up less that 1% of the model's weight anyway."
   ]
  },
  {
   "cell_type": "code",
   "execution_count": 2,
   "metadata": {
    "id": "P8Y75B6WDIN-"
   },
   "outputs": [],
   "source": [
    "class FrozenBNBLinear(nn.Module):\n",
    "    def __init__(self, weight, absmax, code, bias=None):\n",
    "        assert isinstance(bias, nn.Parameter) or bias is None\n",
    "        super().__init__()\n",
    "        self.out_features, self.in_features = weight.shape\n",
    "        self.register_buffer(\"weight\", weight.requires_grad_(False))\n",
    "        self.register_buffer(\"absmax\", absmax.requires_grad_(False))\n",
    "        self.register_buffer(\"code\", code.requires_grad_(False))\n",
    "        self.adapter = None\n",
    "        self.bias = bias\n",
    "\n",
    "    def forward(self, input):\n",
    "        output = DequantizeAndLinear.apply(input, self.weight, self.absmax, self.code, self.bias)\n",
    "        if self.adapter:\n",
    "            output += self.adapter(input)\n",
    "        return output\n",
    "\n",
    "    @classmethod\n",
    "    def from_linear(cls, linear: nn.Linear) -> \"FrozenBNBLinear\":\n",
    "        weights_int8, state = quantize_blockise_lowmemory(linear.weight)\n",
    "        return cls(weights_int8, *state, linear.bias)\n",
    "\n",
    "    def __repr__(self):\n",
    "        return f\"{self.__class__.__name__}({self.in_features}, {self.out_features})\"\n",
    "\n",
    "\n",
    "class DequantizeAndLinear(torch.autograd.Function):\n",
    "    @staticmethod\n",
    "    @custom_fwd\n",
    "    def forward(ctx, input: torch.Tensor, weights_quantized: torch.ByteTensor,\n",
    "                absmax: torch.FloatTensor, code: torch.FloatTensor, bias: torch.FloatTensor):\n",
    "        weights_deq = dequantize_blockwise(weights_quantized, absmax=absmax, code=code)\n",
    "        ctx.save_for_backward(input, weights_quantized, absmax, code)\n",
    "        ctx._has_bias = bias is not None\n",
    "        return F.linear(input, weights_deq, bias).clone()\n",
    "\n",
    "    @staticmethod\n",
    "    @custom_bwd\n",
    "    def backward(ctx, grad_output: torch.Tensor):\n",
    "        assert not ctx.needs_input_grad[1] and not ctx.needs_input_grad[2] and not ctx.needs_input_grad[3]\n",
    "        input, weights_quantized, absmax, code = ctx.saved_tensors\n",
    "        # grad_output: [*batch, out_features]\n",
    "        weights_deq = dequantize_blockwise(weights_quantized, absmax=absmax, code=code)\n",
    "        grad_input = grad_output @ weights_deq\n",
    "        grad_bias = grad_output.flatten(0, -2).sum(dim=0) if ctx._has_bias else None\n",
    "        return grad_input, None, None, None, grad_bias\n",
    "\n",
    "\n",
    "class FrozenBNBEmbedding(nn.Module):\n",
    "    def __init__(self, weight, absmax, code):\n",
    "        super().__init__()\n",
    "        self.num_embeddings, self.embedding_dim = weight.shape\n",
    "        self.register_buffer(\"weight\", weight.requires_grad_(False))\n",
    "        self.register_buffer(\"absmax\", absmax.requires_grad_(False))\n",
    "        self.register_buffer(\"code\", code.requires_grad_(False))\n",
    "        self.adapter = None\n",
    "\n",
    "    def forward(self, input, **kwargs):\n",
    "        with torch.no_grad():\n",
    "            # note: both quantuized weights and input indices are *not* differentiable\n",
    "            weight_deq = dequantize_blockwise(self.weight, absmax=self.absmax, code=self.code)\n",
    "            output = F.embedding(input, weight_deq, **kwargs)\n",
    "        if self.adapter:\n",
    "            output += self.adapter(input)\n",
    "        return output\n",
    "\n",
    "    @classmethod\n",
    "    def from_embedding(cls, embedding: nn.Embedding) -> \"FrozenBNBEmbedding\":\n",
    "        weights_int8, state = quantize_blockise_lowmemory(embedding.weight)\n",
    "        return cls(weights_int8, *state)\n",
    "\n",
    "    def __repr__(self):\n",
    "        return f\"{self.__class__.__name__}({self.num_embeddings}, {self.embedding_dim})\"\n",
    "\n",
    "\n",
    "def quantize_blockise_lowmemory(matrix: torch.Tensor, chunk_size: int = 2 ** 20):\n",
    "    assert chunk_size % 4096 == 0\n",
    "    code = None\n",
    "    chunks = []\n",
    "    absmaxes = []\n",
    "    flat_tensor = matrix.view(-1)\n",
    "    for i in range((matrix.numel() - 1) // chunk_size + 1):\n",
    "        input_chunk = flat_tensor[i * chunk_size: (i + 1) * chunk_size].clone()\n",
    "        quantized_chunk, (absmax_chunk, code) = quantize_blockwise(input_chunk, code=code)\n",
    "        chunks.append(quantized_chunk)\n",
    "        absmaxes.append(absmax_chunk)\n",
    "\n",
    "    matrix_i8 = torch.cat(chunks).reshape_as(matrix)\n",
    "    absmax = torch.cat(absmaxes)\n",
    "    return matrix_i8, (absmax, code)\n",
    "\n",
    "\n",
    "def convert_to_int8(model):\n",
    "    \"\"\"Convert linear and embedding modules to 8-bit with optional adapters\"\"\"\n",
    "    for module in list(model.modules()):\n",
    "        for name, child in module.named_children():\n",
    "            if isinstance(child, nn.Linear):\n",
    "                print(name, child)\n",
    "                setattr(\n",
    "                    module,\n",
    "                    name,\n",
    "                    FrozenBNBLinear(\n",
    "                        weight=torch.zeros(child.out_features, child.in_features, dtype=torch.uint8),\n",
    "                        absmax=torch.zeros((child.weight.numel() - 1) // 4096 + 1),\n",
    "                        code=torch.zeros(256),\n",
    "                        bias=child.bias,\n",
    "                    ),\n",
    "                )\n",
    "            elif isinstance(child, nn.Embedding):\n",
    "                setattr(\n",
    "                    module,\n",
    "                    name,\n",
    "                    FrozenBNBEmbedding(\n",
    "                        weight=torch.zeros(child.num_embeddings, child.embedding_dim, dtype=torch.uint8),\n",
    "                        absmax=torch.zeros((child.weight.numel() - 1) // 4096 + 1),\n",
    "                        code=torch.zeros(256),\n",
    "                    )\n",
    "                )"
   ]
  },
  {
   "cell_type": "code",
   "execution_count": 3,
   "metadata": {
    "id": "BOSZ-S1cDRq1"
   },
   "outputs": [],
   "source": [
    "# class GPTJBlock(transformers.models.gptj.modeling_gptj.GPTJBlock):\n",
    "#     def __init__(self, config):\n",
    "#         super().__init__(config)\n",
    "\n",
    "#         convert_to_int8(self.attn)\n",
    "#         convert_to_int8(self.mlp)\n",
    "\n",
    "\n",
    "# class GPTJModel(transformers.models.gptj.modeling_gptj.GPTJModel):\n",
    "#     def __init__(self, config):\n",
    "#         super().__init__(config)\n",
    "#         convert_to_int8(self)\n",
    "\n",
    "\n",
    "class GPTJForCausalLM(transformers.models.gptj.modeling_gptj.GPTJForCausalLM):\n",
    "    def __init__(self, config):\n",
    "        super().__init__(config)\n",
    "        convert_to_int8(self)\n",
    "\n",
    "\n",
    "# transformers.models.gptj.modeling_gptj.GPTJBlock = GPTJBlock  # monkey-patch GPT-J"
   ]
  },
  {
   "cell_type": "code",
   "execution_count": 5,
   "metadata": {
    "id": "pthEhmDBSyEm"
   },
   "outputs": [],
   "source": [
    "config = transformers.GPTJConfig.from_pretrained(\"EleutherAI/gpt-j-6B\")\n",
    "tokenizer = transformers.AutoTokenizer.from_pretrained(\"EleutherAI/gpt-j-6B\")"
   ]
  },
  {
   "cell_type": "code",
   "execution_count": 6,
   "metadata": {
    "colab": {
     "base_uri": "https://localhost:8080/"
    },
    "id": "DuW4H6HTS82r",
    "outputId": "d231fb6c-e187-43c5-8a35-04c2a4dca653"
   },
   "outputs": [
    {
     "name": "stdout",
     "output_type": "stream",
     "text": [
      "lm_head Linear(in_features=4096, out_features=50400, bias=True)\n",
      "k_proj Linear(in_features=4096, out_features=4096, bias=False)\n",
      "v_proj Linear(in_features=4096, out_features=4096, bias=False)\n",
      "q_proj Linear(in_features=4096, out_features=4096, bias=False)\n",
      "out_proj Linear(in_features=4096, out_features=4096, bias=False)\n",
      "fc_in Linear(in_features=4096, out_features=16384, bias=True)\n",
      "fc_out Linear(in_features=16384, out_features=4096, bias=True)\n",
      "k_proj Linear(in_features=4096, out_features=4096, bias=False)\n",
      "v_proj Linear(in_features=4096, out_features=4096, bias=False)\n",
      "q_proj Linear(in_features=4096, out_features=4096, bias=False)\n",
      "out_proj Linear(in_features=4096, out_features=4096, bias=False)\n",
      "fc_in Linear(in_features=4096, out_features=16384, bias=True)\n",
      "fc_out Linear(in_features=16384, out_features=4096, bias=True)\n",
      "k_proj Linear(in_features=4096, out_features=4096, bias=False)\n",
      "v_proj Linear(in_features=4096, out_features=4096, bias=False)\n",
      "q_proj Linear(in_features=4096, out_features=4096, bias=False)\n",
      "out_proj Linear(in_features=4096, out_features=4096, bias=False)\n",
      "fc_in Linear(in_features=4096, out_features=16384, bias=True)\n",
      "fc_out Linear(in_features=16384, out_features=4096, bias=True)\n",
      "k_proj Linear(in_features=4096, out_features=4096, bias=False)\n",
      "v_proj Linear(in_features=4096, out_features=4096, bias=False)\n",
      "q_proj Linear(in_features=4096, out_features=4096, bias=False)\n",
      "out_proj Linear(in_features=4096, out_features=4096, bias=False)\n",
      "fc_in Linear(in_features=4096, out_features=16384, bias=True)\n",
      "fc_out Linear(in_features=16384, out_features=4096, bias=True)\n",
      "k_proj Linear(in_features=4096, out_features=4096, bias=False)\n",
      "v_proj Linear(in_features=4096, out_features=4096, bias=False)\n",
      "q_proj Linear(in_features=4096, out_features=4096, bias=False)\n",
      "out_proj Linear(in_features=4096, out_features=4096, bias=False)\n",
      "fc_in Linear(in_features=4096, out_features=16384, bias=True)\n",
      "fc_out Linear(in_features=16384, out_features=4096, bias=True)\n",
      "k_proj Linear(in_features=4096, out_features=4096, bias=False)\n",
      "v_proj Linear(in_features=4096, out_features=4096, bias=False)\n",
      "q_proj Linear(in_features=4096, out_features=4096, bias=False)\n",
      "out_proj Linear(in_features=4096, out_features=4096, bias=False)\n",
      "fc_in Linear(in_features=4096, out_features=16384, bias=True)\n",
      "fc_out Linear(in_features=16384, out_features=4096, bias=True)\n",
      "k_proj Linear(in_features=4096, out_features=4096, bias=False)\n",
      "v_proj Linear(in_features=4096, out_features=4096, bias=False)\n",
      "q_proj Linear(in_features=4096, out_features=4096, bias=False)\n",
      "out_proj Linear(in_features=4096, out_features=4096, bias=False)\n",
      "fc_in Linear(in_features=4096, out_features=16384, bias=True)\n",
      "fc_out Linear(in_features=16384, out_features=4096, bias=True)\n",
      "k_proj Linear(in_features=4096, out_features=4096, bias=False)\n",
      "v_proj Linear(in_features=4096, out_features=4096, bias=False)\n",
      "q_proj Linear(in_features=4096, out_features=4096, bias=False)\n",
      "out_proj Linear(in_features=4096, out_features=4096, bias=False)\n",
      "fc_in Linear(in_features=4096, out_features=16384, bias=True)\n",
      "fc_out Linear(in_features=16384, out_features=4096, bias=True)\n",
      "k_proj Linear(in_features=4096, out_features=4096, bias=False)\n",
      "v_proj Linear(in_features=4096, out_features=4096, bias=False)\n",
      "q_proj Linear(in_features=4096, out_features=4096, bias=False)\n",
      "out_proj Linear(in_features=4096, out_features=4096, bias=False)\n",
      "fc_in Linear(in_features=4096, out_features=16384, bias=True)\n",
      "fc_out Linear(in_features=16384, out_features=4096, bias=True)\n",
      "k_proj Linear(in_features=4096, out_features=4096, bias=False)\n",
      "v_proj Linear(in_features=4096, out_features=4096, bias=False)\n",
      "q_proj Linear(in_features=4096, out_features=4096, bias=False)\n",
      "out_proj Linear(in_features=4096, out_features=4096, bias=False)\n",
      "fc_in Linear(in_features=4096, out_features=16384, bias=True)\n",
      "fc_out Linear(in_features=16384, out_features=4096, bias=True)\n",
      "k_proj Linear(in_features=4096, out_features=4096, bias=False)\n",
      "v_proj Linear(in_features=4096, out_features=4096, bias=False)\n",
      "q_proj Linear(in_features=4096, out_features=4096, bias=False)\n",
      "out_proj Linear(in_features=4096, out_features=4096, bias=False)\n",
      "fc_in Linear(in_features=4096, out_features=16384, bias=True)\n",
      "fc_out Linear(in_features=16384, out_features=4096, bias=True)\n",
      "k_proj Linear(in_features=4096, out_features=4096, bias=False)\n",
      "v_proj Linear(in_features=4096, out_features=4096, bias=False)\n",
      "q_proj Linear(in_features=4096, out_features=4096, bias=False)\n",
      "out_proj Linear(in_features=4096, out_features=4096, bias=False)\n",
      "fc_in Linear(in_features=4096, out_features=16384, bias=True)\n",
      "fc_out Linear(in_features=16384, out_features=4096, bias=True)\n",
      "k_proj Linear(in_features=4096, out_features=4096, bias=False)\n",
      "v_proj Linear(in_features=4096, out_features=4096, bias=False)\n",
      "q_proj Linear(in_features=4096, out_features=4096, bias=False)\n",
      "out_proj Linear(in_features=4096, out_features=4096, bias=False)\n",
      "fc_in Linear(in_features=4096, out_features=16384, bias=True)\n",
      "fc_out Linear(in_features=16384, out_features=4096, bias=True)\n",
      "k_proj Linear(in_features=4096, out_features=4096, bias=False)\n",
      "v_proj Linear(in_features=4096, out_features=4096, bias=False)\n",
      "q_proj Linear(in_features=4096, out_features=4096, bias=False)\n",
      "out_proj Linear(in_features=4096, out_features=4096, bias=False)\n",
      "fc_in Linear(in_features=4096, out_features=16384, bias=True)\n",
      "fc_out Linear(in_features=16384, out_features=4096, bias=True)\n",
      "k_proj Linear(in_features=4096, out_features=4096, bias=False)\n",
      "v_proj Linear(in_features=4096, out_features=4096, bias=False)\n",
      "q_proj Linear(in_features=4096, out_features=4096, bias=False)\n",
      "out_proj Linear(in_features=4096, out_features=4096, bias=False)\n",
      "fc_in Linear(in_features=4096, out_features=16384, bias=True)\n",
      "fc_out Linear(in_features=16384, out_features=4096, bias=True)\n",
      "k_proj Linear(in_features=4096, out_features=4096, bias=False)\n",
      "v_proj Linear(in_features=4096, out_features=4096, bias=False)\n",
      "q_proj Linear(in_features=4096, out_features=4096, bias=False)\n",
      "out_proj Linear(in_features=4096, out_features=4096, bias=False)\n",
      "fc_in Linear(in_features=4096, out_features=16384, bias=True)\n",
      "fc_out Linear(in_features=16384, out_features=4096, bias=True)\n",
      "k_proj Linear(in_features=4096, out_features=4096, bias=False)\n",
      "v_proj Linear(in_features=4096, out_features=4096, bias=False)\n",
      "q_proj Linear(in_features=4096, out_features=4096, bias=False)\n",
      "out_proj Linear(in_features=4096, out_features=4096, bias=False)\n",
      "fc_in Linear(in_features=4096, out_features=16384, bias=True)\n",
      "fc_out Linear(in_features=16384, out_features=4096, bias=True)\n",
      "k_proj Linear(in_features=4096, out_features=4096, bias=False)\n",
      "v_proj Linear(in_features=4096, out_features=4096, bias=False)\n",
      "q_proj Linear(in_features=4096, out_features=4096, bias=False)\n",
      "out_proj Linear(in_features=4096, out_features=4096, bias=False)\n",
      "fc_in Linear(in_features=4096, out_features=16384, bias=True)\n",
      "fc_out Linear(in_features=16384, out_features=4096, bias=True)\n",
      "k_proj Linear(in_features=4096, out_features=4096, bias=False)\n",
      "v_proj Linear(in_features=4096, out_features=4096, bias=False)\n",
      "q_proj Linear(in_features=4096, out_features=4096, bias=False)\n",
      "out_proj Linear(in_features=4096, out_features=4096, bias=False)\n",
      "fc_in Linear(in_features=4096, out_features=16384, bias=True)\n",
      "fc_out Linear(in_features=16384, out_features=4096, bias=True)\n",
      "k_proj Linear(in_features=4096, out_features=4096, bias=False)\n",
      "v_proj Linear(in_features=4096, out_features=4096, bias=False)\n",
      "q_proj Linear(in_features=4096, out_features=4096, bias=False)\n",
      "out_proj Linear(in_features=4096, out_features=4096, bias=False)\n",
      "fc_in Linear(in_features=4096, out_features=16384, bias=True)\n",
      "fc_out Linear(in_features=16384, out_features=4096, bias=True)\n",
      "k_proj Linear(in_features=4096, out_features=4096, bias=False)\n",
      "v_proj Linear(in_features=4096, out_features=4096, bias=False)\n",
      "q_proj Linear(in_features=4096, out_features=4096, bias=False)\n",
      "out_proj Linear(in_features=4096, out_features=4096, bias=False)\n",
      "fc_in Linear(in_features=4096, out_features=16384, bias=True)\n",
      "fc_out Linear(in_features=16384, out_features=4096, bias=True)\n",
      "k_proj Linear(in_features=4096, out_features=4096, bias=False)\n",
      "v_proj Linear(in_features=4096, out_features=4096, bias=False)\n",
      "q_proj Linear(in_features=4096, out_features=4096, bias=False)\n",
      "out_proj Linear(in_features=4096, out_features=4096, bias=False)\n",
      "fc_in Linear(in_features=4096, out_features=16384, bias=True)\n",
      "fc_out Linear(in_features=16384, out_features=4096, bias=True)\n",
      "k_proj Linear(in_features=4096, out_features=4096, bias=False)\n",
      "v_proj Linear(in_features=4096, out_features=4096, bias=False)\n",
      "q_proj Linear(in_features=4096, out_features=4096, bias=False)\n",
      "out_proj Linear(in_features=4096, out_features=4096, bias=False)\n",
      "fc_in Linear(in_features=4096, out_features=16384, bias=True)\n",
      "fc_out Linear(in_features=16384, out_features=4096, bias=True)\n",
      "k_proj Linear(in_features=4096, out_features=4096, bias=False)\n",
      "v_proj Linear(in_features=4096, out_features=4096, bias=False)\n",
      "q_proj Linear(in_features=4096, out_features=4096, bias=False)\n",
      "out_proj Linear(in_features=4096, out_features=4096, bias=False)\n",
      "fc_in Linear(in_features=4096, out_features=16384, bias=True)\n",
      "fc_out Linear(in_features=16384, out_features=4096, bias=True)\n",
      "k_proj Linear(in_features=4096, out_features=4096, bias=False)\n",
      "v_proj Linear(in_features=4096, out_features=4096, bias=False)\n",
      "q_proj Linear(in_features=4096, out_features=4096, bias=False)\n",
      "out_proj Linear(in_features=4096, out_features=4096, bias=False)\n",
      "fc_in Linear(in_features=4096, out_features=16384, bias=True)\n",
      "fc_out Linear(in_features=16384, out_features=4096, bias=True)\n",
      "k_proj Linear(in_features=4096, out_features=4096, bias=False)\n",
      "v_proj Linear(in_features=4096, out_features=4096, bias=False)\n",
      "q_proj Linear(in_features=4096, out_features=4096, bias=False)\n",
      "out_proj Linear(in_features=4096, out_features=4096, bias=False)\n",
      "fc_in Linear(in_features=4096, out_features=16384, bias=True)\n",
      "fc_out Linear(in_features=16384, out_features=4096, bias=True)\n",
      "k_proj Linear(in_features=4096, out_features=4096, bias=False)\n",
      "v_proj Linear(in_features=4096, out_features=4096, bias=False)\n",
      "q_proj Linear(in_features=4096, out_features=4096, bias=False)\n",
      "out_proj Linear(in_features=4096, out_features=4096, bias=False)\n",
      "fc_in Linear(in_features=4096, out_features=16384, bias=True)\n",
      "fc_out Linear(in_features=16384, out_features=4096, bias=True)\n",
      "k_proj Linear(in_features=4096, out_features=4096, bias=False)\n",
      "v_proj Linear(in_features=4096, out_features=4096, bias=False)\n",
      "q_proj Linear(in_features=4096, out_features=4096, bias=False)\n",
      "out_proj Linear(in_features=4096, out_features=4096, bias=False)\n",
      "fc_in Linear(in_features=4096, out_features=16384, bias=True)\n",
      "fc_out Linear(in_features=16384, out_features=4096, bias=True)\n"
     ]
    },
    {
     "data": {
      "text/plain": [
       "GPTJForCausalLM(\n",
       "  (transformer): GPTJModel(\n",
       "    (wte): FrozenBNBEmbedding(50400, 4096)\n",
       "    (drop): Dropout(p=0.0, inplace=False)\n",
       "    (h): ModuleList(\n",
       "      (0-27): 28 x GPTJBlock(\n",
       "        (ln_1): LayerNorm((4096,), eps=1e-05, elementwise_affine=True)\n",
       "        (attn): GPTJAttention(\n",
       "          (attn_dropout): Dropout(p=0.0, inplace=False)\n",
       "          (resid_dropout): Dropout(p=0.0, inplace=False)\n",
       "          (k_proj): FrozenBNBLinear(4096, 4096)\n",
       "          (v_proj): FrozenBNBLinear(4096, 4096)\n",
       "          (q_proj): FrozenBNBLinear(4096, 4096)\n",
       "          (out_proj): FrozenBNBLinear(4096, 4096)\n",
       "        )\n",
       "        (mlp): GPTJMLP(\n",
       "          (fc_in): FrozenBNBLinear(4096, 16384)\n",
       "          (fc_out): FrozenBNBLinear(16384, 4096)\n",
       "          (act): NewGELUActivation()\n",
       "          (dropout): Dropout(p=0.0, inplace=False)\n",
       "        )\n",
       "      )\n",
       "    )\n",
       "    (ln_f): LayerNorm((4096,), eps=1e-05, elementwise_affine=True)\n",
       "  )\n",
       "  (lm_head): FrozenBNBLinear(4096, 50400)\n",
       ")"
      ]
     },
     "execution_count": 6,
     "metadata": {},
     "output_type": "execute_result"
    }
   ],
   "source": [
    "gpt = GPTJForCausalLM.from_pretrained(\"hivemind/gpt-j-6B-8bit\", low_cpu_mem_usage=True)\n",
    "\n",
    "device = 'cuda' if torch.cuda.is_available() else 'cpu'\n",
    "gpt.to(device)"
   ]
  },
  {
   "cell_type": "markdown",
   "metadata": {
    "id": "YRF2QqvzENCr"
   },
   "source": [
    "### Text generation example"
   ]
  },
  {
   "cell_type": "code",
   "execution_count": 50,
   "metadata": {
    "colab": {
     "base_uri": "https://localhost:8080/",
     "height": 178
    },
    "id": "RJd45kFaZ1Ba",
    "outputId": "a5c4310a-0999-489e-f633-4a8838833f27"
   },
   "outputs": [
    {
     "name": "stderr",
     "output_type": "stream",
     "text": [
      "Setting `pad_token_id` to `eos_token_id`:50256 for open-end generation.\n"
     ]
    },
    {
     "data": {
      "text/plain": [
       "\"The results of a systematic study of the otological aspects in 13 cases of earpit-deafness syndrome are reported. The audiometric, radiological and vestibular findings as well as the results of exploratory tympanotomies with and without stapedectomies are discussed together with the results reported in the literature. A convincing explanation of the poor results of exploratory tympanotomies in cases with mixed hearing loss is not furnished. If the hearing loss is confined to conduction and ankylosis of the stapes or a disconnection of the ossicular chain is suspected, exploratory tympanotomy can be expected to be successful. \\n\\n##\\n\\n  TABLES\\n\\nPURPOSE OF THE STUDY: To demonstrate the usefulness of exploratory tympanotomy in the assessment of cases of ear pathology with hearing loss. METHODS/PROCEDURE: This retrospective study involves the examination of patients treated for ear pathology during the period from August 1994 to September 2000 at the Otolaryngology Department, ENT Clinic of University of Siena (Italy). The main symptoms and the data pertaining to diagnosis and treatment (imaging techniques - radiology and clinical examination) or diagnosis and surgical treatment (otoscopy, vestibular evoked myogenic potentials - VEMP's and air-conducted pure-tone audiometry) were recorded and analysed. The diagnosis was made clinically, when possible on the basis of the most careful anamnesis, but also by means of instrumental diagnosis. The first diagnosis was confirmed and/or modified at every exploratory tympanotomy according to the findings of the vestibular tests and/or radiogrammetry. The degree of auditory, vestibular and otic capsule integrity was also taken into consideration during surgery. The results of auditory diagnosis were evaluated on the basis of the results of surgical exploration. RESULTS: Thirteen patients were treated: nine of these after a medical examination and four after surgical treatment alone. The diagnosis was made clinically in eight cases. Two lesions--fibroma of the saccule and middle ear haemorrhage--were diagnosed as malignant tumours on the basis of histological examination. A unilateral perilymphatic fistula due to a chronic otitis media--otosclerosis syndrome--was diagnosed in the remaining three patients. The degree of integrity at histological examination--performed whenever possible--was always more than 90%, but at the examination performed during\""
      ]
     },
     "execution_count": 50,
     "metadata": {},
     "output_type": "execute_result"
    }
   ],
   "source": [
    "device = 'cuda'\n",
    "gpt.to(device)\n",
    "prompt = tokenizer(\"The results of a systematic study of the otological aspects in 13 cases of earpit-deafness syndrome are reported. The audiometric, radiological and vestibular findings as well as the results of exploratory tympanotomies with and without stapedectomies are discussed together with the results reported in the literature. A convincing explanation of the poor results of exploratory tympanotomies in cases with mixed hearing loss is not furnished. If the hearing loss is confined to conduction and ankylosis of the stapes or a disconnection of the ossicular chain is suspected, exploratory tympanotomy can be expected to be successful. \\n\\n##\\n\\n\", return_tensors='pt')\n",
    "prompt = {key: value.to(device) for key, value in prompt.items()}\n",
    "out = gpt.generate(**prompt, min_length=128, max_length=512, do_sample=True)\n",
    "tokenizer.decode(out[0])"
   ]
  },
  {
   "cell_type": "markdown",
   "metadata": {},
   "source": [
    "earpit | HP_0004467\\n deafness | HP_0000404\\n mixed hearing loss | HP_0000410\\n hearing loss | HP_0000365\\n conduction | HP_0000405\\n ankylosis of the stapes | HP_0000381\\n disconnection of the ossicular chain | HP_0004452\\n END'"
   ]
  },
  {
   "cell_type": "markdown",
   "metadata": {
    "id": "vfdLQHOuEU7h"
   },
   "source": [
    "### LoRA fine-tuning example\n",
    "Here we demonstrate how to fine-tune the proposed model using low-rank adapters [(Hu et al, 2021)](https://arxiv.org/abs/2106.09685) and [8-bit Adam](https://arxiv.org/abs/2110.02861). We also use [dataset streaming API](https://huggingface.co/docs/datasets/dataset_streaming.html) to avoid downloading the large dataset."
   ]
  },
  {
   "cell_type": "code",
   "execution_count": null,
   "metadata": {},
   "outputs": [],
   "source": []
  },
  {
   "cell_type": "code",
   "execution_count": 4,
   "metadata": {
    "colab": {
     "base_uri": "https://localhost:8080/"
    },
    "id": "V5ctu4Q5aq-g",
    "outputId": "7e7173b6-21f0-4590-d124-542be5dfbc0b"
   },
   "outputs": [],
   "source": [
    "def add_adapters(model, adapter_dim=16):\n",
    "    assert adapter_dim > 0\n",
    "\n",
    "    for module in model.modules():\n",
    "        if isinstance(module, FrozenBNBLinear):\n",
    "            module.adapter = nn.Sequential(\n",
    "                nn.Linear(module.in_features, adapter_dim, bias=False),\n",
    "                nn.Linear(adapter_dim, module.out_features, bias=False),\n",
    "            )\n",
    "            nn.init.zeros_(module.adapter[1].weight)\n",
    "        elif isinstance(module, FrozenBNBEmbedding):\n",
    "            module.adapter = nn.Sequential(\n",
    "                nn.Embedding(module.num_embeddings, adapter_dim),\n",
    "                nn.Linear(adapter_dim, module.embedding_dim, bias=False),\n",
    "            )\n",
    "            nn.init.zeros_(module.adapter[1].weight)\n",
    "\n",
    "# add_adapters(gpt)\n",
    "# gpt.to(device)"
   ]
  },
  {
   "cell_type": "code",
   "execution_count": 8,
   "metadata": {
    "id": "JUAlbEAl-w3A"
   },
   "outputs": [],
   "source": [
    "from datasets import load_dataset\n",
    "from bitsandbytes.optim import Adam8bit\n",
    "\n",
    "gpt.gradient_checkpointing_enable()\n",
    "\n",
    "# codeparrot = load_dataset(\"transformersbook/codeparrot-train\", streaming=True)\n",
    "optimizer = Adam8bit(gpt.parameters(), lr=1e-5)"
   ]
  },
  {
   "cell_type": "code",
   "execution_count": 9,
   "metadata": {
    "id": "sfgUK0pnKyF1"
   },
   "outputs": [],
   "source": [
    "# from google.colab import drive\n",
    "# drive.mount('/content/drive')"
   ]
  },
  {
   "cell_type": "code",
   "execution_count": 7,
   "metadata": {
    "id": "GansOkR-LimA"
   },
   "outputs": [],
   "source": [
    "import pandas as pd\n",
    "# path = '/content/drive/MyDrive/biolarkgsc_locs.csv'\n",
    "path = './biolarkgsc_locs.csv'\n",
    "biolark = pd.read_csv(path, sep='\\t')"
   ]
  },
  {
   "cell_type": "code",
   "execution_count": 8,
   "metadata": {
    "colab": {
     "base_uri": "https://localhost:8080/"
    },
    "id": "lK9qa3EUN9XH",
    "outputId": "7c472506-f2aa-4766-82aa-2c0497d3e05e"
   },
   "outputs": [
    {
     "data": {
      "text/plain": [
       "(205, 23)"
      ]
     },
     "execution_count": 8,
     "metadata": {},
     "output_type": "execute_result"
    }
   ],
   "source": [
    "from sklearn.model_selection import train_test_split\n",
    "train_df, test_df = train_test_split(biolark, test_size=0.1, random_state=42)\n",
    "len(train_df), len(test_df)"
   ]
  },
  {
   "cell_type": "code",
   "execution_count": 9,
   "metadata": {},
   "outputs": [],
   "source": [
    "def preprocess(train_df):\n",
    "    rows = []\n",
    "    for i, row in train_df.iterrows():\n",
    "#         bad examples in train_df\n",
    "#         if i in {160,7,23,76}:\n",
    "#             continue\n",
    "        list_hpo = row.labels.split(';')\n",
    "        list_hpo_pair = [[_.split('|')[0], _.split('|')[1].split(':')]  for _ in list_hpo]\n",
    "        # print(list_hpo_pair)\n",
    "        # for hpo, [s,e] in list_hpo_pair:\n",
    "        #     print(row.text[int(s)-50:int(e)+50])\n",
    "        # break\n",
    "        ans = \"\"\n",
    "        hpos = set()\n",
    "        for hpo, [s,e] in list_hpo_pair:\n",
    "            if hpo in hpos:\n",
    "                continue\n",
    "            ans += ' ' + row.text[int(s):int(e)] + ' | ' + hpo + '\\n'\n",
    "            hpos.add(hpo)\n",
    "        ans += ' END'\n",
    "        text = row.text+' \\n\\n##\\n\\n '+ans\n",
    "        rows.append(text)\n",
    "#         rows.append({\"prompt\":f\"{row.text}\\n\\n###\\n\\n\", \"completion\":f\" {ans}\"})\n",
    "    return rows"
   ]
  },
  {
   "cell_type": "code",
   "execution_count": 10,
   "metadata": {},
   "outputs": [
    {
     "data": {
      "text/plain": [
       "['Familial Angelman syndrome (AS) can result from mutations in chromosome 15q11q13 that, when transmitted from father to child, result in no phenotypic abnormality but, when transmitted from mother to child, cause AS. These mutations therefore behave neither as dominant nor as recessive mutations but, rather, show an imprinted mode of inheritance. We have analyzed two sibling pairs with AS and a larger family with four AS offspring of three sisters with several recently described microsatellite polymorphisms in the AS region. AS siblings inherited the same maternal alleles at the GABRB3 and GABRA5 loci, and the unaffected siblings of AS individuals inherited the other maternal alleles at these loci. In one of the AS sibling pairs, analysis of a recombination event indicates that the mutation responsible for AS is distal to locus D15S63. This result is consistent with a previously described imprinted submicroscopic deletion causing AS, a deletion that includes loci D15S10, D15S113, and GABRB3, all distal to D15S63. The analysis of the larger AS family provides the first clear demonstration of a new mutation in nondeletion AS. Analysis of linkage of AS to GABRB3 in these three families, on the assumption of imprinted inheritance (i.e., penetrance of an AS mutation is 1 if transmitted maternally and is 0 if transmitted paternally), indicates a maximum lod score of 3.52 at theta = 0. \\n\\n##\\n\\n  phenotypic abnormality | HP_0000118\\n dominant | HP_0000006\\n mode of inheritance | HP_0000005\\n END',\n",
       " 'The nevoid basal-cell carcinoma syndrome is characterized by major manifestations, such as multiple basal-cell carcinomata, cysts of the jaws, and skeletal--specifically, rib--abnormalities. Findings in 53 patients and a review of the literature document both major and lesser-known manifestations of the disorder. The odontogenic keratocyst, which usually appears during adolescence, has a marked tendency to recur. In addition to the skin tumors, milia, epidermoid cysts, chalazia, comedones, and palmar and plantar pits are frequent. The skin tumors, originally thought to be independent of sun exposure, are more common in sun-exposed areas and are far less frequent and occur at a much later age in blacks than in whites. There is some evidence that radiation of the skin promotes the appearance of skin cancers in this disorder. Unilateral linear nevoid basal-cell carcinomas with comedones may represent postzygotic somatic mutation. A proclivity to other forms of neoplasia exists. Patients with this syndrome have had medulloblastoma, meningioma, ovarian fibroma, ovarian fibrosarcoma, fibrosarcoma of the jaws, cardiac fibroma, fetal rhabdomyoma, and lymphatic or chylous cysts of the mesentery. In addition to the usual modalities of treatment, topical immunotherapy and topical 5-fluorouracil have been used with success. Oral synthetic retinoids, such as 13-cis-retinoic acid, have been used to prevent new lesions from appearing and to arrest the growth of older lesions by inducing differentiation. The independent observations of increased prostaglandin levels associated both with odontogenic keratocyst expansion and aggression of basal cell cancers merit further investigation both as a fundamental cellular mechanism and as a possible basis for treatment (e.g., with antiprostaglandins). The key to pre- and early postnatal diagnosis of the disorder--as well as to an understanding of the basic abnormality--lies in molecular genetics. Prime attention should be given to finding the site of the gene through the use of DNA and other markers. \\n\\n##\\n\\n  basal-cell carcinoma | HP_0002671\\n cysts of the jaws | HP_0010603\\n skeletal--specifically | HP_0000924\\n rib--abnormalities | HP_0000772\\n appears during adolescence | HP_0003590\\n adolescence | HP_0011462\\n skin tumors | HP_0008069\\n tumors | HP_0002664\\n milia | HP_0001056\\n epidermoid cysts | HP_0200040\\n chalazia | HP_0010605\\n comedones | HP_0000951\\n palmar and plantar pits | HP_0010610\\n plantar pits | HP_0010612\\n pits | HP_0004467\\n somatic mutation | HP_0001428\\n medulloblastoma | HP_0002885\\n meningioma | HP_0002858\\n ovarian fibroma | HP_0010618\\n ovarian fibrosarcoma | HP_0000137\\n fibrosarcoma | HP_0100244\\n fibrosarcoma of the jaws | HP_0000209\\n cardiac fibroma | HP_0010617\\n rhabdomyoma | HP_0009730\\n aggression | HP_0000718\\n END',\n",
       " 'Hereditary isolated brachydactyly type C (OMIM 113100) mostly follows an autosomal dominant pattern of inheritance with a marked variability in expression. This phenotype has been mapped to two different loci on chromosomes 12q24 and 20q11.2. The latter locus contains the cartilage-derived morphogenetic protein (CDMP)1 gene, in which a null mutation has been found in patients with malformations restricted to the upper limbs. A more complex brachydactyly type C phenotype has been mapped to chromosome 12q24. Differences in complexity of these phenotypes have been attributed to locus heterogeneity. Clinical subclassification based on the degree of complexity of the phenotype has therefore been suggested. We present patients with a complex brachydactyly type C phenotype in whom there is considerable intra- and interfamilial variability in expression. We show that clinical subclassification based on the complexity of the brachydactyly type C phenotype related to the genetic defect is not feasible. We present evidence that differences in complexity are not only due to locus heterogeneity, but that genetic modifiers and/or environmental factors must also play a role. \\n\\n##\\n\\n  brachydactyly | HP_0001156\\n brachydactyly type C | HP_0009373\\n autosomal dominant | HP_0000006\\n marked variability in expression | HP_0003828\\n variability | HP_0003812\\n malformations restricted to the upper limbs | HP_0002817\\n locus heterogeneity | HP_0001425\\n considerable intra- and interfamilial variability | HP_0003822\\n END',\n",
       " 'The results of a systematic study of the otological aspects in 13 cases of earpit-deafness syndrome are reported. The audiometric, radiological and vestibular findings as well as the results of exploratory tympanotomies with and without stapedectomies are discussed together with the results reported in the literature. A convincing explanation of the poor results of exploratory tympanotomies in cases with mixed hearing loss is not furnished. If the hearing loss is confined to conduction and ankylosis of the stapes or a disconnection of the ossicular chain is suspected, exploratory tympanotomy can be expected to be successful. \\n\\n##\\n\\n  earpit | HP_0004467\\n deafness | HP_0000404\\n mixed hearing loss | HP_0000410\\n hearing loss | HP_0000365\\n conduction | HP_0000405\\n ankylosis of the stapes | HP_0000381\\n disconnection of the ossicular chain | HP_0004452\\n END',\n",
       " 'Six patients, including two sibs, with Angelman syndrome (AS; three females and three males, aged 11 to 18 years) were studied cytogenetically. Molecular analysis was also performed. Using high-resolution banding technique, we detected a microdeletion in the proximal region of chromosome 15q in four cases. The deleted segment was heterogenous between these patients, and the common deleted region appeared to be 15q11.2. Four patients with deleted 15q were all sporadic cases, whereas in the sib cases we could not detect a visible deletion in the long arm of chromosome 15. However, there was no clinical difference between sporadic cases and sib cases. Densitometric analysis of autoradiographic bands of Southern hybridization using two DNA segments, pML34 and pTD3-21, as probes demonstrated that two patients had only one copy for each of the probes. In the remaining four patients, including the sibs, two copies of each sequence were retained. The probes used here detect a molecular deletion in most Prader-Willi syndrome patients. Thus the segment causing AS is localized adjacent to the critical segment of Prader-Willi syndrome. There seemed to be heterogeneity for the molecular deletion within AS individuals. \\n\\n##\\n\\n  sporadic | HP_0003745\\n heterogeneity | HP_0001425\\n END',\n",
       " 'A pedigree of branchio-oto-renal dysplasia (the BOR syndrome) is reported, including the documentation by serial audiometric studies of the onset and rapid progression of hearing loss in the twin sister of an affected child. The literature on this syndrome is analyzed to derive some figures for use in genetic counseling of such families. Branchio-oto-renal dysplasia is an autosomal dominant disorder in which affected individuals may have preauricular pits, lachrymal duct stenosis, hearing loss, branchial fistulas or cysts, structural defects of the outer, middle, and inner ear, and renal anomalies, which may range from mild hypoplasia to complete absence. Not all features of the syndrome are expressed in all carriers of the gene, but few carriers lack all the features, and the pits, branchial clefts, and hearing loss, are frequently expressed. Those offspring of affected persons who have pits or fistulas are likely (about 80%) to have hearing loss of varying degrees of severity. A minority of heterozygotes (about 7%) may have hearing loss without pits or fistulas. The risk of severe renal malformation is probably fairly low. Whether families that show dominant inheritance of pits, clefts, and deafness without renal anomalies represent variants of the BOR syndrome or a separate entity (the BO syndrome), is still not clear. At present, any individual with preauricular pits and branchial clefts deserves both otologic and renal investigation. \\n\\n##\\n\\n  renal dysplasia | HP_0000110\\n rapid progression | HP_0003678\\n hearing loss | HP_0000365\\n autosomal dominant | HP_0000006\\n preauricular pits | HP_0004467\\n lachrymal duct stenosis | HP_0007925\\n branchial fistulas or cysts | HP_0009796\\n branchial | HP_0009794\\n branchial fistulas | HP_0009795\\n structural defects of the outer, middle, and inner ear | HP_0000598\\n renal anomalies | HP_0000077\\n renal malformation | HP_0000792\\n deafness | HP_0000404\\n END',\n",
       " 'Growth/differentiation factor 5 (GDF5) is a secreted growth factor that plays a key regulatory role in embryonic skeletal and joint development. Mutations in the GDF5 gene can cause different types of skeletal dysplasia, including brachydactyly type C (BDC) and proximal symphalangism (SYM1). We report two novel mutations in the GDF5 gene in Chinese families with distinct limb malformations. In one family affected with BDC, we identified a novel nonsense mutation, c.1461T > G (p.Y487X), which is predicted to truncate the GDF5 precursor protein by deleting 15 amino acids at its C-terminus. In one family with SYM1, we found a novel missense mutation, c.1118T > G (p.L373R), which changes a highly conserved amino acid in the prodomain of GDF5. We transfected COS-7 cells with retroviral constructs to express human wild-type or mutant GDF5 cDNAs. The mature GDF5 protein was detected, as in the wild-type, in supernatant derived from the p.L373R mutant GDF5 transfected cells, but not in the supernatant from the p.Y487X mutant transfected cells, indicating that the two mutations led to different fates of the mutant GDF5 proteins, thereby producing distinct limb phenotypes. \\n\\n##\\n\\n  skeletal dysplasia | HP_0002652\\n brachydactyly | HP_0001156\\n brachydactyly type C | HP_0009373\\n proximal symphalangism | HP_0100264\\n limb malformations | HP_0002813\\n END',\n",
       " 'Gorlin syndrome is an autosomal dominant disorder characterized by multiple basal cell carcinomas, medulloblastomas, ovarian fibromas, and a variety of developmental defects. All affected individuals share certain key features, but there is significant phenotypic variability within and among kindreds with respect to malformations. The gene (NBCCS) maps to chromosome 9q22, and allelic loss at this location is common in tumors from Gorlin syndrome patients. Two recessive cancer-predisposition syndromes, xeroderma pigmentosum group A (XPAC) and Fanconi anemia group C (FACC), map to the NBCCS region; and unusual, dominant mutations in these genes have been proposed as the cause of Gorlin syndrome. This study presents cytogenetic and molecular characterization of germ-line deletions in one patient with a chromosome 9q22 deletion and in a second patient with a deletion of 9q22-q3l. Both have typical features of Gorlin syndrome plus additional findings, including mental retardation, conductive hearing loss, and failure to thrive. That Gorlin syndrome can be caused by null mutations (deletions) rather than by activating mutations has several implications. First, in conjunction with previous analyses of allelic loss in tumors, this study provides evidence that associated neoplasms arise with homozygous inactivation of the gene. In addition, dominant mutations of the XPAC and FACC1 genes can be ruled out as the cause of Gorlin syndrome, since the two patients described have null mutations. Finally, phenotypic features that show variable expression must be influenced by genetic background, epigenetic effects, somatic mutations, or environmental factors, since these two patients with identical alterations (deletions) of the Gorlin syndrome gene have somewhat different manifestations of Gorlin syndrome. \\n\\n##\\n\\n  autosomal dominant | HP_0000006\\n basal cell carcinomas | HP_0002671\\n medulloblastomas | HP_0002885\\n ovarian fibromas | HP_0010618\\n developmental defects | HP_0001263\\n significant phenotypic variability within and among kindreds | HP_0003822\\n phenotypic variability | HP_0003812\\n tumors | HP_0002664\\n mental retardation | HP_0001249\\n conductive hearing loss | HP_0000405\\n hearing loss | HP_0000365\\n failure to thrive | HP_0001508\\n variable | HP_0003813\\n variable expression | HP_0003828\\n END',\n",
       " 'The neurofibromatosis type 2 (NF2) gene has been hypothesized to be a recessive tumor suppressor, with mutations at the same locus on chromosome 22 that lead to NF2 also leading to sporadic tumors of the types seen in NF2. Flanking markers for this gene have previously been defined as D22S1 centromeric and D22S28 telomeric. Identification of subregions of this interval that are consistently rearranged in the NF2-related tumors would aid in better defining the disease locus. To this end, we have compared tumor and constitutional DNAs, isolated from 39 unrelated patients with sporadic and NF2-associated acoustic neuromas, meningiomas, schwannomas, and ependymomas, at eight polymorphic loci on chromosome 22. Two of the tumors studied revealed loss-of-heterozygosity patterns, which is consistent with the presence of chromosome 22 terminal deletions. By using additional polymorphic markers, the terminal deletion breakpoint found in one of the tumors, an acoustic neuroma from an NF2 patient, was mapped within the previously defined NF2 region. The breakpoint occurred between the haplotyped markers D22S41/D22S46 and D22S56. This finding redefines the proximal flanking marker and localizes the NF2 gene between markers D22S41/D22S46 and D22S28. In addition, we identified a sporadic acoustic neuroma that reveals a loss-of-heterozygosity pattern consistent with mitotic recombination or deletion and reduplication, which are mechanisms not previously seen in studies of these tumors. This finding, while inconsistent with models of tumorigenesis that invoke single deletions and their gene-dosage effects, lends further support to the recessive tumor-suppressor model. \\n\\n##\\n\\n  neurofibromatosis | HP_0006746\\n tumor | HP_0002664\\n sporadic | HP_0003745\\n acoustic neuromas | HP_0009588\\n meningiomas | HP_0002858\\n schwannomas | HP_0100008\\n ependymomas | HP_0002888\\n END',\n",
       " 'We describe a new family with the Townes-Brocks syndrome, a dominantly inherited syndrome of anal, urorenal, ear and limb malformations. The proband shows the full spectrum of anomalies, including imperforate anus, prominent perineal raphe, rectoperineal fistula, triphalangeal thumb, preaxial hexadactyly, syndactyly, clinodactyly, preauricular protuberances, hypoplastic satyr ears, sensorineural hearing loss and urorenal anomalies. In contrast, the father shows only limb anomalies, sensorineural hearing loss and renal anomalies. Anorectal malformations, which are present in almost every patient with the Townes-Brocks syndrome, were absent in the father. This case report illustrates the intrafamilial variability of the Townes-Brocks syndrome. Consequently, careful examination of relatives of patients with this syndrome is necessary for the differential diagnosis with the sporadically inherited VA(C)TER(L) association. \\n\\n##\\n\\n  dominantly inherited | HP_0000006\\n anal, urorenal, ear and limb malformations | HP_0004378\\n urorenal, ear and limb malformations | HP_0000077\\n ear and limb malformations | HP_0000598\\n limb malformations | HP_0002813\\n imperforate anus | HP_0002023\\n prominent perineal raphe | HP_0003246\\n rectoperineal fistula | HP_0004792\\n triphalangeal thumb | HP_0001199\\n preaxial hexadactyly | HP_0001177\\n syndactyly | HP_0001159\\n clinodactyly | HP_0030084\\n preauricular protuberances | HP_0000384\\n hypoplastic satyr ears | HP_0000377\\n sensorineural hearing loss | HP_0000407\\n hearing loss | HP_0000365\\n urorenal anomalies | HP_0000079\\n Anorectal malformations | HP_0002034\\n intrafamilial variability | HP_0003822\\n variability | HP_0003812\\n END',\n",
       " 'Gorlin syndrome is an autosomal dominant disorder that predisposes to basal cell carcinomas of the skin, ovarian fibromas, and medulloblastomas. Unlike other hereditary disorders associated with cancer, it features widespread developmental defects. To investigate the possibility that the syndrome is caused by mutation in a tumor suppressor gene, we searched for loss of heterozygosity in 16 sporadic basal cell carcinomas, 2 hereditary basal cell carcinomas, and 1 hereditary ovarian fibroma and performed genetic linkage studies in five Gorlin syndrome kindreds. Eleven sporadic basal cell carcinomas and all 3 hereditary tumors had allelic loss of chromosome 9q31, and all informative kindreds showed tight linkage between the Gorlin syndrome gene and a genetic marker in this region. Loss of heterozygosity at this chromosomal location, particularly in hereditary tumors, implies that the gene is homozygously inactivated and normally functions as a tumor suppressor. In contrast, hemizygous germline mutations lead to multiple congenital anomalies. \\n\\n##\\n\\n  autosomal dominant disorder | HP_0000006\\n basal cell carcinomas | HP_0002671\\n ovarian fibromas | HP_0010618\\n medulloblastomas | HP_0002885\\n cancer | HP_0002664\\n developmental defects | HP_0001263\\n sporadic | HP_0003745\\n END',\n",
       " 'Older paternal age has previously been documented as a factor in sporadic fresh mutational cases of several autosomal dominant disorders. In this collaborative study, an older mean paternal age has been documented in sporadic cases of at least five additional dominantly inheritable disorders; the basal cell nevus syndrome, the Waardenburg syndrome, the Crouzon syndrome, the oculo-dental-digital sysdrome, and the Treacher-Collins syndrome. It was also found to be a factor in acrodysostosis and progeria, suggesting a fresh mutant gene etiology for these two conditions in which virtually all cases have been sporadic and the mode of genetic etiology has been unknown. \\n\\n##\\n\\n  sporadic | HP_0003745\\n autosomal dominant | HP_0000006\\n basal cell nevus syndrome | HP_0002671\\n END',\n",
       " 'Deletions, duplications, and rearrangements of the long arm of chromosome 15 are frequently associated with the clinical diagnosis of the Prader-Willi syndrome. However, a number of other clinical entities have also been associated with similar, if not identical, cytogenetic defects, arguing for clinical heterogeneity associated with abnormalities in this region of chromosome 15. We present 3 patients who all appear to have deletions in 15q11-15q12, such as described for many patients with Prader-Willi syndrome; however, none of these patients has classical clinical features of the Prader-Willi syndrome. The first patient is a child with Williams syndrome, the second, Angelman (Happy Puppet) syndrome, and the third is a child with hypotonia of infancy, obesity, and developmental delay, but who does not meet specific diagnostic criteria for the Prader-Willi syndrome. It is proposed that different molecular abnormalities involving specific points or segments along the long arm of chromosome 15 might account for the clinical diversity seen among these and other patients. \\n\\n##\\n\\n  clinical heterogeneity | HP_0003812\\n heterogeneity | HP_0001425\\n hypotonia of infancy | HP_0001319\\n hypotonia | HP_0001252\\n infancy | HP_0003576\\n obesity | HP_0001513\\n developmental delay | HP_0001263\\n END',\n",
       " 'Nineteen of 421 white children in Montreal schools for the deaf had preauricular pits. The branchio-oto-renal (BOR syndrome was identified in four of the nine families who agreed to family investigation, including audiograms and intravenous pyelograms (IVPs) and may have been present in several others. The penetrance of this autosomal dominant syndrome appears to be high. It is estimated that severe renal dysplasia occurs in about 6% of heterozygotes. The presence of a preauricular pit at birth suggests that the child has at least one chance in 200 of severe hearing loss, and this warrants a careful family history, as well as alertness for any signs of hearing impairment. Offspring of affected individuals are eligible for parental diagnosis of renal dysplasia. \\n\\n##\\n\\n  deaf | HP_0000404\\n preauricular pits | HP_0004467\\n autosomal dominant | HP_0000006\\n renal dysplasia | HP_0000110\\n hearing loss | HP_0000365\\n END',\n",
       " 'The diagnosis, size and operation results in 41 acoustic neurinomas (26 females and 15 males) are presented. In one case the tumor was bilateral. Out of the total of 41 tumors, 12.5% were small acoustic neurinomas. As a rule, at diagnosis the tumors were larger in females than in males. Ten of the small and medium size acoustic neurinomas had no brain stem and cerebellar symptoms or signs at all, only the 8th cranial nerve was affected. All large tumors already had brain stem symptoms and one-third of them also had cerebellar symptoms, lesions of further cranial nerves and increasing intracranial pressure. All these findings were always present in giant tumors. Neurootological functional laboratory examinations cannot be replaced by CT because of the possibility of false negative findings in the smallest acoustic neurinomas. CT and functional neurootological laboratory examinations are complementary to each other and they are not screening procedures at all. As regards morbidity and mortality, the surgical results are comparable with those of other authors using microsurgical techniques. As regards the preservation of hearing, the results are among the best particularly in tumors that were diagnosed as small or medium in this series. Thus it is apparent that the size of a diagnosed acoustic neurinoma is more important for surgical results than the chosen approach to the tumor. \\n\\n##\\n\\n  acoustic neurinomas | HP_0009588\\n tumor | HP_0002664\\n cerebellar symptoms | HP_0001317\\n 8th cranial nerve | HP_0009591\\n brain stem symptoms | HP_0002363\\n lesions of further cranial nerves | HP_0001291\\n increasing intracranial pressure | HP_0002516\\n END',\n",
       " 'Branchio-oto-renal (BOR) and Stickler (STL) syndromes are disorders that include hearing loss among their clinical features. STL syndrome type I (STL1) is a combination of ophthalmic, orofacial, articular, and auditory manifestations, caused by mutations in the COL2A1. BOR syndrome is an autosomal dominant trait encompassing branchial, otic and renal anomalies because of mutations in EYA1, SIX1 and SIX5. In this study, we have clinically and genetically diagnosed a proband that displayed STL1 and BOR syndromes. This patient and his younger brother exhibited hearing loss and cleft palate. Both siblings and their mother also showed myopia, congenital non-progressive vitreous anomaly and a flat face. Taken together, these clinical features are consistent with the diagnosis of a familial case of STL. Sequence analysis revealed in the three patients a novel COL2A1 mutation (c.1468_1475delinsT) that accounted for a STL1 phenotype. The proband also displayed pre-auricular pits, branchial fistulae and renal agenesis that define BOR syndrome. Interestingly, this patient carries an EYA1 mutation, p.R328X, which was not present in the two other patients or in his healthy father, supporting that the mutation arose de novo. In conclusion, this report highlights the importance of molecular testing and detailed clinical evaluation for the diagnosis of syndromes with overlapping phenotypic features. \\n\\n##\\n\\n  hearing loss | HP_0000365\\n ophthalmic, orofacial, articular, and auditory manifestations | HP_0000478\\n orofacial, articular, and auditory manifestations | HP_0000153\\n articular, and auditory manifestations | HP_0001367\\n auditory manifestations | HP_0000364\\n autosomal dominant | HP_0000006\\n branchial, otic and renal anomalies | HP_0009794\\n otic and renal anomalies | HP_0000598\\n renal anomalies | HP_0000077\\n cleft palate | HP_0000175\\n myopia | HP_0000545\\n vitreous anomaly | HP_0007773\\n flat face | HP_0000272\\n pre-auricular pits | HP_0004467\\n branchial fistulae | HP_0009795\\n renal agenesis | HP_0000104\\n de novo | HP_0003745\\n END',\n",
       " 'We report 9 subjects from 2 families with the syndrome of cerebral gigantism, seven of the patients also had jaw cyst basal cell naevoid syndrome. Neurological, radiological, somatic and biochemical features of this hitherto unreported association are described. Neurological symptoms included mild hydrocephalus, ventricular malformation, cerebellar syndrome, intracranial calcification, oculomotor disturbances, EEG abnormalities and rarely, mild peripheral nervous disorders. A disturbance of calcium metabolism appears to be a prominent feature of the genetically determined nonprogressive syndrome. \\n\\n##\\n\\n  cerebral gigantism | HP_0002060\\n jaw cyst | HP_0010603\\n basal cell naevoid | HP_0002671\\n hydrocephalus | HP_0000238\\n ventricular malformation | HP_0002118\\n cerebellar syndrome | HP_0001317\\n intracranial calcification | HP_0002514\\n oculomotor disturbances | HP_0006860\\n EEG abnormalities | HP_0002353\\n peripheral nervous disorders | HP_0000759\\n calcium metabolism | HP_0004363\\n nonprogressive | HP_0003680\\n END',\n",
       " 'We report on 2 children with Townes-Brocks syndrome (TBS) and mental retardation. One child had mild hearing loss, but the other only had hearing loss at 8000 Hz. These cases suggest that there may be an increased incidence of mental retardation in individuals with TBS. \\n\\n##\\n\\n  mental retardation | HP_0001249\\n hearing loss | HP_0000365\\n END',\n",
       " 'The analysis of a de novo 8q12.2-q21.2 deletion led to the identification of a proposed previously undescribed contiguous gene syndrome consisting of Branchio-Oto-Renal (BOR) syndrome, Duane syndrome, hydrocephalus and trapeze aplasia. This is the first reported localization of the genes responsible for Duane syndrome and this dominant form of hydrocephalus. In contrast, we report a new localization for the gene responsible for BOR syndrome which is more telomeric to an initial placement. Linkage analysis of affected families consistently mapped the gene responsible for BOR and Branchio-Oto (BO) syndromes to within the deletion. Using new algorithms, a YAC contig was constructed and used to localize the breakpoint of another chromosomal rearrangement associated with BO syndrome to a 500 kb interval within the deletion. The 8q12.2-q21.2 deletion suggests that reduced dosage of the relevant genes is sufficient to cause Duane syndrome, BOR syndrome and this dominant form of hydrocephalus. \\n\\n##\\n\\n  de novo | HP_0003745\\n contiguous gene syndrome | HP_0001466\\n Duane syndrome | HP_0009921\\n hydrocephalus | HP_0000238\\n trapeze aplasia | HP_0006106\\n dominant | HP_0000006\\n END',\n",
       " 'We report two families in which propositi had severe bilateral sensorineural hearing loss, a preauricular pit or tag, and duplication of the ureters or bifid renal pelvices. Other relatives had one or more of these anomalies in a pattern suggesting autosomal dominant inheritance with reduced penetrance and variable expressivity. We suggest the term \"branchio-oto-ureteral syndrome\" to designate this condition. \\n\\n##\\n\\n  bilateral sensorineural hearing loss | HP_0008619\\n sensorineural hearing loss | HP_0000407\\n hearing loss | HP_0000365\\n preauricular pit or tag | HP_0000384\\n preauricular pit | HP_0004467\\n duplication of the ureters | HP_0000073\\n bifid renal pelvices | HP_0005580\\n autosomal dominant inheritance | HP_0000006\\n reduced penetrance | HP_0003829\\n variable expressivity | HP_0003828\\n variable | HP_0003813\\n END',\n",
       " 'Brachydactyly type A1 (BDA1) is caused by mutations in the Indian hedgehog gene, IHH, on chromosome 2q35-36. In this study, a large five-generation Chinese family with BDA1 was identified and characterized. All affected family members demonstrated significant homogeneous phenotype and some unique clinical features different from those associated with the reported BDA1 mutations in IHH. Linkage analysis showed that the BDA1 gene in the family was linked to marker D2S126 close to IHH with a LOD score of 4.74 at a recombination fraction of 0. DNA sequence analysis revealed a heterozygous C to T transition at nucleotide 461 of IHH, resulting in a novel T154I substitution. The T154I mutation co-segregated with all affected individuals in the family, and was not present in normal family members or 200 normal controls. These results expand the spectrum of clinical phenotype associated with IHH mutations. \\n\\n##\\n\\n  Brachydactyly type A1 | HP_0009371\\n significant homogeneous phenotype | HP_0003813\\n END',\n",
       " 'The application of recombinant DNA techniques has identified two fundamental mechanisms of tumorigenesis in man. The first involves a qualitative or quantitative change in an oncogene (see ref. 1 for review). In the second, discovered in embryonal tumours, a primary mutation occurs which is recessive at the cellular level to the normal allele. The growth of a tumour ensues only after a secondary change, such as chromosome loss or mitotic recombination, eliminates the normal allele, thereby unmasking the altered allele. Because its effect is recessive, the primary mutation may also occur and be transmitted in the germ line, resulting in a familial pattern for the disease. In familial cases, independent bilateral tumours are common, since the tumours result from a single event--loss of the normal genes--which can occur in any cell. This contrasts with non-familial (sporadic) cases where solitary tumours result from the infrequent occurrence of two rare events within the same cell. By a molecular genetic approach we have now shown that acoustic neuroma, one of the most common tumours of the human nervous system, is specifically associated with loss of genes on human chromosome 22 and may result from the mechanism of tumorigenesis discovered in embryonal tumours. This finding might provide a clue to the chromosomal location of the defective gene in bilateral acoustic neurofibromatosis, an autosomal dominant disorder with the hallmark of bilateral acoustic neuromas. In view of the frequent occurrence of meningiomas in patients with bilateral acoustic neurofibromatosis and the association of meningioma with loss of chromosome 22 previously reported in cytogenetic studies, we suggest that a common event underlies tumorigenesis in acoustic neuroma and meningioma. \\n\\n##\\n\\n  tumours | HP_0002664\\n sporadic | HP_0003745\\n acoustic neuroma | HP_0009588\\n tumours of the human nervous system | HP_0004375\\n bilateral acoustic neurofibromatosis | HP_0009589\\n neurofibromatosis | HP_0006746\\n autosomal dominant disorder | HP_0000006\\n meningiomas | HP_0002858\\n END',\n",
       " 'We report on seven children with Angelman syndrome presenting with psychomotor retardation during the 1st year of life. Seizures developed in six patients, and computed tomography (CT) scanning showed diffuse atrophy of the brain in five patients. We conclude that diagnosis is difficult in the first years of life. A review of the literature is given. \\n\\n##\\n\\n  psychomotor retardation | HP_0001255\\n retardation | HP_0001249\\n during the 1st year of life | HP_0003576\\n Seizures | HP_0001250\\n diffuse atrophy of the brain | HP_0002283\\n END',\n",
       " 'We report studies of six patients with the Angelman \"Happy Puppet\" syndrome and compare the data with those from previous reports. The results confirm the classic findings of severe mental retardation, \"puppet-like\" gait, characteristic craniofacial abnormalities, and frequent episodes of laughter and suggest that this syndrome is more common than previously thought. Computerized axial tomographs of the brain demonstrating unilateral cerebellar atrophy in one patient constitute the first direct evidence of cerebellar abnormalities in this syndrome. \\n\\n##\\n\\n  Happy Puppet | HP_0100024\\n severe mental retardation | HP_0002187\\n mental retardation | HP_0001249\\n \"puppet-like\" gait | HP_0001288\\n craniofacial abnormalities | HP_0001999\\n frequent episodes of laughter | HP_0000749\\n laughter | HP_0000748\\n unilateral cerebellar atrophy | HP_0001272\\n cerebellar abnormalities | HP_0001317\\n END',\n",
       " 'Brachydactyly type C (BDC) is characterized by shortening of the middle phalanges of the index, middle, and little finger with hyperphalangy, usually of the index and middle finger. Heterozygous mutations of the cartilage derived morphogenetic protein-1 (CDMP1) resulting in a loss of function have been reported in BDC. We here describe a large kindred with a semi-dominant form of BDC and pronounced ulnar deviation of the second and third digits. In this family a novel homozygous missense mutation was identified (517A > G) changing methionine to valine at amino acid position 173. The mutation is located within a highly conserved seven amino acid region of the prodomain of CDMP1. Hand radiographs of heterozygous mutation carriers showed mild shortening of the metacarpals IV and V; a finding confirmed by the analysis of their metacarpophalangeal profiles (MCPPs). The mutation described here points toward an important function of the prodomain for the folding, secretion, and availability of biologically active CDMP1. \\n\\n##\\n\\n  Brachydactyly type C | HP_0009373\\n shortening of the middle phalanges of the index, middle, and little finger | HP_0004220\\n hyperphalangy, usually of the index and middle finger | HP_0009495\\n hyperphalangy | HP_0010235\\n dominant form | HP_0000006\\n ulnar deviation of the second and third digits | HP_0009464\\n ulnar deviation | HP_0001193\\n shortening of the metacarpals IV and V | HP_0010047\\n END',\n",
       " 'The index case was a Maori bushman who presented with severe congenital spinal stenosis and manifestations of distal arthrogryposis. His offspring and 8 of his 9 sibs and most of their offspring were interviewed and examined. Of those examined 7 individuals with definite and 2 with probable distal arthrogryposis were identified in 4 of the families. A tenth relative with distal arthrogryposis and contractural arachnodactyly had died. There was marked variability in the severity and nature of manifestations with 2 having severe hand and foot involvement in addition to craniofacial changes compatible with a diagnosis of Freeman-Sheldon syndrome. Other apparently unrelated hereditary disorders in the family included ectrodactyly, biliary atresia, and Brachmann-de Lange syndrome. This is the first report of arthrogryposis in a Maori family. \\n\\n##\\n\\n  spinal stenosis | HP_0003416\\n distal arthrogryposis | HP_0005684\\n arthrogryposis | HP_0001390\\n contractural arachnodactyly | HP_0001166\\n marked variability in the severity and nature of manifestations | HP_0003815\\n variability | HP_0003812\\n hand and foot involvement | HP_0001155\\n foot involvement | HP_0001760\\n craniofacial changes | HP_0002260\\n ectrodactyly | HP_0100257\\n biliary atresia | HP_0005912\\n END',\n",
       " 'Two sibs with the branchio-oculo-facial syndrome are reported. They both have orbital haemangiomatous cysts, which is a previously unreported feature. Both parents are clinically normal and unrelated. This disorder has been reported showing autosomal dominant transmission so this family could represent either an autosomal recessive form or germline mosaicism for the dominant gene. \\n\\n##\\n\\n  orbital haemangiomatous cysts | HP_0001144\\n autosomal dominant | HP_0000006\\n autosomal recessive form | HP_0000007\\n germline mosaicism | HP_0001442\\n END',\n",
       " 'Four disease genes (NBCCS, ESS1, XPAC, FACC) map to 9q22.3-q31. A fine map of this region was produced by linkage and haplotype analysis using 12 DNA markers. The gene for nevoid basal cell carcinoma syndrome (NBCCS, Gorlin) has an important role in congenital malformations and carcinogenesis. Phase-known recombinants in a study of 133 meioses place NBCCS between (D9S12/D9S151) and D9S176. Haplotype analysis in a two-generation family suggests that NBCCS lies in a smaller interval of 2.6 cM centromeric to D9S287. These flanking markers will be useful clinically for gene tracking. Recombinants also map FACC (Fanconi anemia, group C) to the same region, between (D9S196/D9S197) and D9S287. The recombination rate between (D9S12/D9S151) and D9S53 in males is 8.3% and 13.2% in females, giving a sex-specific male:female ratio of 1:1.6 and a sex-averaged map distance of 10.4 cM. No double recombinants were detected, in agreement with the apparently complete level of interference predicted from the male chiasmata map. \\n\\n##\\n\\n  basal cell carcinoma | HP_0002671\\n END',\n",
       " 'A female with cystic fibrosis and short stature was investigated for molecular or cytogenetic abnormalities that might explain the combined phenotype. Analysis with polymorphic DNA markers indicated that the father did not contribute alleles to the propositus for markers near the CF locus or for centromeric markers on chromosome 7. High-resolution cytogenetic analysis was normal, and the result could not be explained on the basis of nonpaternity or a submicroscopic deletion. All of the data indicate that the propositus inherited two identical copies of maternal sequences for much or all of chromosome 7. The occurrence of uniparental disomy could be explained by models postulating postfertilization error, gamete complementation, monosomic conception with subsequent chromosome gain, or trisomic conception followed by chromosome loss. Uniparental disomy in an individual with a normal chromosome analysis is a novel mechanism for the occurrence of human genetic disease. \\n\\n##\\n\\n  short stature | HP_0004322\\n END',\n",
       " 'An EEG study has been carried out on 19 children (including siblings in 3 families) with clinical features of Angelman syndrome. The age at time of the first EEG ranged from 11 months to 11 years with the majority under 5 years. Six children had no history of seizures at the time of the first EEG. One or more of the following EEG abnormalities were seen in all patients: 1. Persistent rhythmic 4-6/s activities reaching more than 200 microV not associated with drowsiness. 2. Prolonged runs of rhythmic 2-3/s activity (200-500 microV) often more prominent anteriorly, sometimes associated with discharges (ill-defined spike/wave complexes). 3. Spikes mixed with 3-4/s components usually more than 200 microV mainly posteriorly and facilitated by, or only seen with, eye closure. Two and sometimes three of these EEG features could be present in the same record particularly at a young age. The appearance of discharges mixed with slow components on eye closure was the commonest finding seen at some stage in 17 patients (aged from 11 months to over 12 years). The EEG features of Angelman syndrome appear to be sufficiently characteristic to help identify patients at an early age before the clinical features become obvious and at a time when genetic counselling may be particularly important. \\n\\n##\\n\\n  seizures | HP_0001250\\n EEG abnormalities | HP_0002353\\n Persistent rhythmic 4-6/s activities | HP_0010846\\n drowsiness | HP_0002329\\n young age | HP_0003593\\n END',\n",
       " 'Two very preterm infants (born at 29 and 25 weeks, respectively) were found to have abnormal ribs. Though this was thought unimportant at the time, it was subsequently shown to indicate that some members of their families had a dominantly inherited risk of developing skin cancer and other serious problems. \\n\\n##\\n\\n  preterm infants | HP_0001622\\n abnormal ribs | HP_0000772\\n dominantly inherited | HP_0000006\\n skin cancer | HP_0008069\\n cancer | HP_0002664\\n END',\n",
       " 'Branchio-oculo-facial syndrome (BOFS) is a rare autosomal-dominant cleft palate-craniofacial disorder with variable expressivity. The major features include cutaneous anomalies (cervical, infra- and/or supra-auricular defects, often with dermal thymus), ocular anomalies, characteristic facial appearance (malformed pinnae, oral clefts), and, less commonly, renal and ectodermal (dental and hair) anomalies. The molecular basis for this disorder is heretofore unknown. We detected a 3.2 Mb deletion by 500K SNP microarray in an affected mother and son with BOFS at chromosome 6p24.3. Candidate genes in this region were selected for sequencing on the basis of their expression patterns and involvement in developmental pathways associated with the clinical findings of BOFS. Four additional BOFS patients were found to have de novo missense mutations in the highly conserved exons 4 and 5 (basic region of the DNA binding domain) of the TFAP2A gene in the candidate deleted region. We conclude BOFS is caused by mutations involving TFAP2A. More patients need to be studied to determine possible genetic heterogeneity and to establish whether there are genotype-phenotype correlations. \\n\\n##\\n\\n  autosomal-dominant | HP_0000006\\n cleft palate | HP_0000175\\n craniofacial disorder | HP_0002260\\n variable | HP_0003813\\n variable expressivity | HP_0003828\\n cutaneous anomalies | HP_0000951\\n infra- and/or supra-auricular defects | HP_0000377\\n ocular anomalies | HP_0000284\\n facial appearance | HP_0001999\\n malformed pinnae | HP_0000356\\n oral clefts | HP_0000202\\n clefts | HP_0009794\\n renal and ectodermal (dental and hair) anomalies | HP_0000077\\n ectodermal (dental and hair) anomalies | HP_0000164\\n de novo | HP_0003745\\n genetic heterogeneity | HP_0001425\\n END',\n",
       " 'Basal cell nevus syndrome (BCNS or Gorlin syndrome, OMIM: 109400) is a rare autosomal dominant disorder with high penetrance. It is characterized by developmental anomalies and predisposition to tumors (for example, basal cell carcinoma (BCC) and medulloblastoma). PTCH1, the human homolog of the Drosophila patched gene, was identified as a gene responsible for BCNS. The PTCH1 protein is a Hedgehog (Hh) protein receptor and is pivotal for early development, stem cell maintenance and/or differentiation. We analyzed the six Japanese families with BCNS and identified six germline mutations in the PTCH1 gene. One family had a nonsense mutation (c.1196G>A), one had a 1-bp deletion (c.2029delA), two had 2-bp deletions (c.239_240delGA and c.1670_1671delCA) and one had a 58-bp duplication (c.1138_1195dup). They caused premature termination, resulting in the truncation of the PTCH1 protein. Analysis of a high-density single nucleotide polymorphism (SNP) mapping array showed a large approximately 1.2-Mb deletion, including the PTCH1 gene in one allele, in a family in which PTCH1 mutations were not identified at the sequence level. These data indicated that all the six families who were diagnosed with BCNS had mutations in the PTCH1 gene and that a single copy of a PTCH1 mutation causes BCNS. \\n\\n##\\n\\n  Basal cell nevus | HP_0002671\\n autosomal dominant | HP_0000006\\n tumors | HP_0002664\\n medulloblastoma | HP_0002885\\n END',\n",
       " \"The case of a seriously disabled and retarded female patient with neurofibromatosis type 2 (NF2) is reported. She suffered from bilateral vestibular schwannomas, multiple intracranial meningiomas and neurinomas. The constitutional karyotype of the patient was 46, XX, r(22)/45,XX,-22. A constitutional G to A transition in the proximal 3' untranslated region of isoforms 1 and 2 was identified in the patient's NF2 gene and shown not to affect differential splicing or mRNA stability. The instability of the ring chromosome 22 with the associated loss of tumor suppressor genes on chromosome 22, in particular the loss of the NF2 gene, are assumed to have caused multiple tumorigenesis in this patient. \\n\\n##\\n\\n  retarded | HP_0001263\\n neurofibromatosis | HP_0006746\\n bilateral vestibular schwannomas | HP_0009589\\n vestibular schwannomas | HP_0009588\\n schwannomas | HP_0100008\\n multiple intracranial meningiomas | HP_0003008\\n intracranial meningiomas | HP_0100009\\n meningiomas | HP_0002858\\n tumor | HP_0002664\\n END\",\n",
       " \"At least eight provisional categories of neurofibromatosis have been proposed. Among these, neurofibromatosis 1 (von Recklinghausen's disease or peripheral neurofibromatosis) and neurofibromatosis 2 (central or bilateral acoustic neurofibromatosis) have been established as distinct disorders. We studied 15 affected male and 8 affected female members of one large kindred with neurofibromatosis 2. None of the patients met the diagnostic criteria for neurofibromatosis 1. Between the ages of 15 and 53 years, the patients had multiple central nervous system tumors of various types--mainly, bilateral acoustic neuromas. Two or more tumors eventually developed in 20 of the patients; 9 had evidence of only bilateral acoustic neuromas. Meningiomas and ependymomas were more common among the young patients; those who initially presented with acoustic neuromas were nearly a decade older. Intracranial nontumoral calcifications were present in most patients and were also found in symptom-free children. The presence of such lesions is probably a prodromic feature of neurofibromatosis 2. Simultaneous analysis of D22S1 and IGLV DNA markers for coinheritance with neurofibromatosis 2 indicates that the locus for the disease is near the center of the long arm of chromosome 22 (22q11.1----22q13.1). The eventual isolation of this disease gene may reveal a cause of the most common intracranial tumors in humans. \\n\\n##\\n\\n  neurofibromatosis | HP_0006746\\n bilateral acoustic neurofibromatosis | HP_0009589\\n central nervous system tumors | HP_0100006\\n nervous system tumors | HP_0004375\\n tumors | HP_0002664\\n acoustic neuromas | HP_0009588\\n Meningiomas | HP_0002858\\n ependymomas | HP_0002888\\n young patients | HP_0003593\\n Intracranial nontumoral calcifications | HP_0002514\\n END\",\n",
       " 'The present report concerns a two-generation family of nine individuals in which the father and three of the six living children all had: (1) a mixed hearing loss with a Mondini type cochlear malformation and stapes fixation; (2) cup-shaped, anteverted pinnae with bilateral prehelical pits: (3) bilateral branchial cleft fistulas; and (4) bilateral renal dysplasia and anomalies of the collecting system. The father and one affected son also had aplasia of the lacrimal ducts. A fourth child who died at 5 months of age was reported to have branchial cleft fistulas and bilateral polycystic kidneys at autopsy. In addition, the concept of noso-embryologic communities is presented. Such groups are composed of syndromes whose total phenotypic spectra not only overlap but also share common elements in embryogenesis. This concept is illustrated with a group of branchial arch syndromes that are related in this way. \\n\\n##\\n\\n  mixed hearing loss | HP_0000410\\n hearing loss | HP_0000365\\n Mondini type cochlear malformation | HP_0000376\\n cochlear malformation | HP_0008554\\n stapes fixation | HP_0000381\\n cup-shaped, anteverted pinnae | HP_0000378\\n prehelical pits | HP_0004467\\n branchial cleft fistulas | HP_0009795\\n branchial | HP_0009794\\n bilateral renal dysplasia | HP_0012582\\n renal dysplasia | HP_0000110\\n anomalies of the collecting system | HP_0004742\\n aplasia of the lacrimal ducts | HP_0007993\\n bilateral polycystic kidneys | HP_0000113\\n END',\n",
       " 'The authors report a patient with neurofibromatosis type 2 (NF2) presenting with an axonal mononeuropathy multiplex. Sural nerve biopsy showed small scattered groups of Schwann cells transformed into irregular branching cells with abnormal cell-cell contacts. The authors hypothesize that defective Schwann cell function, due to inactivation of the NF2 gene product merlin, leads to changes in morphology, cell-cell contact, and growth, and finally to degeneration of axons. \\n\\n##\\n\\n  neurofibromatosis | HP_0006746\\n axonal mononeuropathy multiplex | HP_0009831\\n Schwann cells transformed | HP_0100008\\n degeneration of axons | HP_0000764\\n END',\n",
       " 'A four generation autosomal dominant pedigree of brachydactyly type C is presented with its radiological features. The hands and feet were similarly affected. All the subjects showing these changes had shortening of the big toes and, in addition, had cupped ears. \\n\\n##\\n\\n  autosomal dominant | HP_0000006\\n brachydactyly | HP_0001156\\n brachydactyly type C | HP_0009373\\n shortening of the big toes | HP_0010109\\n cupped ears | HP_0000378\\n END',\n",
       " 'Neurofibromatosis 2 (NF2) is a dominantly inherited disorder characterized by multiple tumors of the central nervous system, predominantly bilateral vestibular schwannomas. The gene for NF2 is located in the chromosomal region 22q12 between the loci D22S1 and D22S28. We have performed genetic linkage analysis on 13 NF2 families with a total of nine polymorphic DNA markers, including five which we have recently mapped to this region. Two loci, D22S32 and NEFH, are linked to the NF2 locus at 0% recombination (lod scores of 6.03 and 4.28, respectively). By multipoint linkage analysis, we assign the NF2 gene to an interval of 7 cM, between the loci D22S212 and D22S28. We have used this set of nine markers to construct chromosome 22 haplotypes for the 82 at-risk individuals in this pedigree set. It has been possible to determine, with a high degree of certainty, the carrier status of 70 (85%) of these at-risk individuals. Risk prediction was possible in every case where DNA was available from both parents. Fifty-three of the 70 (76%) informative individuals were assigned decreased risks of being carriers. The use of chromosome 22 probes for risk assessment should result in a greatly reduced number of individuals who require periodic screening for NF2. \\n\\n##\\n\\n  Neurofibromatosis | HP_0006746\\n dominantly inherited | HP_0000006\\n tumors | HP_0002664\\n tumors of the central nervous system | HP_0100006\\n bilateral vestibular schwannomas | HP_0009589\\n vestibular schwannomas | HP_0009588\\n schwannomas | HP_0100008\\n END',\n",
       " 'Angelman syndrome (AS) is characterized by severe mental retardation, absent speech, puppet-like movements, inappropriate laughter, epilepsy, and abnormal electroencephalogram. The majority of AS patients (approximately 65%) have a maternal deficiency within chromosomal region 15q11-q13, caused by maternal deletion or paternal uniparental disomy (UPD). Approximately 35% of AS patients exhibit neither detectable deletion nor UPD, but a subset of these patients have abnormal methylation at several loci in the 15q11-q13 region. We describe here three patients with Angelman syndrome belonging to an extended inbred family. High resolution chromosome analysis combined with DNA analysis using 14 marker loci from the 15ql1-q13 region failed to detect a deletion in any of the three patients. Paternal UPD of chromosome 15 was detected in one case, while the other two patients have abnormal methylation at D15S9, D15S63, and SNRPN. Although the three patients are distantly related, the chromosome 15q11-q13 haplotypes are different, suggesting that independent mutations gave rise to AS in this family. \\n\\n##\\n\\n  severe mental retardation | HP_0002187\\n mental retardation | HP_0001249\\n absent speech | HP_0001344\\n puppet-like movements | HP_0100022\\n inappropriate laughter | HP_0000748\\n epilepsy | HP_0001250\\n abnormal electroencephalogram | HP_0002353\\n END',\n",
       " 'Brachydactyly type A-1 (BDA1) was, in 1903, the first recorded example of a human anomaly with Mendelian autosomal dominant inheritance. Two large families, the affected members of which were radiographed, were recruited in the study we describe here. Two-point linkage analysis for pedigree 1 (maximum LOD score [Zmax] 6.59 at recombination fraction [theta] 0.00) and for pedigree 2 (Zmax=5.53 at straight theta=0.00) mapped the locus for BDA1 in the two families to chromosome 2q. Haplotype analysis of pedigree 1 confined the locus for family 1 within an interval of <8.1 cM flanked by markers D2S2248 and D2S360, which was mapped to chromosome 2q35-q36 on the cytogenetic map. Haplotype analysis of pedigree 2 confined the locus for family 2 within an interval of <28. 8 cM flanked by markers GATA30E06 and D2S427, which was localized to chromosome 2q35-q37. The two families had no identical haplotype within the defined region, which suggests that the two families were not related. \\n\\n##\\n\\n  Brachydactyly type A-1 | HP_0009371\\n autosomal dominant | HP_0000006\\n END',\n",
       " 'We report a type C brachydactyly transmitted through four generations, with incomplete penetrance and feet abnormalities in the proposita. \\n\\n##\\n\\n  type C brachydactyly | HP_0009373\\n brachydactyly | HP_0001156\\n incomplete penetrance | HP_0003829\\n feet abnormalities | HP_0001760\\n END',\n",
       " \"Six breakpoint regions for rearrangements of human chromosome 15q11-q14 have been described. These rearrangements involve deletions found in approximately 70% of Prader-Willi or Angelman's syndrome patients (PWS, AS), duplications detected in some cases of autism, triplications and inverted duplications. HERC2-containing (HEct domain and RCc1 domain protein 2) segmental duplications or duplicons are present at two of these breakpoints (BP2 and BP3) mainly associated with deletions. We show here that clusters containing several copies of the human chromosome 15 low-copy repeat (LCR15) duplicon are located at each of the six described 15q11-q14 BPs. In addition, our results suggest the existence of breakpoints for large 15q11-q13 deletions in a proximal duplicon-containing clone. The study reveals that HERC2-containing duplicons (estimated on 50-400 kb) and LCR15 duplicons ( approximately 15 kb on 15q11-q14) share the golgin-like protein (GLP) genomic sequence. Through the analysis of a human BAC library and public databases we have identified 36 LCR15 related sequences in the human genome, most (27) mapping to chromosome 15q and being transcribed. LCR15 analysis in non-human primates and age-sequence divergences support a recent origin of this family of segmental duplications through human speciation. \\n\\n##\\n\\n  autism | HP_0000717\\n END\",\n",
       " 'Five new cases are presented of a syndrome characterized mainly by severe mental retardation, epilepsy, puppet-like ataxic movements, microbrachycephaly, prognathism, tongue protrusion, and inappropriate paroxysms of laughter. The cases are analyzed with reference to personal and family histories, clinical findings, and results of special investigations (biochemical, chromosomal, dermatoglyphic, EEG, and radiologic). The findings are compared with those in the 22 patients described previously. Though clinically distinctive, there is as yet no clear-cut evidence as to cause. \\n\\n##\\n\\n  severe mental retardation | HP_0002187\\n mental retardation | HP_0001249\\n epilepsy | HP_0001250\\n puppet-like ataxic movements | HP_0001251\\n microbrachycephaly | HP_0002258\\n prognathism | HP_0000303\\n tongue protrusion | HP_0010808\\n inappropriate paroxysms of laughter | HP_0000748\\n paroxysms of laughter | HP_0000749\\n END',\n",
       " 'Neurofibromatosis 2 (NF2) patients with constitutional splice site NF2 mutations have greater variability in disease severity than NF2 patients with other types of mutations; the cause of this variability is unknown. We evaluated genotype-phenotype correlations, with particular focus on the location of splice site mutations, using mutation and clinical information on 831 patients from 528 NF2 families with identified constitutional NF2 mutations. The clinical characteristics examined were age at onset of symptoms of NF2 and number of intracranial meningiomas, which are the primary indices of the severity of NF2. Two regression models were used to analyse genotype-phenotype correlations. People with splice site mutations in exons 1-5 had more severe disease than those with splice site mutations in exons 11-15. This result is compatible with studies showing that exons 2 and 3 are required for self-association of the amino terminal of the NF2 protein in vitro, and that deletions of exons 2 and 3 in transgenic and knockout mouse models of NF2 cause a high prevalence of Schwann cell derived tumours. \\n\\n##\\n\\n  Neurofibromatosis | HP_0006746\\n variability | HP_0003812\\n intracranial meningiomas | HP_0100009\\n meningiomas | HP_0002858\\n Schwann cell derived tumours | HP_0100008\\n tumours | HP_0002664\\n END',\n",
       " 'Neurofibromatosis type 2 (NF2) is almost unique among inherited disorders in the frequency of mosaicism in the first affected generation. However, the implications of this on transmission risks have not been fully elucidated.\\r\\n\\r\\nThe expanded database of 460 families with NF2 and 704 affected individuals was analysed for mosaicism and transmission risks to offspring.\\r\\n\\r\\n64 mosaic patients, with a projected mosaicism rate of 33% for sporadic classical NF2 with bilateral vestibular schwannoma at presentation and 60% for those presenting unilaterally, were identified. Offspring risks can be radically reduced on the basis of a sensitive mutation analysis of blood DNA including multiple ligation-dependent probe amplification (MLPA, which detects 15% of all mutations), but even MLPA cannot detect high levels of mosaicism.\\r\\n\\r\\nThe chances of mosaicism in NF2 and the resultant risks of transmission of the mutation to offspring in a number of different clinical situations have been further delineated. The use of MLPA in this large NF2 series is also reported for the first time. \\n\\n##\\n\\n  Neurofibromatosis | HP_0006746\\n mosaicism | HP_0001442\\n for spor | HP_0003745\\n ith bilateral vestibular schwan | HP_0009589\\n ral vestibular schwan | HP_0009588\\n lar schwan | HP_0100008\\n END',\n",
       " 'We describe a 14-month-old girl with unilateral congenital cholesteatoma and anomalies of the facial nerve in addition to the more common branchial arch, otic, and renal malformations comprising the branchio-oto-renal (BOR) syndrome. Her mother also has the BOR syndrome and unilateral duplication of the facial nerve. This is the first study of a BOR patient with congenital cholesteatoma and the second family in which cholesteatoma and anomalies of the facial nerve are described in patients with the BO/BOR syndrome. We review the congenital cholesteatoma literature and discuss hypotheses for the pathogenesis of this entity in light of this new report. \\n\\n##\\n\\n  cholesteatoma | HP_0009797\\n anomalies of the facial nerve | HP_0010827\\n branchial arch, otic, and renal malformations | HP_0009794\\n otic, and renal malformations | HP_0000598\\n renal malformations | HP_0000792\\n END',\n",
       " 'Branchiootorenal syndrome is an autosomal dominant disorder that affects an estimated 2% of profoundly deaf children. In addition to hearing impairment, it is characterized by a lop-ear deformity, preauricular pits, branchial cleft sinus tracts, and renal anomalies. The pathogenesis of the disease remains unknown; however, the defective gene has been localized to chromosome 8q by family linkage studies. \\n\\n##\\n\\n  autosomal dominant disorder | HP_0000006\\n profoundly deaf | HP_0000404\\n hearing impairment | HP_0000365\\n lop-ear deformity | HP_0000394\\n preauricular pits | HP_0004467\\n branchial cleft | HP_0009794\\n branchial cleft sinus tracts | HP_0100272\\n renal anomalies | HP_0000077\\n END',\n",
       " 'Cell cultures grown from peripheral neurofibromas of three patients suffering from sporadic peripheral neurofibromatosis (NF) were analysed cytogenetically at early in vitro passages. The NF-cultures exhibited a 6.7-fold higher frequency of aneuploid mitoses, including pseudodiploids, than the control cultures derived from the skin of three healthy donors. The predominant numerical anomaly was monosomy 22. Several, as yet unidentified marker chromosomes occurred in the NF-cultures, which also showed a much higher level of unstable chromosomal anomalies. The role of monosomy 22 in tumorigenesis of meningiomas and neurofibromas is discussed. \\n\\n##\\n\\n  neurofibromas | HP_0001067\\n sporadic | HP_0003745\\n neurofibromatosis | HP_0006746\\n meningiomas | HP_0002858\\n END',\n",
       " 'Neurofibromatosis includes the common \"peripheral\" form and a recently documented \"central\" form. We describe the central form in 130 cases from 9 kindreds personally studied and 15 reported kindreds. Central neurofibromatosis with bilateral acoustic neuroma is an autosomal dominant disorder beginning about 20 years of age, accompanied by mild skin changes. In three kindreds with central neurofibromatosis, we measured nerve growth factor in serum by radioimmunoassay and radioreceptor assay. Only the antigenic activity of nerve growth factor was increased. In contrast, in peripheral neurofibromatosis, only the functional activity of nerve growth factor has been reported increased. Central and peripheral forms of neurofibromatosis are closely related but discrete diseases which appear to have separate alterations in nerve growth factor activity. \\n\\n##\\n\\n  Neurofibromatosis | HP_0006746\\n bilateral acoustic neuroma | HP_0009589\\n acoustic neuroma | HP_0009588\\n autosomal dominant disorder | HP_0000006\\n skin changes | HP_0000951\\n END',\n",
       " 'Chromosome region 15q is thought to contain one or more genes that are important for melanin pigment synthesis in the hair, skin, and eyes. Hypopigmentation has been identified in the Prader-Willi (PWS) and Angelman (AS) syndromes. We have examined 6 individuals with AS to further characterize the pigment pattern in this condition. The age of the 5 girls and one boy ranged from 2.4 to 7.0 years. None had obvious albinism. Hair color ranged from light blond to brown. Skin was type I in 3 and type II in 3. Eye changes included nystagmus in 2, strabismus in 4, and reduced retinal pigment in 5. The mean hairbulb tyrosinase activity was 0.37 +/- 0.44 pmol/hb/120 min for the individuals with AS, with a range of 0.00 to 1.13 (normal brown control 1.49 +/- 0.79, normal blond control 1.50 +/- 0.85). Electron microscopic examination of hairbulb melanocytes showed normal melanosome and melanocyte architecture and number, but reduced melanin formation, with many stage II and III premelanosomes but few stage IV fully melanized melanosomes. Hypopigmentation characterized by light skin, reduced retinal pigment, low hairbulb tyrosinase activity, and incomplete melanization of melanosomes is part of the phenotype of AS, and is similar to that found in PWS. \\n\\n##\\n\\n  melanin pigment synthesis in the hair, skin, and eyes | HP_0007513\\n albinism | HP_0001022\\n nystagmus | HP_0000639\\n strabismus | HP_0000486\\n reduced retinal pigment | HP_0007746\\n END',\n",
       " 'Angelman syndrome (AS) can result from either a 15q11-q13 deletion (del), paternal uniparental disomy (UPD), imprinting, or UBE3A mutations. Here, we describe the phenotypic and behavioral variability detected in 49 patients with different classes of deletions and nine patients with UPD. Diagnosis was made by methylation pattern analysis of exon 1 of the SNRPN-SNURF gene and by microsatellite profiling of loci within and outside the 15q11-q13 region. There were no major phenotypic differences between the two main classes (BP1-BP3; BP2-BP3) of AS deletion patients, except for the absence of vocalization, more prevalent in patients with BP1-BP3 deletions, and for the age of sitting without support, which was lower in patients with BP2-BP3 deletions. Our data suggest that gene deletions (NIPA1, NIPA2, CYF1P1, GCP5) mapped to the region between breakpoints BP1 and BP2 may be involved in the severity of speech impairment, since all BP1-BP3 deletion patients showed complete absence of vocalization, while 38.1% of the BP2-BP3 deletion patients were able to pronounce syllabic sounds, with doubtful meaning. Compared to UPD patients, deletion patients presented a higher incidence of swallowing disorders (73.9% del x 22.2% UPD) and hypotonia (73.3% del x 28.57% UPD). In addition, children with UPD showed better physical growth, fewer or no seizures, a lower incidence of microcephaly, less ataxia and higher cognitive skills. As a consequence of their milder or less typical phenotype, AS may remain undiagnosed, leading to an overall underdiagnosis of the disease. \\n\\n##\\n\\n  variability | HP_0003812\\n absence of vocalization | HP_0001344\\n speech impairment | HP_0002167\\n swallowing disorders | HP_0002015\\n hypotonia | HP_0001252\\n seizures | HP_0001250\\n microcephaly | HP_0000252\\n ataxia | HP_0001251\\n END',\n",
       " 'We report a man who had the branchio-oto-renal (BOR) syndrome with crossed renal ectopia. His three children were born with bilateral renal agenesis and the so-called Potter syndrome. This case illustrates the potential severity of the renal anomalies in the BOR syndrome and the inadequacy of oligohydramnios and maternal serum alpha-fetoprotein as screening methods for renal agenesis. This case also implies strongly the necessity for meticulous search for renal anomalies in individuals with the BOR syndrome and proper counseling regarding the possibility of lethal bilateral renal agenesis. \\n\\n##\\n\\n  renal ectopia | HP_0000086\\n bilateral renal agenesis | HP_0010958\\n renal agenesis | HP_0000104\\n Potter syndrome | HP_0002009\\n renal anomalies | HP_0000077\\n oligohydramnios | HP_0001562\\n END',\n",
       " 'The nevoid basal cell carcinoma syndrome (NBCCS) is an autosomal dominant disorder characterized by multiple basal cell carcinomas (BCCs), pits of the palms and soles, jaw keratocysts, a variety of other tumors, and developmental abnormalities. NBCCS maps to chromosome 9q22.3. Familial and sporadic BCCs display loss of heterozygosity in this region, consistent with the gene being a tumor suppressor. A human sequence (PTC) with strong homology to the Drosophila segment polarity gene, patched, was isolated from a YAC and cosmid contig of the NBCCS region. Mutation analysis revealed alterations of PTC in NBCCS patients and in related tumors. We propose that a reduction in expression of the patched gene can lead to the developmental abnormalities observed in the syndrome and that complete loss of patched function contributes to transformation of certain cell types. \\n\\n##\\n\\n  basal cell carcinoma | HP_0002671\\n autosomal dominant disorder | HP_0000006\\n pits | HP_0004467\\n pits of the palms | HP_0010610\\n pits of the palms and soles | HP_0010612\\n jaw keratocysts | HP_0010603\\n other tumors | HP_0003008\\n tumors | HP_0002664\\n developmental abnormalities | HP_0001263\\n sporadic | HP_0003745\\n END',\n",
       " 'Three families are presented, one with branchio-oto-renal dysplasia (BOR) and two with branchio-oto dysplasia (BO). The former syndrome is characterized by external ear malformations, cervical fistulae, mixed hearing loss and renal anomalies of varying severity. The latter syndrome differs in that there are no renal anomalies and that the sensorineural component of the hearing loss may be absent. The external ear malformations are quite variable in both syndromes. Evidence is presented which supports the idea that these two syndromes are not phenotypic variants of the same autosomal dominant mutation but distinct disease entities. The BOR syndrome appears to belong to a larger group of hereditary ear dysplasia-renal adysplasia syndromes that must be carefully ruled out in all patients with familial branchial arch malformations as well as in the parents and siblings of infants with \"Potter facies\" in the presence of auricular malformation and renal adysplasia. \\n\\n##\\n\\n  renal dysplasia | HP_0000110\\n external ear malformations | HP_0000356\\n ear malformations | HP_0000598\\n cervical fistulae | HP_0009795\\n mixed hearing loss | HP_0000410\\n hearing loss | HP_0000365\\n renal anomalies | HP_0000077\\n variable | HP_0003813\\n autosomal dominant | HP_0000006\\n branchial | HP_0009794\\n Potter facies | HP_0002009\\n END',\n",
       " 'Mutations of the neurofibromatosis 2 (NF2) tumor suppressor gene cause the inherited disorder NF2 and are also common in malignant mesothelioma, which is not a characteristic feature of NF2. The authors report an asbestos-exposed person with NF2 and malignant mesothelioma. Immunohistochemical analysis of the mesothelioma confirmed loss of expression of the NF2 protein, and comparative genomic hybridization revealed losses of chromosomes 14, 15, and 22, and gain of 7. The authors propose that a person with a constitutional mutation of an NF2 allele is more susceptible to mesothelioma. \\n\\n##\\n\\n  neurofibromatosis | HP_0006746\\n tumor | HP_0002664\\n malignant mesothelioma | HP_0100001\\n susceptible to mesothelioma | HP_0006741\\n END',\n",
       " 'Schwannomas in the skin are frequently observed in neurofibromatosis 2 patients. In about one-quarter of the cases, skin tumors are the first clinical symptoms of this disease. Recognizing neurofibromatosis-2-related skin tumors is therefore important for early diagnosis of neurofibromatosis 2, especially in pediatric patients. In this study, we examined 40 skin tumors (36 schwannomas and four neurofibromas) from 20 neurofibromatosis 2 patients for NF2 mutations and allelic loss. NF2 mutations have been identified in blood from 15 (75%) of the 20 patients. We found NF2 mutations in five (13%) and NF2 allelic loss in 18 (45%) of the 40 analyzed tumors. Genetic alterations (allelic loss or mutation) were thus found in 50 (63%) out of the total of 80 examined alleles. In 17 (43%) tumors, alterations were found on both NF2 alleles. These results suggest that, as in the case of vestibular schwannomas and meningiomas, loss of functional NF2 gene product is also the critical event in the development of skin schwannomas. Identification of genetic alterations of the NF2 gene in skin tumors may help to identify neurofibromatosis-2-associated skin tumors, thus assisting in the diagnosis of neurofibromatosis 2 in ambiguous cases, and excluding neurofibromatosis 1 in unclear cases. We also report that the detection rate of constitutional mutations was higher in patients with skin tumors (65%) than in patients without skin tumors (40%). \\n\\n##\\n\\n  Schwannomas | HP_0100008\\n Schwannomas in the skin | HP_0009593\\n neurofibromatosis | HP_0006746\\n skin tumors | HP_0008069\\n tumors | HP_0002664\\n neurofibromas | HP_0001067\\n vestibular schwannomas | HP_0009588\\n meningiomas | HP_0002858\\n END',\n",
       " \"Brachydactyly type A1 (BDA1) was the first disorder described in terms of autosomal dominant Mendelian inheritance. Early in the 1900s Farabee and Drinkwater described a number of families with BDA1. Examination of two of Drinkwater's families has revealed that, although they are not known to be related, both share a common mutation within the Indian hedgehog gene ( IHH). This novel mutation is a guanine to adenine transition at nucleotide 298, resulting in an Asn100Asp amino acid substitution. Both families demonstrate significant intrafamilial phenotypic heterogeneity among the affected individuals. Examination of single nucleotide polymorphisms (SNP) has shown that the affected individuals in both families share SNPs within IHH consistent with that of a common founder. The identification of the same mutation in these families has answered a question that is nearly a century old about the genetic cause of their disease and supports the hypothesis that IHH plays a pivotal role in normal human skeletogenesis. \\n\\n##\\n\\n  Brachydactyly type A1 | HP_0009371\\n autosomal dominant | HP_0000006\\n intrafamilial phenotypic heterogeneit | HP_0003822\\n heterogeneity | HP_0001425\\n END\",\n",
       " \"Intrafamilial clinical variability in type C brachydactyly: In this report we describe a 4-generation family in which three members present variable clinical and radiological manifestations of brachydactyly type C. The observation of 'skipped generations' in the present family and in a few other families reported previously, may indicate that brachydactyly type C is not a true autosomal dominant condition due to mutations in a single gene. \\n\\n##\\n\\n  Intrafamilial clinical variability | HP_0003822\\n clinical variability | HP_0003812\\n type C brachydactyly | HP_0009373\\n brachydactyly | HP_0001156\\n variable | HP_0003813\\n autosomal dominant | HP_0000006\\n END\",\n",
       " 'We present the case of a 14-year-old Japanese girl who had both Gorlin syndrome and ulcerative colitis. She had complained of blood stools for 6 months and severe scoliosis from her infancy. Physical examination revealed multiple nevi, palmar and plantar pits, jaw cysts, and calcification of the falx cerebri, leading to the diagnosis of Gorlin syndrome. Total colonoscopy revealed an edematous and spotty bleeding mucosa extending from the anus to the transverse colon. Histological examination was also compatible with ulcerative colitis. Thus, we diagnosed her as having Gorlin syndrome with ulcerative colitis. Gene analysis revealed a mutation, 1247InsT, in the human patched gene (PTCH), resulting in the truncation of PTCH protein. Since Gorlin syndrome and ulcerative colitis are rare disorders in childhood, this association is interesting, suggesting a correlation between the hedgehog signaling and intestinal disorders. \\n\\n##\\n\\n  ulcerative colitis | HP_0100279\\n colitis | HP_0002583\\n blood stools | HP_0002255\\n scoliosis | HP_0002650\\n infancy | HP_0003576\\n multiple nevi | HP_0001054\\n palmar and plantar pits | HP_0010610\\n plantar pits | HP_0010612\\n pits | HP_0004467\\n jaw cysts | HP_0010603\\n calcification of the falx cerebri | HP_0005462\\n edematous and spotty bleeding mucosa | HP_0004295\\n childhood | HP_0011463\\n intestinal disorders | HP_0002012\\n END',\n",
       " 'Mutations of the human Patched gene ( PTCH ) have been identified in individuals with the nevoid basal cell carcinoma syndrome (NBCCS) as well as in sporadic basal cell carcinomas and medulloblastomas. We have isolated a homologue of this tumour suppressor gene and localized it to the short arm of chromosome 1 (1p32.1-32.3). Patched 2 ( PTCH2 ) comprises 22 coding exons and spans approximately 15 kb of genomic DNA. The gene encodes a 1203 amino acid putative transmembrane protein which is highly homologous to the PTCH product. We have characterized the genomic structure of PTCH2 and have used single-stranded conformational polymorphism analysis to search for mutations in PTCH2 in NBCCS patients, basal cell carcinomas and in medulloblastomas. To date, we have identified one truncating mutation in a medulloblastoma and a change in a splice donor site in a basal cell carcinoma, suggesting that the gene plays a role in the development of some tumours. \\n\\n##\\n\\n  basal cell carcinoma | HP_0002671\\n sporadic | HP_0003745\\n medulloblastomas | HP_0002885\\n tumours | HP_0002664\\n END',\n",
       " 'In situ hybridization with a c-sis probe was performed on peripheral lymphocytes of a man with neurofibromatosis and a ring 22 chromosome. Hybridization was observed on both the normal #22 and the ring 22, indicating that the patient is not constitutionally hemizygous for c-sis. The implications of a ring 22 constitution and the neurofibromatosis phenotype are discussed. \\n\\n##\\n\\n  neurofibromatosis | HP_0006746\\n END',\n",
       " 'Nine children with the \"happy puppet\" syndrome are presented here and 19 previously reported cases are reviewed. A characteristic psychological profile is suggested by the children\\'s \"unfocused\" activities and inconsistent responsiveness to their surroundings. Behavioral characteristics are atypical for mental age and do not appear to represent unusual seizure equivalents. Recognition of such non-adaptive behavior may be of importance in selecting specific treatment and management techniques to modify the characteristics of this syndrome at an early age. \\n\\n##\\n\\n  happy puppet | HP_0100024\\n \"unfocused\" activities | HP_0000708\\n seizure | HP_0001250\\n early age | HP_0003593\\n END',\n",
       " \"We report on a female patient with bilateral acoustic neurinomas and other tumors in the central nervous system (neurofibromatosis type 2: NF2) and the constitutional translocation, t(4;22) (q12;q12.2). The precise identification of the translocation breakpoint (q12.2) on chromosome 22 implies the refined localization of a gene responsible for NF2, and would provide a clue to its molecular characterization and to the isolation of the gene. Chromosomes of a paraspinal neurinoma from the patient were also analyzed, and the same karyotype as seen in cultured peripheral lymphocytes was found. The patient's father was also a carrier of the translocation, but he had no clinical symptoms of NF2, nor did other relatives. Several explanations are offered for the different expression of the translocation between the patient and her father. \\n\\n##\\n\\n  bilateral acoustic neurinomas | HP_0009589\\n acoustic neurinomas | HP_0009588\\n other tumors | HP_0003008\\n tumors | HP_0002664\\n tumors in the central nervous system | HP_0100006\\n neurofibromatosis | HP_0006746\\n paraspinal neurinoma | HP_0006751\\n END\",\n",
       " 'Six patients with typical features of the multiple basal cell nevus syndrome were studied cytogenetically, using prometaphase G-banding and C-banding. Three patients were from one family and the others were sporadic cases. No cytogenetic marker of the disease was identified using these techniques. \\n\\n##\\n\\n  basal cell nevus syndrome | HP_0002671\\n sporadic | HP_0003745\\n END',\n",
       " 'There are many potential complications which have been reported in association with the naevoid basal cell carcinoma syndrome. We have been able to show the relative frequencies of these problems in a population based study of 84 cases in the north west of England. The major complications of basal cell carcinomas and jaw cysts occur in over 90% of patients by 40 years of age, but may both occur before 10 years of age. Less well described complications are ovarian calcification or fibroma (24%), medulloblastoma (5%), cardiac fibroma (3%), cleft palate (5%), and ophthalmic abnormalities such as squint or cataract (26%). This study more clearly defines the possible complications of the syndrome and gives clearer guidelines for counselling and screening affected and at risk persons. \\n\\n##\\n\\n  basal cell carcinoma | HP_0002671\\n jaw cysts | HP_0010603\\n ovarian calcification | HP_0008657\\n ovarian calcification or fibroma | HP_0010618\\n medulloblastoma | HP_0002885\\n cardiac fibroma | HP_0010617\\n cleft palate | HP_0000175\\n ophthalmic abnormalities | HP_0000478\\n squint | HP_0000486\\n cataract | HP_0000518\\n END',\n",
       " 'To gain insight into the pathogenesis of neurofibromatosis type 2 (NF2) by investigating the ocular manifestations of this disease.\\r\\n\\r\\nUsing standard histologic techniques, immunohistochemistry, and electron microscopy, we described the ocular pathologic findings of a 34-year-old woman who died from complications of NF2.\\r\\n\\r\\nWe identified 3 types of NF2-associated lesions: juvenile posterior subcapsular cataracts, epiretinal membranes, and an intrascleral schwannoma.\\r\\n\\r\\nOur analysis indicated that dysplastic lens cells accumulate just anterior to the posterior lens capsule in juvenile posterior subcapsular cataracts and that dysplastic MÃ¼ller cells may be a major component of NF2-associated epiretinal membranes. Clinical Relevance Our findings suggest that a subset of glial cells with epithelial features (Schwann cells, ependymal cells, and MÃ¼ller cells) may be particularly sensitive to loss of the NF2 gene. Understanding the molecular basis for this sensitivity may lead to novel strategies for treating NF2. \\n\\n##\\n\\n  neurofibromatosis | HP_0006746\\n ocular manifestations | HP_0000478\\n ile posterior subcapsular catar | HP_0007787\\n ior subcapsular catar | HP_0000523\\n lar catar | HP_0000518\\n ts, epiretinal membr | HP_0100014\\n  an intrascleral schwan | HP_0100011\\n ral schwan | HP_0100008\\n END',\n",
       " 'A mother and daughter with Gorlin syndrome with similar neuroradiological findings are reported. These include calcification of the falx cerebri and tentorium cerebelli and dysgenesis of the corpus callosum and vermis. Vermian dysgenesis was detected in both mother and daughter suggesting a previously unrecognized finding associated with Gorlin syndrome. \\n\\n##\\n\\n  calcification of the falx cerebri and tentorium cerebelli | HP_0007352\\n calcification of the falx cerebri | HP_0005462\\n dysgenesis of the corpus callosum and vermis | HP_0002195\\n dysgenesis of the corpus callosum | HP_0006996\\n END',\n",
       " 'A 9-year-old mentally retarded girl with multiple congenital anomalies was found to carry a balanced 13/14 Robertsonian translocation [45,XX,t(13q14q)] which was also present in her father. Her mother carried a balanced reciprocal translocation between chromosomes 1 and 14 [46,XX,t(1;14) (q32;q32)]. Both of her parents were phenotypically normal. Molecular studies were carried out to determine the parental origin of chromosomes 1, 13, and 14 in the patient. Using probes for D14S13 and D14S22, we could show that the patient inherited both chromosomes 14 from her father and none from her mother. Similar studies using probes for chromosomes 1 (D1S76) and 13 (D13S37) loci showed the presence of both maternal and paternal alleles in the patient. Our findings indicate that paternal uniparental heterodisomy for chromosome 14 most likely accounts for the phenotypic abnormalities observed in our patient. It is suggested that uniparental disomy may be the basis for abnormal development in at least some phenotypically abnormal familial balanced-translocation carriers. \\n\\n##\\n\\n  mentally retarded | HP_0001249\\n abnormal development | HP_0001263\\n END',\n",
       " 'No difference in survival was observed between cultured cells from basal cell naevus syndrome (BCNS) patients and normal controls following exposure of fibroblasts to ionizing radiation. Potential lethal damage repair in BCNS cells, measured by holding experiments, was also no different from normal. G0-irradiated lymphocytes from BCNS patients were found to have a significantly higher level of X-ray-induced chromosome aberrations compared with normals. This increase is, however, small, and, taken together with the survival data, suggests that increased cell killing as a measure of the unusual clinical radiosensitivity is not the major effect of the BCNS gene. \\n\\n##\\n\\n  basal cell naevus | HP_0002671\\n END',\n",
       " 'We studied two families with an unusual variant of neurofibromatosis (NF). The first family had spinal neurofibromas and cafÃ© au lait spots (CLS), the second spinal neurofibromas without CLS. Other signs of NF1 or NF2, such as cutaneous tumors, Lisch nodules, or acoustic tumors, were absent. The inheritance pattern in both pedigrees was consistent with autosomal dominant inheritance. Using genetic linkage analysis with DNA markers tightly linked to the NF1 and NF2 loci, we determined that the likely location for the mutation in the first family was in the NF1 gene with odds of 97:1, whereas the mutation in the second family was excluded from the NF1 locus with odds greater than 100,000:1. Families such as these, in which a defined subset of the NF phenotype is passed on, are important for understanding the functional consequences of particular mutations in the NF genes. \\n\\n##\\n\\n  neurofibromatosis | HP_0006746\\n spinal neurofibromas | HP_0009735\\n neurofibromas | HP_0001067\\n cafÃ© au lait spots (CLS | HP_0000957\\n  cutaneous tumor | HP_0008069\\n  tumor | HP_0002664\\n  Lisch nodule | HP_0009737\\n  acoustic tumor | HP_0009588\\n  autosomal dominant inheritanc | HP_0000006\\n END',\n",
       " 'A 17-year-old girl presented with an enlarged cardiac silhouette on routine chest roentgenogram. After clinical evaluation, echocardiography, and pericardiocentesis failed to provide a diagnosis, exploratory thoracotomy and biopsy revealed an unresectable left ventricular fibroma. The tumor continued to enlarge and began causing ventricular arrhythmia. Therefore, she underwent cardiac transplantation 2 years after the initial diagnosis was made. She is now alive nd well 18 months following transplantation. \\n\\n##\\n\\n  enlarged cardiac silhouette | HP_0001627\\n left ventricular fibroma | HP_0010617\\n tumor | HP_0002664\\n ventricular arrhythmia | HP_0004308\\n END',\n",
       " 'Townes-Brocks syndrome (TBS) is a condition with imperforate anus, hand anomalies, and ear malformations with sensorineural hearing loss. Many cases are sporadic. Within and between families, the phenotype displays striking variability. Recently, the disease-causing gene for TBS was identified as SALL1, a zinc finger transcription factor. Here, we report a three-generation family with seven affected individuals who have a novel SALL1 mutation. Unique cardiac anomalies seen in this family include lethal truncus arteriosus in one patient and a lethal complicated defect, including pulmonary valve atresia, in a second patient. These severe cardiac anomalies have not previously been reported in a familial case of TBS. This family and a review of the literature indicate that cardiac evaluation is warranted in all individuals with this disorder. In addition, hypoplastic thumbs were seen in two individuals in this family and should, therefore, be considered a true feature of TBS. \\n\\n##\\n\\n  imperforate anus | HP_0002023\\n hand anomalies | HP_0001155\\n ear malformations | HP_0000598\\n sensorineural hearing loss | HP_0000407\\n hearing loss | HP_0000365\\n sporadic | HP_0003745\\n Within and between families, the phenotype displays striking variability | HP_0003822\\n variability | HP_0003812\\n cardiac anomalies | HP_0001627\\n truncus arteriosus | HP_0001660\\n pulmonary valve atresia | HP_0005134\\n hypoplastic thumbs | HP_0009778\\n END',\n",
       " 'Undiagnosed institutionalised patients were reviewed in an attempt to identify those with Angelman syndrome (AS). The aim was to test these patients for deletion of chromosome 15(q11-13) and to describe the adult phenotype. The selection criteria included severe intellectual disability, ataxic or hypermotoric limb movements, lack of speech, a \"happy\" demeanour, epilepsy, and facial appearance consistent with the diagnosis. Patients were examined, medical records perused, and patients\\' doctors contacted as required. Genetic tests performed included routine cytogenetics, DNA methylation analysis (with probe PW71B), and fluorescence in situ hybridisation (with probes D15S10, GABRbeta3, or SNRPN). A deletion in the AS region was detected in 11 patients (9 males and 2 females) of 22 tested. The mean age at last review (March 1996) was 31.5 years (range 24 to 36 years). Clinical assessment documented findings of large mouth and jaw with deep set eyes, and microcephaly in nine patients (two having a large head size for height). No patient was hypopigmented; 1/11 patients was fair. Outbursts of laughter occurred in all patients but infrequently in 7/11 (64%) and a constant happy demeanour was present in 5/11 (46%). All had epilepsy, with improvement in 5/11 (46%), no change in 4 (36%), and deterioration in 2 (18%). The EEG was abnormal in 10/10 patients. Ocular abnormalities were reported in 3/8 patients (37.5%) and 4/11 (36%) had developed kyphosis. Two had never walked. All nine who walked were ataxic with an awkward, clumsy, heavy, and/or lilting gait. No patient had a single word of speech but one patient could use sign language for two needs (food and drink). Our data support the concept that AS resulting from deletion is a severe neurological syndrome in adulthood. The diagnosis in adults may not be straightforward as some manifestations change with age. Kyphosis and keratoconus are two problems of older patients. \\n\\n##\\n\\n  intellectual disability | HP_0001249\\n ataxic | HP_0001251\\n ataxic or hypermotoric limb movements | HP_0002070\\n hypermotoric limb movements | HP_0002276\\n lack of speech | HP_0001617\\n \"happy\" demeanour | HP_0100024\\n epilepsy | HP_0001250\\n facial appearance | HP_0001999\\n large mouth and jaw | HP_0000303\\n large mouth | HP_0000181\\n deep set eyes | HP_0000490\\n microcephaly | HP_0000252\\n large head | HP_0000256\\n hypopigmented | HP_0001010\\n Outbursts of laughter | HP_0000749\\n laughter | HP_0000748\\n Ocular abnormalities | HP_0000284\\n kyphosis | HP_0002808\\n never walked | HP_0002540\\n keratoconus | HP_0000563\\n END',\n",
       " 'Nevoid basal cell carcinoma syndrome (NBCCS, or Gorlin syndrome) is a cancer predisposition syndrome characterized by multiple basal cell carcinomas and diverse developmental defects. The gene responsible for NBCCS, which is most likely to be a tumor suppressor gene, has previously been mapped to 9q22.3-q31 in a 12-cM interval between the microsatellite marker loci D9S12.1 and D9S109. Combined multipoint and haplotype analyses of additional polymorphisms in this region in our collection of Australasian pedigrees have further refined the localization of the gene to between the markers D9S196 and D9S180, an interval reported to be approximately 2 cM. \\n\\n##\\n\\n  basal cell carcinoma | HP_0002671\\n cancer | HP_0002664\\n developmental defects | HP_0001263\\n END',\n",
       " 'Two siblings with the \"happy puppet\" syndrome are presented. Their clinical features are quite similar and closely resemble those of previously reported cases. These features include severe mental retardation, epileptic seizures, easily provoked and prolonged paroxysms of laughter, atactic jerky movements, hypotonia, large mandible with prognathia, and 2-3 cps spike and wave activity in the EEG. The occurrence of this syndrome in the two siblings suggests a genetic etiology possible as an autosomal recessive trait. \\n\\n##\\n\\n  happy puppet | HP_0100024\\n severe mental retardation | HP_0002187\\n mental retardation | HP_0001249\\n epileptic seizures | HP_0002133\\n seizures | HP_0001250\\n easily provoked and prolonged paroxysms of laughter | HP_0000749\\n laughter | HP_0000748\\n atactic jerky movements | HP_0001251\\n jerky movements | HP_0007087\\n hypotonia | HP_0001252\\n large mandible | HP_0000303\\n 2-3 cps spike and wave activity in the EEG | HP_0010848\\n autosomal recessive | HP_0000007\\n END',\n",
       " 'A syndrome of brachydactyly (absence of some middle or distal phalanges), aplastic or hypoplastic nails, symphalangism (ankylois of proximal interphalangeal joints), synostosis of some carpal and tarsal bones, craniosynostosis, and dysplastic hip joints is reported in five members of an Italian family. It may represent a previously undescribed autosomal dominant trait. \\n\\n##\\n\\n  brachydactyly | HP_0001156\\n absence of some middle or distal phalanges | HP_0009881\\n aplastic or hypoplastic nails | HP_0001798\\n hypoplastic nails | HP_0001792\\n symphalangism | HP_0100264\\n ankylois of proximal interphalangeal joints | HP_0008090\\n synostosis of some carpal and tarsal bones | HP_0009702\\n craniosynostosis | HP_0001363\\n dysplastic hip joints | HP_0001385\\n autosomal dominant trait | HP_0000006\\n END',\n",
       " 'Nevoid basal cell carcinoma syndrome (NBCCS) is a hereditary condition transmitted as an autosomal dominant trait with complete penetrance and variable expressivity. The syndrome is characterised by numerous basal cell carcinomas (BCCs), odontogenic keratocysts of the jaws, palmar and/or plantar pits, skeletal abnormalities and intracranial calcifications. In this paper, the clinical features of 37 Italian patients are reviewed. Jaw cysts and calcification of falx cerebri were the most frequently observed anomalies, followed by BCCs and palmar/plantar pits. Similar to the case of African Americans, the relatively low frequency of BCCs in the Italian population is probably due to protective skin pigmentation. A future search based on mutation screening might establish a possible genotype phenotype correlation in Italian patients. \\n\\n##\\n\\n  basal cell carcinoma | HP_0002671\\n autosomal dominant | HP_0000006\\n variable expressivity | HP_0003828\\n variable | HP_0003813\\n odontogenic keratocysts | HP_0010603\\n palmar and/or plantar pits | HP_0010612\\n pits | HP_0004467\\n skeletal abnormalities | HP_0000924\\n intracranial calcifications | HP_0002514\\n calcification of falx cerebri | HP_0005462\\n palmar/plantar pits | HP_0010610\\n END',\n",
       " \"We report on wide phenotypic variations within a family with SALL1 mutations; the elder sister presented with a Townes-Brocks syndrome phenotype including external ear anomalies, preaxial polydactyly, and anteriorly placed anus, whereas the younger sister presented with a phenotype resembling Goldenhar syndrome, including atretic ear canals, mandibular hypoplasia, and right preaxial polydactyly as well as an epibulbar dermoid. The mother had abnormal external ears but was otherwise structurally normal, and the father was asymptomatic. Analysis of the SALL1 gene revealed that both daughters were heterozygous for nonsense mutation 1256T>A (L419X), that is present 5' to the region encoding the first double zinc finger. The mother was heterozygous for the L419X mutation. The younger daughter is the first patient with a SALL1 mutation to exhibit a classic Goldenhar syndrome-like phenotype with an epibulbar dermoid. The observation lends further support to the concept that Goldenhar syndrome is an etiologically heterogeneous disorder that may have a genetic basis in some cases. \\n\\n##\\n\\n  wide phenotypic variations within a family | HP_0003822\\n external ear anomalies | HP_0000356\\n ear anomalies | HP_0000598\\n preaxial polydactyly | HP_0001177\\n polydactyly | HP_0010442\\n anteriorly placed anus | HP_0001545\\n atretic ear canals | HP_0000413\\n mandibular hypoplasia | HP_0000347\\n epibulbar dermoid | HP_0001140\\n heterogeneous | HP_0001425\\n END\",\n",
       " 'Uniparental disomy has recently been recognized to cause human disorders, including Prader-Willi syndrome (PWS). We describe a particularly instructive case which raises important issues concerning the mechanisms producing uniparental disomy and whose evaluation provides evidence that trisomy may precede uniparental disomy in a fetus. Chorionic villus sampling performed for advanced maternal age revealed trisomy 15 in all direct and cultured cells, though the fetus appeared normal. Chromosome analysis of amniocytes obtained at 15 wk was normal in over 100 cells studied. The child was hypotonic at birth, and high-resolution banding failed to reveal the deletion of 15q11-13, a deletion which is found in 50%-70% of patients with PWS. Over time, typical features of PWS developed. Molecular genetic analysis using probes for chromosome 15 revealed maternal disomy. Maternal nondisjunction with fertilization of a disomic egg by a normal sperm, followed by loss of the paternal 15, is a likely cause of confined placental mosaicism and uniparental disomy in this case of PWS, and advanced maternal age may be a predisposing factor. \\n\\n##\\n\\n  hypotonic at birth | HP_0008935\\n END',\n",
       " 'Clinical and genetic data of 10 patients with neurofibromatosis 2 (NF-2) are presented. Interestingly, no family history of neurofibromatosis was detectable in any of them, which indicates that these are sporadic cases of NF-2, most likely due to a new mutational event. According to our own results and the data in the literature, sporadic cases of NF-2 are clinically characterized by a high incidence of multiple meningiomas and spinal tumors in addition to the bilateral occurrence of acoustic neurinomas. The clinical heterogeneity of NF-2 is pointed out and the possible existence of different forms of this disease is discussed. \\n\\n##\\n\\n  neurofibromatosis | HP_0006746\\n sporadic | HP_0003745\\n meningiomas | HP_0002858\\n spinal tumors | HP_0010302\\n tumors | HP_0002664\\n bilateral occurrence of acoustic neurinomas | HP_0009589\\n acoustic neurinomas | HP_0009588\\n clinical heterogeneity | HP_0003812\\n heterogeneity | HP_0001425\\n END',\n",
       " 'This paper is based on our experience with the Gorlin-Goltz syndrome and on data from 14 patients of the Nordwestdeutsche Kieferklinik in whom this disorder was detected, treated and followed up. A clinical concept has been produced, with a diagnostic check list including a genetic and a dermatological routine work up as well as a radiological survey of the jaws and skeleton. Whenever multiple basal cell carcinomas plus the typical jaw lesions are found in a patient, the diagnosis is easy. A minimum diagnostic criterion is the combination of either the skin tumours or multiple odontogenic keratocysts plus a positive family history for this disorder, bifid ribs, lamellar calcification of the falx cerebri or any one of the skeletal abnormalities typical of this syndrome. All those in whom this disorder is diagnosed or suspected should be followed up for the rest of their lives. The family should be examined and genetic counselling should be offered. \\n\\n##\\n\\n  basal cell carcinomas | HP_0002671\\n jaw lesions | HP_0000209\\n skin tumours | HP_0008069\\n tumours | HP_0002664\\n odontogenic keratocysts | HP_0010603\\n bifid ribs | HP_0000892\\n calcification of the falx cerebri | HP_0005462\\n skeletal abnormalities | HP_0000924\\n END',\n",
       " 'This is a report on a child with sensorineural deafness, imperforate anus with rectovaginal fistula, hypoplastic thumb, and congenital heart defect. This pattern of congenital anomalies is similar to that described in patients with the Townes-Brocks syndrome, although the present patient has characteristics that have not been reported previously in this syndrome. It is proposed that the clinical spectrum of the Townes-Brocks syndrome must be extended to include congenital heart defect, auricular changes differing from those previously described, and anomalies of other internal organs. The syndrome is an autosomal dominant trait. The present case may represent a de novo mutation. \\n\\n##\\n\\n  sensorineural deafness | HP_0000407\\n deafness | HP_0000404\\n imperforate anus | HP_0002023\\n rectovaginal fistula | HP_0000143\\n hypoplastic thumb | HP_0009778\\n congenital heart defect | HP_0002564\\n auricular changes | HP_0000383\\n internal organs | HP_0000118\\n autosomal dominant | HP_0000006\\n de novo | HP_0003745\\n END',\n",
       " 'We review 43 patients (15 new, 28 literature) with the branchio-oculo-facial (BOF) syndrome, which has a distinctive phenotype ranging from mild to severe forms, consisting of eye, ear, oral, and craniofacial anomalies. Virtually ubiquitous and possibly pathognomonic are the cervical/infra-auricular skin defects. Much less common are supra-auricular defects occurring as isolated anomalies or with cervical defects. Regardless of location, these lesions may have aplastic, \"hemangiomatous,\" or otherwise abnormal overlying skin, and draining sinus fistulae. Renal malformations are frequent, but congenital heart and central nervous system defects are rare. Psychomotor performance is usually normal, but development delays, hypotonia, and visual, hearing, and speech problems are common. Autosomal dominant inheritance seems likely. Overlap between the BOF and branchio-otorenal syndromes has been observed, but elucidation of its molecular basis is not yet available. This article also discusses 5 patients with atypical manifestations considered to be possibly affected or probably unaffected, who are sufficiently unusual to be excluded from the final data analysis. \\n\\n##\\n\\n  eye, ear, oral, and craniofacial anomalies | HP_0000478\\n ear, oral, and craniofacial anomalies | HP_0000598\\n oral, and craniofacial anomalies | HP_0000153\\n craniofacial anomalies | HP_0002260\\n cervical/infra-auricular skin defects | HP_0009794\\n infra-auricular skin defects | HP_0000356\\n supra-auricular defects | HP_0000383\\n abnormal overlying skin | HP_0000951\\n draining sinus fistulae | HP_0004467\\n Renal malformations | HP_0000792\\n congenital heart and central nervous system defects | HP_0002564\\n central nervous system defects | HP_0007319\\n development delays | HP_0001263\\n hypotonia | HP_0001252\\n hearing, and speech problems | HP_0000364\\n speech problems | HP_0002116\\n Autosomal dominant inheritance | HP_0000006\\n END',\n",
       " 'Branchio-oto-renal syndrome is a heterogeneous disorder inherited in an autosomal dominant pattern, characterized by branchial arch abnormalities, hearing loss and renal abnormalities, with mutations in EYA1 reported in 30-70% of patients. We have applied a molecular testing strategy of sequencing of the complete coding region/flanking intronic regions and multiple ligation probe amplification analysis of EYA1 to a pediatric branchio-oto-renal proband cohort. EYA1 mutations were identified in 82% (14/17) of the probands. We also describe a novel recurrent EYA1 mutation c.867 + 5G > A found in five unrelated affected patients. RNA analysis showed that c.867 + 5G > A affects EYA1 splicing, producing an aberrant mRNA transcript lacking exon 8 and resulting in premature termination in exon 9. The aberrant transcript was present at approximately 50% level of wild-type EYA1 mRNA in fibroblasts, and is predicted to encode an EYA1 protein retaining the amino terminal transcriptional coactivator region but lacking the conserved carboxy terminal Eya phosphatase domain. Patients with the c.867 + 5G > A mutation were found to have more severe renal abnormalities than probands with other mutations in this cohort. Analysis of the c.867 + 5G > A mutation suggests that certain transcripts of EYA1 escape nonsense-mediated decay and encode truncated EYA proteins that may be capable of dominant-negative interactions producing distinct phenotypic features within the branchio-oto-renal spectrum. \\n\\n##\\n\\n  heterogeneous | HP_0001425\\n autosomal dominant | HP_0000006\\n branchial | HP_0009794\\n hearing loss | HP_0000365\\n renal abnormalities | HP_0000077\\n END',\n",
       " 'Naevoid basal cell carcinoma syndrome (NBCCS) is a pleiotropic, autosomal dominant disease. Growing evidence suggests that the disorder may result from mutations in genes of the Sonic hedgehog (Shh) signalling pathway.\\r\\n\\r\\nTo investigate the pathogenic gene in a Chinese Han family with NBCCS.\\r\\n\\r\\nMapping and mutation screening were used to investigate the candidate genes SHH, PTCH, PTCH2 and SMO. A GLI1 reporter gene and a cell growth curve were used to examine functional consequences of the detected mutant.\\r\\n\\r\\nOne novel mutation, a G-->A transition (2157G-->A) in exon 15 of the PTCH2 gene, was identified in this family with NBCCS by direct sequencing and digestion with the AvaI restriction enzyme. The mutation was not found in normal family members or in 520 controls. The mutation led to an R719Q amino acid substitution in an extracellular loop of the PTCH2 protein. Functional studies revealed that the R719Q mutation resulted in inactivation of PTCH2 inhibitory activities. In contrast to wild type PTCH2, PTCH2-R719Q could not inhibit cell proliferation.\\r\\n\\r\\nPTCH2 (2157G-->A), a novel missense mutation, underlies NBCCS, resulting in the loss of PTCH2 inhibitory function in the Shh signalling pathway. \\n\\n##\\n\\n  basal cell carcinoma | HP_0002671\\n autosomal dominant | HP_0000006\\n END',\n",
       " 'We describe 47 patients with Angelman syndrome (AS) from Belgium and the Netherlands, including the anamnestic data, the clinical and the behavioral attributes at different ages. The clinical picture of AS is most distinct between the ages of 2-16 years. Most patients of this age group show at least 8 of the major characteristics (bursts of laughter, happy disposition, hyperactive behaviour, microcephaly, brachycephaly, macrostomia, tongue protrusion, mandibular prognathism, widely spaced teeth, stiff and puppetlike movements, typical stature, wide based gait) beside the mental retardation and (almost) absence of speech, which is a universal trait. The diagnosis in infants is based on only a limited number of clinical characteristics or on anamnestic data. However, if these occur in combination, they are indicative of AS. In older patients, the diagnosis may be hampered in part because of the changing behavioral characteristics and the decreasing frequency of fits. Other manifestations, such as scoliosis, may become more pronounced with age. \\n\\n##\\n\\n  bursts of laughter | HP_0000749\\n happy disposition | HP_0100024\\n hyperactive behaviour | HP_0000752\\n microcephaly | HP_0000252\\n brachycephaly | HP_0000248\\n macrostomia | HP_0000181\\n tongue protrusion | HP_0010808\\n mandibular prognathism | HP_0000303\\n widely spaced teeth | HP_0000687\\n puppetlike movements | HP_0100022\\n wide based gait | HP_0002136\\n mental retardation | HP_0001249\\n absence of speech | HP_0001617\\n diagnosis in infants | HP_0003576\\n behavioral characteristics | HP_0000708\\n scoliosis | HP_0002650\\n END',\n",
       " 'A mother and son with bilateral branchial sinuses, intrauterine and postnatal growth retardation, unusual facial appearance, and premature aging in the mother are reported. No other members of the family are similarly affected. No hormonal or systemic cause of growth retardation was identified. Chromosomal studies with G-banding were normal. It is suggested that this syndrome is a dominant trait, the mother being the initial mutant. \\n\\n##\\n\\n  bilateral branchial sinuses | HP_0009794\\n intrauterine and postnatal growth retardation | HP_0001511\\n postnatal growth retardation | HP_0008897\\n growth retardation | HP_0001510\\n retardation | HP_0001249\\n unusual facial appearance | HP_0002004\\n facial appearance | HP_0001999\\n premature aging | HP_0002216\\n dominant trait | HP_0000006\\n END',\n",
       " 'Neurofibromatosis 2 or bilateral acoustic neurofibromatosis (NF2) is a severe autosomal dominant disorder characterized by the development of multiple tumors of the nervous system, including meningiomas, gliomas, neurofibromas, ependymomas, and particularly acoustic neuromas. Polymorphic DNA markers have revealed frequent loss of one copy of chromosome 22 in the tumor types associated with NF2. Family studies have demonstrated that the primary defect in NF2 is linked to DNA markers on chromosome 22, suggesting that it involves inactivation of a tumor suppressor gene. We have employed a combination of multipoint linkage analysis and examination of deletions in primary tumor specimens to precisely map the NF2 locus between flanking polymorphic DNA markers on chromosome 22. The 13-cM region bracketed by these markers corresponds to 13% of the genetic length of the long arm of chromosome 22 and is expected to contain less than 5 x 10(6) bp of DNA. The delineation of flanking markers for NF2 should permit accurate presymptomatic and prenatal diagnosis for the disorder and greatly facilitate efforts to isolate the defective gene on the basis of its location. \\n\\n##\\n\\n  Neurofibromatosis | HP_0006746\\n bilateral acoustic neurofibromatosis | HP_0009589\\n autosomal dominant | HP_0000006\\n tumors | HP_0002664\\n tumors of the nervous system | HP_0004375\\n meningiomas | HP_0002858\\n gliomas | HP_0009733\\n neurofibromas | HP_0001067\\n ependymomas | HP_0002888\\n acoustic neuromas | HP_0009588\\n END',\n",
       " 'Branchio-Oto-Renal (BOR) syndrome is transmitted as an autosomal dominant disorder, affects an estimated 2% of profoundly deaf children, and is caused by mutations in the human EYA1 gene. However, in up to half of the reported cases, EYA1 mutation screening is negative. This finding has been taken as evidence of genetic heterogeneity. Mutation screening of the coding region of EYA1 in a panel of families linked to chromosome 8 was conducted using SSCP and direct sequencing. Only one point mutation in five probands was detected. However, complex rearrangements, such as inversions or large deletions, were discovered in the other four patients using Southern blot analysis. These data suggest that more complex rearrangements may remain undetected in EYA1 since SSCP and sequencing were commonly used to detect mutations in this gene. \\n\\n##\\n\\n  autosomal dominant | HP_0000006\\n profoundly deaf | HP_0000404\\n genetic heterogeneity | HP_0001425\\n END',\n",
       " 'This prospective study of 96 individuals from 29 families with neurofibromatosis 2, 49 of whom were affected, confirms in an extended series the previously reported association between posterior subcapsular/capsular cataract and neurofibromatosis 2. Posterior subcapsular/capsular cataracts were found in 36 (80%) of the 45 affected individuals (four individuals were excluded from statistical analyses). In addition, the association of peripheral cortical lens opacities with neurofibromatosis 2 was found to be statistically significant. Seventeen of the patients with neurofibromatosis 2 (37.8%) had peripheral cortical cataracts in comparison with none of the unaffected family members (p < 0.0001). In three patients peripheral cortical opacities were present despite the absence of posterior subcapsular/capsular cataracts. These findings support the inclusion of cortical cataracts of early onset, in addition to posterior subcapsular/capsular cataracts, in the diagnostic criteria of neurofibromatosis 2. \\n\\n##\\n\\n  neurofibromatosis | HP_0006746\\n posterior subcapsular/capsular cataract | HP_0007787\\n subcapsular/capsular cataract | HP_0000523\\n capsular cataract | HP_0100017\\n cataract | HP_0000518\\n peripheral cortical lens opacities | HP_0100019\\n peripheral cortical cataracts | HP_0008011\\n cortical cataracts of early onset | HP_0007876\\n END',\n",
       " 'Neurofibromatosis type 2 (NF2) is an autosomal dominant syndrome characterized by the development of vestibular schwannomas and other tumors of the nervous system, including cranial and spinal meningiomas, schwannomas, and ependymomas. The presence of bilateral vestibular schwannomas is sufficient for the diagnosis. Skin manifestations are less common than in neurofibromatosis type 1 (NF1; von Recklinghausen disease). The apparent clinical distinction between NF1 and NF2 has been confirmed at the level of the gene locus by linkage studies; the gene for NF1 maps to chromosome 17, whereas the gene for NF2 has been assigned (in a single family) to chromosome 22. To increase the precision of the genetic mapping of NF2 and to determine whether additional susceptibility loci exist, we have performed linkage analysis on 12 families with NF2 by using four polymorphic markers from chromosome 22 and a marker at the NF1 locus on chromosome 17. Our results confirm the assignment of the gene for NF2 to chromosome 22 and do not support the hypothesis of genetic heterogeneity. We believe that chromosome 22 markers can now be used for presymptomatic diagnosis in selected families. The NF2 gene is tightly linked to the D22S32 locus (maximum lod score 4.12; recombination fraction 0). A CA-repeat polymorphism at the CRYB2 locus was the most informative marker in our families (lod score 5.99), but because the observed recombination fraction between NF2 and CRYB2 was 10 cM, predictions using this marker will need to be interpreted with caution. \\n\\n##\\n\\n  Neurofibromatosis | HP_0006746\\n autosomal dominant | HP_0000006\\n vestibular schwannomas | HP_0009588\\n schwannomas | HP_0100008\\n other tumors | HP_0003008\\n tumors | HP_0002664\\n tumors of the nervous system | HP_0004375\\n cranial and spinal meningiomas | HP_0100009\\n spinal meningiomas | HP_0100010\\n meningiomas | HP_0002858\\n ependymomas | HP_0002888\\n bilateral vestibular schwannomas | HP_0009589\\n Skin manifestations | HP_0000951\\n genetic heterogeneity | HP_0001425\\n END',\n",
       " 'The diagnosis of Angelman syndrome (AS) can be confirmed by genetic laboratory in about 80% of cases. In 20%, the diagnosis remains clinical, but often there is uncertainty about the correctness of the clinical diagnosis and alternative diagnoses may be investigated. In evaluating individuals for AS in our center since 1989, we have encountered several mimicking conditions, and additional ones have been reported in the literature. Mimicking conditions can be grouped into the areas of chromosome, single gene, and symptom complex anomalies. Microdeletions or microduplications include chromosome regions 2,4,17, 22, and 15. Single gene conditions include methylene tetrahydrofolate reductase deficiency (MTHFR), Rett syndrome, alpha-thalassemia retardation syndrome (ATR-X), and Gurrieri syndrome. Symptom complexes include cerebral palsy, static encephalopathy, Lennox-Gastaut syndrome, autism spectrum disorder, pervasive developmental delay (PDD), and mitochondrial disorders. We present a review of these mimicking disorders to increase the awareness about conditions that can lead to an incorrect clinical diagnosis of AS. \\n\\n##\\n\\n  retardation | HP_0001249\\n cerebral palsy | HP_0100021\\n encephalopathy | HP_0001298\\n autism spectrum disorder | HP_0000729\\n autism | HP_0000717\\n developmental delay | HP_0001263\\n END',\n",
       " 'Nevoid basal cell carcinoma syndrome (NBCC; Gorlin syndrome), an autosomal dominant disorder linked to 9q22.3-q31, and caused by mutations in PTC, the human homologue of the Drosophila patched gene, comprises multiple basal cell carcinomas, keratocysts of the jaw, palmar/plantar pits, spine and rib anomalies and calcification of the falx cerebri. We reviewed the findings on 105 affected individuals examined at the NIH since 1985. The data included 48 males and 57 females ranging in age from 4 months to 87 years. Eighty percent of whites (71/90) and 38% (5/13) of African-Americans had at least one basal cell carcinoma (BCC), with the first tumor occurring at a mean age of 23 (median 20) years and 21 (median 20) years, respectively. Excluding individuals exposed to radiation therapy, the number of BCCs ranged from 1 to > 1,000 (median 8) and 1 to 3 (median 2), respectively, in the 2 groups. Jaw cysts occurred in 78/105 (74%) with the first tumor occurring in 80% by the age of 20 years. The number of total jaw cysts ranged from 1 to 28 (median 3). Palmar pits and plantar pits were seen in 87%. Ovarian fibromas were diagnosed by ultrasound in 9/52 (17%) at a mean age of 30 years. Medulloblastoma occurred in 4 patients at a mean age of 2.3 years. Three patients had cleft lip or palate. Physical findings include \"coarse face\" in 54%, relative macrocephaly in 50%, hypertelorism in 42%, frontal bossing in 27%, pectus deformity in 13%, and Sprengel deformity in 11%. Important radiological signs included calcification of the falx cerebri in 65%, of the tentorium cerebelli in 20%, bridged sella in 68%, bifid ribs in 26%, hemivertebrae in 15%, fusion of the vertebral bodies in 10%, and flame shaped lucencies of the phalanges, metacarpal, and carpal bones of the hands in 30%. Several traits previously considered components of the syndrome (including short fourth metacarpal, scoliosis, cervical ribs and spina bifida occulta) were not found to be significantly increased in the affected individuals. This study delineates the frequency of the clinical and radiological anomalies in NBCC in a large population of US patients and discusses guidelines for diagnosis and management. \\n\\n##\\n\\n  basal cell carcinoma | HP_0002671\\n autosomal dominant disorder | HP_0000006\\n keratocysts of the jaw | HP_0010603\\n palmar/plantar pits | HP_0010610\\n plantar pits | HP_0010612\\n pits | HP_0004467\\n spine and rib anomalies | HP_0000925\\n rib anomalies | HP_0000772\\n calcification of the falx cerebri | HP_0005462\\n tumor | HP_0002664\\n Ovarian fibromas | HP_0010618\\n Medulloblastoma | HP_0002885\\n cleft lip or palate | HP_0000175\\n cleft lip | HP_0100333\\n coarse face | HP_0000280\\n relative macrocephaly | HP_0004482\\n hypertelorism | HP_0000316\\n frontal bossing | HP_0002007\\n pectus deformity | HP_0000766\\n Sprengel deformity | HP_0000912\\n bridged sella | HP_0005449\\n bifid ribs | HP_0000892\\n hemivertebrae | HP_0002937\\n fusion of the vertebral bodies | HP_0002948\\n short fourth metacarpal | HP_0010044\\n scoliosis | HP_0002650\\n cervical ribs | HP_0000891\\n spina bifida occulta | HP_0003298\\n spina bifida | HP_0002414\\n END',\n",
       " 'Nevoid basal cell carcinoma syndrome (NBCCS; basal cell nevus syndrome or Gorlin syndrome) is a cancer-predisposition syndrome characterized by multiple basal cell carcinomas (BCCs) and diverse developmental defects. The gene for NBCCS has been mapped to 9q23.1-q31 in North American and European families. In addition, loss of heterozygosity (LOH) for genetic markers in this region has been detected in sporadic BCCs, indicating that the NBCCS gene is probably a tumor-suppressor gene. In this study we have determined that the NBCCS gene is also linked to this region in Australasian pedigrees and that there is no significant evidence of heterogeneity. We have defined the localization of the gene by multipoint and haplotype analysis of 15 families, using four microsatellite markers. LOH at these loci was detected in 50% of sporadic BCCs, a rate that is significantly higher than that in other skin lesions used as controls. \\n\\n##\\n\\n  basal cell carcinoma | HP_0002671\\n cancer | HP_0002664\\n developmental defects | HP_0001263\\n sporadic | HP_0003745\\n heterogeneity | HP_0001425\\n skin lesions | HP_0011355\\n END',\n",
       " 'To evaluate clinical and molecular predictors of the risk of mortality in people with neurofibromatosis 2 (NF2), we analyzed the mortality experience of 368 patients from 261 families in the United Kingdom NF2 registry, using the Cox proportional-hazards model and the jackknife method. Age at diagnosis, intracranial meningiomas, and type of treatment center were informative predictors of the risk of mortality. In Cox models, the relative risk of mortality increased 1.13-fold per year decrease in age at diagnosis (95% confidence interval [CI] 1.08-1.18) and was 2.51-fold greater in people with meningiomas compared with those without meningiomas (95% CI 1.38-4.57). The relative risk of mortality in patients treated at specialty centers was 0.34 compared with those treated at nonspecialty centers (95% CI 0.12-0.98). In a separate model, the relative risk of mortality in people with constitutional NF2 missense mutations was very low compared with those with other types of mutations (nonsense or frameshift mutations, splice-site mutations, and large deletions), but the CI could not be well quantified because there was only one death among people with missense mutations. We conclude that age at diagnosis, the strongest single predictor of the risk of mortality, is a useful index for patient counseling and clinical management (as are intracranial meningiomas). To ensure optimal care, we recommend that people with NF2 be referred to specialty treatment centers. \\n\\n##\\n\\n  neurofibromatosis | HP_0006746\\n intracranial meningiomas | HP_0100009\\n meningiomas | HP_0002858\\n END',\n",
       " 'In addition to craniofacial, auricular, ophthalmologic, and oral anomalies, the distinctive phenotype of the branchio-oculo-facial (BOF) syndrome (MIM 113620) includes skin defects in the neck or infra/supra-auricular region. These unusual areas of thin, erythematous wrinkled skin differ from the discrete cervical pits, cysts, and fistulas of the branchio-oto-renal (BOR) syndrome (MIM 113650). Although the BOF and BOR syndromes are sufficiently distinctive that they should not be confused, both can be associated with nasolacrimal duct stenosis, deafness, prehelical pits, malformed pinna, and renal anomalies. Furthermore, a reported father and son [Legius et al., 1990, Clin Genet 37:347-500] had features of both conditions. It was not clear whether they had an atypical presentation of either BOR or BOF syndrome, or represented a private syndrome. In light of these issues, we selected the BOR locus (EYA1) as a possible gene mutation for the BOF syndrome. In five BOF patients, there were no mutations detected in the EYA1 gene, suggesting that it is not allelic to the BOR syndrome. \\n\\n##\\n\\n  craniofacial, auricular, ophthalmologic, and oral anomalies | HP_0002260\\n auricular, ophthalmologic, and oral anomalies | HP_0000377\\n ophthalmologic, and oral anomalies | HP_0000478\\n oral anomalies | HP_0000153\\n skin defects in the neck | HP_0000464\\n infra/supra-auricular region | HP_0000356\\n unusual areas of thin, erythematous wrinkled skin | HP_0000951\\n erythematous wrinkled skin | HP_0010783\\n wrinkled skin | HP_0100678\\n cervical pits, cysts, and fistulas | HP_0009795\\n cervical pits, cysts | HP_0009796\\n pits | HP_0004467\\n fistulas | HP_0009794\\n nasolacrimal duct stenosis | HP_0007678\\n deafness | HP_0000404\\n renal anomalies | HP_0000077\\n END',\n",
       " 'Stereotactic radiosurgery is the principal alternative to microsurgical resection for acoustic neuromas (vestibular schwannomas). The goals of radiosurgery are the long-term prevention of tumor growth, maintenance of neurologic function, and prevention of new neurologic deficits. Although acceptable short-term outcomes have been reported, long-term outcomes have not been well documented.\\r\\n\\r\\nWe evaluated 162 consecutive patients who underwent radiosurgery for acoustic neuromas between 1987 and 1992 by means of serial imaging tests, clinical evaluations, and a survey between 5 and 10 years after the procedure. The average dose of radiation to the tumor margin was 16 Gy, and the mean transverse diameter of the tumor was 22 mm (range, 8 to 39). Resection had been performed previously in 42 patients (26 percent); in 13 patients the tumor represented a recurrence of disease after a previous total resection. Facial function was normal in 76 percent of the patients before radiosurgery, and 20 percent had useful hearing.\\r\\n\\r\\nThe rate of tumor control (with no resection required) was 98 percent. One hundred tumors (62 percent) became smaller, 53 (33 percent) remained unchanged in size, and 9 (6 percent) became slightly larger. Resection was performed in four patients (2 percent) within four years after radiosurgery. Normal facial function was preserved in 79 percent of the patients after five years (House-Brackmann grade 1), and normal trigeminal function was preserved in 73 percent. Fifty-one percent of the patients had no change in hearing ability. No new neurologic deficits appeared more than 28 months after radiosurgery. An outcomes questionnaire was returned by 115 patients (77 percent of the 149 patients still living). Fifty-four of these patients (47 percent) were employed at the time of radiosurgery, and 37 (69 percent) remained so. Radiosurgery was believed to have been successful by all 30 patients who had undergone surgery previously and by 81 (95 percent) of the 85 who had not. Thirty-six of the 115 patients (31 percent) described at least one complication, which resolved in 56 percent of those cases.\\r\\n\\r\\nRadiosurgery can provide long-term control of acoustic neuromas while preserving neurologic function. \\n\\n##\\n\\n  acoustic neuromas | HP_0009588\\n schwannomas | HP_0100008\\n tumor | HP_0002664\\n new neurologic defi | HP_0000707\\n END',\n",
       " 'Transcribed, low-copy repeat elements are associated with the breakpoint regions of common deletions in Prader-Willi and Angelman syndromes. We report here the identification of the ancestral gene ( HERC2 ) and a family of duplicated, truncated copies that comprise these low-copy repeats. This gene encodes a highly conserved giant protein, HERC2, that is distantly related to p532 (HERC1), a guanine nucleotide exchange factor (GEF) implicated in vesicular trafficking. The mouse genome contains a single Herc2 locus, located in the jdf2 (juvenile development and fertility-2) interval of chromosome 7C. We have identified single nucleotide splice junction mutations in Herc2 in three independent N-ethyl-N-nitrosourea-induced jdf2 mutant alleles, each leading to exon skipping with premature termination of translation and/or deletion of conserved amino acids. Therefore, mutations in Herc2 lead to the neuromuscular secretory vesicle and sperm acrosome defects, other developmental abnormalities and juvenile lethality of jdf2 mice. Combined, these findings suggest that HERC2 is an important gene encoding a GEF involved in protein trafficking and degradation pathways in the cell. \\n\\n##\\n\\n  developmental abnormalities | HP_0001263\\n juvenile lethality | HP_0004149\\n END',\n",
       " 'The clinical features of Angelman syndrome (AS) comprise severe mental retardation, postnatal microcephaly, macrostomia and prognathia, absence of speech, ataxia, and a happy disposition. We report on seven patients who lack most of these features, but presented with obesity, muscular hypotonia and mild mental retardation. Based on the latter findings, the patients were initially suspected of having Prader-Willi syndrome. DNA methylation analysis of SNRPN and D15S63, however, revealed an AS pattern, ie the maternal band was faint or absent. Cytogenetic studies and microsatellite analysis demonstrated apparently normal chromosomes 15 of biparental inheritance. We conclude that these patients have an imprinting defect and a previously unrecognised form of AS. The mild phenotype may be explained by an incomplete imprinting defect or by cellular mosaicism. \\n\\n##\\n\\n  severe mental retardation | HP_0002187\\n mental retardation | HP_0001249\\n postnatal microcephaly | HP_0005484\\n microcephaly | HP_0000252\\n macrostomia | HP_0000181\\n prognathia | HP_0000303\\n absence of speech | HP_0001617\\n ataxia | HP_0001251\\n happy disposition | HP_0100024\\n obesity | HP_0001513\\n muscular hypotonia | HP_0001252\\n mild mental retardation | HP_0001256\\n END',\n",
       " 'Angelman syndrome (AS) is a severe neurobehavioural disorder caused by defects in the maternally derived imprinted domain located on 15q11-q13. Most patients acquire AS by one of five mechanisms: (1) a large interstitial deletion of 15q11-q13; (2) paternal uniparental disomy (UPD) of chromosome 15; (3) an imprinting defect (ID); (4) a mutation in the E3 ubiquitin protein ligase gene (UBE3A); or (5) unidentified mechanism(s). All classical patients from these classes exhibit four cardinal features, including severe developmental delay and/or mental retardation, profound speech impairment, a movement and balance disorder, and AS specific behaviour typified by an easily excitable personality with an inappropriately happy affect. In addition, patients can display other characteristics, including microcephaly, hypopigmentation, and seizures.\\r\\n\\r\\nWe restricted the present study to 104 patients (93 families) with a classical AS phenotype. All of our patients were evaluated for 22 clinical variables including growth parameters, acquisition of motor skills, and history of seizures. In addition, molecular and cytogenetic analyses were used to assign a molecular class (I-V) to each patient for genotype-phenotype correlations.\\r\\n\\r\\nIn our patient repository, 22% of our families had normal DNA methylation analyses along 15q11-q13. Of these, 44% of sporadic patients had mutations within UBE3A, the largest percentage found to date. Our data indicate that the five molecular classes can be divided into four phenotypic groups: deletions, UPD and ID patients, UBE3A mutation patients, and subjects with unknown aetiology. Deletion patients are the most severely affected, while UPD and ID patients are the least. Differences in body mass index, head circumference, and seizure activity are the most pronounced among the classes.\\r\\n\\r\\nClinically, we were unable to distinguish between UPD and ID patients, suggesting that 15q11-q13 contains the only significant maternally expressed imprinted genes on chromosome 15. \\n\\n##\\n\\n  neurobehavioural disorder | HP_0000707\\n developmental delay | HP_0001263\\n mental retardation, profound | HP_0002187\\n mental retardation | HP_0001249\\n profound speech impairment | HP_0002167\\n movement and balance disorder | HP_0100022\\n inappropriately happy affect | HP_0100024\\n microcephaly | HP_0000252\\n hypopigmentation | HP_0007513\\n seizures | HP_0001250\\n  of spor | HP_0003745\\n END',\n",
       " 'Two unrelated children (one male, the other female) had unusual craniofacial anomalies consisting of hemangiomatous branchial clefts, lip pseudoclefts, and identical unusual facial appearance. One also had unilateral microphthalmia and both had congenital nasolacrimal duct obstruction. Two similar, sporadic cases from the literature were also identified. These four cases form the basis of a new, distinctly recognizable pattern of malformation. \\n\\n##\\n\\n  unusual craniofacial anomalies | HP_0002004\\n craniofacial anomalies | HP_0002260\\n hemangiomatous branchial clefts | HP_0009794\\n lip pseudoclefts | HP_0000159\\n facial appearance | HP_0001999\\n microphthalmia | HP_0000568\\n nasolacrimal duct obstruction | HP_0000579\\n sporadic | HP_0003745\\n END',\n",
       " 'The causal heterogeneity of Angelman syndrome (AS) makes providing information regarding recurrence risk both important and challenging, and may have a dramatic impact on reproductive decision-making for the nuclear and extended family. Most cases of AS result from typical large de novo deletions of 15q11-q13, and are expected to have a low (<1%) risk of recurrence. AS due to paternal uniparental disomy (UPD), which occurs in the absence of a parental translocation, is likewise expected to have a <1% risk of recurrence. Parental transmission of a structurally or functionally unbalanced chromosome complement can lead to 15q11-q13 deletions or to UPD and will result in case-specific recurrence risks. In instances where there is no identifiable large deletion or UPD, the risk for recurrence may be as high as 50% as the result of either a maternally inherited imprinting center (IC) mutation or a ubiquitin-protein ligase (UBE3A) gene mutation. Individuals with AS who have none of the above abnormalities comprise a significant proportion of cases, and some may be at a 50% recurrence risk. Misdiagnoses, as well, can be represented in this group. In light of the many conditions which are clinically similar to AS, it is essential to address the possibility of diagnostic uncertainty and potential misdiagnosis prior to the provision of genetic counseling. Summaries of the different causal classes of AS as an algorithm for determination of recurrence risks are presented. \\n\\n##\\n\\n  heterogeneity | HP_0001425\\n de novo | HP_0003745\\n END',\n",
       " \"Six cases of this syndrome previously reported in Great Britain and in Canada are reviewed in relation to a personal case, a 17-month-old boy. The syndrome's main features are microbrachycephaly and peculiar face, mental deficiency with euphoria and laughter, ataxia and epilepsy consisting in infantile spasms and grand-mal attacks. Though its precise nature and cause still remain unknown, the syndrome seems neither familial nor progressive. \\n\\n##\\n\\n  microbrachycephaly | HP_0002258\\n peculiar face | HP_0002004\\n mental deficiency | HP_0001249\\n euphoria | HP_0000708\\n laughter | HP_0000748\\n ataxia | HP_0001251\\n epilepsy | HP_0001250\\n infantile spasms | HP_0002391\\n grand-mal attacks | HP_0002069\\n END\",\n",
       " 'Four patients representing four generations of one family suffered from the multiple nevoid basal cell carcinoma syndrome. These cases are described and the importance of examination and careful supervision of the progeny of such patients is discussed. A unique finding in this series was a large congenital lung cyst occupying the left thoracic cavity of 1 patient. \\n\\n##\\n\\n  multiple nevoid | HP_0001054\\n basal cell carcinoma | HP_0002671\\n congenital lung cyst | HP_0006540\\n lung cyst | HP_0005948\\n END',\n",
       " 'Prader-Willi syndrome (PWS) and Angelman syndrome (AS) are distinct neurobehavioral disorders that most often arise from a 4-Mb deletion of chromosome 15q11-q13 during paternal or maternal gametogenesis, respectively. At a de novo frequency of approximately.67-1/10,000 births, these deletions represent a common structural chromosome change in the human genome. To elucidate the mechanism underlying these events, we characterized the regions that contain two proximal breakpoint clusters and a distal cluster. Novel DNA sequences potentially associated with the breakpoints were positionally cloned from YACs within or near these regions. Analyses of rodent-human somatic-cell hybrids, YAC contigs, and FISH of normal or rearranged chromosomes 15 identified duplicated sequences (the END repeats) at or near the breakpoints. The END-repeat units are derived from large genomic duplications of a novel gene (HERC2), many copies of which are transcriptionally active in germline tissues. One of five PWS/AS patients analyzed to date has an identifiable, rearranged HERC2 transcript derived from the deletion event. We postulate that the END repeats flanking 15q11-q13 mediate homologous recombination resulting in deletion. Furthermore, we propose that active transcription of these repeats in male and female germ cells may facilitate the homologous recombination process. \\n\\n##\\n\\n  neurobehavioral disorders | HP_0000708\\n de novo | HP_0003745\\n END',\n",
       " 'We report on two sibs with Angelman \"happy puppet\" syndrome. Out of 48 families reported in the literature, this is only the fourth family with affected sibs. A review of the literature shows a low but not negligible recurrence risk. Different explanations for this are discussed. \\n\\n##\\n\\n  happy puppet | HP_0100024\\n END',\n",
       " 'Interferon regulatory factor 6 (IRF6) belongs to a family of nine transcription factors that share a highly conserved helix-turn-helix DNA-binding domain and a less conserved protein-binding domain. Most IRFs regulate the expression of interferon-alpha and -beta after viral infection, but the function of IRF6 is unknown. The gene encoding IRF6 is located in the critical region for the Van der Woude syndrome (VWS; OMIM 119300) locus at chromosome 1q32-q41 (refs 2,3). The disorder is an autosomal dominant form of cleft lip and palate with lip pits, and is the most common syndromic form of cleft lip or palate. Popliteal pterygium syndrome (PPS; OMIM 119500) is a disorder with a similar orofacial phenotype that also includes skin and genital anomalies. Phenotypic overlap and linkage data suggest that these two disorders are allelic. We found a nonsense mutation in IRF6 in the affected twin of a pair of monozygotic twins who were discordant for VWS. Subsequently, we identified mutations in IRF6 in 45 additional unrelated families affected with VWS and distinct mutations in 13 families affected with PPS. Expression analyses showed high levels of Irf6 mRNA along the medial edge of the fusing palate, tooth buds, hair follicles, genitalia and skin. Our observations demonstrate that haploinsufficiency of IRF6 disrupts orofacial development and are consistent with dominant-negative mutations disturbing development of the skin and genitalia. \\n\\n##\\n\\n  autosomal dominant | HP_0000006\\n cleft lip | HP_0100333\\n cleft lip and palate | HP_0000175\\n lip pits | HP_0000196\\n pits | HP_0004467\\n Popliteal pterygium | HP_0009756\\n pterygium | HP_0001059\\n skin and genital anomalies | HP_0000951\\n genital anomalies | HP_0000078\\n END',\n",
       " 'To determine the spectrum of manifestations in neurofibromatosis 2 (NF2) and to assess possible heterogeneity, we evaluated 63 affected individuals from 32 families. Work-up included skin and neurologic examinations, audiometry, a complete ophthalmology examination with slit-lamp biomicroscopy of the lens and fundus, and gadolinium-enhanced MRI of the brain and, in some, of the spine. Mean age-at-onset in 58 individuals was 20.3 years; initial symptoms resulted from vestibular schwannomas (44.4%), other CNS tumors (22.2%), skin tumors (12.7%), and ocular manifestations including cataracts and retinal hamartomas (12.7%). Five asymptomatic individuals were diagnosed through screening. Vestibular schwannomas were documented in 62 individuals (98.4%); other findings included cataracts (81.0%), skin tumors (67.7%), spinal tumors (67.4%), and meningiomas (49.2%). Usually, clinical manifestations and course were similar within families but differed among families. To assess possible heterogeneity, we assigned affected individuals to three proposed subtypes (representing mild, intermediate, and severe NF2) based on age-at-onset, presence or absence of CNS tumors other than vestibular schwannomas, and presence or absence of retinal hamartomas. Comparisons among the three subtypes for many clinical parameters demonstrated that patients in the mild subtype differed from those in the other two subtypes for most parameters, but that none of the parameters distinguished patients in the intermediate subtype from those in the severe subtype. Thus, there are likely two rather than three subtypes of NF2. Classification of patients to subtype may aid in counseling about long-term prognosis and in formulating individualized guidelines for medical surveillance. \\n\\n##\\n\\n  neurofibromatosis | HP_0006746\\n heterogeneity | HP_0001425\\n vestibular schwannomas | HP_0009588\\n schwannomas | HP_0100008\\n CNS tumors | HP_0004375\\n tumors | HP_0002664\\n skin tumors | HP_0008069\\n ocular manifestations | HP_0000478\\n cataracts | HP_0000518\\n retinal hamartomas | HP_0009594\\n spinal tumors | HP_0010302\\n meningiomas | HP_0002858\\n END',\n",
       " \"Mutations have been found in the UBE3A gene (E6-AP ubiquitin protein ligase gene) in many Angelman syndrome (AS) patients with no deletion, no uniparental disomy, and no imprinting defect. UBE3A mutations are more frequent in familial than in sporadic patients and the mutations described so far seem to cause similar phenotypes in the familial affected cases. Here we describe two first cousins who have inherited the same UBE3A frameshift mutation (duplication of GAGG in exon 10) from their asymptomatic mothers but present discordant phenotypes. The proband shows typical AS features. Her affected cousin shows a more severe phenotype, with asymmetric spasticity that led originally to a diagnosis of cerebral palsy. Proband's brain MRI shows mild cerebral atrophy while her cousin's brain MRI shows severe brain malformation. This family demonstrates that, although brain malformation is unusual in AS, presence of a brain malformation does not exclude the diagnosis of AS. Also, this UBE3A mutation was transmitted from the cousin's grandfather to only two sisters among eight full siblings, raising the hypothesis of mosaicism for this mutation. \\n\\n##\\n\\n  sporadic | HP_0003745\\n spasticity | HP_0001257\\n cerebral palsy | HP_0100021\\n cerebral atrophy | HP_0002059\\n brain malformation | HP_0007319\\n END\",\n",
       " 'Two unrelated females, age 15 and 5 years respectively, were studied cytogenetically because of severe mental retardation, seizures and ataxia-like incoordination. A similar deletion of the proximal long arm of chromosome 15 was found in both patients. Re-evaluation showed no voracious appetite or obesity; normal size of hands and feet, minimal to no hypotonia by history or examination and facial features not typical of the Prader-Willi syndrome. However, the facial appearance of the girls was similar to each other with mild hypertelorism. The similarity of these girls and dissimilarity to Prader-Willi syndrome suggest a different syndrome, perhaps the result of deletion of a different segment of 15q. The findings of ataxic-like movements, frequent, unprovoked and prolonged bouts of laughter and facial appearance are more compatible with the diagnosis of Angelman syndrome. \\n\\n##\\n\\n  severe mental retardation | HP_0002187\\n mental retardation | HP_0001249\\n seizures | HP_0001250\\n ataxia | HP_0001251\\n incoordination | HP_0002311\\n voracious appetite | HP_0002591\\n obesity | HP_0001513\\n hypotonia | HP_0001252\\n facial appearance | HP_0001999\\n hypertelorism | HP_0000316\\n frequent, unprovoked and prolonged bouts of laughter | HP_0000749\\n laughter | HP_0000748\\n END',\n",
       " 'Angelman syndrome (AS), characterized by mental retardation, seizures, frequent smiling and laughter, and abnormal gait, is one of the best examples of human disease in which genetic imprinting plays a role. In about 70% of cases, AS is caused by de novo maternal deletions at 15q11-q13 (ref. 2). Approximately 2% of AS cases are caused by paternal uniparental disomy (UPD) of chromosome 15 (ref. 3) and 2-3% are caused by \"imprinting mutations\\'. In the remaining 25% of AS cases, no deletion, uniparental disomy (UPD), or methylation abnormality is detectable, and these cases, unlike deletions or UPD, can be familial. These cases are likely to result from mutations in a gene that is expressed either exclusively or preferentially from the maternal chromosome 15. We have found that a 15q inversion inherited by an AS child from her normal mother disrupts the 5\\' end of the UBE3A (E6-AP) gene, the product of which functions in protein ubiquitination. We have looked for novel UBE3A mutations in nondeletion/non-UPD/non-imprinting mutation (NDUI) AS patients and have found one patient who is heterozygous for a 5-bp de novo tandem duplication. We have also found in two brothers a heterozygous mutation, an A to G transition that creates a new 3\\' splice junction 7 bp upstream from the normal splice junction. Both mutations are predicted to cause a frameshift and premature termination of translation. Our results demonstrate that UBE3A mutations are one cause of AS and indicate a possible abnormality in ubiquitin-mediated protein degradation during brain development in this disease. \\n\\n##\\n\\n  mental retardation | HP_0001249\\n seizures | HP_0001250\\n frequent smiling and laughter | HP_0000749\\n laughter | HP_0000748\\n abnormal gait | HP_0001288\\n de novo | HP_0003745\\n END',\n",
       " 'The nevoid basal cell carcinoma syndrome (NBCC) is an autosomal dominant multisystem disorder with variable expressivity. We present the clinical findings on 11 African-American NBCC cases from 2 families and a review of the literature of NBCC in African-Americans. The 2 new families, as well as those previously reported, suggest minimal expression of the basal cell carcinomas and full expression of the other components of the syndrome. The 3 most common findings in the 11 cases were jaw cysts, palmar and/or plantar pits, and calcification of the falx cerebri. Only 44% (4/11) of these cases had one or more confirmed basal cell carcinomas. This frequency is substantially less than that observed in whites (90% with basal cell carcinomas). The relative lack of these skin tumors in African-Americans partly reflects ultraviolet radiation protection resulting from increased skin pigmentation. Future research should help identify the specific mutation(s) in blacks as well as other modifying genes and environmental exposures that may contribute to the varied manifestations of the syndrome. \\n\\n##\\n\\n  basal cell carcinoma | HP_0002671\\n autosomal dominant | HP_0000006\\n variable | HP_0003813\\n variable expressivity | HP_0003828\\n jaw cysts | HP_0010603\\n palmar and/or plantar pits | HP_0010612\\n pits | HP_0004467\\n calcification of the falx cerebri | HP_0005462\\n skin tumors | HP_0008069\\n tumors | HP_0002664\\n increased skin pigmentation | HP_0000953\\n END',\n",
       " 'Angelman syndrome (AS) is a neurogenetic disorder characterized by severe mental retardation, speech disorder, stereotyped jerky movements, and a peculiar behavioral profile, with a happy disposition and outbursts of laughter. Most patients with AS present with epilepsy and suggestive electroencephalographic patterns, which may be used as diagnostic criteria.\\r\\n\\r\\nTo study epilepsy and response to treatment in a series of patients with AS determined by deletion.\\r\\n\\r\\nParent and caregiver interview and medical record review.\\r\\n\\r\\nEpilepsy Center at the University of SÃ£o Paulo.\\r\\n\\r\\nNineteen patients with AS determined by deletion of chromosome 15q11-13.\\r\\n\\r\\nEpilepsy severity, epilepsy evolution, and response to antiepileptic drug treatment.\\r\\n\\r\\nAll patients with AS in this group had generalized epilepsy, and 10 (53%) also had partial epilepsy. Main seizure types were atypical absences and myoclonic and tonic-clonic seizures. Mean age at onset was 1 year 1 month. Epilepsy aggravated by fever occurred in 10 patients (53%) and status epilepticus in 16 (84%). Eighteen patients (95%) had previous or current history of daily seizures, of which 14 (64%) had disabling seizures. Multiple seizure types were observed in 13 patients (53%). History of refractory epilepsy was reported in 16 patients (84%). Parents reported improvement, characterized by decrease in seizure frequency or seizure control, at the mean age of 5.3 years. Therefore, most of these patients had a period of refractory epilepsy; however, improvement occurred during late childhood and puberty. The best therapeutic response was obtained with valproic acid alone or in association with phenobarbital or clonazepam. Epilepsy was aggravated by carbamazepine, oxcarbazepine, and vigabatrin.\\r\\n\\r\\nPatients with AS with deletion have epilepsy with early onset and stereotyped electroclinical profile regarding seizure type, severity, and response to antiepileptic drug treatment. Another feature of AS is the age-related improvement, even in refractory cases, during late childhood and puberty. These characteristics are not specific to this syndrome but, when inserted in the proper clinical context, may anticipate diagnosis. We believe that AS should be considered a differential diagnosis in developmentally delayed infants with severe, generalized, cryptogenic epilepsy; however, a proper electroclinical delineation of each genetic group is mandatory. \\n\\n##\\n\\n  severe mental retardation | HP_0002187\\n mental retardation | HP_0001249\\n speech disorder | HP_0007170\\n stereotyped jerky movements | HP_0007087\\n behavioral profile | HP_0000715\\n happy disposition | HP_0100024\\n outbursts of laughter | HP_0000749\\n laughter | HP_0000748\\n epilepsy | HP_0001250\\n electroencephalographic patterns | HP_0002353\\n e types were atyp | HP_0007270\\n absences and myoclonic and tonic-cl | HP_0002123\\n absences  | HP_0001336\\n yoclonic and tonic-cl | HP_0002069\\n ggrav | HP_0001945\\n ts (53%) and statu | HP_0002133\\n  during l | HP_0011463\\n  epilepsy w | HP_0003593\\n l diagnosis in developm | HP_0001263\\n END',\n",
       " 'Branchiootorenal (BOR) syndrome is a common autosomal dominant form of hearing impairment previously mapped to 8q. This report refines the localization of the BOR syndrome gene by haplotype analysis to the interval flanked by markers D8S553 and D8S286. By multipoint linkage analysis, the disease locus most likely is flanked by markers D8S530 and D8S279. \\n\\n##\\n\\n  autosomal dominant form | HP_0000006\\n hearing impairment | HP_0000365\\n END',\n",
       " 'Angelman syndrome is a neurogenetic disorder caused by the loss of function of the imprinted UBE3A gene in 15q11-q13. In a small group of patients, the disease is due to an imprinting defect (ID) that silences the maternal UBE3A allele. The presence of a faint maternal band detected by methylation-specific PCR analysis of the SNURF-SNRPN locus in approximately one-third of patients who have an ID but no imprinting center deletion suggested that these patients are mosaics of ID cells and normal cells. In two patients studied, somatic mosaicism was proven by molecular and cellular cloning, respectively. X inactivation studies of cloned fibroblasts from one patient suggest that ID occurred before the blastocyst stage. To quantify the degree of mosaicism, we developed a novel quantitative methylation assay based on real-time PCR. In 24 patients tested, the percentage of normal cells ranged from <1% to 40%. Regression analysis suggests that patients with a higher percentage of normally methylated cells tend to have milder clinical symptoms than patients with a lower percentage. In conclusion, we suggest that the role of mosaic imprinting defects in mental retardation is underestimated. \\n\\n##\\n\\n  somatic mosaicism | HP_0001442\\n mental retardation | HP_0001249\\n END',\n",
       " 'The Gorlin (naevoid-basal-cell-carcinoma) syndrome is an autosomal dominant disorder characterised by multiple naevoid basal-cell carcinomas, recurrent odontogenic keratocysts, skeletal anomalies, intracranial calcification, and developmental malformations. Characterisation of the gene that causes the syndrome may improve our understanding of the pathogenesis of other basal-cell carcinomas. By linkage analysis, we have shown that the gene is located on chromosome 9q22.3-q31; the most likely position is between DNA markers D9S12 and D9S53. Location of the gene for Gorlin syndrome offers the possibility that DNA markers can be used in risk estimation and presymptomatic identification of patients for surveillance. \\n\\n##\\n\\n  basal-cell-carcinoma | HP_0002671\\n autosomal dominant | HP_0000006\\n multiple naevoid basal-cell carcinomas | HP_0001054\\n odontogenic keratocysts | HP_0010603\\n skeletal anomalies | HP_0000924\\n intracranial calcification | HP_0002514\\n developmental malformations | HP_0001263\\n END',\n",
       " 'We report on 44 patients (18 with additional affected family members), with congenital distal limb contractures identified from a large study of over 350 patients with congenital joint contractures. Fourteen propositi (seven familial cases, seven isolated cases) had a newly recognized form of arthrogryposis, which we have designated distal arthrogryposis type 1, with the predominant manifestations of autosomal dominant inheritance; tightly clenched fists at birth, with medially overlapping fingers, ulnar deviation, and camptodactyly in adults; and positional foot deformities. Contractures at other major joints are variable. There are no associated visceral anomalies; intelligence is normal. There can be marked intrafamilial and interfamilial variability. Twenty-two propositi with similar distal contractures had additional findings and were classified into five subcategories of distal arthrogryposis (type IIA-E). Among type II patients cleft palate, cleft lip, small tongue, trismus, ptosis, epicanthal folds, keratoconus, short stature, scoliosis, a unique hand position, and dull normal intelligence were seen. These characteristics were seen in various combinations and patterns and allowed sorting into groups that were the basis for the categorization. The remaining eight propositi were recognized to have previously described conditions with distal contractures and autosomal dominant inheritance, ie, the Freeman-Sheldon syndrome, trismus-pseudo-camptodactyly syndrome, congenital contractural arachnodactyly, and familial camptodactyly. Pathogenetically we postulate similar underlying defects of abnormal tendon attachments, attenuation, and absence; careful nosologic comparisons are important for prognostic counseling and habilitative management. \\n\\n##\\n\\n  congenital distal limb contractures | HP_0002803\\n distal limb contractures | HP_0005684\\n limb contractures | HP_0003121\\n contractures | HP_0001371\\n familial cases | HP_0000005\\n isolated cases | HP_0001420\\n arthrogryposis | HP_0001390\\n autosomal dominant | HP_0000006\\n tightly clenched fists | HP_0001188\\n medially overlapping fingers | HP_0010557\\n ulnar deviation | HP_0001193\\n camptodactyly | HP_0012385\\n positional foot deformities | HP_0005656\\n foot deformities | HP_0001760\\n variable | HP_0003813\\n visceral anomalies | HP_0002012\\n intrafamilial and interfamilial variability | HP_0003822\\n interfamilial variability | HP_0003812\\n cleft palate | HP_0000175\\n cleft lip | HP_0100333\\n small tongue | HP_0000171\\n trismus | HP_0000211\\n ptosis | HP_0000508\\n epicanthal folds | HP_0000286\\n keratoconus | HP_0000563\\n short stature | HP_0004322\\n scoliosis | HP_0002650\\n unique hand position | HP_0001155\\n contractural arachnodactyly | HP_0001166\\n END',\n",
       " 'The distal arthrogryposes (DAs) are a group of disorders characterized by multiple congenital contractures of the limbs. We previously mapped a locus for DA type 2B (DA2B), the most common of the DAs, to chromosome 11. We now report that DA2B is caused by mutations in TNNI2 that are predicted to disrupt the carboxy-terminal domain of an isoform of troponin I (TnI) specific to the troponin-tropomyosin (Tc-Tm) complex of fast-twitch myofibers. Because the DAs are genetically heterogeneous, we sought additional candidate genes by examining modifiers of mutant Drosophila isoforms of TnI. One of these modifiers, Tm2, encodes tropomyosin, another component of the Tc-Tm complex. A human homologue of Tm2, TPM2, encodes beta-tropomyosin and maps to the critical interval of DA type 1 (DA1). We discovered that DA1 is caused by substitution of a highly conserved amino acid residue in beta-tropomyosin. These findings suggest that DAs, in general, may be caused by mutations in genes encoding proteins of the contractile apparatus specific to fast-twitch myofibers. This provides a new opportunity to directly study the etiology and pathogenesis of multiple-congenital-contracture syndromes. \\n\\n##\\n\\n  distal arthrogryposes | HP_0005684\\n multiple congenital contractures | HP_0005188\\n congenital contractures | HP_0002803\\n contractures | HP_0001371\\n contractures of the limbs | HP_0003121\\n heterogeneous | HP_0001425\\n END',\n",
       " 'We observed an autosomal dominant disorder of abnormal upper lip, which resembles a poorly repaired cleft lip, malformed nose with broad bridge and flattened tip, lacrimal duct obstruction, malformed ears, and branchial cleft sinuses and/or linear skin lesions behind the ears in several persons in 3 families. In each of the 3 families, an affected parent had at least one affected child. Father-to-son transmission in one of these families ruled out X-linked inheritance. Other anomalies include coloboma, microphthalmia, auricular pits, lip pits, highly arched plate, dental anomalies, and subcutaneous cysts of the scalp. Premature graying of hair occurred in the affected adults. Growth retardation, developmental delay, and hand anomalies are variable components of the syndrome. \\n\\n##\\n\\n  autosomal dominant | HP_0000006\\n abnormal upper lip | HP_0000177\\n cleft lip | HP_0100333\\n malformed nose | HP_0000366\\n broad bridge | HP_0000431\\n flattened tip | HP_0000437\\n lacrimal duct obstruction | HP_0000579\\n malformed ears | HP_0000377\\n branchial | HP_0009794\\n linear skin lesions behind the ears | HP_0004464\\n skin lesions | HP_0011355\\n X-linked inheritance | HP_0001417\\n coloboma | HP_0000589\\n microphthalmia | HP_0000568\\n auricular pits | HP_0004467\\n lip pits | HP_0000196\\n highly arched plate | HP_0000156\\n dental anomalies | HP_0000164\\n subcutaneous cysts | HP_0200040\\n cysts of the scalp | HP_0001965\\n Premature graying of hair | HP_0002216\\n Growth retardation | HP_0001510\\n retardation | HP_0001249\\n developmental delay | HP_0001263\\n hand anomalies | HP_0001155\\n variable | HP_0003813\\n END',\n",
       " 'To describe the ophthalmic and systemic features in a series of patients initially seen with eyelid basal cell carcinoma associated with Gorlin-Goltz syndrome.\\r\\n\\r\\nRetrospective noncomparative case series.\\r\\n\\r\\nOf 105 consecutive patients with eyelid basal cell carcinoma managed at an Ocular Oncology Center between January 1973 and December 1999, four patients with Gorlin-Goltz syndrome were identified.\\r\\n\\r\\nThe ophthalmic and systemic features, management, and outcome of patients with eyelid basal cell carcinoma associated with Gorlin-Goltz syndrome were analyzed. The published literature on Gorlin-Goltz syndrome, specifically related to genetics, systemic features, ophthalmic associations, and prophylactic management strategies, was reviewed.\\r\\n\\r\\nResponse of the eyelid basal cell carcinoma to treatment and the final systemic condition were the main outcome measures.\\r\\n\\r\\nAll four patients had a family history of Gorlin-Goltz syndrome. The systemic manifestations included multiple basal cell carcinomas in all the patients, frontal bossing or increased occipitofrontal circumference in three patients, palmar pits in two patients, odontogenic keratocyst in one patient, ectopic calcification in one patient, and bifid rib in one patient. The mean age at the detection of the first basal cell carcinoma was 30 years (range, 16-38 years). All four patients had multiple basal cell carcinomas on the face and elsewhere. The eyelid basal cell carcinoma was advanced with orbital infiltration in three patients, one of whom opted for palliative radiotherapy, whereas the other two underwent orbital exenteration. The fourth patient, who had localized recurrent basal cell carcinoma in the upper eyelid, was treated with excision and eyelid reconstruction. At the final follow-up (mean, 41 months), eyelid basal cell carcinoma was cured in three patients and stable in one patient. No patient had life-threatening sequelae of Gorlin-Goltz syndrome.\\r\\n\\r\\nGorlin-Goltz syndrome is a rare autosomal dominant cancer predisposition syndrome that may be associated with eyelid basal cell carcinoma. The associated systemic findings may be a clue to the diagnosis of this condition. It is important to recognize Gorlin-Goltz syndrome when a patient has multiple basal cell carcinomas or when a young patient with eyelid basal cell carcinoma is seen by an ophthalmologist, because lifelong monitoring is essential for patient management. \\n\\n##\\n\\n  basal cell carcinoma | HP_0002671\\n patients, front | HP_0002007\\n ossing or increased occipitofrontal cir | HP_0000256\\n patients, p | HP_0010610\\n s, p | HP_0004467\\n patients, odontogenic  | HP_0010603\\n  patient, ectopic cal | HP_0010766\\n ient, and | HP_0000892\\n  multiple basal cell carcinomas o | HP_0000271\\n e is a rare autoso | HP_0000006\\n al dom | HP_0002664\\n s or  | HP_0003593\\n END',\n",
       " 'Club foot is one of the most common human congenital malformations. Distal arthrogryposis type I (DA-1) is a frequent cause of dominantly inherited club foot. Performing a genomewide search using short tandem repeat (STR) polymorphisms, we have mapped a DA-1 gene to the pericentromeric region of chromosome 9 in a large kindred. Linkage analysis has generated a positive lod score of 5.90 at theta = 0, with the marker GS-4. Multiple recombinants bracketing the region have been identified. Analysis of an additional family demonstrated no linkage to the same locus, indicating likely locus heterogeneity. Of the autosomal congenital contracture disorders causing positional foot deformities, this is the first to be mapped. \\n\\n##\\n\\n  Club foot | HP_0001762\\n Distal arthrogryposis | HP_0005684\\n arthrogryposis | HP_0001390\\n dominantly inherited | HP_0000006\\n locus heterogeneity | HP_0001425\\n congenital contracture | HP_0002803\\n contracture | HP_0001371\\n positional foot deformities | HP_0005656\\n foot deformities | HP_0001760\\n END',\n",
       " 'The mutation brachypodism (bp) alters the length and number of bones in the limbs of mice but spares the axial skeleton. It illustrates the importance of specific genes in controlling the morphogenesis of individual skeletal elements in the tetrapod limb. We now report the isolation of three new members of the transforming growth factor-beta (TGF-beta) superfamily (growth/differentiation factors (GDF) 5,6 and 7) and show by mapping, expression patterns and sequencing that mutations in Gdf5 are responsible for skeletal alterations in bp mice. GDF5 and the closely related GDF6 and GDF7 define a new subgroup of factors related to known bone- and cartilage-inducing molecules, the bone morphogenetic proteins (BMPs). Studies of Bmp5 mutations in short ear mice have shown that at least one other BMP gene is also required for normal skeletal development. The highly specific skeletal alterations in bp and short ear mice suggest that different members of the BMP family control the formation of different morphological features in the mammalian skeleton. \\n\\n##\\n\\n  short ear | HP_0400005\\n END',\n",
       " 'Mutations in SALL1 and GLI3 are responsible for human limb malformation syndromes. The molecular pathophysiology of these mutations is incompletely understood, and many conclusions have been drawn from studies performed in the mouse. We identified truncating mutations in SALL1 and GLI3 in patients with limb malformation and studied the contribution of nonsense-mediated decay (NMD) to the expression of mutant mRNA in patient-derived fibroblasts. Quantification of the relative proportions of mutant and wild-type alleles was performed by pyrosequencing. In SALL1, a mutant allele causing Townes-Brocks syndrome was unexpectedly resistant to NMD, whereas a different mutation causing a much milder phenotype was susceptible to NMD. In GLI3, all three mutant alleles tested were susceptible to NMD. This work provides novel insights into the molecular pathophysiology of SALL1 and GLI3 mutations, extends the phenotypic spectrum of SALL1 mutations, and provides an example of a human mutation which does not follow the usual accepted positional rules governing mammalian NMD. (c) 2007 Wiley-Liss, Inc. \\n\\n##\\n\\n  limb malformation | HP_0002813\\n END',\n",
       " 'CDMP-1, a cartilage-specific member of the TGFss superfamily of secreted signaling molecules, plays a key role in chondrogenesis, growth and patterning of the developing vertebrate skeleton. Homozygous CDMP-1 mutations cause Hunter-Thompson and Grebe types of acromesomelic chondrodysplasia and DuPan syndrome in humans, as well as brachypodism in mice, while heterozygous mutations cause brachydactyly type C (BDC). We present clinical and radiographic data from three unrelated families in which 12 members share the same heterozygous CDMP-1 mutation, an insertion (insG206), resulting in a frameshift predicted to cause functional haploinsufficiency. Although eight mutation carriers display BDC, four have normal hands and feet, confirming nonpenetrance of BDC with CDMP-1 mutations. In addition, several carriers have other skeletal abnormalities, including severe bilateral vertical talus (in two), developmental hip dysplasia (in one), and short stature (in two, who are otherwise unaffected). Premature vertebral end-plate disease was observed in four mutation carriers and was associated with spondylolysis and spondylolisthesis in three of these. Axial skeletal involvement has not been previously reported in association with CDMP-1 mutations. This finding is consistent with CDMP-1 expression in human hypertrophic chondrocytes, which are present in the ring epiphyses of vertebral end plates. Phenotypic variation in BDC has previously been attributed either to locus heterogeneity or to the varied functional effects of different CDMP-1 mutations. The remarkable range of phenotypes caused by this identical CDMP-1 mutation in these families emphasizes the crucial role of genetic background, stochastic variation and/or environmental factors in modifying the observed phenotype. Our findings illustrate that nonpenetrance for the typical features of BDC can be appreciable and that atypical skeletal features that have been reported in some patients with BDC (i.e., clubfoot, short stature, spondylolysis) may also result from CDMP-1 mutation. \\n\\n##\\n\\n  brachydactyly | HP_0001156\\n brachydactyly type C | HP_0009373\\n nonpenetrance | HP_0003829\\n skeletal abnormalities | HP_0000924\\n vertical talus | HP_0001838\\n developmental hip dysplasia | HP_0001385\\n short stature | HP_0004322\\n Premature vertebral end-plate disease | HP_0008419\\n spondylolysis | HP_0003304\\n spondylolisthesis | HP_0003302\\n Axial skeletal involvement | HP_0009121\\n Phenotypic variation | HP_0003812\\n locus heterogeneity | HP_0001425\\n clubfoot | HP_0001762\\n END',\n",
       " 'Type A1 brachydactyly in humans is a recognisable syndrome characterised by shortening of the middle phalanx of all digits with occasional fusion of the middle and terminal phalanges. The purpose of this study was to evaluate candidate genes for type A1 brachydactyly in two families with multiple affected members. Several classes of genes have been implicated in the control of distal limb development including homeobox containing genes (MSX1, MSX2) some members of the homeobox gene family, and genes encoding growth factors of the FGF, TGF, and PDGF families. Homeobox (Hox) genes are a family of developmental control genes activated early in embryogenesis that encode positional information along the anterior-posterior body axis and specify distinct spatial domains within developing limbs. Growth factor genes can regulate the proliferation and differentiation of various embryonic structures including limb buds and have been shown to influence Hox gene expression. Candidate genes HOXD, MSX1, MSX2, FGF-1, and FGF-2 were excluded in one family. The brachydactyly type A1 gene or locus was not found in either of the two families studied. \\n\\n##\\n\\n  Type A1 brachydactyly | HP_0009371\\n brachydactyly | HP_0001156\\n shortening of the middle phalanx of all digits | HP_0009843\\n fusion of the middle and terminal phalanges | HP_0001204\\n END',\n",
       " 'Eleven patients with Angelman syndrome (AS) and their parents from 5 families have been studied with high resolution chromosome analysis and molecular probes from region 15q11-13 in an attempt to elucidate the mode of inheritance in familial AS. No deletions were detected. All families were informative with a combination of different short arm cytogenetic markers. All sets of sibs inherited the same maternal chromosome 15, but in 3 families sibs inherited different paternal 15s. Analysis of 6 polymorphic DNA markers supported the conclusion that AS sibs inherit the same maternal 15, but often different paternal 15s. These data make autosomal recessive inheritance at a 15q11-13 locus very unlikely and support the hypothesis that familial AS is due to maternal transmission of a mutation within 15q11-13. \\n\\n##\\n\\n  mode of inheritance | HP_0000005\\n autosomal recessive | HP_0000007\\n END',\n",
       " 'Gorlin syndrome (GS) is inherited in an autosomal dominant pattern with high-penetrance and is characterized by a range of developmental anomalies and increased risk of developing basal cell carcinoma and medulloblastoma. Between 50% and 85% of patients with GS harbor germ line mutations in the only susceptibility gene identified to date, PTCH1, a key component in the Sonic Hedgehog signaling pathway. Another component in this pathway, SUFU, is known to be involved in susceptibility to medulloblastoma but has never been reported in GS patients to date. We have identified the known c.1022 + 1G>A SUFU germ line splicing mutation in a family that was PTCH1-negative and who had signs and symptoms of GS, including medulloblastoma. This is the first report of a germ line SUFU mutation associated with GS. \\n\\n##\\n\\n  autosomal dominant | HP_0000006\\n basal cell carcinoma | HP_0002671\\n medulloblastoma | HP_0002885\\n END',\n",
       " \"One hundred eighteen cases of nevoid basal cell carcinoma syndrome (NBCCS, Gorlin's syndrome or basal cell nevus syndrome) are presented in this study. In aiming to ascertain all the affected families in Australia, we have examined the largest series to date. Relative frequencies of associated complications are presented and compared with those of the recent English survey by Evans et al. [J Med Genet 30:460-464, 1993]. The frequencies of most manifestations are similar. However, one major difference is that the multiple basal cell carcinomas are manifest from an earlier age in the Australian population, which probably reflects greater exposure to ultraviolet radiation. Of the 64 families ascertained, 37 represented simplex cases, and, accordingly, the apparent new mutation rate is surprisingly high (14-81%) given the lack of impact of NBCCS on reproductive capabilities. There is some evidence to suggest that this may be attributable to anticipation. \\n\\n##\\n\\n  basal cell carcinoma | HP_0002671\\n END\",\n",
       " 'Branchio-oto-renal syndrome (BOR) is an autosomal dominant disorder with variable clinical manifestations affecting branchial, renal and auditory development. Varying clinical expression of the disease between different families suggests that multiple loci may be involved. However, the possibility of genetic heterogeneity as the cause of clinical variability cannot be resolved until the gene(s) causing BOR syndrome are mapped. DNA from four generations of a family with autosomal dominant BOR syndrome have been typed with a series of genetic markers on the long arm of chromosome 8. Using two point linkage analysis, a significant lod score of Z = 4.0 at theta = 0.05 was obtained with the D8S165 microsatellite marker. Multipoint analyses with 8q markers place the gene for BOR between the markers D8S87 and D8S165. \\n\\n##\\n\\n  autosomal dominant | HP_0000006\\n variable | HP_0003813\\n manifestations affecting branchial, renal | HP_0000077\\n manifestations affecting branchial | HP_0009794\\n manifestations affecting branchial, renal and auditory development | HP_0000364\\n genetic heterogeneity | HP_0001425\\n clinical variability | HP_0003812\\n END',\n",
       " 'A family with the Popliteal Pterygium Syndrome is presented. The father was born with a cleft of the palate and lower lip pits. Two of the three offspring showed extensive involvement of the palate, gums, and lips with minimal involvement of the lower limbs, genitalia, and nails. \\n\\n##\\n\\n  Popliteal Pterygium | HP_0009756\\n cleft of the palate | HP_0000175\\n lower lip pits | HP_0000196\\n pits | HP_0004467\\n involvement of the palate, gums, and lips | HP_0000159\\n involvement of the palate | HP_0000174\\n involvement of the lower limbs | HP_0002814\\n involvement of the lower limbs, genitalia, and nails | HP_0001597\\n involvement of the lower limbs, genitalia | HP_0000078\\n END',\n",
       " 'The human homologue of the Drosophila segment polarity gene patched is implicated in the development of nevoid basal cell carcinoma syndrome (NBCCS) and in the genesis of sporadic basal cell carcinomas. In order to examine the phenotypic variability in NBCCS and to highlight functionally important domains of the PTCH protein, we have now screened 71 unrelated NBCCS individuals for mutations in the PTCH exons. We identified 28 mutations that are distributed throughout the entire gene, and most (86%) cause protein truncation. As part of this analysis, we demonstrate that failure of one NBCCS family to show clear linkage to chromosome 9q22.3-31 is most likely due to germinal mosaicism. We have identified three families bearing identical mutations with variable phenotypes, suggesting phenotypic variability in NBCCS is a complex genetic event. No phenotype genotype correlation between the position of truncation mutations and major clinical features was evident. Two missense mutations have been identified, and their location within transmembrane domains supports the notion that PTCH may have a transport function. The preponderance of truncation mutants in the germ line of NBCCS patients suggests that the developmental defects associated with the disorder are most likely due to haploinsufficiency. \\n\\n##\\n\\n  basal cell carcinoma | HP_0002671\\n sporadic | HP_0003745\\n phenotypic variability | HP_0003812\\n variable phenotypes | HP_0003813\\n developmental defects | HP_0001263\\n END',\n",
       " 'Angelman syndrome (AS) is a neurodevelopmental disorder caused by the absence of a maternal contribution to chromosome 15q11-q13. There are four classes of AS according to molecular or cytogenetic status: maternal microdeletion of 15q11-q13 (approximately 70% of AS patients); uniparental disomy (UPD); defects in a putative imprinting centre (IM); the fourth includes 20-30% of AS individuals with biparental inheritance and a normal pattern of allelic methylation in 15q11-q13. Mutations of UBE3A have recently been identified as causing AS in the latter group. Few studies have investigated the phenotypic differences between these classes. We compared 20 non-deletion to 20 age-matched deletion patients and found significant phenotypic differences between the two groups. The more severe phenotype in the deletion group may suggest a contiguous gene syndrome. \\n\\n##\\n\\n  neurodevelopmental disorder | HP_0000707\\n contiguous gene syndrome | HP_0001466\\n END',\n",
       " 'The authors report a new case of Townes-Brocks syndrome with cardiac defect, ossicular anomalies and dominant transmission. The intrafamilial variability of the phenotype and the difficulty of diagnosis in isolated cases are underlined. \\n\\n##\\n\\n  cardiac defect | HP_0001627\\n ossicular anomalies | HP_0001759\\n dominant transmission | HP_0000006\\n intrafamilial variability | HP_0003822\\n variability | HP_0003812\\n isolated cases | HP_0001420\\n END',\n",
       " 'The phenotype of Gorlin-Goltz syndrome or basal cell nevus syndrome (BCNS, #109400, OMIM), a Mendelian trait due to PTCH mutations has been reported in a few cases of interstitial deletion of chromosome 9q. We present an 11-year-old girl with clinical features consistent with BCNS including bridging of sella turcica, biparietal bossing, downward slanting palpebral fissures, mandible prognathism, pectus excavatum, thumb abnormalities, occult spina bifida at L5-S4, numerous basal cell nevi, and single basal cell carcinoma. Cytogenetic analysis using high-resolution banding techniques and fluorescence in situ hybridization (FISH) revealed interstitial chromosome deletion 9q22.32-q33.2 involving the PTCH gene as a secondary breakage event to a chromosome translocation t(9;17)(q34.1;p11.2)mat. Further FISH studies showed the translocation breakpoint on 9q34.11 maps proximal to ABL, between the BAC clone RP11-88G17 and the LMX1B gene. The latter gene encodes a transcription factor, in which loss of function mutations are responsible for the nail-patella syndrome (NPS, #161200 OMIM). Interestingly, some features of our proband (e.g., bilateral patellar dysplasia and abnormal clavicular shape), as well as her healthy sister who carries the same translocation, are also found in patients with NPS. The chromosome 17p11.2 breakpoint maps in the Smith-Magenis syndrome common deletion region, within two overlapping BAC clones, CTD-2354J3 and RP11-311F12. \\n\\n##\\n\\n  basal cell nevus | HP_0002671\\n bridging of sella turcica | HP_0005449\\n biparietal bossing | HP_0000242\\n downward slanting palpebral fissures | HP_0000494\\n mandible prognathism | HP_0000303\\n pectus excavatum | HP_0000767\\n thumb abnormalities | HP_0001172\\n occult spina bifida | HP_0003298\\n spina bifida | HP_0002414\\n numerous basal cell nevi | HP_0001054\\n patellar dysplasia | HP_0006446\\n abnormal clavicular shape | HP_0000889\\n END',\n",
       " 'Branchio-oto-renal (BOR) syndrome is a developmental complex presenting with various combinations of ear pits, branchial cleft cysts, deafness and renal anomalies, which is inherited as an autosomal dominant trait. This report describes a father and 2 children with BOR syndrome in which gustatory lacrimation (GL) was also present in 2 of them. GL is considered to be a rare, non-hereditary type of anomalous, cranial nerve-end organ innervation. Since lacrimal stenosis, which can clinically mimic GL, is also a feature of the BOR syndrome, future reports require lacrimal reflex testing and duct patency evaluation to define this variation in the BOR phenotype. \\n\\n##\\n\\n  ear pits | HP_0004467\\n branchial | HP_0009794\\n branchial cleft cysts | HP_0009796\\n deafness | HP_0000404\\n renal anomalies | HP_0000077\\n autosomal dominant | HP_0000006\\n gustatory lacrimation | HP_0100274\\n cranial nerve-end organ innervation | HP_0001291\\n lacrimal stenosis | HP_0007925\\n END',\n",
       " 'Distal arthrogryposis type 1 (DA1) and Freeman-Sheldon syndrome (FSS) are the two most common known causes of inherited multiple congenital contractures. We recently have characterized a new disorder (DA2B) with a phenotype intermediate between DA1 and FSS. We report the mapping of a gene that causes DA2B to chromosome 11p15.5-pter. Linkage analysis in a single kindred generated a positive LOD score of 5.31 at theta = 0 with the marker D11S922, and recombinants localize the gene to an approximately 3.5-6.5-cM region between the marker TH and the telomere. Analysis of additional families improves the LOD score to 6.45 at theta = 0 and suggests linkage homogeneity for DA2B. \\n\\n##\\n\\n  Distal arthrogryposis | HP_0005684\\n arthrogryposis | HP_0001390\\n multiple congenital contractures | HP_0005188\\n congenital contractures | HP_0002803\\n contractures | HP_0001371\\n END',\n",
       " 'RFLP typing of members of a neurofibromatosis type 2 (NF2) family suggested that affected individuals were hemizygous at the neurofilament heavy chain (NEFH) locus, possibly as a result of a disease-associated deletion. Conventional karyotyping revealed no evidence for a deletion and all or a majority of the affected family members were heterozygous for closely linked markers which mapped proximal to the NEFH locus (D22S1 and D22S56) and for the distal marker D22S32. FISH analysis confirmed a disease-associated germinal deletion on 22q which encompassed the NEFH locus, which is known to be very closely linked to NF2, but did not extend as far as the proximal Ewing sarcoma region or the distal leukaemia factor (LIF) locus. PFGE analysis with a LIF cosmid subclone identified patient-specific NotI and MluI fragments and suggested that the deletion is about 700 kb in length. Although this large deletion could be expected to eliminate a considerable fraction, and possibly all of the NF2 gene, the resulting phenotype is the mild, so-called Gardner subtype of NF2. The deletion should provide a useful mapping resource for characterising the chromosomal region containing the NF2 locus. \\n\\n##\\n\\n  neurofibromatosis | HP_0006746\\n sarcoma | HP_0100242\\n END',\n",
       " 'Prader-Willi and Angelman syndromes are 2 clinically distinct disorders associated with multiple anomalies and mental retardation. They are only discussed together because they share a similar and uncommon genetic basis: they involve genes that are located in the same region in the genome and are characterized by genetic imprinting. This normal process has contributed to these 2 complex and severe conditions through inactivation of 1 copy of the genes relevant to each disorder: the maternally derived copy of genes for Prader-Willi syndrome in proximal 15q are normally silent, and a paternally derived copy of 1 gene for Angelman syndrome in 15q is normally silent. For both disorders, when the normally active copy of the gene or genes is missing, abnormality results. Since the genes for these 2 disorders are located very close together, and since the center involved in inactivating the genes involved in imprinting may be the same, both these disorders usually result from the same chromosomal deletion; which disorder results depends on the parent of origin of the chromosome 15 that becomes deleted. Both Prader-Willi and Angelman syndrome can also occur as a result of having both members of the chromosome 15 pair derived from 1 parent, a condition known as uniparental disomy. Both can also result from a structural abnormality of the imprinting center, known as an imprinting mutation. In addition, Angelman syndrome can be caused by a mutation in the gene that causes it; a comparable cause is not present in Prader-Willi syndrome since it results from abnormality in more than 1 gene. Finally, despite the complexity of possible causes, all but the single gene mutation of the Angelman syndrome gene can be detected through methylation-sensitive DNA probes, since DNA methylation is the process by which the genes for these 2 disorders are imprinted. This unusual property of specific areas of the DNA holds promise for future treatment of these and other disorders related to imprinting through reversal of the imprinting process. \\n\\n##\\n\\n  mental retardation | HP_0001249\\n END',\n",
       " 'Prader-Willi syndrome (PWS) and Angelman syndrome (AS) are distinct mental retardation disorders associated with deletions of proximal 15q (q11-q13) of different parental origin. Yeast artificial chromosome (YAC) clones were isolated for 9 previously mapped DNA probes from this region, and for one newly derived marker, LS6-1 (D15S113). A YAC contig of 1-1.5 Mb encompassing four markers (ML34, IR4-3R, PW71, and TD189-1) was constructed. Multi-color fluorescence in situ hybridization (FISH) analysis of interphase nuclei was combined with YAC contig information to provide the following order of markers: cen-IR39-ML34-IR4-3R-PW71-TD189-1-LS6++ +-1-TD3-21-GABRB3-IR10-1-CMW1-tel. FISH analysis was performed on 8 cases of PWS and 3 cases of AS, including 5 patients with normal karyotypes. All eleven patients were deleted for YACs in the interval from IR4-3R to GABRB3. On the proximal side of the deletion interval, 10/10 breakpoints fell within a single ML34 YAC of 370 kb. On the distal side, 8/9 breakpoints fell within a single IR10-1 YAC of 200 kb. These results indicate a striking consistency in the location of the proximal and distal breakpoints in PWS and AS patients. FISH analysis on a previously reported case of familial AS confirmed a submicroscopic deletion including YACs corresponding to LS6-1, TD3-21 and GABRB3 and supports the separation of the PWS and AS critical regions. Since these three YACs do not overlap each other, the minimum size of the AS critical region is > or = 650 kb. \\n\\n##\\n\\n  mental retardation | HP_0001249\\n familial AS | HP_0000005\\n END',\n",
       " 'We report on a family in which individuals at risk for NF 2 were investigated with the use of gadolinium-enhanced MRI. This technique has allowed the diagnosis of small (less than 8 mm) acoustic neuromas in two asymptomatic children (age 7 and 11), one of whom had normal audiometric and brainstem-evoked response testing. To our knowledge these are the youngest asymptomatic patients in whom the diagnosis of NF 2 has been demonstrated. It is possible that acoustic neuromas develop at an early age more commonly than recognized previously. The early diagnosis of acoustic neuromas with the use of gadolinium-enhanced MRI may lead to better outcome following surgery. This technique will provide the opportunity to better determine the natural course of this disease. \\n\\n##\\n\\n  acoustic neuromas | HP_0009588\\n early age | HP_0003593\\n END',\n",
       " 'Growth/differentiation factor-5 (GDF5), also known as cartilage-derived morphogenetic protein-1 (CDMP-1), is a secreted signaling molecule that participates in skeletal morphogenesis. Heterozygous mutations in GDF5, which maps to human chromosome 20, occur in individuals with autosomal dominant brachydactyly type C (BDC). Here we show that BDC is locus homogeneous by reporting a GDF5 frameshift mutation segregating with the phenotype in a family whose trait was initially thought to map to human chromosome 12. We also describe heterozygous mutations in nine additional probands/families with BDC and show nonpenetrance in a mutation carrier. Finally, we show that mutant GDF5 polypeptides containing missense mutations in their active domains do not efficiently form disulfide-linked dimers when expressed in vitro. These data support the hypothesis that BDC results from functional haploinsufficiency for GDF5. \\n\\n##\\n\\n  autosomal dominant | HP_0000006\\n brachydactyly | HP_0001156\\n brachydactyly type C | HP_0009373\\n nonpenetrance | HP_0003829\\n END',\n",
       " \"Neurofibromatosis type 2 (NF2) is a highly penetrant autosomal dominant condition predisposing affected individuals to schwannomas and meningiomas. The proportion of children presenting with meningioma or schwannoma who have NF2 is not well described, and neither is the mode of presentation in most children with the inherited disease.\\r\\n\\r\\nTo determine the frequency of childhood meningioma and schwannoma cases caused by NF2 and the mode of presentation.\\r\\n\\r\\nThe records of the Manchester Children's Tumour Registry from 1954 were searched for cases of meningioma and schwannoma. Paediatric presentation in a large UK series of NF2 was also studied.\\r\\n\\r\\n18% (61/334) of patients with NF2 on the UK database presented in the paediatric age group (0-15 years), frequently with the symptoms of an isolated tumour. More than half had no family history to alert the clinician to their susceptibility. Three of 22 children presenting with a meningioma on the Manchester Children's Tumour Registry have gone on to develop classic features of NF2.\\r\\n\\r\\nClinicians should suspect NF2 in children presenting with meningioma, schwannoma, and skin features, such as neurofibromas/schwannomas, but fewer than 6 cafÃ© au lait patches, who thus fall short of a diagnosis of neurofibromatosis type 1. \\n\\n##\\n\\n  Neurofibromatosis | HP_0006746\\n autosomal dominant | HP_0000006\\n schwannomas | HP_0100008\\n meningiomas | HP_0002858\\n f childho | HP_0011463\\n n's Tu | HP_0002664\\n ma, and skin  | HP_0000951\\n such as neuro | HP_0001067\\n  than 6 cafÃ© au lait | HP_0000957\\n END\",\n",
       " \"The inheritance of Angelman's syndrome, a disorder characterised by mental retardation, epilepsy, ataxia, and a happy disposition, is debated because affected sibs occur less frequently than expected with autosomal recessive inheritance. After discovering two unrelated patients with a small deletion of the proximal long arm of chromosome 15, 10 further patients with Angelman's syndrome were reassessed. Five had apparently normal karyotypes, four had a deletion within 15q11-13, and one had a pericentric inversion, inv(15)(p11q13) involving the same chromosomal region. In the latter case, the healthy mother had the same pericentric inversion, indicating that the patient also had a submicroscopic mutation on his other chromosome 15. These data map the Angelman locus to 15q11-13 and suggest that de novo visible deletions (associated with a low recurrence risk) and autosomal recessively inherited cases combine to give an overall sib recurrence risk of less than 25%. \\n\\n##\\n\\n  mental retardation | HP_0001249\\n epilepsy | HP_0001250\\n ataxia | HP_0001251\\n happy disposition | HP_0100024\\n autosomal recessive inheritance | HP_0000007\\n de novo | HP_0003745\\n END\",\n",
       " 'We have investigated the incidence of Gorlin syndrome (GS) in patients with the childhood brain tumour, medulloblastoma. One hundred and seventy-three consecutive cases of medulloblastoma in the North-West Regional Health Authority between 1954 and 1989 (Manchester Regional Health Board before 1974) were studied. After review of case notes, X-rays and health surveys only 2/173 cases had evidence supporting a diagnosis of GS. A further case at 50% risk of GS died of a brain tumour aged 4 years. The incidence of GS in medulloblastoma is, therefore, probably between 1-2%. A population based study of GS in the region started in 1983 was used to assess the incidence of medulloblastoma in GS, which was found to be between 3-5%. This figure is lower than previous estimates, but this is the first population based study undertaken. In view of the early age of onset in GS (mean 2 years) children presenting with medulloblastoma, especially under 5 years, should be examined for signs of the syndrome. Those at high risk of developing multiple invasive basal cell carcinomata will then be identified. \\n\\n##\\n\\n  childhood | HP_0011463\\n brain tumour | HP_0100006\\n tumour | HP_0002664\\n medulloblastoma | HP_0002885\\n early age | HP_0003593\\n basal cell carcinomata | HP_0002671\\n END',\n",
       " 'Branchio-oto-renal syndrome (BOR) is an autosomal dominant disorder characterized by the association of branchial and external ear malformations, hearing loss, and renal anomalies. The phenotype varies from ear pits to profound hearing loss, branchial fistulae, and kidney agenesis. The most common gene mutated in BOR families is EYA1, a transcriptional activator. Over 80 different disease-causing mutations have been published (www.healthcare.uiowa.edu/labs/pendredandbor/, last accessed 20 November 2007). We analyzed the EYA1 coding region (16 exons) from 435 families (345 at the University of Iowa [UI] and 95 at Boys Town National Research Hospital [BTNRH], including five at both) and found 70 different EYA1 mutations in 89 families. Most of the mutations (56/70) were private. EYA1 mutations were found in 31% of families (76/248) fitting established clinical criteria for BOR and 7% of families with questionable BOR phenotype (13/187). Severity of the phenotype did not correlate with type of mutation nor with the domain involved. These results add considerably to the spectrum of EYA1 mutations associated with BOR and indicate that the BOR phenotype is an indication for molecular studies to diagnose EYA1-associated BOR. \\n\\n##\\n\\n  autosomal dominant | HP_0000006\\n branchial and external ear malformations | HP_0009794\\n external ear malformations | HP_0000356\\n ear malformations | HP_0000598\\n hearing loss | HP_0000365\\n renal anomalies | HP_0000077\\n ear pits | HP_0004467\\n branchial fistulae | HP_0009795\\n kidney agenesis | HP_0000104\\n END',\n",
       " 'We report the clinical features in 27 Australasian patients with Angelman syndrome (AS), all with a DNA deletion involving chromosome 15(q11-13), spanning markers from D15S9 to D15S12, about 3 center dot 5 Mb of DNA. There were nine males and 18 females. All cases were sporadic. The mean age at last review (end of 1994) was 11 center dot 2 years (range 3 to 34 years). All patients were ataxic, severely retarded, and lacking recognisable speech. In all patients, head circumference (HC) at birth was normal but skewed in distribution, with 62 center dot 5% at the 10th centile. At last review HC was around the 50th centile in three patients (12 center dot 5%) while 15 had poor postnatal head growth. Short stature was not invariable, 5/26 (19%) were on or above the 50th centile. Hypotonia at birth was recorded in 15/24 (63%) and neonatal feeding difficulties were recorded in 20/26 (77%). Epilepsy was present in 26/27 (96%) with onset by the third year of life in 20 patients (83%). Improvement in epilepsy was reported in 11/16 patients (69%) with age. An abnormal EEG was reported in 25/25 patients. Hypopigmentation was present in 19/26 (73%). One patient had oculocutaneous albinism. Five patients could not walk independently. Of the remaining 22 who could walk, age of onset of walking ranged from 2 to 8 years. Disrupted sleep patterns were present in 18/21 patients (86%), with improvement in 9/12 patients (75%) over 10 years of age. The clinical features in this group of deletional AS patients were similar to previous reports, but these have not separated patients into subgroups based on DNA studies. In our group of deletional cases, 100% showed severe mental retardation, ataxic movements, absent language, abnormal EEG, happy disposition (noted in infancy in 95%), normal birth weight and head circumference at birth, and a large, wide mouth. These features occurred with a higher frequency than in AS patients as a whole. Our study also provided information on the evolution of the phenotype. The data can act as a benchmark for comparisons of AS resulting from other genetic mechanisms. \\n\\n##\\n\\n  sporadic | HP_0003745\\n ataxic | HP_0001251\\n severely retarded | HP_0010864\\n retarded | HP_0001263\\n lacking recognisable speech. | HP_0001617\\n poor postnatal head growth | HP_0000241\\n Short stature | HP_0004322\\n Hypotonia | HP_0001252\\n Hypotonia at birth | HP_0001319\\n neonatal feeding difficulties | HP_0008872\\n feeding difficulties | HP_0011968\\n Epilepsy | HP_0001250\\n abnormal EEG | HP_0002353\\n Hypopigmentation | HP_0007513\\n oculocutaneous albinism | HP_0001107\\n albinism | HP_0001022\\n could not walk independently | HP_0002540\\n Disrupted sleep patterns | HP_0002360\\n severe mental retardation | HP_0002187\\n mental retardation | HP_0001249\\n absent language | HP_0002463\\n happy disposition | HP_0100024\\n infancy | HP_0003576\\n wide mouth | HP_0000154\\n END',\n",
       " 'Brachydactyly type C is characterized by shortness of the second and fifth middle phalanges and the first metacarpal. It is inherited as an autosomal dominant trait, and is noted for its widely variable clinical phenotype both within and between families. In most families involvement is limited to the hands. However, in some families additional skeletal and non-skeletal findings have been reported. We report on 12 affected members from a 5 generation kindred that segregates a brachydactyly type C phenotype. All affected individuals had shortness principally affecting the second and fifth phalanges and first metacarpal. However, the metacarpal-phalangeal profile indicated that other digital elements were short as well. In addition, one affected individual had a bilateral Madelung deformity, but none had foot involvement. No other non-skeletal findings cosegregated with brachydactyly in this family. Recently, a gene for brachydactyly type C has been localized to 12q24. This was done by studying a large kindred first reported by Haws [1963], which manifests both hand and foot anomalies. Here we present linkage data which excludes the 12q24 locus in our kindred, indicating locus heterogeneity as one explanation for the interfamilial variability described in brachydactyly type C. \\n\\n##\\n\\n  Brachydactyly type C | HP_0009373\\n shortness of the second and fifth middle phalanges | HP_0004220\\n autosomal dominant trait | HP_0000006\\n widely variable clinical phenotype both within and between families | HP_0003822\\n variable | HP_0003813\\n skeletal and non-skeletal findings | HP_0000924\\n brachydactyly | HP_0001156\\n shortness principally affecting the second and fifth phalanges and first metacarpal | HP_0009536\\n bilateral Madelung deformity | HP_0003067\\n foot involvement | HP_0001760\\n hand and foot anomalies | HP_0001155\\n locus heterogeneity | HP_0001425\\n interfamilial variability | HP_0003812\\n END',\n",
       " 'Angelman syndrome is a neurological disorder whose symptoms include severe mental retardation, loss of motor coordination, and sleep disturbances. The disease is caused by a loss of function of UBE3A, which encodes a HECT-domain ubiquitin ligase. Here, we generate a Drosophila model for the disease. The results of several experiments show that the functions of human UBE3A and its fly counterpart, dube3a, are similar. First, expression of Dube3a is enriched in the Drosophila nervous system, including mushroom bodies, the seat of learning and memory. Second, we have generated dube3a null mutants, and they appear normal externally, but display abnormal locomotive behavior and circadian rhythms, and defective long-term memory. Third, flies that overexpress Dube3a in the nervous system also display locomotion defects, dependent on the ubiquitin ligase activity. Finally, missense mutations in UBE3A alleles of Angelman syndrome patients alter amino acid residues conserved in the fly protein, and when introduced into dube3a, behave as loss-of-function mutations. The simplest model for Angelman syndrome is that in the absence of UBE3A, particular substrates fail to be ubiquitinated and proteasomally degraded, accumulate in the brain, and interfere with brain function. We have generated flies useful for genetic screens to identify Dube3a substrates. These flies overexpress Dube3a in the eye or wing and display morphological abnormalities, dependent on the critical catalytic cysteine. We conclude that dube3a mutants are a valid model for Angelman syndrome, with great potential for identifying the elusive UBE3A substrates relevant to the disease. \\n\\n##\\n\\n  neurological disorder | HP_0000707\\n severe mental retardation | HP_0002187\\n mental retardation | HP_0001249\\n loss of motor coordination | HP_0002275\\n sleep disturbances | HP_0002360\\n END',\n",
       " 'Popliteal pterygium syndrome (PPS) is a rare autosomal dominant disorder, thought to occur with an incidence of approximately 1 in 300 000 live births. The main clinical manifestations are popliteal webbing, cleft lip, cleft palate, lower lip pits, syndactyly, and genital and nail anomalies. This report describes the clinical features in two families with PPS and one isolated case, showing the range of anomalies found both within and between the families. PPS has some features in common with Van der Woude syndrome (VWS), also inherited as an autosomal dominant condition, with cleft lip/palate and, more distinctively, lower lip pits. Although the gene for VWS has not yet been identified, it has been localised to within 1.6 cM in the region 1q32-41. To determine whether PPS and VWS represent allelic forms of the same gene, three families were genotyped for markers flanking and within the critical region. A multipoint lod score of 2.7 was obtained, with no evidence of recombination, supporting the hypothesis that these two disorders are allelic. \\n\\n##\\n\\n  Popliteal pterygium | HP_0009756\\n pterygium | HP_0001059\\n autosomal dominant disorder | HP_0000006\\n cleft lip, cleft palate | HP_0000202\\n cleft lip | HP_0100333\\n cleft palate | HP_0000175\\n lower lip pits | HP_0000196\\n pits | HP_0004467\\n syndactyly | HP_0001159\\n genital and nail anomalies | HP_0000078\\n nail anomalies | HP_0001597\\n isolated case | HP_0001420\\n END',\n",
       " 'Among 25 patients diagnosed with Angelman syndrome, we detected 21 with deletion and 4 with paternal uniparental disomy (UPD), 2 isodisomies originating by postzygotic error, and 1 MII nondisjunction event. The diagnosis was obtained by molecular techniques, including methylation pattern analysis of exon 1 of SNRPN and microsatellite analysis of loci within and outside the 15q11-q13 region. Most manifestations present in deletion patients are those previously reported. Comparing the clinical data from our and published UPD patients with those with deletions we observed the following: the age of diagnosis is higher in UPD group (average 7 3/12 years), microcephaly is more frequent among deletion patients, UPD children start walking earlier (average age 2 9/12 years), whereas in deletion patients the average is 4 (1/2) years, epilepsy started later in UPD patients (average 5 10/12 years) than in deletion patients (average 1 11/12 years), weight above the 75th centile is reported mainly in UPD patients, complete absence of speech is more common in the deleted (88.9%) than in the UPD patients because half of the children are able to say few words. Thus, besides the abnormalities already described, the UPD patients have somewhat better verbal development, a weight above the 75th centile, and OFC in the upper normal range. \\n\\n##\\n\\n  microcephaly | HP_0000252\\n epilepsy | HP_0001250\\n absence of speech | HP_0001617\\n END',\n",
       " 'The clinical features, age at onset of symptoms and survival of 150 patients with type 2 neurofibromatosis were studied. The mean age at onset was 21.57 years (n = 110) and no patients presented after 55 years of age. Patients presented with symptoms attributable to vestibular schwannomas (acoustic neuroma), cranial meningiomas and spinal tumours. In 100 patients studied personally by the authors 44 per cent presented with deafness and this was unilateral in the majority (35/44). Deafness was accompanied by tinnitus in a further 10 per cent and muscle weakness or wasting was the first symptom in 12 per cent. Less common presenting symptoms were seizures (8 per cent), vertigo (8 per cent) numbness and tingling (2 per cent) and blindness (1 per cent). Eleven patients were diagnosed asymptomatically through screening. CafÃ© au lait spots occurred in 43 per cent (n = 43) but only one case had six. Skin tumours were detected in 68 per cent (68/100) and 38 per cent (34/90) had an identifiable lens opacity or cataract. The mean age at death in 40 cases was 36.25 years and all but one death was a result of a complication of neurofibromatosis. There are marked inter-family differences in disease severity and tumour susceptibility. \\n\\n##\\n\\n  neurofibromatosis | HP_0006746\\n vestibular schwannomas | HP_0009588\\n schwannomas | HP_0100008\\n cranial meningiomas | HP_0100009\\n meningiomas | HP_0002858\\n spinal tumours | HP_0010302\\n tumours | HP_0002664\\n deafness | HP_0000404\\n tinnitus | HP_0000360\\n muscle weakness | HP_0001324\\n muscle weakness or wasting | HP_0003202\\n seizures | HP_0001250\\n vertigo | HP_0002321\\n blindness | HP_0000618\\n CafÃ© au lait spot | HP_0000957\\n  Skin tumour | HP_0008069\\n  lens opacit | HP_0000518\\n  inter-family difference | HP_0003813\\n END',\n",
       " \"The gene predisposing to neurofibromatosis type 2 (NF2) on human chromosome 22 has revealed a wide variety of different mutations in NF2 individuals. These patients display a marked variability in clinical presentation, ranging from very severe disease with numerous tumors at a young age to a relatively mild condition much later in life. To investigate whether this phenotypic heterogeneity is determined by the type of mutation in NF2, we have collected clinical information on 111 NF2 cases from 73 different families on whom we have performed mutation screening in this gene. Sixty-seven individuals (56.2%) from 41 of these kindreds revealed 36 different putative disease-causing mutations. These include 26 proposed protein-truncating alterations (frameshift deletions/insertions and nonsense mutations), 6 splice-site mutations, 2 missense mutations, 1 base substitution in the 3' UTR of the NF2 cDNA, and a single 3-bp in-frame insertion. Seventeen of these mutations are novel, whereas the remaining 19 have been described previously in other NF2 individuals or sporadic tumors. When individuals harboring protein-truncating mutations are compared with cases with single codon alterations, a significant correlation (P < .001) with clinical outcome is observed. Twenty-four of 28 patients with mutations that cause premature truncation of the NF2 protein, schwannomin, present with severe phenotypes. In contrast, all 16 cases from three families with mutations that affect only a single amino acid have mild NF2. These data provide conclusive evidence that a phenotype/genotype correlation exists for certain NF2 mutations. \\n\\n##\\n\\n  neurofibromatosis | HP_0006746\\n variability | HP_0003812\\n numerous tumors | HP_0003008\\n tumors | HP_0002664\\n young | HP_0003593\\n mild condition much later in life | HP_0003664\\n heterogeneity | HP_0001425\\n sporadic | HP_0003745\\n END\",\n",
       " 'Short stature may be a component of the brachydactyly C syndrome. A family is presented in which the propositus has brachydactyly C, short stature, and hip dysplasia. \\n\\n##\\n\\n  Short stature | HP_0004322\\n brachydactyly C | HP_0009373\\n brachydactyly | HP_0001156\\n hip dysplasia | HP_0001385\\n END',\n",
       " 'A 1-year-old male with branchio-oculo-facial syndrome together with preaxial polydatyly and a white forelock at birth is described. This is only the second case where preaxial polydactyly has been described in branchio-oculo-facial syndrome. In both cases a diagnosis of Waardenburg syndrome had been considered. \\n\\n##\\n\\n  preaxial polydatyly | HP_0100258\\n white forelock | HP_0002211\\n preaxial polydactyly | HP_0001177\\n polydactyly | HP_0010442\\n END',\n",
       " 'We analyzed 61 Angelman syndrome (AS) patients by cytogenetic and molecular techniques. On the basis of molecular findings, the patients were classified into the following 4 groups: familial cases without deletion, familial cases with submicroscopic deletion, sporadic cases with deletion, and sporadic cases without deletion. Among 53 sporadic cases, 37 (70%) had molecular deletion, which commonly extended from D15S9 to D15S12, although not all deletions were identical. Of 8 familial cases, 3 sibs from one family had a molecular deletion involving only 2 loci, D15S10 and GABRB3, which define the critical region for AS phenotypes. The parental origin of deletion, both in sporadic and familial cases, was exclusively maternal and consistent with a genomic imprinting hypothesis. Among sporadic and familial cases without deletion, no uniparental disomy was found and most of them were shown to inherit chromosomes 15 from both parents (biparental inheritance). A discrepancy between cytogenetic and molecular deletion was observed in 14 (26%) of 53 patients in whom cytogenetic analysis could be performed. Ten (43%) of 23 patients with a normal karyotype showed a molecular deletion, and 4 (13%) of 30 patients with cytogenetic deletion, del(15) (q11q13), showed no molecular deletion. Most clinical manifestations, including neurological signs and facial characteristics, were not distinct in each group except for hypopigmentation of skin or hair. Familial cases with submicroscopic deletion were not associated with hypopigmentation. These findings suggested that a gene for hypopigmentation is located outside the critical region of AS and is not imprinted. \\n\\n##\\n\\n  familial cases | HP_0000005\\n sporadic | HP_0003745\\n neurological signs | HP_0000707\\n facial characteristics | HP_0001999\\n hypopigmentation of skin | HP_0001010\\n hypopigmentation | HP_0007513\\n hypopigmentation of skin or hair | HP_0005599\\n END',\n",
       " 'DNA deletion studies using 5 DNA markers localized at 15q11-q12 were performed in 14 Angelman syndrome (AS) patients (9 sporadic and 5 familial cases). A one-copy density for one or more of the 5 loci was detected in 8 (57.1%) of the 14 patients. A deletion of only the D15S11 locus was detected in one sporadic patient, that involving only the D15S10 in 3 familial patients (sibs in a family), that spanning 3 loci (D15S11, D15S10, D15S12) in one sporadic patient, and that spanning 4 loci (D15S9, D15S11, D15S10, D15S12) in the other 3 sporadic patients. The deletion common to our patients as well as to the reported patients may be confined to a segment between D15S11 and D15S10, if the 5 loci are ordered as cen-D15S18-(D15S9-D15S11-D15S10)-D15S12-qt er. This site overlaps but is more distal to the common deletion site in Prader-Willi syndrome (PWS) patients. In the family of the 3 sibs, both of the phenotypically normal mother and maternal grandfather also have deletions of the D15S10 locus. These results were consistent with the genomic imprinting hypothesis for the occurrence of AS, i.e., the lack of a maternally derived locus leads to AS, but may not support a model that AS is the alternative phenotype of PWS at the identical locus. \\n\\n##\\n\\n  sporadic | HP_0003745\\n familial cases | HP_0000005\\n END',\n",
       " 'A young male infant was noted at birth to have bilateral cleft lip and palate, bilateral microphthalmos and ocular colobomata, and a dysplastic left kidney. His mother had similar ophthalmological findings and milder facial anomalies which included abnormality of the philtrum and bilateral congenital nasolacrimal duct obstruction. His maternal grandmother had mild facial anomalies including a short philtrum and bilateral congenital nasolacrimal duct obstruction but had no evidence of any ocular abnormalities. The spectrum of abnormalities seen in this family are similar to those described in the branchio-oculo-facial syndrome, a rare dominantly inherited syndrome in which there are a number of developmental abnormalities of the eye, face, and kidney. Although the precise cause of this syndrome is unknown, it is likely to be caused by mutations in a gene responsible for the ordered closure of the foetal fissure and fusion of facial structures. \\n\\n##\\n\\n  young | HP_0003593\\n bilateral cleft lip | HP_0100336\\n bilateral cleft lip and palate | HP_0002744\\n cleft lip | HP_0100333\\n cleft lip and palate | HP_0000175\\n bilateral microphthalmos | HP_0007633\\n microphthalmos | HP_0000568\\n ocular colobomata | HP_0007995\\n dysplastic left kidney | HP_0004741\\n ophthalmological findings | HP_0000478\\n milder facial anomalies | HP_0004675\\n facial anomalies | HP_0000271\\n abnormality of the philtrum | HP_0000288\\n bilateral congenital nasolacrimal duct obstruction | HP_0007669\\n nasolacrimal duct obstruction | HP_0000579\\n short philtrum | HP_0000322\\n ocular abnormalities | HP_0000284\\n dominantly inherited | HP_0000006\\n developmental abnormalities | HP_0001263\\n END',\n",
       " 'We have reviewed a series of 36 patients with the basal cell nevus syndrome seen at Roswell Park Memorial Institute from 1950 to 1978. Among these patients a number of disastrous complications occurred. These include extensive uncontrolled basal cell epithelioma of the face resulting in one death from direct cerebral invasion via the orbit, one facial nerve palsy, two bilateral and two unilateral eye enucleations, and several severe facial mutilations in young patients. There were three patients who developed severe bradycardia and hypotension during induction of general anesthesia required postponement of the intended operation, and one patient with congenital hemiparesis who on investigation was found to have an absent internal carotid artery. A review of the syndrome complex is presented with a plan for recognition and management. \\n\\n##\\n\\n  basal cell nevus | HP_0002671\\n basal cell epithelioma of the face | HP_0000271\\n facial nerve palsy | HP_0002008\\n eye enucleations | HP_0000478\\n young | HP_0003593\\n bradycardia | HP_0001662\\n hypotension | HP_0002615\\n congenital hemiparesis | HP_0001269\\n absent internal carotid artery | HP_0005290\\n END',\n",
       " 'The basal cell nevus syndrome (BCNS) is characterized by developmental abnormalities and by the postnatal occurrence of cancers, especially basal cell carcinomas (BCCs), the most common human cancer. Heritable mutations in BCNS patients and a somatic mutation in a sporadic BCC were identified in a human homolog of the Drosophila patched (ptc) gene. The ptc gene encodes a transmembrane protein that in Drosophila acts in opposition to the Hedgehog signaling protein, controlling cell fates, patterning, and growth in numerous tissues. The human PTC gene appears to be crucial for proper embryonic development and for tumor suppression. \\n\\n##\\n\\n  basal cell nevus | HP_0002671\\n developmental abnormalities | HP_0001263\\n cancer | HP_0002664\\n somatic mutation | HP_0001428\\n sporadic | HP_0003745\\n END',\n",
       " \"We present an 8-year-old African-American boy with medulloblastoma and nevoid basal cell carcinoma syndrome (NBCCS) who exhibited the radiosensitive response of basal cell carcinoma (BCC) formation in the area irradiated for medulloblastoma. Such a response is well-documented in Caucasian NBCCS patients with medulloblastoma. The propositus was diagnosed with medulloblastoma at the age of 2 years and underwent surgery, chemotherapy, and craniospinal irradiation. At the age of 6 years, he was diagnosed with NBCCS following his presentation with a large odontogenic keratocyst of the mandible, pits of the palms and soles and numerous BCCs in the area of the back and neck that had been irradiated previously for medulloblastoma. Examination of other relatives showed that the propositus' mother also had NBCCS but was more mildly affected; in particular, she had no BCCs. This case illustrates complex gene-environment interaction, in that increased skin pigmentation in African-Americans is presumably protective against ultraviolet, but not ionizing, radiation. This case and other similar cases in the literature show the importance of considering NBCCS in the differential diagnosis of any patient who presents with a medulloblastoma, especially before the age of 5 years, and of examining other close relatives for signs of NBCCS to determine the patient's at-risk status. Finally, for individuals who are radiosensitive, protocols that utilize chemotherapy in lieu of radiotherapy should be considered. \\n\\n##\\n\\n  medulloblastoma | HP_0002885\\n basal cell carcinoma | HP_0002671\\n radiosensitive response | HP_0003079\\n odontogenic keratocyst of the mandible | HP_0010603\\n pits of the palms | HP_0010610\\n pits | HP_0004467\\n pits of the palms and soles | HP_0010612\\n increased skin pigmentation | HP_0000953\\n END\",\n",
       " 'Neurofibromatosis 2 (NF2) is an autosomal dominant disease that is characterized by tumors on the vestibular branch of the VIII cranial nerve, but other types of nervous system tumors usually occur as well. Genotype-phenotype correlations are well documented for overall NF2 disease severity but have not been definitively evaluated for specific types of non-VIII nerve tumors. We evaluated genotype-phenotype correlations for various types of non-VIII nerve tumors in 406 patients from the population-based United Kingdom NF2 registry, using regression models with the additional covariates of current age and type of treatment center (specialty or nonspecialty). The models also permitted consideration of intrafamilial correlation. We found statistically significant genotype-phenotype correlations for intracranial meningiomas, spinal tumors, and peripheral nerve tumors. People with constitutional NF2 missense mutations, splice-site mutations, large deletions, or somatic mosaicism had significantly fewer tumors than did people with constitutional nonsense or frameshift NF2 mutations. In addition, there were significant intrafamilial correlations for intracranial meningiomas and spinal tumors, after adjustment for the type of constitutional NF2 mutation. The type of constitutional NF2 mutation is an important determinant of the number of NF2-associated intracranial meningiomas, spinal tumors, and peripheral nerve tumors. \\n\\n##\\n\\n  Neurofibromatosis | HP_0006746\\n autosomal dominant | HP_0000006\\n tumors | HP_0002664\\n tumors on the vestibular branch | HP_0009588\\n tumors on the vestibular branch of the VIII cranial nerve | HP_0009591\\n nervous system tumors | HP_0004375\\n intracranial meningiomas | HP_0100009\\n meningiomas | HP_0002858\\n spinal tumors | HP_0010302\\n peripheral nerve tumors | HP_0100007\\n somatic mosaicism | HP_0001442\\n END',\n",
       " 'The association between ear and kidney anomalies is not usually due to an insult to the embryo. In recent years, many essential development control genes that coordinate the assembly and function of kidney and ear have been discovered through the generation of animal mutants and have increased our understanding of the mechanisms of human oto-renal diseases. Here, we describe ear and kidney clinical syndromes and their molecular expression. \\n\\n##\\n\\n  ear and kidney anomalies | HP_0000598\\n kidney anomalies | HP_0000077\\n END',\n",
       " 'We report on a 4-year-old girl with Angelman syndrome who has an apparent de-novo del(15) (q11q13) originating from a maternally derived chromosome. Her mother had severe brachycephaly, sensorineural hearing loss, speech impediment, and mild ataxia. CT brain scans showed an enlarged foramen magnum in the mother and daughter but magnetic resonance imaging (MRI) showed no brainstem abnormality in either. This family demonstrates that some Angelman syndrome cases may be dominantly transmitted with variable expression and associated with abnormal or cytogenetically apparently normal chromosome 15. \\n\\n##\\n\\n  brachycephaly | HP_0000248\\n sensorineural hearing loss | HP_0000407\\n hearing loss | HP_0000365\\n speech impediment | HP_0002167\\n mild ataxia | HP_0001251\\n enlarged foramen magnum | HP_0002700\\n brainstem abnormality | HP_0002363\\n dominantly transmitted | HP_0000006\\n variable expression | HP_0003828\\n variable | HP_0003813\\n END',\n",
       " 'We report on a woman who was diagnosed with branchio-oto-renal (BOR) syndrome after 2 pregnancies complicated by oligohydramnios due to renal hypoplasia and agenesis. Both babies died neonatally of pulmonary hypoplasia. Histopathology of the temporal bones of the second child showed marked immaturity of the middle ear cleft, ossicles, facial nerve and canal, and cochlear nerve. Maternal renal ultrasound study was normal although intravenous pyelography indicated renal hypoplasia. The frequency of BOR syndrome among cases of recurrent fetal renal hypoplasia/dysplasia or agenesis is unknown, and parental renal ultrasonography may not identify a heritable renal defect. Investigations should include a family history, and examination of relatives to look for preauricular pits, lacrimal duct stenosis, and branchial fistulae and/or cysts. Hearing studies and IVP may be indicated. \\n\\n##\\n\\n  oligohydramnios | HP_0001562\\n renal hypoplasia | HP_0000089\\n renal hypoplasia and agenesis | HP_0008680\\n died neonatally | HP_0003811\\n pulmonary hypoplasia | HP_0002089\\n immaturity of the middle ear cleft, ossicles, facial nerve | HP_0010827\\n immaturity of the middle ear cleft, ossicles | HP_0004452\\n immaturity of the middle ear cleft, ossicles, facial nerve and canal, and cochlear nerve | HP_0000375\\n immaturity of the middle ear cleft | HP_0000370\\n renal hypoplasia/dysplasia | HP_0000110\\n renal hypoplasia/dysplasia or agenesis | HP_0000104\\n renal defect | HP_0000077\\n preauricular pits | HP_0004467\\n lacrimal duct stenosis | HP_0007925\\n branchial fistulae | HP_0009795\\n branchial fistulae and/or cysts | HP_0009796\\n branchial | HP_0009794\\n Hearing studies | HP_0000365\\n END',\n",
       " 'Branchio-oto-renal (BOR) syndrome is an autosomal dominant condition of branchial arch anomalies, deafness and renal dysplasia. Clinical manifestations tend to have considerable intrafamilial and interfamilial variability. Previous linkage studies had localized the gene responsible for BOR syndrome to a broad region of chromosome 8q. Using 10 microsatellite markers, we have further refined the localization of this disorder by establishing tight linkage to two markers, D8S279 and D8S530 (Zmax = 3.91 and Zmax = 2.83 respectively at theta = 0.00). These markers are within 1 cM of one another. Multipoint analysis, involving 7 loci, placed the gene between these markers, with a lod-1 confidence interval 0.7 cM proximal to D8S530 and 0.6 cM distal to D8S279. \\n\\n##\\n\\n  autosomal dominant | HP_0000006\\n branchial arch anomalies | HP_0009794\\n deafness | HP_0000404\\n renal dysplasia | HP_0000110\\n intrafamilial and interfamilial variability | HP_0003822\\n interfamilial variability | HP_0003812\\n END',\n",
       " 'Patients who present with unilateral vestibular schwannomas either at a young age or with additional features of type 2 neurofibromatosis (NF2) are at risk of developing bilateral disease and transmitting a risk of neurogenic tumours to their offspring. We have identified 15 patients from a series of 537 with unilateral vestibular schwannomas who also had one or more of the following: other tumours (10/15), features of NF2 (3/15), or a family history of neurogenic tumours (5/15). No germline NF2 mutations were detected and in 7/9 cases where tumour material was available for analysis a germline mutation in the NF2 gene has been excluded. Although a possibility of gonosomal mosaicism still exists, exclusion tests for the offspring are now possible. We suggest a general strategy, based on analysis of tumour DNA, for distinguishing sporadic and familial cases of tumours caused by two hit mechanisms. Application of this strategy suggests that most instances of unilateral vestibular schwannoma which do not fulfil criteria for NF2 represent chance occurrences. \\n\\n##\\n\\n  unilateral vestibular schwannomas | HP_0009590\\n vestibular schwannomas | HP_0009588\\n schwannomas | HP_0100008\\n young age | HP_0003593\\n neurofibromatosis | HP_0006746\\n bilateral disease | HP_0009589\\n neurogenic tumours | HP_0004375\\n tumours | HP_0002664\\n sporadic | HP_0003745\\n familial cases | HP_0000005\\n END',\n",
       " 'Since the group of disorders known as the distal arthrogryposes (DAs) were defined, additional disorders characterized by multiple congenital contractures of the distal limbs were described, and the distribution of phenotypic findings in the DAs has been expanded. The breadth of disorders labeled as DAs has diminished the usefulness of the DA classification. We propose a strict definition of DA and diagnostic criteria for DA disorders. Subsequently, we use these standards and propose a revised classification of discrete conditions that should be labeled DAs. Optimally, this serves as a framework for a DA classification based on underlying molecular and physiologic abnormalities. \\n\\n##\\n\\n  distal arthrogryposes | HP_0005684\\n multiple congenital contractures | HP_0005188\\n congenital contractures | HP_0002803\\n contractures of the distal limbs | HP_0003121\\n contractures | HP_0001371\\n END',\n",
       " 'Angelman syndrome (AS) results from a lack of maternal contribution from chromosome 15q11-13, arising from de novo deletion in most cases or rarely from uniparental disomy. These families are associated with a low recurrence risk. However, in a minority of families, more than one child is affected. No deletion has been found in these families, except one. The mode of inheritance in these families is autosomal dominant modified by imprinting. Sporadic cases, with no observable deletion, therefore pose a counselling dilemma as there could be a recurrence risk as high as 50%. We present a series of 93 AS patients, showing the relative contribution of these different genetic mechanisms. Eighty-one AS patients were sporadic cases while 12 cases came from six families. Sixty cases had deletions in 15q11-13 detected by a set of highly polymorphic (CA)n repeats markers and conventional RFLPs. Ten sporadic cases plus all 12 familial cases had no detectable deletion. In addition, two cases of de novo deletions occurred in a chromosome 15 carrying a pericentric inversion. In one of these the AS child had a cousin with Prader-Willi syndrome (PWS) arising from a de novo deletion in an inv(15) inherited from his father. One case arose from a maternal balanced t(9;15)(p24;q15) translocation. There were three cases of uniparental disomy. Five patients were monoallelic for all loci across the minimal AS critical region, but the presence of a deletion cannot be confirmed. In familial cases, all affected sibs inherited the same maternal chromosome 15 markers for the region 15q11-13. Two cases were observed with a de novo deletion starting close to the locus D15S11 (IR4-2R), providing evidence for the development of classical AS with smaller deletions. Cytogenetic analysis proved limited in its ability to detect deletions, detecting only 42 out of 60 cases. However, cytogenetic analysis is still essential to detect chromosomal abnormalities other than deletions such as inversions and balanced translocations since both have an increased risk for deletions. A staged diagnostic strategy based on the use of highly informative (CA)n repeat markers is proposed. \\n\\n##\\n\\n  de novo | HP_0003745\\n mode of inheritance | HP_0000005\\n autosomal dominant | HP_0000006\\n END',\n",
       " 'The major defining features, age at onset of symptoms, and survival in 150 patients with type 2 neurofibromatosis (NF2) have been studied. The mean age at onset was 21.57 years (n = 110) and no cases presented after 55 years of age. Patients presented with symptoms attributable to vestibular schwannomas (acoustic neuroma), cranial meningiomas, and spinal tumours. In 97 cases studied personally by the authors, skin and eye examination were found to be useful to detect early signs of the condition. Examination of the skin is likely to assist in early diagnosis in at least 10% of cases and examination of the eye for a lens opacity or cataract in at least as many again. There are marked interfamilial differences in disease severity and tumour susceptibility. Vestibular schwannomas are not fully penetrant, but the condition is usually expressed in another way. Alteration to the current diagnostic criteria is advocated to cover the lack of provision for new mutations. A screening protocol is proposed and the effect of disease heterogeneity on management is discussed. \\n\\n##\\n\\n  neurofibromatosis | HP_0006746\\n vestibular schwannomas | HP_0009588\\n schwannomas | HP_0100008\\n cranial meningiomas | HP_0100009\\n meningiomas | HP_0002858\\n spinal tumours | HP_0010302\\n tumours | HP_0002664\\n lens opacity | HP_0000518\\n interfamilial differences | HP_0003822\\n heterogeneity | HP_0001425\\n END',\n",
       " 'Angelman syndrome (AS) and Prader-Willi syndrome (PWS) have become the classical examples of genomic imprinting in man, as completely different phenotypes are generated by the absence of maternal (AS) or paternal (PWS) contributions to the q11-13 region of chromosome 15 as a result of deletion or uniparental disomy. Apparently, most patients are sporadic cases. The genetic mechanism underlying familial AS has remained enigmatic for a long time. Recently, evidence has been emerging suggesting autosomal dominant inheritance of a detectable or undetectable defect in a gene or genes at 15q11-13, subject to genomic imprinting. The present report describes an unusually large pedigree with segregation of AS through maternal inheritance and apparent asymptomatic transmission through several male ancestors. Deletion and paternal disomy at 15q11-13 were excluded. However, the genetic defect is still located in this region, as we obtained a maximum lod score of 5.40 for linkage to the GABA receptor locus GABRB3 and the anonymous DNA marker D15S10, which have been mapped within or adjacent to the AS critical region at 15q11-13. The size of the pedigree allowed calculation of an odds ratio in favour of genomic imprinting of 9.25 x 10(5). This family illustrates the necessity of extensive pedigree analysis when considering recurrence risks for relatives of AS patients, those without detectable deletion or disomy in particular. \\n\\n##\\n\\n  sporadic cases | HP_0003745\\n familial AS | HP_0000005\\n autosomal dominant inheritance | HP_0000006\\n END',\n",
       " 'Brachydactyly type A1 is a limb malformation characterized by a uniform shortening of the middle phalanges in all digits. Mutations in the Indian hedgehog (IHH) gene were shown to be the cause of this autosomal dominant disorder. The IHH protein is known to be an important signaling molecule involved in chondrocyte formation. So far, only missense mutations in IHH have been reported to cause BrachydactylyA1. We report here on the first deletion in IHH, p.delE95, causing mild BrachydactylyA1 in a small Dutch family. This brings the total number of different mutations found to cause BDA1 to 7. \\n\\n##\\n\\n  Brachydactyly type A1 | HP_0009371\\n limb malformation | HP_0002813\\n shortening of the middle phalanges in all digits | HP_0010240\\n autosomal dominant | HP_0000006\\n END',\n",
       " 'A retrospective review of 29 consecutive unselected patients referred for neuro-ophthalmic evaluation after the diagnosis of neurofibromatosis type 2 (NF2) showed that four of them had a monocular elevator paresis. In two of the four MRI demonstrated lesions, presumed to be schwannomas, of the third nerve. These findings indicate that monocular elevator paresis is a common neuro-ophthalmic finding in NF2, which the authors suspect is probably a sign of third nerve infiltration or compression by a schwannoma. \\n\\n##\\n\\n  neurofibromatosis | HP_0006746\\n monocular elevator paresis | HP_0006860\\n schwannomas | HP_0100008\\n schwannomas, of the third nerve | HP_0001291\\n END',\n",
       " 'A clinical and genetic study of type 2 neurofibromatosis (NF2) has been carried out in the United Kingdom. Virtually complete ascertainment of cases in the north-west of England was achieved and suggests a population incidence of 1 in 33,000 to 40,000. In the UK as a whole, 150 cases have been identified and been used to study the clinical and genetic features of NF2. The autosomal dominant inheritance of NF2 was confirmed, 49% of cases were assessed as representing new mutations, and the mutation rate was estimated to be 6.5 x 10(-6). Evidence to support a maternal gene effect was found in that age at onset was 18.17 years in 36 maternally inherited cases and 24.5 in 20 paternally inherited cases (p = 0.027). The preponderance of maternally inherited cases was also significant (p = 0.03). Data are presented which suggest that there are two types of NF2, one with later onset and bilateral vestibular schwannomas as the only usual feature, and the other with earlier onset and multiple other tumours. A considerable number of cases did not fall easily into one or other group and other factors such as maternal effect on severity and anticipation need to be considered. \\n\\n##\\n\\n  neurofibromatosis | HP_0006746\\n autosomal dominant inheritance | HP_0000006\\n bilateral vestibular schwannomas | HP_0009589\\n vestibular schwannomas | HP_0009588\\n schwannomas | HP_0100008\\n tumours | HP_0002664\\n END',\n",
       " 'To evaluate the ocular abnormalities in patients with clinically diagnosed neurofibromatosis 2 and asymptomatic gene carriers.\\r\\n\\r\\nProbands were ascertained through a surgical otolaryngology practice. In a cross-sectional study, we examined 49 patients with neurofibromatosis 2, 30 offspring of patients, and, as a comparison group, 18 parents and siblings of patients with sporadic neurofibromatosis 2. The examination included a complete neuro-ophthalmic assessment, physical examination, and, for patients and first-degree relatives at risk, cranial and spinal magnetic resonance imaging with gadolinium enhancement, if not previously performed.\\r\\n\\r\\nThe most common ocular abnormalities were posterior subcapsular or capsular, cortical, or mixed lens opacities in 33 (67%) of 49 patients with neurofibromatosis 2 and retinal hamartomas in 11 (22%). We used segregation analysis to determine the mutation carrier status of six at-risk offspring who were 30 years old or younger in two multigeneration families. Three asymptomatic mutation carriers had cataracts, whereas those who were predicted not to carry the mutation did not have cataracts. Asymptomatic mutation carriers may have developmental abnormalities of the eye that are detectable in childhood or adolescence, a finding that may assist in early diagnosis of the disease.\\r\\n\\r\\nA variety of ocular abnormalities are present in neurofibromatosis 2, including cataracts, retinal hamartomas, and ocular motor deficits. Many of these are developmental or acquired early in life and may assist in presymptomatic diagnosis. For screening at-risk relatives of patients with neurofibromatosis 2, the types of cataract that are most suggestive of neurofibromatosis 2 are plaque-like posterior subcapsular or capsular cataract and cortical cataract with onset under the age of 30 years. \\n\\n##\\n\\n  ocular abnormalities | HP_0000284\\n neurofibromatosis | HP_0006746\\n h sporad | HP_0003745\\n ere posterior subcapsular or capsular, cortical, or mixed lens opaci | HP_0007787\\n  or capsular, cortical, or mixed lens opaci | HP_0100020\\n ar, cortical, or mixed lens opaci | HP_0100019\\n xed lens opaci | HP_0000518\\n and retinal hamart | HP_0009594\\n ave developmental abnormali | HP_0001263\\n tal abnormalities of the | HP_0000478\\n  in child | HP_0011463\\n  or adolesc | HP_0011462\\n , and ocular motor de | HP_0006860\\n ar or capsular ca | HP_0100017\\n END',\n",
       " 'Blood samples from 125 unrelated families with classical type 2 neurofibromatosis (NF2) with bilateral vestibular schwannomas have been analysed for mutations in the NF2 gene. A further 17 families fulfilling modified criteria for NF2 have also been analysed. Causative mutations have been identified in 54 (43%) classical families and six (35%) of those fulfilling modified criteria. Forty-two cases from 38 families with truncating mutations had an average age at onset of symptoms of 19 years and diagnosis at 22.4 years. Fifty-one cases from 16 families with splice site mutations (15 from six), missense mutations (18 from six), and large deletions (18 from five) had an average age of onset of 27.8 years and at diagnosis of 33.4 years. Subjects with truncating mutations were significantly more likely to have symptoms before 20 years of age (p<0.001) and to develop at least two symptomatic CNS tumours in addition to vestibular schwannoma before 30 years (p<0.001). There were also significantly fewer multigenerational families with truncating mutations. Four further truncating mutations were in mosaic form and were associated with milder disease than other similar mutations. This large study has confirmed the previous impression that truncating mutations are associated with severe disease, but caution has to be exercised in using mutation type to predict disease course. \\n\\n##\\n\\n  neurofibromatosis | HP_0006746\\n bilateral vestibular schwannomas | HP_0009589\\n vestibular schwannomas | HP_0009588\\n schwannomas | HP_0100008\\n CNS tumours | HP_0100006\\n tumours | HP_0002664\\n associated with milder disease than other similar mutations | HP_0003813\\n END',\n",
       " 'Branchiootorenal (BOR) syndrome is a variable, autosomal-dominant disorder of the first and second embryonic branchial arches, kidneys, and urinary tract. We describe the phenotype in 45 individuals, highlighting differences and similarities reported in other studies. Characteristic temporal bone findings include cochlear hypoplasia (4/5 of normal size with only 2 turns), dilation of the vestibular aqueduct, bulbous internal auditory canals, deep posterior fossae, and acutely-angled promontories. \\n\\n##\\n\\n  variable | HP_0003813\\n autosomal-dominant | HP_0000006\\n branchial arches | HP_0009794\\n temporal bone findings | HP_0009911\\n cochlear hypoplasia | HP_0008586\\n dilation of the vestibular aqueduct | HP_0000359\\n bulbous internal auditory canals | HP_0004458\\n END',\n",
       " 'The Townes-Brocks syndrome (TBS) is comprised of a triad including characteristic anal, thumb, and ear anomalies. There are many other organ system abnormalities which may be present. However, the literature does not emphasize craniofacial findings except with reference to the typical ear configuration. A three-generation family is described in which craniofacial manifestations were prominent and a Goldenhar-like condition was considered as the most likely diagnosis. However, with the recent birth of an affected male who had an imperforate anus, the diagnosis of TBS was also considered. The family manifests a variety of Goldenhar-like findings, including epibulbar dermoids, hemifacial microsomia, preauricular tags, macrostomia, and micrognathia in addition to classical ear, radial, and anal findings of TBS. We report on this family to point out a possible biological relationship of these two conditions. \\n\\n##\\n\\n  anal, thumb, and ear anomalies | HP_0004378\\n thumb, and ear anomalies | HP_0001172\\n ear anomalies | HP_0000598\\n organ system abnormalities | HP_0000118\\n craniofacial findings | HP_0000271\\n imperforate anus | HP_0002023\\n epibulbar dermoids | HP_0001140\\n preauricular tags | HP_0000384\\n macrostomia | HP_0000181\\n micrognathia | HP_0000347\\n radial, and anal findings | HP_0002818\\n END',\n",
       " 'Branchio-oto-renal dysplasia, often called the BOR syndrome, in its full expression consists of hearing loss of conductive, sensorineural, or mixed type; preauricular pits; auricular deformities; lateral cervical sinuses, cysts, or fistulas; and renal malformations. The condition is inherited in an autosomal dominant mode. The findings in three affected families are described, and pertinent genetic and clinical aspects are discussed. The potential seriousness of the renal and aural malformations stresses the importance of early recognition of this syndrome. \\n\\n##\\n\\n  renal dysplasia | HP_0000110\\n hearing loss | HP_0000365\\n hearing loss of conductive | HP_0000405\\n hearing loss of conductive, sensorineural, or mixed type | HP_0000410\\n hearing loss of conductive, sensorineural | HP_0000407\\n preauricular pits | HP_0004467\\n ral cervical sinuse | HP_0000077\\n fistulas | HP_0009794\\n renal malformations | HP_0000792\\n autosomal dominant | HP_0000006\\n milie | HP_0001056\\n END',\n",
       " 'Four sets of clinical diagnostic criteria for neurofibromatosis 2 (NF2) have been developed by groups of expert clinicians, but sensitivity has never been formally assessed. The sets of criteria differ for people without bilateral vestibular schwannomas, which are pathognomonic for NF2.\\r\\n\\r\\nTo empirically evaluate the four existing sets of clinical diagnostic criteria for NF2.\\r\\n\\r\\nThe study was based on 163 of 403 people in the United Kingdom NF2 registry (41%) who presented without bilateral vestibular schwannomas. The authors applied the sets of criteria to each person at initial assessment and at the most recent clinical evaluation (mean +/- SE length of follow-up, 13 +/- 1 years).\\r\\n\\r\\nIn people with \"definite NF2\" and a negative family history of NF2, the 1987 US NIH and 1991 NIH criteria each identify 78% of people at the most recent clinical evaluation but 0% at initial assessment. The National Neurofibromatosis Foundation (NNFF) criteria and the Manchester criteria each identify higher proportions at both time points (NNFF criteria, 91% and 10%; Manchester criteria, 93% and 14%), but the proportions at initial assessment are still low.\\r\\n\\r\\nNone of the existing sets of criteria are adequate at initial assessment for diagnosing people who present without bilateral vestibular schwannomas as having NF2, particularly people with a negative family history of NF2. The authors recommend that a single, revised set of diagnostic criteria be devised to replace all of the existing sets of criteria. \\n\\n##\\n\\n  neurofibromatosis | HP_0006746\\n bilateral vestibular schwannomas | HP_0009589\\n vestibular schwannomas | HP_0009588\\n schwannomas | HP_0100008\\n END',\n",
       " 'We report on a 32-year-old Italian man, his 5-year-old daughter, and his 3 1/2-year-old son, all of whom had congenital joint contractures. Each has severe ulnar deviation of fingers and soft-tissue contractures of both hands; and each had bilateral clubfeet at birth. The father is short in stature, as are the children, who also have delayed carpal ossification. The findings in this family suggest autosomal-dominant inheritance of the condition. The clinical features are consistent with the condition currently referred to as \"distal\" arthrogryposis. \\n\\n##\\n\\n  congenital joint contractures | HP_0002803\\n joint contractures | HP_0001371\\n ulnar deviation of fingers | HP_0009465\\n ulnar deviation | HP_0001193\\n contractures of both hands | HP_0006096\\n bilateral clubfeet | HP_0001776\\n clubfeet | HP_0001762\\n short in stature | HP_0001509\\n delayed carpal ossification | HP_0001216\\n autosomal-dominant inheritance | HP_0000006\\n \"distal\" arthrogryposis | HP_0005684\\n arthrogryposis | HP_0001390\\n END',\n",
       " \"DNA mapping studies in two families provide further information on the Angelman syndrome critical region, which has recently been defined by the gene UBE3A. The first family has probable familial Angelman syndrome with a maternally imprinted inheritance pattern. A 5 year old girl with this disorder has a 14 year old brother and an 11 year old male cousin who have less typical clinical features. DNA microsatellite analysis has shown that the three share a common segment of the same grandpaternal chromosome 15q11-q13 that overlaps with UBE3A. The child with typical Angelman syndrome has an additional maternal recombination 5' to UBE3A. The second family is a mother and son both of whom have mental retardation but no other features of Angelman syndrome despite an extensive DNA deletion on the telomeric side of UBE3A. Together, the two families identify a region between loci D15S210 and D15S986 which forms part of the Angelman syndrome critical region. A new microsatellite (D15S1234) is described which can be used in place of the LS6-1 marker at locus D15S113. \\n\\n##\\n\\n  mental retardation | HP_0001249\\n END\",\n",
       " 'Townes-Brocks syndrome (TBS) is an autosomal dominant disorder with multiple malformations and variable expression. Major findings include external ear anomalies, hearing loss, preaxial polydactyly and triphalangeal thumbs, imperforate anus, and renal malformations. Most patients with Townes-Brocks syndrome have normal intelligence, although mental retardation has been noted in a few. \\n\\n##\\n\\n  autosomal dominant disorder | HP_0000006\\n variable expression | HP_0003828\\n variable | HP_0003813\\n external ear anomalies | HP_0000356\\n ear anomalies | HP_0000598\\n hearing loss | HP_0000365\\n preaxial polydactyly | HP_0001177\\n polydactyly | HP_0010442\\n triphalangeal thumbs | HP_0001199\\n imperforate anus | HP_0002023\\n renal malformations | HP_0000792\\n mental retardation | HP_0001249\\n END',\n",
       " 'We report on the 12-year development of a child with branchio-oculo-facial syndrome who was initially referred at age 5 months. Of note is his normal intelligence, regular class placement, hypernasal speech, and continued growth along the third centile. The importance of serial observations of patients with rare genetic disorders is emphasized. \\n\\n##\\n\\n  hypernasal speech | HP_0001611\\n continued growth along the third centile | HP_0004322\\n END',\n",
       " 'Fifteen patients with bilateral acoustic neuromas are presented. Ten patients became symptomatic before age 21, and 9 of these patients developed additional central nervous system tumors. Cutaneous manifestations of neurofibromatosis and a positive family history of this disorder were absent in many of the patients. Most patients required multiple surgical procedures, and the timing, techniques, and results of these operations are reported. The pathogenesis of these tumors, the genetic aspects of this disorder, and potential treatment alternatives are discussed. \\n\\n##\\n\\n  bilateral acoustic neuromas | HP_0009589\\n acoustic neuromas | HP_0009588\\n central nervous system tumors | HP_0100006\\n nervous system tumors | HP_0004375\\n tumors | HP_0002664\\n Cutaneous manifestations | HP_0000951\\n neurofibromatosis | HP_0006746\\n END',\n",
       " 'The family on which this report is based is of interest because it contains individuals with the branchio-oto-renal (BOR) syndrome who have renal hypoplasia or malformations of the kidney or collecting system including duplication; only branchial and ear anomalies; and apparent nonpenetrance of the syndrome. This report provides evidence to support the hypothesis that in some families variable expressivity includes duplication of the urinary collecting system in individuals with other manifestations of the BOR syndrome as well as individuals with branchial and ear anomalies who have apparently normal kidneys. \\n\\n##\\n\\n  renal hypoplasia | HP_0000089\\n malformations of the kidney or collecting system | HP_0004742\\n malformations of the kidney or collecting system including duplication | HP_0000081\\n malformations of the kidney | HP_0000792\\n branchial | HP_0009794\\n ear anomalies | HP_0000598\\n nonpenetrance | HP_0003829\\n variable | HP_0003813\\n variable expressivity | HP_0003828\\n END',\n",
       " 'A family is described in which 16 individuals in 3 generations have Charcot-Marie-Tooth disease. At least 6 family members also have the naevoid basal cell carcinoma syndrome. In addition, 1 subject with both disorders has 2 young daughters with the naevoid basal cell carcinoma syndrome. \\n\\n##\\n\\n  basal cell carcinoma | HP_0002671\\n END',\n",
       " \"Thirty six children with typical features of Angelman's syndrome, including global developmental delay, ataxia, episodes of paroxysmal laughter, seizures, and microcephaly were studied. The series included three sibships of three affected sisters, two affected brothers, and two affected sisters, respectively. The facial appearance is characterised by a prominent jaw, a wide mouth, and a pointed chin. Tongue thrusting is common. The movement disorder consists of a wide based, ataxic gait with frequent jerky limb movements and flapping of the hands. Tone is variable in the limbs with normal reflexes, and the plantar responses are usually flexor. The syndrome is being diagnosed more often, and attention is drawn to its diagnostic aspects. \\n\\n##\\n\\n  global developmental delay | HP_0001263\\n ataxia | HP_0001251\\n episodes of paroxysmal laughter | HP_0000749\\n laughter | HP_0000748\\n seizures | HP_0001250\\n microcephaly | HP_0000252\\n facial appearance | HP_0001999\\n prominent jaw | HP_0002051\\n wide mouth | HP_0000154\\n pointed chin | HP_0000307\\n Tongue thrusting | HP_0000182\\n movement disorder | HP_0100022\\n wide based, ataxic gait | HP_0002136\\n ataxic gait | HP_0002066\\n jerky limb movements | HP_0002276\\n flapping of the hands | HP_0100023\\n variable | HP_0003813\\n END\",\n",
       " 'This paper reports on a family with popliteal pterygium syndrome (PPS), which was ascertained through a baby with most of the major signs of the syndrome. The mother, who had a repaired cleft palate and toe syndactyly, had been aware that her syndactyly was familial, but her unpreparedness for the birth of a child with PPS led to interest in, and a subsequent review of, the differnetial diagnosis and the variable expression of the clinical manifestations of this syndrome. Upon review, some earlier reported cases were excluded as PPS, and certain ascertainment and reporting biases that could affect such an analysis were considered. \\n\\n##\\n\\n  popliteal pterygium | HP_0009756\\n pterygium | HP_0001059\\n cleft palate | HP_0000175\\n toe syndactyly | HP_0001770\\n syndactyly | HP_0001159\\n variable | HP_0003813\\n variable expression | HP_0003828\\n END',\n",
       " 'Bilateral acoustic neurofibromatosis (BANF) is a genetic defect associated with multiple tumors of neural crest origin. Specific loss of alleles from chromosome 22 was detected with polymorphic DNA markers in two acoustic neuromas, two neurofibromas, and one meningioma from BANF patients. This indicates a common pathogenetic mechanism for all three tumor types. The two neurofibromas were among three taken from the same patient, and both showed loss of identical alleles demonstrating that the same chromosome suffered deletion in both tumors. The third neurofibroma from this patient showed no detectable loss of heterozygosity, which suggests the possibility of a more subtle mutational event that affects chromosome 22. In the two acoustic neuromas, only a portion of chromosome 22 was deleted, narrowing the possible chromosomal location of the gene that causes BANF to the region distal to the D22S9 locus in band 22q11. The identification of progressively smaller deletions on chromosome 22 in these tumor types may well provide a means to clone and characterize the defect. \\n\\n##\\n\\n  Bilateral acoustic neurofibromatosis | HP_0009589\\n neurofibromatosis | HP_0006746\\n multiple tumors of neural crest | HP_0004375\\n tumors | HP_0002664\\n acoustic neuromas | HP_0009588\\n neurofibromas | HP_0001067\\n meningioma | HP_0002858\\n END',\n",
       " \"Popliteal pterygium syndrome (PPS) and Van der Woude syndrome (VWS) are caused by mutations in the gene interferon regulatory factor 6 (IRF6). Skeletal, genital malformations and involvement of the skin occur in PPS and orofacial clefting and lip pits occur in both. We report on a patient with unilateral cleft lip and palate, ankyloblepharon, paramedian lip pits, unilateral renal aplasia, and a coronal hypospadias. By sequencing IRF6, we detected a novel missense mutation (Arg339Ile). The other family members were unaffected and had no IRF6 mutations, including the patient's brother who was also born with hypospadias. The patient and his brother were both conceived by in vitro fertilization (IVF). It is discussed whether the renal malformation in the patient is related to the IVF procedure or to the IRF6 mutation. \\n\\n##\\n\\n  Popliteal pterygium | HP_0009756\\n pterygium | HP_0001059\\n Skeletal, genital malformations | HP_0000924\\n genital malformations | HP_0000078\\n involvement of the skin | HP_0000951\\n orofacial clefting | HP_0000202\\n lip pits | HP_0000196\\n pits | HP_0004467\\n unilateral cleft lip and palate | HP_0100334\\n unilateral cleft lip | HP_0100333\\n cleft lip and palate | HP_0000175\\n ankyloblepharon | HP_0009755\\n paramedian lip pits | HP_0100269\\n unilateral renal aplasia | HP_0000122\\n renal aplasia | HP_0000104\\n coronal hypospadias | HP_0008743\\n hypospadias | HP_0000047\\n renal malformation | HP_0000792\\n END\",\n",
       " 'Brachydactyly type C is an autosomal dominant disorder characterized by abnormal segmentation of the index and middle fingers segregating with a high degree of variable expression in members of the same family. We have followed up and studied members of the large kindred segregating with the brachydactyly type C phenotype described by Virgil Haws in 1963, and using genetic linkage analysis, we localized the susceptibility gene to human chromosome 12q24. \\n\\n##\\n\\n  Brachydactyly type C | HP_0009373\\n autosomal dominant disorder | HP_0000006\\n abnormal segmentation of the index and middle fingers | HP_0004100\\n high degree of variable expression in members of the same family | HP_0003822\\n variable expression | HP_0003828\\n variable | HP_0003813\\n brachydactyly | HP_0001156\\n END',\n",
       " 'Heterozygous missense mutations in the serine-threonine kinase receptor BMPR1B result typically in brachydactyly type A2 (BDA2), whereas mutations in the corresponding ligand GDF5 cause brachydactyly type C (BDC). Mutations in the GDF inhibitor Noggin (NOG) or activating mutations in GDF5 cause proximal symphalangism (SYM1). Here, we describe a novel mutation in BMPR1B (R486Q) that is associated with either BDA2 or a BDC/SYM1-like phenotype. Functional investigations of the R486Q mutation were performed and compared with the previously reported BDA2-causing mutation R486W and WT BMPR1B. Overexpression of the mutant receptors in chicken micromass cultures resulted in a strong inhibition of chondrogenesis with the R486Q mutant, showing a stronger effect than the R486W mutant. To investigate the consequences of the BMPR1B mutations on the intracellular signal transduction, we used stably transfected C2C12 cells and measured the activity of SMAD-dependent and SMAD-independent pathways. SMAD activation after stimulation with GDF5 was suppressed in both mutants. Alkaline phosphatase induction showed an almost complete loss of activation by both mutants. Our data extend the previously known mutational and phenotypic spectrum associated with mutations in BMPR1B. Disturbances of NOG-GDF5-BMPR1B signaling cascade can result in similar clinical manifestations depending on the quantitative effect and mode of action of the specific mutations within the same functional pathway. \\n\\n##\\n\\n  brachydactyly type A2 (BDA2) | HP_0009372\\n brachydactyly | HP_0001156\\n brachydactyly type C | HP_0009373\\n proximal symphalangism | HP_0100264\\n SYM1 | HP_0006152\\n END',\n",
       " 'Townes-Brocks syndrome (TBS, OMIM #107480) is a rare autosomal-dominant malformation syndrome with a combination of anal, renal, limb and ear anomalies. Cytogenetic findings suggested that the gene mutated in TBS maps to chromosome 16q12.1, where SALL1 (previously known as HSAL1), a human homologue of spalt (sal), is located. SAL is a developmental regulator in Drosophila melanogaster and is conserved throughout evolution. No phenotype has yet been attributed to mutations in vertebrate sal-like genes. The expression patterns of sal-like genes in mouse, Xenopus and the fish Medaka, and the finding that Medaka sal is regulated by Sonic hedgehog (Shh; ref. 11), prompted us to examine SALL1 as a TBS candidate gene. Here we demonstrate that SALL1 mutations cause TBS in a family with vertical transmission of TBS and in an unrelated family with a sporadic case of TBS. Both mutations are predicted to result in a prematurely terminated SALL1 protein lacking all putative DNA binding domains. TBS therefore represents another human developmental disorder caused by mutations in a putative C2H2 zinc-finger transcription factor. \\n\\n##\\n\\n  autosomal-dominant | HP_0000006\\n anal, renal, limb and ear anomalies | HP_0004378\\n ear anomalies | HP_0000598\\n sporadic | HP_0003745\\n END',\n",
       " 'Neurofibromatosis 1 and neurofibromatosis 2 are autosomal dominant genetic disorders in which affected individuals develop both benign and malignant tumors at an increased frequency. Since the original National Institutes of Health Consensus Development Conference in 1987, there has been significant progress toward a more complete understanding of the molecular bases for neurofibromatosis 1 and neurofibromatosis 2. Our objective was to determine the diagnostic criteria for neurofibromatosis 1 and neurofibromatosis 2, recommendations for the care of patients and their families at diagnosis and during routine follow-up, and the role of DNA diagnostic testing in the evaluation of these disorders.\\r\\n\\r\\nPublished reports from 1966 through 1996 obtained by MEDLINE search and studies presented at national and international meetings.\\r\\n\\r\\nAll studies were reviewed and analyzed by consensus from multiple authors.\\r\\n\\r\\nPeer-reviewed published data were critically evaluated by independent extraction by multiple authors.\\r\\n\\r\\nThe main results of the review were qualitative and were reviewed by neurofibromatosis clinical directors worldwide through an Internet Web site.\\r\\n\\r\\nOn the basis of the information presented in this review, we propose a comprehensive approach to the diagnosis and treatment of individuals with neurofibromatosis 1 and neurofibromatosis 2. \\n\\n##\\n\\n  Neurofibromatosis | HP_0006746\\n autosomal dominant | HP_0000006\\n tumors | HP_0002664\\n END',\n",
       " 'We report the prenatal diagnosis of distal arthrogryposis type I by ultrasound at 18 wk gestation in a family with two other affected members (mother and sister of the fetus). The pregnancy was followed with serial ultrasounds, and the diagnosis was confirmed after birth. The clinical findings in all affected family members are described. A literature survey of prenatally diagnosed cases of multiple joint contractures is presented. These include cases with many different diagnoses. This is the first report of the prenatal diagnosis of distal arthrogryposis type I. It helps to illustrate the variability and prenatal natural history of the condition and the subtlety of the prenatal ultrasound findings. \\n\\n##\\n\\n  distal arthrogryposis | HP_0005684\\n arthrogryposis | HP_0001390\\n prenatally diagnosed cases | HP_0003660\\n multiple joint contractures | HP_0002828\\n joint contractures | HP_0001371\\n variability | HP_0003812\\n END',\n",
       " 'A woman with the autosomal dominant syndrome of preauricular pits, cervical fistulae, and partial deafness gave birth to two children with preauricular pits and severe renal dysgenesis. The facies had some features of the Potter facies of renal agenesis. One child died soon after birth because of pneumothorax and immature development of the lungs. We suggest that all infants with renal agenesis or dysgenesis be examined for preauricular pits because of the high recurrence risk of renal anomalies in families with this syndrome. \\n\\n##\\n\\n  autosomal dominant | HP_0000006\\n preauricular pits | HP_0004467\\n cervical fistulae | HP_0009795\\n partial deafness | HP_0000365\\n deafness | HP_0000404\\n severe renal dysgenesis | HP_0008680\\n Potter facies | HP_0002009\\n renal agenesis | HP_0000104\\n died soon after birth | HP_0001432\\n pneumothorax | HP_0002107\\n immature development of the lungs | HP_0002088\\n renal anomalies | HP_0000077\\n END',\n",
       " 'In this report we present a subject affected by nevoid basal cell carcinoma syndrome (NBCCS), showing also bilateral mandibular coronoid processes hyperplasia, a hitherto unreported association. Our observation of bilateral hyperplasia of the mandibular coronoid processes in a boy with NBCCS may prompt a retrospective and prospective review of other patients affected by this syndrome in order to establish if this anomaly is part of it. \\n\\n##\\n\\n  basal cell carcinoma | HP_0002671\\n bilateral mandibular coronoid processes hyperplasia | HP_0000277\\n END',\n",
       " \"We studied the seizure and polygraphic patterns of 18 patients with Angelman's syndrome. All patients showed movement problems. Eleven patients were also reported to have long-lasting periods of jerky movements. The polygraphic recording showed a myoclonic status epilepticus in nine of them. Seven patients had partial seizures with eye deviation and vomiting, similar to those of childhood occipital epilepsies. These seizures and electroencephalographic patterns suggest that Angelman's syndrome occurs in most of the patients as a nonprogressive, age-dependent myoclonic encephalopathy with a prominent occipital involvement. These findings indicate that, whereas ataxia is a constant symptom in Angelman's syndrome, the occurrence of a transient myoclonic status epilepticus may account for the recurrence of different abnormal movements, namely the jerky ones. \\n\\n##\\n\\n  seizure | HP_0001250\\n movement problems | HP_0100022\\n jerky movements | HP_0007087\\n myoclonic status epilepticus | HP_0002123\\n myoclonic | HP_0001336\\n status epilepticus | HP_0002133\\n partial seizures | HP_0007359\\n eye deviation | HP_0000496\\n vomiting | HP_0002013\\n childhood | HP_0011463\\n epilepsies | HP_0001275\\n electroencephalographic patterns | HP_0002353\\n nonprogressive | HP_0003680\\n nonprogressive, age-dependent myoclonic encephalopathy | HP_0007030\\n encephalopathy | HP_0001298\\n ataxia | HP_0001251\\n END\",\n",
       " \"Angelman's syndrome and Prader-Willi syndrome are both causes of mental retardation with recognisable, but quite different, clinical phenotypes. Both are associated with deletions of chromosome 15q11-13, of maternal origin in Angelman's and paternal in Prader-Willi. Prader-Willi can arise by inheritance of two chromosomes 15 from the mother and none from the father (uniparental maternal disomy). In 2 patients with Angelman's syndrome we found evidence of uniparental paternal disomy. The phenotypic effects of maternal and paternal disomy of chromosome 15 are very different and inheritance of two normal 15s from one parent does not lead to normal development--strong evidence in man for genomic imprinting, in which the same gene has different effects dependent upon its parental origin. \\n\\n##\\n\\n  mental retardation | HP_0001249\\n END\",\n",
       " 'This study of 47 patients from 11 families with neurofibromatosis type 2 (NF 2) confirms our previously reported association between posterior capsular cataract and NF 2. A highly significant statistical association was found between the presence of posterior capsular lens opacities and the presence of NF 2 as determined by magnetic resonance imaging or pathologic diagnosis. This association was not present for other types of lens opacities that could be the result of age-related or nonspecific changes. When considering the diagnosis of NF 2, this finding now makes it essential to use a careful dilated biomicroscopic examination of the lens to evaluate known, suspected, or at-risk individuals for this potentially early associated manifestation. \\n\\n##\\n\\n  neurofibromatosis | HP_0006746\\n posterior capsular cataract | HP_0100020\\n capsular cataract | HP_0100017\\n cataract | HP_0000518\\n posterior capsular lens opacities | HP_0007787\\n early associated manifestation | HP_0003593\\n END',\n",
       " \"Angelman syndrome is a neuro-developmental disorder caused by genetic abnormalities affecting the maternal gene expression in the chromosome region 15q11-q13. In a study group of 45 Finnish Angelman patients, a recurrence of a del(15)(q11q13) was detected in one family. The mother's chromosomes 15 were structurally normal, whereas the patients and their unaffected brother shared an identical maternally derived haplotype outside the deletion region. These findings are suggestive of maternal germ-line mosaicism of del(15)(q11q13). \\n\\n##\\n\\n  neuro-developmental disorder | HP_0012759\\n END\",\n",
       " 'Neurofibromatosis type 2 is an autosomal-dominant multiple neoplasia syndrome that results from mutations in the NF2 tumour suppressor gene located on chromosome 22q. It has a frequency of one in 25,000 livebirths and nearly 100% penetrance by 60 years of age. Half of patients inherit a germline mutation from an affected parent and the remainder acquire a de novo mutation for neurofibromatosis type 2. Patients develop nervous system tumours (schwannomas, meningiomas, ependymomas, astrocytomas, and neurofibromas), peripheral neuropathy, ophthalmological lesions (cataracts, epiretinal membranes, and retinal hamartomas), and cutaneous lesions (skin tumours). Optimum treatment is multidisciplinary because of the complexities associated with management of the multiple, progressive, and protean lesions associated with the disorder. We review the molecular pathogenesis, genetics, clinical findings, and management strategies for neurofibromatosis type 2. \\n\\n##\\n\\n  Neurofibromatosis | HP_0006746\\n autosomal-dominant | HP_0000006\\n multiple neoplasia | HP_0003008\\n neoplasia | HP_0002664\\n de novo | HP_0003745\\n nervous system tumours | HP_0004375\\n schwannomas | HP_0100008\\n meningiomas | HP_0002858\\n ependymomas | HP_0002888\\n astrocytomas | HP_0009592\\n neurofibromas | HP_0001067\\n peripheral neuropathy | HP_0009830\\n ophthalmological lesions | HP_0000478\\n cataracts | HP_0000518\\n epiretinal membranes | HP_0100014\\n retinal hamartomas | HP_0009594\\n cutaneous lesions | HP_0000951\\n skin tumours | HP_0008069\\n END',\n",
       " 'We present 3 individuals, a mother, her son, and an unrelated child, with a number of manifestations reported in the branchio-oculo-facial syndrome (BOFS). The former 2 individuals lacked the ocular and branchial abnormalities normally encountered in this syndrome. However, unilateral renal agenesis was present in the first child, a defect infrequently found in the BOF syndrome. Both the mother and her son also had bilateral supra-auricular sinuses. These defects may represent persistence of the otic vesicle sinus tract. The second child has a mild expression of this condition, among the mildest reported in the literature. The BOFS appears to represent a spectrum involving the development of the optic vesicles, branchial arches, eyes, face, lips, and kidneys. The variations seen in this disorder and the overlap between this condition and the branchio-oto-renal syndrome may represent different mutations within a single gene or may be a contiguous gene deletion syndrome. \\n\\n##\\n\\n  unilateral renal agenesis | HP_0000122\\n renal agenesis | HP_0000104\\n bilateral supra-auricular sinuses | HP_0008606\\n development of the optic vesicles | HP_0000478\\n branchial arches | HP_0009794\\n contiguous gene deletion syndrome | HP_0001466\\n END',\n",
       " 'A father and son are described with an autosomal dominant branchial cleft syndrome resembling both the branchio-oto-renal and the branchio-oculo-facial syndrome. Both syndromes may represent variant expressions of the same autosomal dominant gene. \\n\\n##\\n\\n  autosomal dominant | HP_0000006\\n branchial | HP_0009794\\n END']"
      ]
     },
     "execution_count": 10,
     "metadata": {},
     "output_type": "execute_result"
    }
   ],
   "source": [
    "biolark_ft = preprocess(train_df)\n",
    "biolark_ft"
   ]
  },
  {
   "cell_type": "code",
   "execution_count": 11,
   "metadata": {},
   "outputs": [],
   "source": [
    "biolark_tt = preprocess(test_df)"
   ]
  },
  {
   "cell_type": "code",
   "execution_count": 16,
   "metadata": {
    "colab": {
     "base_uri": "https://localhost:8080/",
     "height": 85,
     "referenced_widgets": [
      "551c707ad0c3451e97f589203227728c",
      "fe79b2e6b670405e96b29fde79fb3d41",
      "47aa1d2634f648a2b52459f51ee12257",
      "632199b36eec467382c6e8486ecc7de8",
      "d34f2e8ed1d843ed8f08b4a7103ff582",
      "39de2c65252b43f5ae8ae8834f0954e1",
      "b818f70f333a4b90a1bc2057ff77d561",
      "a0b4e6f675ed4be6ac0191f3f08ca22c",
      "18c6cc9aa7584d48a5f9b1ce358bb851",
      "fec55487153a458b953bdf5c586b71a7",
      "b5ba1d15b93e440a993fccbf01f86306"
     ]
    },
    "id": "mvCFGOoSPnlg",
    "outputId": "5ddd8a8a-9c8f-43ac-928e-e7ee28b7ef41"
   },
   "outputs": [
    {
     "name": "stdout",
     "output_type": "stream",
     "text": [
      "0\n"
     ]
    },
    {
     "name": "stderr",
     "output_type": "stream",
     "text": [
      "\r",
      "  0%|          | 0/205 [00:00<?, ?it/s]"
     ]
    },
    {
     "name": "stdout",
     "output_type": "stream",
     "text": [
      "tensor(0.0170, device='cuda:0', grad_fn=<NllLossBackward0>)\n"
     ]
    },
    {
     "name": "stderr",
     "output_type": "stream",
     "text": [
      "  1%|          | 2/205 [00:00<01:09,  2.93it/s]"
     ]
    },
    {
     "name": "stdout",
     "output_type": "stream",
     "text": [
      "tensor(0.0440, device='cuda:0', grad_fn=<NllLossBackward0>)\n"
     ]
    },
    {
     "name": "stderr",
     "output_type": "stream",
     "text": [
      "\r",
      "  1%|▏         | 3/205 [00:00<01:04,  3.14it/s]"
     ]
    },
    {
     "name": "stdout",
     "output_type": "stream",
     "text": [
      "tensor(0.0150, device='cuda:0', grad_fn=<NllLossBackward0>)\n"
     ]
    },
    {
     "name": "stderr",
     "output_type": "stream",
     "text": [
      "\r",
      "  2%|▏         | 4/205 [00:01<00:59,  3.37it/s]"
     ]
    },
    {
     "name": "stdout",
     "output_type": "stream",
     "text": [
      "tensor(0.0268, device='cuda:0', grad_fn=<NllLossBackward0>)\n"
     ]
    },
    {
     "name": "stderr",
     "output_type": "stream",
     "text": [
      "\r",
      "  2%|▏         | 5/205 [00:01<00:57,  3.47it/s]"
     ]
    },
    {
     "name": "stdout",
     "output_type": "stream",
     "text": [
      "tensor(0.0306, device='cuda:0', grad_fn=<NllLossBackward0>)\n"
     ]
    },
    {
     "name": "stderr",
     "output_type": "stream",
     "text": [
      "\r",
      "  3%|▎         | 6/205 [00:01<00:59,  3.36it/s]"
     ]
    },
    {
     "name": "stdout",
     "output_type": "stream",
     "text": [
      "tensor(0.0279, device='cuda:0', grad_fn=<NllLossBackward0>)\n"
     ]
    },
    {
     "name": "stderr",
     "output_type": "stream",
     "text": [
      "\r",
      "  3%|▎         | 7/205 [00:02<00:58,  3.38it/s]"
     ]
    },
    {
     "name": "stdout",
     "output_type": "stream",
     "text": [
      "tensor(0.0282, device='cuda:0', grad_fn=<NllLossBackward0>)\n"
     ]
    },
    {
     "name": "stderr",
     "output_type": "stream",
     "text": [
      "\r",
      "  4%|▍         | 8/205 [00:02<01:01,  3.23it/s]"
     ]
    },
    {
     "name": "stdout",
     "output_type": "stream",
     "text": [
      "tensor(0.0235, device='cuda:0', grad_fn=<NllLossBackward0>)\n"
     ]
    },
    {
     "name": "stderr",
     "output_type": "stream",
     "text": [
      "\r",
      "  4%|▍         | 9/205 [00:02<01:01,  3.21it/s]"
     ]
    },
    {
     "name": "stdout",
     "output_type": "stream",
     "text": [
      "tensor(0.0265, device='cuda:0', grad_fn=<NllLossBackward0>)\n"
     ]
    },
    {
     "name": "stderr",
     "output_type": "stream",
     "text": [
      "\r",
      "  5%|▍         | 10/205 [00:03<01:01,  3.17it/s]"
     ]
    },
    {
     "name": "stdout",
     "output_type": "stream",
     "text": [
      "tensor(0.0258, device='cuda:0', grad_fn=<NllLossBackward0>)\n"
     ]
    },
    {
     "name": "stderr",
     "output_type": "stream",
     "text": [
      "\r",
      "  5%|▌         | 11/205 [00:03<00:59,  3.29it/s]"
     ]
    },
    {
     "name": "stdout",
     "output_type": "stream",
     "text": [
      "tensor(0.0212, device='cuda:0', grad_fn=<NllLossBackward0>)\n"
     ]
    },
    {
     "name": "stderr",
     "output_type": "stream",
     "text": [
      "\r",
      "  6%|▌         | 12/205 [00:03<00:55,  3.47it/s]"
     ]
    },
    {
     "name": "stdout",
     "output_type": "stream",
     "text": [
      "tensor(0.0076, device='cuda:0', grad_fn=<NllLossBackward0>)\n"
     ]
    },
    {
     "name": "stderr",
     "output_type": "stream",
     "text": [
      "\r",
      "  6%|▋         | 13/205 [00:03<00:54,  3.53it/s]"
     ]
    },
    {
     "name": "stdout",
     "output_type": "stream",
     "text": [
      "tensor(0.0093, device='cuda:0', grad_fn=<NllLossBackward0>)\n"
     ]
    },
    {
     "name": "stderr",
     "output_type": "stream",
     "text": [
      "\r",
      "  7%|▋         | 14/205 [00:04<00:52,  3.61it/s]"
     ]
    },
    {
     "name": "stdout",
     "output_type": "stream",
     "text": [
      "tensor(0.0071, device='cuda:0', grad_fn=<NllLossBackward0>)\n"
     ]
    },
    {
     "name": "stderr",
     "output_type": "stream",
     "text": [
      "\r",
      "  7%|▋         | 15/205 [00:04<00:53,  3.58it/s]"
     ]
    },
    {
     "name": "stdout",
     "output_type": "stream",
     "text": [
      "tensor(0.0307, device='cuda:0', grad_fn=<NllLossBackward0>)\n"
     ]
    },
    {
     "name": "stderr",
     "output_type": "stream",
     "text": [
      "\r",
      "  8%|▊         | 16/205 [00:04<00:56,  3.36it/s]"
     ]
    },
    {
     "name": "stdout",
     "output_type": "stream",
     "text": [
      "tensor(0.0286, device='cuda:0', grad_fn=<NllLossBackward0>)\n"
     ]
    },
    {
     "name": "stderr",
     "output_type": "stream",
     "text": [
      "\r",
      "  8%|▊         | 17/205 [00:05<00:54,  3.47it/s]"
     ]
    },
    {
     "name": "stdout",
     "output_type": "stream",
     "text": [
      "tensor(0.0336, device='cuda:0', grad_fn=<NllLossBackward0>)\n"
     ]
    },
    {
     "name": "stderr",
     "output_type": "stream",
     "text": [
      "\r",
      "  9%|▉         | 18/205 [00:05<00:51,  3.66it/s]"
     ]
    },
    {
     "name": "stdout",
     "output_type": "stream",
     "text": [
      "tensor(0.0448, device='cuda:0', grad_fn=<NllLossBackward0>)\n"
     ]
    },
    {
     "name": "stderr",
     "output_type": "stream",
     "text": [
      "\r",
      "  9%|▉         | 19/205 [00:05<00:50,  3.67it/s]"
     ]
    },
    {
     "name": "stdout",
     "output_type": "stream",
     "text": [
      "tensor(0.0219, device='cuda:0', grad_fn=<NllLossBackward0>)\n"
     ]
    },
    {
     "name": "stderr",
     "output_type": "stream",
     "text": [
      "\r",
      " 10%|▉         | 20/205 [00:05<00:49,  3.72it/s]"
     ]
    },
    {
     "name": "stdout",
     "output_type": "stream",
     "text": [
      "tensor(0.0270, device='cuda:0', grad_fn=<NllLossBackward0>)\n"
     ]
    },
    {
     "name": "stderr",
     "output_type": "stream",
     "text": [
      "\r",
      " 10%|█         | 21/205 [00:06<00:49,  3.74it/s]"
     ]
    },
    {
     "name": "stdout",
     "output_type": "stream",
     "text": [
      "tensor(0.0219, device='cuda:0', grad_fn=<NllLossBackward0>)\n"
     ]
    },
    {
     "name": "stderr",
     "output_type": "stream",
     "text": [
      "\r",
      " 11%|█         | 22/205 [00:06<00:51,  3.54it/s]"
     ]
    },
    {
     "name": "stdout",
     "output_type": "stream",
     "text": [
      "tensor(0.0340, device='cuda:0', grad_fn=<NllLossBackward0>)\n"
     ]
    },
    {
     "name": "stderr",
     "output_type": "stream",
     "text": [
      "\r",
      " 11%|█         | 23/205 [00:06<00:49,  3.66it/s]"
     ]
    },
    {
     "name": "stdout",
     "output_type": "stream",
     "text": [
      "tensor(0.0378, device='cuda:0', grad_fn=<NllLossBackward0>)\n"
     ]
    },
    {
     "name": "stderr",
     "output_type": "stream",
     "text": [
      "\r",
      " 12%|█▏        | 24/205 [00:06<00:48,  3.73it/s]"
     ]
    },
    {
     "name": "stdout",
     "output_type": "stream",
     "text": [
      "tensor(0.0290, device='cuda:0', grad_fn=<NllLossBackward0>)\n"
     ]
    },
    {
     "name": "stderr",
     "output_type": "stream",
     "text": [
      "\r",
      " 12%|█▏        | 25/205 [00:07<00:49,  3.65it/s]"
     ]
    },
    {
     "name": "stdout",
     "output_type": "stream",
     "text": [
      "tensor(0.0209, device='cuda:0', grad_fn=<NllLossBackward0>)\n"
     ]
    },
    {
     "name": "stderr",
     "output_type": "stream",
     "text": [
      "\r",
      " 13%|█▎        | 26/205 [00:07<00:49,  3.61it/s]"
     ]
    },
    {
     "name": "stdout",
     "output_type": "stream",
     "text": [
      "tensor(0.0220, device='cuda:0', grad_fn=<NllLossBackward0>)\n"
     ]
    },
    {
     "name": "stderr",
     "output_type": "stream",
     "text": [
      "\r",
      " 13%|█▎        | 27/205 [00:07<00:47,  3.72it/s]"
     ]
    },
    {
     "name": "stdout",
     "output_type": "stream",
     "text": [
      "tensor(0.0432, device='cuda:0', grad_fn=<NllLossBackward0>)\n"
     ]
    },
    {
     "name": "stderr",
     "output_type": "stream",
     "text": [
      "\r",
      " 14%|█▎        | 28/205 [00:07<00:48,  3.68it/s]"
     ]
    },
    {
     "name": "stdout",
     "output_type": "stream",
     "text": [
      "tensor(0.0290, device='cuda:0', grad_fn=<NllLossBackward0>)\n"
     ]
    },
    {
     "name": "stderr",
     "output_type": "stream",
     "text": [
      "\r",
      " 14%|█▍        | 29/205 [00:08<00:47,  3.72it/s]"
     ]
    },
    {
     "name": "stdout",
     "output_type": "stream",
     "text": [
      "tensor(0.0308, device='cuda:0', grad_fn=<NllLossBackward0>)\n"
     ]
    },
    {
     "name": "stderr",
     "output_type": "stream",
     "text": [
      "\r",
      " 15%|█▍        | 30/205 [00:08<00:47,  3.68it/s]"
     ]
    },
    {
     "name": "stdout",
     "output_type": "stream",
     "text": [
      "tensor(0.0207, device='cuda:0', grad_fn=<NllLossBackward0>)\n"
     ]
    },
    {
     "name": "stderr",
     "output_type": "stream",
     "text": [
      "\r",
      " 15%|█▌        | 31/205 [00:08<00:45,  3.80it/s]"
     ]
    },
    {
     "name": "stdout",
     "output_type": "stream",
     "text": [
      "tensor(0.0261, device='cuda:0', grad_fn=<NllLossBackward0>)\n"
     ]
    },
    {
     "name": "stderr",
     "output_type": "stream",
     "text": [
      "\r",
      " 16%|█▌        | 32/205 [00:09<00:47,  3.62it/s]"
     ]
    },
    {
     "name": "stdout",
     "output_type": "stream",
     "text": [
      "tensor(0.0279, device='cuda:0', grad_fn=<NllLossBackward0>)\n"
     ]
    },
    {
     "name": "stderr",
     "output_type": "stream",
     "text": [
      "\r",
      " 16%|█▌        | 33/205 [00:09<00:48,  3.55it/s]"
     ]
    },
    {
     "name": "stdout",
     "output_type": "stream",
     "text": [
      "tensor(0.0147, device='cuda:0', grad_fn=<NllLossBackward0>)\n"
     ]
    },
    {
     "name": "stderr",
     "output_type": "stream",
     "text": [
      "\r",
      " 17%|█▋        | 34/205 [00:09<00:47,  3.57it/s]"
     ]
    },
    {
     "name": "stdout",
     "output_type": "stream",
     "text": [
      "tensor(0.0229, device='cuda:0', grad_fn=<NllLossBackward0>)\n"
     ]
    },
    {
     "name": "stderr",
     "output_type": "stream",
     "text": [
      "\r",
      " 17%|█▋        | 35/205 [00:09<00:49,  3.47it/s]"
     ]
    },
    {
     "name": "stdout",
     "output_type": "stream",
     "text": [
      "tensor(0.0227, device='cuda:0', grad_fn=<NllLossBackward0>)\n"
     ]
    },
    {
     "name": "stderr",
     "output_type": "stream",
     "text": [
      "\r",
      " 18%|█▊        | 36/205 [00:10<00:49,  3.44it/s]"
     ]
    },
    {
     "name": "stdout",
     "output_type": "stream",
     "text": [
      "tensor(0.0204, device='cuda:0', grad_fn=<NllLossBackward0>)\n"
     ]
    },
    {
     "name": "stderr",
     "output_type": "stream",
     "text": [
      "\r",
      " 18%|█▊        | 37/205 [00:10<00:46,  3.59it/s]"
     ]
    },
    {
     "name": "stdout",
     "output_type": "stream",
     "text": [
      "tensor(0.0445, device='cuda:0', grad_fn=<NllLossBackward0>)\n"
     ]
    },
    {
     "name": "stderr",
     "output_type": "stream",
     "text": [
      "\r",
      " 19%|█▊        | 38/205 [00:10<00:44,  3.74it/s]"
     ]
    },
    {
     "name": "stdout",
     "output_type": "stream",
     "text": [
      "tensor(0.0371, device='cuda:0', grad_fn=<NllLossBackward0>)\n"
     ]
    },
    {
     "name": "stderr",
     "output_type": "stream",
     "text": [
      "\r",
      " 19%|█▉        | 39/205 [00:11<00:45,  3.67it/s]"
     ]
    },
    {
     "name": "stdout",
     "output_type": "stream",
     "text": [
      "tensor(0.0215, device='cuda:0', grad_fn=<NllLossBackward0>)\n"
     ]
    },
    {
     "name": "stderr",
     "output_type": "stream",
     "text": [
      "\r",
      " 20%|█▉        | 40/205 [00:11<00:45,  3.63it/s]"
     ]
    },
    {
     "name": "stdout",
     "output_type": "stream",
     "text": [
      "tensor(0.0335, device='cuda:0', grad_fn=<NllLossBackward0>)\n"
     ]
    },
    {
     "name": "stderr",
     "output_type": "stream",
     "text": [
      "\r",
      " 20%|██        | 41/205 [00:11<00:45,  3.62it/s]"
     ]
    },
    {
     "name": "stdout",
     "output_type": "stream",
     "text": [
      "tensor(0.0234, device='cuda:0', grad_fn=<NllLossBackward0>)\n"
     ]
    },
    {
     "name": "stderr",
     "output_type": "stream",
     "text": [
      "\r",
      " 20%|██        | 42/205 [00:11<00:43,  3.78it/s]"
     ]
    },
    {
     "name": "stdout",
     "output_type": "stream",
     "text": [
      "tensor(0.0396, device='cuda:0', grad_fn=<NllLossBackward0>)\n"
     ]
    },
    {
     "name": "stderr",
     "output_type": "stream",
     "text": [
      "\r",
      " 21%|██        | 43/205 [00:12<00:43,  3.73it/s]"
     ]
    },
    {
     "name": "stdout",
     "output_type": "stream",
     "text": [
      "tensor(0.0359, device='cuda:0', grad_fn=<NllLossBackward0>)\n"
     ]
    },
    {
     "name": "stderr",
     "output_type": "stream",
     "text": [
      "\r",
      " 21%|██▏       | 44/205 [00:12<00:43,  3.74it/s]"
     ]
    },
    {
     "name": "stdout",
     "output_type": "stream",
     "text": [
      "tensor(0.0244, device='cuda:0', grad_fn=<NllLossBackward0>)\n"
     ]
    },
    {
     "name": "stderr",
     "output_type": "stream",
     "text": [
      "\r",
      " 22%|██▏       | 45/205 [00:12<00:43,  3.69it/s]"
     ]
    },
    {
     "name": "stdout",
     "output_type": "stream",
     "text": [
      "tensor(0.0209, device='cuda:0', grad_fn=<NllLossBackward0>)\n"
     ]
    },
    {
     "name": "stderr",
     "output_type": "stream",
     "text": [
      "\r",
      " 22%|██▏       | 46/205 [00:12<00:43,  3.66it/s]"
     ]
    },
    {
     "name": "stdout",
     "output_type": "stream",
     "text": [
      "tensor(0.0204, device='cuda:0', grad_fn=<NllLossBackward0>)\n"
     ]
    },
    {
     "name": "stderr",
     "output_type": "stream",
     "text": [
      "\r",
      " 23%|██▎       | 47/205 [00:13<00:42,  3.70it/s]"
     ]
    },
    {
     "name": "stdout",
     "output_type": "stream",
     "text": [
      "tensor(0.0354, device='cuda:0', grad_fn=<NllLossBackward0>)\n"
     ]
    },
    {
     "name": "stderr",
     "output_type": "stream",
     "text": [
      "\r",
      " 23%|██▎       | 48/205 [00:13<00:41,  3.78it/s]"
     ]
    },
    {
     "name": "stdout",
     "output_type": "stream",
     "text": [
      "tensor(0.0471, device='cuda:0', grad_fn=<NllLossBackward0>)\n"
     ]
    },
    {
     "name": "stderr",
     "output_type": "stream",
     "text": [
      "\r",
      " 24%|██▍       | 49/205 [00:13<00:40,  3.85it/s]"
     ]
    },
    {
     "name": "stdout",
     "output_type": "stream",
     "text": [
      "tensor(0.0090, device='cuda:0', grad_fn=<NllLossBackward0>)\n"
     ]
    },
    {
     "name": "stderr",
     "output_type": "stream",
     "text": [
      "\r",
      " 24%|██▍       | 50/205 [00:13<00:40,  3.85it/s]"
     ]
    },
    {
     "name": "stdout",
     "output_type": "stream",
     "text": [
      "tensor(0.0207, device='cuda:0', grad_fn=<NllLossBackward0>)\n"
     ]
    },
    {
     "name": "stderr",
     "output_type": "stream",
     "text": [
      "\r",
      " 25%|██▍       | 51/205 [00:14<00:41,  3.73it/s]"
     ]
    },
    {
     "name": "stdout",
     "output_type": "stream",
     "text": [
      "tensor(0.0258, device='cuda:0', grad_fn=<NllLossBackward0>)\n"
     ]
    },
    {
     "name": "stderr",
     "output_type": "stream",
     "text": [
      "\r",
      " 25%|██▌       | 52/205 [00:14<00:43,  3.54it/s]"
     ]
    },
    {
     "name": "stdout",
     "output_type": "stream",
     "text": [
      "tensor(0.0297, device='cuda:0', grad_fn=<NllLossBackward0>)\n"
     ]
    },
    {
     "name": "stderr",
     "output_type": "stream",
     "text": [
      "\r",
      " 26%|██▌       | 53/205 [00:14<00:41,  3.65it/s]"
     ]
    },
    {
     "name": "stdout",
     "output_type": "stream",
     "text": [
      "tensor(0.0331, device='cuda:0', grad_fn=<NllLossBackward0>)\n"
     ]
    },
    {
     "name": "stderr",
     "output_type": "stream",
     "text": [
      "\r",
      " 26%|██▋       | 54/205 [00:15<00:41,  3.64it/s]"
     ]
    },
    {
     "name": "stdout",
     "output_type": "stream",
     "text": [
      "tensor(0.0306, device='cuda:0', grad_fn=<NllLossBackward0>)\n"
     ]
    },
    {
     "name": "stderr",
     "output_type": "stream",
     "text": [
      "\r",
      " 27%|██▋       | 55/205 [00:15<00:41,  3.63it/s]"
     ]
    },
    {
     "name": "stdout",
     "output_type": "stream",
     "text": [
      "tensor(0.0184, device='cuda:0', grad_fn=<NllLossBackward0>)\n"
     ]
    },
    {
     "name": "stderr",
     "output_type": "stream",
     "text": [
      "\r",
      " 27%|██▋       | 56/205 [00:15<00:40,  3.69it/s]"
     ]
    },
    {
     "name": "stdout",
     "output_type": "stream",
     "text": [
      "tensor(0.0211, device='cuda:0', grad_fn=<NllLossBackward0>)\n"
     ]
    },
    {
     "name": "stderr",
     "output_type": "stream",
     "text": [
      "\r",
      " 28%|██▊       | 57/205 [00:15<00:41,  3.53it/s]"
     ]
    },
    {
     "name": "stdout",
     "output_type": "stream",
     "text": [
      "tensor(0.0164, device='cuda:0', grad_fn=<NllLossBackward0>)\n"
     ]
    },
    {
     "name": "stderr",
     "output_type": "stream",
     "text": [
      "\r",
      " 28%|██▊       | 58/205 [00:16<00:41,  3.55it/s]"
     ]
    },
    {
     "name": "stdout",
     "output_type": "stream",
     "text": [
      "tensor(0.0255, device='cuda:0', grad_fn=<NllLossBackward0>)\n"
     ]
    },
    {
     "name": "stderr",
     "output_type": "stream",
     "text": [
      "\r",
      " 29%|██▉       | 59/205 [00:16<00:39,  3.68it/s]"
     ]
    },
    {
     "name": "stdout",
     "output_type": "stream",
     "text": [
      "tensor(0.0053, device='cuda:0', grad_fn=<NllLossBackward0>)\n"
     ]
    },
    {
     "name": "stderr",
     "output_type": "stream",
     "text": [
      "\r",
      " 29%|██▉       | 60/205 [00:16<00:40,  3.62it/s]"
     ]
    },
    {
     "name": "stdout",
     "output_type": "stream",
     "text": [
      "tensor(0.0307, device='cuda:0', grad_fn=<NllLossBackward0>)\n"
     ]
    },
    {
     "name": "stderr",
     "output_type": "stream",
     "text": [
      "\r",
      " 30%|██▉       | 61/205 [00:17<00:39,  3.63it/s]"
     ]
    },
    {
     "name": "stdout",
     "output_type": "stream",
     "text": [
      "tensor(0.0230, device='cuda:0', grad_fn=<NllLossBackward0>)\n"
     ]
    },
    {
     "name": "stderr",
     "output_type": "stream",
     "text": [
      "\r",
      " 30%|███       | 62/205 [00:17<00:37,  3.78it/s]"
     ]
    },
    {
     "name": "stdout",
     "output_type": "stream",
     "text": [
      "tensor(0.0259, device='cuda:0', grad_fn=<NllLossBackward0>)\n"
     ]
    },
    {
     "name": "stderr",
     "output_type": "stream",
     "text": [
      "\r",
      " 31%|███       | 63/205 [00:17<00:36,  3.87it/s]"
     ]
    },
    {
     "name": "stdout",
     "output_type": "stream",
     "text": [
      "tensor(0.0205, device='cuda:0', grad_fn=<NllLossBackward0>)\n"
     ]
    },
    {
     "name": "stderr",
     "output_type": "stream",
     "text": [
      "\r",
      " 31%|███       | 64/205 [00:17<00:37,  3.81it/s]"
     ]
    },
    {
     "name": "stdout",
     "output_type": "stream",
     "text": [
      "tensor(0.0306, device='cuda:0', grad_fn=<NllLossBackward0>)\n"
     ]
    },
    {
     "name": "stderr",
     "output_type": "stream",
     "text": [
      "\r",
      " 32%|███▏      | 65/205 [00:18<00:35,  3.91it/s]"
     ]
    },
    {
     "name": "stdout",
     "output_type": "stream",
     "text": [
      "tensor(0.0205, device='cuda:0', grad_fn=<NllLossBackward0>)\n"
     ]
    },
    {
     "name": "stderr",
     "output_type": "stream",
     "text": [
      "\r",
      " 32%|███▏      | 66/205 [00:18<00:36,  3.84it/s]"
     ]
    },
    {
     "name": "stdout",
     "output_type": "stream",
     "text": [
      "tensor(0.0130, device='cuda:0', grad_fn=<NllLossBackward0>)\n"
     ]
    },
    {
     "name": "stderr",
     "output_type": "stream",
     "text": [
      "\r",
      " 33%|███▎      | 67/205 [00:18<00:37,  3.73it/s]"
     ]
    },
    {
     "name": "stdout",
     "output_type": "stream",
     "text": [
      "tensor(0.0221, device='cuda:0', grad_fn=<NllLossBackward0>)\n"
     ]
    },
    {
     "name": "stderr",
     "output_type": "stream",
     "text": [
      "\r",
      " 33%|███▎      | 68/205 [00:18<00:36,  3.80it/s]"
     ]
    },
    {
     "name": "stdout",
     "output_type": "stream",
     "text": [
      "tensor(0.0269, device='cuda:0', grad_fn=<NllLossBackward0>)\n"
     ]
    },
    {
     "name": "stderr",
     "output_type": "stream",
     "text": [
      "\r",
      " 34%|███▎      | 69/205 [00:19<00:36,  3.77it/s]"
     ]
    },
    {
     "name": "stdout",
     "output_type": "stream",
     "text": [
      "tensor(0.0295, device='cuda:0', grad_fn=<NllLossBackward0>)\n"
     ]
    },
    {
     "name": "stderr",
     "output_type": "stream",
     "text": [
      "\r",
      " 34%|███▍      | 70/205 [00:19<00:35,  3.85it/s]"
     ]
    },
    {
     "name": "stdout",
     "output_type": "stream",
     "text": [
      "tensor(0.0112, device='cuda:0', grad_fn=<NllLossBackward0>)\n"
     ]
    },
    {
     "name": "stderr",
     "output_type": "stream",
     "text": [
      "\r",
      " 35%|███▍      | 71/205 [00:19<00:35,  3.77it/s]"
     ]
    },
    {
     "name": "stdout",
     "output_type": "stream",
     "text": [
      "tensor(0.0296, device='cuda:0', grad_fn=<NllLossBackward0>)\n"
     ]
    },
    {
     "name": "stderr",
     "output_type": "stream",
     "text": [
      "\r",
      " 35%|███▌      | 72/205 [00:19<00:34,  3.83it/s]"
     ]
    },
    {
     "name": "stdout",
     "output_type": "stream",
     "text": [
      "tensor(0.0330, device='cuda:0', grad_fn=<NllLossBackward0>)\n"
     ]
    },
    {
     "name": "stderr",
     "output_type": "stream",
     "text": [
      "\r",
      " 36%|███▌      | 73/205 [00:20<00:35,  3.75it/s]"
     ]
    },
    {
     "name": "stdout",
     "output_type": "stream",
     "text": [
      "tensor(0.0200, device='cuda:0', grad_fn=<NllLossBackward0>)\n"
     ]
    },
    {
     "name": "stderr",
     "output_type": "stream",
     "text": [
      "\r",
      " 36%|███▌      | 74/205 [00:20<00:39,  3.33it/s]"
     ]
    },
    {
     "name": "stdout",
     "output_type": "stream",
     "text": [
      "tensor(0.0339, device='cuda:0', grad_fn=<NllLossBackward0>)\n"
     ]
    },
    {
     "name": "stderr",
     "output_type": "stream",
     "text": [
      "\r",
      " 37%|███▋      | 75/205 [00:20<00:37,  3.48it/s]"
     ]
    },
    {
     "name": "stdout",
     "output_type": "stream",
     "text": [
      "tensor(0.0124, device='cuda:0', grad_fn=<NllLossBackward0>)\n"
     ]
    },
    {
     "name": "stderr",
     "output_type": "stream",
     "text": [
      "\r",
      " 37%|███▋      | 76/205 [00:21<00:36,  3.57it/s]"
     ]
    },
    {
     "name": "stdout",
     "output_type": "stream",
     "text": [
      "tensor(0.0243, device='cuda:0', grad_fn=<NllLossBackward0>)\n"
     ]
    },
    {
     "name": "stderr",
     "output_type": "stream",
     "text": [
      "\r",
      " 38%|███▊      | 77/205 [00:21<00:35,  3.64it/s]"
     ]
    },
    {
     "name": "stdout",
     "output_type": "stream",
     "text": [
      "tensor(0.0281, device='cuda:0', grad_fn=<NllLossBackward0>)\n"
     ]
    },
    {
     "name": "stderr",
     "output_type": "stream",
     "text": [
      "\r",
      " 38%|███▊      | 78/205 [00:21<00:35,  3.63it/s]"
     ]
    },
    {
     "name": "stdout",
     "output_type": "stream",
     "text": [
      "tensor(0.0193, device='cuda:0', grad_fn=<NllLossBackward0>)\n"
     ]
    },
    {
     "name": "stderr",
     "output_type": "stream",
     "text": [
      "\r",
      " 39%|███▊      | 79/205 [00:21<00:35,  3.59it/s]"
     ]
    },
    {
     "name": "stdout",
     "output_type": "stream",
     "text": [
      "tensor(0.0293, device='cuda:0', grad_fn=<NllLossBackward0>)\n"
     ]
    },
    {
     "name": "stderr",
     "output_type": "stream",
     "text": [
      "\r",
      " 39%|███▉      | 80/205 [00:22<00:34,  3.61it/s]"
     ]
    },
    {
     "name": "stdout",
     "output_type": "stream",
     "text": [
      "tensor(0.0177, device='cuda:0', grad_fn=<NllLossBackward0>)\n"
     ]
    },
    {
     "name": "stderr",
     "output_type": "stream",
     "text": [
      "\r",
      " 40%|███▉      | 81/205 [00:22<00:33,  3.67it/s]"
     ]
    },
    {
     "name": "stdout",
     "output_type": "stream",
     "text": [
      "tensor(0.0065, device='cuda:0', grad_fn=<NllLossBackward0>)\n"
     ]
    },
    {
     "name": "stderr",
     "output_type": "stream",
     "text": [
      "\r",
      " 40%|████      | 82/205 [00:22<00:33,  3.66it/s]"
     ]
    },
    {
     "name": "stdout",
     "output_type": "stream",
     "text": [
      "tensor(0.0194, device='cuda:0', grad_fn=<NllLossBackward0>)\n"
     ]
    },
    {
     "name": "stderr",
     "output_type": "stream",
     "text": [
      "\r",
      " 40%|████      | 83/205 [00:22<00:33,  3.69it/s]"
     ]
    },
    {
     "name": "stdout",
     "output_type": "stream",
     "text": [
      "tensor(0.0155, device='cuda:0', grad_fn=<NllLossBackward0>)\n"
     ]
    },
    {
     "name": "stderr",
     "output_type": "stream",
     "text": [
      "\r",
      " 41%|████      | 84/205 [00:23<00:34,  3.51it/s]"
     ]
    },
    {
     "name": "stdout",
     "output_type": "stream",
     "text": [
      "tensor(0.0254, device='cuda:0', grad_fn=<NllLossBackward0>)\n"
     ]
    },
    {
     "name": "stderr",
     "output_type": "stream",
     "text": [
      "\r",
      " 41%|████▏     | 85/205 [00:23<00:34,  3.48it/s]"
     ]
    },
    {
     "name": "stdout",
     "output_type": "stream",
     "text": [
      "tensor(0.0304, device='cuda:0', grad_fn=<NllLossBackward0>)\n"
     ]
    },
    {
     "name": "stderr",
     "output_type": "stream",
     "text": [
      "\r",
      " 42%|████▏     | 86/205 [00:23<00:33,  3.50it/s]"
     ]
    },
    {
     "name": "stdout",
     "output_type": "stream",
     "text": [
      "tensor(0.0228, device='cuda:0', grad_fn=<NllLossBackward0>)\n"
     ]
    },
    {
     "name": "stderr",
     "output_type": "stream",
     "text": [
      "\r",
      " 42%|████▏     | 87/205 [00:24<00:33,  3.47it/s]"
     ]
    },
    {
     "name": "stdout",
     "output_type": "stream",
     "text": [
      "tensor(0.0302, device='cuda:0', grad_fn=<NllLossBackward0>)\n"
     ]
    },
    {
     "name": "stderr",
     "output_type": "stream",
     "text": [
      "\r",
      " 43%|████▎     | 88/205 [00:24<00:32,  3.60it/s]"
     ]
    },
    {
     "name": "stdout",
     "output_type": "stream",
     "text": [
      "tensor(0.0275, device='cuda:0', grad_fn=<NllLossBackward0>)\n"
     ]
    },
    {
     "name": "stderr",
     "output_type": "stream",
     "text": [
      "\r",
      " 43%|████▎     | 89/205 [00:24<00:32,  3.56it/s]"
     ]
    },
    {
     "name": "stdout",
     "output_type": "stream",
     "text": [
      "tensor(0.0238, device='cuda:0', grad_fn=<NllLossBackward0>)\n"
     ]
    },
    {
     "name": "stderr",
     "output_type": "stream",
     "text": [
      "\r",
      " 44%|████▍     | 90/205 [00:24<00:31,  3.64it/s]"
     ]
    },
    {
     "name": "stdout",
     "output_type": "stream",
     "text": [
      "tensor(0.0304, device='cuda:0', grad_fn=<NllLossBackward0>)\n"
     ]
    },
    {
     "name": "stderr",
     "output_type": "stream",
     "text": [
      "\r",
      " 44%|████▍     | 91/205 [00:25<00:31,  3.62it/s]"
     ]
    },
    {
     "name": "stdout",
     "output_type": "stream",
     "text": [
      "tensor(0.0269, device='cuda:0', grad_fn=<NllLossBackward0>)\n"
     ]
    },
    {
     "name": "stderr",
     "output_type": "stream",
     "text": [
      "\r",
      " 45%|████▍     | 92/205 [00:25<00:32,  3.45it/s]"
     ]
    },
    {
     "name": "stdout",
     "output_type": "stream",
     "text": [
      "tensor(0.0268, device='cuda:0', grad_fn=<NllLossBackward0>)\n"
     ]
    },
    {
     "name": "stderr",
     "output_type": "stream",
     "text": [
      "\r",
      " 45%|████▌     | 93/205 [00:25<00:32,  3.48it/s]"
     ]
    },
    {
     "name": "stdout",
     "output_type": "stream",
     "text": [
      "tensor(0.0262, device='cuda:0', grad_fn=<NllLossBackward0>)\n",
      "tensor(0.0448, device='cuda:0', grad_fn=<NllLossBackward0>)\n"
     ]
    },
    {
     "name": "stderr",
     "output_type": "stream",
     "text": [
      " 46%|████▋     | 95/205 [00:26<00:35,  3.13it/s]"
     ]
    },
    {
     "name": "stdout",
     "output_type": "stream",
     "text": [
      "tensor(0.0193, device='cuda:0', grad_fn=<NllLossBackward0>)\n"
     ]
    },
    {
     "name": "stderr",
     "output_type": "stream",
     "text": [
      "\r",
      " 47%|████▋     | 96/205 [00:26<00:33,  3.22it/s]"
     ]
    },
    {
     "name": "stdout",
     "output_type": "stream",
     "text": [
      "tensor(0.0433, device='cuda:0', grad_fn=<NllLossBackward0>)\n"
     ]
    },
    {
     "name": "stderr",
     "output_type": "stream",
     "text": [
      "\r",
      " 47%|████▋     | 97/205 [00:27<00:33,  3.18it/s]"
     ]
    },
    {
     "name": "stdout",
     "output_type": "stream",
     "text": [
      "tensor(0.0232, device='cuda:0', grad_fn=<NllLossBackward0>)\n"
     ]
    },
    {
     "name": "stderr",
     "output_type": "stream",
     "text": [
      "\r",
      " 48%|████▊     | 98/205 [00:27<00:34,  3.13it/s]"
     ]
    },
    {
     "name": "stdout",
     "output_type": "stream",
     "text": [
      "tensor(0.0418, device='cuda:0', grad_fn=<NllLossBackward0>)\n"
     ]
    },
    {
     "name": "stderr",
     "output_type": "stream",
     "text": [
      "\r",
      " 48%|████▊     | 99/205 [00:27<00:32,  3.25it/s]"
     ]
    },
    {
     "name": "stdout",
     "output_type": "stream",
     "text": [
      "tensor(0.0136, device='cuda:0', grad_fn=<NllLossBackward0>)\n"
     ]
    },
    {
     "name": "stderr",
     "output_type": "stream",
     "text": [
      "\r",
      " 49%|████▉     | 100/205 [00:28<00:31,  3.35it/s]"
     ]
    },
    {
     "name": "stdout",
     "output_type": "stream",
     "text": [
      "tensor(0.0223, device='cuda:0', grad_fn=<NllLossBackward0>)\n"
     ]
    },
    {
     "name": "stderr",
     "output_type": "stream",
     "text": [
      "\r",
      " 49%|████▉     | 101/205 [00:28<00:32,  3.22it/s]"
     ]
    },
    {
     "name": "stdout",
     "output_type": "stream",
     "text": [
      "tensor(0.0388, device='cuda:0', grad_fn=<NllLossBackward0>)\n"
     ]
    },
    {
     "name": "stderr",
     "output_type": "stream",
     "text": [
      "\r",
      " 50%|████▉     | 102/205 [00:28<00:30,  3.40it/s]"
     ]
    },
    {
     "name": "stdout",
     "output_type": "stream",
     "text": [
      "tensor(0.0279, device='cuda:0', grad_fn=<NllLossBackward0>)\n"
     ]
    },
    {
     "name": "stderr",
     "output_type": "stream",
     "text": [
      "\r",
      " 50%|█████     | 103/205 [00:28<00:29,  3.44it/s]"
     ]
    },
    {
     "name": "stdout",
     "output_type": "stream",
     "text": [
      "tensor(0.0276, device='cuda:0', grad_fn=<NllLossBackward0>)\n"
     ]
    },
    {
     "name": "stderr",
     "output_type": "stream",
     "text": [
      "\r",
      " 51%|█████     | 104/205 [00:29<00:28,  3.59it/s]"
     ]
    },
    {
     "name": "stdout",
     "output_type": "stream",
     "text": [
      "tensor(0.0213, device='cuda:0', grad_fn=<NllLossBackward0>)\n"
     ]
    },
    {
     "name": "stderr",
     "output_type": "stream",
     "text": [
      "\r",
      " 51%|█████     | 105/205 [00:29<00:26,  3.74it/s]"
     ]
    },
    {
     "name": "stdout",
     "output_type": "stream",
     "text": [
      "tensor(0.0111, device='cuda:0', grad_fn=<NllLossBackward0>)\n"
     ]
    },
    {
     "name": "stderr",
     "output_type": "stream",
     "text": [
      "\r",
      " 52%|█████▏    | 106/205 [00:29<00:26,  3.70it/s]"
     ]
    },
    {
     "name": "stdout",
     "output_type": "stream",
     "text": [
      "tensor(0.0221, device='cuda:0', grad_fn=<NllLossBackward0>)\n"
     ]
    },
    {
     "name": "stderr",
     "output_type": "stream",
     "text": [
      "\r",
      " 52%|█████▏    | 107/205 [00:29<00:25,  3.84it/s]"
     ]
    },
    {
     "name": "stdout",
     "output_type": "stream",
     "text": [
      "tensor(0.0483, device='cuda:0', grad_fn=<NllLossBackward0>)\n"
     ]
    },
    {
     "name": "stderr",
     "output_type": "stream",
     "text": [
      "\r",
      " 53%|█████▎    | 108/205 [00:30<00:26,  3.64it/s]"
     ]
    },
    {
     "name": "stdout",
     "output_type": "stream",
     "text": [
      "tensor(0.0187, device='cuda:0', grad_fn=<NllLossBackward0>)\n"
     ]
    },
    {
     "name": "stderr",
     "output_type": "stream",
     "text": [
      "\r",
      " 53%|█████▎    | 109/205 [00:30<00:28,  3.42it/s]"
     ]
    },
    {
     "name": "stdout",
     "output_type": "stream",
     "text": [
      "tensor(0.0211, device='cuda:0', grad_fn=<NllLossBackward0>)\n"
     ]
    },
    {
     "name": "stderr",
     "output_type": "stream",
     "text": [
      "\r",
      " 54%|█████▎    | 110/205 [00:30<00:27,  3.46it/s]"
     ]
    },
    {
     "name": "stdout",
     "output_type": "stream",
     "text": [
      "tensor(0.0198, device='cuda:0', grad_fn=<NllLossBackward0>)\n"
     ]
    },
    {
     "name": "stderr",
     "output_type": "stream",
     "text": [
      "\r",
      " 54%|█████▍    | 111/205 [00:31<00:26,  3.50it/s]"
     ]
    },
    {
     "name": "stdout",
     "output_type": "stream",
     "text": [
      "tensor(0.0224, device='cuda:0', grad_fn=<NllLossBackward0>)\n"
     ]
    },
    {
     "name": "stderr",
     "output_type": "stream",
     "text": [
      "\r",
      " 55%|█████▍    | 112/205 [00:31<00:27,  3.40it/s]"
     ]
    },
    {
     "name": "stdout",
     "output_type": "stream",
     "text": [
      "tensor(0.0269, device='cuda:0', grad_fn=<NllLossBackward0>)\n"
     ]
    },
    {
     "name": "stderr",
     "output_type": "stream",
     "text": [
      "\r",
      " 55%|█████▌    | 113/205 [00:31<00:26,  3.43it/s]"
     ]
    },
    {
     "name": "stdout",
     "output_type": "stream",
     "text": [
      "tensor(0.0364, device='cuda:0', grad_fn=<NllLossBackward0>)\n"
     ]
    },
    {
     "name": "stderr",
     "output_type": "stream",
     "text": [
      "\r",
      " 56%|█████▌    | 114/205 [00:32<00:28,  3.14it/s]"
     ]
    },
    {
     "name": "stdout",
     "output_type": "stream",
     "text": [
      "tensor(0.0516, device='cuda:0', grad_fn=<NllLossBackward0>)\n"
     ]
    },
    {
     "name": "stderr",
     "output_type": "stream",
     "text": [
      "\r",
      " 56%|█████▌    | 115/205 [00:32<00:26,  3.36it/s]"
     ]
    },
    {
     "name": "stdout",
     "output_type": "stream",
     "text": [
      "tensor(0.0325, device='cuda:0', grad_fn=<NllLossBackward0>)\n"
     ]
    },
    {
     "name": "stderr",
     "output_type": "stream",
     "text": [
      "\r",
      " 57%|█████▋    | 116/205 [00:32<00:25,  3.45it/s]"
     ]
    },
    {
     "name": "stdout",
     "output_type": "stream",
     "text": [
      "tensor(0.0312, device='cuda:0', grad_fn=<NllLossBackward0>)\n"
     ]
    },
    {
     "name": "stderr",
     "output_type": "stream",
     "text": [
      "\r",
      " 57%|█████▋    | 117/205 [00:32<00:24,  3.54it/s]"
     ]
    },
    {
     "name": "stdout",
     "output_type": "stream",
     "text": [
      "tensor(0.0241, device='cuda:0', grad_fn=<NllLossBackward0>)\n"
     ]
    },
    {
     "name": "stderr",
     "output_type": "stream",
     "text": [
      "\r",
      " 58%|█████▊    | 118/205 [00:33<00:27,  3.20it/s]"
     ]
    },
    {
     "name": "stdout",
     "output_type": "stream",
     "text": [
      "tensor(0.0305, device='cuda:0', grad_fn=<NllLossBackward0>)\n"
     ]
    },
    {
     "name": "stderr",
     "output_type": "stream",
     "text": [
      "\r",
      " 58%|█████▊    | 119/205 [00:33<00:26,  3.24it/s]"
     ]
    },
    {
     "name": "stdout",
     "output_type": "stream",
     "text": [
      "tensor(0.0248, device='cuda:0', grad_fn=<NllLossBackward0>)\n"
     ]
    },
    {
     "name": "stderr",
     "output_type": "stream",
     "text": [
      "\r",
      " 59%|█████▊    | 120/205 [00:33<00:26,  3.25it/s]"
     ]
    },
    {
     "name": "stdout",
     "output_type": "stream",
     "text": [
      "tensor(0.0232, device='cuda:0', grad_fn=<NllLossBackward0>)\n"
     ]
    },
    {
     "name": "stderr",
     "output_type": "stream",
     "text": [
      "\r",
      " 59%|█████▉    | 121/205 [00:34<00:27,  3.06it/s]"
     ]
    },
    {
     "name": "stdout",
     "output_type": "stream",
     "text": [
      "tensor(0.0346, device='cuda:0', grad_fn=<NllLossBackward0>)\n"
     ]
    },
    {
     "name": "stderr",
     "output_type": "stream",
     "text": [
      "\r",
      " 60%|█████▉    | 122/205 [00:34<00:26,  3.19it/s]"
     ]
    },
    {
     "name": "stdout",
     "output_type": "stream",
     "text": [
      "tensor(0.0144, device='cuda:0', grad_fn=<NllLossBackward0>)\n"
     ]
    },
    {
     "name": "stderr",
     "output_type": "stream",
     "text": [
      "\r",
      " 60%|██████    | 123/205 [00:34<00:24,  3.36it/s]"
     ]
    },
    {
     "name": "stdout",
     "output_type": "stream",
     "text": [
      "tensor(0.0291, device='cuda:0', grad_fn=<NllLossBackward0>)\n"
     ]
    },
    {
     "name": "stderr",
     "output_type": "stream",
     "text": [
      "\r",
      " 60%|██████    | 124/205 [00:35<00:23,  3.48it/s]"
     ]
    },
    {
     "name": "stdout",
     "output_type": "stream",
     "text": [
      "tensor(0.0159, device='cuda:0', grad_fn=<NllLossBackward0>)\n"
     ]
    },
    {
     "name": "stderr",
     "output_type": "stream",
     "text": [
      "\r",
      " 61%|██████    | 125/205 [00:35<00:24,  3.24it/s]"
     ]
    },
    {
     "name": "stdout",
     "output_type": "stream",
     "text": [
      "tensor(0.0262, device='cuda:0', grad_fn=<NllLossBackward0>)\n"
     ]
    },
    {
     "name": "stderr",
     "output_type": "stream",
     "text": [
      "\r",
      " 61%|██████▏   | 126/205 [00:35<00:23,  3.32it/s]"
     ]
    },
    {
     "name": "stdout",
     "output_type": "stream",
     "text": [
      "tensor(0.0224, device='cuda:0', grad_fn=<NllLossBackward0>)\n"
     ]
    },
    {
     "name": "stderr",
     "output_type": "stream",
     "text": [
      "\r",
      " 62%|██████▏   | 127/205 [00:35<00:22,  3.49it/s]"
     ]
    },
    {
     "name": "stdout",
     "output_type": "stream",
     "text": [
      "tensor(0.0061, device='cuda:0', grad_fn=<NllLossBackward0>)\n"
     ]
    },
    {
     "name": "stderr",
     "output_type": "stream",
     "text": [
      "\r",
      " 62%|██████▏   | 128/205 [00:36<00:21,  3.58it/s]"
     ]
    },
    {
     "name": "stdout",
     "output_type": "stream",
     "text": [
      "tensor(0.0177, device='cuda:0', grad_fn=<NllLossBackward0>)\n"
     ]
    },
    {
     "name": "stderr",
     "output_type": "stream",
     "text": [
      "\r",
      " 63%|██████▎   | 129/205 [00:36<00:20,  3.66it/s]"
     ]
    },
    {
     "name": "stdout",
     "output_type": "stream",
     "text": [
      "tensor(0.0147, device='cuda:0', grad_fn=<NllLossBackward0>)\n"
     ]
    },
    {
     "name": "stderr",
     "output_type": "stream",
     "text": [
      "\r",
      " 63%|██████▎   | 130/205 [00:36<00:20,  3.70it/s]"
     ]
    },
    {
     "name": "stdout",
     "output_type": "stream",
     "text": [
      "tensor(0.0311, device='cuda:0', grad_fn=<NllLossBackward0>)\n"
     ]
    },
    {
     "name": "stderr",
     "output_type": "stream",
     "text": [
      "\r",
      " 64%|██████▍   | 131/205 [00:37<00:19,  3.79it/s]"
     ]
    },
    {
     "name": "stdout",
     "output_type": "stream",
     "text": [
      "tensor(0.0373, device='cuda:0', grad_fn=<NllLossBackward0>)\n"
     ]
    },
    {
     "name": "stderr",
     "output_type": "stream",
     "text": [
      "\r",
      " 64%|██████▍   | 132/205 [00:37<00:19,  3.74it/s]"
     ]
    },
    {
     "name": "stdout",
     "output_type": "stream",
     "text": [
      "tensor(0.0245, device='cuda:0', grad_fn=<NllLossBackward0>)\n"
     ]
    },
    {
     "name": "stderr",
     "output_type": "stream",
     "text": [
      "\r",
      " 65%|██████▍   | 133/205 [00:37<00:19,  3.76it/s]"
     ]
    },
    {
     "name": "stdout",
     "output_type": "stream",
     "text": [
      "tensor(0.0205, device='cuda:0', grad_fn=<NllLossBackward0>)\n"
     ]
    },
    {
     "name": "stderr",
     "output_type": "stream",
     "text": [
      "\r",
      " 65%|██████▌   | 134/205 [00:37<00:18,  3.87it/s]"
     ]
    },
    {
     "name": "stdout",
     "output_type": "stream",
     "text": [
      "tensor(0.0373, device='cuda:0', grad_fn=<NllLossBackward0>)\n"
     ]
    },
    {
     "name": "stderr",
     "output_type": "stream",
     "text": [
      "\r",
      " 66%|██████▌   | 135/205 [00:38<00:19,  3.54it/s]"
     ]
    },
    {
     "name": "stdout",
     "output_type": "stream",
     "text": [
      "tensor(0.0292, device='cuda:0', grad_fn=<NllLossBackward0>)\n"
     ]
    },
    {
     "name": "stderr",
     "output_type": "stream",
     "text": [
      "\r",
      " 66%|██████▋   | 136/205 [00:38<00:19,  3.60it/s]"
     ]
    },
    {
     "name": "stdout",
     "output_type": "stream",
     "text": [
      "tensor(0.0275, device='cuda:0', grad_fn=<NllLossBackward0>)\n"
     ]
    },
    {
     "name": "stderr",
     "output_type": "stream",
     "text": [
      "\r",
      " 67%|██████▋   | 137/205 [00:38<00:18,  3.66it/s]"
     ]
    },
    {
     "name": "stdout",
     "output_type": "stream",
     "text": [
      "tensor(0.0059, device='cuda:0', grad_fn=<NllLossBackward0>)\n"
     ]
    },
    {
     "name": "stderr",
     "output_type": "stream",
     "text": [
      "\r",
      " 67%|██████▋   | 138/205 [00:38<00:18,  3.65it/s]"
     ]
    },
    {
     "name": "stdout",
     "output_type": "stream",
     "text": [
      "tensor(0.0142, device='cuda:0', grad_fn=<NllLossBackward0>)\n"
     ]
    },
    {
     "name": "stderr",
     "output_type": "stream",
     "text": [
      "\r",
      " 68%|██████▊   | 139/205 [00:39<00:18,  3.52it/s]"
     ]
    },
    {
     "name": "stdout",
     "output_type": "stream",
     "text": [
      "tensor(0.0233, device='cuda:0', grad_fn=<NllLossBackward0>)\n"
     ]
    },
    {
     "name": "stderr",
     "output_type": "stream",
     "text": [
      "\r",
      " 68%|██████▊   | 140/205 [00:39<00:18,  3.42it/s]"
     ]
    },
    {
     "name": "stdout",
     "output_type": "stream",
     "text": [
      "tensor(0.0254, device='cuda:0', grad_fn=<NllLossBackward0>)\n"
     ]
    },
    {
     "name": "stderr",
     "output_type": "stream",
     "text": [
      "\r",
      " 69%|██████▉   | 141/205 [00:39<00:17,  3.56it/s]"
     ]
    },
    {
     "name": "stdout",
     "output_type": "stream",
     "text": [
      "tensor(0.0367, device='cuda:0', grad_fn=<NllLossBackward0>)\n"
     ]
    },
    {
     "name": "stderr",
     "output_type": "stream",
     "text": [
      "\r",
      " 69%|██████▉   | 142/205 [00:40<00:17,  3.60it/s]"
     ]
    },
    {
     "name": "stdout",
     "output_type": "stream",
     "text": [
      "tensor(0.0198, device='cuda:0', grad_fn=<NllLossBackward0>)\n"
     ]
    },
    {
     "name": "stderr",
     "output_type": "stream",
     "text": [
      "\r",
      " 70%|██████▉   | 143/205 [00:40<00:17,  3.47it/s]"
     ]
    },
    {
     "name": "stdout",
     "output_type": "stream",
     "text": [
      "tensor(0.0198, device='cuda:0', grad_fn=<NllLossBackward0>)\n"
     ]
    },
    {
     "name": "stderr",
     "output_type": "stream",
     "text": [
      "\r",
      " 70%|███████   | 144/205 [00:40<00:17,  3.51it/s]"
     ]
    },
    {
     "name": "stdout",
     "output_type": "stream",
     "text": [
      "tensor(0.0218, device='cuda:0', grad_fn=<NllLossBackward0>)\n"
     ]
    },
    {
     "name": "stderr",
     "output_type": "stream",
     "text": [
      "\r",
      " 71%|███████   | 145/205 [00:40<00:16,  3.54it/s]"
     ]
    },
    {
     "name": "stdout",
     "output_type": "stream",
     "text": [
      "tensor(0.0282, device='cuda:0', grad_fn=<NllLossBackward0>)\n"
     ]
    },
    {
     "name": "stderr",
     "output_type": "stream",
     "text": [
      "\r",
      " 71%|███████   | 146/205 [00:41<00:16,  3.50it/s]"
     ]
    },
    {
     "name": "stdout",
     "output_type": "stream",
     "text": [
      "tensor(0.0299, device='cuda:0', grad_fn=<NllLossBackward0>)\n"
     ]
    },
    {
     "name": "stderr",
     "output_type": "stream",
     "text": [
      "\r",
      " 72%|███████▏  | 147/205 [00:41<00:18,  3.18it/s]"
     ]
    },
    {
     "name": "stdout",
     "output_type": "stream",
     "text": [
      "tensor(0.0379, device='cuda:0', grad_fn=<NllLossBackward0>)\n"
     ]
    },
    {
     "name": "stderr",
     "output_type": "stream",
     "text": [
      "\r",
      " 72%|███████▏  | 148/205 [00:41<00:18,  3.15it/s]"
     ]
    },
    {
     "name": "stdout",
     "output_type": "stream",
     "text": [
      "tensor(0.0278, device='cuda:0', grad_fn=<NllLossBackward0>)\n"
     ]
    },
    {
     "name": "stderr",
     "output_type": "stream",
     "text": [
      "\r",
      " 73%|███████▎  | 149/205 [00:42<00:17,  3.17it/s]"
     ]
    },
    {
     "name": "stdout",
     "output_type": "stream",
     "text": [
      "tensor(0.0348, device='cuda:0', grad_fn=<NllLossBackward0>)\n"
     ]
    },
    {
     "name": "stderr",
     "output_type": "stream",
     "text": [
      "\r",
      " 73%|███████▎  | 150/205 [00:42<00:16,  3.25it/s]"
     ]
    },
    {
     "name": "stdout",
     "output_type": "stream",
     "text": [
      "tensor(0.0133, device='cuda:0', grad_fn=<NllLossBackward0>)\n"
     ]
    },
    {
     "name": "stderr",
     "output_type": "stream",
     "text": [
      "\r",
      " 74%|███████▎  | 151/205 [00:42<00:16,  3.31it/s]"
     ]
    },
    {
     "name": "stdout",
     "output_type": "stream",
     "text": [
      "tensor(0.0275, device='cuda:0', grad_fn=<NllLossBackward0>)\n"
     ]
    },
    {
     "name": "stderr",
     "output_type": "stream",
     "text": [
      "\r",
      " 74%|███████▍  | 152/205 [00:43<00:16,  3.25it/s]"
     ]
    },
    {
     "name": "stdout",
     "output_type": "stream",
     "text": [
      "tensor(0.0247, device='cuda:0', grad_fn=<NllLossBackward0>)\n"
     ]
    },
    {
     "name": "stderr",
     "output_type": "stream",
     "text": [
      "\r",
      " 75%|███████▍  | 153/205 [00:43<00:16,  3.24it/s]"
     ]
    },
    {
     "name": "stdout",
     "output_type": "stream",
     "text": [
      "tensor(0.0364, device='cuda:0', grad_fn=<NllLossBackward0>)\n"
     ]
    },
    {
     "name": "stderr",
     "output_type": "stream",
     "text": [
      "\r",
      " 75%|███████▌  | 154/205 [00:43<00:14,  3.46it/s]"
     ]
    },
    {
     "name": "stdout",
     "output_type": "stream",
     "text": [
      "tensor(0.0024, device='cuda:0', grad_fn=<NllLossBackward0>)\n"
     ]
    },
    {
     "name": "stderr",
     "output_type": "stream",
     "text": [
      "\r",
      " 76%|███████▌  | 155/205 [00:43<00:13,  3.63it/s]"
     ]
    },
    {
     "name": "stdout",
     "output_type": "stream",
     "text": [
      "tensor(0.0317, device='cuda:0', grad_fn=<NllLossBackward0>)\n"
     ]
    },
    {
     "name": "stderr",
     "output_type": "stream",
     "text": [
      "\r",
      " 76%|███████▌  | 156/205 [00:44<00:13,  3.50it/s]"
     ]
    },
    {
     "name": "stdout",
     "output_type": "stream",
     "text": [
      "tensor(0.0263, device='cuda:0', grad_fn=<NllLossBackward0>)\n"
     ]
    },
    {
     "name": "stderr",
     "output_type": "stream",
     "text": [
      "\r",
      " 77%|███████▋  | 157/205 [00:44<00:13,  3.49it/s]"
     ]
    },
    {
     "name": "stdout",
     "output_type": "stream",
     "text": [
      "tensor(0.0132, device='cuda:0', grad_fn=<NllLossBackward0>)\n"
     ]
    },
    {
     "name": "stderr",
     "output_type": "stream",
     "text": [
      "\r",
      " 77%|███████▋  | 158/205 [00:44<00:13,  3.41it/s]"
     ]
    },
    {
     "name": "stdout",
     "output_type": "stream",
     "text": [
      "tensor(0.0228, device='cuda:0', grad_fn=<NllLossBackward0>)\n"
     ]
    },
    {
     "name": "stderr",
     "output_type": "stream",
     "text": [
      "\r",
      " 78%|███████▊  | 159/205 [00:45<00:13,  3.47it/s]"
     ]
    },
    {
     "name": "stdout",
     "output_type": "stream",
     "text": [
      "tensor(0.0252, device='cuda:0', grad_fn=<NllLossBackward0>)\n"
     ]
    },
    {
     "name": "stderr",
     "output_type": "stream",
     "text": [
      "\r",
      " 78%|███████▊  | 160/205 [00:45<00:12,  3.62it/s]"
     ]
    },
    {
     "name": "stdout",
     "output_type": "stream",
     "text": [
      "tensor(0.0264, device='cuda:0', grad_fn=<NllLossBackward0>)\n"
     ]
    },
    {
     "name": "stderr",
     "output_type": "stream",
     "text": [
      "\r",
      " 79%|███████▊  | 161/205 [00:45<00:12,  3.50it/s]"
     ]
    },
    {
     "name": "stdout",
     "output_type": "stream",
     "text": [
      "tensor(0.0259, device='cuda:0', grad_fn=<NllLossBackward0>)\n"
     ]
    },
    {
     "name": "stderr",
     "output_type": "stream",
     "text": [
      "\r",
      " 79%|███████▉  | 162/205 [00:45<00:12,  3.40it/s]"
     ]
    },
    {
     "name": "stdout",
     "output_type": "stream",
     "text": [
      "tensor(0.0314, device='cuda:0', grad_fn=<NllLossBackward0>)\n"
     ]
    },
    {
     "name": "stderr",
     "output_type": "stream",
     "text": [
      "\r",
      " 80%|███████▉  | 163/205 [00:46<00:11,  3.58it/s]"
     ]
    },
    {
     "name": "stdout",
     "output_type": "stream",
     "text": [
      "tensor(0.0352, device='cuda:0', grad_fn=<NllLossBackward0>)\n"
     ]
    },
    {
     "name": "stderr",
     "output_type": "stream",
     "text": [
      "\r",
      " 80%|████████  | 164/205 [00:46<00:11,  3.66it/s]"
     ]
    },
    {
     "name": "stdout",
     "output_type": "stream",
     "text": [
      "tensor(0.0320, device='cuda:0', grad_fn=<NllLossBackward0>)\n"
     ]
    },
    {
     "name": "stderr",
     "output_type": "stream",
     "text": [
      "\r",
      " 80%|████████  | 165/205 [00:46<00:11,  3.49it/s]"
     ]
    },
    {
     "name": "stdout",
     "output_type": "stream",
     "text": [
      "tensor(0.0242, device='cuda:0', grad_fn=<NllLossBackward0>)\n"
     ]
    },
    {
     "name": "stderr",
     "output_type": "stream",
     "text": [
      "\r",
      " 81%|████████  | 166/205 [00:47<00:11,  3.52it/s]"
     ]
    },
    {
     "name": "stdout",
     "output_type": "stream",
     "text": [
      "tensor(0.0197, device='cuda:0', grad_fn=<NllLossBackward0>)\n"
     ]
    },
    {
     "name": "stderr",
     "output_type": "stream",
     "text": [
      "\r",
      " 81%|████████▏ | 167/205 [00:47<00:10,  3.53it/s]"
     ]
    },
    {
     "name": "stdout",
     "output_type": "stream",
     "text": [
      "tensor(0.0090, device='cuda:0', grad_fn=<NllLossBackward0>)\n"
     ]
    },
    {
     "name": "stderr",
     "output_type": "stream",
     "text": [
      "\r",
      " 82%|████████▏ | 168/205 [00:47<00:10,  3.61it/s]"
     ]
    },
    {
     "name": "stdout",
     "output_type": "stream",
     "text": [
      "tensor(0.0086, device='cuda:0', grad_fn=<NllLossBackward0>)\n"
     ]
    },
    {
     "name": "stderr",
     "output_type": "stream",
     "text": [
      "\r",
      " 82%|████████▏ | 169/205 [00:47<00:10,  3.46it/s]"
     ]
    },
    {
     "name": "stdout",
     "output_type": "stream",
     "text": [
      "tensor(0.0382, device='cuda:0', grad_fn=<NllLossBackward0>)\n"
     ]
    },
    {
     "name": "stderr",
     "output_type": "stream",
     "text": [
      "\r",
      " 83%|████████▎ | 170/205 [00:48<00:10,  3.46it/s]"
     ]
    },
    {
     "name": "stdout",
     "output_type": "stream",
     "text": [
      "tensor(0.0287, device='cuda:0', grad_fn=<NllLossBackward0>)\n"
     ]
    },
    {
     "name": "stderr",
     "output_type": "stream",
     "text": [
      "\r",
      " 83%|████████▎ | 171/205 [00:48<00:09,  3.48it/s]"
     ]
    },
    {
     "name": "stdout",
     "output_type": "stream",
     "text": [
      "tensor(0.0220, device='cuda:0', grad_fn=<NllLossBackward0>)\n"
     ]
    },
    {
     "name": "stderr",
     "output_type": "stream",
     "text": [
      "\r",
      " 84%|████████▍ | 172/205 [00:48<00:09,  3.58it/s]"
     ]
    },
    {
     "name": "stdout",
     "output_type": "stream",
     "text": [
      "tensor(0.0159, device='cuda:0', grad_fn=<NllLossBackward0>)\n"
     ]
    },
    {
     "name": "stderr",
     "output_type": "stream",
     "text": [
      "\r",
      " 84%|████████▍ | 173/205 [00:49<00:08,  3.70it/s]"
     ]
    },
    {
     "name": "stdout",
     "output_type": "stream",
     "text": [
      "tensor(0.0250, device='cuda:0', grad_fn=<NllLossBackward0>)\n"
     ]
    },
    {
     "name": "stderr",
     "output_type": "stream",
     "text": [
      "\r",
      " 85%|████████▍ | 174/205 [00:49<00:08,  3.65it/s]"
     ]
    },
    {
     "name": "stdout",
     "output_type": "stream",
     "text": [
      "tensor(0.0221, device='cuda:0', grad_fn=<NllLossBackward0>)\n"
     ]
    },
    {
     "name": "stderr",
     "output_type": "stream",
     "text": [
      "\r",
      " 85%|████████▌ | 175/205 [00:49<00:08,  3.36it/s]"
     ]
    },
    {
     "name": "stdout",
     "output_type": "stream",
     "text": [
      "tensor(0.0257, device='cuda:0', grad_fn=<NllLossBackward0>)\n"
     ]
    },
    {
     "name": "stderr",
     "output_type": "stream",
     "text": [
      "\r",
      " 86%|████████▌ | 176/205 [00:49<00:08,  3.35it/s]"
     ]
    },
    {
     "name": "stdout",
     "output_type": "stream",
     "text": [
      "tensor(0.0241, device='cuda:0', grad_fn=<NllLossBackward0>)\n"
     ]
    },
    {
     "name": "stderr",
     "output_type": "stream",
     "text": [
      "\r",
      " 86%|████████▋ | 177/205 [00:50<00:08,  3.48it/s]"
     ]
    },
    {
     "name": "stdout",
     "output_type": "stream",
     "text": [
      "tensor(0.0372, device='cuda:0', grad_fn=<NllLossBackward0>)\n"
     ]
    },
    {
     "name": "stderr",
     "output_type": "stream",
     "text": [
      "\r",
      " 87%|████████▋ | 178/205 [00:50<00:07,  3.51it/s]"
     ]
    },
    {
     "name": "stdout",
     "output_type": "stream",
     "text": [
      "tensor(0.0236, device='cuda:0', grad_fn=<NllLossBackward0>)\n"
     ]
    },
    {
     "name": "stderr",
     "output_type": "stream",
     "text": [
      "\r",
      " 87%|████████▋ | 179/205 [00:50<00:07,  3.58it/s]"
     ]
    },
    {
     "name": "stdout",
     "output_type": "stream",
     "text": [
      "tensor(0.0247, device='cuda:0', grad_fn=<NllLossBackward0>)\n"
     ]
    },
    {
     "name": "stderr",
     "output_type": "stream",
     "text": [
      "\r",
      " 88%|████████▊ | 180/205 [00:51<00:07,  3.50it/s]"
     ]
    },
    {
     "name": "stdout",
     "output_type": "stream",
     "text": [
      "tensor(0.0244, device='cuda:0', grad_fn=<NllLossBackward0>)\n"
     ]
    },
    {
     "name": "stderr",
     "output_type": "stream",
     "text": [
      "\r",
      " 88%|████████▊ | 181/205 [00:51<00:06,  3.53it/s]"
     ]
    },
    {
     "name": "stdout",
     "output_type": "stream",
     "text": [
      "tensor(0.0276, device='cuda:0', grad_fn=<NllLossBackward0>)\n"
     ]
    },
    {
     "name": "stderr",
     "output_type": "stream",
     "text": [
      "\r",
      " 89%|████████▉ | 182/205 [00:51<00:06,  3.61it/s]"
     ]
    },
    {
     "name": "stdout",
     "output_type": "stream",
     "text": [
      "tensor(0.0112, device='cuda:0', grad_fn=<NllLossBackward0>)\n"
     ]
    },
    {
     "name": "stderr",
     "output_type": "stream",
     "text": [
      "\r",
      " 89%|████████▉ | 183/205 [00:51<00:05,  3.68it/s]"
     ]
    },
    {
     "name": "stdout",
     "output_type": "stream",
     "text": [
      "tensor(0.0106, device='cuda:0', grad_fn=<NllLossBackward0>)\n"
     ]
    },
    {
     "name": "stderr",
     "output_type": "stream",
     "text": [
      "\r",
      " 90%|████████▉ | 184/205 [00:52<00:05,  3.82it/s]"
     ]
    },
    {
     "name": "stdout",
     "output_type": "stream",
     "text": [
      "tensor(0.0355, device='cuda:0', grad_fn=<NllLossBackward0>)\n"
     ]
    },
    {
     "name": "stderr",
     "output_type": "stream",
     "text": [
      "\r",
      " 90%|█████████ | 185/205 [00:52<00:05,  3.88it/s]"
     ]
    },
    {
     "name": "stdout",
     "output_type": "stream",
     "text": [
      "tensor(0.0056, device='cuda:0', grad_fn=<NllLossBackward0>)\n"
     ]
    },
    {
     "name": "stderr",
     "output_type": "stream",
     "text": [
      "\r",
      " 91%|█████████ | 186/205 [00:52<00:04,  3.86it/s]"
     ]
    },
    {
     "name": "stdout",
     "output_type": "stream",
     "text": [
      "tensor(0.0234, device='cuda:0', grad_fn=<NllLossBackward0>)\n"
     ]
    },
    {
     "name": "stderr",
     "output_type": "stream",
     "text": [
      "\r",
      " 91%|█████████ | 187/205 [00:52<00:04,  3.96it/s]"
     ]
    },
    {
     "name": "stdout",
     "output_type": "stream",
     "text": [
      "tensor(0.0416, device='cuda:0', grad_fn=<NllLossBackward0>)\n"
     ]
    },
    {
     "name": "stderr",
     "output_type": "stream",
     "text": [
      "\r",
      " 92%|█████████▏| 188/205 [00:53<00:04,  3.83it/s]"
     ]
    },
    {
     "name": "stdout",
     "output_type": "stream",
     "text": [
      "tensor(0.0144, device='cuda:0', grad_fn=<NllLossBackward0>)\n"
     ]
    },
    {
     "name": "stderr",
     "output_type": "stream",
     "text": [
      "\r",
      " 92%|█████████▏| 189/205 [00:53<00:04,  3.83it/s]"
     ]
    },
    {
     "name": "stdout",
     "output_type": "stream",
     "text": [
      "tensor(0.0159, device='cuda:0', grad_fn=<NllLossBackward0>)\n"
     ]
    },
    {
     "name": "stderr",
     "output_type": "stream",
     "text": [
      "\r",
      " 93%|█████████▎| 190/205 [00:53<00:03,  3.76it/s]"
     ]
    },
    {
     "name": "stdout",
     "output_type": "stream",
     "text": [
      "tensor(0.0221, device='cuda:0', grad_fn=<NllLossBackward0>)\n"
     ]
    },
    {
     "name": "stderr",
     "output_type": "stream",
     "text": [
      "\r",
      " 93%|█████████▎| 191/205 [00:53<00:03,  3.60it/s]"
     ]
    },
    {
     "name": "stdout",
     "output_type": "stream",
     "text": [
      "tensor(0.0129, device='cuda:0', grad_fn=<NllLossBackward0>)\n"
     ]
    },
    {
     "name": "stderr",
     "output_type": "stream",
     "text": [
      "\r",
      " 94%|█████████▎| 192/205 [00:54<00:03,  3.70it/s]"
     ]
    },
    {
     "name": "stdout",
     "output_type": "stream",
     "text": [
      "tensor(0.0172, device='cuda:0', grad_fn=<NllLossBackward0>)\n"
     ]
    },
    {
     "name": "stderr",
     "output_type": "stream",
     "text": [
      "\r",
      " 94%|█████████▍| 193/205 [00:54<00:03,  3.55it/s]"
     ]
    },
    {
     "name": "stdout",
     "output_type": "stream",
     "text": [
      "tensor(0.0227, device='cuda:0', grad_fn=<NllLossBackward0>)\n"
     ]
    },
    {
     "name": "stderr",
     "output_type": "stream",
     "text": [
      "\r",
      " 95%|█████████▍| 194/205 [00:54<00:03,  3.55it/s]"
     ]
    },
    {
     "name": "stdout",
     "output_type": "stream",
     "text": [
      "tensor(0.0207, device='cuda:0', grad_fn=<NllLossBackward0>)\n"
     ]
    },
    {
     "name": "stderr",
     "output_type": "stream",
     "text": [
      "\r",
      " 95%|█████████▌| 195/205 [00:55<00:02,  3.56it/s]"
     ]
    },
    {
     "name": "stdout",
     "output_type": "stream",
     "text": [
      "tensor(0.0197, device='cuda:0', grad_fn=<NllLossBackward0>)\n"
     ]
    },
    {
     "name": "stderr",
     "output_type": "stream",
     "text": [
      "\r",
      " 96%|█████████▌| 196/205 [00:55<00:02,  3.64it/s]"
     ]
    },
    {
     "name": "stdout",
     "output_type": "stream",
     "text": [
      "tensor(0.0251, device='cuda:0', grad_fn=<NllLossBackward0>)\n"
     ]
    },
    {
     "name": "stderr",
     "output_type": "stream",
     "text": [
      "\r",
      " 96%|█████████▌| 197/205 [00:55<00:02,  3.68it/s]"
     ]
    },
    {
     "name": "stdout",
     "output_type": "stream",
     "text": [
      "tensor(0.0229, device='cuda:0', grad_fn=<NllLossBackward0>)\n"
     ]
    },
    {
     "name": "stderr",
     "output_type": "stream",
     "text": [
      "\r",
      " 97%|█████████▋| 198/205 [00:55<00:01,  3.81it/s]"
     ]
    },
    {
     "name": "stdout",
     "output_type": "stream",
     "text": [
      "tensor(0.0257, device='cuda:0', grad_fn=<NllLossBackward0>)\n"
     ]
    },
    {
     "name": "stderr",
     "output_type": "stream",
     "text": [
      "\r",
      " 97%|█████████▋| 199/205 [00:56<00:01,  3.72it/s]"
     ]
    },
    {
     "name": "stdout",
     "output_type": "stream",
     "text": [
      "tensor(0.0271, device='cuda:0', grad_fn=<NllLossBackward0>)\n"
     ]
    },
    {
     "name": "stderr",
     "output_type": "stream",
     "text": [
      "\r",
      " 98%|█████████▊| 200/205 [00:56<00:01,  3.79it/s]"
     ]
    },
    {
     "name": "stdout",
     "output_type": "stream",
     "text": [
      "tensor(0.0228, device='cuda:0', grad_fn=<NllLossBackward0>)\n"
     ]
    },
    {
     "name": "stderr",
     "output_type": "stream",
     "text": [
      "\r",
      " 98%|█████████▊| 201/205 [00:56<00:01,  3.82it/s]"
     ]
    },
    {
     "name": "stdout",
     "output_type": "stream",
     "text": [
      "tensor(0.0191, device='cuda:0', grad_fn=<NllLossBackward0>)\n"
     ]
    },
    {
     "name": "stderr",
     "output_type": "stream",
     "text": [
      "\r",
      " 99%|█████████▊| 202/205 [00:56<00:00,  3.89it/s]"
     ]
    },
    {
     "name": "stdout",
     "output_type": "stream",
     "text": [
      "tensor(0.0256, device='cuda:0', grad_fn=<NllLossBackward0>)\n"
     ]
    },
    {
     "name": "stderr",
     "output_type": "stream",
     "text": [
      "\r",
      " 99%|█████████▉| 203/205 [00:57<00:00,  3.69it/s]"
     ]
    },
    {
     "name": "stdout",
     "output_type": "stream",
     "text": [
      "tensor(0.0192, device='cuda:0', grad_fn=<NllLossBackward0>)\n"
     ]
    },
    {
     "name": "stderr",
     "output_type": "stream",
     "text": [
      "\r",
      "100%|█████████▉| 204/205 [00:57<00:00,  3.66it/s]"
     ]
    },
    {
     "name": "stdout",
     "output_type": "stream",
     "text": [
      "tensor(0.0317, device='cuda:0', grad_fn=<NllLossBackward0>)\n"
     ]
    },
    {
     "name": "stderr",
     "output_type": "stream",
     "text": [
      "100%|██████████| 205/205 [00:57<00:00,  3.55it/s]\n"
     ]
    },
    {
     "name": "stdout",
     "output_type": "stream",
     "text": [
      "tensor(0.0430, device='cuda:0', grad_fn=<NllLossBackward0>)\n",
      "1\n"
     ]
    },
    {
     "name": "stderr",
     "output_type": "stream",
     "text": [
      "  0%|          | 1/205 [00:00<00:56,  3.59it/s]"
     ]
    },
    {
     "name": "stdout",
     "output_type": "stream",
     "text": [
      "tensor(0.0155, device='cuda:0', grad_fn=<NllLossBackward0>)\n"
     ]
    },
    {
     "name": "stderr",
     "output_type": "stream",
     "text": [
      "\r",
      "  1%|          | 2/205 [00:00<01:08,  2.96it/s]"
     ]
    },
    {
     "name": "stdout",
     "output_type": "stream",
     "text": [
      "tensor(0.0382, device='cuda:0', grad_fn=<NllLossBackward0>)\n"
     ]
    },
    {
     "name": "stderr",
     "output_type": "stream",
     "text": [
      "\r",
      "  1%|▏         | 3/205 [00:00<01:04,  3.16it/s]"
     ]
    },
    {
     "name": "stdout",
     "output_type": "stream",
     "text": [
      "tensor(0.0136, device='cuda:0', grad_fn=<NllLossBackward0>)\n"
     ]
    },
    {
     "name": "stderr",
     "output_type": "stream",
     "text": [
      "\r",
      "  2%|▏         | 4/205 [00:01<00:59,  3.38it/s]"
     ]
    },
    {
     "name": "stdout",
     "output_type": "stream",
     "text": [
      "tensor(0.0256, device='cuda:0', grad_fn=<NllLossBackward0>)\n"
     ]
    },
    {
     "name": "stderr",
     "output_type": "stream",
     "text": [
      "\r",
      "  2%|▏         | 5/205 [00:01<00:57,  3.47it/s]"
     ]
    },
    {
     "name": "stdout",
     "output_type": "stream",
     "text": [
      "tensor(0.0258, device='cuda:0', grad_fn=<NllLossBackward0>)\n"
     ]
    },
    {
     "name": "stderr",
     "output_type": "stream",
     "text": [
      "\r",
      "  3%|▎         | 6/205 [00:01<00:59,  3.37it/s]"
     ]
    },
    {
     "name": "stdout",
     "output_type": "stream",
     "text": [
      "tensor(0.0263, device='cuda:0', grad_fn=<NllLossBackward0>)\n"
     ]
    },
    {
     "name": "stderr",
     "output_type": "stream",
     "text": [
      "\r",
      "  3%|▎         | 7/205 [00:02<00:58,  3.39it/s]"
     ]
    },
    {
     "name": "stdout",
     "output_type": "stream",
     "text": [
      "tensor(0.0254, device='cuda:0', grad_fn=<NllLossBackward0>)\n"
     ]
    },
    {
     "name": "stderr",
     "output_type": "stream",
     "text": [
      "\r",
      "  4%|▍         | 8/205 [00:02<01:01,  3.23it/s]"
     ]
    },
    {
     "name": "stdout",
     "output_type": "stream",
     "text": [
      "tensor(0.0261, device='cuda:0', grad_fn=<NllLossBackward0>)\n"
     ]
    },
    {
     "name": "stderr",
     "output_type": "stream",
     "text": [
      "\r",
      "  4%|▍         | 9/205 [00:02<01:01,  3.21it/s]"
     ]
    },
    {
     "name": "stdout",
     "output_type": "stream",
     "text": [
      "tensor(0.0243, device='cuda:0', grad_fn=<NllLossBackward0>)\n"
     ]
    },
    {
     "name": "stderr",
     "output_type": "stream",
     "text": [
      "\r",
      "  5%|▍         | 10/205 [00:03<01:01,  3.17it/s]"
     ]
    },
    {
     "name": "stdout",
     "output_type": "stream",
     "text": [
      "tensor(0.0246, device='cuda:0', grad_fn=<NllLossBackward0>)\n"
     ]
    },
    {
     "name": "stderr",
     "output_type": "stream",
     "text": [
      "\r",
      "  5%|▌         | 11/205 [00:03<00:59,  3.29it/s]"
     ]
    },
    {
     "name": "stdout",
     "output_type": "stream",
     "text": [
      "tensor(0.0163, device='cuda:0', grad_fn=<NllLossBackward0>)\n"
     ]
    },
    {
     "name": "stderr",
     "output_type": "stream",
     "text": [
      "\r",
      "  6%|▌         | 12/205 [00:03<00:55,  3.47it/s]"
     ]
    },
    {
     "name": "stdout",
     "output_type": "stream",
     "text": [
      "tensor(0.0067, device='cuda:0', grad_fn=<NllLossBackward0>)\n"
     ]
    },
    {
     "name": "stderr",
     "output_type": "stream",
     "text": [
      "\r",
      "  6%|▋         | 13/205 [00:03<00:54,  3.53it/s]"
     ]
    },
    {
     "name": "stdout",
     "output_type": "stream",
     "text": [
      "tensor(0.0081, device='cuda:0', grad_fn=<NllLossBackward0>)\n"
     ]
    },
    {
     "name": "stderr",
     "output_type": "stream",
     "text": [
      "\r",
      "  7%|▋         | 14/205 [00:04<00:52,  3.61it/s]"
     ]
    },
    {
     "name": "stdout",
     "output_type": "stream",
     "text": [
      "tensor(0.0061, device='cuda:0', grad_fn=<NllLossBackward0>)\n"
     ]
    },
    {
     "name": "stderr",
     "output_type": "stream",
     "text": [
      "\r",
      "  7%|▋         | 15/205 [00:04<00:53,  3.58it/s]"
     ]
    },
    {
     "name": "stdout",
     "output_type": "stream",
     "text": [
      "tensor(0.0279, device='cuda:0', grad_fn=<NllLossBackward0>)\n"
     ]
    },
    {
     "name": "stderr",
     "output_type": "stream",
     "text": [
      "\r",
      "  8%|▊         | 16/205 [00:04<00:56,  3.36it/s]"
     ]
    },
    {
     "name": "stdout",
     "output_type": "stream",
     "text": [
      "tensor(0.0256, device='cuda:0', grad_fn=<NllLossBackward0>)\n"
     ]
    },
    {
     "name": "stderr",
     "output_type": "stream",
     "text": [
      "\r",
      "  8%|▊         | 17/205 [00:05<00:54,  3.47it/s]"
     ]
    },
    {
     "name": "stdout",
     "output_type": "stream",
     "text": [
      "tensor(0.0323, device='cuda:0', grad_fn=<NllLossBackward0>)\n"
     ]
    },
    {
     "name": "stderr",
     "output_type": "stream",
     "text": [
      "\r",
      "  9%|▉         | 18/205 [00:05<00:51,  3.66it/s]"
     ]
    },
    {
     "name": "stdout",
     "output_type": "stream",
     "text": [
      "tensor(0.0435, device='cuda:0', grad_fn=<NllLossBackward0>)\n"
     ]
    },
    {
     "name": "stderr",
     "output_type": "stream",
     "text": [
      "\r",
      "  9%|▉         | 19/205 [00:05<00:50,  3.67it/s]"
     ]
    },
    {
     "name": "stdout",
     "output_type": "stream",
     "text": [
      "tensor(0.0209, device='cuda:0', grad_fn=<NllLossBackward0>)\n"
     ]
    },
    {
     "name": "stderr",
     "output_type": "stream",
     "text": [
      "\r",
      " 10%|▉         | 20/205 [00:05<00:49,  3.72it/s]"
     ]
    },
    {
     "name": "stdout",
     "output_type": "stream",
     "text": [
      "tensor(0.0262, device='cuda:0', grad_fn=<NllLossBackward0>)\n"
     ]
    },
    {
     "name": "stderr",
     "output_type": "stream",
     "text": [
      "\r",
      " 10%|█         | 21/205 [00:06<00:49,  3.74it/s]"
     ]
    },
    {
     "name": "stdout",
     "output_type": "stream",
     "text": [
      "tensor(0.0202, device='cuda:0', grad_fn=<NllLossBackward0>)\n"
     ]
    },
    {
     "name": "stderr",
     "output_type": "stream",
     "text": [
      "\r",
      " 11%|█         | 22/205 [00:06<00:51,  3.54it/s]"
     ]
    },
    {
     "name": "stdout",
     "output_type": "stream",
     "text": [
      "tensor(0.0314, device='cuda:0', grad_fn=<NllLossBackward0>)\n"
     ]
    },
    {
     "name": "stderr",
     "output_type": "stream",
     "text": [
      "\r",
      " 11%|█         | 23/205 [00:06<00:49,  3.66it/s]"
     ]
    },
    {
     "name": "stdout",
     "output_type": "stream",
     "text": [
      "tensor(0.0371, device='cuda:0', grad_fn=<NllLossBackward0>)\n"
     ]
    },
    {
     "name": "stderr",
     "output_type": "stream",
     "text": [
      "\r",
      " 12%|█▏        | 24/205 [00:06<00:48,  3.72it/s]"
     ]
    },
    {
     "name": "stdout",
     "output_type": "stream",
     "text": [
      "tensor(0.0279, device='cuda:0', grad_fn=<NllLossBackward0>)\n"
     ]
    },
    {
     "name": "stderr",
     "output_type": "stream",
     "text": [
      "\r",
      " 12%|█▏        | 25/205 [00:07<00:49,  3.65it/s]"
     ]
    },
    {
     "name": "stdout",
     "output_type": "stream",
     "text": [
      "tensor(0.0194, device='cuda:0', grad_fn=<NllLossBackward0>)\n"
     ]
    },
    {
     "name": "stderr",
     "output_type": "stream",
     "text": [
      "\r",
      " 13%|█▎        | 26/205 [00:07<00:49,  3.60it/s]"
     ]
    },
    {
     "name": "stdout",
     "output_type": "stream",
     "text": [
      "tensor(0.0210, device='cuda:0', grad_fn=<NllLossBackward0>)\n"
     ]
    },
    {
     "name": "stderr",
     "output_type": "stream",
     "text": [
      "\r",
      " 13%|█▎        | 27/205 [00:07<00:47,  3.72it/s]"
     ]
    },
    {
     "name": "stdout",
     "output_type": "stream",
     "text": [
      "tensor(0.0420, device='cuda:0', grad_fn=<NllLossBackward0>)\n"
     ]
    },
    {
     "name": "stderr",
     "output_type": "stream",
     "text": [
      "\r",
      " 14%|█▎        | 28/205 [00:07<00:48,  3.68it/s]"
     ]
    },
    {
     "name": "stdout",
     "output_type": "stream",
     "text": [
      "tensor(0.0274, device='cuda:0', grad_fn=<NllLossBackward0>)\n"
     ]
    },
    {
     "name": "stderr",
     "output_type": "stream",
     "text": [
      "\r",
      " 14%|█▍        | 29/205 [00:08<00:47,  3.72it/s]"
     ]
    },
    {
     "name": "stdout",
     "output_type": "stream",
     "text": [
      "tensor(0.0300, device='cuda:0', grad_fn=<NllLossBackward0>)\n"
     ]
    },
    {
     "name": "stderr",
     "output_type": "stream",
     "text": [
      "\r",
      " 15%|█▍        | 30/205 [00:08<00:47,  3.68it/s]"
     ]
    },
    {
     "name": "stdout",
     "output_type": "stream",
     "text": [
      "tensor(0.0182, device='cuda:0', grad_fn=<NllLossBackward0>)\n"
     ]
    },
    {
     "name": "stderr",
     "output_type": "stream",
     "text": [
      "\r",
      " 15%|█▌        | 31/205 [00:08<00:45,  3.80it/s]"
     ]
    },
    {
     "name": "stdout",
     "output_type": "stream",
     "text": [
      "tensor(0.0261, device='cuda:0', grad_fn=<NllLossBackward0>)\n"
     ]
    },
    {
     "name": "stderr",
     "output_type": "stream",
     "text": [
      "\r",
      " 16%|█▌        | 32/205 [00:09<00:47,  3.62it/s]"
     ]
    },
    {
     "name": "stdout",
     "output_type": "stream",
     "text": [
      "tensor(0.0259, device='cuda:0', grad_fn=<NllLossBackward0>)\n"
     ]
    },
    {
     "name": "stderr",
     "output_type": "stream",
     "text": [
      "\r",
      " 16%|█▌        | 33/205 [00:09<00:48,  3.55it/s]"
     ]
    },
    {
     "name": "stdout",
     "output_type": "stream",
     "text": [
      "tensor(0.0126, device='cuda:0', grad_fn=<NllLossBackward0>)\n"
     ]
    },
    {
     "name": "stderr",
     "output_type": "stream",
     "text": [
      "\r",
      " 17%|█▋        | 34/205 [00:09<00:47,  3.57it/s]"
     ]
    },
    {
     "name": "stdout",
     "output_type": "stream",
     "text": [
      "tensor(0.0217, device='cuda:0', grad_fn=<NllLossBackward0>)\n"
     ]
    },
    {
     "name": "stderr",
     "output_type": "stream",
     "text": [
      "\r",
      " 17%|█▋        | 35/205 [00:09<00:49,  3.46it/s]"
     ]
    },
    {
     "name": "stdout",
     "output_type": "stream",
     "text": [
      "tensor(0.0206, device='cuda:0', grad_fn=<NllLossBackward0>)\n"
     ]
    },
    {
     "name": "stderr",
     "output_type": "stream",
     "text": [
      "\r",
      " 18%|█▊        | 36/205 [00:10<00:49,  3.44it/s]"
     ]
    },
    {
     "name": "stdout",
     "output_type": "stream",
     "text": [
      "tensor(0.0189, device='cuda:0', grad_fn=<NllLossBackward0>)\n"
     ]
    },
    {
     "name": "stderr",
     "output_type": "stream",
     "text": [
      "\r",
      " 18%|█▊        | 37/205 [00:10<00:46,  3.59it/s]"
     ]
    },
    {
     "name": "stdout",
     "output_type": "stream",
     "text": [
      "tensor(0.0420, device='cuda:0', grad_fn=<NllLossBackward0>)\n"
     ]
    },
    {
     "name": "stderr",
     "output_type": "stream",
     "text": [
      "\r",
      " 19%|█▊        | 38/205 [00:10<00:44,  3.74it/s]"
     ]
    },
    {
     "name": "stdout",
     "output_type": "stream",
     "text": [
      "tensor(0.0368, device='cuda:0', grad_fn=<NllLossBackward0>)\n"
     ]
    },
    {
     "name": "stderr",
     "output_type": "stream",
     "text": [
      "\r",
      " 19%|█▉        | 39/205 [00:11<00:45,  3.67it/s]"
     ]
    },
    {
     "name": "stdout",
     "output_type": "stream",
     "text": [
      "tensor(0.0196, device='cuda:0', grad_fn=<NllLossBackward0>)\n"
     ]
    },
    {
     "name": "stderr",
     "output_type": "stream",
     "text": [
      "\r",
      " 20%|█▉        | 40/205 [00:11<00:45,  3.63it/s]"
     ]
    },
    {
     "name": "stdout",
     "output_type": "stream",
     "text": [
      "tensor(0.0284, device='cuda:0', grad_fn=<NllLossBackward0>)\n"
     ]
    },
    {
     "name": "stderr",
     "output_type": "stream",
     "text": [
      "\r",
      " 20%|██        | 41/205 [00:11<00:45,  3.62it/s]"
     ]
    },
    {
     "name": "stdout",
     "output_type": "stream",
     "text": [
      "tensor(0.0224, device='cuda:0', grad_fn=<NllLossBackward0>)\n"
     ]
    },
    {
     "name": "stderr",
     "output_type": "stream",
     "text": [
      "\r",
      " 20%|██        | 42/205 [00:11<00:43,  3.78it/s]"
     ]
    },
    {
     "name": "stdout",
     "output_type": "stream",
     "text": [
      "tensor(0.0362, device='cuda:0', grad_fn=<NllLossBackward0>)\n"
     ]
    },
    {
     "name": "stderr",
     "output_type": "stream",
     "text": [
      "\r",
      " 21%|██        | 43/205 [00:12<00:43,  3.73it/s]"
     ]
    },
    {
     "name": "stdout",
     "output_type": "stream",
     "text": [
      "tensor(0.0333, device='cuda:0', grad_fn=<NllLossBackward0>)\n"
     ]
    },
    {
     "name": "stderr",
     "output_type": "stream",
     "text": [
      "\r",
      " 21%|██▏       | 44/205 [00:12<00:43,  3.74it/s]"
     ]
    },
    {
     "name": "stdout",
     "output_type": "stream",
     "text": [
      "tensor(0.0229, device='cuda:0', grad_fn=<NllLossBackward0>)\n"
     ]
    },
    {
     "name": "stderr",
     "output_type": "stream",
     "text": [
      "\r",
      " 22%|██▏       | 45/205 [00:12<00:43,  3.69it/s]"
     ]
    },
    {
     "name": "stdout",
     "output_type": "stream",
     "text": [
      "tensor(0.0188, device='cuda:0', grad_fn=<NllLossBackward0>)\n"
     ]
    },
    {
     "name": "stderr",
     "output_type": "stream",
     "text": [
      "\r",
      " 22%|██▏       | 46/205 [00:12<00:43,  3.66it/s]"
     ]
    },
    {
     "name": "stdout",
     "output_type": "stream",
     "text": [
      "tensor(0.0199, device='cuda:0', grad_fn=<NllLossBackward0>)\n"
     ]
    },
    {
     "name": "stderr",
     "output_type": "stream",
     "text": [
      "\r",
      " 23%|██▎       | 47/205 [00:13<00:42,  3.70it/s]"
     ]
    },
    {
     "name": "stdout",
     "output_type": "stream",
     "text": [
      "tensor(0.0348, device='cuda:0', grad_fn=<NllLossBackward0>)\n"
     ]
    },
    {
     "name": "stderr",
     "output_type": "stream",
     "text": [
      "\r",
      " 23%|██▎       | 48/205 [00:13<00:41,  3.78it/s]"
     ]
    },
    {
     "name": "stdout",
     "output_type": "stream",
     "text": [
      "tensor(0.0445, device='cuda:0', grad_fn=<NllLossBackward0>)\n"
     ]
    },
    {
     "name": "stderr",
     "output_type": "stream",
     "text": [
      "\r",
      " 24%|██▍       | 49/205 [00:13<00:40,  3.85it/s]"
     ]
    },
    {
     "name": "stdout",
     "output_type": "stream",
     "text": [
      "tensor(0.0081, device='cuda:0', grad_fn=<NllLossBackward0>)\n"
     ]
    },
    {
     "name": "stderr",
     "output_type": "stream",
     "text": [
      "\r",
      " 24%|██▍       | 50/205 [00:13<00:40,  3.85it/s]"
     ]
    },
    {
     "name": "stdout",
     "output_type": "stream",
     "text": [
      "tensor(0.0196, device='cuda:0', grad_fn=<NllLossBackward0>)\n"
     ]
    },
    {
     "name": "stderr",
     "output_type": "stream",
     "text": [
      "\r",
      " 25%|██▍       | 51/205 [00:14<00:41,  3.73it/s]"
     ]
    },
    {
     "name": "stdout",
     "output_type": "stream",
     "text": [
      "tensor(0.0181, device='cuda:0', grad_fn=<NllLossBackward0>)\n"
     ]
    },
    {
     "name": "stderr",
     "output_type": "stream",
     "text": [
      "\r",
      " 25%|██▌       | 52/205 [00:14<00:43,  3.54it/s]"
     ]
    },
    {
     "name": "stdout",
     "output_type": "stream",
     "text": [
      "tensor(0.0265, device='cuda:0', grad_fn=<NllLossBackward0>)\n"
     ]
    },
    {
     "name": "stderr",
     "output_type": "stream",
     "text": [
      "\r",
      " 26%|██▌       | 53/205 [00:14<00:41,  3.65it/s]"
     ]
    },
    {
     "name": "stdout",
     "output_type": "stream",
     "text": [
      "tensor(0.0303, device='cuda:0', grad_fn=<NllLossBackward0>)\n"
     ]
    },
    {
     "name": "stderr",
     "output_type": "stream",
     "text": [
      "\r",
      " 26%|██▋       | 54/205 [00:15<00:41,  3.64it/s]"
     ]
    },
    {
     "name": "stdout",
     "output_type": "stream",
     "text": [
      "tensor(0.0282, device='cuda:0', grad_fn=<NllLossBackward0>)\n"
     ]
    },
    {
     "name": "stderr",
     "output_type": "stream",
     "text": [
      "\r",
      " 27%|██▋       | 55/205 [00:15<00:41,  3.62it/s]"
     ]
    },
    {
     "name": "stdout",
     "output_type": "stream",
     "text": [
      "tensor(0.0174, device='cuda:0', grad_fn=<NllLossBackward0>)\n"
     ]
    },
    {
     "name": "stderr",
     "output_type": "stream",
     "text": [
      "\r",
      " 27%|██▋       | 56/205 [00:15<00:40,  3.69it/s]"
     ]
    },
    {
     "name": "stdout",
     "output_type": "stream",
     "text": [
      "tensor(0.0139, device='cuda:0', grad_fn=<NllLossBackward0>)\n"
     ]
    },
    {
     "name": "stderr",
     "output_type": "stream",
     "text": [
      "\r",
      " 28%|██▊       | 57/205 [00:15<00:41,  3.53it/s]"
     ]
    },
    {
     "name": "stdout",
     "output_type": "stream",
     "text": [
      "tensor(0.0137, device='cuda:0', grad_fn=<NllLossBackward0>)\n"
     ]
    },
    {
     "name": "stderr",
     "output_type": "stream",
     "text": [
      "\r",
      " 28%|██▊       | 58/205 [00:16<00:41,  3.55it/s]"
     ]
    },
    {
     "name": "stdout",
     "output_type": "stream",
     "text": [
      "tensor(0.0241, device='cuda:0', grad_fn=<NllLossBackward0>)\n"
     ]
    },
    {
     "name": "stderr",
     "output_type": "stream",
     "text": [
      "\r",
      " 29%|██▉       | 59/205 [00:16<00:39,  3.68it/s]"
     ]
    },
    {
     "name": "stdout",
     "output_type": "stream",
     "text": [
      "tensor(0.0048, device='cuda:0', grad_fn=<NllLossBackward0>)\n"
     ]
    },
    {
     "name": "stderr",
     "output_type": "stream",
     "text": [
      "\r",
      " 29%|██▉       | 60/205 [00:16<00:40,  3.62it/s]"
     ]
    },
    {
     "name": "stdout",
     "output_type": "stream",
     "text": [
      "tensor(0.0289, device='cuda:0', grad_fn=<NllLossBackward0>)\n"
     ]
    },
    {
     "name": "stderr",
     "output_type": "stream",
     "text": [
      "\r",
      " 30%|██▉       | 61/205 [00:17<00:39,  3.63it/s]"
     ]
    },
    {
     "name": "stdout",
     "output_type": "stream",
     "text": [
      "tensor(0.0205, device='cuda:0', grad_fn=<NllLossBackward0>)\n"
     ]
    },
    {
     "name": "stderr",
     "output_type": "stream",
     "text": [
      "\r",
      " 30%|███       | 62/205 [00:17<00:37,  3.78it/s]"
     ]
    },
    {
     "name": "stdout",
     "output_type": "stream",
     "text": [
      "tensor(0.0261, device='cuda:0', grad_fn=<NllLossBackward0>)\n"
     ]
    },
    {
     "name": "stderr",
     "output_type": "stream",
     "text": [
      "\r",
      " 31%|███       | 63/205 [00:17<00:36,  3.87it/s]"
     ]
    },
    {
     "name": "stdout",
     "output_type": "stream",
     "text": [
      "tensor(0.0193, device='cuda:0', grad_fn=<NllLossBackward0>)\n"
     ]
    },
    {
     "name": "stderr",
     "output_type": "stream",
     "text": [
      "\r",
      " 31%|███       | 64/205 [00:17<00:37,  3.81it/s]"
     ]
    },
    {
     "name": "stdout",
     "output_type": "stream",
     "text": [
      "tensor(0.0298, device='cuda:0', grad_fn=<NllLossBackward0>)\n"
     ]
    },
    {
     "name": "stderr",
     "output_type": "stream",
     "text": [
      "\r",
      " 32%|███▏      | 65/205 [00:18<00:35,  3.91it/s]"
     ]
    },
    {
     "name": "stdout",
     "output_type": "stream",
     "text": [
      "tensor(0.0219, device='cuda:0', grad_fn=<NllLossBackward0>)\n"
     ]
    },
    {
     "name": "stderr",
     "output_type": "stream",
     "text": [
      "\r",
      " 32%|███▏      | 66/205 [00:18<00:36,  3.84it/s]"
     ]
    },
    {
     "name": "stdout",
     "output_type": "stream",
     "text": [
      "tensor(0.0112, device='cuda:0', grad_fn=<NllLossBackward0>)\n"
     ]
    },
    {
     "name": "stderr",
     "output_type": "stream",
     "text": [
      "\r",
      " 33%|███▎      | 67/205 [00:18<00:36,  3.73it/s]"
     ]
    },
    {
     "name": "stdout",
     "output_type": "stream",
     "text": [
      "tensor(0.0197, device='cuda:0', grad_fn=<NllLossBackward0>)\n"
     ]
    },
    {
     "name": "stderr",
     "output_type": "stream",
     "text": [
      "\r",
      " 33%|███▎      | 68/205 [00:18<00:36,  3.80it/s]"
     ]
    },
    {
     "name": "stdout",
     "output_type": "stream",
     "text": [
      "tensor(0.0268, device='cuda:0', grad_fn=<NllLossBackward0>)\n"
     ]
    },
    {
     "name": "stderr",
     "output_type": "stream",
     "text": [
      "\r",
      " 34%|███▎      | 69/205 [00:19<00:36,  3.78it/s]"
     ]
    },
    {
     "name": "stdout",
     "output_type": "stream",
     "text": [
      "tensor(0.0281, device='cuda:0', grad_fn=<NllLossBackward0>)\n"
     ]
    },
    {
     "name": "stderr",
     "output_type": "stream",
     "text": [
      "\r",
      " 34%|███▍      | 70/205 [00:19<00:35,  3.85it/s]"
     ]
    },
    {
     "name": "stdout",
     "output_type": "stream",
     "text": [
      "tensor(0.0104, device='cuda:0', grad_fn=<NllLossBackward0>)\n"
     ]
    },
    {
     "name": "stderr",
     "output_type": "stream",
     "text": [
      "\r",
      " 35%|███▍      | 71/205 [00:19<00:35,  3.77it/s]"
     ]
    },
    {
     "name": "stdout",
     "output_type": "stream",
     "text": [
      "tensor(0.0284, device='cuda:0', grad_fn=<NllLossBackward0>)\n"
     ]
    },
    {
     "name": "stderr",
     "output_type": "stream",
     "text": [
      "\r",
      " 35%|███▌      | 72/205 [00:19<00:34,  3.83it/s]"
     ]
    },
    {
     "name": "stdout",
     "output_type": "stream",
     "text": [
      "tensor(0.0320, device='cuda:0', grad_fn=<NllLossBackward0>)\n"
     ]
    },
    {
     "name": "stderr",
     "output_type": "stream",
     "text": [
      "\r",
      " 36%|███▌      | 73/205 [00:20<00:35,  3.75it/s]"
     ]
    },
    {
     "name": "stdout",
     "output_type": "stream",
     "text": [
      "tensor(0.0194, device='cuda:0', grad_fn=<NllLossBackward0>)\n"
     ]
    },
    {
     "name": "stderr",
     "output_type": "stream",
     "text": [
      "\r",
      " 36%|███▌      | 74/205 [00:20<00:39,  3.33it/s]"
     ]
    },
    {
     "name": "stdout",
     "output_type": "stream",
     "text": [
      "tensor(0.0282, device='cuda:0', grad_fn=<NllLossBackward0>)\n"
     ]
    },
    {
     "name": "stderr",
     "output_type": "stream",
     "text": [
      "\r",
      " 37%|███▋      | 75/205 [00:20<00:37,  3.48it/s]"
     ]
    },
    {
     "name": "stdout",
     "output_type": "stream",
     "text": [
      "tensor(0.0121, device='cuda:0', grad_fn=<NllLossBackward0>)\n"
     ]
    },
    {
     "name": "stderr",
     "output_type": "stream",
     "text": [
      "\r",
      " 37%|███▋      | 76/205 [00:21<00:36,  3.57it/s]"
     ]
    },
    {
     "name": "stdout",
     "output_type": "stream",
     "text": [
      "tensor(0.0237, device='cuda:0', grad_fn=<NllLossBackward0>)\n"
     ]
    },
    {
     "name": "stderr",
     "output_type": "stream",
     "text": [
      "\r",
      " 38%|███▊      | 77/205 [00:21<00:35,  3.64it/s]"
     ]
    },
    {
     "name": "stdout",
     "output_type": "stream",
     "text": [
      "tensor(0.0274, device='cuda:0', grad_fn=<NllLossBackward0>)\n"
     ]
    },
    {
     "name": "stderr",
     "output_type": "stream",
     "text": [
      "\r",
      " 38%|███▊      | 78/205 [00:21<00:35,  3.63it/s]"
     ]
    },
    {
     "name": "stdout",
     "output_type": "stream",
     "text": [
      "tensor(0.0171, device='cuda:0', grad_fn=<NllLossBackward0>)\n"
     ]
    },
    {
     "name": "stderr",
     "output_type": "stream",
     "text": [
      "\r",
      " 39%|███▊      | 79/205 [00:21<00:35,  3.59it/s]"
     ]
    },
    {
     "name": "stdout",
     "output_type": "stream",
     "text": [
      "tensor(0.0271, device='cuda:0', grad_fn=<NllLossBackward0>)\n"
     ]
    },
    {
     "name": "stderr",
     "output_type": "stream",
     "text": [
      "\r",
      " 39%|███▉      | 80/205 [00:22<00:34,  3.61it/s]"
     ]
    },
    {
     "name": "stdout",
     "output_type": "stream",
     "text": [
      "tensor(0.0161, device='cuda:0', grad_fn=<NllLossBackward0>)\n"
     ]
    },
    {
     "name": "stderr",
     "output_type": "stream",
     "text": [
      "\r",
      " 40%|███▉      | 81/205 [00:22<00:33,  3.67it/s]"
     ]
    },
    {
     "name": "stdout",
     "output_type": "stream",
     "text": [
      "tensor(0.0056, device='cuda:0', grad_fn=<NllLossBackward0>)\n"
     ]
    },
    {
     "name": "stderr",
     "output_type": "stream",
     "text": [
      "\r",
      " 40%|████      | 82/205 [00:22<00:33,  3.66it/s]"
     ]
    },
    {
     "name": "stdout",
     "output_type": "stream",
     "text": [
      "tensor(0.0180, device='cuda:0', grad_fn=<NllLossBackward0>)\n"
     ]
    },
    {
     "name": "stderr",
     "output_type": "stream",
     "text": [
      "\r",
      " 40%|████      | 83/205 [00:22<00:33,  3.69it/s]"
     ]
    },
    {
     "name": "stdout",
     "output_type": "stream",
     "text": [
      "tensor(0.0146, device='cuda:0', grad_fn=<NllLossBackward0>)\n"
     ]
    },
    {
     "name": "stderr",
     "output_type": "stream",
     "text": [
      "\r",
      " 41%|████      | 84/205 [00:23<00:34,  3.51it/s]"
     ]
    },
    {
     "name": "stdout",
     "output_type": "stream",
     "text": [
      "tensor(0.0235, device='cuda:0', grad_fn=<NllLossBackward0>)\n"
     ]
    },
    {
     "name": "stderr",
     "output_type": "stream",
     "text": [
      "\r",
      " 41%|████▏     | 85/205 [00:23<00:34,  3.48it/s]"
     ]
    },
    {
     "name": "stdout",
     "output_type": "stream",
     "text": [
      "tensor(0.0281, device='cuda:0', grad_fn=<NllLossBackward0>)\n"
     ]
    },
    {
     "name": "stderr",
     "output_type": "stream",
     "text": [
      "\r",
      " 42%|████▏     | 86/205 [00:23<00:33,  3.50it/s]"
     ]
    },
    {
     "name": "stdout",
     "output_type": "stream",
     "text": [
      "tensor(0.0198, device='cuda:0', grad_fn=<NllLossBackward0>)\n"
     ]
    },
    {
     "name": "stderr",
     "output_type": "stream",
     "text": [
      "\r",
      " 42%|████▏     | 87/205 [00:24<00:33,  3.47it/s]"
     ]
    },
    {
     "name": "stdout",
     "output_type": "stream",
     "text": [
      "tensor(0.0282, device='cuda:0', grad_fn=<NllLossBackward0>)\n"
     ]
    },
    {
     "name": "stderr",
     "output_type": "stream",
     "text": [
      "\r",
      " 43%|████▎     | 88/205 [00:24<00:32,  3.60it/s]"
     ]
    },
    {
     "name": "stdout",
     "output_type": "stream",
     "text": [
      "tensor(0.0274, device='cuda:0', grad_fn=<NllLossBackward0>)\n"
     ]
    },
    {
     "name": "stderr",
     "output_type": "stream",
     "text": [
      "\r",
      " 43%|████▎     | 89/205 [00:24<00:32,  3.57it/s]"
     ]
    },
    {
     "name": "stdout",
     "output_type": "stream",
     "text": [
      "tensor(0.0222, device='cuda:0', grad_fn=<NllLossBackward0>)\n"
     ]
    },
    {
     "name": "stderr",
     "output_type": "stream",
     "text": [
      "\r",
      " 44%|████▍     | 90/205 [00:24<00:31,  3.64it/s]"
     ]
    },
    {
     "name": "stdout",
     "output_type": "stream",
     "text": [
      "tensor(0.0292, device='cuda:0', grad_fn=<NllLossBackward0>)\n"
     ]
    },
    {
     "name": "stderr",
     "output_type": "stream",
     "text": [
      "\r",
      " 44%|████▍     | 91/205 [00:25<00:31,  3.62it/s]"
     ]
    },
    {
     "name": "stdout",
     "output_type": "stream",
     "text": [
      "tensor(0.0256, device='cuda:0', grad_fn=<NllLossBackward0>)\n"
     ]
    },
    {
     "name": "stderr",
     "output_type": "stream",
     "text": [
      "\r",
      " 45%|████▍     | 92/205 [00:25<00:32,  3.46it/s]"
     ]
    },
    {
     "name": "stdout",
     "output_type": "stream",
     "text": [
      "tensor(0.0257, device='cuda:0', grad_fn=<NllLossBackward0>)\n"
     ]
    },
    {
     "name": "stderr",
     "output_type": "stream",
     "text": [
      "\r",
      " 45%|████▌     | 93/205 [00:25<00:32,  3.49it/s]"
     ]
    },
    {
     "name": "stdout",
     "output_type": "stream",
     "text": [
      "tensor(0.0250, device='cuda:0', grad_fn=<NllLossBackward0>)\n",
      "tensor(0.0376, device='cuda:0', grad_fn=<NllLossBackward0>)\n"
     ]
    },
    {
     "name": "stderr",
     "output_type": "stream",
     "text": [
      " 46%|████▋     | 95/205 [00:26<00:35,  3.13it/s]"
     ]
    },
    {
     "name": "stdout",
     "output_type": "stream",
     "text": [
      "tensor(0.0186, device='cuda:0', grad_fn=<NllLossBackward0>)\n"
     ]
    },
    {
     "name": "stderr",
     "output_type": "stream",
     "text": [
      "\r",
      " 47%|████▋     | 96/205 [00:26<00:33,  3.23it/s]"
     ]
    },
    {
     "name": "stdout",
     "output_type": "stream",
     "text": [
      "tensor(0.0303, device='cuda:0', grad_fn=<NllLossBackward0>)\n"
     ]
    },
    {
     "name": "stderr",
     "output_type": "stream",
     "text": [
      "\r",
      " 47%|████▋     | 97/205 [00:27<00:33,  3.18it/s]"
     ]
    },
    {
     "name": "stdout",
     "output_type": "stream",
     "text": [
      "tensor(0.0209, device='cuda:0', grad_fn=<NllLossBackward0>)\n"
     ]
    },
    {
     "name": "stderr",
     "output_type": "stream",
     "text": [
      "\r",
      " 48%|████▊     | 98/205 [00:27<00:34,  3.13it/s]"
     ]
    },
    {
     "name": "stdout",
     "output_type": "stream",
     "text": [
      "tensor(0.0548, device='cuda:0', grad_fn=<NllLossBackward0>)\n"
     ]
    },
    {
     "name": "stderr",
     "output_type": "stream",
     "text": [
      "\r",
      " 48%|████▊     | 99/205 [00:27<00:32,  3.24it/s]"
     ]
    },
    {
     "name": "stdout",
     "output_type": "stream",
     "text": [
      "tensor(0.0120, device='cuda:0', grad_fn=<NllLossBackward0>)\n"
     ]
    },
    {
     "name": "stderr",
     "output_type": "stream",
     "text": [
      "\r",
      " 49%|████▉     | 100/205 [00:28<00:31,  3.34it/s]"
     ]
    },
    {
     "name": "stdout",
     "output_type": "stream",
     "text": [
      "tensor(0.0212, device='cuda:0', grad_fn=<NllLossBackward0>)\n"
     ]
    },
    {
     "name": "stderr",
     "output_type": "stream",
     "text": [
      "\r",
      " 49%|████▉     | 101/205 [00:28<00:32,  3.22it/s]"
     ]
    },
    {
     "name": "stdout",
     "output_type": "stream",
     "text": [
      "tensor(0.0378, device='cuda:0', grad_fn=<NllLossBackward0>)\n"
     ]
    },
    {
     "name": "stderr",
     "output_type": "stream",
     "text": [
      "\r",
      " 50%|████▉     | 102/205 [00:28<00:30,  3.40it/s]"
     ]
    },
    {
     "name": "stdout",
     "output_type": "stream",
     "text": [
      "tensor(0.0273, device='cuda:0', grad_fn=<NllLossBackward0>)\n"
     ]
    },
    {
     "name": "stderr",
     "output_type": "stream",
     "text": [
      "\r",
      " 50%|█████     | 103/205 [00:28<00:29,  3.43it/s]"
     ]
    },
    {
     "name": "stdout",
     "output_type": "stream",
     "text": [
      "tensor(0.0258, device='cuda:0', grad_fn=<NllLossBackward0>)\n"
     ]
    },
    {
     "name": "stderr",
     "output_type": "stream",
     "text": [
      "\r",
      " 51%|█████     | 104/205 [00:29<00:28,  3.58it/s]"
     ]
    },
    {
     "name": "stdout",
     "output_type": "stream",
     "text": [
      "tensor(0.0207, device='cuda:0', grad_fn=<NllLossBackward0>)\n"
     ]
    },
    {
     "name": "stderr",
     "output_type": "stream",
     "text": [
      "\r",
      " 51%|█████     | 105/205 [00:29<00:26,  3.74it/s]"
     ]
    },
    {
     "name": "stdout",
     "output_type": "stream",
     "text": [
      "tensor(0.0106, device='cuda:0', grad_fn=<NllLossBackward0>)\n"
     ]
    },
    {
     "name": "stderr",
     "output_type": "stream",
     "text": [
      "\r",
      " 52%|█████▏    | 106/205 [00:29<00:26,  3.70it/s]"
     ]
    },
    {
     "name": "stdout",
     "output_type": "stream",
     "text": [
      "tensor(0.0208, device='cuda:0', grad_fn=<NllLossBackward0>)\n"
     ]
    },
    {
     "name": "stderr",
     "output_type": "stream",
     "text": [
      "\r",
      " 52%|█████▏    | 107/205 [00:29<00:25,  3.84it/s]"
     ]
    },
    {
     "name": "stdout",
     "output_type": "stream",
     "text": [
      "tensor(0.0486, device='cuda:0', grad_fn=<NllLossBackward0>)\n"
     ]
    },
    {
     "name": "stderr",
     "output_type": "stream",
     "text": [
      "\r",
      " 53%|█████▎    | 108/205 [00:30<00:26,  3.64it/s]"
     ]
    },
    {
     "name": "stdout",
     "output_type": "stream",
     "text": [
      "tensor(0.0159, device='cuda:0', grad_fn=<NllLossBackward0>)\n"
     ]
    },
    {
     "name": "stderr",
     "output_type": "stream",
     "text": [
      "\r",
      " 53%|█████▎    | 109/205 [00:30<00:28,  3.42it/s]"
     ]
    },
    {
     "name": "stdout",
     "output_type": "stream",
     "text": [
      "tensor(0.0193, device='cuda:0', grad_fn=<NllLossBackward0>)\n"
     ]
    },
    {
     "name": "stderr",
     "output_type": "stream",
     "text": [
      "\r",
      " 54%|█████▎    | 110/205 [00:30<00:27,  3.46it/s]"
     ]
    },
    {
     "name": "stdout",
     "output_type": "stream",
     "text": [
      "tensor(0.0182, device='cuda:0', grad_fn=<NllLossBackward0>)\n"
     ]
    },
    {
     "name": "stderr",
     "output_type": "stream",
     "text": [
      "\r",
      " 54%|█████▍    | 111/205 [00:31<00:26,  3.50it/s]"
     ]
    },
    {
     "name": "stdout",
     "output_type": "stream",
     "text": [
      "tensor(0.0219, device='cuda:0', grad_fn=<NllLossBackward0>)\n"
     ]
    },
    {
     "name": "stderr",
     "output_type": "stream",
     "text": [
      "\r",
      " 55%|█████▍    | 112/205 [00:31<00:27,  3.40it/s]"
     ]
    },
    {
     "name": "stdout",
     "output_type": "stream",
     "text": [
      "tensor(0.0245, device='cuda:0', grad_fn=<NllLossBackward0>)\n"
     ]
    },
    {
     "name": "stderr",
     "output_type": "stream",
     "text": [
      "\r",
      " 55%|█████▌    | 113/205 [00:31<00:26,  3.43it/s]"
     ]
    },
    {
     "name": "stdout",
     "output_type": "stream",
     "text": [
      "tensor(0.0349, device='cuda:0', grad_fn=<NllLossBackward0>)\n"
     ]
    },
    {
     "name": "stderr",
     "output_type": "stream",
     "text": [
      "\r",
      " 56%|█████▌    | 114/205 [00:32<00:28,  3.14it/s]"
     ]
    },
    {
     "name": "stdout",
     "output_type": "stream",
     "text": [
      "tensor(0.0408, device='cuda:0', grad_fn=<NllLossBackward0>)\n"
     ]
    },
    {
     "name": "stderr",
     "output_type": "stream",
     "text": [
      "\r",
      " 56%|█████▌    | 115/205 [00:32<00:26,  3.36it/s]"
     ]
    },
    {
     "name": "stdout",
     "output_type": "stream",
     "text": [
      "tensor(0.0623, device='cuda:0', grad_fn=<NllLossBackward0>)\n"
     ]
    },
    {
     "name": "stderr",
     "output_type": "stream",
     "text": [
      "\r",
      " 57%|█████▋    | 116/205 [00:32<00:25,  3.44it/s]"
     ]
    },
    {
     "name": "stdout",
     "output_type": "stream",
     "text": [
      "tensor(0.0274, device='cuda:0', grad_fn=<NllLossBackward0>)\n"
     ]
    },
    {
     "name": "stderr",
     "output_type": "stream",
     "text": [
      "\r",
      " 57%|█████▋    | 117/205 [00:32<00:24,  3.54it/s]"
     ]
    },
    {
     "name": "stdout",
     "output_type": "stream",
     "text": [
      "tensor(0.0231, device='cuda:0', grad_fn=<NllLossBackward0>)\n"
     ]
    },
    {
     "name": "stderr",
     "output_type": "stream",
     "text": [
      "\r",
      " 58%|█████▊    | 118/205 [00:33<00:27,  3.20it/s]"
     ]
    },
    {
     "name": "stdout",
     "output_type": "stream",
     "text": [
      "tensor(0.0275, device='cuda:0', grad_fn=<NllLossBackward0>)\n"
     ]
    },
    {
     "name": "stderr",
     "output_type": "stream",
     "text": [
      "\r",
      " 58%|█████▊    | 119/205 [00:33<00:26,  3.23it/s]"
     ]
    },
    {
     "name": "stdout",
     "output_type": "stream",
     "text": [
      "tensor(0.0233, device='cuda:0', grad_fn=<NllLossBackward0>)\n"
     ]
    },
    {
     "name": "stderr",
     "output_type": "stream",
     "text": [
      "\r",
      " 59%|█████▊    | 120/205 [00:33<00:26,  3.23it/s]"
     ]
    },
    {
     "name": "stdout",
     "output_type": "stream",
     "text": [
      "tensor(0.0221, device='cuda:0', grad_fn=<NllLossBackward0>)\n"
     ]
    },
    {
     "name": "stderr",
     "output_type": "stream",
     "text": [
      "\r",
      " 59%|█████▉    | 121/205 [00:34<00:27,  3.05it/s]"
     ]
    },
    {
     "name": "stdout",
     "output_type": "stream",
     "text": [
      "tensor(0.0291, device='cuda:0', grad_fn=<NllLossBackward0>)\n"
     ]
    },
    {
     "name": "stderr",
     "output_type": "stream",
     "text": [
      "\r",
      " 60%|█████▉    | 122/205 [00:34<00:26,  3.18it/s]"
     ]
    },
    {
     "name": "stdout",
     "output_type": "stream",
     "text": [
      "tensor(0.0132, device='cuda:0', grad_fn=<NllLossBackward0>)\n"
     ]
    },
    {
     "name": "stderr",
     "output_type": "stream",
     "text": [
      "\r",
      " 60%|██████    | 123/205 [00:34<00:24,  3.35it/s]"
     ]
    },
    {
     "name": "stdout",
     "output_type": "stream",
     "text": [
      "tensor(0.0278, device='cuda:0', grad_fn=<NllLossBackward0>)\n"
     ]
    },
    {
     "name": "stderr",
     "output_type": "stream",
     "text": [
      "\r",
      " 60%|██████    | 124/205 [00:35<00:23,  3.47it/s]"
     ]
    },
    {
     "name": "stdout",
     "output_type": "stream",
     "text": [
      "tensor(0.0146, device='cuda:0', grad_fn=<NllLossBackward0>)\n"
     ]
    },
    {
     "name": "stderr",
     "output_type": "stream",
     "text": [
      "\r",
      " 61%|██████    | 125/205 [00:35<00:24,  3.24it/s]"
     ]
    },
    {
     "name": "stdout",
     "output_type": "stream",
     "text": [
      "tensor(0.0227, device='cuda:0', grad_fn=<NllLossBackward0>)\n"
     ]
    },
    {
     "name": "stderr",
     "output_type": "stream",
     "text": [
      "\r",
      " 61%|██████▏   | 126/205 [00:35<00:23,  3.32it/s]"
     ]
    },
    {
     "name": "stdout",
     "output_type": "stream",
     "text": [
      "tensor(0.0205, device='cuda:0', grad_fn=<NllLossBackward0>)\n"
     ]
    },
    {
     "name": "stderr",
     "output_type": "stream",
     "text": [
      "\r",
      " 62%|██████▏   | 127/205 [00:35<00:22,  3.49it/s]"
     ]
    },
    {
     "name": "stdout",
     "output_type": "stream",
     "text": [
      "tensor(0.0054, device='cuda:0', grad_fn=<NllLossBackward0>)\n"
     ]
    },
    {
     "name": "stderr",
     "output_type": "stream",
     "text": [
      "\r",
      " 62%|██████▏   | 128/205 [00:36<00:21,  3.58it/s]"
     ]
    },
    {
     "name": "stdout",
     "output_type": "stream",
     "text": [
      "tensor(0.0160, device='cuda:0', grad_fn=<NllLossBackward0>)\n"
     ]
    },
    {
     "name": "stderr",
     "output_type": "stream",
     "text": [
      "\r",
      " 63%|██████▎   | 129/205 [00:36<00:20,  3.65it/s]"
     ]
    },
    {
     "name": "stdout",
     "output_type": "stream",
     "text": [
      "tensor(0.0133, device='cuda:0', grad_fn=<NllLossBackward0>)\n"
     ]
    },
    {
     "name": "stderr",
     "output_type": "stream",
     "text": [
      "\r",
      " 63%|██████▎   | 130/205 [00:36<00:20,  3.69it/s]"
     ]
    },
    {
     "name": "stdout",
     "output_type": "stream",
     "text": [
      "tensor(0.0311, device='cuda:0', grad_fn=<NllLossBackward0>)\n"
     ]
    },
    {
     "name": "stderr",
     "output_type": "stream",
     "text": [
      "\r",
      " 64%|██████▍   | 131/205 [00:37<00:19,  3.79it/s]"
     ]
    },
    {
     "name": "stdout",
     "output_type": "stream",
     "text": [
      "tensor(0.0359, device='cuda:0', grad_fn=<NllLossBackward0>)\n"
     ]
    },
    {
     "name": "stderr",
     "output_type": "stream",
     "text": [
      "\r",
      " 64%|██████▍   | 132/205 [00:37<00:19,  3.73it/s]"
     ]
    },
    {
     "name": "stdout",
     "output_type": "stream",
     "text": [
      "tensor(0.0232, device='cuda:0', grad_fn=<NllLossBackward0>)\n"
     ]
    },
    {
     "name": "stderr",
     "output_type": "stream",
     "text": [
      "\r",
      " 65%|██████▍   | 133/205 [00:37<00:19,  3.75it/s]"
     ]
    },
    {
     "name": "stdout",
     "output_type": "stream",
     "text": [
      "tensor(0.0221, device='cuda:0', grad_fn=<NllLossBackward0>)\n"
     ]
    },
    {
     "name": "stderr",
     "output_type": "stream",
     "text": [
      "\r",
      " 65%|██████▌   | 134/205 [00:37<00:18,  3.86it/s]"
     ]
    },
    {
     "name": "stdout",
     "output_type": "stream",
     "text": [
      "tensor(0.0382, device='cuda:0', grad_fn=<NllLossBackward0>)\n"
     ]
    },
    {
     "name": "stderr",
     "output_type": "stream",
     "text": [
      "\r",
      " 66%|██████▌   | 135/205 [00:38<00:19,  3.54it/s]"
     ]
    },
    {
     "name": "stdout",
     "output_type": "stream",
     "text": [
      "tensor(0.0257, device='cuda:0', grad_fn=<NllLossBackward0>)\n"
     ]
    },
    {
     "name": "stderr",
     "output_type": "stream",
     "text": [
      "\r",
      " 66%|██████▋   | 136/205 [00:38<00:19,  3.59it/s]"
     ]
    },
    {
     "name": "stdout",
     "output_type": "stream",
     "text": [
      "tensor(0.0267, device='cuda:0', grad_fn=<NllLossBackward0>)\n"
     ]
    },
    {
     "name": "stderr",
     "output_type": "stream",
     "text": [
      "\r",
      " 67%|██████▋   | 137/205 [00:38<00:18,  3.66it/s]"
     ]
    },
    {
     "name": "stdout",
     "output_type": "stream",
     "text": [
      "tensor(0.0051, device='cuda:0', grad_fn=<NllLossBackward0>)\n"
     ]
    },
    {
     "name": "stderr",
     "output_type": "stream",
     "text": [
      "\r",
      " 67%|██████▋   | 138/205 [00:38<00:18,  3.65it/s]"
     ]
    },
    {
     "name": "stdout",
     "output_type": "stream",
     "text": [
      "tensor(0.0126, device='cuda:0', grad_fn=<NllLossBackward0>)\n"
     ]
    },
    {
     "name": "stderr",
     "output_type": "stream",
     "text": [
      "\r",
      " 68%|██████▊   | 139/205 [00:39<00:18,  3.52it/s]"
     ]
    },
    {
     "name": "stdout",
     "output_type": "stream",
     "text": [
      "tensor(0.0213, device='cuda:0', grad_fn=<NllLossBackward0>)\n"
     ]
    },
    {
     "name": "stderr",
     "output_type": "stream",
     "text": [
      "\r",
      " 68%|██████▊   | 140/205 [00:39<00:19,  3.42it/s]"
     ]
    },
    {
     "name": "stdout",
     "output_type": "stream",
     "text": [
      "tensor(0.0251, device='cuda:0', grad_fn=<NllLossBackward0>)\n"
     ]
    },
    {
     "name": "stderr",
     "output_type": "stream",
     "text": [
      "\r",
      " 69%|██████▉   | 141/205 [00:39<00:17,  3.56it/s]"
     ]
    },
    {
     "name": "stdout",
     "output_type": "stream",
     "text": [
      "tensor(0.0357, device='cuda:0', grad_fn=<NllLossBackward0>)\n"
     ]
    },
    {
     "name": "stderr",
     "output_type": "stream",
     "text": [
      "\r",
      " 69%|██████▉   | 142/205 [00:40<00:17,  3.60it/s]"
     ]
    },
    {
     "name": "stdout",
     "output_type": "stream",
     "text": [
      "tensor(0.0186, device='cuda:0', grad_fn=<NllLossBackward0>)\n"
     ]
    },
    {
     "name": "stderr",
     "output_type": "stream",
     "text": [
      "\r",
      " 70%|██████▉   | 143/205 [00:40<00:17,  3.47it/s]"
     ]
    },
    {
     "name": "stdout",
     "output_type": "stream",
     "text": [
      "tensor(0.0183, device='cuda:0', grad_fn=<NllLossBackward0>)\n"
     ]
    },
    {
     "name": "stderr",
     "output_type": "stream",
     "text": [
      "\r",
      " 70%|███████   | 144/205 [00:40<00:17,  3.51it/s]"
     ]
    },
    {
     "name": "stdout",
     "output_type": "stream",
     "text": [
      "tensor(0.0211, device='cuda:0', grad_fn=<NllLossBackward0>)\n"
     ]
    },
    {
     "name": "stderr",
     "output_type": "stream",
     "text": [
      "\r",
      " 71%|███████   | 145/205 [00:40<00:16,  3.54it/s]"
     ]
    },
    {
     "name": "stdout",
     "output_type": "stream",
     "text": [
      "tensor(0.0270, device='cuda:0', grad_fn=<NllLossBackward0>)\n"
     ]
    },
    {
     "name": "stderr",
     "output_type": "stream",
     "text": [
      "\r",
      " 71%|███████   | 146/205 [00:41<00:16,  3.50it/s]"
     ]
    },
    {
     "name": "stdout",
     "output_type": "stream",
     "text": [
      "tensor(0.0284, device='cuda:0', grad_fn=<NllLossBackward0>)\n"
     ]
    },
    {
     "name": "stderr",
     "output_type": "stream",
     "text": [
      "\r",
      " 72%|███████▏  | 147/205 [00:41<00:18,  3.18it/s]"
     ]
    },
    {
     "name": "stdout",
     "output_type": "stream",
     "text": [
      "tensor(0.0343, device='cuda:0', grad_fn=<NllLossBackward0>)\n"
     ]
    },
    {
     "name": "stderr",
     "output_type": "stream",
     "text": [
      "\r",
      " 72%|███████▏  | 148/205 [00:41<00:18,  3.15it/s]"
     ]
    },
    {
     "name": "stdout",
     "output_type": "stream",
     "text": [
      "tensor(0.0268, device='cuda:0', grad_fn=<NllLossBackward0>)\n"
     ]
    },
    {
     "name": "stderr",
     "output_type": "stream",
     "text": [
      "\r",
      " 73%|███████▎  | 149/205 [00:42<00:17,  3.17it/s]"
     ]
    },
    {
     "name": "stdout",
     "output_type": "stream",
     "text": [
      "tensor(0.0316, device='cuda:0', grad_fn=<NllLossBackward0>)\n"
     ]
    },
    {
     "name": "stderr",
     "output_type": "stream",
     "text": [
      "\r",
      " 73%|███████▎  | 150/205 [00:42<00:16,  3.25it/s]"
     ]
    },
    {
     "name": "stdout",
     "output_type": "stream",
     "text": [
      "tensor(0.0122, device='cuda:0', grad_fn=<NllLossBackward0>)\n"
     ]
    },
    {
     "name": "stderr",
     "output_type": "stream",
     "text": [
      "\r",
      " 74%|███████▎  | 151/205 [00:42<00:16,  3.32it/s]"
     ]
    },
    {
     "name": "stdout",
     "output_type": "stream",
     "text": [
      "tensor(0.0252, device='cuda:0', grad_fn=<NllLossBackward0>)\n"
     ]
    },
    {
     "name": "stderr",
     "output_type": "stream",
     "text": [
      "\r",
      " 74%|███████▍  | 152/205 [00:43<00:16,  3.25it/s]"
     ]
    },
    {
     "name": "stdout",
     "output_type": "stream",
     "text": [
      "tensor(0.0231, device='cuda:0', grad_fn=<NllLossBackward0>)\n"
     ]
    },
    {
     "name": "stderr",
     "output_type": "stream",
     "text": [
      "\r",
      " 75%|███████▍  | 153/205 [00:43<00:16,  3.24it/s]"
     ]
    },
    {
     "name": "stdout",
     "output_type": "stream",
     "text": [
      "tensor(0.0264, device='cuda:0', grad_fn=<NllLossBackward0>)\n"
     ]
    },
    {
     "name": "stderr",
     "output_type": "stream",
     "text": [
      "\r",
      " 75%|███████▌  | 154/205 [00:43<00:14,  3.47it/s]"
     ]
    },
    {
     "name": "stdout",
     "output_type": "stream",
     "text": [
      "tensor(0.0022, device='cuda:0', grad_fn=<NllLossBackward0>)\n"
     ]
    },
    {
     "name": "stderr",
     "output_type": "stream",
     "text": [
      "\r",
      " 76%|███████▌  | 155/205 [00:43<00:13,  3.63it/s]"
     ]
    },
    {
     "name": "stdout",
     "output_type": "stream",
     "text": [
      "tensor(0.0312, device='cuda:0', grad_fn=<NllLossBackward0>)\n"
     ]
    },
    {
     "name": "stderr",
     "output_type": "stream",
     "text": [
      "\r",
      " 76%|███████▌  | 156/205 [00:44<00:13,  3.50it/s]"
     ]
    },
    {
     "name": "stdout",
     "output_type": "stream",
     "text": [
      "tensor(0.0241, device='cuda:0', grad_fn=<NllLossBackward0>)\n"
     ]
    },
    {
     "name": "stderr",
     "output_type": "stream",
     "text": [
      "\r",
      " 77%|███████▋  | 157/205 [00:44<00:13,  3.48it/s]"
     ]
    },
    {
     "name": "stdout",
     "output_type": "stream",
     "text": [
      "tensor(0.0121, device='cuda:0', grad_fn=<NllLossBackward0>)\n"
     ]
    },
    {
     "name": "stderr",
     "output_type": "stream",
     "text": [
      "\r",
      " 77%|███████▋  | 158/205 [00:44<00:13,  3.40it/s]"
     ]
    },
    {
     "name": "stdout",
     "output_type": "stream",
     "text": [
      "tensor(0.0210, device='cuda:0', grad_fn=<NllLossBackward0>)\n"
     ]
    },
    {
     "name": "stderr",
     "output_type": "stream",
     "text": [
      "\r",
      " 78%|███████▊  | 159/205 [00:45<00:13,  3.47it/s]"
     ]
    },
    {
     "name": "stdout",
     "output_type": "stream",
     "text": [
      "tensor(0.0240, device='cuda:0', grad_fn=<NllLossBackward0>)\n"
     ]
    },
    {
     "name": "stderr",
     "output_type": "stream",
     "text": [
      "\r",
      " 78%|███████▊  | 160/205 [00:45<00:12,  3.62it/s]"
     ]
    },
    {
     "name": "stdout",
     "output_type": "stream",
     "text": [
      "tensor(0.0256, device='cuda:0', grad_fn=<NllLossBackward0>)\n"
     ]
    },
    {
     "name": "stderr",
     "output_type": "stream",
     "text": [
      "\r",
      " 79%|███████▊  | 161/205 [00:45<00:12,  3.50it/s]"
     ]
    },
    {
     "name": "stdout",
     "output_type": "stream",
     "text": [
      "tensor(0.0244, device='cuda:0', grad_fn=<NllLossBackward0>)\n"
     ]
    },
    {
     "name": "stderr",
     "output_type": "stream",
     "text": [
      "\r",
      " 79%|███████▉  | 162/205 [00:46<00:12,  3.39it/s]"
     ]
    },
    {
     "name": "stdout",
     "output_type": "stream",
     "text": [
      "tensor(0.0287, device='cuda:0', grad_fn=<NllLossBackward0>)\n"
     ]
    },
    {
     "name": "stderr",
     "output_type": "stream",
     "text": [
      "\r",
      " 80%|███████▉  | 163/205 [00:46<00:11,  3.58it/s]"
     ]
    },
    {
     "name": "stdout",
     "output_type": "stream",
     "text": [
      "tensor(0.0349, device='cuda:0', grad_fn=<NllLossBackward0>)\n"
     ]
    },
    {
     "name": "stderr",
     "output_type": "stream",
     "text": [
      "\r",
      " 80%|████████  | 164/205 [00:46<00:11,  3.66it/s]"
     ]
    },
    {
     "name": "stdout",
     "output_type": "stream",
     "text": [
      "tensor(0.0312, device='cuda:0', grad_fn=<NllLossBackward0>)\n"
     ]
    },
    {
     "name": "stderr",
     "output_type": "stream",
     "text": [
      "\r",
      " 80%|████████  | 165/205 [00:46<00:11,  3.49it/s]"
     ]
    },
    {
     "name": "stdout",
     "output_type": "stream",
     "text": [
      "tensor(0.0224, device='cuda:0', grad_fn=<NllLossBackward0>)\n"
     ]
    },
    {
     "name": "stderr",
     "output_type": "stream",
     "text": [
      "\r",
      " 81%|████████  | 166/205 [00:47<00:11,  3.52it/s]"
     ]
    },
    {
     "name": "stdout",
     "output_type": "stream",
     "text": [
      "tensor(0.0187, device='cuda:0', grad_fn=<NllLossBackward0>)\n"
     ]
    },
    {
     "name": "stderr",
     "output_type": "stream",
     "text": [
      "\r",
      " 81%|████████▏ | 167/205 [00:47<00:10,  3.53it/s]"
     ]
    },
    {
     "name": "stdout",
     "output_type": "stream",
     "text": [
      "tensor(0.0076, device='cuda:0', grad_fn=<NllLossBackward0>)\n"
     ]
    },
    {
     "name": "stderr",
     "output_type": "stream",
     "text": [
      "\r",
      " 82%|████████▏ | 168/205 [00:47<00:10,  3.62it/s]"
     ]
    },
    {
     "name": "stdout",
     "output_type": "stream",
     "text": [
      "tensor(0.0079, device='cuda:0', grad_fn=<NllLossBackward0>)\n"
     ]
    },
    {
     "name": "stderr",
     "output_type": "stream",
     "text": [
      "\r",
      " 82%|████████▏ | 169/205 [00:47<00:10,  3.46it/s]"
     ]
    },
    {
     "name": "stdout",
     "output_type": "stream",
     "text": [
      "tensor(0.0261, device='cuda:0', grad_fn=<NllLossBackward0>)\n"
     ]
    },
    {
     "name": "stderr",
     "output_type": "stream",
     "text": [
      "\r",
      " 83%|████████▎ | 170/205 [00:48<00:10,  3.46it/s]"
     ]
    },
    {
     "name": "stdout",
     "output_type": "stream",
     "text": [
      "tensor(0.0275, device='cuda:0', grad_fn=<NllLossBackward0>)\n"
     ]
    },
    {
     "name": "stderr",
     "output_type": "stream",
     "text": [
      "\r",
      " 83%|████████▎ | 171/205 [00:48<00:09,  3.48it/s]"
     ]
    },
    {
     "name": "stdout",
     "output_type": "stream",
     "text": [
      "tensor(0.0206, device='cuda:0', grad_fn=<NllLossBackward0>)\n"
     ]
    },
    {
     "name": "stderr",
     "output_type": "stream",
     "text": [
      "\r",
      " 84%|████████▍ | 172/205 [00:48<00:09,  3.58it/s]"
     ]
    },
    {
     "name": "stdout",
     "output_type": "stream",
     "text": [
      "tensor(0.0157, device='cuda:0', grad_fn=<NllLossBackward0>)\n"
     ]
    },
    {
     "name": "stderr",
     "output_type": "stream",
     "text": [
      "\r",
      " 84%|████████▍ | 173/205 [00:49<00:08,  3.70it/s]"
     ]
    },
    {
     "name": "stdout",
     "output_type": "stream",
     "text": [
      "tensor(0.0240, device='cuda:0', grad_fn=<NllLossBackward0>)\n"
     ]
    },
    {
     "name": "stderr",
     "output_type": "stream",
     "text": [
      "\r",
      " 85%|████████▍ | 174/205 [00:49<00:08,  3.65it/s]"
     ]
    },
    {
     "name": "stdout",
     "output_type": "stream",
     "text": [
      "tensor(0.0209, device='cuda:0', grad_fn=<NllLossBackward0>)\n"
     ]
    },
    {
     "name": "stderr",
     "output_type": "stream",
     "text": [
      "\r",
      " 85%|████████▌ | 175/205 [00:49<00:08,  3.36it/s]"
     ]
    },
    {
     "name": "stdout",
     "output_type": "stream",
     "text": [
      "tensor(0.0221, device='cuda:0', grad_fn=<NllLossBackward0>)\n"
     ]
    },
    {
     "name": "stderr",
     "output_type": "stream",
     "text": [
      "\r",
      " 86%|████████▌ | 176/205 [00:49<00:08,  3.35it/s]"
     ]
    },
    {
     "name": "stdout",
     "output_type": "stream",
     "text": [
      "tensor(0.0177, device='cuda:0', grad_fn=<NllLossBackward0>)\n"
     ]
    },
    {
     "name": "stderr",
     "output_type": "stream",
     "text": [
      "\r",
      " 86%|████████▋ | 177/205 [00:50<00:08,  3.48it/s]"
     ]
    },
    {
     "name": "stdout",
     "output_type": "stream",
     "text": [
      "tensor(0.0753, device='cuda:0', grad_fn=<NllLossBackward0>)\n"
     ]
    },
    {
     "name": "stderr",
     "output_type": "stream",
     "text": [
      "\r",
      " 87%|████████▋ | 178/205 [00:50<00:07,  3.51it/s]"
     ]
    },
    {
     "name": "stdout",
     "output_type": "stream",
     "text": [
      "tensor(0.0226, device='cuda:0', grad_fn=<NllLossBackward0>)\n"
     ]
    },
    {
     "name": "stderr",
     "output_type": "stream",
     "text": [
      "\r",
      " 87%|████████▋ | 179/205 [00:50<00:07,  3.58it/s]"
     ]
    },
    {
     "name": "stdout",
     "output_type": "stream",
     "text": [
      "tensor(0.0234, device='cuda:0', grad_fn=<NllLossBackward0>)\n"
     ]
    },
    {
     "name": "stderr",
     "output_type": "stream",
     "text": [
      "\r",
      " 88%|████████▊ | 180/205 [00:51<00:07,  3.50it/s]"
     ]
    },
    {
     "name": "stdout",
     "output_type": "stream",
     "text": [
      "tensor(0.0219, device='cuda:0', grad_fn=<NllLossBackward0>)\n"
     ]
    },
    {
     "name": "stderr",
     "output_type": "stream",
     "text": [
      "\r",
      " 88%|████████▊ | 181/205 [00:51<00:06,  3.53it/s]"
     ]
    },
    {
     "name": "stdout",
     "output_type": "stream",
     "text": [
      "tensor(0.0263, device='cuda:0', grad_fn=<NllLossBackward0>)\n"
     ]
    },
    {
     "name": "stderr",
     "output_type": "stream",
     "text": [
      "\r",
      " 89%|████████▉ | 182/205 [00:51<00:06,  3.61it/s]"
     ]
    },
    {
     "name": "stdout",
     "output_type": "stream",
     "text": [
      "tensor(0.0104, device='cuda:0', grad_fn=<NllLossBackward0>)\n"
     ]
    },
    {
     "name": "stderr",
     "output_type": "stream",
     "text": [
      "\r",
      " 89%|████████▉ | 183/205 [00:51<00:05,  3.68it/s]"
     ]
    },
    {
     "name": "stdout",
     "output_type": "stream",
     "text": [
      "tensor(0.0096, device='cuda:0', grad_fn=<NllLossBackward0>)\n"
     ]
    },
    {
     "name": "stderr",
     "output_type": "stream",
     "text": [
      "\r",
      " 90%|████████▉ | 184/205 [00:52<00:05,  3.82it/s]"
     ]
    },
    {
     "name": "stdout",
     "output_type": "stream",
     "text": [
      "tensor(0.0347, device='cuda:0', grad_fn=<NllLossBackward0>)\n"
     ]
    },
    {
     "name": "stderr",
     "output_type": "stream",
     "text": [
      "\r",
      " 90%|█████████ | 185/205 [00:52<00:05,  3.88it/s]"
     ]
    },
    {
     "name": "stdout",
     "output_type": "stream",
     "text": [
      "tensor(0.0050, device='cuda:0', grad_fn=<NllLossBackward0>)\n"
     ]
    },
    {
     "name": "stderr",
     "output_type": "stream",
     "text": [
      "\r",
      " 91%|█████████ | 186/205 [00:52<00:04,  3.86it/s]"
     ]
    },
    {
     "name": "stdout",
     "output_type": "stream",
     "text": [
      "tensor(0.0231, device='cuda:0', grad_fn=<NllLossBackward0>)\n"
     ]
    },
    {
     "name": "stderr",
     "output_type": "stream",
     "text": [
      "\r",
      " 91%|█████████ | 187/205 [00:52<00:04,  3.96it/s]"
     ]
    },
    {
     "name": "stdout",
     "output_type": "stream",
     "text": [
      "tensor(0.0418, device='cuda:0', grad_fn=<NllLossBackward0>)\n"
     ]
    },
    {
     "name": "stderr",
     "output_type": "stream",
     "text": [
      "\r",
      " 92%|█████████▏| 188/205 [00:53<00:04,  3.83it/s]"
     ]
    },
    {
     "name": "stdout",
     "output_type": "stream",
     "text": [
      "tensor(0.0129, device='cuda:0', grad_fn=<NllLossBackward0>)\n"
     ]
    },
    {
     "name": "stderr",
     "output_type": "stream",
     "text": [
      "\r",
      " 92%|█████████▏| 189/205 [00:53<00:04,  3.83it/s]"
     ]
    },
    {
     "name": "stdout",
     "output_type": "stream",
     "text": [
      "tensor(0.0155, device='cuda:0', grad_fn=<NllLossBackward0>)\n"
     ]
    },
    {
     "name": "stderr",
     "output_type": "stream",
     "text": [
      "\r",
      " 93%|█████████▎| 190/205 [00:53<00:03,  3.76it/s]"
     ]
    },
    {
     "name": "stdout",
     "output_type": "stream",
     "text": [
      "tensor(0.0209, device='cuda:0', grad_fn=<NllLossBackward0>)\n"
     ]
    },
    {
     "name": "stderr",
     "output_type": "stream",
     "text": [
      "\r",
      " 93%|█████████▎| 191/205 [00:53<00:03,  3.60it/s]"
     ]
    },
    {
     "name": "stdout",
     "output_type": "stream",
     "text": [
      "tensor(0.0121, device='cuda:0', grad_fn=<NllLossBackward0>)\n"
     ]
    },
    {
     "name": "stderr",
     "output_type": "stream",
     "text": [
      "\r",
      " 94%|█████████▎| 192/205 [00:54<00:03,  3.70it/s]"
     ]
    },
    {
     "name": "stdout",
     "output_type": "stream",
     "text": [
      "tensor(0.0170, device='cuda:0', grad_fn=<NllLossBackward0>)\n"
     ]
    },
    {
     "name": "stderr",
     "output_type": "stream",
     "text": [
      "\r",
      " 94%|█████████▍| 193/205 [00:54<00:03,  3.55it/s]"
     ]
    },
    {
     "name": "stdout",
     "output_type": "stream",
     "text": [
      "tensor(0.0198, device='cuda:0', grad_fn=<NllLossBackward0>)\n"
     ]
    },
    {
     "name": "stderr",
     "output_type": "stream",
     "text": [
      "\r",
      " 95%|█████████▍| 194/205 [00:54<00:03,  3.55it/s]"
     ]
    },
    {
     "name": "stdout",
     "output_type": "stream",
     "text": [
      "tensor(0.0188, device='cuda:0', grad_fn=<NllLossBackward0>)\n"
     ]
    },
    {
     "name": "stderr",
     "output_type": "stream",
     "text": [
      "\r",
      " 95%|█████████▌| 195/205 [00:55<00:02,  3.56it/s]"
     ]
    },
    {
     "name": "stdout",
     "output_type": "stream",
     "text": [
      "tensor(0.0177, device='cuda:0', grad_fn=<NllLossBackward0>)\n"
     ]
    },
    {
     "name": "stderr",
     "output_type": "stream",
     "text": [
      "\r",
      " 96%|█████████▌| 196/205 [00:55<00:02,  3.64it/s]"
     ]
    },
    {
     "name": "stdout",
     "output_type": "stream",
     "text": [
      "tensor(0.0229, device='cuda:0', grad_fn=<NllLossBackward0>)\n"
     ]
    },
    {
     "name": "stderr",
     "output_type": "stream",
     "text": [
      "\r",
      " 96%|█████████▌| 197/205 [00:55<00:02,  3.68it/s]"
     ]
    },
    {
     "name": "stdout",
     "output_type": "stream",
     "text": [
      "tensor(0.0224, device='cuda:0', grad_fn=<NllLossBackward0>)\n"
     ]
    },
    {
     "name": "stderr",
     "output_type": "stream",
     "text": [
      "\r",
      " 97%|█████████▋| 198/205 [00:55<00:01,  3.81it/s]"
     ]
    },
    {
     "name": "stdout",
     "output_type": "stream",
     "text": [
      "tensor(0.0256, device='cuda:0', grad_fn=<NllLossBackward0>)\n"
     ]
    },
    {
     "name": "stderr",
     "output_type": "stream",
     "text": [
      "\r",
      " 97%|█████████▋| 199/205 [00:56<00:01,  3.73it/s]"
     ]
    },
    {
     "name": "stdout",
     "output_type": "stream",
     "text": [
      "tensor(0.0256, device='cuda:0', grad_fn=<NllLossBackward0>)\n"
     ]
    },
    {
     "name": "stderr",
     "output_type": "stream",
     "text": [
      "\r",
      " 98%|█████████▊| 200/205 [00:56<00:01,  3.79it/s]"
     ]
    },
    {
     "name": "stdout",
     "output_type": "stream",
     "text": [
      "tensor(0.0226, device='cuda:0', grad_fn=<NllLossBackward0>)\n"
     ]
    },
    {
     "name": "stderr",
     "output_type": "stream",
     "text": [
      "\r",
      " 98%|█████████▊| 201/205 [00:56<00:01,  3.82it/s]"
     ]
    },
    {
     "name": "stdout",
     "output_type": "stream",
     "text": [
      "tensor(0.0179, device='cuda:0', grad_fn=<NllLossBackward0>)\n"
     ]
    },
    {
     "name": "stderr",
     "output_type": "stream",
     "text": [
      "\r",
      " 99%|█████████▊| 202/205 [00:56<00:00,  3.89it/s]"
     ]
    },
    {
     "name": "stdout",
     "output_type": "stream",
     "text": [
      "tensor(0.0246, device='cuda:0', grad_fn=<NllLossBackward0>)\n"
     ]
    },
    {
     "name": "stderr",
     "output_type": "stream",
     "text": [
      "\r",
      " 99%|█████████▉| 203/205 [00:57<00:00,  3.69it/s]"
     ]
    },
    {
     "name": "stdout",
     "output_type": "stream",
     "text": [
      "tensor(0.0175, device='cuda:0', grad_fn=<NllLossBackward0>)\n"
     ]
    },
    {
     "name": "stderr",
     "output_type": "stream",
     "text": [
      "\r",
      "100%|█████████▉| 204/205 [00:57<00:00,  3.66it/s]"
     ]
    },
    {
     "name": "stdout",
     "output_type": "stream",
     "text": [
      "tensor(0.0301, device='cuda:0', grad_fn=<NllLossBackward0>)\n"
     ]
    },
    {
     "name": "stderr",
     "output_type": "stream",
     "text": [
      "100%|██████████| 205/205 [00:57<00:00,  3.55it/s]\n"
     ]
    },
    {
     "name": "stdout",
     "output_type": "stream",
     "text": [
      "tensor(0.0433, device='cuda:0', grad_fn=<NllLossBackward0>)\n",
      "2\n"
     ]
    },
    {
     "name": "stderr",
     "output_type": "stream",
     "text": [
      "  0%|          | 1/205 [00:00<00:56,  3.60it/s]"
     ]
    },
    {
     "name": "stdout",
     "output_type": "stream",
     "text": [
      "tensor(0.0134, device='cuda:0', grad_fn=<NllLossBackward0>)\n"
     ]
    },
    {
     "name": "stderr",
     "output_type": "stream",
     "text": [
      "\r",
      "  1%|          | 2/205 [00:00<01:08,  2.96it/s]"
     ]
    },
    {
     "name": "stdout",
     "output_type": "stream",
     "text": [
      "tensor(0.0333, device='cuda:0', grad_fn=<NllLossBackward0>)\n"
     ]
    },
    {
     "name": "stderr",
     "output_type": "stream",
     "text": [
      "\r",
      "  1%|▏         | 3/205 [00:00<01:03,  3.16it/s]"
     ]
    },
    {
     "name": "stdout",
     "output_type": "stream",
     "text": [
      "tensor(0.0120, device='cuda:0', grad_fn=<NllLossBackward0>)\n"
     ]
    },
    {
     "name": "stderr",
     "output_type": "stream",
     "text": [
      "\r",
      "  2%|▏         | 4/205 [00:01<00:59,  3.38it/s]"
     ]
    },
    {
     "name": "stdout",
     "output_type": "stream",
     "text": [
      "tensor(0.0246, device='cuda:0', grad_fn=<NllLossBackward0>)\n"
     ]
    },
    {
     "name": "stderr",
     "output_type": "stream",
     "text": [
      "\r",
      "  2%|▏         | 5/205 [00:01<00:57,  3.48it/s]"
     ]
    },
    {
     "name": "stdout",
     "output_type": "stream",
     "text": [
      "tensor(0.0253, device='cuda:0', grad_fn=<NllLossBackward0>)\n"
     ]
    },
    {
     "name": "stderr",
     "output_type": "stream",
     "text": [
      "\r",
      "  3%|▎         | 6/205 [00:01<00:59,  3.37it/s]"
     ]
    },
    {
     "name": "stdout",
     "output_type": "stream",
     "text": [
      "tensor(0.0249, device='cuda:0', grad_fn=<NllLossBackward0>)\n"
     ]
    },
    {
     "name": "stderr",
     "output_type": "stream",
     "text": [
      "\r",
      "  3%|▎         | 7/205 [00:02<00:58,  3.39it/s]"
     ]
    },
    {
     "name": "stdout",
     "output_type": "stream",
     "text": [
      "tensor(0.0222, device='cuda:0', grad_fn=<NllLossBackward0>)\n"
     ]
    },
    {
     "name": "stderr",
     "output_type": "stream",
     "text": [
      "\r",
      "  4%|▍         | 8/205 [00:02<01:01,  3.23it/s]"
     ]
    },
    {
     "name": "stdout",
     "output_type": "stream",
     "text": [
      "tensor(0.0170, device='cuda:0', grad_fn=<NllLossBackward0>)\n"
     ]
    },
    {
     "name": "stderr",
     "output_type": "stream",
     "text": [
      "\r",
      "  4%|▍         | 9/205 [00:02<01:01,  3.21it/s]"
     ]
    },
    {
     "name": "stdout",
     "output_type": "stream",
     "text": [
      "tensor(0.0223, device='cuda:0', grad_fn=<NllLossBackward0>)\n"
     ]
    },
    {
     "name": "stderr",
     "output_type": "stream",
     "text": [
      "\r",
      "  5%|▍         | 10/205 [00:03<01:01,  3.17it/s]"
     ]
    },
    {
     "name": "stdout",
     "output_type": "stream",
     "text": [
      "tensor(0.0235, device='cuda:0', grad_fn=<NllLossBackward0>)\n"
     ]
    },
    {
     "name": "stderr",
     "output_type": "stream",
     "text": [
      "\r",
      "  5%|▌         | 11/205 [00:03<00:59,  3.29it/s]"
     ]
    },
    {
     "name": "stdout",
     "output_type": "stream",
     "text": [
      "tensor(0.0194, device='cuda:0', grad_fn=<NllLossBackward0>)\n"
     ]
    },
    {
     "name": "stderr",
     "output_type": "stream",
     "text": [
      "\r",
      "  6%|▌         | 12/205 [00:03<00:55,  3.48it/s]"
     ]
    },
    {
     "name": "stdout",
     "output_type": "stream",
     "text": [
      "tensor(0.0062, device='cuda:0', grad_fn=<NllLossBackward0>)\n"
     ]
    },
    {
     "name": "stderr",
     "output_type": "stream",
     "text": [
      "\r",
      "  6%|▋         | 13/205 [00:03<00:54,  3.53it/s]"
     ]
    },
    {
     "name": "stdout",
     "output_type": "stream",
     "text": [
      "tensor(0.0071, device='cuda:0', grad_fn=<NllLossBackward0>)\n"
     ]
    },
    {
     "name": "stderr",
     "output_type": "stream",
     "text": [
      "\r",
      "  7%|▋         | 14/205 [00:04<00:52,  3.61it/s]"
     ]
    },
    {
     "name": "stdout",
     "output_type": "stream",
     "text": [
      "tensor(0.0054, device='cuda:0', grad_fn=<NllLossBackward0>)\n"
     ]
    },
    {
     "name": "stderr",
     "output_type": "stream",
     "text": [
      "\r",
      "  7%|▋         | 15/205 [00:04<00:53,  3.58it/s]"
     ]
    },
    {
     "name": "stdout",
     "output_type": "stream",
     "text": [
      "tensor(0.0259, device='cuda:0', grad_fn=<NllLossBackward0>)\n"
     ]
    },
    {
     "name": "stderr",
     "output_type": "stream",
     "text": [
      "\r",
      "  8%|▊         | 16/205 [00:04<00:56,  3.36it/s]"
     ]
    },
    {
     "name": "stdout",
     "output_type": "stream",
     "text": [
      "tensor(0.0236, device='cuda:0', grad_fn=<NllLossBackward0>)\n"
     ]
    },
    {
     "name": "stderr",
     "output_type": "stream",
     "text": [
      "\r",
      "  8%|▊         | 17/205 [00:05<00:54,  3.47it/s]"
     ]
    },
    {
     "name": "stdout",
     "output_type": "stream",
     "text": [
      "tensor(0.0312, device='cuda:0', grad_fn=<NllLossBackward0>)\n"
     ]
    },
    {
     "name": "stderr",
     "output_type": "stream",
     "text": [
      "\r",
      "  9%|▉         | 18/205 [00:05<00:51,  3.67it/s]"
     ]
    },
    {
     "name": "stdout",
     "output_type": "stream",
     "text": [
      "tensor(0.0433, device='cuda:0', grad_fn=<NllLossBackward0>)\n"
     ]
    },
    {
     "name": "stderr",
     "output_type": "stream",
     "text": [
      "\r",
      "  9%|▉         | 19/205 [00:05<00:50,  3.67it/s]"
     ]
    },
    {
     "name": "stdout",
     "output_type": "stream",
     "text": [
      "tensor(0.0203, device='cuda:0', grad_fn=<NllLossBackward0>)\n"
     ]
    },
    {
     "name": "stderr",
     "output_type": "stream",
     "text": [
      "\r",
      " 10%|▉         | 20/205 [00:05<00:49,  3.72it/s]"
     ]
    },
    {
     "name": "stdout",
     "output_type": "stream",
     "text": [
      "tensor(0.0256, device='cuda:0', grad_fn=<NllLossBackward0>)\n"
     ]
    },
    {
     "name": "stderr",
     "output_type": "stream",
     "text": [
      "\r",
      " 10%|█         | 21/205 [00:06<00:49,  3.74it/s]"
     ]
    },
    {
     "name": "stdout",
     "output_type": "stream",
     "text": [
      "tensor(0.0181, device='cuda:0', grad_fn=<NllLossBackward0>)\n"
     ]
    },
    {
     "name": "stderr",
     "output_type": "stream",
     "text": [
      "\r",
      " 11%|█         | 22/205 [00:06<00:51,  3.54it/s]"
     ]
    },
    {
     "name": "stdout",
     "output_type": "stream",
     "text": [
      "tensor(0.0296, device='cuda:0', grad_fn=<NllLossBackward0>)\n"
     ]
    },
    {
     "name": "stderr",
     "output_type": "stream",
     "text": [
      "\r",
      " 11%|█         | 23/205 [00:06<00:49,  3.66it/s]"
     ]
    },
    {
     "name": "stdout",
     "output_type": "stream",
     "text": [
      "tensor(0.0361, device='cuda:0', grad_fn=<NllLossBackward0>)\n"
     ]
    },
    {
     "name": "stderr",
     "output_type": "stream",
     "text": [
      "\r",
      " 12%|█▏        | 24/205 [00:06<00:48,  3.73it/s]"
     ]
    },
    {
     "name": "stdout",
     "output_type": "stream",
     "text": [
      "tensor(0.0275, device='cuda:0', grad_fn=<NllLossBackward0>)\n"
     ]
    },
    {
     "name": "stderr",
     "output_type": "stream",
     "text": [
      "\r",
      " 12%|█▏        | 25/205 [00:07<00:49,  3.65it/s]"
     ]
    },
    {
     "name": "stdout",
     "output_type": "stream",
     "text": [
      "tensor(0.0187, device='cuda:0', grad_fn=<NllLossBackward0>)\n"
     ]
    },
    {
     "name": "stderr",
     "output_type": "stream",
     "text": [
      "\r",
      " 13%|█▎        | 26/205 [00:07<00:49,  3.60it/s]"
     ]
    },
    {
     "name": "stdout",
     "output_type": "stream",
     "text": [
      "tensor(0.0200, device='cuda:0', grad_fn=<NllLossBackward0>)\n"
     ]
    },
    {
     "name": "stderr",
     "output_type": "stream",
     "text": [
      "\r",
      " 13%|█▎        | 27/205 [00:07<00:47,  3.72it/s]"
     ]
    },
    {
     "name": "stdout",
     "output_type": "stream",
     "text": [
      "tensor(0.0408, device='cuda:0', grad_fn=<NllLossBackward0>)\n"
     ]
    },
    {
     "name": "stderr",
     "output_type": "stream",
     "text": [
      "\r",
      " 14%|█▎        | 28/205 [00:07<00:48,  3.68it/s]"
     ]
    },
    {
     "name": "stdout",
     "output_type": "stream",
     "text": [
      "tensor(0.0263, device='cuda:0', grad_fn=<NllLossBackward0>)\n"
     ]
    },
    {
     "name": "stderr",
     "output_type": "stream",
     "text": [
      "\r",
      " 14%|█▍        | 29/205 [00:08<00:47,  3.72it/s]"
     ]
    },
    {
     "name": "stdout",
     "output_type": "stream",
     "text": [
      "tensor(0.0300, device='cuda:0', grad_fn=<NllLossBackward0>)\n"
     ]
    },
    {
     "name": "stderr",
     "output_type": "stream",
     "text": [
      "\r",
      " 15%|█▍        | 30/205 [00:08<00:47,  3.68it/s]"
     ]
    },
    {
     "name": "stdout",
     "output_type": "stream",
     "text": [
      "tensor(0.0161, device='cuda:0', grad_fn=<NllLossBackward0>)\n"
     ]
    },
    {
     "name": "stderr",
     "output_type": "stream",
     "text": [
      "\r",
      " 15%|█▌        | 31/205 [00:08<00:45,  3.80it/s]"
     ]
    },
    {
     "name": "stdout",
     "output_type": "stream",
     "text": [
      "tensor(0.0266, device='cuda:0', grad_fn=<NllLossBackward0>)\n"
     ]
    },
    {
     "name": "stderr",
     "output_type": "stream",
     "text": [
      "\r",
      " 16%|█▌        | 32/205 [00:09<00:47,  3.62it/s]"
     ]
    },
    {
     "name": "stdout",
     "output_type": "stream",
     "text": [
      "tensor(0.0244, device='cuda:0', grad_fn=<NllLossBackward0>)\n"
     ]
    },
    {
     "name": "stderr",
     "output_type": "stream",
     "text": [
      "\r",
      " 16%|█▌        | 33/205 [00:09<00:48,  3.55it/s]"
     ]
    },
    {
     "name": "stdout",
     "output_type": "stream",
     "text": [
      "tensor(0.0110, device='cuda:0', grad_fn=<NllLossBackward0>)\n"
     ]
    },
    {
     "name": "stderr",
     "output_type": "stream",
     "text": [
      "\r",
      " 17%|█▋        | 34/205 [00:09<00:47,  3.57it/s]"
     ]
    },
    {
     "name": "stdout",
     "output_type": "stream",
     "text": [
      "tensor(0.0209, device='cuda:0', grad_fn=<NllLossBackward0>)\n"
     ]
    },
    {
     "name": "stderr",
     "output_type": "stream",
     "text": [
      "\r",
      " 17%|█▋        | 35/205 [00:09<00:49,  3.46it/s]"
     ]
    },
    {
     "name": "stdout",
     "output_type": "stream",
     "text": [
      "tensor(0.0188, device='cuda:0', grad_fn=<NllLossBackward0>)\n"
     ]
    },
    {
     "name": "stderr",
     "output_type": "stream",
     "text": [
      "\r",
      " 18%|█▊        | 36/205 [00:10<00:49,  3.44it/s]"
     ]
    },
    {
     "name": "stdout",
     "output_type": "stream",
     "text": [
      "tensor(0.0177, device='cuda:0', grad_fn=<NllLossBackward0>)\n"
     ]
    },
    {
     "name": "stderr",
     "output_type": "stream",
     "text": [
      "\r",
      " 18%|█▊        | 37/205 [00:10<00:46,  3.59it/s]"
     ]
    },
    {
     "name": "stdout",
     "output_type": "stream",
     "text": [
      "tensor(0.0409, device='cuda:0', grad_fn=<NllLossBackward0>)\n"
     ]
    },
    {
     "name": "stderr",
     "output_type": "stream",
     "text": [
      "\r",
      " 19%|█▊        | 38/205 [00:10<00:44,  3.74it/s]"
     ]
    },
    {
     "name": "stdout",
     "output_type": "stream",
     "text": [
      "tensor(0.0365, device='cuda:0', grad_fn=<NllLossBackward0>)\n"
     ]
    },
    {
     "name": "stderr",
     "output_type": "stream",
     "text": [
      "\r",
      " 19%|█▉        | 39/205 [00:11<00:45,  3.67it/s]"
     ]
    },
    {
     "name": "stdout",
     "output_type": "stream",
     "text": [
      "tensor(0.0181, device='cuda:0', grad_fn=<NllLossBackward0>)\n"
     ]
    },
    {
     "name": "stderr",
     "output_type": "stream",
     "text": [
      "\r",
      " 20%|█▉        | 40/205 [00:11<00:45,  3.63it/s]"
     ]
    },
    {
     "name": "stdout",
     "output_type": "stream",
     "text": [
      "tensor(0.0273, device='cuda:0', grad_fn=<NllLossBackward0>)\n"
     ]
    },
    {
     "name": "stderr",
     "output_type": "stream",
     "text": [
      "\r",
      " 20%|██        | 41/205 [00:11<00:45,  3.62it/s]"
     ]
    },
    {
     "name": "stdout",
     "output_type": "stream",
     "text": [
      "tensor(0.0213, device='cuda:0', grad_fn=<NllLossBackward0>)\n"
     ]
    },
    {
     "name": "stderr",
     "output_type": "stream",
     "text": [
      "\r",
      " 20%|██        | 42/205 [00:11<00:43,  3.78it/s]"
     ]
    },
    {
     "name": "stdout",
     "output_type": "stream",
     "text": [
      "tensor(0.0382, device='cuda:0', grad_fn=<NllLossBackward0>)\n"
     ]
    },
    {
     "name": "stderr",
     "output_type": "stream",
     "text": [
      "\r",
      " 21%|██        | 43/205 [00:12<00:43,  3.73it/s]"
     ]
    },
    {
     "name": "stdout",
     "output_type": "stream",
     "text": [
      "tensor(0.0315, device='cuda:0', grad_fn=<NllLossBackward0>)\n"
     ]
    },
    {
     "name": "stderr",
     "output_type": "stream",
     "text": [
      "\r",
      " 21%|██▏       | 44/205 [00:12<00:43,  3.74it/s]"
     ]
    },
    {
     "name": "stdout",
     "output_type": "stream",
     "text": [
      "tensor(0.0215, device='cuda:0', grad_fn=<NllLossBackward0>)\n"
     ]
    },
    {
     "name": "stderr",
     "output_type": "stream",
     "text": [
      "\r",
      " 22%|██▏       | 45/205 [00:12<00:43,  3.69it/s]"
     ]
    },
    {
     "name": "stdout",
     "output_type": "stream",
     "text": [
      "tensor(0.0180, device='cuda:0', grad_fn=<NllLossBackward0>)\n"
     ]
    },
    {
     "name": "stderr",
     "output_type": "stream",
     "text": [
      "\r",
      " 22%|██▏       | 46/205 [00:12<00:43,  3.66it/s]"
     ]
    },
    {
     "name": "stdout",
     "output_type": "stream",
     "text": [
      "tensor(0.0182, device='cuda:0', grad_fn=<NllLossBackward0>)\n"
     ]
    },
    {
     "name": "stderr",
     "output_type": "stream",
     "text": [
      "\r",
      " 23%|██▎       | 47/205 [00:13<00:42,  3.70it/s]"
     ]
    },
    {
     "name": "stdout",
     "output_type": "stream",
     "text": [
      "tensor(0.0346, device='cuda:0', grad_fn=<NllLossBackward0>)\n"
     ]
    },
    {
     "name": "stderr",
     "output_type": "stream",
     "text": [
      "\r",
      " 23%|██▎       | 48/205 [00:13<00:41,  3.78it/s]"
     ]
    },
    {
     "name": "stdout",
     "output_type": "stream",
     "text": [
      "tensor(0.0409, device='cuda:0', grad_fn=<NllLossBackward0>)\n"
     ]
    },
    {
     "name": "stderr",
     "output_type": "stream",
     "text": [
      "\r",
      " 24%|██▍       | 49/205 [00:13<00:40,  3.85it/s]"
     ]
    },
    {
     "name": "stdout",
     "output_type": "stream",
     "text": [
      "tensor(0.0072, device='cuda:0', grad_fn=<NllLossBackward0>)\n"
     ]
    },
    {
     "name": "stderr",
     "output_type": "stream",
     "text": [
      "\r",
      " 24%|██▍       | 50/205 [00:13<00:40,  3.85it/s]"
     ]
    },
    {
     "name": "stdout",
     "output_type": "stream",
     "text": [
      "tensor(0.0189, device='cuda:0', grad_fn=<NllLossBackward0>)\n"
     ]
    },
    {
     "name": "stderr",
     "output_type": "stream",
     "text": [
      "\r",
      " 25%|██▍       | 51/205 [00:14<00:41,  3.73it/s]"
     ]
    },
    {
     "name": "stdout",
     "output_type": "stream",
     "text": [
      "tensor(0.0145, device='cuda:0', grad_fn=<NllLossBackward0>)\n"
     ]
    },
    {
     "name": "stderr",
     "output_type": "stream",
     "text": [
      "\r",
      " 25%|██▌       | 52/205 [00:14<00:43,  3.54it/s]"
     ]
    },
    {
     "name": "stdout",
     "output_type": "stream",
     "text": [
      "tensor(0.0244, device='cuda:0', grad_fn=<NllLossBackward0>)\n"
     ]
    },
    {
     "name": "stderr",
     "output_type": "stream",
     "text": [
      "\r",
      " 26%|██▌       | 53/205 [00:14<00:41,  3.65it/s]"
     ]
    },
    {
     "name": "stdout",
     "output_type": "stream",
     "text": [
      "tensor(0.0295, device='cuda:0', grad_fn=<NllLossBackward0>)\n"
     ]
    },
    {
     "name": "stderr",
     "output_type": "stream",
     "text": [
      "\r",
      " 26%|██▋       | 54/205 [00:15<00:41,  3.64it/s]"
     ]
    },
    {
     "name": "stdout",
     "output_type": "stream",
     "text": [
      "tensor(0.0274, device='cuda:0', grad_fn=<NllLossBackward0>)\n"
     ]
    },
    {
     "name": "stderr",
     "output_type": "stream",
     "text": [
      "\r",
      " 27%|██▋       | 55/205 [00:15<00:41,  3.62it/s]"
     ]
    },
    {
     "name": "stdout",
     "output_type": "stream",
     "text": [
      "tensor(0.0164, device='cuda:0', grad_fn=<NllLossBackward0>)\n"
     ]
    },
    {
     "name": "stderr",
     "output_type": "stream",
     "text": [
      "\r",
      " 27%|██▋       | 56/205 [00:15<00:40,  3.69it/s]"
     ]
    },
    {
     "name": "stdout",
     "output_type": "stream",
     "text": [
      "tensor(0.0221, device='cuda:0', grad_fn=<NllLossBackward0>)\n"
     ]
    },
    {
     "name": "stderr",
     "output_type": "stream",
     "text": [
      "\r",
      " 28%|██▊       | 57/205 [00:15<00:41,  3.53it/s]"
     ]
    },
    {
     "name": "stdout",
     "output_type": "stream",
     "text": [
      "tensor(0.0117, device='cuda:0', grad_fn=<NllLossBackward0>)\n"
     ]
    },
    {
     "name": "stderr",
     "output_type": "stream",
     "text": [
      "\r",
      " 28%|██▊       | 58/205 [00:16<00:41,  3.55it/s]"
     ]
    },
    {
     "name": "stdout",
     "output_type": "stream",
     "text": [
      "tensor(0.0225, device='cuda:0', grad_fn=<NllLossBackward0>)\n"
     ]
    },
    {
     "name": "stderr",
     "output_type": "stream",
     "text": [
      "\r",
      " 29%|██▉       | 59/205 [00:16<00:39,  3.68it/s]"
     ]
    },
    {
     "name": "stdout",
     "output_type": "stream",
     "text": [
      "tensor(0.0043, device='cuda:0', grad_fn=<NllLossBackward0>)\n"
     ]
    },
    {
     "name": "stderr",
     "output_type": "stream",
     "text": [
      "\r",
      " 29%|██▉       | 60/205 [00:16<00:40,  3.62it/s]"
     ]
    },
    {
     "name": "stdout",
     "output_type": "stream",
     "text": [
      "tensor(0.0273, device='cuda:0', grad_fn=<NllLossBackward0>)\n"
     ]
    },
    {
     "name": "stderr",
     "output_type": "stream",
     "text": [
      "\r",
      " 30%|██▉       | 61/205 [00:17<00:39,  3.63it/s]"
     ]
    },
    {
     "name": "stdout",
     "output_type": "stream",
     "text": [
      "tensor(0.0207, device='cuda:0', grad_fn=<NllLossBackward0>)\n"
     ]
    },
    {
     "name": "stderr",
     "output_type": "stream",
     "text": [
      "\r",
      " 30%|███       | 62/205 [00:17<00:37,  3.78it/s]"
     ]
    },
    {
     "name": "stdout",
     "output_type": "stream",
     "text": [
      "tensor(0.0262, device='cuda:0', grad_fn=<NllLossBackward0>)\n"
     ]
    },
    {
     "name": "stderr",
     "output_type": "stream",
     "text": [
      "\r",
      " 31%|███       | 63/205 [00:17<00:36,  3.87it/s]"
     ]
    },
    {
     "name": "stdout",
     "output_type": "stream",
     "text": [
      "tensor(0.0178, device='cuda:0', grad_fn=<NllLossBackward0>)\n"
     ]
    },
    {
     "name": "stderr",
     "output_type": "stream",
     "text": [
      "\r",
      " 31%|███       | 64/205 [00:17<00:37,  3.81it/s]"
     ]
    },
    {
     "name": "stdout",
     "output_type": "stream",
     "text": [
      "tensor(0.0293, device='cuda:0', grad_fn=<NllLossBackward0>)\n"
     ]
    },
    {
     "name": "stderr",
     "output_type": "stream",
     "text": [
      "\r",
      " 32%|███▏      | 65/205 [00:18<00:35,  3.91it/s]"
     ]
    },
    {
     "name": "stdout",
     "output_type": "stream",
     "text": [
      "tensor(0.0193, device='cuda:0', grad_fn=<NllLossBackward0>)\n"
     ]
    },
    {
     "name": "stderr",
     "output_type": "stream",
     "text": [
      "\r",
      " 32%|███▏      | 66/205 [00:18<00:36,  3.84it/s]"
     ]
    },
    {
     "name": "stdout",
     "output_type": "stream",
     "text": [
      "tensor(0.0101, device='cuda:0', grad_fn=<NllLossBackward0>)\n"
     ]
    },
    {
     "name": "stderr",
     "output_type": "stream",
     "text": [
      "\r",
      " 33%|███▎      | 67/205 [00:18<00:36,  3.73it/s]"
     ]
    },
    {
     "name": "stdout",
     "output_type": "stream",
     "text": [
      "tensor(0.0182, device='cuda:0', grad_fn=<NllLossBackward0>)\n"
     ]
    },
    {
     "name": "stderr",
     "output_type": "stream",
     "text": [
      "\r",
      " 33%|███▎      | 68/205 [00:18<00:36,  3.80it/s]"
     ]
    },
    {
     "name": "stdout",
     "output_type": "stream",
     "text": [
      "tensor(0.0258, device='cuda:0', grad_fn=<NllLossBackward0>)\n"
     ]
    },
    {
     "name": "stderr",
     "output_type": "stream",
     "text": [
      "\r",
      " 34%|███▎      | 69/205 [00:19<00:36,  3.77it/s]"
     ]
    },
    {
     "name": "stdout",
     "output_type": "stream",
     "text": [
      "tensor(0.0268, device='cuda:0', grad_fn=<NllLossBackward0>)\n"
     ]
    },
    {
     "name": "stderr",
     "output_type": "stream",
     "text": [
      "\r",
      " 34%|███▍      | 70/205 [00:19<00:35,  3.85it/s]"
     ]
    },
    {
     "name": "stdout",
     "output_type": "stream",
     "text": [
      "tensor(0.0093, device='cuda:0', grad_fn=<NllLossBackward0>)\n"
     ]
    },
    {
     "name": "stderr",
     "output_type": "stream",
     "text": [
      "\r",
      " 35%|███▍      | 71/205 [00:19<00:35,  3.77it/s]"
     ]
    },
    {
     "name": "stdout",
     "output_type": "stream",
     "text": [
      "tensor(0.0265, device='cuda:0', grad_fn=<NllLossBackward0>)\n"
     ]
    },
    {
     "name": "stderr",
     "output_type": "stream",
     "text": [
      "\r",
      " 35%|███▌      | 72/205 [00:19<00:34,  3.83it/s]"
     ]
    },
    {
     "name": "stdout",
     "output_type": "stream",
     "text": [
      "tensor(0.0313, device='cuda:0', grad_fn=<NllLossBackward0>)\n"
     ]
    },
    {
     "name": "stderr",
     "output_type": "stream",
     "text": [
      "\r",
      " 36%|███▌      | 73/205 [00:20<00:35,  3.75it/s]"
     ]
    },
    {
     "name": "stdout",
     "output_type": "stream",
     "text": [
      "tensor(0.0179, device='cuda:0', grad_fn=<NllLossBackward0>)\n"
     ]
    },
    {
     "name": "stderr",
     "output_type": "stream",
     "text": [
      "\r",
      " 36%|███▌      | 74/205 [00:20<00:39,  3.33it/s]"
     ]
    },
    {
     "name": "stdout",
     "output_type": "stream",
     "text": [
      "tensor(0.0243, device='cuda:0', grad_fn=<NllLossBackward0>)\n"
     ]
    },
    {
     "name": "stderr",
     "output_type": "stream",
     "text": [
      "\r",
      " 37%|███▋      | 75/205 [00:20<00:37,  3.47it/s]"
     ]
    },
    {
     "name": "stdout",
     "output_type": "stream",
     "text": [
      "tensor(0.0115, device='cuda:0', grad_fn=<NllLossBackward0>)\n"
     ]
    },
    {
     "name": "stderr",
     "output_type": "stream",
     "text": [
      "\r",
      " 37%|███▋      | 76/205 [00:21<00:36,  3.57it/s]"
     ]
    },
    {
     "name": "stdout",
     "output_type": "stream",
     "text": [
      "tensor(0.0231, device='cuda:0', grad_fn=<NllLossBackward0>)\n"
     ]
    },
    {
     "name": "stderr",
     "output_type": "stream",
     "text": [
      "\r",
      " 38%|███▊      | 77/205 [00:21<00:35,  3.64it/s]"
     ]
    },
    {
     "name": "stdout",
     "output_type": "stream",
     "text": [
      "tensor(0.0266, device='cuda:0', grad_fn=<NllLossBackward0>)\n"
     ]
    },
    {
     "name": "stderr",
     "output_type": "stream",
     "text": [
      "\r",
      " 38%|███▊      | 78/205 [00:21<00:35,  3.63it/s]"
     ]
    },
    {
     "name": "stdout",
     "output_type": "stream",
     "text": [
      "tensor(0.0155, device='cuda:0', grad_fn=<NllLossBackward0>)\n"
     ]
    },
    {
     "name": "stderr",
     "output_type": "stream",
     "text": [
      "\r",
      " 39%|███▊      | 79/205 [00:21<00:35,  3.59it/s]"
     ]
    },
    {
     "name": "stdout",
     "output_type": "stream",
     "text": [
      "tensor(0.0257, device='cuda:0', grad_fn=<NllLossBackward0>)\n"
     ]
    },
    {
     "name": "stderr",
     "output_type": "stream",
     "text": [
      "\r",
      " 39%|███▉      | 80/205 [00:22<00:34,  3.61it/s]"
     ]
    },
    {
     "name": "stdout",
     "output_type": "stream",
     "text": [
      "tensor(0.0144, device='cuda:0', grad_fn=<NllLossBackward0>)\n"
     ]
    },
    {
     "name": "stderr",
     "output_type": "stream",
     "text": [
      "\r",
      " 40%|███▉      | 81/205 [00:22<00:33,  3.67it/s]"
     ]
    },
    {
     "name": "stdout",
     "output_type": "stream",
     "text": [
      "tensor(0.0049, device='cuda:0', grad_fn=<NllLossBackward0>)\n"
     ]
    },
    {
     "name": "stderr",
     "output_type": "stream",
     "text": [
      "\r",
      " 40%|████      | 82/205 [00:22<00:33,  3.66it/s]"
     ]
    },
    {
     "name": "stdout",
     "output_type": "stream",
     "text": [
      "tensor(0.0168, device='cuda:0', grad_fn=<NllLossBackward0>)\n"
     ]
    },
    {
     "name": "stderr",
     "output_type": "stream",
     "text": [
      "\r",
      " 40%|████      | 83/205 [00:22<00:33,  3.69it/s]"
     ]
    },
    {
     "name": "stdout",
     "output_type": "stream",
     "text": [
      "tensor(0.0137, device='cuda:0', grad_fn=<NllLossBackward0>)\n"
     ]
    },
    {
     "name": "stderr",
     "output_type": "stream",
     "text": [
      "\r",
      " 41%|████      | 84/205 [00:23<00:34,  3.51it/s]"
     ]
    },
    {
     "name": "stdout",
     "output_type": "stream",
     "text": [
      "tensor(0.0218, device='cuda:0', grad_fn=<NllLossBackward0>)\n"
     ]
    },
    {
     "name": "stderr",
     "output_type": "stream",
     "text": [
      "\r",
      " 41%|████▏     | 85/205 [00:23<00:34,  3.48it/s]"
     ]
    },
    {
     "name": "stdout",
     "output_type": "stream",
     "text": [
      "tensor(0.0267, device='cuda:0', grad_fn=<NllLossBackward0>)\n"
     ]
    },
    {
     "name": "stderr",
     "output_type": "stream",
     "text": [
      "\r",
      " 42%|████▏     | 86/205 [00:23<00:34,  3.50it/s]"
     ]
    },
    {
     "name": "stdout",
     "output_type": "stream",
     "text": [
      "tensor(0.0172, device='cuda:0', grad_fn=<NllLossBackward0>)\n"
     ]
    },
    {
     "name": "stderr",
     "output_type": "stream",
     "text": [
      "\r",
      " 42%|████▏     | 87/205 [00:24<00:33,  3.47it/s]"
     ]
    },
    {
     "name": "stdout",
     "output_type": "stream",
     "text": [
      "tensor(0.0264, device='cuda:0', grad_fn=<NllLossBackward0>)\n"
     ]
    },
    {
     "name": "stderr",
     "output_type": "stream",
     "text": [
      "\r",
      " 43%|████▎     | 88/205 [00:24<00:32,  3.60it/s]"
     ]
    },
    {
     "name": "stdout",
     "output_type": "stream",
     "text": [
      "tensor(0.0271, device='cuda:0', grad_fn=<NllLossBackward0>)\n"
     ]
    },
    {
     "name": "stderr",
     "output_type": "stream",
     "text": [
      "\r",
      " 43%|████▎     | 89/205 [00:24<00:32,  3.56it/s]"
     ]
    },
    {
     "name": "stdout",
     "output_type": "stream",
     "text": [
      "tensor(0.0204, device='cuda:0', grad_fn=<NllLossBackward0>)\n"
     ]
    },
    {
     "name": "stderr",
     "output_type": "stream",
     "text": [
      "\r",
      " 44%|████▍     | 90/205 [00:24<00:31,  3.64it/s]"
     ]
    },
    {
     "name": "stdout",
     "output_type": "stream",
     "text": [
      "tensor(0.0286, device='cuda:0', grad_fn=<NllLossBackward0>)\n"
     ]
    },
    {
     "name": "stderr",
     "output_type": "stream",
     "text": [
      "\r",
      " 44%|████▍     | 91/205 [00:25<00:31,  3.62it/s]"
     ]
    },
    {
     "name": "stdout",
     "output_type": "stream",
     "text": [
      "tensor(0.0246, device='cuda:0', grad_fn=<NllLossBackward0>)\n"
     ]
    },
    {
     "name": "stderr",
     "output_type": "stream",
     "text": [
      "\r",
      " 45%|████▍     | 92/205 [00:25<00:32,  3.46it/s]"
     ]
    },
    {
     "name": "stdout",
     "output_type": "stream",
     "text": [
      "tensor(0.0235, device='cuda:0', grad_fn=<NllLossBackward0>)\n"
     ]
    },
    {
     "name": "stderr",
     "output_type": "stream",
     "text": [
      "\r",
      " 45%|████▌     | 93/205 [00:25<00:32,  3.48it/s]"
     ]
    },
    {
     "name": "stdout",
     "output_type": "stream",
     "text": [
      "tensor(0.0236, device='cuda:0', grad_fn=<NllLossBackward0>)\n",
      "tensor(0.0324, device='cuda:0', grad_fn=<NllLossBackward0>)\n"
     ]
    },
    {
     "name": "stderr",
     "output_type": "stream",
     "text": [
      " 46%|████▋     | 95/205 [00:26<00:35,  3.13it/s]"
     ]
    },
    {
     "name": "stdout",
     "output_type": "stream",
     "text": [
      "tensor(0.0176, device='cuda:0', grad_fn=<NllLossBackward0>)\n"
     ]
    },
    {
     "name": "stderr",
     "output_type": "stream",
     "text": [
      "\r",
      " 47%|████▋     | 96/205 [00:26<00:33,  3.23it/s]"
     ]
    },
    {
     "name": "stdout",
     "output_type": "stream",
     "text": [
      "tensor(0.0300, device='cuda:0', grad_fn=<NllLossBackward0>)\n"
     ]
    },
    {
     "name": "stderr",
     "output_type": "stream",
     "text": [
      "\r",
      " 47%|████▋     | 97/205 [00:27<00:33,  3.18it/s]"
     ]
    },
    {
     "name": "stdout",
     "output_type": "stream",
     "text": [
      "tensor(0.0191, device='cuda:0', grad_fn=<NllLossBackward0>)\n"
     ]
    },
    {
     "name": "stderr",
     "output_type": "stream",
     "text": [
      "\r",
      " 48%|████▊     | 98/205 [00:27<00:34,  3.13it/s]"
     ]
    },
    {
     "name": "stdout",
     "output_type": "stream",
     "text": [
      "tensor(0.0329, device='cuda:0', grad_fn=<NllLossBackward0>)\n"
     ]
    },
    {
     "name": "stderr",
     "output_type": "stream",
     "text": [
      "\r",
      " 48%|████▊     | 99/205 [00:27<00:32,  3.25it/s]"
     ]
    },
    {
     "name": "stdout",
     "output_type": "stream",
     "text": [
      "tensor(0.0104, device='cuda:0', grad_fn=<NllLossBackward0>)\n"
     ]
    },
    {
     "name": "stderr",
     "output_type": "stream",
     "text": [
      "\r",
      " 49%|████▉     | 100/205 [00:28<00:31,  3.35it/s]"
     ]
    },
    {
     "name": "stdout",
     "output_type": "stream",
     "text": [
      "tensor(0.0202, device='cuda:0', grad_fn=<NllLossBackward0>)\n"
     ]
    },
    {
     "name": "stderr",
     "output_type": "stream",
     "text": [
      "\r",
      " 49%|████▉     | 101/205 [00:28<00:32,  3.22it/s]"
     ]
    },
    {
     "name": "stdout",
     "output_type": "stream",
     "text": [
      "tensor(0.0355, device='cuda:0', grad_fn=<NllLossBackward0>)\n"
     ]
    },
    {
     "name": "stderr",
     "output_type": "stream",
     "text": [
      "\r",
      " 50%|████▉     | 102/205 [00:28<00:30,  3.40it/s]"
     ]
    },
    {
     "name": "stdout",
     "output_type": "stream",
     "text": [
      "tensor(0.0264, device='cuda:0', grad_fn=<NllLossBackward0>)\n"
     ]
    },
    {
     "name": "stderr",
     "output_type": "stream",
     "text": [
      "\r",
      " 50%|█████     | 103/205 [00:28<00:29,  3.43it/s]"
     ]
    },
    {
     "name": "stdout",
     "output_type": "stream",
     "text": [
      "tensor(0.0241, device='cuda:0', grad_fn=<NllLossBackward0>)\n"
     ]
    },
    {
     "name": "stderr",
     "output_type": "stream",
     "text": [
      "\r",
      " 51%|█████     | 104/205 [00:29<00:28,  3.59it/s]"
     ]
    },
    {
     "name": "stdout",
     "output_type": "stream",
     "text": [
      "tensor(0.0203, device='cuda:0', grad_fn=<NllLossBackward0>)\n"
     ]
    },
    {
     "name": "stderr",
     "output_type": "stream",
     "text": [
      "\r",
      " 51%|█████     | 105/205 [00:29<00:26,  3.74it/s]"
     ]
    },
    {
     "name": "stdout",
     "output_type": "stream",
     "text": [
      "tensor(0.0098, device='cuda:0', grad_fn=<NllLossBackward0>)\n"
     ]
    },
    {
     "name": "stderr",
     "output_type": "stream",
     "text": [
      "\r",
      " 52%|█████▏    | 106/205 [00:29<00:26,  3.70it/s]"
     ]
    },
    {
     "name": "stdout",
     "output_type": "stream",
     "text": [
      "tensor(0.0184, device='cuda:0', grad_fn=<NllLossBackward0>)\n"
     ]
    },
    {
     "name": "stderr",
     "output_type": "stream",
     "text": [
      "\r",
      " 52%|█████▏    | 107/205 [00:29<00:25,  3.84it/s]"
     ]
    },
    {
     "name": "stdout",
     "output_type": "stream",
     "text": [
      "tensor(0.0480, device='cuda:0', grad_fn=<NllLossBackward0>)\n"
     ]
    },
    {
     "name": "stderr",
     "output_type": "stream",
     "text": [
      "\r",
      " 53%|█████▎    | 108/205 [00:30<00:26,  3.63it/s]"
     ]
    },
    {
     "name": "stdout",
     "output_type": "stream",
     "text": [
      "tensor(0.0142, device='cuda:0', grad_fn=<NllLossBackward0>)\n"
     ]
    },
    {
     "name": "stderr",
     "output_type": "stream",
     "text": [
      "\r",
      " 53%|█████▎    | 109/205 [00:30<00:28,  3.42it/s]"
     ]
    },
    {
     "name": "stdout",
     "output_type": "stream",
     "text": [
      "tensor(0.0166, device='cuda:0', grad_fn=<NllLossBackward0>)\n"
     ]
    },
    {
     "name": "stderr",
     "output_type": "stream",
     "text": [
      "\r",
      " 54%|█████▎    | 110/205 [00:30<00:27,  3.46it/s]"
     ]
    },
    {
     "name": "stdout",
     "output_type": "stream",
     "text": [
      "tensor(0.0169, device='cuda:0', grad_fn=<NllLossBackward0>)\n"
     ]
    },
    {
     "name": "stderr",
     "output_type": "stream",
     "text": [
      "\r",
      " 54%|█████▍    | 111/205 [00:31<00:26,  3.50it/s]"
     ]
    },
    {
     "name": "stdout",
     "output_type": "stream",
     "text": [
      "tensor(0.0213, device='cuda:0', grad_fn=<NllLossBackward0>)\n"
     ]
    },
    {
     "name": "stderr",
     "output_type": "stream",
     "text": [
      "\r",
      " 55%|█████▍    | 112/205 [00:31<00:27,  3.40it/s]"
     ]
    },
    {
     "name": "stdout",
     "output_type": "stream",
     "text": [
      "tensor(0.0222, device='cuda:0', grad_fn=<NllLossBackward0>)\n"
     ]
    },
    {
     "name": "stderr",
     "output_type": "stream",
     "text": [
      "\r",
      " 55%|█████▌    | 113/205 [00:31<00:26,  3.43it/s]"
     ]
    },
    {
     "name": "stdout",
     "output_type": "stream",
     "text": [
      "tensor(0.0337, device='cuda:0', grad_fn=<NllLossBackward0>)\n"
     ]
    },
    {
     "name": "stderr",
     "output_type": "stream",
     "text": [
      "\r",
      " 56%|█████▌    | 114/205 [00:32<00:28,  3.14it/s]"
     ]
    },
    {
     "name": "stdout",
     "output_type": "stream",
     "text": [
      "tensor(0.0369, device='cuda:0', grad_fn=<NllLossBackward0>)\n"
     ]
    },
    {
     "name": "stderr",
     "output_type": "stream",
     "text": [
      "\r",
      " 56%|█████▌    | 115/205 [00:32<00:26,  3.36it/s]"
     ]
    },
    {
     "name": "stdout",
     "output_type": "stream",
     "text": [
      "tensor(0.0304, device='cuda:0', grad_fn=<NllLossBackward0>)\n"
     ]
    },
    {
     "name": "stderr",
     "output_type": "stream",
     "text": [
      "\r",
      " 57%|█████▋    | 116/205 [00:32<00:25,  3.44it/s]"
     ]
    },
    {
     "name": "stdout",
     "output_type": "stream",
     "text": [
      "tensor(0.0247, device='cuda:0', grad_fn=<NllLossBackward0>)\n"
     ]
    },
    {
     "name": "stderr",
     "output_type": "stream",
     "text": [
      "\r",
      " 57%|█████▋    | 117/205 [00:32<00:24,  3.54it/s]"
     ]
    },
    {
     "name": "stdout",
     "output_type": "stream",
     "text": [
      "tensor(0.0223, device='cuda:0', grad_fn=<NllLossBackward0>)\n"
     ]
    },
    {
     "name": "stderr",
     "output_type": "stream",
     "text": [
      "\r",
      " 58%|█████▊    | 118/205 [00:33<00:27,  3.20it/s]"
     ]
    },
    {
     "name": "stdout",
     "output_type": "stream",
     "text": [
      "tensor(0.0259, device='cuda:0', grad_fn=<NllLossBackward0>)\n"
     ]
    },
    {
     "name": "stderr",
     "output_type": "stream",
     "text": [
      "\r",
      " 58%|█████▊    | 119/205 [00:33<00:26,  3.24it/s]"
     ]
    },
    {
     "name": "stdout",
     "output_type": "stream",
     "text": [
      "tensor(0.0221, device='cuda:0', grad_fn=<NllLossBackward0>)\n"
     ]
    },
    {
     "name": "stderr",
     "output_type": "stream",
     "text": [
      "\r",
      " 59%|█████▊    | 120/205 [00:33<00:26,  3.25it/s]"
     ]
    },
    {
     "name": "stdout",
     "output_type": "stream",
     "text": [
      "tensor(0.0208, device='cuda:0', grad_fn=<NllLossBackward0>)\n"
     ]
    },
    {
     "name": "stderr",
     "output_type": "stream",
     "text": [
      "\r",
      " 59%|█████▉    | 121/205 [00:34<00:27,  3.06it/s]"
     ]
    },
    {
     "name": "stdout",
     "output_type": "stream",
     "text": [
      "tensor(0.0251, device='cuda:0', grad_fn=<NllLossBackward0>)\n"
     ]
    },
    {
     "name": "stderr",
     "output_type": "stream",
     "text": [
      "\r",
      " 60%|█████▉    | 122/205 [00:34<00:26,  3.19it/s]"
     ]
    },
    {
     "name": "stdout",
     "output_type": "stream",
     "text": [
      "tensor(0.0120, device='cuda:0', grad_fn=<NllLossBackward0>)\n"
     ]
    },
    {
     "name": "stderr",
     "output_type": "stream",
     "text": [
      "\r",
      " 60%|██████    | 123/205 [00:34<00:24,  3.36it/s]"
     ]
    },
    {
     "name": "stdout",
     "output_type": "stream",
     "text": [
      "tensor(0.0264, device='cuda:0', grad_fn=<NllLossBackward0>)\n"
     ]
    },
    {
     "name": "stderr",
     "output_type": "stream",
     "text": [
      "\r",
      " 60%|██████    | 124/205 [00:35<00:23,  3.48it/s]"
     ]
    },
    {
     "name": "stdout",
     "output_type": "stream",
     "text": [
      "tensor(0.0137, device='cuda:0', grad_fn=<NllLossBackward0>)\n"
     ]
    },
    {
     "name": "stderr",
     "output_type": "stream",
     "text": [
      "\r",
      " 61%|██████    | 125/205 [00:35<00:24,  3.24it/s]"
     ]
    },
    {
     "name": "stdout",
     "output_type": "stream",
     "text": [
      "tensor(0.0194, device='cuda:0', grad_fn=<NllLossBackward0>)\n"
     ]
    },
    {
     "name": "stderr",
     "output_type": "stream",
     "text": [
      "\r",
      " 61%|██████▏   | 126/205 [00:35<00:23,  3.32it/s]"
     ]
    },
    {
     "name": "stdout",
     "output_type": "stream",
     "text": [
      "tensor(0.0190, device='cuda:0', grad_fn=<NllLossBackward0>)\n"
     ]
    },
    {
     "name": "stderr",
     "output_type": "stream",
     "text": [
      "\r",
      " 62%|██████▏   | 127/205 [00:35<00:22,  3.49it/s]"
     ]
    },
    {
     "name": "stdout",
     "output_type": "stream",
     "text": [
      "tensor(0.0048, device='cuda:0', grad_fn=<NllLossBackward0>)\n"
     ]
    },
    {
     "name": "stderr",
     "output_type": "stream",
     "text": [
      "\r",
      " 62%|██████▏   | 128/205 [00:36<00:21,  3.58it/s]"
     ]
    },
    {
     "name": "stdout",
     "output_type": "stream",
     "text": [
      "tensor(0.0152, device='cuda:0', grad_fn=<NllLossBackward0>)\n"
     ]
    },
    {
     "name": "stderr",
     "output_type": "stream",
     "text": [
      "\r",
      " 63%|██████▎   | 129/205 [00:36<00:20,  3.65it/s]"
     ]
    },
    {
     "name": "stdout",
     "output_type": "stream",
     "text": [
      "tensor(0.0123, device='cuda:0', grad_fn=<NllLossBackward0>)\n"
     ]
    },
    {
     "name": "stderr",
     "output_type": "stream",
     "text": [
      "\r",
      " 63%|██████▎   | 130/205 [00:36<00:20,  3.70it/s]"
     ]
    },
    {
     "name": "stdout",
     "output_type": "stream",
     "text": [
      "tensor(0.0278, device='cuda:0', grad_fn=<NllLossBackward0>)\n"
     ]
    },
    {
     "name": "stderr",
     "output_type": "stream",
     "text": [
      "\r",
      " 64%|██████▍   | 131/205 [00:36<00:19,  3.79it/s]"
     ]
    },
    {
     "name": "stdout",
     "output_type": "stream",
     "text": [
      "tensor(0.0357, device='cuda:0', grad_fn=<NllLossBackward0>)\n"
     ]
    },
    {
     "name": "stderr",
     "output_type": "stream",
     "text": [
      "\r",
      " 64%|██████▍   | 132/205 [00:37<00:19,  3.74it/s]"
     ]
    },
    {
     "name": "stdout",
     "output_type": "stream",
     "text": [
      "tensor(0.0220, device='cuda:0', grad_fn=<NllLossBackward0>)\n"
     ]
    },
    {
     "name": "stderr",
     "output_type": "stream",
     "text": [
      "\r",
      " 65%|██████▍   | 133/205 [00:37<00:19,  3.75it/s]"
     ]
    },
    {
     "name": "stdout",
     "output_type": "stream",
     "text": [
      "tensor(0.0184, device='cuda:0', grad_fn=<NllLossBackward0>)\n"
     ]
    },
    {
     "name": "stderr",
     "output_type": "stream",
     "text": [
      "\r",
      " 65%|██████▌   | 134/205 [00:37<00:18,  3.87it/s]"
     ]
    },
    {
     "name": "stdout",
     "output_type": "stream",
     "text": [
      "tensor(0.0373, device='cuda:0', grad_fn=<NllLossBackward0>)\n"
     ]
    },
    {
     "name": "stderr",
     "output_type": "stream",
     "text": [
      "\r",
      " 66%|██████▌   | 135/205 [00:38<00:19,  3.55it/s]"
     ]
    },
    {
     "name": "stdout",
     "output_type": "stream",
     "text": [
      "tensor(0.0231, device='cuda:0', grad_fn=<NllLossBackward0>)\n"
     ]
    },
    {
     "name": "stderr",
     "output_type": "stream",
     "text": [
      "\r",
      " 66%|██████▋   | 136/205 [00:38<00:19,  3.60it/s]"
     ]
    },
    {
     "name": "stdout",
     "output_type": "stream",
     "text": [
      "tensor(0.0262, device='cuda:0', grad_fn=<NllLossBackward0>)\n"
     ]
    },
    {
     "name": "stderr",
     "output_type": "stream",
     "text": [
      "\r",
      " 67%|██████▋   | 137/205 [00:38<00:18,  3.66it/s]"
     ]
    },
    {
     "name": "stdout",
     "output_type": "stream",
     "text": [
      "tensor(0.0047, device='cuda:0', grad_fn=<NllLossBackward0>)\n"
     ]
    },
    {
     "name": "stderr",
     "output_type": "stream",
     "text": [
      "\r",
      " 67%|██████▋   | 138/205 [00:38<00:18,  3.65it/s]"
     ]
    },
    {
     "name": "stdout",
     "output_type": "stream",
     "text": [
      "tensor(0.0113, device='cuda:0', grad_fn=<NllLossBackward0>)\n"
     ]
    },
    {
     "name": "stderr",
     "output_type": "stream",
     "text": [
      "\r",
      " 68%|██████▊   | 139/205 [00:39<00:18,  3.52it/s]"
     ]
    },
    {
     "name": "stdout",
     "output_type": "stream",
     "text": [
      "tensor(0.0194, device='cuda:0', grad_fn=<NllLossBackward0>)\n"
     ]
    },
    {
     "name": "stderr",
     "output_type": "stream",
     "text": [
      "\r",
      " 68%|██████▊   | 140/205 [00:39<00:18,  3.42it/s]"
     ]
    },
    {
     "name": "stdout",
     "output_type": "stream",
     "text": [
      "tensor(0.0231, device='cuda:0', grad_fn=<NllLossBackward0>)\n"
     ]
    },
    {
     "name": "stderr",
     "output_type": "stream",
     "text": [
      "\r",
      " 69%|██████▉   | 141/205 [00:39<00:17,  3.57it/s]"
     ]
    },
    {
     "name": "stdout",
     "output_type": "stream",
     "text": [
      "tensor(0.0348, device='cuda:0', grad_fn=<NllLossBackward0>)\n"
     ]
    },
    {
     "name": "stderr",
     "output_type": "stream",
     "text": [
      "\r",
      " 69%|██████▉   | 142/205 [00:40<00:17,  3.60it/s]"
     ]
    },
    {
     "name": "stdout",
     "output_type": "stream",
     "text": [
      "tensor(0.0178, device='cuda:0', grad_fn=<NllLossBackward0>)\n"
     ]
    },
    {
     "name": "stderr",
     "output_type": "stream",
     "text": [
      "\r",
      " 70%|██████▉   | 143/205 [00:40<00:17,  3.47it/s]"
     ]
    },
    {
     "name": "stdout",
     "output_type": "stream",
     "text": [
      "tensor(0.0167, device='cuda:0', grad_fn=<NllLossBackward0>)\n"
     ]
    },
    {
     "name": "stderr",
     "output_type": "stream",
     "text": [
      "\r",
      " 70%|███████   | 144/205 [00:40<00:17,  3.51it/s]"
     ]
    },
    {
     "name": "stdout",
     "output_type": "stream",
     "text": [
      "tensor(0.0205, device='cuda:0', grad_fn=<NllLossBackward0>)\n"
     ]
    },
    {
     "name": "stderr",
     "output_type": "stream",
     "text": [
      "\r",
      " 71%|███████   | 145/205 [00:40<00:16,  3.54it/s]"
     ]
    },
    {
     "name": "stdout",
     "output_type": "stream",
     "text": [
      "tensor(0.0258, device='cuda:0', grad_fn=<NllLossBackward0>)\n"
     ]
    },
    {
     "name": "stderr",
     "output_type": "stream",
     "text": [
      "\r",
      " 71%|███████   | 146/205 [00:41<00:16,  3.50it/s]"
     ]
    },
    {
     "name": "stdout",
     "output_type": "stream",
     "text": [
      "tensor(0.0263, device='cuda:0', grad_fn=<NllLossBackward0>)\n"
     ]
    },
    {
     "name": "stderr",
     "output_type": "stream",
     "text": [
      "\r",
      " 72%|███████▏  | 147/205 [00:41<00:18,  3.19it/s]"
     ]
    },
    {
     "name": "stdout",
     "output_type": "stream",
     "text": [
      "tensor(0.0299, device='cuda:0', grad_fn=<NllLossBackward0>)\n"
     ]
    },
    {
     "name": "stderr",
     "output_type": "stream",
     "text": [
      "\r",
      " 72%|███████▏  | 148/205 [00:41<00:18,  3.15it/s]"
     ]
    },
    {
     "name": "stdout",
     "output_type": "stream",
     "text": [
      "tensor(0.0233, device='cuda:0', grad_fn=<NllLossBackward0>)\n"
     ]
    },
    {
     "name": "stderr",
     "output_type": "stream",
     "text": [
      "\r",
      " 73%|███████▎  | 149/205 [00:42<00:17,  3.17it/s]"
     ]
    },
    {
     "name": "stdout",
     "output_type": "stream",
     "text": [
      "tensor(0.0285, device='cuda:0', grad_fn=<NllLossBackward0>)\n"
     ]
    },
    {
     "name": "stderr",
     "output_type": "stream",
     "text": [
      "\r",
      " 73%|███████▎  | 150/205 [00:42<00:16,  3.25it/s]"
     ]
    },
    {
     "name": "stdout",
     "output_type": "stream",
     "text": [
      "tensor(0.0111, device='cuda:0', grad_fn=<NllLossBackward0>)\n"
     ]
    },
    {
     "name": "stderr",
     "output_type": "stream",
     "text": [
      "\r",
      " 74%|███████▎  | 151/205 [00:42<00:16,  3.32it/s]"
     ]
    },
    {
     "name": "stdout",
     "output_type": "stream",
     "text": [
      "tensor(0.0236, device='cuda:0', grad_fn=<NllLossBackward0>)\n"
     ]
    },
    {
     "name": "stderr",
     "output_type": "stream",
     "text": [
      "\r",
      " 74%|███████▍  | 152/205 [00:43<00:16,  3.25it/s]"
     ]
    },
    {
     "name": "stdout",
     "output_type": "stream",
     "text": [
      "tensor(0.0215, device='cuda:0', grad_fn=<NllLossBackward0>)\n"
     ]
    },
    {
     "name": "stderr",
     "output_type": "stream",
     "text": [
      "\r",
      " 75%|███████▍  | 153/205 [00:43<00:16,  3.24it/s]"
     ]
    },
    {
     "name": "stdout",
     "output_type": "stream",
     "text": [
      "tensor(0.0245, device='cuda:0', grad_fn=<NllLossBackward0>)\n"
     ]
    },
    {
     "name": "stderr",
     "output_type": "stream",
     "text": [
      "\r",
      " 75%|███████▌  | 154/205 [00:43<00:14,  3.47it/s]"
     ]
    },
    {
     "name": "stdout",
     "output_type": "stream",
     "text": [
      "tensor(0.0021, device='cuda:0', grad_fn=<NllLossBackward0>)\n"
     ]
    },
    {
     "name": "stderr",
     "output_type": "stream",
     "text": [
      "\r",
      " 76%|███████▌  | 155/205 [00:43<00:13,  3.63it/s]"
     ]
    },
    {
     "name": "stdout",
     "output_type": "stream",
     "text": [
      "tensor(0.0307, device='cuda:0', grad_fn=<NllLossBackward0>)\n"
     ]
    },
    {
     "name": "stderr",
     "output_type": "stream",
     "text": [
      "\r",
      " 76%|███████▌  | 156/205 [00:44<00:13,  3.51it/s]"
     ]
    },
    {
     "name": "stdout",
     "output_type": "stream",
     "text": [
      "tensor(0.0220, device='cuda:0', grad_fn=<NllLossBackward0>)\n"
     ]
    },
    {
     "name": "stderr",
     "output_type": "stream",
     "text": [
      "\r",
      " 77%|███████▋  | 157/205 [00:44<00:13,  3.49it/s]"
     ]
    },
    {
     "name": "stdout",
     "output_type": "stream",
     "text": [
      "tensor(0.0115, device='cuda:0', grad_fn=<NllLossBackward0>)\n"
     ]
    },
    {
     "name": "stderr",
     "output_type": "stream",
     "text": [
      "\r",
      " 77%|███████▋  | 158/205 [00:44<00:13,  3.41it/s]"
     ]
    },
    {
     "name": "stdout",
     "output_type": "stream",
     "text": [
      "tensor(0.0198, device='cuda:0', grad_fn=<NllLossBackward0>)\n"
     ]
    },
    {
     "name": "stderr",
     "output_type": "stream",
     "text": [
      "\r",
      " 78%|███████▊  | 159/205 [00:45<00:13,  3.47it/s]"
     ]
    },
    {
     "name": "stdout",
     "output_type": "stream",
     "text": [
      "tensor(0.0231, device='cuda:0', grad_fn=<NllLossBackward0>)\n"
     ]
    },
    {
     "name": "stderr",
     "output_type": "stream",
     "text": [
      "\r",
      " 78%|███████▊  | 160/205 [00:45<00:12,  3.62it/s]"
     ]
    },
    {
     "name": "stdout",
     "output_type": "stream",
     "text": [
      "tensor(0.0250, device='cuda:0', grad_fn=<NllLossBackward0>)\n"
     ]
    },
    {
     "name": "stderr",
     "output_type": "stream",
     "text": [
      "\r",
      " 79%|███████▊  | 161/205 [00:45<00:12,  3.50it/s]"
     ]
    },
    {
     "name": "stdout",
     "output_type": "stream",
     "text": [
      "tensor(0.0232, device='cuda:0', grad_fn=<NllLossBackward0>)\n"
     ]
    },
    {
     "name": "stderr",
     "output_type": "stream",
     "text": [
      "\r",
      " 79%|███████▉  | 162/205 [00:45<00:12,  3.40it/s]"
     ]
    },
    {
     "name": "stdout",
     "output_type": "stream",
     "text": [
      "tensor(0.0267, device='cuda:0', grad_fn=<NllLossBackward0>)\n"
     ]
    },
    {
     "name": "stderr",
     "output_type": "stream",
     "text": [
      "\r",
      " 80%|███████▉  | 163/205 [00:46<00:11,  3.58it/s]"
     ]
    },
    {
     "name": "stdout",
     "output_type": "stream",
     "text": [
      "tensor(0.0349, device='cuda:0', grad_fn=<NllLossBackward0>)\n"
     ]
    },
    {
     "name": "stderr",
     "output_type": "stream",
     "text": [
      "\r",
      " 80%|████████  | 164/205 [00:46<00:11,  3.66it/s]"
     ]
    },
    {
     "name": "stdout",
     "output_type": "stream",
     "text": [
      "tensor(0.0301, device='cuda:0', grad_fn=<NllLossBackward0>)\n"
     ]
    },
    {
     "name": "stderr",
     "output_type": "stream",
     "text": [
      "\r",
      " 80%|████████  | 165/205 [00:46<00:11,  3.49it/s]"
     ]
    },
    {
     "name": "stdout",
     "output_type": "stream",
     "text": [
      "tensor(0.0210, device='cuda:0', grad_fn=<NllLossBackward0>)\n"
     ]
    },
    {
     "name": "stderr",
     "output_type": "stream",
     "text": [
      "\r",
      " 81%|████████  | 166/205 [00:47<00:11,  3.52it/s]"
     ]
    },
    {
     "name": "stdout",
     "output_type": "stream",
     "text": [
      "tensor(0.0180, device='cuda:0', grad_fn=<NllLossBackward0>)\n"
     ]
    },
    {
     "name": "stderr",
     "output_type": "stream",
     "text": [
      "\r",
      " 81%|████████▏ | 167/205 [00:47<00:10,  3.52it/s]"
     ]
    },
    {
     "name": "stdout",
     "output_type": "stream",
     "text": [
      "tensor(0.0069, device='cuda:0', grad_fn=<NllLossBackward0>)\n"
     ]
    },
    {
     "name": "stderr",
     "output_type": "stream",
     "text": [
      "\r",
      " 82%|████████▏ | 168/205 [00:47<00:10,  3.61it/s]"
     ]
    },
    {
     "name": "stdout",
     "output_type": "stream",
     "text": [
      "tensor(0.0071, device='cuda:0', grad_fn=<NllLossBackward0>)\n"
     ]
    },
    {
     "name": "stderr",
     "output_type": "stream",
     "text": [
      "\r",
      " 82%|████████▏ | 169/205 [00:47<00:10,  3.45it/s]"
     ]
    },
    {
     "name": "stdout",
     "output_type": "stream",
     "text": [
      "tensor(0.0212, device='cuda:0', grad_fn=<NllLossBackward0>)\n"
     ]
    },
    {
     "name": "stderr",
     "output_type": "stream",
     "text": [
      "\r",
      " 83%|████████▎ | 170/205 [00:48<00:10,  3.45it/s]"
     ]
    },
    {
     "name": "stdout",
     "output_type": "stream",
     "text": [
      "tensor(0.0265, device='cuda:0', grad_fn=<NllLossBackward0>)\n"
     ]
    },
    {
     "name": "stderr",
     "output_type": "stream",
     "text": [
      "\r",
      " 83%|████████▎ | 171/205 [00:48<00:09,  3.48it/s]"
     ]
    },
    {
     "name": "stdout",
     "output_type": "stream",
     "text": [
      "tensor(0.0196, device='cuda:0', grad_fn=<NllLossBackward0>)\n"
     ]
    },
    {
     "name": "stderr",
     "output_type": "stream",
     "text": [
      "\r",
      " 84%|████████▍ | 172/205 [00:48<00:09,  3.58it/s]"
     ]
    },
    {
     "name": "stdout",
     "output_type": "stream",
     "text": [
      "tensor(0.0150, device='cuda:0', grad_fn=<NllLossBackward0>)\n"
     ]
    },
    {
     "name": "stderr",
     "output_type": "stream",
     "text": [
      "\r",
      " 84%|████████▍ | 173/205 [00:49<00:08,  3.70it/s]"
     ]
    },
    {
     "name": "stdout",
     "output_type": "stream",
     "text": [
      "tensor(0.0235, device='cuda:0', grad_fn=<NllLossBackward0>)\n"
     ]
    },
    {
     "name": "stderr",
     "output_type": "stream",
     "text": [
      "\r",
      " 85%|████████▍ | 174/205 [00:49<00:08,  3.65it/s]"
     ]
    },
    {
     "name": "stdout",
     "output_type": "stream",
     "text": [
      "tensor(0.0203, device='cuda:0', grad_fn=<NllLossBackward0>)\n"
     ]
    },
    {
     "name": "stderr",
     "output_type": "stream",
     "text": [
      "\r",
      " 85%|████████▌ | 175/205 [00:49<00:08,  3.35it/s]"
     ]
    },
    {
     "name": "stdout",
     "output_type": "stream",
     "text": [
      "tensor(0.0202, device='cuda:0', grad_fn=<NllLossBackward0>)\n"
     ]
    },
    {
     "name": "stderr",
     "output_type": "stream",
     "text": [
      "\r",
      " 86%|████████▌ | 176/205 [00:49<00:08,  3.35it/s]"
     ]
    },
    {
     "name": "stdout",
     "output_type": "stream",
     "text": [
      "tensor(0.0136, device='cuda:0', grad_fn=<NllLossBackward0>)\n"
     ]
    },
    {
     "name": "stderr",
     "output_type": "stream",
     "text": [
      "\r",
      " 86%|████████▋ | 177/205 [00:50<00:08,  3.48it/s]"
     ]
    },
    {
     "name": "stdout",
     "output_type": "stream",
     "text": [
      "tensor(0.0355, device='cuda:0', grad_fn=<NllLossBackward0>)\n"
     ]
    },
    {
     "name": "stderr",
     "output_type": "stream",
     "text": [
      "\r",
      " 87%|████████▋ | 178/205 [00:50<00:07,  3.51it/s]"
     ]
    },
    {
     "name": "stdout",
     "output_type": "stream",
     "text": [
      "tensor(0.0217, device='cuda:0', grad_fn=<NllLossBackward0>)\n"
     ]
    },
    {
     "name": "stderr",
     "output_type": "stream",
     "text": [
      "\r",
      " 87%|████████▋ | 179/205 [00:50<00:07,  3.58it/s]"
     ]
    },
    {
     "name": "stdout",
     "output_type": "stream",
     "text": [
      "tensor(0.0230, device='cuda:0', grad_fn=<NllLossBackward0>)\n"
     ]
    },
    {
     "name": "stderr",
     "output_type": "stream",
     "text": [
      "\r",
      " 88%|████████▊ | 180/205 [00:51<00:07,  3.50it/s]"
     ]
    },
    {
     "name": "stdout",
     "output_type": "stream",
     "text": [
      "tensor(0.0202, device='cuda:0', grad_fn=<NllLossBackward0>)\n"
     ]
    },
    {
     "name": "stderr",
     "output_type": "stream",
     "text": [
      "\r",
      " 88%|████████▊ | 181/205 [00:51<00:06,  3.53it/s]"
     ]
    },
    {
     "name": "stdout",
     "output_type": "stream",
     "text": [
      "tensor(0.0259, device='cuda:0', grad_fn=<NllLossBackward0>)\n"
     ]
    },
    {
     "name": "stderr",
     "output_type": "stream",
     "text": [
      "\r",
      " 89%|████████▉ | 182/205 [00:51<00:06,  3.60it/s]"
     ]
    },
    {
     "name": "stdout",
     "output_type": "stream",
     "text": [
      "tensor(0.0096, device='cuda:0', grad_fn=<NllLossBackward0>)\n"
     ]
    },
    {
     "name": "stderr",
     "output_type": "stream",
     "text": [
      "\r",
      " 89%|████████▉ | 183/205 [00:51<00:05,  3.68it/s]"
     ]
    },
    {
     "name": "stdout",
     "output_type": "stream",
     "text": [
      "tensor(0.0097, device='cuda:0', grad_fn=<NllLossBackward0>)\n"
     ]
    },
    {
     "name": "stderr",
     "output_type": "stream",
     "text": [
      "\r",
      " 90%|████████▉ | 184/205 [00:52<00:05,  3.82it/s]"
     ]
    },
    {
     "name": "stdout",
     "output_type": "stream",
     "text": [
      "tensor(0.0343, device='cuda:0', grad_fn=<NllLossBackward0>)\n"
     ]
    },
    {
     "name": "stderr",
     "output_type": "stream",
     "text": [
      "\r",
      " 90%|█████████ | 185/205 [00:52<00:05,  3.88it/s]"
     ]
    },
    {
     "name": "stdout",
     "output_type": "stream",
     "text": [
      "tensor(0.0044, device='cuda:0', grad_fn=<NllLossBackward0>)\n"
     ]
    },
    {
     "name": "stderr",
     "output_type": "stream",
     "text": [
      "\r",
      " 91%|█████████ | 186/205 [00:52<00:04,  3.86it/s]"
     ]
    },
    {
     "name": "stdout",
     "output_type": "stream",
     "text": [
      "tensor(0.0227, device='cuda:0', grad_fn=<NllLossBackward0>)\n"
     ]
    },
    {
     "name": "stderr",
     "output_type": "stream",
     "text": [
      "\r",
      " 91%|█████████ | 187/205 [00:52<00:04,  3.96it/s]"
     ]
    },
    {
     "name": "stdout",
     "output_type": "stream",
     "text": [
      "tensor(0.0407, device='cuda:0', grad_fn=<NllLossBackward0>)\n"
     ]
    },
    {
     "name": "stderr",
     "output_type": "stream",
     "text": [
      "\r",
      " 92%|█████████▏| 188/205 [00:53<00:04,  3.83it/s]"
     ]
    },
    {
     "name": "stdout",
     "output_type": "stream",
     "text": [
      "tensor(0.0122, device='cuda:0', grad_fn=<NllLossBackward0>)\n"
     ]
    },
    {
     "name": "stderr",
     "output_type": "stream",
     "text": [
      "\r",
      " 92%|█████████▏| 189/205 [00:53<00:04,  3.83it/s]"
     ]
    },
    {
     "name": "stdout",
     "output_type": "stream",
     "text": [
      "tensor(0.0152, device='cuda:0', grad_fn=<NllLossBackward0>)\n"
     ]
    },
    {
     "name": "stderr",
     "output_type": "stream",
     "text": [
      "\r",
      " 93%|█████████▎| 190/205 [00:53<00:03,  3.76it/s]"
     ]
    },
    {
     "name": "stdout",
     "output_type": "stream",
     "text": [
      "tensor(0.0199, device='cuda:0', grad_fn=<NllLossBackward0>)\n"
     ]
    },
    {
     "name": "stderr",
     "output_type": "stream",
     "text": [
      "\r",
      " 93%|█████████▎| 191/205 [00:53<00:03,  3.60it/s]"
     ]
    },
    {
     "name": "stdout",
     "output_type": "stream",
     "text": [
      "tensor(0.0112, device='cuda:0', grad_fn=<NllLossBackward0>)\n"
     ]
    },
    {
     "name": "stderr",
     "output_type": "stream",
     "text": [
      "\r",
      " 94%|█████████▎| 192/205 [00:54<00:03,  3.70it/s]"
     ]
    },
    {
     "name": "stdout",
     "output_type": "stream",
     "text": [
      "tensor(0.0158, device='cuda:0', grad_fn=<NllLossBackward0>)\n"
     ]
    },
    {
     "name": "stderr",
     "output_type": "stream",
     "text": [
      "\r",
      " 94%|█████████▍| 193/205 [00:54<00:03,  3.55it/s]"
     ]
    },
    {
     "name": "stdout",
     "output_type": "stream",
     "text": [
      "tensor(0.0174, device='cuda:0', grad_fn=<NllLossBackward0>)\n"
     ]
    },
    {
     "name": "stderr",
     "output_type": "stream",
     "text": [
      "\r",
      " 95%|█████████▍| 194/205 [00:54<00:03,  3.55it/s]"
     ]
    },
    {
     "name": "stdout",
     "output_type": "stream",
     "text": [
      "tensor(0.0179, device='cuda:0', grad_fn=<NllLossBackward0>)\n"
     ]
    },
    {
     "name": "stderr",
     "output_type": "stream",
     "text": [
      "\r",
      " 95%|█████████▌| 195/205 [00:55<00:02,  3.56it/s]"
     ]
    },
    {
     "name": "stdout",
     "output_type": "stream",
     "text": [
      "tensor(0.0173, device='cuda:0', grad_fn=<NllLossBackward0>)\n"
     ]
    },
    {
     "name": "stderr",
     "output_type": "stream",
     "text": [
      "\r",
      " 96%|█████████▌| 196/205 [00:55<00:02,  3.64it/s]"
     ]
    },
    {
     "name": "stdout",
     "output_type": "stream",
     "text": [
      "tensor(0.0247, device='cuda:0', grad_fn=<NllLossBackward0>)\n"
     ]
    },
    {
     "name": "stderr",
     "output_type": "stream",
     "text": [
      "\r",
      " 96%|█████████▌| 197/205 [00:55<00:02,  3.68it/s]"
     ]
    },
    {
     "name": "stdout",
     "output_type": "stream",
     "text": [
      "tensor(0.0222, device='cuda:0', grad_fn=<NllLossBackward0>)\n"
     ]
    },
    {
     "name": "stderr",
     "output_type": "stream",
     "text": [
      "\r",
      " 97%|█████████▋| 198/205 [00:55<00:01,  3.81it/s]"
     ]
    },
    {
     "name": "stdout",
     "output_type": "stream",
     "text": [
      "tensor(0.0255, device='cuda:0', grad_fn=<NllLossBackward0>)\n"
     ]
    },
    {
     "name": "stderr",
     "output_type": "stream",
     "text": [
      "\r",
      " 97%|█████████▋| 199/205 [00:56<00:01,  3.73it/s]"
     ]
    },
    {
     "name": "stdout",
     "output_type": "stream",
     "text": [
      "tensor(0.0244, device='cuda:0', grad_fn=<NllLossBackward0>)\n"
     ]
    },
    {
     "name": "stderr",
     "output_type": "stream",
     "text": [
      "\r",
      " 98%|█████████▊| 200/205 [00:56<00:01,  3.80it/s]"
     ]
    },
    {
     "name": "stdout",
     "output_type": "stream",
     "text": [
      "tensor(0.0221, device='cuda:0', grad_fn=<NllLossBackward0>)\n"
     ]
    },
    {
     "name": "stderr",
     "output_type": "stream",
     "text": [
      "\r",
      " 98%|█████████▊| 201/205 [00:56<00:01,  3.82it/s]"
     ]
    },
    {
     "name": "stdout",
     "output_type": "stream",
     "text": [
      "tensor(0.0172, device='cuda:0', grad_fn=<NllLossBackward0>)\n"
     ]
    },
    {
     "name": "stderr",
     "output_type": "stream",
     "text": [
      "\r",
      " 99%|█████████▊| 202/205 [00:56<00:00,  3.89it/s]"
     ]
    },
    {
     "name": "stdout",
     "output_type": "stream",
     "text": [
      "tensor(0.0312, device='cuda:0', grad_fn=<NllLossBackward0>)\n"
     ]
    },
    {
     "name": "stderr",
     "output_type": "stream",
     "text": [
      "\r",
      " 99%|█████████▉| 203/205 [00:57<00:00,  3.64it/s]"
     ]
    },
    {
     "name": "stdout",
     "output_type": "stream",
     "text": [
      "tensor(0.0162, device='cuda:0', grad_fn=<NllLossBackward0>)\n"
     ]
    },
    {
     "name": "stderr",
     "output_type": "stream",
     "text": [
      "\r",
      "100%|█████████▉| 204/205 [00:57<00:00,  3.67it/s]"
     ]
    },
    {
     "name": "stdout",
     "output_type": "stream",
     "text": [
      "tensor(0.0293, device='cuda:0', grad_fn=<NllLossBackward0>)\n"
     ]
    },
    {
     "name": "stderr",
     "output_type": "stream",
     "text": [
      "100%|██████████| 205/205 [00:57<00:00,  3.55it/s]\n"
     ]
    },
    {
     "name": "stdout",
     "output_type": "stream",
     "text": [
      "tensor(0.0435, device='cuda:0', grad_fn=<NllLossBackward0>)\n",
      "3\n"
     ]
    },
    {
     "name": "stderr",
     "output_type": "stream",
     "text": [
      "  0%|          | 1/205 [00:00<00:56,  3.59it/s]"
     ]
    },
    {
     "name": "stdout",
     "output_type": "stream",
     "text": [
      "tensor(0.0124, device='cuda:0', grad_fn=<NllLossBackward0>)\n"
     ]
    },
    {
     "name": "stderr",
     "output_type": "stream",
     "text": [
      "\r",
      "  1%|          | 2/205 [00:00<01:08,  2.96it/s]"
     ]
    },
    {
     "name": "stdout",
     "output_type": "stream",
     "text": [
      "tensor(0.0298, device='cuda:0', grad_fn=<NllLossBackward0>)\n"
     ]
    },
    {
     "name": "stderr",
     "output_type": "stream",
     "text": [
      "\r",
      "  1%|▏         | 3/205 [00:00<01:04,  3.16it/s]"
     ]
    },
    {
     "name": "stdout",
     "output_type": "stream",
     "text": [
      "tensor(0.0112, device='cuda:0', grad_fn=<NllLossBackward0>)\n"
     ]
    },
    {
     "name": "stderr",
     "output_type": "stream",
     "text": [
      "\r",
      "  2%|▏         | 4/205 [00:01<00:59,  3.38it/s]"
     ]
    },
    {
     "name": "stdout",
     "output_type": "stream",
     "text": [
      "tensor(0.0242, device='cuda:0', grad_fn=<NllLossBackward0>)\n"
     ]
    },
    {
     "name": "stderr",
     "output_type": "stream",
     "text": [
      "\r",
      "  2%|▏         | 5/205 [00:01<00:57,  3.47it/s]"
     ]
    },
    {
     "name": "stdout",
     "output_type": "stream",
     "text": [
      "tensor(0.0225, device='cuda:0', grad_fn=<NllLossBackward0>)\n"
     ]
    },
    {
     "name": "stderr",
     "output_type": "stream",
     "text": [
      "\r",
      "  3%|▎         | 6/205 [00:01<00:59,  3.37it/s]"
     ]
    },
    {
     "name": "stdout",
     "output_type": "stream",
     "text": [
      "tensor(0.0238, device='cuda:0', grad_fn=<NllLossBackward0>)\n"
     ]
    },
    {
     "name": "stderr",
     "output_type": "stream",
     "text": [
      "\r",
      "  3%|▎         | 7/205 [00:02<00:58,  3.38it/s]"
     ]
    },
    {
     "name": "stdout",
     "output_type": "stream",
     "text": [
      "tensor(0.0199, device='cuda:0', grad_fn=<NllLossBackward0>)\n"
     ]
    },
    {
     "name": "stderr",
     "output_type": "stream",
     "text": [
      "\r",
      "  4%|▍         | 8/205 [00:02<01:01,  3.22it/s]"
     ]
    },
    {
     "name": "stdout",
     "output_type": "stream",
     "text": [
      "tensor(0.0231, device='cuda:0', grad_fn=<NllLossBackward0>)\n"
     ]
    },
    {
     "name": "stderr",
     "output_type": "stream",
     "text": [
      "\r",
      "  4%|▍         | 9/205 [00:02<01:01,  3.20it/s]"
     ]
    },
    {
     "name": "stdout",
     "output_type": "stream",
     "text": [
      "tensor(0.0210, device='cuda:0', grad_fn=<NllLossBackward0>)\n"
     ]
    },
    {
     "name": "stderr",
     "output_type": "stream",
     "text": [
      "\r",
      "  5%|▍         | 10/205 [00:03<01:01,  3.17it/s]"
     ]
    },
    {
     "name": "stdout",
     "output_type": "stream",
     "text": [
      "tensor(0.0221, device='cuda:0', grad_fn=<NllLossBackward0>)\n"
     ]
    },
    {
     "name": "stderr",
     "output_type": "stream",
     "text": [
      "\r",
      "  5%|▌         | 11/205 [00:03<00:59,  3.29it/s]"
     ]
    },
    {
     "name": "stdout",
     "output_type": "stream",
     "text": [
      "tensor(0.0140, device='cuda:0', grad_fn=<NllLossBackward0>)\n"
     ]
    },
    {
     "name": "stderr",
     "output_type": "stream",
     "text": [
      "\r",
      "  6%|▌         | 12/205 [00:03<00:55,  3.47it/s]"
     ]
    },
    {
     "name": "stdout",
     "output_type": "stream",
     "text": [
      "tensor(0.0055, device='cuda:0', grad_fn=<NllLossBackward0>)\n"
     ]
    },
    {
     "name": "stderr",
     "output_type": "stream",
     "text": [
      "\r",
      "  6%|▋         | 13/205 [00:03<00:54,  3.53it/s]"
     ]
    },
    {
     "name": "stdout",
     "output_type": "stream",
     "text": [
      "tensor(0.0065, device='cuda:0', grad_fn=<NllLossBackward0>)\n"
     ]
    },
    {
     "name": "stderr",
     "output_type": "stream",
     "text": [
      "\r",
      "  7%|▋         | 14/205 [00:04<00:52,  3.61it/s]"
     ]
    },
    {
     "name": "stdout",
     "output_type": "stream",
     "text": [
      "tensor(0.0048, device='cuda:0', grad_fn=<NllLossBackward0>)\n"
     ]
    },
    {
     "name": "stderr",
     "output_type": "stream",
     "text": [
      "\r",
      "  7%|▋         | 15/205 [00:04<00:53,  3.58it/s]"
     ]
    },
    {
     "name": "stdout",
     "output_type": "stream",
     "text": [
      "tensor(0.0247, device='cuda:0', grad_fn=<NllLossBackward0>)\n"
     ]
    },
    {
     "name": "stderr",
     "output_type": "stream",
     "text": [
      "\r",
      "  8%|▊         | 16/205 [00:04<00:56,  3.36it/s]"
     ]
    },
    {
     "name": "stdout",
     "output_type": "stream",
     "text": [
      "tensor(0.0215, device='cuda:0', grad_fn=<NllLossBackward0>)\n"
     ]
    },
    {
     "name": "stderr",
     "output_type": "stream",
     "text": [
      "\r",
      "  8%|▊         | 17/205 [00:05<00:54,  3.47it/s]"
     ]
    },
    {
     "name": "stdout",
     "output_type": "stream",
     "text": [
      "tensor(0.0308, device='cuda:0', grad_fn=<NllLossBackward0>)\n"
     ]
    },
    {
     "name": "stderr",
     "output_type": "stream",
     "text": [
      "\r",
      "  9%|▉         | 18/205 [00:05<00:51,  3.66it/s]"
     ]
    },
    {
     "name": "stdout",
     "output_type": "stream",
     "text": [
      "tensor(0.0435, device='cuda:0', grad_fn=<NllLossBackward0>)\n"
     ]
    },
    {
     "name": "stderr",
     "output_type": "stream",
     "text": [
      "\r",
      "  9%|▉         | 19/205 [00:05<00:50,  3.67it/s]"
     ]
    },
    {
     "name": "stdout",
     "output_type": "stream",
     "text": [
      "tensor(0.0196, device='cuda:0', grad_fn=<NllLossBackward0>)\n"
     ]
    },
    {
     "name": "stderr",
     "output_type": "stream",
     "text": [
      "\r",
      " 10%|▉         | 20/205 [00:05<00:49,  3.72it/s]"
     ]
    },
    {
     "name": "stdout",
     "output_type": "stream",
     "text": [
      "tensor(0.0250, device='cuda:0', grad_fn=<NllLossBackward0>)\n"
     ]
    },
    {
     "name": "stderr",
     "output_type": "stream",
     "text": [
      "\r",
      " 10%|█         | 21/205 [00:06<00:49,  3.74it/s]"
     ]
    },
    {
     "name": "stdout",
     "output_type": "stream",
     "text": [
      "tensor(0.0174, device='cuda:0', grad_fn=<NllLossBackward0>)\n"
     ]
    },
    {
     "name": "stderr",
     "output_type": "stream",
     "text": [
      "\r",
      " 11%|█         | 22/205 [00:06<00:51,  3.54it/s]"
     ]
    },
    {
     "name": "stdout",
     "output_type": "stream",
     "text": [
      "tensor(0.0280, device='cuda:0', grad_fn=<NllLossBackward0>)\n"
     ]
    },
    {
     "name": "stderr",
     "output_type": "stream",
     "text": [
      "\r",
      " 11%|█         | 23/205 [00:06<00:49,  3.66it/s]"
     ]
    },
    {
     "name": "stdout",
     "output_type": "stream",
     "text": [
      "tensor(0.0356, device='cuda:0', grad_fn=<NllLossBackward0>)\n"
     ]
    },
    {
     "name": "stderr",
     "output_type": "stream",
     "text": [
      "\r",
      " 12%|█▏        | 24/205 [00:06<00:48,  3.73it/s]"
     ]
    },
    {
     "name": "stdout",
     "output_type": "stream",
     "text": [
      "tensor(0.0273, device='cuda:0', grad_fn=<NllLossBackward0>)\n"
     ]
    },
    {
     "name": "stderr",
     "output_type": "stream",
     "text": [
      "\r",
      " 12%|█▏        | 25/205 [00:07<00:49,  3.65it/s]"
     ]
    },
    {
     "name": "stdout",
     "output_type": "stream",
     "text": [
      "tensor(0.0170, device='cuda:0', grad_fn=<NllLossBackward0>)\n"
     ]
    },
    {
     "name": "stderr",
     "output_type": "stream",
     "text": [
      "\r",
      " 13%|█▎        | 26/205 [00:07<00:49,  3.61it/s]"
     ]
    },
    {
     "name": "stdout",
     "output_type": "stream",
     "text": [
      "tensor(0.0194, device='cuda:0', grad_fn=<NllLossBackward0>)\n"
     ]
    },
    {
     "name": "stderr",
     "output_type": "stream",
     "text": [
      "\r",
      " 13%|█▎        | 27/205 [00:07<00:47,  3.72it/s]"
     ]
    },
    {
     "name": "stdout",
     "output_type": "stream",
     "text": [
      "tensor(0.0396, device='cuda:0', grad_fn=<NllLossBackward0>)\n"
     ]
    },
    {
     "name": "stderr",
     "output_type": "stream",
     "text": [
      "\r",
      " 14%|█▎        | 28/205 [00:07<00:48,  3.68it/s]"
     ]
    },
    {
     "name": "stdout",
     "output_type": "stream",
     "text": [
      "tensor(0.0255, device='cuda:0', grad_fn=<NllLossBackward0>)\n"
     ]
    },
    {
     "name": "stderr",
     "output_type": "stream",
     "text": [
      "\r",
      " 14%|█▍        | 29/205 [00:08<00:47,  3.72it/s]"
     ]
    },
    {
     "name": "stdout",
     "output_type": "stream",
     "text": [
      "tensor(0.0301, device='cuda:0', grad_fn=<NllLossBackward0>)\n"
     ]
    },
    {
     "name": "stderr",
     "output_type": "stream",
     "text": [
      "\r",
      " 15%|█▍        | 30/205 [00:08<00:47,  3.68it/s]"
     ]
    },
    {
     "name": "stdout",
     "output_type": "stream",
     "text": [
      "tensor(0.0145, device='cuda:0', grad_fn=<NllLossBackward0>)\n"
     ]
    },
    {
     "name": "stderr",
     "output_type": "stream",
     "text": [
      "\r",
      " 15%|█▌        | 31/205 [00:08<00:45,  3.81it/s]"
     ]
    },
    {
     "name": "stdout",
     "output_type": "stream",
     "text": [
      "tensor(0.0268, device='cuda:0', grad_fn=<NllLossBackward0>)\n"
     ]
    },
    {
     "name": "stderr",
     "output_type": "stream",
     "text": [
      "\r",
      " 16%|█▌        | 32/205 [00:09<00:47,  3.62it/s]"
     ]
    },
    {
     "name": "stdout",
     "output_type": "stream",
     "text": [
      "tensor(0.0234, device='cuda:0', grad_fn=<NllLossBackward0>)\n"
     ]
    },
    {
     "name": "stderr",
     "output_type": "stream",
     "text": [
      "\r",
      " 16%|█▌        | 33/205 [00:09<00:48,  3.55it/s]"
     ]
    },
    {
     "name": "stdout",
     "output_type": "stream",
     "text": [
      "tensor(0.0097, device='cuda:0', grad_fn=<NllLossBackward0>)\n"
     ]
    },
    {
     "name": "stderr",
     "output_type": "stream",
     "text": [
      "\r",
      " 17%|█▋        | 34/205 [00:09<00:47,  3.57it/s]"
     ]
    },
    {
     "name": "stdout",
     "output_type": "stream",
     "text": [
      "tensor(0.0201, device='cuda:0', grad_fn=<NllLossBackward0>)\n"
     ]
    },
    {
     "name": "stderr",
     "output_type": "stream",
     "text": [
      "\r",
      " 17%|█▋        | 35/205 [00:09<00:49,  3.47it/s]"
     ]
    },
    {
     "name": "stdout",
     "output_type": "stream",
     "text": [
      "tensor(0.0177, device='cuda:0', grad_fn=<NllLossBackward0>)\n"
     ]
    },
    {
     "name": "stderr",
     "output_type": "stream",
     "text": [
      "\r",
      " 18%|█▊        | 36/205 [00:10<00:49,  3.45it/s]"
     ]
    },
    {
     "name": "stdout",
     "output_type": "stream",
     "text": [
      "tensor(0.0168, device='cuda:0', grad_fn=<NllLossBackward0>)\n"
     ]
    },
    {
     "name": "stderr",
     "output_type": "stream",
     "text": [
      "\r",
      " 18%|█▊        | 37/205 [00:10<00:46,  3.59it/s]"
     ]
    },
    {
     "name": "stdout",
     "output_type": "stream",
     "text": [
      "tensor(0.0400, device='cuda:0', grad_fn=<NllLossBackward0>)\n"
     ]
    },
    {
     "name": "stderr",
     "output_type": "stream",
     "text": [
      "\r",
      " 19%|█▊        | 38/205 [00:10<00:44,  3.74it/s]"
     ]
    },
    {
     "name": "stdout",
     "output_type": "stream",
     "text": [
      "tensor(0.0362, device='cuda:0', grad_fn=<NllLossBackward0>)\n"
     ]
    },
    {
     "name": "stderr",
     "output_type": "stream",
     "text": [
      "\r",
      " 19%|█▉        | 39/205 [00:11<00:45,  3.67it/s]"
     ]
    },
    {
     "name": "stdout",
     "output_type": "stream",
     "text": [
      "tensor(0.0173, device='cuda:0', grad_fn=<NllLossBackward0>)\n"
     ]
    },
    {
     "name": "stderr",
     "output_type": "stream",
     "text": [
      "\r",
      " 20%|█▉        | 40/205 [00:11<00:45,  3.63it/s]"
     ]
    },
    {
     "name": "stdout",
     "output_type": "stream",
     "text": [
      "tensor(0.0258, device='cuda:0', grad_fn=<NllLossBackward0>)\n"
     ]
    },
    {
     "name": "stderr",
     "output_type": "stream",
     "text": [
      "\r",
      " 20%|██        | 41/205 [00:11<00:45,  3.62it/s]"
     ]
    },
    {
     "name": "stdout",
     "output_type": "stream",
     "text": [
      "tensor(0.0226, device='cuda:0', grad_fn=<NllLossBackward0>)\n"
     ]
    },
    {
     "name": "stderr",
     "output_type": "stream",
     "text": [
      "\r",
      " 20%|██        | 42/205 [00:11<00:43,  3.78it/s]"
     ]
    },
    {
     "name": "stdout",
     "output_type": "stream",
     "text": [
      "tensor(0.0372, device='cuda:0', grad_fn=<NllLossBackward0>)\n"
     ]
    },
    {
     "name": "stderr",
     "output_type": "stream",
     "text": [
      "\r",
      " 21%|██        | 43/205 [00:12<00:43,  3.73it/s]"
     ]
    },
    {
     "name": "stdout",
     "output_type": "stream",
     "text": [
      "tensor(0.0302, device='cuda:0', grad_fn=<NllLossBackward0>)\n"
     ]
    },
    {
     "name": "stderr",
     "output_type": "stream",
     "text": [
      "\r",
      " 21%|██▏       | 44/205 [00:12<00:43,  3.74it/s]"
     ]
    },
    {
     "name": "stdout",
     "output_type": "stream",
     "text": [
      "tensor(0.0204, device='cuda:0', grad_fn=<NllLossBackward0>)\n"
     ]
    },
    {
     "name": "stderr",
     "output_type": "stream",
     "text": [
      "\r",
      " 22%|██▏       | 45/205 [00:12<00:43,  3.69it/s]"
     ]
    },
    {
     "name": "stdout",
     "output_type": "stream",
     "text": [
      "tensor(0.0169, device='cuda:0', grad_fn=<NllLossBackward0>)\n"
     ]
    },
    {
     "name": "stderr",
     "output_type": "stream",
     "text": [
      "\r",
      " 22%|██▏       | 46/205 [00:12<00:43,  3.66it/s]"
     ]
    },
    {
     "name": "stdout",
     "output_type": "stream",
     "text": [
      "tensor(0.0179, device='cuda:0', grad_fn=<NllLossBackward0>)\n"
     ]
    },
    {
     "name": "stderr",
     "output_type": "stream",
     "text": [
      "\r",
      " 23%|██▎       | 47/205 [00:13<00:42,  3.70it/s]"
     ]
    },
    {
     "name": "stdout",
     "output_type": "stream",
     "text": [
      "tensor(0.0346, device='cuda:0', grad_fn=<NllLossBackward0>)\n"
     ]
    },
    {
     "name": "stderr",
     "output_type": "stream",
     "text": [
      "\r",
      " 23%|██▎       | 48/205 [00:13<00:41,  3.78it/s]"
     ]
    },
    {
     "name": "stdout",
     "output_type": "stream",
     "text": [
      "tensor(0.0373, device='cuda:0', grad_fn=<NllLossBackward0>)\n"
     ]
    },
    {
     "name": "stderr",
     "output_type": "stream",
     "text": [
      "\r",
      " 24%|██▍       | 49/205 [00:13<00:40,  3.85it/s]"
     ]
    },
    {
     "name": "stdout",
     "output_type": "stream",
     "text": [
      "tensor(0.0067, device='cuda:0', grad_fn=<NllLossBackward0>)\n"
     ]
    },
    {
     "name": "stderr",
     "output_type": "stream",
     "text": [
      "\r",
      " 24%|██▍       | 50/205 [00:13<00:40,  3.85it/s]"
     ]
    },
    {
     "name": "stdout",
     "output_type": "stream",
     "text": [
      "tensor(0.0183, device='cuda:0', grad_fn=<NllLossBackward0>)\n"
     ]
    },
    {
     "name": "stderr",
     "output_type": "stream",
     "text": [
      "\r",
      " 25%|██▍       | 51/205 [00:14<00:41,  3.73it/s]"
     ]
    },
    {
     "name": "stdout",
     "output_type": "stream",
     "text": [
      "tensor(0.0132, device='cuda:0', grad_fn=<NllLossBackward0>)\n"
     ]
    },
    {
     "name": "stderr",
     "output_type": "stream",
     "text": [
      "\r",
      " 25%|██▌       | 52/205 [00:14<00:43,  3.54it/s]"
     ]
    },
    {
     "name": "stdout",
     "output_type": "stream",
     "text": [
      "tensor(0.0241, device='cuda:0', grad_fn=<NllLossBackward0>)\n"
     ]
    },
    {
     "name": "stderr",
     "output_type": "stream",
     "text": [
      "\r",
      " 26%|██▌       | 53/205 [00:14<00:41,  3.65it/s]"
     ]
    },
    {
     "name": "stdout",
     "output_type": "stream",
     "text": [
      "tensor(0.0283, device='cuda:0', grad_fn=<NllLossBackward0>)\n"
     ]
    },
    {
     "name": "stderr",
     "output_type": "stream",
     "text": [
      "\r",
      " 26%|██▋       | 54/205 [00:15<00:41,  3.64it/s]"
     ]
    },
    {
     "name": "stdout",
     "output_type": "stream",
     "text": [
      "tensor(0.0262, device='cuda:0', grad_fn=<NllLossBackward0>)\n"
     ]
    },
    {
     "name": "stderr",
     "output_type": "stream",
     "text": [
      "\r",
      " 27%|██▋       | 55/205 [00:15<00:41,  3.62it/s]"
     ]
    },
    {
     "name": "stdout",
     "output_type": "stream",
     "text": [
      "tensor(0.0159, device='cuda:0', grad_fn=<NllLossBackward0>)\n"
     ]
    },
    {
     "name": "stderr",
     "output_type": "stream",
     "text": [
      "\r",
      " 27%|██▋       | 56/205 [00:15<00:40,  3.68it/s]"
     ]
    },
    {
     "name": "stdout",
     "output_type": "stream",
     "text": [
      "tensor(0.0122, device='cuda:0', grad_fn=<NllLossBackward0>)\n"
     ]
    },
    {
     "name": "stderr",
     "output_type": "stream",
     "text": [
      "\r",
      " 28%|██▊       | 57/205 [00:15<00:41,  3.53it/s]"
     ]
    },
    {
     "name": "stdout",
     "output_type": "stream",
     "text": [
      "tensor(0.0108, device='cuda:0', grad_fn=<NllLossBackward0>)\n"
     ]
    },
    {
     "name": "stderr",
     "output_type": "stream",
     "text": [
      "\r",
      " 28%|██▊       | 58/205 [00:16<00:41,  3.55it/s]"
     ]
    },
    {
     "name": "stdout",
     "output_type": "stream",
     "text": [
      "tensor(0.0210, device='cuda:0', grad_fn=<NllLossBackward0>)\n"
     ]
    },
    {
     "name": "stderr",
     "output_type": "stream",
     "text": [
      "\r",
      " 29%|██▉       | 59/205 [00:16<00:39,  3.68it/s]"
     ]
    },
    {
     "name": "stdout",
     "output_type": "stream",
     "text": [
      "tensor(0.0040, device='cuda:0', grad_fn=<NllLossBackward0>)\n"
     ]
    },
    {
     "name": "stderr",
     "output_type": "stream",
     "text": [
      "\r",
      " 29%|██▉       | 60/205 [00:16<00:40,  3.62it/s]"
     ]
    },
    {
     "name": "stdout",
     "output_type": "stream",
     "text": [
      "tensor(0.0262, device='cuda:0', grad_fn=<NllLossBackward0>)\n"
     ]
    },
    {
     "name": "stderr",
     "output_type": "stream",
     "text": [
      "\r",
      " 30%|██▉       | 61/205 [00:17<00:39,  3.63it/s]"
     ]
    },
    {
     "name": "stdout",
     "output_type": "stream",
     "text": [
      "tensor(0.0187, device='cuda:0', grad_fn=<NllLossBackward0>)\n"
     ]
    },
    {
     "name": "stderr",
     "output_type": "stream",
     "text": [
      "\r",
      " 30%|███       | 62/205 [00:17<00:37,  3.78it/s]"
     ]
    },
    {
     "name": "stdout",
     "output_type": "stream",
     "text": [
      "tensor(0.0265, device='cuda:0', grad_fn=<NllLossBackward0>)\n"
     ]
    },
    {
     "name": "stderr",
     "output_type": "stream",
     "text": [
      "\r",
      " 31%|███       | 63/205 [00:17<00:36,  3.87it/s]"
     ]
    },
    {
     "name": "stdout",
     "output_type": "stream",
     "text": [
      "tensor(0.0166, device='cuda:0', grad_fn=<NllLossBackward0>)\n"
     ]
    },
    {
     "name": "stderr",
     "output_type": "stream",
     "text": [
      "\r",
      " 31%|███       | 64/205 [00:17<00:37,  3.81it/s]"
     ]
    },
    {
     "name": "stdout",
     "output_type": "stream",
     "text": [
      "tensor(0.0283, device='cuda:0', grad_fn=<NllLossBackward0>)\n"
     ]
    },
    {
     "name": "stderr",
     "output_type": "stream",
     "text": [
      "\r",
      " 32%|███▏      | 65/205 [00:18<00:35,  3.91it/s]"
     ]
    },
    {
     "name": "stdout",
     "output_type": "stream",
     "text": [
      "tensor(0.0202, device='cuda:0', grad_fn=<NllLossBackward0>)\n"
     ]
    },
    {
     "name": "stderr",
     "output_type": "stream",
     "text": [
      "\r",
      " 32%|███▏      | 66/205 [00:18<00:36,  3.84it/s]"
     ]
    },
    {
     "name": "stdout",
     "output_type": "stream",
     "text": [
      "tensor(0.0091, device='cuda:0', grad_fn=<NllLossBackward0>)\n"
     ]
    },
    {
     "name": "stderr",
     "output_type": "stream",
     "text": [
      "\r",
      " 33%|███▎      | 67/205 [00:18<00:36,  3.73it/s]"
     ]
    },
    {
     "name": "stdout",
     "output_type": "stream",
     "text": [
      "tensor(0.0170, device='cuda:0', grad_fn=<NllLossBackward0>)\n"
     ]
    },
    {
     "name": "stderr",
     "output_type": "stream",
     "text": [
      "\r",
      " 33%|███▎      | 68/205 [00:18<00:36,  3.80it/s]"
     ]
    },
    {
     "name": "stdout",
     "output_type": "stream",
     "text": [
      "tensor(0.0261, device='cuda:0', grad_fn=<NllLossBackward0>)\n"
     ]
    },
    {
     "name": "stderr",
     "output_type": "stream",
     "text": [
      "\r",
      " 34%|███▎      | 69/205 [00:19<00:36,  3.78it/s]"
     ]
    },
    {
     "name": "stdout",
     "output_type": "stream",
     "text": [
      "tensor(0.0259, device='cuda:0', grad_fn=<NllLossBackward0>)\n"
     ]
    },
    {
     "name": "stderr",
     "output_type": "stream",
     "text": [
      "\r",
      " 34%|███▍      | 70/205 [00:19<00:35,  3.85it/s]"
     ]
    },
    {
     "name": "stdout",
     "output_type": "stream",
     "text": [
      "tensor(0.0089, device='cuda:0', grad_fn=<NllLossBackward0>)\n"
     ]
    },
    {
     "name": "stderr",
     "output_type": "stream",
     "text": [
      "\r",
      " 35%|███▍      | 71/205 [00:19<00:35,  3.77it/s]"
     ]
    },
    {
     "name": "stdout",
     "output_type": "stream",
     "text": [
      "tensor(0.0256, device='cuda:0', grad_fn=<NllLossBackward0>)\n"
     ]
    },
    {
     "name": "stderr",
     "output_type": "stream",
     "text": [
      "\r",
      " 35%|███▌      | 72/205 [00:19<00:34,  3.83it/s]"
     ]
    },
    {
     "name": "stdout",
     "output_type": "stream",
     "text": [
      "tensor(0.0309, device='cuda:0', grad_fn=<NllLossBackward0>)\n"
     ]
    },
    {
     "name": "stderr",
     "output_type": "stream",
     "text": [
      "\r",
      " 36%|███▌      | 73/205 [00:20<00:35,  3.76it/s]"
     ]
    },
    {
     "name": "stdout",
     "output_type": "stream",
     "text": [
      "tensor(0.0181, device='cuda:0', grad_fn=<NllLossBackward0>)\n"
     ]
    },
    {
     "name": "stderr",
     "output_type": "stream",
     "text": [
      "\r",
      " 36%|███▌      | 74/205 [00:20<00:39,  3.33it/s]"
     ]
    },
    {
     "name": "stdout",
     "output_type": "stream",
     "text": [
      "tensor(0.0224, device='cuda:0', grad_fn=<NllLossBackward0>)\n"
     ]
    },
    {
     "name": "stderr",
     "output_type": "stream",
     "text": [
      "\r",
      " 37%|███▋      | 75/205 [00:20<00:37,  3.48it/s]"
     ]
    },
    {
     "name": "stdout",
     "output_type": "stream",
     "text": [
      "tensor(0.0112, device='cuda:0', grad_fn=<NllLossBackward0>)\n"
     ]
    },
    {
     "name": "stderr",
     "output_type": "stream",
     "text": [
      "\r",
      " 37%|███▋      | 76/205 [00:21<00:36,  3.57it/s]"
     ]
    },
    {
     "name": "stdout",
     "output_type": "stream",
     "text": [
      "tensor(0.0227, device='cuda:0', grad_fn=<NllLossBackward0>)\n"
     ]
    },
    {
     "name": "stderr",
     "output_type": "stream",
     "text": [
      "\r",
      " 38%|███▊      | 77/205 [00:21<00:35,  3.64it/s]"
     ]
    },
    {
     "name": "stdout",
     "output_type": "stream",
     "text": [
      "tensor(0.0260, device='cuda:0', grad_fn=<NllLossBackward0>)\n"
     ]
    },
    {
     "name": "stderr",
     "output_type": "stream",
     "text": [
      "\r",
      " 38%|███▊      | 78/205 [00:21<00:35,  3.63it/s]"
     ]
    },
    {
     "name": "stdout",
     "output_type": "stream",
     "text": [
      "tensor(0.0152, device='cuda:0', grad_fn=<NllLossBackward0>)\n"
     ]
    },
    {
     "name": "stderr",
     "output_type": "stream",
     "text": [
      "\r",
      " 39%|███▊      | 79/205 [00:21<00:35,  3.59it/s]"
     ]
    },
    {
     "name": "stdout",
     "output_type": "stream",
     "text": [
      "tensor(0.0243, device='cuda:0', grad_fn=<NllLossBackward0>)\n"
     ]
    },
    {
     "name": "stderr",
     "output_type": "stream",
     "text": [
      "\r",
      " 39%|███▉      | 80/205 [00:22<00:34,  3.61it/s]"
     ]
    },
    {
     "name": "stdout",
     "output_type": "stream",
     "text": [
      "tensor(0.0133, device='cuda:0', grad_fn=<NllLossBackward0>)\n"
     ]
    },
    {
     "name": "stderr",
     "output_type": "stream",
     "text": [
      "\r",
      " 40%|███▉      | 81/205 [00:22<00:33,  3.67it/s]"
     ]
    },
    {
     "name": "stdout",
     "output_type": "stream",
     "text": [
      "tensor(0.0046, device='cuda:0', grad_fn=<NllLossBackward0>)\n"
     ]
    },
    {
     "name": "stderr",
     "output_type": "stream",
     "text": [
      "\r",
      " 40%|████      | 82/205 [00:22<00:33,  3.66it/s]"
     ]
    },
    {
     "name": "stdout",
     "output_type": "stream",
     "text": [
      "tensor(0.0160, device='cuda:0', grad_fn=<NllLossBackward0>)\n"
     ]
    },
    {
     "name": "stderr",
     "output_type": "stream",
     "text": [
      "\r",
      " 40%|████      | 83/205 [00:22<00:33,  3.69it/s]"
     ]
    },
    {
     "name": "stdout",
     "output_type": "stream",
     "text": [
      "tensor(0.0134, device='cuda:0', grad_fn=<NllLossBackward0>)\n"
     ]
    },
    {
     "name": "stderr",
     "output_type": "stream",
     "text": [
      "\r",
      " 41%|████      | 84/205 [00:23<00:34,  3.51it/s]"
     ]
    },
    {
     "name": "stdout",
     "output_type": "stream",
     "text": [
      "tensor(0.0211, device='cuda:0', grad_fn=<NllLossBackward0>)\n"
     ]
    },
    {
     "name": "stderr",
     "output_type": "stream",
     "text": [
      "\r",
      " 41%|████▏     | 85/205 [00:23<00:34,  3.48it/s]"
     ]
    },
    {
     "name": "stdout",
     "output_type": "stream",
     "text": [
      "tensor(0.0254, device='cuda:0', grad_fn=<NllLossBackward0>)\n"
     ]
    },
    {
     "name": "stderr",
     "output_type": "stream",
     "text": [
      "\r",
      " 42%|████▏     | 86/205 [00:23<00:33,  3.50it/s]"
     ]
    },
    {
     "name": "stdout",
     "output_type": "stream",
     "text": [
      "tensor(0.0159, device='cuda:0', grad_fn=<NllLossBackward0>)\n"
     ]
    },
    {
     "name": "stderr",
     "output_type": "stream",
     "text": [
      "\r",
      " 42%|████▏     | 87/205 [00:24<00:33,  3.47it/s]"
     ]
    },
    {
     "name": "stdout",
     "output_type": "stream",
     "text": [
      "tensor(0.0249, device='cuda:0', grad_fn=<NllLossBackward0>)\n"
     ]
    },
    {
     "name": "stderr",
     "output_type": "stream",
     "text": [
      "\r",
      " 43%|████▎     | 88/205 [00:24<00:32,  3.60it/s]"
     ]
    },
    {
     "name": "stdout",
     "output_type": "stream",
     "text": [
      "tensor(0.0264, device='cuda:0', grad_fn=<NllLossBackward0>)\n"
     ]
    },
    {
     "name": "stderr",
     "output_type": "stream",
     "text": [
      "\r",
      " 43%|████▎     | 89/205 [00:24<00:32,  3.56it/s]"
     ]
    },
    {
     "name": "stdout",
     "output_type": "stream",
     "text": [
      "tensor(0.0192, device='cuda:0', grad_fn=<NllLossBackward0>)\n"
     ]
    },
    {
     "name": "stderr",
     "output_type": "stream",
     "text": [
      "\r",
      " 44%|████▍     | 90/205 [00:24<00:31,  3.64it/s]"
     ]
    },
    {
     "name": "stdout",
     "output_type": "stream",
     "text": [
      "tensor(0.0272, device='cuda:0', grad_fn=<NllLossBackward0>)\n"
     ]
    },
    {
     "name": "stderr",
     "output_type": "stream",
     "text": [
      "\r",
      " 44%|████▍     | 91/205 [00:25<00:31,  3.62it/s]"
     ]
    },
    {
     "name": "stdout",
     "output_type": "stream",
     "text": [
      "tensor(0.0236, device='cuda:0', grad_fn=<NllLossBackward0>)\n"
     ]
    },
    {
     "name": "stderr",
     "output_type": "stream",
     "text": [
      "\r",
      " 45%|████▍     | 92/205 [00:25<00:32,  3.46it/s]"
     ]
    },
    {
     "name": "stdout",
     "output_type": "stream",
     "text": [
      "tensor(0.0233, device='cuda:0', grad_fn=<NllLossBackward0>)\n"
     ]
    },
    {
     "name": "stderr",
     "output_type": "stream",
     "text": [
      "\r",
      " 45%|████▌     | 93/205 [00:25<00:32,  3.49it/s]"
     ]
    },
    {
     "name": "stdout",
     "output_type": "stream",
     "text": [
      "tensor(0.0227, device='cuda:0', grad_fn=<NllLossBackward0>)\n",
      "tensor(0.0300, device='cuda:0', grad_fn=<NllLossBackward0>)\n"
     ]
    },
    {
     "name": "stderr",
     "output_type": "stream",
     "text": [
      " 46%|████▋     | 95/205 [00:26<00:35,  3.13it/s]"
     ]
    },
    {
     "name": "stdout",
     "output_type": "stream",
     "text": [
      "tensor(0.0172, device='cuda:0', grad_fn=<NllLossBackward0>)\n"
     ]
    },
    {
     "name": "stderr",
     "output_type": "stream",
     "text": [
      "\r",
      " 47%|████▋     | 96/205 [00:26<00:33,  3.23it/s]"
     ]
    },
    {
     "name": "stdout",
     "output_type": "stream",
     "text": [
      "tensor(0.0297, device='cuda:0', grad_fn=<NllLossBackward0>)\n"
     ]
    },
    {
     "name": "stderr",
     "output_type": "stream",
     "text": [
      "\r",
      " 47%|████▋     | 97/205 [00:27<00:33,  3.18it/s]"
     ]
    },
    {
     "name": "stdout",
     "output_type": "stream",
     "text": [
      "tensor(0.0178, device='cuda:0', grad_fn=<NllLossBackward0>)\n"
     ]
    },
    {
     "name": "stderr",
     "output_type": "stream",
     "text": [
      "\r",
      " 48%|████▊     | 98/205 [00:27<00:34,  3.13it/s]"
     ]
    },
    {
     "name": "stdout",
     "output_type": "stream",
     "text": [
      "tensor(0.0241, device='cuda:0', grad_fn=<NllLossBackward0>)\n"
     ]
    },
    {
     "name": "stderr",
     "output_type": "stream",
     "text": [
      "\r",
      " 48%|████▊     | 99/205 [00:27<00:32,  3.25it/s]"
     ]
    },
    {
     "name": "stdout",
     "output_type": "stream",
     "text": [
      "tensor(0.0096, device='cuda:0', grad_fn=<NllLossBackward0>)\n"
     ]
    },
    {
     "name": "stderr",
     "output_type": "stream",
     "text": [
      "\r",
      " 49%|████▉     | 100/205 [00:28<00:31,  3.35it/s]"
     ]
    },
    {
     "name": "stdout",
     "output_type": "stream",
     "text": [
      "tensor(0.0200, device='cuda:0', grad_fn=<NllLossBackward0>)\n"
     ]
    },
    {
     "name": "stderr",
     "output_type": "stream",
     "text": [
      "\r",
      " 49%|████▉     | 101/205 [00:28<00:32,  3.23it/s]"
     ]
    },
    {
     "name": "stdout",
     "output_type": "stream",
     "text": [
      "tensor(0.0322, device='cuda:0', grad_fn=<NllLossBackward0>)\n"
     ]
    },
    {
     "name": "stderr",
     "output_type": "stream",
     "text": [
      "\r",
      " 50%|████▉     | 102/205 [00:28<00:30,  3.40it/s]"
     ]
    },
    {
     "name": "stdout",
     "output_type": "stream",
     "text": [
      "tensor(0.0259, device='cuda:0', grad_fn=<NllLossBackward0>)\n"
     ]
    },
    {
     "name": "stderr",
     "output_type": "stream",
     "text": [
      "\r",
      " 50%|█████     | 103/205 [00:28<00:29,  3.44it/s]"
     ]
    },
    {
     "name": "stdout",
     "output_type": "stream",
     "text": [
      "tensor(0.0232, device='cuda:0', grad_fn=<NllLossBackward0>)\n"
     ]
    },
    {
     "name": "stderr",
     "output_type": "stream",
     "text": [
      "\r",
      " 51%|█████     | 104/205 [00:29<00:28,  3.58it/s]"
     ]
    },
    {
     "name": "stdout",
     "output_type": "stream",
     "text": [
      "tensor(0.0200, device='cuda:0', grad_fn=<NllLossBackward0>)\n"
     ]
    },
    {
     "name": "stderr",
     "output_type": "stream",
     "text": [
      "\r",
      " 51%|█████     | 105/205 [00:29<00:26,  3.74it/s]"
     ]
    },
    {
     "name": "stdout",
     "output_type": "stream",
     "text": [
      "tensor(0.0095, device='cuda:0', grad_fn=<NllLossBackward0>)\n"
     ]
    },
    {
     "name": "stderr",
     "output_type": "stream",
     "text": [
      "\r",
      " 52%|█████▏    | 106/205 [00:29<00:26,  3.70it/s]"
     ]
    },
    {
     "name": "stdout",
     "output_type": "stream",
     "text": [
      "tensor(0.0189, device='cuda:0', grad_fn=<NllLossBackward0>)\n"
     ]
    },
    {
     "name": "stderr",
     "output_type": "stream",
     "text": [
      "\r",
      " 52%|█████▏    | 107/205 [00:29<00:25,  3.84it/s]"
     ]
    },
    {
     "name": "stdout",
     "output_type": "stream",
     "text": [
      "tensor(0.0481, device='cuda:0', grad_fn=<NllLossBackward0>)\n"
     ]
    },
    {
     "name": "stderr",
     "output_type": "stream",
     "text": [
      "\r",
      " 53%|█████▎    | 108/205 [00:30<00:26,  3.64it/s]"
     ]
    },
    {
     "name": "stdout",
     "output_type": "stream",
     "text": [
      "tensor(0.0129, device='cuda:0', grad_fn=<NllLossBackward0>)\n"
     ]
    },
    {
     "name": "stderr",
     "output_type": "stream",
     "text": [
      "\r",
      " 53%|█████▎    | 109/205 [00:30<00:28,  3.42it/s]"
     ]
    },
    {
     "name": "stdout",
     "output_type": "stream",
     "text": [
      "tensor(0.0150, device='cuda:0', grad_fn=<NllLossBackward0>)\n"
     ]
    },
    {
     "name": "stderr",
     "output_type": "stream",
     "text": [
      "\r",
      " 54%|█████▎    | 110/205 [00:30<00:27,  3.46it/s]"
     ]
    },
    {
     "name": "stdout",
     "output_type": "stream",
     "text": [
      "tensor(0.0161, device='cuda:0', grad_fn=<NllLossBackward0>)\n"
     ]
    },
    {
     "name": "stderr",
     "output_type": "stream",
     "text": [
      "\r",
      " 54%|█████▍    | 111/205 [00:31<00:26,  3.50it/s]"
     ]
    },
    {
     "name": "stdout",
     "output_type": "stream",
     "text": [
      "tensor(0.0210, device='cuda:0', grad_fn=<NllLossBackward0>)\n"
     ]
    },
    {
     "name": "stderr",
     "output_type": "stream",
     "text": [
      "\r",
      " 55%|█████▍    | 112/205 [00:31<00:27,  3.40it/s]"
     ]
    },
    {
     "name": "stdout",
     "output_type": "stream",
     "text": [
      "tensor(0.0207, device='cuda:0', grad_fn=<NllLossBackward0>)\n"
     ]
    },
    {
     "name": "stderr",
     "output_type": "stream",
     "text": [
      "\r",
      " 55%|█████▌    | 113/205 [00:31<00:26,  3.43it/s]"
     ]
    },
    {
     "name": "stdout",
     "output_type": "stream",
     "text": [
      "tensor(0.0325, device='cuda:0', grad_fn=<NllLossBackward0>)\n"
     ]
    },
    {
     "name": "stderr",
     "output_type": "stream",
     "text": [
      "\r",
      " 56%|█████▌    | 114/205 [00:32<00:28,  3.14it/s]"
     ]
    },
    {
     "name": "stdout",
     "output_type": "stream",
     "text": [
      "tensor(0.0395, device='cuda:0', grad_fn=<NllLossBackward0>)\n"
     ]
    },
    {
     "name": "stderr",
     "output_type": "stream",
     "text": [
      "\r",
      " 56%|█████▌    | 115/205 [00:32<00:26,  3.36it/s]"
     ]
    },
    {
     "name": "stdout",
     "output_type": "stream",
     "text": [
      "tensor(0.0607, device='cuda:0', grad_fn=<NllLossBackward0>)\n"
     ]
    },
    {
     "name": "stderr",
     "output_type": "stream",
     "text": [
      "\r",
      " 57%|█████▋    | 116/205 [00:32<00:25,  3.44it/s]"
     ]
    },
    {
     "name": "stdout",
     "output_type": "stream",
     "text": [
      "tensor(0.0402, device='cuda:0', grad_fn=<NllLossBackward0>)\n"
     ]
    },
    {
     "name": "stderr",
     "output_type": "stream",
     "text": [
      "\r",
      " 57%|█████▋    | 117/205 [00:32<00:24,  3.54it/s]"
     ]
    },
    {
     "name": "stdout",
     "output_type": "stream",
     "text": [
      "tensor(0.0218, device='cuda:0', grad_fn=<NllLossBackward0>)\n"
     ]
    },
    {
     "name": "stderr",
     "output_type": "stream",
     "text": [
      "\r",
      " 58%|█████▊    | 118/205 [00:33<00:27,  3.20it/s]"
     ]
    },
    {
     "name": "stdout",
     "output_type": "stream",
     "text": [
      "tensor(0.0537, device='cuda:0', grad_fn=<NllLossBackward0>)\n"
     ]
    },
    {
     "name": "stderr",
     "output_type": "stream",
     "text": [
      "\r",
      " 58%|█████▊    | 119/205 [00:33<00:26,  3.24it/s]"
     ]
    },
    {
     "name": "stdout",
     "output_type": "stream",
     "text": [
      "tensor(0.0213, device='cuda:0', grad_fn=<NllLossBackward0>)\n"
     ]
    },
    {
     "name": "stderr",
     "output_type": "stream",
     "text": [
      "\r",
      " 59%|█████▊    | 120/205 [00:33<00:26,  3.25it/s]"
     ]
    },
    {
     "name": "stdout",
     "output_type": "stream",
     "text": [
      "tensor(0.0204, device='cuda:0', grad_fn=<NllLossBackward0>)\n"
     ]
    },
    {
     "name": "stderr",
     "output_type": "stream",
     "text": [
      "\r",
      " 59%|█████▉    | 121/205 [00:34<00:27,  3.06it/s]"
     ]
    },
    {
     "name": "stdout",
     "output_type": "stream",
     "text": [
      "tensor(0.0229, device='cuda:0', grad_fn=<NllLossBackward0>)\n"
     ]
    },
    {
     "name": "stderr",
     "output_type": "stream",
     "text": [
      "\r",
      " 60%|█████▉    | 122/205 [00:34<00:26,  3.19it/s]"
     ]
    },
    {
     "name": "stdout",
     "output_type": "stream",
     "text": [
      "tensor(0.0117, device='cuda:0', grad_fn=<NllLossBackward0>)\n"
     ]
    },
    {
     "name": "stderr",
     "output_type": "stream",
     "text": [
      "\r",
      " 60%|██████    | 123/205 [00:34<00:24,  3.36it/s]"
     ]
    },
    {
     "name": "stdout",
     "output_type": "stream",
     "text": [
      "tensor(0.0260, device='cuda:0', grad_fn=<NllLossBackward0>)\n"
     ]
    },
    {
     "name": "stderr",
     "output_type": "stream",
     "text": [
      "\r",
      " 60%|██████    | 124/205 [00:35<00:23,  3.48it/s]"
     ]
    },
    {
     "name": "stdout",
     "output_type": "stream",
     "text": [
      "tensor(0.0134, device='cuda:0', grad_fn=<NllLossBackward0>)\n"
     ]
    },
    {
     "name": "stderr",
     "output_type": "stream",
     "text": [
      "\r",
      " 61%|██████    | 125/205 [00:35<00:24,  3.24it/s]"
     ]
    },
    {
     "name": "stdout",
     "output_type": "stream",
     "text": [
      "tensor(0.0193, device='cuda:0', grad_fn=<NllLossBackward0>)\n"
     ]
    },
    {
     "name": "stderr",
     "output_type": "stream",
     "text": [
      "\r",
      " 61%|██████▏   | 126/205 [00:35<00:23,  3.32it/s]"
     ]
    },
    {
     "name": "stdout",
     "output_type": "stream",
     "text": [
      "tensor(0.0183, device='cuda:0', grad_fn=<NllLossBackward0>)\n"
     ]
    },
    {
     "name": "stderr",
     "output_type": "stream",
     "text": [
      "\r",
      " 62%|██████▏   | 127/205 [00:35<00:22,  3.49it/s]"
     ]
    },
    {
     "name": "stdout",
     "output_type": "stream",
     "text": [
      "tensor(0.0049, device='cuda:0', grad_fn=<NllLossBackward0>)\n"
     ]
    },
    {
     "name": "stderr",
     "output_type": "stream",
     "text": [
      "\r",
      " 62%|██████▏   | 128/205 [00:36<00:21,  3.58it/s]"
     ]
    },
    {
     "name": "stdout",
     "output_type": "stream",
     "text": [
      "tensor(0.0155, device='cuda:0', grad_fn=<NllLossBackward0>)\n"
     ]
    },
    {
     "name": "stderr",
     "output_type": "stream",
     "text": [
      "\r",
      " 63%|██████▎   | 129/205 [00:36<00:20,  3.65it/s]"
     ]
    },
    {
     "name": "stdout",
     "output_type": "stream",
     "text": [
      "tensor(0.0126, device='cuda:0', grad_fn=<NllLossBackward0>)\n"
     ]
    },
    {
     "name": "stderr",
     "output_type": "stream",
     "text": [
      "\r",
      " 63%|██████▎   | 130/205 [00:36<00:20,  3.69it/s]"
     ]
    },
    {
     "name": "stdout",
     "output_type": "stream",
     "text": [
      "tensor(0.0306, device='cuda:0', grad_fn=<NllLossBackward0>)\n"
     ]
    },
    {
     "name": "stderr",
     "output_type": "stream",
     "text": [
      "\r",
      " 64%|██████▍   | 131/205 [00:36<00:19,  3.79it/s]"
     ]
    },
    {
     "name": "stdout",
     "output_type": "stream",
     "text": [
      "tensor(0.0354, device='cuda:0', grad_fn=<NllLossBackward0>)\n"
     ]
    },
    {
     "name": "stderr",
     "output_type": "stream",
     "text": [
      "\r",
      " 64%|██████▍   | 132/205 [00:37<00:19,  3.74it/s]"
     ]
    },
    {
     "name": "stdout",
     "output_type": "stream",
     "text": [
      "tensor(0.0224, device='cuda:0', grad_fn=<NllLossBackward0>)\n"
     ]
    },
    {
     "name": "stderr",
     "output_type": "stream",
     "text": [
      "\r",
      " 65%|██████▍   | 133/205 [00:37<00:19,  3.76it/s]"
     ]
    },
    {
     "name": "stdout",
     "output_type": "stream",
     "text": [
      "tensor(0.0149, device='cuda:0', grad_fn=<NllLossBackward0>)\n"
     ]
    },
    {
     "name": "stderr",
     "output_type": "stream",
     "text": [
      "\r",
      " 65%|██████▌   | 134/205 [00:37<00:18,  3.87it/s]"
     ]
    },
    {
     "name": "stdout",
     "output_type": "stream",
     "text": [
      "tensor(0.0373, device='cuda:0', grad_fn=<NllLossBackward0>)\n"
     ]
    },
    {
     "name": "stderr",
     "output_type": "stream",
     "text": [
      "\r",
      " 66%|██████▌   | 135/205 [00:38<00:19,  3.53it/s]"
     ]
    },
    {
     "name": "stdout",
     "output_type": "stream",
     "text": [
      "tensor(0.0237, device='cuda:0', grad_fn=<NllLossBackward0>)\n"
     ]
    },
    {
     "name": "stderr",
     "output_type": "stream",
     "text": [
      "\r",
      " 66%|██████▋   | 136/205 [00:38<00:19,  3.58it/s]"
     ]
    },
    {
     "name": "stdout",
     "output_type": "stream",
     "text": [
      "tensor(0.0263, device='cuda:0', grad_fn=<NllLossBackward0>)\n"
     ]
    },
    {
     "name": "stderr",
     "output_type": "stream",
     "text": [
      "\r",
      " 67%|██████▋   | 137/205 [00:38<00:18,  3.64it/s]"
     ]
    },
    {
     "name": "stdout",
     "output_type": "stream",
     "text": [
      "tensor(0.0055, device='cuda:0', grad_fn=<NllLossBackward0>)\n"
     ]
    },
    {
     "name": "stderr",
     "output_type": "stream",
     "text": [
      "\r",
      " 67%|██████▋   | 138/205 [00:38<00:18,  3.64it/s]"
     ]
    },
    {
     "name": "stdout",
     "output_type": "stream",
     "text": [
      "tensor(0.0114, device='cuda:0', grad_fn=<NllLossBackward0>)\n"
     ]
    },
    {
     "name": "stderr",
     "output_type": "stream",
     "text": [
      "\r",
      " 68%|██████▊   | 139/205 [00:39<00:18,  3.52it/s]"
     ]
    },
    {
     "name": "stdout",
     "output_type": "stream",
     "text": [
      "tensor(0.0209, device='cuda:0', grad_fn=<NllLossBackward0>)\n"
     ]
    },
    {
     "name": "stderr",
     "output_type": "stream",
     "text": [
      "\r",
      " 68%|██████▊   | 140/205 [00:39<00:19,  3.42it/s]"
     ]
    },
    {
     "name": "stdout",
     "output_type": "stream",
     "text": [
      "tensor(0.0253, device='cuda:0', grad_fn=<NllLossBackward0>)\n"
     ]
    },
    {
     "name": "stderr",
     "output_type": "stream",
     "text": [
      "\r",
      " 69%|██████▉   | 141/205 [00:39<00:17,  3.56it/s]"
     ]
    },
    {
     "name": "stdout",
     "output_type": "stream",
     "text": [
      "tensor(0.0341, device='cuda:0', grad_fn=<NllLossBackward0>)\n"
     ]
    },
    {
     "name": "stderr",
     "output_type": "stream",
     "text": [
      "\r",
      " 69%|██████▉   | 142/205 [00:40<00:17,  3.59it/s]"
     ]
    },
    {
     "name": "stdout",
     "output_type": "stream",
     "text": [
      "tensor(0.0177, device='cuda:0', grad_fn=<NllLossBackward0>)\n"
     ]
    },
    {
     "name": "stderr",
     "output_type": "stream",
     "text": [
      "\r",
      " 70%|██████▉   | 143/205 [00:40<00:17,  3.47it/s]"
     ]
    },
    {
     "name": "stdout",
     "output_type": "stream",
     "text": [
      "tensor(0.0169, device='cuda:0', grad_fn=<NllLossBackward0>)\n"
     ]
    },
    {
     "name": "stderr",
     "output_type": "stream",
     "text": [
      "\r",
      " 70%|███████   | 144/205 [00:40<00:17,  3.51it/s]"
     ]
    },
    {
     "name": "stdout",
     "output_type": "stream",
     "text": [
      "tensor(0.0209, device='cuda:0', grad_fn=<NllLossBackward0>)\n"
     ]
    },
    {
     "name": "stderr",
     "output_type": "stream",
     "text": [
      "\r",
      " 71%|███████   | 145/205 [00:40<00:16,  3.54it/s]"
     ]
    },
    {
     "name": "stdout",
     "output_type": "stream",
     "text": [
      "tensor(0.0254, device='cuda:0', grad_fn=<NllLossBackward0>)\n"
     ]
    },
    {
     "name": "stderr",
     "output_type": "stream",
     "text": [
      "\r",
      " 71%|███████   | 146/205 [00:41<00:16,  3.50it/s]"
     ]
    },
    {
     "name": "stdout",
     "output_type": "stream",
     "text": [
      "tensor(0.0256, device='cuda:0', grad_fn=<NllLossBackward0>)\n"
     ]
    },
    {
     "name": "stderr",
     "output_type": "stream",
     "text": [
      "\r",
      " 72%|███████▏  | 147/205 [00:41<00:18,  3.18it/s]"
     ]
    },
    {
     "name": "stdout",
     "output_type": "stream",
     "text": [
      "tensor(0.0322, device='cuda:0', grad_fn=<NllLossBackward0>)\n"
     ]
    },
    {
     "name": "stderr",
     "output_type": "stream",
     "text": [
      "\r",
      " 72%|███████▏  | 148/205 [00:41<00:18,  3.14it/s]"
     ]
    },
    {
     "name": "stdout",
     "output_type": "stream",
     "text": [
      "tensor(0.0252, device='cuda:0', grad_fn=<NllLossBackward0>)\n"
     ]
    },
    {
     "name": "stderr",
     "output_type": "stream",
     "text": [
      "\r",
      " 73%|███████▎  | 149/205 [00:42<00:17,  3.17it/s]"
     ]
    },
    {
     "name": "stdout",
     "output_type": "stream",
     "text": [
      "tensor(0.0296, device='cuda:0', grad_fn=<NllLossBackward0>)\n"
     ]
    },
    {
     "name": "stderr",
     "output_type": "stream",
     "text": [
      "\r",
      " 73%|███████▎  | 150/205 [00:42<00:16,  3.25it/s]"
     ]
    },
    {
     "name": "stdout",
     "output_type": "stream",
     "text": [
      "tensor(0.0113, device='cuda:0', grad_fn=<NllLossBackward0>)\n"
     ]
    },
    {
     "name": "stderr",
     "output_type": "stream",
     "text": [
      "\r",
      " 74%|███████▎  | 151/205 [00:42<00:16,  3.32it/s]"
     ]
    },
    {
     "name": "stdout",
     "output_type": "stream",
     "text": [
      "tensor(0.0226, device='cuda:0', grad_fn=<NllLossBackward0>)\n"
     ]
    },
    {
     "name": "stderr",
     "output_type": "stream",
     "text": [
      "\r",
      " 74%|███████▍  | 152/205 [00:43<00:16,  3.25it/s]"
     ]
    },
    {
     "name": "stdout",
     "output_type": "stream",
     "text": [
      "tensor(0.0219, device='cuda:0', grad_fn=<NllLossBackward0>)\n"
     ]
    },
    {
     "name": "stderr",
     "output_type": "stream",
     "text": [
      "\r",
      " 75%|███████▍  | 153/205 [00:43<00:16,  3.24it/s]"
     ]
    },
    {
     "name": "stdout",
     "output_type": "stream",
     "text": [
      "tensor(0.0237, device='cuda:0', grad_fn=<NllLossBackward0>)\n"
     ]
    },
    {
     "name": "stderr",
     "output_type": "stream",
     "text": [
      "\r",
      " 75%|███████▌  | 154/205 [00:43<00:14,  3.47it/s]"
     ]
    },
    {
     "name": "stdout",
     "output_type": "stream",
     "text": [
      "tensor(0.0021, device='cuda:0', grad_fn=<NllLossBackward0>)\n"
     ]
    },
    {
     "name": "stderr",
     "output_type": "stream",
     "text": [
      "\r",
      " 76%|███████▌  | 155/205 [00:43<00:13,  3.63it/s]"
     ]
    },
    {
     "name": "stdout",
     "output_type": "stream",
     "text": [
      "tensor(0.0306, device='cuda:0', grad_fn=<NllLossBackward0>)\n"
     ]
    },
    {
     "name": "stderr",
     "output_type": "stream",
     "text": [
      "\r",
      " 76%|███████▌  | 156/205 [00:44<00:13,  3.50it/s]"
     ]
    },
    {
     "name": "stdout",
     "output_type": "stream",
     "text": [
      "tensor(0.0217, device='cuda:0', grad_fn=<NllLossBackward0>)\n"
     ]
    },
    {
     "name": "stderr",
     "output_type": "stream",
     "text": [
      "\r",
      " 77%|███████▋  | 157/205 [00:44<00:13,  3.49it/s]"
     ]
    },
    {
     "name": "stdout",
     "output_type": "stream",
     "text": [
      "tensor(0.0115, device='cuda:0', grad_fn=<NllLossBackward0>)\n"
     ]
    },
    {
     "name": "stderr",
     "output_type": "stream",
     "text": [
      "\r",
      " 77%|███████▋  | 158/205 [00:44<00:13,  3.41it/s]"
     ]
    },
    {
     "name": "stdout",
     "output_type": "stream",
     "text": [
      "tensor(0.0195, device='cuda:0', grad_fn=<NllLossBackward0>)\n"
     ]
    },
    {
     "name": "stderr",
     "output_type": "stream",
     "text": [
      "\r",
      " 78%|███████▊  | 159/205 [00:45<00:13,  3.47it/s]"
     ]
    },
    {
     "name": "stdout",
     "output_type": "stream",
     "text": [
      "tensor(0.0230, device='cuda:0', grad_fn=<NllLossBackward0>)\n"
     ]
    },
    {
     "name": "stderr",
     "output_type": "stream",
     "text": [
      "\r",
      " 78%|███████▊  | 160/205 [00:45<00:12,  3.62it/s]"
     ]
    },
    {
     "name": "stdout",
     "output_type": "stream",
     "text": [
      "tensor(0.0246, device='cuda:0', grad_fn=<NllLossBackward0>)\n"
     ]
    },
    {
     "name": "stderr",
     "output_type": "stream",
     "text": [
      "\r",
      " 79%|███████▊  | 161/205 [00:45<00:12,  3.50it/s]"
     ]
    },
    {
     "name": "stdout",
     "output_type": "stream",
     "text": [
      "tensor(0.0228, device='cuda:0', grad_fn=<NllLossBackward0>)\n"
     ]
    },
    {
     "name": "stderr",
     "output_type": "stream",
     "text": [
      "\r",
      " 79%|███████▉  | 162/205 [00:45<00:12,  3.40it/s]"
     ]
    },
    {
     "name": "stdout",
     "output_type": "stream",
     "text": [
      "tensor(0.0248, device='cuda:0', grad_fn=<NllLossBackward0>)\n"
     ]
    },
    {
     "name": "stderr",
     "output_type": "stream",
     "text": [
      "\r",
      " 80%|███████▉  | 163/205 [00:46<00:11,  3.58it/s]"
     ]
    },
    {
     "name": "stdout",
     "output_type": "stream",
     "text": [
      "tensor(0.0345, device='cuda:0', grad_fn=<NllLossBackward0>)\n"
     ]
    },
    {
     "name": "stderr",
     "output_type": "stream",
     "text": [
      "\r",
      " 80%|████████  | 164/205 [00:46<00:11,  3.66it/s]"
     ]
    },
    {
     "name": "stdout",
     "output_type": "stream",
     "text": [
      "tensor(0.0299, device='cuda:0', grad_fn=<NllLossBackward0>)\n"
     ]
    },
    {
     "name": "stderr",
     "output_type": "stream",
     "text": [
      "\r",
      " 80%|████████  | 165/205 [00:46<00:11,  3.49it/s]"
     ]
    },
    {
     "name": "stdout",
     "output_type": "stream",
     "text": [
      "tensor(0.0205, device='cuda:0', grad_fn=<NllLossBackward0>)\n"
     ]
    },
    {
     "name": "stderr",
     "output_type": "stream",
     "text": [
      "\r",
      " 81%|████████  | 166/205 [00:47<00:11,  3.52it/s]"
     ]
    },
    {
     "name": "stdout",
     "output_type": "stream",
     "text": [
      "tensor(0.0172, device='cuda:0', grad_fn=<NllLossBackward0>)\n"
     ]
    },
    {
     "name": "stderr",
     "output_type": "stream",
     "text": [
      "\r",
      " 81%|████████▏ | 167/205 [00:47<00:10,  3.53it/s]"
     ]
    },
    {
     "name": "stdout",
     "output_type": "stream",
     "text": [
      "tensor(0.0069, device='cuda:0', grad_fn=<NllLossBackward0>)\n"
     ]
    },
    {
     "name": "stderr",
     "output_type": "stream",
     "text": [
      "\r",
      " 82%|████████▏ | 168/205 [00:47<00:10,  3.62it/s]"
     ]
    },
    {
     "name": "stdout",
     "output_type": "stream",
     "text": [
      "tensor(0.0069, device='cuda:0', grad_fn=<NllLossBackward0>)\n"
     ]
    },
    {
     "name": "stderr",
     "output_type": "stream",
     "text": [
      "\r",
      " 82%|████████▏ | 169/205 [00:47<00:10,  3.46it/s]"
     ]
    },
    {
     "name": "stdout",
     "output_type": "stream",
     "text": [
      "tensor(0.0204, device='cuda:0', grad_fn=<NllLossBackward0>)\n"
     ]
    },
    {
     "name": "stderr",
     "output_type": "stream",
     "text": [
      "\r",
      " 83%|████████▎ | 170/205 [00:48<00:10,  3.46it/s]"
     ]
    },
    {
     "name": "stdout",
     "output_type": "stream",
     "text": [
      "tensor(0.0263, device='cuda:0', grad_fn=<NllLossBackward0>)\n"
     ]
    },
    {
     "name": "stderr",
     "output_type": "stream",
     "text": [
      "\r",
      " 83%|████████▎ | 171/205 [00:48<00:09,  3.48it/s]"
     ]
    },
    {
     "name": "stdout",
     "output_type": "stream",
     "text": [
      "tensor(0.0297, device='cuda:0', grad_fn=<NllLossBackward0>)\n"
     ]
    },
    {
     "name": "stderr",
     "output_type": "stream",
     "text": [
      "\r",
      " 84%|████████▍ | 172/205 [00:48<00:09,  3.58it/s]"
     ]
    },
    {
     "name": "stdout",
     "output_type": "stream",
     "text": [
      "tensor(0.0153, device='cuda:0', grad_fn=<NllLossBackward0>)\n"
     ]
    },
    {
     "name": "stderr",
     "output_type": "stream",
     "text": [
      "\r",
      " 84%|████████▍ | 173/205 [00:49<00:08,  3.70it/s]"
     ]
    },
    {
     "name": "stdout",
     "output_type": "stream",
     "text": [
      "tensor(0.0230, device='cuda:0', grad_fn=<NllLossBackward0>)\n"
     ]
    },
    {
     "name": "stderr",
     "output_type": "stream",
     "text": [
      "\r",
      " 85%|████████▍ | 174/205 [00:49<00:08,  3.65it/s]"
     ]
    },
    {
     "name": "stdout",
     "output_type": "stream",
     "text": [
      "tensor(0.0206, device='cuda:0', grad_fn=<NllLossBackward0>)\n"
     ]
    },
    {
     "name": "stderr",
     "output_type": "stream",
     "text": [
      "\r",
      " 85%|████████▌ | 175/205 [00:49<00:08,  3.35it/s]"
     ]
    },
    {
     "name": "stdout",
     "output_type": "stream",
     "text": [
      "tensor(0.0208, device='cuda:0', grad_fn=<NllLossBackward0>)\n"
     ]
    },
    {
     "name": "stderr",
     "output_type": "stream",
     "text": [
      "\r",
      " 86%|████████▌ | 176/205 [00:49<00:08,  3.35it/s]"
     ]
    },
    {
     "name": "stdout",
     "output_type": "stream",
     "text": [
      "tensor(0.0123, device='cuda:0', grad_fn=<NllLossBackward0>)\n"
     ]
    },
    {
     "name": "stderr",
     "output_type": "stream",
     "text": [
      "\r",
      " 86%|████████▋ | 177/205 [00:50<00:08,  3.47it/s]"
     ]
    },
    {
     "name": "stdout",
     "output_type": "stream",
     "text": [
      "tensor(0.0732, device='cuda:0', grad_fn=<NllLossBackward0>)\n"
     ]
    },
    {
     "name": "stderr",
     "output_type": "stream",
     "text": [
      "\r",
      " 87%|████████▋ | 178/205 [00:50<00:07,  3.51it/s]"
     ]
    },
    {
     "name": "stdout",
     "output_type": "stream",
     "text": [
      "tensor(0.0219, device='cuda:0', grad_fn=<NllLossBackward0>)\n"
     ]
    },
    {
     "name": "stderr",
     "output_type": "stream",
     "text": [
      "\r",
      " 87%|████████▋ | 179/205 [00:50<00:07,  3.58it/s]"
     ]
    },
    {
     "name": "stdout",
     "output_type": "stream",
     "text": [
      "tensor(0.0221, device='cuda:0', grad_fn=<NllLossBackward0>)\n"
     ]
    },
    {
     "name": "stderr",
     "output_type": "stream",
     "text": [
      "\r",
      " 88%|████████▊ | 180/205 [00:51<00:07,  3.50it/s]"
     ]
    },
    {
     "name": "stdout",
     "output_type": "stream",
     "text": [
      "tensor(0.0197, device='cuda:0', grad_fn=<NllLossBackward0>)\n"
     ]
    },
    {
     "name": "stderr",
     "output_type": "stream",
     "text": [
      "\r",
      " 88%|████████▊ | 181/205 [00:51<00:06,  3.53it/s]"
     ]
    },
    {
     "name": "stdout",
     "output_type": "stream",
     "text": [
      "tensor(0.0265, device='cuda:0', grad_fn=<NllLossBackward0>)\n"
     ]
    },
    {
     "name": "stderr",
     "output_type": "stream",
     "text": [
      "\r",
      " 89%|████████▉ | 182/205 [00:51<00:06,  3.60it/s]"
     ]
    },
    {
     "name": "stdout",
     "output_type": "stream",
     "text": [
      "tensor(0.0123, device='cuda:0', grad_fn=<NllLossBackward0>)\n"
     ]
    },
    {
     "name": "stderr",
     "output_type": "stream",
     "text": [
      "\r",
      " 89%|████████▉ | 183/205 [00:51<00:05,  3.68it/s]"
     ]
    },
    {
     "name": "stdout",
     "output_type": "stream",
     "text": [
      "tensor(0.0091, device='cuda:0', grad_fn=<NllLossBackward0>)\n"
     ]
    },
    {
     "name": "stderr",
     "output_type": "stream",
     "text": [
      "\r",
      " 90%|████████▉ | 184/205 [00:52<00:05,  3.81it/s]"
     ]
    },
    {
     "name": "stdout",
     "output_type": "stream",
     "text": [
      "tensor(0.0343, device='cuda:0', grad_fn=<NllLossBackward0>)\n"
     ]
    },
    {
     "name": "stderr",
     "output_type": "stream",
     "text": [
      "\r",
      " 90%|█████████ | 185/205 [00:52<00:05,  3.88it/s]"
     ]
    },
    {
     "name": "stdout",
     "output_type": "stream",
     "text": [
      "tensor(0.0043, device='cuda:0', grad_fn=<NllLossBackward0>)\n"
     ]
    },
    {
     "name": "stderr",
     "output_type": "stream",
     "text": [
      "\r",
      " 91%|█████████ | 186/205 [00:52<00:04,  3.86it/s]"
     ]
    },
    {
     "name": "stdout",
     "output_type": "stream",
     "text": [
      "tensor(0.0232, device='cuda:0', grad_fn=<NllLossBackward0>)\n"
     ]
    },
    {
     "name": "stderr",
     "output_type": "stream",
     "text": [
      "\r",
      " 91%|█████████ | 187/205 [00:52<00:04,  3.96it/s]"
     ]
    },
    {
     "name": "stdout",
     "output_type": "stream",
     "text": [
      "tensor(0.0408, device='cuda:0', grad_fn=<NllLossBackward0>)\n"
     ]
    },
    {
     "name": "stderr",
     "output_type": "stream",
     "text": [
      "\r",
      " 92%|█████████▏| 188/205 [00:53<00:04,  3.83it/s]"
     ]
    },
    {
     "name": "stdout",
     "output_type": "stream",
     "text": [
      "tensor(0.0119, device='cuda:0', grad_fn=<NllLossBackward0>)\n"
     ]
    },
    {
     "name": "stderr",
     "output_type": "stream",
     "text": [
      "\r",
      " 92%|█████████▏| 189/205 [00:53<00:04,  3.83it/s]"
     ]
    },
    {
     "name": "stdout",
     "output_type": "stream",
     "text": [
      "tensor(0.0161, device='cuda:0', grad_fn=<NllLossBackward0>)\n"
     ]
    },
    {
     "name": "stderr",
     "output_type": "stream",
     "text": [
      "\r",
      " 93%|█████████▎| 190/205 [00:53<00:03,  3.76it/s]"
     ]
    },
    {
     "name": "stdout",
     "output_type": "stream",
     "text": [
      "tensor(0.0209, device='cuda:0', grad_fn=<NllLossBackward0>)\n"
     ]
    },
    {
     "name": "stderr",
     "output_type": "stream",
     "text": [
      "\r",
      " 93%|█████████▎| 191/205 [00:54<00:04,  3.26it/s]"
     ]
    },
    {
     "name": "stdout",
     "output_type": "stream",
     "text": [
      "tensor(0.0108, device='cuda:0', grad_fn=<NllLossBackward0>)\n"
     ]
    },
    {
     "name": "stderr",
     "output_type": "stream",
     "text": [
      "\r",
      " 94%|█████████▎| 192/205 [00:54<00:03,  3.44it/s]"
     ]
    },
    {
     "name": "stdout",
     "output_type": "stream",
     "text": [
      "tensor(0.0159, device='cuda:0', grad_fn=<NllLossBackward0>)\n"
     ]
    },
    {
     "name": "stderr",
     "output_type": "stream",
     "text": [
      "\r",
      " 94%|█████████▍| 193/205 [00:54<00:03,  3.37it/s]"
     ]
    },
    {
     "name": "stdout",
     "output_type": "stream",
     "text": [
      "tensor(0.0178, device='cuda:0', grad_fn=<NllLossBackward0>)\n"
     ]
    },
    {
     "name": "stderr",
     "output_type": "stream",
     "text": [
      "\r",
      " 95%|█████████▍| 194/205 [00:54<00:03,  3.43it/s]"
     ]
    },
    {
     "name": "stdout",
     "output_type": "stream",
     "text": [
      "tensor(0.0187, device='cuda:0', grad_fn=<NllLossBackward0>)\n"
     ]
    },
    {
     "name": "stderr",
     "output_type": "stream",
     "text": [
      "\r",
      " 95%|█████████▌| 195/205 [00:55<00:02,  3.47it/s]"
     ]
    },
    {
     "name": "stdout",
     "output_type": "stream",
     "text": [
      "tensor(0.0171, device='cuda:0', grad_fn=<NllLossBackward0>)\n"
     ]
    },
    {
     "name": "stderr",
     "output_type": "stream",
     "text": [
      "\r",
      " 96%|█████████▌| 196/205 [00:55<00:02,  3.58it/s]"
     ]
    },
    {
     "name": "stdout",
     "output_type": "stream",
     "text": [
      "tensor(0.0228, device='cuda:0', grad_fn=<NllLossBackward0>)\n"
     ]
    },
    {
     "name": "stderr",
     "output_type": "stream",
     "text": [
      "\r",
      " 96%|█████████▌| 197/205 [00:55<00:02,  3.64it/s]"
     ]
    },
    {
     "name": "stdout",
     "output_type": "stream",
     "text": [
      "tensor(0.0225, device='cuda:0', grad_fn=<NllLossBackward0>)\n"
     ]
    },
    {
     "name": "stderr",
     "output_type": "stream",
     "text": [
      "\r",
      " 97%|█████████▋| 198/205 [00:55<00:01,  3.78it/s]"
     ]
    },
    {
     "name": "stdout",
     "output_type": "stream",
     "text": [
      "tensor(0.0256, device='cuda:0', grad_fn=<NllLossBackward0>)\n"
     ]
    },
    {
     "name": "stderr",
     "output_type": "stream",
     "text": [
      "\r",
      " 97%|█████████▋| 199/205 [00:56<00:01,  3.70it/s]"
     ]
    },
    {
     "name": "stdout",
     "output_type": "stream",
     "text": [
      "tensor(0.0251, device='cuda:0', grad_fn=<NllLossBackward0>)\n"
     ]
    },
    {
     "name": "stderr",
     "output_type": "stream",
     "text": [
      "\r",
      " 98%|█████████▊| 200/205 [00:56<00:01,  3.78it/s]"
     ]
    },
    {
     "name": "stdout",
     "output_type": "stream",
     "text": [
      "tensor(0.0217, device='cuda:0', grad_fn=<NllLossBackward0>)\n"
     ]
    },
    {
     "name": "stderr",
     "output_type": "stream",
     "text": [
      "\r",
      " 98%|█████████▊| 201/205 [00:56<00:01,  3.80it/s]"
     ]
    },
    {
     "name": "stdout",
     "output_type": "stream",
     "text": [
      "tensor(0.0171, device='cuda:0', grad_fn=<NllLossBackward0>)\n"
     ]
    },
    {
     "name": "stderr",
     "output_type": "stream",
     "text": [
      "\r",
      " 99%|█████████▊| 202/205 [00:57<00:00,  3.88it/s]"
     ]
    },
    {
     "name": "stdout",
     "output_type": "stream",
     "text": [
      "tensor(0.0194, device='cuda:0', grad_fn=<NllLossBackward0>)\n"
     ]
    },
    {
     "name": "stderr",
     "output_type": "stream",
     "text": [
      "\r",
      " 99%|█████████▉| 203/205 [00:57<00:00,  3.68it/s]"
     ]
    },
    {
     "name": "stdout",
     "output_type": "stream",
     "text": [
      "tensor(0.0172, device='cuda:0', grad_fn=<NllLossBackward0>)\n"
     ]
    },
    {
     "name": "stderr",
     "output_type": "stream",
     "text": [
      "\r",
      "100%|█████████▉| 204/205 [00:57<00:00,  3.65it/s]"
     ]
    },
    {
     "name": "stdout",
     "output_type": "stream",
     "text": [
      "tensor(0.0292, device='cuda:0', grad_fn=<NllLossBackward0>)\n"
     ]
    },
    {
     "name": "stderr",
     "output_type": "stream",
     "text": [
      "100%|██████████| 205/205 [00:57<00:00,  3.54it/s]\n"
     ]
    },
    {
     "name": "stdout",
     "output_type": "stream",
     "text": [
      "tensor(0.0447, device='cuda:0', grad_fn=<NllLossBackward0>)\n",
      "4\n"
     ]
    },
    {
     "name": "stderr",
     "output_type": "stream",
     "text": [
      "  0%|          | 1/205 [00:00<00:56,  3.59it/s]"
     ]
    },
    {
     "name": "stdout",
     "output_type": "stream",
     "text": [
      "tensor(0.0133, device='cuda:0', grad_fn=<NllLossBackward0>)\n"
     ]
    },
    {
     "name": "stderr",
     "output_type": "stream",
     "text": [
      "\r",
      "  1%|          | 2/205 [00:00<01:08,  2.96it/s]"
     ]
    },
    {
     "name": "stdout",
     "output_type": "stream",
     "text": [
      "tensor(0.0301, device='cuda:0', grad_fn=<NllLossBackward0>)\n"
     ]
    },
    {
     "name": "stderr",
     "output_type": "stream",
     "text": [
      "\r",
      "  1%|▏         | 3/205 [00:00<01:03,  3.16it/s]"
     ]
    },
    {
     "name": "stdout",
     "output_type": "stream",
     "text": [
      "tensor(0.0119, device='cuda:0', grad_fn=<NllLossBackward0>)\n"
     ]
    },
    {
     "name": "stderr",
     "output_type": "stream",
     "text": [
      "\r",
      "  2%|▏         | 4/205 [00:01<00:59,  3.38it/s]"
     ]
    },
    {
     "name": "stdout",
     "output_type": "stream",
     "text": [
      "tensor(0.0239, device='cuda:0', grad_fn=<NllLossBackward0>)\n"
     ]
    },
    {
     "name": "stderr",
     "output_type": "stream",
     "text": [
      "\r",
      "  2%|▏         | 5/205 [00:01<00:57,  3.48it/s]"
     ]
    },
    {
     "name": "stdout",
     "output_type": "stream",
     "text": [
      "tensor(0.0229, device='cuda:0', grad_fn=<NllLossBackward0>)\n"
     ]
    },
    {
     "name": "stderr",
     "output_type": "stream",
     "text": [
      "\r",
      "  3%|▎         | 6/205 [00:01<00:59,  3.37it/s]"
     ]
    },
    {
     "name": "stdout",
     "output_type": "stream",
     "text": [
      "tensor(0.0251, device='cuda:0', grad_fn=<NllLossBackward0>)\n"
     ]
    },
    {
     "name": "stderr",
     "output_type": "stream",
     "text": [
      "\r",
      "  3%|▎         | 7/205 [00:02<00:58,  3.39it/s]"
     ]
    },
    {
     "name": "stdout",
     "output_type": "stream",
     "text": [
      "tensor(0.0187, device='cuda:0', grad_fn=<NllLossBackward0>)\n"
     ]
    },
    {
     "name": "stderr",
     "output_type": "stream",
     "text": [
      "\r",
      "  4%|▍         | 8/205 [00:02<01:01,  3.23it/s]"
     ]
    },
    {
     "name": "stdout",
     "output_type": "stream",
     "text": [
      "tensor(0.0162, device='cuda:0', grad_fn=<NllLossBackward0>)\n"
     ]
    },
    {
     "name": "stderr",
     "output_type": "stream",
     "text": [
      "\r",
      "  4%|▍         | 9/205 [00:02<01:01,  3.21it/s]"
     ]
    },
    {
     "name": "stdout",
     "output_type": "stream",
     "text": [
      "tensor(0.0213, device='cuda:0', grad_fn=<NllLossBackward0>)\n"
     ]
    },
    {
     "name": "stderr",
     "output_type": "stream",
     "text": [
      "\r",
      "  5%|▍         | 10/205 [00:03<01:01,  3.17it/s]"
     ]
    },
    {
     "name": "stdout",
     "output_type": "stream",
     "text": [
      "tensor(0.0225, device='cuda:0', grad_fn=<NllLossBackward0>)\n"
     ]
    },
    {
     "name": "stderr",
     "output_type": "stream",
     "text": [
      "\r",
      "  5%|▌         | 11/205 [00:03<00:58,  3.29it/s]"
     ]
    },
    {
     "name": "stdout",
     "output_type": "stream",
     "text": [
      "tensor(0.0185, device='cuda:0', grad_fn=<NllLossBackward0>)\n"
     ]
    },
    {
     "name": "stderr",
     "output_type": "stream",
     "text": [
      "\r",
      "  6%|▌         | 12/205 [00:03<00:55,  3.48it/s]"
     ]
    },
    {
     "name": "stdout",
     "output_type": "stream",
     "text": [
      "tensor(0.0054, device='cuda:0', grad_fn=<NllLossBackward0>)\n"
     ]
    },
    {
     "name": "stderr",
     "output_type": "stream",
     "text": [
      "\r",
      "  6%|▋         | 13/205 [00:03<00:54,  3.53it/s]"
     ]
    },
    {
     "name": "stdout",
     "output_type": "stream",
     "text": [
      "tensor(0.0064, device='cuda:0', grad_fn=<NllLossBackward0>)\n"
     ]
    },
    {
     "name": "stderr",
     "output_type": "stream",
     "text": [
      "\r",
      "  7%|▋         | 14/205 [00:04<00:52,  3.61it/s]"
     ]
    },
    {
     "name": "stdout",
     "output_type": "stream",
     "text": [
      "tensor(0.0048, device='cuda:0', grad_fn=<NllLossBackward0>)\n"
     ]
    },
    {
     "name": "stderr",
     "output_type": "stream",
     "text": [
      "\r",
      "  7%|▋         | 15/205 [00:04<00:53,  3.58it/s]"
     ]
    },
    {
     "name": "stdout",
     "output_type": "stream",
     "text": [
      "tensor(0.0251, device='cuda:0', grad_fn=<NllLossBackward0>)\n"
     ]
    },
    {
     "name": "stderr",
     "output_type": "stream",
     "text": [
      "\r",
      "  8%|▊         | 16/205 [00:04<00:56,  3.36it/s]"
     ]
    },
    {
     "name": "stdout",
     "output_type": "stream",
     "text": [
      "tensor(0.0207, device='cuda:0', grad_fn=<NllLossBackward0>)\n"
     ]
    },
    {
     "name": "stderr",
     "output_type": "stream",
     "text": [
      "\r",
      "  8%|▊         | 17/205 [00:05<00:54,  3.47it/s]"
     ]
    },
    {
     "name": "stdout",
     "output_type": "stream",
     "text": [
      "tensor(0.0299, device='cuda:0', grad_fn=<NllLossBackward0>)\n"
     ]
    },
    {
     "name": "stderr",
     "output_type": "stream",
     "text": [
      "\r",
      "  9%|▉         | 18/205 [00:05<00:51,  3.66it/s]"
     ]
    },
    {
     "name": "stdout",
     "output_type": "stream",
     "text": [
      "tensor(0.0419, device='cuda:0', grad_fn=<NllLossBackward0>)\n"
     ]
    },
    {
     "name": "stderr",
     "output_type": "stream",
     "text": [
      "\r",
      "  9%|▉         | 19/205 [00:05<00:50,  3.67it/s]"
     ]
    },
    {
     "name": "stdout",
     "output_type": "stream",
     "text": [
      "tensor(0.0201, device='cuda:0', grad_fn=<NllLossBackward0>)\n"
     ]
    },
    {
     "name": "stderr",
     "output_type": "stream",
     "text": [
      "\r",
      " 10%|▉         | 20/205 [00:05<00:49,  3.72it/s]"
     ]
    },
    {
     "name": "stdout",
     "output_type": "stream",
     "text": [
      "tensor(0.0829, device='cuda:0', grad_fn=<NllLossBackward0>)\n"
     ]
    },
    {
     "name": "stderr",
     "output_type": "stream",
     "text": [
      "\r",
      " 10%|█         | 21/205 [00:06<00:49,  3.74it/s]"
     ]
    },
    {
     "name": "stdout",
     "output_type": "stream",
     "text": [
      "tensor(0.0179, device='cuda:0', grad_fn=<NllLossBackward0>)\n"
     ]
    },
    {
     "name": "stderr",
     "output_type": "stream",
     "text": [
      "\r",
      " 11%|█         | 22/205 [00:06<00:51,  3.54it/s]"
     ]
    },
    {
     "name": "stdout",
     "output_type": "stream",
     "text": [
      "tensor(0.0281, device='cuda:0', grad_fn=<NllLossBackward0>)\n"
     ]
    },
    {
     "name": "stderr",
     "output_type": "stream",
     "text": [
      "\r",
      " 11%|█         | 23/205 [00:06<00:49,  3.66it/s]"
     ]
    },
    {
     "name": "stdout",
     "output_type": "stream",
     "text": [
      "tensor(0.0348, device='cuda:0', grad_fn=<NllLossBackward0>)\n"
     ]
    },
    {
     "name": "stderr",
     "output_type": "stream",
     "text": [
      "\r",
      " 12%|█▏        | 24/205 [00:06<00:48,  3.73it/s]"
     ]
    },
    {
     "name": "stdout",
     "output_type": "stream",
     "text": [
      "tensor(0.0267, device='cuda:0', grad_fn=<NllLossBackward0>)\n"
     ]
    },
    {
     "name": "stderr",
     "output_type": "stream",
     "text": [
      "\r",
      " 12%|█▏        | 25/205 [00:07<00:49,  3.65it/s]"
     ]
    },
    {
     "name": "stdout",
     "output_type": "stream",
     "text": [
      "tensor(0.0171, device='cuda:0', grad_fn=<NllLossBackward0>)\n"
     ]
    },
    {
     "name": "stderr",
     "output_type": "stream",
     "text": [
      "\r",
      " 13%|█▎        | 26/205 [00:07<00:49,  3.61it/s]"
     ]
    },
    {
     "name": "stdout",
     "output_type": "stream",
     "text": [
      "tensor(0.0214, device='cuda:0', grad_fn=<NllLossBackward0>)\n"
     ]
    },
    {
     "name": "stderr",
     "output_type": "stream",
     "text": [
      "\r",
      " 13%|█▎        | 27/205 [00:07<00:47,  3.72it/s]"
     ]
    },
    {
     "name": "stdout",
     "output_type": "stream",
     "text": [
      "tensor(0.0386, device='cuda:0', grad_fn=<NllLossBackward0>)\n"
     ]
    },
    {
     "name": "stderr",
     "output_type": "stream",
     "text": [
      "\r",
      " 14%|█▎        | 28/205 [00:07<00:48,  3.68it/s]"
     ]
    },
    {
     "name": "stdout",
     "output_type": "stream",
     "text": [
      "tensor(0.0262, device='cuda:0', grad_fn=<NllLossBackward0>)\n"
     ]
    },
    {
     "name": "stderr",
     "output_type": "stream",
     "text": [
      "\r",
      " 14%|█▍        | 29/205 [00:08<00:47,  3.72it/s]"
     ]
    },
    {
     "name": "stdout",
     "output_type": "stream",
     "text": [
      "tensor(0.0321, device='cuda:0', grad_fn=<NllLossBackward0>)\n"
     ]
    },
    {
     "name": "stderr",
     "output_type": "stream",
     "text": [
      "\r",
      " 15%|█▍        | 30/205 [00:08<00:47,  3.68it/s]"
     ]
    },
    {
     "name": "stdout",
     "output_type": "stream",
     "text": [
      "tensor(0.0152, device='cuda:0', grad_fn=<NllLossBackward0>)\n"
     ]
    },
    {
     "name": "stderr",
     "output_type": "stream",
     "text": [
      "\r",
      " 15%|█▌        | 31/205 [00:08<00:45,  3.80it/s]"
     ]
    },
    {
     "name": "stdout",
     "output_type": "stream",
     "text": [
      "tensor(0.0271, device='cuda:0', grad_fn=<NllLossBackward0>)\n"
     ]
    },
    {
     "name": "stderr",
     "output_type": "stream",
     "text": [
      "\r",
      " 16%|█▌        | 32/205 [00:09<00:47,  3.62it/s]"
     ]
    },
    {
     "name": "stdout",
     "output_type": "stream",
     "text": [
      "tensor(0.0236, device='cuda:0', grad_fn=<NllLossBackward0>)\n"
     ]
    },
    {
     "name": "stderr",
     "output_type": "stream",
     "text": [
      "\r",
      " 16%|█▌        | 33/205 [00:09<00:48,  3.55it/s]"
     ]
    },
    {
     "name": "stdout",
     "output_type": "stream",
     "text": [
      "tensor(0.0106, device='cuda:0', grad_fn=<NllLossBackward0>)\n"
     ]
    },
    {
     "name": "stderr",
     "output_type": "stream",
     "text": [
      "\r",
      " 17%|█▋        | 34/205 [00:09<00:47,  3.57it/s]"
     ]
    },
    {
     "name": "stdout",
     "output_type": "stream",
     "text": [
      "tensor(0.0203, device='cuda:0', grad_fn=<NllLossBackward0>)\n"
     ]
    },
    {
     "name": "stderr",
     "output_type": "stream",
     "text": [
      "\r",
      " 17%|█▋        | 35/205 [00:09<00:49,  3.46it/s]"
     ]
    },
    {
     "name": "stdout",
     "output_type": "stream",
     "text": [
      "tensor(0.0185, device='cuda:0', grad_fn=<NllLossBackward0>)\n"
     ]
    },
    {
     "name": "stderr",
     "output_type": "stream",
     "text": [
      "\r",
      " 18%|█▊        | 36/205 [00:10<00:49,  3.44it/s]"
     ]
    },
    {
     "name": "stdout",
     "output_type": "stream",
     "text": [
      "tensor(0.0178, device='cuda:0', grad_fn=<NllLossBackward0>)\n"
     ]
    },
    {
     "name": "stderr",
     "output_type": "stream",
     "text": [
      "\r",
      " 18%|█▊        | 37/205 [00:10<00:46,  3.59it/s]"
     ]
    },
    {
     "name": "stdout",
     "output_type": "stream",
     "text": [
      "tensor(0.0396, device='cuda:0', grad_fn=<NllLossBackward0>)\n"
     ]
    },
    {
     "name": "stderr",
     "output_type": "stream",
     "text": [
      "\r",
      " 19%|█▊        | 38/205 [00:10<00:44,  3.74it/s]"
     ]
    },
    {
     "name": "stdout",
     "output_type": "stream",
     "text": [
      "tensor(0.0375, device='cuda:0', grad_fn=<NllLossBackward0>)\n"
     ]
    },
    {
     "name": "stderr",
     "output_type": "stream",
     "text": [
      "\r",
      " 19%|█▉        | 39/205 [00:11<00:45,  3.67it/s]"
     ]
    },
    {
     "name": "stdout",
     "output_type": "stream",
     "text": [
      "tensor(0.0338, device='cuda:0', grad_fn=<NllLossBackward0>)\n"
     ]
    },
    {
     "name": "stderr",
     "output_type": "stream",
     "text": [
      "\r",
      " 20%|█▉        | 40/205 [00:11<00:45,  3.63it/s]"
     ]
    },
    {
     "name": "stdout",
     "output_type": "stream",
     "text": [
      "tensor(0.0285, device='cuda:0', grad_fn=<NllLossBackward0>)\n"
     ]
    },
    {
     "name": "stderr",
     "output_type": "stream",
     "text": [
      "\r",
      " 20%|██        | 41/205 [00:11<00:45,  3.62it/s]"
     ]
    },
    {
     "name": "stdout",
     "output_type": "stream",
     "text": [
      "tensor(0.0868, device='cuda:0', grad_fn=<NllLossBackward0>)\n"
     ]
    },
    {
     "name": "stderr",
     "output_type": "stream",
     "text": [
      "\r",
      " 20%|██        | 42/205 [00:11<00:43,  3.78it/s]"
     ]
    },
    {
     "name": "stdout",
     "output_type": "stream",
     "text": [
      "tensor(0.0378, device='cuda:0', grad_fn=<NllLossBackward0>)\n"
     ]
    },
    {
     "name": "stderr",
     "output_type": "stream",
     "text": [
      "\r",
      " 21%|██        | 43/205 [00:12<00:43,  3.73it/s]"
     ]
    },
    {
     "name": "stdout",
     "output_type": "stream",
     "text": [
      "tensor(0.0308, device='cuda:0', grad_fn=<NllLossBackward0>)\n"
     ]
    },
    {
     "name": "stderr",
     "output_type": "stream",
     "text": [
      "\r",
      " 21%|██▏       | 44/205 [00:12<00:43,  3.74it/s]"
     ]
    },
    {
     "name": "stdout",
     "output_type": "stream",
     "text": [
      "tensor(0.0196, device='cuda:0', grad_fn=<NllLossBackward0>)\n"
     ]
    },
    {
     "name": "stderr",
     "output_type": "stream",
     "text": [
      "\r",
      " 22%|██▏       | 45/205 [00:12<00:43,  3.69it/s]"
     ]
    },
    {
     "name": "stdout",
     "output_type": "stream",
     "text": [
      "tensor(0.0191, device='cuda:0', grad_fn=<NllLossBackward0>)\n"
     ]
    },
    {
     "name": "stderr",
     "output_type": "stream",
     "text": [
      "\r",
      " 22%|██▏       | 46/205 [00:12<00:43,  3.66it/s]"
     ]
    },
    {
     "name": "stdout",
     "output_type": "stream",
     "text": [
      "tensor(0.0199, device='cuda:0', grad_fn=<NllLossBackward0>)\n"
     ]
    },
    {
     "name": "stderr",
     "output_type": "stream",
     "text": [
      "\r",
      " 23%|██▎       | 47/205 [00:13<00:42,  3.70it/s]"
     ]
    },
    {
     "name": "stdout",
     "output_type": "stream",
     "text": [
      "tensor(0.0353, device='cuda:0', grad_fn=<NllLossBackward0>)\n"
     ]
    },
    {
     "name": "stderr",
     "output_type": "stream",
     "text": [
      "\r",
      " 23%|██▎       | 48/205 [00:13<00:41,  3.78it/s]"
     ]
    },
    {
     "name": "stdout",
     "output_type": "stream",
     "text": [
      "tensor(0.0358, device='cuda:0', grad_fn=<NllLossBackward0>)\n"
     ]
    },
    {
     "name": "stderr",
     "output_type": "stream",
     "text": [
      "\r",
      " 24%|██▍       | 49/205 [00:13<00:40,  3.85it/s]"
     ]
    },
    {
     "name": "stdout",
     "output_type": "stream",
     "text": [
      "tensor(0.0079, device='cuda:0', grad_fn=<NllLossBackward0>)\n"
     ]
    },
    {
     "name": "stderr",
     "output_type": "stream",
     "text": [
      "\r",
      " 24%|██▍       | 50/205 [00:13<00:40,  3.85it/s]"
     ]
    },
    {
     "name": "stdout",
     "output_type": "stream",
     "text": [
      "tensor(0.0193, device='cuda:0', grad_fn=<NllLossBackward0>)\n"
     ]
    },
    {
     "name": "stderr",
     "output_type": "stream",
     "text": [
      "\r",
      " 25%|██▍       | 51/205 [00:14<00:41,  3.73it/s]"
     ]
    },
    {
     "name": "stdout",
     "output_type": "stream",
     "text": [
      "tensor(0.0142, device='cuda:0', grad_fn=<NllLossBackward0>)\n"
     ]
    },
    {
     "name": "stderr",
     "output_type": "stream",
     "text": [
      "\r",
      " 25%|██▌       | 52/205 [00:14<00:43,  3.54it/s]"
     ]
    },
    {
     "name": "stdout",
     "output_type": "stream",
     "text": [
      "tensor(0.0256, device='cuda:0', grad_fn=<NllLossBackward0>)\n"
     ]
    },
    {
     "name": "stderr",
     "output_type": "stream",
     "text": [
      "\r",
      " 26%|██▌       | 53/205 [00:14<00:41,  3.65it/s]"
     ]
    },
    {
     "name": "stdout",
     "output_type": "stream",
     "text": [
      "tensor(0.0288, device='cuda:0', grad_fn=<NllLossBackward0>)\n"
     ]
    },
    {
     "name": "stderr",
     "output_type": "stream",
     "text": [
      "\r",
      " 26%|██▋       | 54/205 [00:15<00:41,  3.64it/s]"
     ]
    },
    {
     "name": "stdout",
     "output_type": "stream",
     "text": [
      "tensor(0.0272, device='cuda:0', grad_fn=<NllLossBackward0>)\n"
     ]
    },
    {
     "name": "stderr",
     "output_type": "stream",
     "text": [
      "\r",
      " 27%|██▋       | 55/205 [00:15<00:41,  3.62it/s]"
     ]
    },
    {
     "name": "stdout",
     "output_type": "stream",
     "text": [
      "tensor(0.0172, device='cuda:0', grad_fn=<NllLossBackward0>)\n"
     ]
    },
    {
     "name": "stderr",
     "output_type": "stream",
     "text": [
      "\r",
      " 27%|██▋       | 56/205 [00:15<00:40,  3.69it/s]"
     ]
    },
    {
     "name": "stdout",
     "output_type": "stream",
     "text": [
      "tensor(0.0252, device='cuda:0', grad_fn=<NllLossBackward0>)\n"
     ]
    },
    {
     "name": "stderr",
     "output_type": "stream",
     "text": [
      "\r",
      " 28%|██▊       | 57/205 [00:15<00:41,  3.53it/s]"
     ]
    },
    {
     "name": "stdout",
     "output_type": "stream",
     "text": [
      "tensor(0.0152, device='cuda:0', grad_fn=<NllLossBackward0>)\n"
     ]
    },
    {
     "name": "stderr",
     "output_type": "stream",
     "text": [
      "\r",
      " 28%|██▊       | 58/205 [00:16<00:41,  3.55it/s]"
     ]
    },
    {
     "name": "stdout",
     "output_type": "stream",
     "text": [
      "tensor(0.0263, device='cuda:0', grad_fn=<NllLossBackward0>)\n"
     ]
    },
    {
     "name": "stderr",
     "output_type": "stream",
     "text": [
      "\r",
      " 29%|██▉       | 59/205 [00:16<00:39,  3.68it/s]"
     ]
    },
    {
     "name": "stdout",
     "output_type": "stream",
     "text": [
      "tensor(0.0045, device='cuda:0', grad_fn=<NllLossBackward0>)\n"
     ]
    },
    {
     "name": "stderr",
     "output_type": "stream",
     "text": [
      "\r",
      " 29%|██▉       | 60/205 [00:16<00:40,  3.62it/s]"
     ]
    },
    {
     "name": "stdout",
     "output_type": "stream",
     "text": [
      "tensor(0.0266, device='cuda:0', grad_fn=<NllLossBackward0>)\n"
     ]
    },
    {
     "name": "stderr",
     "output_type": "stream",
     "text": [
      "\r",
      " 30%|██▉       | 61/205 [00:17<00:39,  3.63it/s]"
     ]
    },
    {
     "name": "stdout",
     "output_type": "stream",
     "text": [
      "tensor(0.0223, device='cuda:0', grad_fn=<NllLossBackward0>)\n"
     ]
    },
    {
     "name": "stderr",
     "output_type": "stream",
     "text": [
      "\r",
      " 30%|███       | 62/205 [00:17<00:37,  3.78it/s]"
     ]
    },
    {
     "name": "stdout",
     "output_type": "stream",
     "text": [
      "tensor(0.0273, device='cuda:0', grad_fn=<NllLossBackward0>)\n"
     ]
    },
    {
     "name": "stderr",
     "output_type": "stream",
     "text": [
      "\r",
      " 31%|███       | 63/205 [00:17<00:36,  3.87it/s]"
     ]
    },
    {
     "name": "stdout",
     "output_type": "stream",
     "text": [
      "tensor(0.0158, device='cuda:0', grad_fn=<NllLossBackward0>)\n"
     ]
    },
    {
     "name": "stderr",
     "output_type": "stream",
     "text": [
      "\r",
      " 31%|███       | 64/205 [00:17<00:37,  3.81it/s]"
     ]
    },
    {
     "name": "stdout",
     "output_type": "stream",
     "text": [
      "tensor(0.0284, device='cuda:0', grad_fn=<NllLossBackward0>)\n"
     ]
    },
    {
     "name": "stderr",
     "output_type": "stream",
     "text": [
      "\r",
      " 32%|███▏      | 65/205 [00:18<00:35,  3.91it/s]"
     ]
    },
    {
     "name": "stdout",
     "output_type": "stream",
     "text": [
      "tensor(0.0196, device='cuda:0', grad_fn=<NllLossBackward0>)\n"
     ]
    },
    {
     "name": "stderr",
     "output_type": "stream",
     "text": [
      "\r",
      " 32%|███▏      | 66/205 [00:18<00:36,  3.84it/s]"
     ]
    },
    {
     "name": "stdout",
     "output_type": "stream",
     "text": [
      "tensor(0.0102, device='cuda:0', grad_fn=<NllLossBackward0>)\n"
     ]
    },
    {
     "name": "stderr",
     "output_type": "stream",
     "text": [
      "\r",
      " 33%|███▎      | 67/205 [00:18<00:36,  3.73it/s]"
     ]
    },
    {
     "name": "stdout",
     "output_type": "stream",
     "text": [
      "tensor(0.0172, device='cuda:0', grad_fn=<NllLossBackward0>)\n"
     ]
    },
    {
     "name": "stderr",
     "output_type": "stream",
     "text": [
      "\r",
      " 33%|███▎      | 68/205 [00:18<00:36,  3.81it/s]"
     ]
    },
    {
     "name": "stdout",
     "output_type": "stream",
     "text": [
      "tensor(0.0254, device='cuda:0', grad_fn=<NllLossBackward0>)\n"
     ]
    },
    {
     "name": "stderr",
     "output_type": "stream",
     "text": [
      "\r",
      " 34%|███▎      | 69/205 [00:19<00:36,  3.77it/s]"
     ]
    },
    {
     "name": "stdout",
     "output_type": "stream",
     "text": [
      "tensor(0.0277, device='cuda:0', grad_fn=<NllLossBackward0>)\n"
     ]
    },
    {
     "name": "stderr",
     "output_type": "stream",
     "text": [
      "\r",
      " 34%|███▍      | 70/205 [00:19<00:35,  3.85it/s]"
     ]
    },
    {
     "name": "stdout",
     "output_type": "stream",
     "text": [
      "tensor(0.0087, device='cuda:0', grad_fn=<NllLossBackward0>)\n"
     ]
    },
    {
     "name": "stderr",
     "output_type": "stream",
     "text": [
      "\r",
      " 35%|███▍      | 71/205 [00:19<00:35,  3.77it/s]"
     ]
    },
    {
     "name": "stdout",
     "output_type": "stream",
     "text": [
      "tensor(0.0354, device='cuda:0', grad_fn=<NllLossBackward0>)\n"
     ]
    },
    {
     "name": "stderr",
     "output_type": "stream",
     "text": [
      "\r",
      " 35%|███▌      | 72/205 [00:19<00:34,  3.83it/s]"
     ]
    },
    {
     "name": "stdout",
     "output_type": "stream",
     "text": [
      "tensor(0.0321, device='cuda:0', grad_fn=<NllLossBackward0>)\n"
     ]
    },
    {
     "name": "stderr",
     "output_type": "stream",
     "text": [
      "\r",
      " 36%|███▌      | 73/205 [00:20<00:35,  3.75it/s]"
     ]
    },
    {
     "name": "stdout",
     "output_type": "stream",
     "text": [
      "tensor(0.0179, device='cuda:0', grad_fn=<NllLossBackward0>)\n"
     ]
    },
    {
     "name": "stderr",
     "output_type": "stream",
     "text": [
      "\r",
      " 36%|███▌      | 74/205 [00:20<00:39,  3.33it/s]"
     ]
    },
    {
     "name": "stdout",
     "output_type": "stream",
     "text": [
      "tensor(0.0261, device='cuda:0', grad_fn=<NllLossBackward0>)\n"
     ]
    },
    {
     "name": "stderr",
     "output_type": "stream",
     "text": [
      "\r",
      " 37%|███▋      | 75/205 [00:20<00:37,  3.48it/s]"
     ]
    },
    {
     "name": "stdout",
     "output_type": "stream",
     "text": [
      "tensor(0.0363, device='cuda:0', grad_fn=<NllLossBackward0>)\n"
     ]
    },
    {
     "name": "stderr",
     "output_type": "stream",
     "text": [
      "\r",
      " 37%|███▋      | 76/205 [00:21<00:36,  3.57it/s]"
     ]
    },
    {
     "name": "stdout",
     "output_type": "stream",
     "text": [
      "tensor(0.0236, device='cuda:0', grad_fn=<NllLossBackward0>)\n"
     ]
    },
    {
     "name": "stderr",
     "output_type": "stream",
     "text": [
      "\r",
      " 38%|███▊      | 77/205 [00:21<00:35,  3.63it/s]"
     ]
    },
    {
     "name": "stdout",
     "output_type": "stream",
     "text": [
      "tensor(0.0268, device='cuda:0', grad_fn=<NllLossBackward0>)\n"
     ]
    },
    {
     "name": "stderr",
     "output_type": "stream",
     "text": [
      "\r",
      " 38%|███▊      | 78/205 [00:21<00:35,  3.63it/s]"
     ]
    },
    {
     "name": "stdout",
     "output_type": "stream",
     "text": [
      "tensor(0.0299, device='cuda:0', grad_fn=<NllLossBackward0>)\n"
     ]
    },
    {
     "name": "stderr",
     "output_type": "stream",
     "text": [
      "\r",
      " 39%|███▊      | 79/205 [00:21<00:35,  3.59it/s]"
     ]
    },
    {
     "name": "stdout",
     "output_type": "stream",
     "text": [
      "tensor(0.0264, device='cuda:0', grad_fn=<NllLossBackward0>)\n"
     ]
    },
    {
     "name": "stderr",
     "output_type": "stream",
     "text": [
      "\r",
      " 39%|███▉      | 80/205 [00:22<00:34,  3.61it/s]"
     ]
    },
    {
     "name": "stdout",
     "output_type": "stream",
     "text": [
      "tensor(0.0178, device='cuda:0', grad_fn=<NllLossBackward0>)\n"
     ]
    },
    {
     "name": "stderr",
     "output_type": "stream",
     "text": [
      "\r",
      " 40%|███▉      | 81/205 [00:22<00:33,  3.67it/s]"
     ]
    },
    {
     "name": "stdout",
     "output_type": "stream",
     "text": [
      "tensor(0.0066, device='cuda:0', grad_fn=<NllLossBackward0>)\n"
     ]
    },
    {
     "name": "stderr",
     "output_type": "stream",
     "text": [
      "\r",
      " 40%|████      | 82/205 [00:22<00:33,  3.66it/s]"
     ]
    },
    {
     "name": "stdout",
     "output_type": "stream",
     "text": [
      "tensor(0.0176, device='cuda:0', grad_fn=<NllLossBackward0>)\n"
     ]
    },
    {
     "name": "stderr",
     "output_type": "stream",
     "text": [
      "\r",
      " 40%|████      | 83/205 [00:22<00:33,  3.69it/s]"
     ]
    },
    {
     "name": "stdout",
     "output_type": "stream",
     "text": [
      "tensor(0.0175, device='cuda:0', grad_fn=<NllLossBackward0>)\n"
     ]
    },
    {
     "name": "stderr",
     "output_type": "stream",
     "text": [
      "\r",
      " 41%|████      | 84/205 [00:23<00:34,  3.51it/s]"
     ]
    },
    {
     "name": "stdout",
     "output_type": "stream",
     "text": [
      "tensor(0.0260, device='cuda:0', grad_fn=<NllLossBackward0>)\n"
     ]
    },
    {
     "name": "stderr",
     "output_type": "stream",
     "text": [
      "\r",
      " 41%|████▏     | 85/205 [00:23<00:34,  3.48it/s]"
     ]
    },
    {
     "name": "stdout",
     "output_type": "stream",
     "text": [
      "tensor(0.0336, device='cuda:0', grad_fn=<NllLossBackward0>)\n"
     ]
    },
    {
     "name": "stderr",
     "output_type": "stream",
     "text": [
      "\r",
      " 42%|████▏     | 86/205 [00:23<00:33,  3.50it/s]"
     ]
    },
    {
     "name": "stdout",
     "output_type": "stream",
     "text": [
      "tensor(0.0228, device='cuda:0', grad_fn=<NllLossBackward0>)\n"
     ]
    },
    {
     "name": "stderr",
     "output_type": "stream",
     "text": [
      "\r",
      " 42%|████▏     | 87/205 [00:24<00:33,  3.47it/s]"
     ]
    },
    {
     "name": "stdout",
     "output_type": "stream",
     "text": [
      "tensor(0.0281, device='cuda:0', grad_fn=<NllLossBackward0>)\n"
     ]
    },
    {
     "name": "stderr",
     "output_type": "stream",
     "text": [
      "\r",
      " 43%|████▎     | 88/205 [00:24<00:32,  3.60it/s]"
     ]
    },
    {
     "name": "stdout",
     "output_type": "stream",
     "text": [
      "tensor(0.0282, device='cuda:0', grad_fn=<NllLossBackward0>)\n"
     ]
    },
    {
     "name": "stderr",
     "output_type": "stream",
     "text": [
      "\r",
      " 43%|████▎     | 89/205 [00:24<00:32,  3.56it/s]"
     ]
    },
    {
     "name": "stdout",
     "output_type": "stream",
     "text": [
      "tensor(0.0246, device='cuda:0', grad_fn=<NllLossBackward0>)\n"
     ]
    },
    {
     "name": "stderr",
     "output_type": "stream",
     "text": [
      "\r",
      " 44%|████▍     | 90/205 [00:24<00:31,  3.64it/s]"
     ]
    },
    {
     "name": "stdout",
     "output_type": "stream",
     "text": [
      "tensor(0.0294, device='cuda:0', grad_fn=<NllLossBackward0>)\n"
     ]
    },
    {
     "name": "stderr",
     "output_type": "stream",
     "text": [
      "\r",
      " 44%|████▍     | 91/205 [00:25<00:31,  3.62it/s]"
     ]
    },
    {
     "name": "stdout",
     "output_type": "stream",
     "text": [
      "tensor(0.0270, device='cuda:0', grad_fn=<NllLossBackward0>)\n"
     ]
    },
    {
     "name": "stderr",
     "output_type": "stream",
     "text": [
      "\r",
      " 45%|████▍     | 92/205 [00:25<00:32,  3.46it/s]"
     ]
    },
    {
     "name": "stdout",
     "output_type": "stream",
     "text": [
      "tensor(0.0307, device='cuda:0', grad_fn=<NllLossBackward0>)\n"
     ]
    },
    {
     "name": "stderr",
     "output_type": "stream",
     "text": [
      "\r",
      " 45%|████▌     | 93/205 [00:25<00:32,  3.49it/s]"
     ]
    },
    {
     "name": "stdout",
     "output_type": "stream",
     "text": [
      "tensor(0.0267, device='cuda:0', grad_fn=<NllLossBackward0>)\n",
      "tensor(0.0432, device='cuda:0', grad_fn=<NllLossBackward0>)\n"
     ]
    },
    {
     "name": "stderr",
     "output_type": "stream",
     "text": [
      " 46%|████▋     | 95/205 [00:26<00:35,  3.13it/s]"
     ]
    },
    {
     "name": "stdout",
     "output_type": "stream",
     "text": [
      "tensor(0.0228, device='cuda:0', grad_fn=<NllLossBackward0>)\n"
     ]
    },
    {
     "name": "stderr",
     "output_type": "stream",
     "text": [
      "\r",
      " 47%|████▋     | 96/205 [00:26<00:33,  3.23it/s]"
     ]
    },
    {
     "name": "stdout",
     "output_type": "stream",
     "text": [
      "tensor(0.0342, device='cuda:0', grad_fn=<NllLossBackward0>)\n"
     ]
    },
    {
     "name": "stderr",
     "output_type": "stream",
     "text": [
      "\r",
      " 47%|████▋     | 97/205 [00:27<00:33,  3.18it/s]"
     ]
    },
    {
     "name": "stdout",
     "output_type": "stream",
     "text": [
      "tensor(0.0220, device='cuda:0', grad_fn=<NllLossBackward0>)\n"
     ]
    },
    {
     "name": "stderr",
     "output_type": "stream",
     "text": [
      "\r",
      " 48%|████▊     | 98/205 [00:27<00:34,  3.13it/s]"
     ]
    },
    {
     "name": "stdout",
     "output_type": "stream",
     "text": [
      "tensor(0.0296, device='cuda:0', grad_fn=<NllLossBackward0>)\n"
     ]
    },
    {
     "name": "stderr",
     "output_type": "stream",
     "text": [
      "\r",
      " 48%|████▊     | 99/205 [00:27<00:32,  3.25it/s]"
     ]
    },
    {
     "name": "stdout",
     "output_type": "stream",
     "text": [
      "tensor(0.0122, device='cuda:0', grad_fn=<NllLossBackward0>)\n"
     ]
    },
    {
     "name": "stderr",
     "output_type": "stream",
     "text": [
      "\r",
      " 49%|████▉     | 100/205 [00:28<00:31,  3.35it/s]"
     ]
    },
    {
     "name": "stdout",
     "output_type": "stream",
     "text": [
      "tensor(0.0225, device='cuda:0', grad_fn=<NllLossBackward0>)\n"
     ]
    },
    {
     "name": "stderr",
     "output_type": "stream",
     "text": [
      "\r",
      " 49%|████▉     | 101/205 [00:28<00:32,  3.23it/s]"
     ]
    },
    {
     "name": "stdout",
     "output_type": "stream",
     "text": [
      "tensor(0.0393, device='cuda:0', grad_fn=<NllLossBackward0>)\n"
     ]
    },
    {
     "name": "stderr",
     "output_type": "stream",
     "text": [
      "\r",
      " 50%|████▉     | 102/205 [00:28<00:30,  3.40it/s]"
     ]
    },
    {
     "name": "stdout",
     "output_type": "stream",
     "text": [
      "tensor(0.0278, device='cuda:0', grad_fn=<NllLossBackward0>)\n"
     ]
    },
    {
     "name": "stderr",
     "output_type": "stream",
     "text": [
      "\r",
      " 50%|█████     | 103/205 [00:28<00:29,  3.44it/s]"
     ]
    },
    {
     "name": "stdout",
     "output_type": "stream",
     "text": [
      "tensor(0.0300, device='cuda:0', grad_fn=<NllLossBackward0>)\n"
     ]
    },
    {
     "name": "stderr",
     "output_type": "stream",
     "text": [
      "\r",
      " 51%|█████     | 104/205 [00:29<00:28,  3.58it/s]"
     ]
    },
    {
     "name": "stdout",
     "output_type": "stream",
     "text": [
      "tensor(0.0214, device='cuda:0', grad_fn=<NllLossBackward0>)\n"
     ]
    },
    {
     "name": "stderr",
     "output_type": "stream",
     "text": [
      "\r",
      " 51%|█████     | 105/205 [00:29<00:26,  3.74it/s]"
     ]
    },
    {
     "name": "stdout",
     "output_type": "stream",
     "text": [
      "tensor(0.0161, device='cuda:0', grad_fn=<NllLossBackward0>)\n"
     ]
    },
    {
     "name": "stderr",
     "output_type": "stream",
     "text": [
      "\r",
      " 52%|█████▏    | 106/205 [00:29<00:26,  3.70it/s]"
     ]
    },
    {
     "name": "stdout",
     "output_type": "stream",
     "text": [
      "tensor(0.0232, device='cuda:0', grad_fn=<NllLossBackward0>)\n"
     ]
    },
    {
     "name": "stderr",
     "output_type": "stream",
     "text": [
      "\r",
      " 52%|█████▏    | 107/205 [00:29<00:25,  3.84it/s]"
     ]
    },
    {
     "name": "stdout",
     "output_type": "stream",
     "text": [
      "tensor(0.0476, device='cuda:0', grad_fn=<NllLossBackward0>)\n"
     ]
    },
    {
     "name": "stderr",
     "output_type": "stream",
     "text": [
      "\r",
      " 53%|█████▎    | 108/205 [00:30<00:26,  3.64it/s]"
     ]
    },
    {
     "name": "stdout",
     "output_type": "stream",
     "text": [
      "tensor(0.0173, device='cuda:0', grad_fn=<NllLossBackward0>)\n"
     ]
    },
    {
     "name": "stderr",
     "output_type": "stream",
     "text": [
      "\r",
      " 53%|█████▎    | 109/205 [00:30<00:28,  3.42it/s]"
     ]
    },
    {
     "name": "stdout",
     "output_type": "stream",
     "text": [
      "tensor(0.0222, device='cuda:0', grad_fn=<NllLossBackward0>)\n"
     ]
    },
    {
     "name": "stderr",
     "output_type": "stream",
     "text": [
      "\r",
      " 54%|█████▎    | 110/205 [00:30<00:27,  3.46it/s]"
     ]
    },
    {
     "name": "stdout",
     "output_type": "stream",
     "text": [
      "tensor(0.0236, device='cuda:0', grad_fn=<NllLossBackward0>)\n"
     ]
    },
    {
     "name": "stderr",
     "output_type": "stream",
     "text": [
      "\r",
      " 54%|█████▍    | 111/205 [00:31<00:26,  3.50it/s]"
     ]
    },
    {
     "name": "stdout",
     "output_type": "stream",
     "text": [
      "tensor(0.0272, device='cuda:0', grad_fn=<NllLossBackward0>)\n"
     ]
    },
    {
     "name": "stderr",
     "output_type": "stream",
     "text": [
      "\r",
      " 55%|█████▍    | 112/205 [00:31<00:27,  3.40it/s]"
     ]
    },
    {
     "name": "stdout",
     "output_type": "stream",
     "text": [
      "tensor(0.0287, device='cuda:0', grad_fn=<NllLossBackward0>)\n"
     ]
    },
    {
     "name": "stderr",
     "output_type": "stream",
     "text": [
      "\r",
      " 55%|█████▌    | 113/205 [00:31<00:26,  3.43it/s]"
     ]
    },
    {
     "name": "stdout",
     "output_type": "stream",
     "text": [
      "tensor(0.0408, device='cuda:0', grad_fn=<NllLossBackward0>)\n"
     ]
    },
    {
     "name": "stderr",
     "output_type": "stream",
     "text": [
      "\r",
      " 56%|█████▌    | 114/205 [00:32<00:28,  3.14it/s]"
     ]
    },
    {
     "name": "stdout",
     "output_type": "stream",
     "text": [
      "tensor(0.0613, device='cuda:0', grad_fn=<NllLossBackward0>)\n"
     ]
    },
    {
     "name": "stderr",
     "output_type": "stream",
     "text": [
      "\r",
      " 56%|█████▌    | 115/205 [00:32<00:26,  3.36it/s]"
     ]
    },
    {
     "name": "stdout",
     "output_type": "stream",
     "text": [
      "tensor(0.0332, device='cuda:0', grad_fn=<NllLossBackward0>)\n"
     ]
    },
    {
     "name": "stderr",
     "output_type": "stream",
     "text": [
      "\r",
      " 57%|█████▋    | 116/205 [00:32<00:25,  3.45it/s]"
     ]
    },
    {
     "name": "stdout",
     "output_type": "stream",
     "text": [
      "tensor(0.0321, device='cuda:0', grad_fn=<NllLossBackward0>)\n"
     ]
    },
    {
     "name": "stderr",
     "output_type": "stream",
     "text": [
      "\r",
      " 57%|█████▋    | 117/205 [00:32<00:24,  3.54it/s]"
     ]
    },
    {
     "name": "stdout",
     "output_type": "stream",
     "text": [
      "tensor(0.0299, device='cuda:0', grad_fn=<NllLossBackward0>)\n"
     ]
    },
    {
     "name": "stderr",
     "output_type": "stream",
     "text": [
      "\r",
      " 58%|█████▊    | 118/205 [00:33<00:27,  3.20it/s]"
     ]
    },
    {
     "name": "stdout",
     "output_type": "stream",
     "text": [
      "tensor(0.1060, device='cuda:0', grad_fn=<NllLossBackward0>)\n"
     ]
    },
    {
     "name": "stderr",
     "output_type": "stream",
     "text": [
      "\r",
      " 58%|█████▊    | 119/205 [00:33<00:26,  3.24it/s]"
     ]
    },
    {
     "name": "stdout",
     "output_type": "stream",
     "text": [
      "tensor(0.0279, device='cuda:0', grad_fn=<NllLossBackward0>)\n"
     ]
    },
    {
     "name": "stderr",
     "output_type": "stream",
     "text": [
      "\r",
      " 59%|█████▊    | 120/205 [00:33<00:26,  3.25it/s]"
     ]
    },
    {
     "name": "stdout",
     "output_type": "stream",
     "text": [
      "tensor(0.0351, device='cuda:0', grad_fn=<NllLossBackward0>)\n"
     ]
    },
    {
     "name": "stderr",
     "output_type": "stream",
     "text": [
      "\r",
      " 59%|█████▉    | 121/205 [00:34<00:27,  3.06it/s]"
     ]
    },
    {
     "name": "stdout",
     "output_type": "stream",
     "text": [
      "tensor(0.0419, device='cuda:0', grad_fn=<NllLossBackward0>)\n"
     ]
    },
    {
     "name": "stderr",
     "output_type": "stream",
     "text": [
      "\r",
      " 60%|█████▉    | 122/205 [00:34<00:26,  3.19it/s]"
     ]
    },
    {
     "name": "stdout",
     "output_type": "stream",
     "text": [
      "tensor(0.0222, device='cuda:0', grad_fn=<NllLossBackward0>)\n"
     ]
    },
    {
     "name": "stderr",
     "output_type": "stream",
     "text": [
      "\r",
      " 60%|██████    | 123/205 [00:34<00:24,  3.35it/s]"
     ]
    },
    {
     "name": "stdout",
     "output_type": "stream",
     "text": [
      "tensor(0.0309, device='cuda:0', grad_fn=<NllLossBackward0>)\n"
     ]
    },
    {
     "name": "stderr",
     "output_type": "stream",
     "text": [
      "\r",
      " 60%|██████    | 124/205 [00:35<00:23,  3.48it/s]"
     ]
    },
    {
     "name": "stdout",
     "output_type": "stream",
     "text": [
      "tensor(0.0225, device='cuda:0', grad_fn=<NllLossBackward0>)\n"
     ]
    },
    {
     "name": "stderr",
     "output_type": "stream",
     "text": [
      "\r",
      " 61%|██████    | 125/205 [00:35<00:24,  3.24it/s]"
     ]
    },
    {
     "name": "stdout",
     "output_type": "stream",
     "text": [
      "tensor(0.0578, device='cuda:0', grad_fn=<NllLossBackward0>)\n"
     ]
    },
    {
     "name": "stderr",
     "output_type": "stream",
     "text": [
      "\r",
      " 61%|██████▏   | 126/205 [00:35<00:23,  3.32it/s]"
     ]
    },
    {
     "name": "stdout",
     "output_type": "stream",
     "text": [
      "tensor(0.0274, device='cuda:0', grad_fn=<NllLossBackward0>)\n"
     ]
    },
    {
     "name": "stderr",
     "output_type": "stream",
     "text": [
      "\r",
      " 62%|██████▏   | 127/205 [00:35<00:22,  3.49it/s]"
     ]
    },
    {
     "name": "stdout",
     "output_type": "stream",
     "text": [
      "tensor(0.0150, device='cuda:0', grad_fn=<NllLossBackward0>)\n"
     ]
    },
    {
     "name": "stderr",
     "output_type": "stream",
     "text": [
      "\r",
      " 62%|██████▏   | 128/205 [00:36<00:21,  3.58it/s]"
     ]
    },
    {
     "name": "stdout",
     "output_type": "stream",
     "text": [
      "tensor(0.0221, device='cuda:0', grad_fn=<NllLossBackward0>)\n"
     ]
    },
    {
     "name": "stderr",
     "output_type": "stream",
     "text": [
      "\r",
      " 63%|██████▎   | 129/205 [00:36<00:20,  3.66it/s]"
     ]
    },
    {
     "name": "stdout",
     "output_type": "stream",
     "text": [
      "tensor(0.0241, device='cuda:0', grad_fn=<NllLossBackward0>)\n"
     ]
    },
    {
     "name": "stderr",
     "output_type": "stream",
     "text": [
      "\r",
      " 63%|██████▎   | 130/205 [00:36<00:20,  3.70it/s]"
     ]
    },
    {
     "name": "stdout",
     "output_type": "stream",
     "text": [
      "tensor(0.0446, device='cuda:0', grad_fn=<NllLossBackward0>)\n"
     ]
    },
    {
     "name": "stderr",
     "output_type": "stream",
     "text": [
      "\r",
      " 64%|██████▍   | 131/205 [00:36<00:19,  3.79it/s]"
     ]
    },
    {
     "name": "stdout",
     "output_type": "stream",
     "text": [
      "tensor(0.0369, device='cuda:0', grad_fn=<NllLossBackward0>)\n"
     ]
    },
    {
     "name": "stderr",
     "output_type": "stream",
     "text": [
      "\r",
      " 64%|██████▍   | 132/205 [00:37<00:19,  3.74it/s]"
     ]
    },
    {
     "name": "stdout",
     "output_type": "stream",
     "text": [
      "tensor(0.0614, device='cuda:0', grad_fn=<NllLossBackward0>)\n"
     ]
    },
    {
     "name": "stderr",
     "output_type": "stream",
     "text": [
      "\r",
      " 65%|██████▍   | 133/205 [00:37<00:19,  3.75it/s]"
     ]
    },
    {
     "name": "stdout",
     "output_type": "stream",
     "text": [
      "tensor(0.0359, device='cuda:0', grad_fn=<NllLossBackward0>)\n"
     ]
    },
    {
     "name": "stderr",
     "output_type": "stream",
     "text": [
      "\r",
      " 65%|██████▌   | 134/205 [00:37<00:18,  3.87it/s]"
     ]
    },
    {
     "name": "stdout",
     "output_type": "stream",
     "text": [
      "tensor(0.0573, device='cuda:0', grad_fn=<NllLossBackward0>)\n"
     ]
    },
    {
     "name": "stderr",
     "output_type": "stream",
     "text": [
      "\r",
      " 66%|██████▌   | 135/205 [00:38<00:19,  3.54it/s]"
     ]
    },
    {
     "name": "stdout",
     "output_type": "stream",
     "text": [
      "tensor(0.0550, device='cuda:0', grad_fn=<NllLossBackward0>)\n"
     ]
    },
    {
     "name": "stderr",
     "output_type": "stream",
     "text": [
      "\r",
      " 66%|██████▋   | 136/205 [00:38<00:19,  3.60it/s]"
     ]
    },
    {
     "name": "stdout",
     "output_type": "stream",
     "text": [
      "tensor(0.0691, device='cuda:0', grad_fn=<NllLossBackward0>)\n"
     ]
    },
    {
     "name": "stderr",
     "output_type": "stream",
     "text": [
      "\r",
      " 67%|██████▋   | 137/205 [00:38<00:18,  3.66it/s]"
     ]
    },
    {
     "name": "stdout",
     "output_type": "stream",
     "text": [
      "tensor(0.0290, device='cuda:0', grad_fn=<NllLossBackward0>)\n"
     ]
    },
    {
     "name": "stderr",
     "output_type": "stream",
     "text": [
      "\r",
      " 67%|██████▋   | 138/205 [00:38<00:18,  3.65it/s]"
     ]
    },
    {
     "name": "stdout",
     "output_type": "stream",
     "text": [
      "tensor(0.0685, device='cuda:0', grad_fn=<NllLossBackward0>)\n"
     ]
    },
    {
     "name": "stderr",
     "output_type": "stream",
     "text": [
      "\r",
      " 68%|██████▊   | 139/205 [00:39<00:18,  3.52it/s]"
     ]
    },
    {
     "name": "stdout",
     "output_type": "stream",
     "text": [
      "tensor(0.1033, device='cuda:0', grad_fn=<NllLossBackward0>)\n"
     ]
    },
    {
     "name": "stderr",
     "output_type": "stream",
     "text": [
      "\r",
      " 68%|██████▊   | 140/205 [00:39<00:19,  3.42it/s]"
     ]
    },
    {
     "name": "stdout",
     "output_type": "stream",
     "text": [
      "tensor(0.1057, device='cuda:0', grad_fn=<NllLossBackward0>)\n"
     ]
    },
    {
     "name": "stderr",
     "output_type": "stream",
     "text": [
      "\r",
      " 69%|██████▉   | 141/205 [00:39<00:17,  3.57it/s]"
     ]
    },
    {
     "name": "stdout",
     "output_type": "stream",
     "text": [
      "tensor(0.0523, device='cuda:0', grad_fn=<NllLossBackward0>)\n"
     ]
    },
    {
     "name": "stderr",
     "output_type": "stream",
     "text": [
      "\r",
      " 69%|██████▉   | 142/205 [00:40<00:17,  3.60it/s]"
     ]
    },
    {
     "name": "stdout",
     "output_type": "stream",
     "text": [
      "tensor(0.0424, device='cuda:0', grad_fn=<NllLossBackward0>)\n"
     ]
    },
    {
     "name": "stderr",
     "output_type": "stream",
     "text": [
      "\r",
      " 70%|██████▉   | 143/205 [00:40<00:17,  3.47it/s]"
     ]
    },
    {
     "name": "stdout",
     "output_type": "stream",
     "text": [
      "tensor(0.0952, device='cuda:0', grad_fn=<NllLossBackward0>)\n"
     ]
    },
    {
     "name": "stderr",
     "output_type": "stream",
     "text": [
      "\r",
      " 70%|███████   | 144/205 [00:40<00:17,  3.51it/s]"
     ]
    },
    {
     "name": "stdout",
     "output_type": "stream",
     "text": [
      "tensor(0.0996, device='cuda:0', grad_fn=<NllLossBackward0>)\n"
     ]
    },
    {
     "name": "stderr",
     "output_type": "stream",
     "text": [
      "\r",
      " 71%|███████   | 145/205 [00:40<00:16,  3.54it/s]"
     ]
    },
    {
     "name": "stdout",
     "output_type": "stream",
     "text": [
      "tensor(0.0703, device='cuda:0', grad_fn=<NllLossBackward0>)\n"
     ]
    },
    {
     "name": "stderr",
     "output_type": "stream",
     "text": [
      "\r",
      " 71%|███████   | 146/205 [00:41<00:16,  3.50it/s]"
     ]
    },
    {
     "name": "stdout",
     "output_type": "stream",
     "text": [
      "tensor(0.0700, device='cuda:0', grad_fn=<NllLossBackward0>)\n"
     ]
    },
    {
     "name": "stderr",
     "output_type": "stream",
     "text": [
      "\r",
      " 72%|███████▏  | 147/205 [00:41<00:18,  3.18it/s]"
     ]
    },
    {
     "name": "stdout",
     "output_type": "stream",
     "text": [
      "tensor(0.1701, device='cuda:0', grad_fn=<NllLossBackward0>)\n"
     ]
    },
    {
     "name": "stderr",
     "output_type": "stream",
     "text": [
      "\r",
      " 72%|███████▏  | 148/205 [00:41<00:18,  3.15it/s]"
     ]
    },
    {
     "name": "stdout",
     "output_type": "stream",
     "text": [
      "tensor(0.0993, device='cuda:0', grad_fn=<NllLossBackward0>)\n"
     ]
    },
    {
     "name": "stderr",
     "output_type": "stream",
     "text": [
      "\r",
      " 73%|███████▎  | 149/205 [00:42<00:17,  3.17it/s]"
     ]
    },
    {
     "name": "stdout",
     "output_type": "stream",
     "text": [
      "tensor(0.1011, device='cuda:0', grad_fn=<NllLossBackward0>)\n"
     ]
    },
    {
     "name": "stderr",
     "output_type": "stream",
     "text": [
      "\r",
      " 73%|███████▎  | 150/205 [00:42<00:16,  3.25it/s]"
     ]
    },
    {
     "name": "stdout",
     "output_type": "stream",
     "text": [
      "tensor(0.0858, device='cuda:0', grad_fn=<NllLossBackward0>)\n"
     ]
    },
    {
     "name": "stderr",
     "output_type": "stream",
     "text": [
      "\r",
      " 74%|███████▎  | 151/205 [00:42<00:16,  3.32it/s]"
     ]
    },
    {
     "name": "stdout",
     "output_type": "stream",
     "text": [
      "tensor(0.1079, device='cuda:0', grad_fn=<NllLossBackward0>)\n"
     ]
    },
    {
     "name": "stderr",
     "output_type": "stream",
     "text": [
      "\r",
      " 74%|███████▍  | 152/205 [00:43<00:16,  3.25it/s]"
     ]
    },
    {
     "name": "stdout",
     "output_type": "stream",
     "text": [
      "tensor(0.0806, device='cuda:0', grad_fn=<NllLossBackward0>)\n"
     ]
    },
    {
     "name": "stderr",
     "output_type": "stream",
     "text": [
      "\r",
      " 75%|███████▍  | 153/205 [00:43<00:16,  3.24it/s]"
     ]
    },
    {
     "name": "stdout",
     "output_type": "stream",
     "text": [
      "tensor(0.1399, device='cuda:0', grad_fn=<NllLossBackward0>)\n"
     ]
    },
    {
     "name": "stderr",
     "output_type": "stream",
     "text": [
      "\r",
      " 75%|███████▌  | 154/205 [00:43<00:14,  3.47it/s]"
     ]
    },
    {
     "name": "stdout",
     "output_type": "stream",
     "text": [
      "tensor(0.0074, device='cuda:0', grad_fn=<NllLossBackward0>)\n"
     ]
    },
    {
     "name": "stderr",
     "output_type": "stream",
     "text": [
      "\r",
      " 76%|███████▌  | 155/205 [00:43<00:13,  3.63it/s]"
     ]
    },
    {
     "name": "stdout",
     "output_type": "stream",
     "text": [
      "tensor(0.0467, device='cuda:0', grad_fn=<NllLossBackward0>)\n"
     ]
    },
    {
     "name": "stderr",
     "output_type": "stream",
     "text": [
      "\r",
      " 76%|███████▌  | 156/205 [00:44<00:13,  3.51it/s]"
     ]
    },
    {
     "name": "stdout",
     "output_type": "stream",
     "text": [
      "tensor(0.1457, device='cuda:0', grad_fn=<NllLossBackward0>)\n"
     ]
    },
    {
     "name": "stderr",
     "output_type": "stream",
     "text": [
      "\r",
      " 77%|███████▋  | 157/205 [00:44<00:13,  3.49it/s]"
     ]
    },
    {
     "name": "stdout",
     "output_type": "stream",
     "text": [
      "tensor(0.1849, device='cuda:0', grad_fn=<NllLossBackward0>)\n"
     ]
    },
    {
     "name": "stderr",
     "output_type": "stream",
     "text": [
      "\r",
      " 77%|███████▋  | 158/205 [00:44<00:13,  3.41it/s]"
     ]
    },
    {
     "name": "stdout",
     "output_type": "stream",
     "text": [
      "tensor(0.0717, device='cuda:0', grad_fn=<NllLossBackward0>)\n"
     ]
    },
    {
     "name": "stderr",
     "output_type": "stream",
     "text": [
      "\r",
      " 78%|███████▊  | 159/205 [00:45<00:13,  3.47it/s]"
     ]
    },
    {
     "name": "stdout",
     "output_type": "stream",
     "text": [
      "tensor(0.0897, device='cuda:0', grad_fn=<NllLossBackward0>)\n"
     ]
    },
    {
     "name": "stderr",
     "output_type": "stream",
     "text": [
      "\r",
      " 78%|███████▊  | 160/205 [00:45<00:12,  3.61it/s]"
     ]
    },
    {
     "name": "stdout",
     "output_type": "stream",
     "text": [
      "tensor(0.0573, device='cuda:0', grad_fn=<NllLossBackward0>)\n"
     ]
    },
    {
     "name": "stderr",
     "output_type": "stream",
     "text": [
      "\r",
      " 79%|███████▊  | 161/205 [00:45<00:12,  3.50it/s]"
     ]
    },
    {
     "name": "stdout",
     "output_type": "stream",
     "text": [
      "tensor(0.1427, device='cuda:0', grad_fn=<NllLossBackward0>)\n"
     ]
    },
    {
     "name": "stderr",
     "output_type": "stream",
     "text": [
      "\r",
      " 79%|███████▉  | 162/205 [00:45<00:12,  3.39it/s]"
     ]
    },
    {
     "name": "stdout",
     "output_type": "stream",
     "text": [
      "tensor(0.1119, device='cuda:0', grad_fn=<NllLossBackward0>)\n"
     ]
    },
    {
     "name": "stderr",
     "output_type": "stream",
     "text": [
      "\r",
      " 80%|███████▉  | 163/205 [00:46<00:11,  3.58it/s]"
     ]
    },
    {
     "name": "stdout",
     "output_type": "stream",
     "text": [
      "tensor(0.0488, device='cuda:0', grad_fn=<NllLossBackward0>)\n"
     ]
    },
    {
     "name": "stderr",
     "output_type": "stream",
     "text": [
      "\r",
      " 80%|████████  | 164/205 [00:46<00:11,  3.66it/s]"
     ]
    },
    {
     "name": "stdout",
     "output_type": "stream",
     "text": [
      "tensor(0.0776, device='cuda:0', grad_fn=<NllLossBackward0>)\n"
     ]
    },
    {
     "name": "stderr",
     "output_type": "stream",
     "text": [
      "\r",
      " 80%|████████  | 165/205 [00:46<00:11,  3.49it/s]"
     ]
    },
    {
     "name": "stdout",
     "output_type": "stream",
     "text": [
      "tensor(0.1039, device='cuda:0', grad_fn=<NllLossBackward0>)\n"
     ]
    },
    {
     "name": "stderr",
     "output_type": "stream",
     "text": [
      "\r",
      " 81%|████████  | 166/205 [00:47<00:11,  3.52it/s]"
     ]
    },
    {
     "name": "stdout",
     "output_type": "stream",
     "text": [
      "tensor(0.0860, device='cuda:0', grad_fn=<NllLossBackward0>)\n"
     ]
    },
    {
     "name": "stderr",
     "output_type": "stream",
     "text": [
      "\r",
      " 81%|████████▏ | 167/205 [00:47<00:10,  3.53it/s]"
     ]
    },
    {
     "name": "stdout",
     "output_type": "stream",
     "text": [
      "tensor(0.1359, device='cuda:0', grad_fn=<NllLossBackward0>)\n"
     ]
    },
    {
     "name": "stderr",
     "output_type": "stream",
     "text": [
      "\r",
      " 82%|████████▏ | 168/205 [00:47<00:10,  3.62it/s]"
     ]
    },
    {
     "name": "stdout",
     "output_type": "stream",
     "text": [
      "tensor(0.0704, device='cuda:0', grad_fn=<NllLossBackward0>)\n"
     ]
    },
    {
     "name": "stderr",
     "output_type": "stream",
     "text": [
      "\r",
      " 82%|████████▏ | 169/205 [00:47<00:10,  3.46it/s]"
     ]
    },
    {
     "name": "stdout",
     "output_type": "stream",
     "text": [
      "tensor(0.3041, device='cuda:0', grad_fn=<NllLossBackward0>)\n"
     ]
    },
    {
     "name": "stderr",
     "output_type": "stream",
     "text": [
      "\r",
      " 83%|████████▎ | 170/205 [00:48<00:10,  3.46it/s]"
     ]
    },
    {
     "name": "stdout",
     "output_type": "stream",
     "text": [
      "tensor(0.1548, device='cuda:0', grad_fn=<NllLossBackward0>)\n"
     ]
    },
    {
     "name": "stderr",
     "output_type": "stream",
     "text": [
      "\r",
      " 83%|████████▎ | 171/205 [00:48<00:09,  3.48it/s]"
     ]
    },
    {
     "name": "stdout",
     "output_type": "stream",
     "text": [
      "tensor(0.1731, device='cuda:0', grad_fn=<NllLossBackward0>)\n"
     ]
    },
    {
     "name": "stderr",
     "output_type": "stream",
     "text": [
      "\r",
      " 84%|████████▍ | 172/205 [00:48<00:09,  3.58it/s]"
     ]
    },
    {
     "name": "stdout",
     "output_type": "stream",
     "text": [
      "tensor(0.1125, device='cuda:0', grad_fn=<NllLossBackward0>)\n"
     ]
    },
    {
     "name": "stderr",
     "output_type": "stream",
     "text": [
      "\r",
      " 84%|████████▍ | 173/205 [00:49<00:08,  3.70it/s]"
     ]
    },
    {
     "name": "stdout",
     "output_type": "stream",
     "text": [
      "tensor(0.0758, device='cuda:0', grad_fn=<NllLossBackward0>)\n"
     ]
    },
    {
     "name": "stderr",
     "output_type": "stream",
     "text": [
      "\r",
      " 85%|████████▍ | 174/205 [00:49<00:08,  3.65it/s]"
     ]
    },
    {
     "name": "stdout",
     "output_type": "stream",
     "text": [
      "tensor(0.1959, device='cuda:0', grad_fn=<NllLossBackward0>)\n"
     ]
    },
    {
     "name": "stderr",
     "output_type": "stream",
     "text": [
      "\r",
      " 85%|████████▌ | 175/205 [00:49<00:08,  3.36it/s]"
     ]
    },
    {
     "name": "stdout",
     "output_type": "stream",
     "text": [
      "tensor(0.1575, device='cuda:0', grad_fn=<NllLossBackward0>)\n"
     ]
    },
    {
     "name": "stderr",
     "output_type": "stream",
     "text": [
      "\r",
      " 86%|████████▌ | 176/205 [00:49<00:08,  3.35it/s]"
     ]
    },
    {
     "name": "stdout",
     "output_type": "stream",
     "text": [
      "tensor(0.1473, device='cuda:0', grad_fn=<NllLossBackward0>)\n"
     ]
    },
    {
     "name": "stderr",
     "output_type": "stream",
     "text": [
      "\r",
      " 86%|████████▋ | 177/205 [00:50<00:08,  3.48it/s]"
     ]
    },
    {
     "name": "stdout",
     "output_type": "stream",
     "text": [
      "tensor(0.1577, device='cuda:0', grad_fn=<NllLossBackward0>)\n"
     ]
    },
    {
     "name": "stderr",
     "output_type": "stream",
     "text": [
      "\r",
      " 87%|████████▋ | 178/205 [00:50<00:07,  3.51it/s]"
     ]
    },
    {
     "name": "stdout",
     "output_type": "stream",
     "text": [
      "tensor(0.1960, device='cuda:0', grad_fn=<NllLossBackward0>)\n"
     ]
    },
    {
     "name": "stderr",
     "output_type": "stream",
     "text": [
      "\r",
      " 87%|████████▋ | 179/205 [00:50<00:07,  3.58it/s]"
     ]
    },
    {
     "name": "stdout",
     "output_type": "stream",
     "text": [
      "tensor(0.0985, device='cuda:0', grad_fn=<NllLossBackward0>)\n"
     ]
    },
    {
     "name": "stderr",
     "output_type": "stream",
     "text": [
      "\r",
      " 88%|████████▊ | 180/205 [00:51<00:07,  3.50it/s]"
     ]
    },
    {
     "name": "stdout",
     "output_type": "stream",
     "text": [
      "tensor(0.1343, device='cuda:0', grad_fn=<NllLossBackward0>)\n"
     ]
    },
    {
     "name": "stderr",
     "output_type": "stream",
     "text": [
      "\r",
      " 88%|████████▊ | 181/205 [00:51<00:06,  3.53it/s]"
     ]
    },
    {
     "name": "stdout",
     "output_type": "stream",
     "text": [
      "tensor(0.1430, device='cuda:0', grad_fn=<NllLossBackward0>)\n"
     ]
    },
    {
     "name": "stderr",
     "output_type": "stream",
     "text": [
      "\r",
      " 89%|████████▉ | 182/205 [00:51<00:06,  3.60it/s]"
     ]
    },
    {
     "name": "stdout",
     "output_type": "stream",
     "text": [
      "tensor(0.2241, device='cuda:0', grad_fn=<NllLossBackward0>)\n"
     ]
    },
    {
     "name": "stderr",
     "output_type": "stream",
     "text": [
      "\r",
      " 89%|████████▉ | 183/205 [00:51<00:05,  3.67it/s]"
     ]
    },
    {
     "name": "stdout",
     "output_type": "stream",
     "text": [
      "tensor(0.0619, device='cuda:0', grad_fn=<NllLossBackward0>)\n"
     ]
    },
    {
     "name": "stderr",
     "output_type": "stream",
     "text": [
      "\r",
      " 90%|████████▉ | 184/205 [00:52<00:05,  3.81it/s]"
     ]
    },
    {
     "name": "stdout",
     "output_type": "stream",
     "text": [
      "tensor(0.1349, device='cuda:0', grad_fn=<NllLossBackward0>)\n"
     ]
    },
    {
     "name": "stderr",
     "output_type": "stream",
     "text": [
      "\r",
      " 90%|█████████ | 185/205 [00:52<00:05,  3.88it/s]"
     ]
    },
    {
     "name": "stdout",
     "output_type": "stream",
     "text": [
      "tensor(0.0775, device='cuda:0', grad_fn=<NllLossBackward0>)\n"
     ]
    },
    {
     "name": "stderr",
     "output_type": "stream",
     "text": [
      "\r",
      " 91%|█████████ | 186/205 [00:52<00:04,  3.86it/s]"
     ]
    },
    {
     "name": "stdout",
     "output_type": "stream",
     "text": [
      "tensor(0.1064, device='cuda:0', grad_fn=<NllLossBackward0>)\n"
     ]
    },
    {
     "name": "stderr",
     "output_type": "stream",
     "text": [
      "\r",
      " 91%|█████████ | 187/205 [00:52<00:04,  3.96it/s]"
     ]
    },
    {
     "name": "stdout",
     "output_type": "stream",
     "text": [
      "tensor(0.0845, device='cuda:0', grad_fn=<NllLossBackward0>)\n"
     ]
    },
    {
     "name": "stderr",
     "output_type": "stream",
     "text": [
      "\r",
      " 92%|█████████▏| 188/205 [00:53<00:04,  3.83it/s]"
     ]
    },
    {
     "name": "stdout",
     "output_type": "stream",
     "text": [
      "tensor(0.1196, device='cuda:0', grad_fn=<NllLossBackward0>)\n"
     ]
    },
    {
     "name": "stderr",
     "output_type": "stream",
     "text": [
      "\r",
      " 92%|█████████▏| 189/205 [00:53<00:04,  3.83it/s]"
     ]
    },
    {
     "name": "stdout",
     "output_type": "stream",
     "text": [
      "tensor(0.2078, device='cuda:0', grad_fn=<NllLossBackward0>)\n"
     ]
    },
    {
     "name": "stderr",
     "output_type": "stream",
     "text": [
      "\r",
      " 93%|█████████▎| 190/205 [00:53<00:03,  3.76it/s]"
     ]
    },
    {
     "name": "stdout",
     "output_type": "stream",
     "text": [
      "tensor(0.2358, device='cuda:0', grad_fn=<NllLossBackward0>)\n"
     ]
    },
    {
     "name": "stderr",
     "output_type": "stream",
     "text": [
      "\r",
      " 93%|█████████▎| 191/205 [00:53<00:03,  3.60it/s]"
     ]
    },
    {
     "name": "stdout",
     "output_type": "stream",
     "text": [
      "tensor(0.1638, device='cuda:0', grad_fn=<NllLossBackward0>)\n"
     ]
    },
    {
     "name": "stderr",
     "output_type": "stream",
     "text": [
      "\r",
      " 94%|█████████▎| 192/205 [00:54<00:03,  3.70it/s]"
     ]
    },
    {
     "name": "stdout",
     "output_type": "stream",
     "text": [
      "tensor(0.1101, device='cuda:0', grad_fn=<NllLossBackward0>)\n"
     ]
    },
    {
     "name": "stderr",
     "output_type": "stream",
     "text": [
      "\r",
      " 94%|█████████▍| 193/205 [00:54<00:03,  3.55it/s]"
     ]
    },
    {
     "name": "stdout",
     "output_type": "stream",
     "text": [
      "tensor(0.1877, device='cuda:0', grad_fn=<NllLossBackward0>)\n"
     ]
    },
    {
     "name": "stderr",
     "output_type": "stream",
     "text": [
      "\r",
      " 95%|█████████▍| 194/205 [00:54<00:03,  3.55it/s]"
     ]
    },
    {
     "name": "stdout",
     "output_type": "stream",
     "text": [
      "tensor(0.2143, device='cuda:0', grad_fn=<NllLossBackward0>)\n"
     ]
    },
    {
     "name": "stderr",
     "output_type": "stream",
     "text": [
      "\r",
      " 95%|█████████▌| 195/205 [00:55<00:02,  3.56it/s]"
     ]
    },
    {
     "name": "stdout",
     "output_type": "stream",
     "text": [
      "tensor(0.1449, device='cuda:0', grad_fn=<NllLossBackward0>)\n"
     ]
    },
    {
     "name": "stderr",
     "output_type": "stream",
     "text": [
      "\r",
      " 96%|█████████▌| 196/205 [00:55<00:02,  3.64it/s]"
     ]
    },
    {
     "name": "stdout",
     "output_type": "stream",
     "text": [
      "tensor(0.2064, device='cuda:0', grad_fn=<NllLossBackward0>)\n"
     ]
    },
    {
     "name": "stderr",
     "output_type": "stream",
     "text": [
      "\r",
      " 96%|█████████▌| 197/205 [00:55<00:02,  3.68it/s]"
     ]
    },
    {
     "name": "stdout",
     "output_type": "stream",
     "text": [
      "tensor(0.1987, device='cuda:0', grad_fn=<NllLossBackward0>)\n"
     ]
    },
    {
     "name": "stderr",
     "output_type": "stream",
     "text": [
      "\r",
      " 97%|█████████▋| 198/205 [00:55<00:01,  3.81it/s]"
     ]
    },
    {
     "name": "stdout",
     "output_type": "stream",
     "text": [
      "tensor(0.1084, device='cuda:0', grad_fn=<NllLossBackward0>)\n"
     ]
    },
    {
     "name": "stderr",
     "output_type": "stream",
     "text": [
      "\r",
      " 97%|█████████▋| 199/205 [00:56<00:01,  3.72it/s]"
     ]
    },
    {
     "name": "stdout",
     "output_type": "stream",
     "text": [
      "tensor(0.2510, device='cuda:0', grad_fn=<NllLossBackward0>)\n"
     ]
    },
    {
     "name": "stderr",
     "output_type": "stream",
     "text": [
      "\r",
      " 98%|█████████▊| 200/205 [00:56<00:01,  3.79it/s]"
     ]
    },
    {
     "name": "stdout",
     "output_type": "stream",
     "text": [
      "tensor(0.1623, device='cuda:0', grad_fn=<NllLossBackward0>)\n"
     ]
    },
    {
     "name": "stderr",
     "output_type": "stream",
     "text": [
      "\r",
      " 98%|█████████▊| 201/205 [00:56<00:01,  3.81it/s]"
     ]
    },
    {
     "name": "stdout",
     "output_type": "stream",
     "text": [
      "tensor(0.1720, device='cuda:0', grad_fn=<NllLossBackward0>)\n"
     ]
    },
    {
     "name": "stderr",
     "output_type": "stream",
     "text": [
      "\r",
      " 99%|█████████▊| 202/205 [00:56<00:00,  3.89it/s]"
     ]
    },
    {
     "name": "stdout",
     "output_type": "stream",
     "text": [
      "tensor(0.0769, device='cuda:0', grad_fn=<NllLossBackward0>)\n"
     ]
    },
    {
     "name": "stderr",
     "output_type": "stream",
     "text": [
      "\r",
      " 99%|█████████▉| 203/205 [00:57<00:00,  3.69it/s]"
     ]
    },
    {
     "name": "stdout",
     "output_type": "stream",
     "text": [
      "tensor(0.1696, device='cuda:0', grad_fn=<NllLossBackward0>)\n"
     ]
    },
    {
     "name": "stderr",
     "output_type": "stream",
     "text": [
      "\r",
      "100%|█████████▉| 204/205 [00:57<00:00,  3.66it/s]"
     ]
    },
    {
     "name": "stdout",
     "output_type": "stream",
     "text": [
      "tensor(0.2714, device='cuda:0', grad_fn=<NllLossBackward0>)\n"
     ]
    },
    {
     "name": "stderr",
     "output_type": "stream",
     "text": [
      "100%|██████████| 205/205 [00:57<00:00,  3.55it/s]"
     ]
    },
    {
     "name": "stdout",
     "output_type": "stream",
     "text": [
      "tensor(0.0633, device='cuda:0', grad_fn=<NllLossBackward0>)\n"
     ]
    },
    {
     "name": "stderr",
     "output_type": "stream",
     "text": [
      "\n"
     ]
    }
   ],
   "source": [
    "#fine-tune biolark\n",
    "for epoch in range(5):\n",
    "    print(epoch)\n",
    "    for i in tqdm(range(len(biolark_ft))):\n",
    "        if len(biolark_ft[i]) <= 1:\n",
    "            continue\n",
    "\n",
    "        batch = tokenizer(biolark_ft[i], truncation=True, max_length=2048, return_tensors='pt')\n",
    "        batch = {k: v.cuda() for k, v in batch.items()}\n",
    "        with torch.cuda.amp.autocast():\n",
    "            out = gpt.forward(**batch,)\n",
    "\n",
    "            loss = F.cross_entropy(out.logits[:, :-1, :].flatten(0, -2), batch['input_ids'][:, 1:].flatten(),\n",
    "                                   reduction='mean')\n",
    "        print(loss)\n",
    "        loss.backward()\n",
    "\n",
    "        optimizer.step()\n",
    "        optimizer.zero_grad()"
   ]
  },
  {
   "cell_type": "code",
   "execution_count": 43,
   "metadata": {},
   "outputs": [],
   "source": [
    "torch.save(gpt.state_dict(), './torch_model/model.pth')\n",
    "gpt.save_pretrained('./model/')"
   ]
  },
  {
   "cell_type": "markdown",
   "metadata": {},
   "source": [
    "# prediction"
   ]
  },
  {
   "cell_type": "code",
   "execution_count": 7,
   "metadata": {},
   "outputs": [],
   "source": [
    "def add_adapters(model, adapter_dim=16):\n",
    "    assert adapter_dim > 0\n",
    "\n",
    "    for module in model.modules():\n",
    "        if isinstance(module, FrozenBNBLinear):\n",
    "            module.adapter = nn.Sequential(\n",
    "                nn.Linear(module.in_features, adapter_dim, bias=False),\n",
    "                nn.Linear(adapter_dim, module.out_features, bias=False),\n",
    "            )\n",
    "            nn.init.zeros_(module.adapter[1].weight)\n",
    "        elif isinstance(module, FrozenBNBEmbedding):\n",
    "            module.adapter = nn.Sequential(\n",
    "                nn.Embedding(module.num_embeddings, adapter_dim),\n",
    "                nn.Linear(adapter_dim, module.embedding_dim, bias=False),\n",
    "            )\n",
    "            nn.init.zeros_(module.adapter[1].weight)\n",
    "\n",
    "# add_adapters(gpt)\n",
    "# gpt.to(device)"
   ]
  },
  {
   "cell_type": "code",
   "execution_count": 8,
   "metadata": {
    "scrolled": false
   },
   "outputs": [
    {
     "name": "stdout",
     "output_type": "stream",
     "text": [
      "lm_head Linear(in_features=4096, out_features=50400, bias=True)\n",
      "k_proj Linear(in_features=4096, out_features=4096, bias=False)\n",
      "v_proj Linear(in_features=4096, out_features=4096, bias=False)\n",
      "q_proj Linear(in_features=4096, out_features=4096, bias=False)\n",
      "out_proj Linear(in_features=4096, out_features=4096, bias=False)\n",
      "fc_in Linear(in_features=4096, out_features=16384, bias=True)\n",
      "fc_out Linear(in_features=16384, out_features=4096, bias=True)\n",
      "k_proj Linear(in_features=4096, out_features=4096, bias=False)\n",
      "v_proj Linear(in_features=4096, out_features=4096, bias=False)\n",
      "q_proj Linear(in_features=4096, out_features=4096, bias=False)\n",
      "out_proj Linear(in_features=4096, out_features=4096, bias=False)\n",
      "fc_in Linear(in_features=4096, out_features=16384, bias=True)\n",
      "fc_out Linear(in_features=16384, out_features=4096, bias=True)\n",
      "k_proj Linear(in_features=4096, out_features=4096, bias=False)\n",
      "v_proj Linear(in_features=4096, out_features=4096, bias=False)\n",
      "q_proj Linear(in_features=4096, out_features=4096, bias=False)\n",
      "out_proj Linear(in_features=4096, out_features=4096, bias=False)\n",
      "fc_in Linear(in_features=4096, out_features=16384, bias=True)\n",
      "fc_out Linear(in_features=16384, out_features=4096, bias=True)\n",
      "k_proj Linear(in_features=4096, out_features=4096, bias=False)\n",
      "v_proj Linear(in_features=4096, out_features=4096, bias=False)\n",
      "q_proj Linear(in_features=4096, out_features=4096, bias=False)\n",
      "out_proj Linear(in_features=4096, out_features=4096, bias=False)\n",
      "fc_in Linear(in_features=4096, out_features=16384, bias=True)\n",
      "fc_out Linear(in_features=16384, out_features=4096, bias=True)\n",
      "k_proj Linear(in_features=4096, out_features=4096, bias=False)\n",
      "v_proj Linear(in_features=4096, out_features=4096, bias=False)\n",
      "q_proj Linear(in_features=4096, out_features=4096, bias=False)\n",
      "out_proj Linear(in_features=4096, out_features=4096, bias=False)\n",
      "fc_in Linear(in_features=4096, out_features=16384, bias=True)\n",
      "fc_out Linear(in_features=16384, out_features=4096, bias=True)\n",
      "k_proj Linear(in_features=4096, out_features=4096, bias=False)\n",
      "v_proj Linear(in_features=4096, out_features=4096, bias=False)\n",
      "q_proj Linear(in_features=4096, out_features=4096, bias=False)\n",
      "out_proj Linear(in_features=4096, out_features=4096, bias=False)\n",
      "fc_in Linear(in_features=4096, out_features=16384, bias=True)\n",
      "fc_out Linear(in_features=16384, out_features=4096, bias=True)\n",
      "k_proj Linear(in_features=4096, out_features=4096, bias=False)\n",
      "v_proj Linear(in_features=4096, out_features=4096, bias=False)\n",
      "q_proj Linear(in_features=4096, out_features=4096, bias=False)\n",
      "out_proj Linear(in_features=4096, out_features=4096, bias=False)\n",
      "fc_in Linear(in_features=4096, out_features=16384, bias=True)\n",
      "fc_out Linear(in_features=16384, out_features=4096, bias=True)\n",
      "k_proj Linear(in_features=4096, out_features=4096, bias=False)\n",
      "v_proj Linear(in_features=4096, out_features=4096, bias=False)\n",
      "q_proj Linear(in_features=4096, out_features=4096, bias=False)\n",
      "out_proj Linear(in_features=4096, out_features=4096, bias=False)\n",
      "fc_in Linear(in_features=4096, out_features=16384, bias=True)\n",
      "fc_out Linear(in_features=16384, out_features=4096, bias=True)\n",
      "k_proj Linear(in_features=4096, out_features=4096, bias=False)\n",
      "v_proj Linear(in_features=4096, out_features=4096, bias=False)\n",
      "q_proj Linear(in_features=4096, out_features=4096, bias=False)\n",
      "out_proj Linear(in_features=4096, out_features=4096, bias=False)\n",
      "fc_in Linear(in_features=4096, out_features=16384, bias=True)\n",
      "fc_out Linear(in_features=16384, out_features=4096, bias=True)\n",
      "k_proj Linear(in_features=4096, out_features=4096, bias=False)\n",
      "v_proj Linear(in_features=4096, out_features=4096, bias=False)\n",
      "q_proj Linear(in_features=4096, out_features=4096, bias=False)\n",
      "out_proj Linear(in_features=4096, out_features=4096, bias=False)\n",
      "fc_in Linear(in_features=4096, out_features=16384, bias=True)\n",
      "fc_out Linear(in_features=16384, out_features=4096, bias=True)\n",
      "k_proj Linear(in_features=4096, out_features=4096, bias=False)\n",
      "v_proj Linear(in_features=4096, out_features=4096, bias=False)\n",
      "q_proj Linear(in_features=4096, out_features=4096, bias=False)\n",
      "out_proj Linear(in_features=4096, out_features=4096, bias=False)\n",
      "fc_in Linear(in_features=4096, out_features=16384, bias=True)\n",
      "fc_out Linear(in_features=16384, out_features=4096, bias=True)\n",
      "k_proj Linear(in_features=4096, out_features=4096, bias=False)\n",
      "v_proj Linear(in_features=4096, out_features=4096, bias=False)\n",
      "q_proj Linear(in_features=4096, out_features=4096, bias=False)\n",
      "out_proj Linear(in_features=4096, out_features=4096, bias=False)\n",
      "fc_in Linear(in_features=4096, out_features=16384, bias=True)\n",
      "fc_out Linear(in_features=16384, out_features=4096, bias=True)\n",
      "k_proj Linear(in_features=4096, out_features=4096, bias=False)\n",
      "v_proj Linear(in_features=4096, out_features=4096, bias=False)\n",
      "q_proj Linear(in_features=4096, out_features=4096, bias=False)\n",
      "out_proj Linear(in_features=4096, out_features=4096, bias=False)\n",
      "fc_in Linear(in_features=4096, out_features=16384, bias=True)\n",
      "fc_out Linear(in_features=16384, out_features=4096, bias=True)\n",
      "k_proj Linear(in_features=4096, out_features=4096, bias=False)\n",
      "v_proj Linear(in_features=4096, out_features=4096, bias=False)\n",
      "q_proj Linear(in_features=4096, out_features=4096, bias=False)\n",
      "out_proj Linear(in_features=4096, out_features=4096, bias=False)\n",
      "fc_in Linear(in_features=4096, out_features=16384, bias=True)\n",
      "fc_out Linear(in_features=16384, out_features=4096, bias=True)\n",
      "k_proj Linear(in_features=4096, out_features=4096, bias=False)\n",
      "v_proj Linear(in_features=4096, out_features=4096, bias=False)\n",
      "q_proj Linear(in_features=4096, out_features=4096, bias=False)\n",
      "out_proj Linear(in_features=4096, out_features=4096, bias=False)\n",
      "fc_in Linear(in_features=4096, out_features=16384, bias=True)\n",
      "fc_out Linear(in_features=16384, out_features=4096, bias=True)\n",
      "k_proj Linear(in_features=4096, out_features=4096, bias=False)\n",
      "v_proj Linear(in_features=4096, out_features=4096, bias=False)\n",
      "q_proj Linear(in_features=4096, out_features=4096, bias=False)\n",
      "out_proj Linear(in_features=4096, out_features=4096, bias=False)\n",
      "fc_in Linear(in_features=4096, out_features=16384, bias=True)\n",
      "fc_out Linear(in_features=16384, out_features=4096, bias=True)\n",
      "k_proj Linear(in_features=4096, out_features=4096, bias=False)\n",
      "v_proj Linear(in_features=4096, out_features=4096, bias=False)\n",
      "q_proj Linear(in_features=4096, out_features=4096, bias=False)\n",
      "out_proj Linear(in_features=4096, out_features=4096, bias=False)\n",
      "fc_in Linear(in_features=4096, out_features=16384, bias=True)\n",
      "fc_out Linear(in_features=16384, out_features=4096, bias=True)\n",
      "k_proj Linear(in_features=4096, out_features=4096, bias=False)\n",
      "v_proj Linear(in_features=4096, out_features=4096, bias=False)\n",
      "q_proj Linear(in_features=4096, out_features=4096, bias=False)\n",
      "out_proj Linear(in_features=4096, out_features=4096, bias=False)\n",
      "fc_in Linear(in_features=4096, out_features=16384, bias=True)\n",
      "fc_out Linear(in_features=16384, out_features=4096, bias=True)\n",
      "k_proj Linear(in_features=4096, out_features=4096, bias=False)\n",
      "v_proj Linear(in_features=4096, out_features=4096, bias=False)\n",
      "q_proj Linear(in_features=4096, out_features=4096, bias=False)\n",
      "out_proj Linear(in_features=4096, out_features=4096, bias=False)\n",
      "fc_in Linear(in_features=4096, out_features=16384, bias=True)\n",
      "fc_out Linear(in_features=16384, out_features=4096, bias=True)\n",
      "k_proj Linear(in_features=4096, out_features=4096, bias=False)\n",
      "v_proj Linear(in_features=4096, out_features=4096, bias=False)\n",
      "q_proj Linear(in_features=4096, out_features=4096, bias=False)\n",
      "out_proj Linear(in_features=4096, out_features=4096, bias=False)\n",
      "fc_in Linear(in_features=4096, out_features=16384, bias=True)\n",
      "fc_out Linear(in_features=16384, out_features=4096, bias=True)\n",
      "k_proj Linear(in_features=4096, out_features=4096, bias=False)\n",
      "v_proj Linear(in_features=4096, out_features=4096, bias=False)\n",
      "q_proj Linear(in_features=4096, out_features=4096, bias=False)\n",
      "out_proj Linear(in_features=4096, out_features=4096, bias=False)\n",
      "fc_in Linear(in_features=4096, out_features=16384, bias=True)\n",
      "fc_out Linear(in_features=16384, out_features=4096, bias=True)\n",
      "k_proj Linear(in_features=4096, out_features=4096, bias=False)\n",
      "v_proj Linear(in_features=4096, out_features=4096, bias=False)\n",
      "q_proj Linear(in_features=4096, out_features=4096, bias=False)\n",
      "out_proj Linear(in_features=4096, out_features=4096, bias=False)\n",
      "fc_in Linear(in_features=4096, out_features=16384, bias=True)\n",
      "fc_out Linear(in_features=16384, out_features=4096, bias=True)\n",
      "k_proj Linear(in_features=4096, out_features=4096, bias=False)\n",
      "v_proj Linear(in_features=4096, out_features=4096, bias=False)\n",
      "q_proj Linear(in_features=4096, out_features=4096, bias=False)\n",
      "out_proj Linear(in_features=4096, out_features=4096, bias=False)\n",
      "fc_in Linear(in_features=4096, out_features=16384, bias=True)\n",
      "fc_out Linear(in_features=16384, out_features=4096, bias=True)\n",
      "k_proj Linear(in_features=4096, out_features=4096, bias=False)\n",
      "v_proj Linear(in_features=4096, out_features=4096, bias=False)\n",
      "q_proj Linear(in_features=4096, out_features=4096, bias=False)\n",
      "out_proj Linear(in_features=4096, out_features=4096, bias=False)\n",
      "fc_in Linear(in_features=4096, out_features=16384, bias=True)\n",
      "fc_out Linear(in_features=16384, out_features=4096, bias=True)\n",
      "k_proj Linear(in_features=4096, out_features=4096, bias=False)\n",
      "v_proj Linear(in_features=4096, out_features=4096, bias=False)\n",
      "q_proj Linear(in_features=4096, out_features=4096, bias=False)\n",
      "out_proj Linear(in_features=4096, out_features=4096, bias=False)\n",
      "fc_in Linear(in_features=4096, out_features=16384, bias=True)\n",
      "fc_out Linear(in_features=16384, out_features=4096, bias=True)\n",
      "k_proj Linear(in_features=4096, out_features=4096, bias=False)\n",
      "v_proj Linear(in_features=4096, out_features=4096, bias=False)\n",
      "q_proj Linear(in_features=4096, out_features=4096, bias=False)\n",
      "out_proj Linear(in_features=4096, out_features=4096, bias=False)\n",
      "fc_in Linear(in_features=4096, out_features=16384, bias=True)\n",
      "fc_out Linear(in_features=16384, out_features=4096, bias=True)\n",
      "k_proj Linear(in_features=4096, out_features=4096, bias=False)\n",
      "v_proj Linear(in_features=4096, out_features=4096, bias=False)\n",
      "q_proj Linear(in_features=4096, out_features=4096, bias=False)\n",
      "out_proj Linear(in_features=4096, out_features=4096, bias=False)\n",
      "fc_in Linear(in_features=4096, out_features=16384, bias=True)\n",
      "fc_out Linear(in_features=16384, out_features=4096, bias=True)\n",
      "k_proj Linear(in_features=4096, out_features=4096, bias=False)\n",
      "v_proj Linear(in_features=4096, out_features=4096, bias=False)\n",
      "q_proj Linear(in_features=4096, out_features=4096, bias=False)\n",
      "out_proj Linear(in_features=4096, out_features=4096, bias=False)\n",
      "fc_in Linear(in_features=4096, out_features=16384, bias=True)\n",
      "fc_out Linear(in_features=16384, out_features=4096, bias=True)\n"
     ]
    }
   ],
   "source": [
    "gptmodel = GPTJForCausalLM.from_pretrained(\"hivemind/gpt-j-6B-8bit\", low_cpu_mem_usage=True)\n"
   ]
  },
  {
   "cell_type": "code",
   "execution_count": 9,
   "metadata": {},
   "outputs": [],
   "source": [
    "add_adapters(gptmodel)"
   ]
  },
  {
   "cell_type": "code",
   "execution_count": 10,
   "metadata": {},
   "outputs": [
    {
     "data": {
      "text/plain": [
       "<All keys matched successfully>"
      ]
     },
     "execution_count": 10,
     "metadata": {},
     "output_type": "execute_result"
    }
   ],
   "source": [
    "gptmodel.load_state_dict(torch.load(\"./torch_model/model.pth\"))"
   ]
  },
  {
   "cell_type": "code",
   "execution_count": 9,
   "metadata": {},
   "outputs": [],
   "source": [
    "prompt = \"We describe the clinical findings of 15 individuals in a large kindred affected with distal arthrogryposis type 1A (DA1A). The most consistent findings among individuals were overlapping fingers at birth, abnormal digital flexion creases, and foot deformities, including talipes equinovarus and vertical talus. There was marked intrafamilial variation in the expression of DA1A. Linkage mapping of the locus for DA1A suggests that the use of strict diagnostic criteria excludes unaffected individuals rigorously, but can produce incomplete ascertainment of affected individuals. In the context of an affected family, the range of phenotypes consistent with a diagnosis of DA1A needs to be expanded.\\n\\n##\\n\\n\""
   ]
  },
  {
   "cell_type": "code",
   "execution_count": 34,
   "metadata": {},
   "outputs": [],
   "source": [
    "prompt = \"A 5 years old girl with swallowing difficulty, recurrent chest infections and developmental delay. She can only say 4 words. Her parents are first-degree cousins, and there is no family history of a similar condition. Her growth parameters at 5 years of age were weight 9.4 kg, height 82.5 cm and head circumference 46 cm, all below the 3rd percentile. Her physical examination was significant for a blue sclera, hypotonia and hyporeflexia. Vision and hearing were normal, and other examinations were within normal limits. The brain MRI was grossly normal with diffuse T-2 hyperintensity in subcortical white matter. \\n\\n##\\n\\n\""
   ]
  },
  {
   "cell_type": "code",
   "execution_count": 35,
   "metadata": {},
   "outputs": [],
   "source": [
    "prompt = tokenizer(prompt, return_tensors='pt')"
   ]
  },
  {
   "cell_type": "code",
   "execution_count": 37,
   "metadata": {},
   "outputs": [
    {
     "name": "stderr",
     "output_type": "stream",
     "text": [
      "Setting `pad_token_id` to `eos_token_id`:50256 for open-end generation.\n"
     ]
    },
    {
     "data": {
      "text/plain": [
       "'A 5 years old girl with swallowing difficulty, recurrent chest infections and developmental delay. She can only say 4 words. Her parents are first-degree cousins, and there is no family history of a similar condition. Her growth parameters at 5 years of age were weight 9.4 kg, height 82.5 cm and head circumference 46 cm, all below the 3rd percentile. Her physical examination was significant for a blue sclera, hypotonia and hyporeflexia. Vision and hearing were normal, and other examinations were within normal limits. The brain MRI was grossly normal with diffuse T-2 hyperintensity in subcortical white matter. \\n\\n##\\n\\n  swallowing difficulty | HP_0001627\\n developmental delay | HP_0001263\\n hypotonia | HP_0001159\\n hyporeflexia | HP_0008586\\n 3 rd percentile | HP_0004051\\n low weight, 9.4 k | HP_0006996\\n low height, 82.5 cm | HP_0009373\\n low head circumference, 46 cm | HP_0004458\\n hypoplastic scul | HP_0001140\\n hypoplastic scul | HP_0004452\\n brachycephaly | HP_0001155\\n brachycephaly | HP_0004999\\n END_CLASS | HP_0004656\\n END_CLASS | HP_0001263\\n END_CLASS | HP_0001140 \\n\\n##\\n\\n  5 years of age | HP_201280\\n growth parameters | HP_0004322\\n weight, 9.4 k | HP_0006995\\n END_CLASS | HP_0004467\\n developmental delay | HP_0001264\\n recurrent chest infections | HP_0002664\\n chest infections | HP_0002666\\n hypoplastic scul | HP_0001140\\n END_CLASS | HP_0002858\\n END_CLASS | HP_0002665\\n END_CLASS | HP_0002650\\n END_CLASS | HP_0001999 \\n\\n##\\n\\n  blue sclera | HP_0000336\\n swallowing difficulty | HP_0001627\\n developmental delay | HP_0001263\\n hypotonia | HP_0001159\\n hyporeflexia | HP_0008586\\n cousin | HP_010080\\n low head circumference | HP_0004458\\n brachycephaly | HP_0001155\\n END_CLASS | HP_0001425\\n END_CLASS | HP_0001999\\n END_CLASS | HP_0004467\\n END_CLASS | HP_0002858\\n\\n##\\n\\n  hypoplastic scul | HP_0001140\\n swallowing difficulty | HP_0001627\\n developmental delay | HP_0001263\\n END_CLASS | HP_0002858\\n END_CLASS | HP_0004467\\n END_CLASS | HP_0002857\\n END_'"
      ]
     },
     "execution_count": 37,
     "metadata": {},
     "output_type": "execute_result"
    }
   ],
   "source": [
    "device_1 = 'cuda'\n",
    "gptmodel.to(device_1)\n",
    "# prompt = tokenizer(\"The results of a systematic study of the otological aspects in 13 cases of earpit-deafness syndrome are reported. The audiometric, radiological and vestibular findings as well as the results of exploratory tympanotomies with and without stapedectomies are discussed together with the results reported in the literature. A convincing explanation of the poor results of exploratory tympanotomies in cases with mixed hearing loss is not furnished. If the hearing loss is confined to conduction and ankylosis of the stapes or a disconnection of the ossicular chain is suspected, exploratory tympanotomy can be expected to be successful. \\n\\n##\\n\\n\", return_tensors='pt')\n",
    "prompt = {key: value.to(device_1) for key, value in prompt.items()}\n",
    "out = gptmodel.generate(**prompt, min_length=128, max_length=600, \n",
    "                        temperature=0.1,\n",
    "                        top_p=0.5,\n",
    "                        do_sample=True)\n",
    "tokenizer.decode(out[0])"
   ]
  },
  {
   "cell_type": "code",
   "execution_count": 18,
   "metadata": {},
   "outputs": [
    {
     "data": {
      "text/plain": [
       "GPTJForCausalLM(\n",
       "  (transformer): GPTJModel(\n",
       "    (wte): FrozenBNBEmbedding(50400, 4096)\n",
       "    (drop): Dropout(p=0.0, inplace=False)\n",
       "    (h): ModuleList(\n",
       "      (0-27): 28 x GPTJBlock(\n",
       "        (ln_1): LayerNorm((4096,), eps=1e-05, elementwise_affine=True)\n",
       "        (attn): GPTJAttention(\n",
       "          (attn_dropout): Dropout(p=0.0, inplace=False)\n",
       "          (resid_dropout): Dropout(p=0.0, inplace=False)\n",
       "          (k_proj): FrozenBNBLinear(4096, 4096)\n",
       "          (v_proj): FrozenBNBLinear(4096, 4096)\n",
       "          (q_proj): FrozenBNBLinear(4096, 4096)\n",
       "          (out_proj): FrozenBNBLinear(4096, 4096)\n",
       "        )\n",
       "        (mlp): GPTJMLP(\n",
       "          (fc_in): FrozenBNBLinear(4096, 16384)\n",
       "          (fc_out): FrozenBNBLinear(16384, 4096)\n",
       "          (act): NewGELUActivation()\n",
       "          (dropout): Dropout(p=0.0, inplace=False)\n",
       "        )\n",
       "      )\n",
       "    )\n",
       "    (ln_f): LayerNorm((4096,), eps=1e-05, elementwise_affine=True)\n",
       "  )\n",
       "  (lm_head): FrozenBNBLinear(4096, 50400)\n",
       ")"
      ]
     },
     "execution_count": 18,
     "metadata": {},
     "output_type": "execute_result"
    }
   ],
   "source": [
    "device_1 = 'cuda'\n",
    "gptmodel.to(device_1)"
   ]
  },
  {
   "cell_type": "code",
   "execution_count": 16,
   "metadata": {},
   "outputs": [],
   "source": [
    "def gpt_val(prompt):\n",
    "    prompt = tokenizer(prompt, return_tensors='pt')\n",
    "    prompt = {key: value.to(device_1) for key, value in prompt.items()}\n",
    "    out = gptmodel.generate(**prompt, min_length=128, max_length=600, \n",
    "                        temperature=0.1,\n",
    "                        top_p=0.5,\n",
    "                        do_sample=True)\n",
    "    print(tokenizer.decode(out[0]))"
   ]
  },
  {
   "cell_type": "code",
   "execution_count": 30,
   "metadata": {},
   "outputs": [
    {
     "name": "stderr",
     "output_type": "stream",
     "text": [
      "Setting `pad_token_id` to `eos_token_id`:50256 for open-end generation.\n"
     ]
    },
    {
     "name": "stdout",
     "output_type": "stream",
     "text": [
      "------0------\n"
     ]
    },
    {
     "name": "stderr",
     "output_type": "stream",
     "text": [
      "Setting `pad_token_id` to `eos_token_id`:50256 for open-end generation.\n"
     ]
    },
    {
     "name": "stdout",
     "output_type": "stream",
     "text": [
      "Nevoid basal cell carcinoma syndrome (NBCCS) is rare in black persons. We describe an 11-year-old black boy with NBCCS who presented with exotropia and a painful, expanding, cystic mass in the left posterior alveolar ridge. Further examination revealed odontogenic keratocysts with palmar and plantar pitting. Less than 5% of reported patients with NBCCS are black. To our knowledge, this is the first report of a black patient with NBCCS presenting with exotropia and an impacted molar displaced into the orbit by an odontogenic keratocyst. \n",
      "\n",
      "##\n",
      "\n",
      "  exotropia | HP_0001144\n",
      " rare disorders | HP_0003745\n",
      " odontogenic keratocysts | HP_0010603\n",
      " palmar and plantar pitting | HP_0006860\n",
      " molar | HP_0009794\n",
      " cystic mass | HP_0007678\n",
      " expansion | HP_0003813\n",
      " END_REPORT | HP_0004467\n",
      " END_RECOMMEND | HP_0004411\n",
      " exotropia | HP_0001193\n",
      " odontogenic keratocysts | HP_0010603\n",
      " palmar and plantar pitting | HP_0007678\n",
      " plantar pitting | HP_0006812\n",
      " pitting | HP_0006860\n",
      " molar | HP_0009794\n",
      " cystic mass | HP_0007678\n",
      " END_REPORT | HP_0004467\n",
      " END_RECOMMEND | HP_0004411\n",
      " END_CLASS | HP_0004452\n",
      " black persons | HP_0004467\n",
      " Less than 5% | HP_0003813\n",
      " END_CLASS | HP_0008886\n",
      " exotropia | HP_0001193\n",
      " END_CLASS | HP_0004467\n",
      " odontogenic keratocysts | HP_0010603\n",
      " palmar and plantar pitting | HP_0007678\n",
      " molar displaced into the orbit | HP_0009794\n",
      " cystic mass | HP_0007678\n",
      " END_CLASS | HP_0004467\n",
      " molar displaced into the orbit | HP_0009794\n",
      " END_CLASS | HP_0004467\n",
      " odontogenic keratocysts | HP_0010603\n",
      " END_CLASS | HP_0002664\n",
      " odontogenic keratocysts | HP_0010603\n",
      " END_CLASS | HP_0002664\n",
      " odontogenic keratocysts | HP_0010603\n",
      " END_CLASS | HP_0002664\n",
      " odontogenic keratocysts | HP_0010603\n",
      " END_CLASS | HP_0002664\n",
      " odontogenic keratocysts | HP_0010603\n",
      " END_CLASS | HP_0002664\n",
      " odontogenic keratocysts | HP_0010603\n",
      " END_CLASS\n",
      "------1------\n"
     ]
    },
    {
     "name": "stderr",
     "output_type": "stream",
     "text": [
      "Setting `pad_token_id` to `eos_token_id`:50256 for open-end generation.\n"
     ]
    },
    {
     "name": "stdout",
     "output_type": "stream",
     "text": [
      "To report new ocular manifestations of branchio-oculo-facial (BOF) syndrome.\r\n",
      "\r\n",
      "Case report.\r\n",
      "\r\n",
      "A 10-year-old girl with known BOF syndrome was referred because of a fundus lesion in her left eye.\r\n",
      "\r\n",
      "She had undergone excision of a left orbital dermoid cyst at age 18 months and a branchial cleft fistula from the right side of neck at age 4 years. Examination disclosed openings of sinus tracts on each side of the nose connecting the lacrimal sac to skin. In the right eye, an iris pigment epithelial cyst was confirmed with ultrasound biomicroscopy. In the left eye, there was a combined hamartoma of the retina and retina pigment epithelium.\r\n",
      "\r\n",
      "BOF syndrome can display mild to severe craniofacial, auricular, oral, and ophthalmic anomalies. In this case, the ophthalmic manifestations included lacrimal sac fistula, orbital dermoid cyst, iris pigment epithelial cyst, and combined hamartoma of the retina and retinal pigment epithelium. \n",
      "\n",
      "##\n",
      "\n",
      "  orbital dermoid cyst | HP_0006546\n",
      " branchial cleft fistula | HP_0009794\n",
      " branchial cleft fistula, right side | HP_0009795\n",
      " branchial cleft fistula, left side | HP_0009796\n",
      " lacrimal sac fistula | HP_0006865\n",
      " lacrimal sac fistula, left eye | HP_0006866\n",
      " iris pigment epithelial cyst | HP_0009797\n",
      " pigment epithelial cyst | HP_0100009\n",
      " cyst | HP_0002664\n",
      " END OF REPORT\n",
      "\n",
      "##\n",
      "\n",
      "  orbital dermoid cyst | HP_0006546\n",
      " lacrimal sac fistula | HP_0006865\n",
      " lacrimal sac fistula, left eye | HP_0006866\n",
      " lacrimal sac fistula, left side | HP_0009796\n",
      " END OF REPORT\n",
      "\n",
      "##\n",
      "\n",
      "  craniofacial, auricular, oral, and ophthalmic anomalies | HP_0000269\n",
      " auricular, oral, and ophthalmic anomalies | HP_0000175\n",
      " ophthalmic anomalies | HP_0000598\n",
      " craniofacial anomalies | HP_0000271\n",
      " auricular anomalies | HP_0000284\n",
      " oral anomalies | HP_0004467\n",
      " ophthalmic manifestations | HP_0000598\n",
      " END OF REPORT\n",
      "\n",
      "##\n",
      "\n",
      "  facial anomalies | HP_0000271\n",
      " facial anomalies | HP_0006743\n",
      " orbital dermoid cyst | HP_0006546\n",
      " facial anomalies | HP_0009794\n",
      " facial anomalies, orbital | HP_0006744\n",
      " facial anomalies, auricular | HP_0009795\n",
      " facial\n",
      "------2------\n"
     ]
    },
    {
     "name": "stderr",
     "output_type": "stream",
     "text": [
      "Setting `pad_token_id` to `eos_token_id`:50256 for open-end generation.\n"
     ]
    },
    {
     "name": "stdout",
     "output_type": "stream",
     "text": [
      "Townes-Brocks syndrome (TBS) has been recognized as a dominant inherited syndrome. We report 2 cases of TBS. Case 1 was operated on for imperforate anus. Triphalangeal thumb and ear anomalies were remarkable. Deafness was diagnosed when the patient was 6 months old. Anomalies of the semicircular canals and the incus with inculomalleolar fusion were shown when the patient was 3.5 years old. During childhood, recurrent episodes of abdominal pain appeared. The diagnosis of hereditary angioneurotic edema (HANE) was made. HANE was familial as the father, the father's brother and the paternal grand mother were also affected. The parents of case 2, a female, are both mildly mentally retarded. This was the first pregnancy of the mother who had short stature. The child had an antepositioned anus, bifid right thumb, large toes, low set ears, microretrognathia and deafness. A (5, 16) translocation was observed in a child with TBS. At the breakpoint in 16q21.1, a gene coding for a transcription factor SALL1 has been identified and it was shown that mutations in the putative zinc finger of SALL1 cause TBS. \n",
      "\n",
      "##\n",
      "\n",
      "  imperforate anus | HP_0002023\n",
      " triphalangeal thumb | HP_0001177\n",
      " ear anomalies | HP_0000598\n",
      " Deafness | HP_0000404\n",
      " Anomalies of the semicircular canals | HP_0002808\n",
      " Deafness and inculomalleolar fusion | HP_0007359\n",
      " Deafness and inculomalleolar fusion | HP_0007358\n",
      " recurrent episodes of abdominal pain | HP_0002648\n",
      " HADANE | HP_0009589\n",
      " mental retardation | HP_0001249\n",
      " short stature | HP_0008680\n",
      " bifid right thumb | HP_0001177\n",
      " large toes | HP_0000175\n",
      " low set ears | HP_0000404\n",
      " microretrognathia | HP_0000187\n",
      " antepositioned anus | HP_0008594\n",
      " END (mental retardation) | HP_0001249\n",
      " END (transcription factor) | HP_0004467\n",
      " transposition (translocation) | HP_0001425\n",
      " breakpoint (dominant inherited syndrome) | HP_0001410\n",
      " SALL1 | HP_0004466\n",
      " zinc finger of SALL1 | HP_0004467\n",
      " HP_0009589: Haemophilia A | HP_0008657\n",
      " HP_0008680: Recurrent episodes of abdominal pain | HP_0002648\n",
      " HP_0008594: Anal atresia | HP_0002090\n",
      " HP_0000187: Microretrognathia | HP_0002211\n",
      "\n",
      "------3------\n"
     ]
    },
    {
     "name": "stderr",
     "output_type": "stream",
     "text": [
      "Setting `pad_token_id` to `eos_token_id`:50256 for open-end generation.\n"
     ]
    },
    {
     "name": "stdout",
     "output_type": "stream",
     "text": [
      "We describe the clinical findings of 15 individuals in a large kindred affected with distal arthrogryposis type 1A (DA1A). The most consistent findings among individuals were overlapping fingers at birth, abnormal digital flexion creases, and foot deformities, including talipes equinovarus and vertical talus. There was marked intrafamilial variation in the expression of DA1A. Linkage mapping of the locus for DA1A suggests that the use of strict diagnostic criteria excludes unaffected individuals rigorously, but can produce incomplete ascertainment of affected individuals. In the context of an affected family, the range of phenotypes consistent with a diagnosis of DA1A needs to be expanded. \n",
      "\n",
      "##\n",
      "\n",
      "  distal arthrogryposis | HP_0005684\n",
      " arthrogryposis | HP_0001390\n",
      " overlapping fingers at birth | HP_0005188\n",
      " abnormal digital flexion creases | HP_0004452\n",
      " foot deformities | HP_0001946\n",
      " talipes equinovarus | HP_0008090\n",
      " vertical talus | HP_0001193\n",
      " marked intrafamilial variation | HP_0003822\n",
      " variable | HP_0003813\n",
      " END_CLASS | Distal arthrogryposis | HP_0005685\n",
      " END_CLASS | Arthrogryposis | HP_0001385\n",
      " variable | HP_0003812\n",
      " Incomplete ascertainment of affected individuals | HP_0003828\n",
      " incomplete ascertainment of unaffected individuals | HP_0007339\n",
      " intrafamilial variation | HP_0003811\n",
      " variable | HP_0003813\n",
      " variable | HP_0003822\n",
      " END_CLASS | Disproportionate survival | HP_0008564\n",
      " END_RESULTS | Distal arthrogryposis | HP_0005684\n",
      " variable | HP_0003812\n",
      " END_CLASS | Disproportionate survival | HP_0008564\n",
      " variable | HP_0003828\n",
      " END_CLASS | Disproportionate survival | HP_0005684\n",
      " variable | HP_0003813\n",
      " END_CLASS | Disproportionate survival | HP_0005684\n",
      " variable | HP_0003822\n",
      " END_CLASS | Disproportionate survival | HP_0005684\n",
      " variable | HP_0003812\n",
      " END_CLASS | Disproportionate survival | HP_0005684\n",
      " variable | HP_0003828\n",
      " END_CLASS | Disproportionate survival | HP_0005684\n",
      " variable | HP_0003811\n",
      " END_CLASS | Disproportionate survival | HP_0005684\n",
      " variable | HP_0003813\n",
      " END_CLASS | Disproportionate survival | HP_0005684\n",
      " variable | HP_0003822\n",
      " END_CLASS | Disproportionate survival | HP_0005684\n",
      " variable\n",
      "------4------\n"
     ]
    },
    {
     "name": "stderr",
     "output_type": "stream",
     "text": [
      "Setting `pad_token_id` to `eos_token_id`:50256 for open-end generation.\n"
     ]
    },
    {
     "name": "stdout",
     "output_type": "stream",
     "text": [
      "We present a child with mild to moderate global developmental delay including severe speech impairment, inappropriate happy demeanor, wide-based gait, frequent ear infections with mild hearing loss, deep-set eyes, a wide mouth, widely-spaced teeth, normal head circumference, and no seizures. Results of peripheral blood lymphocyte chromosomal analysis with GTG banding were normal. However, fluorescence in situ hybridization (FISH) studies showed mosaicism for a deletion of probes (D15S10 and SNRPN) from the Angelman syndrome (AS) critical region with approximately 40% of peripheral lymphocytes having the deletion. The deleted chromosome 15 also showed centromeric duplication, which was detected with a D15Z1 probe [46,XX, dic(15)(pter-->q11.1::p11.2-->q11. 1::q13-->qter)]. The same duplication pattern was observed in 30% of the nuclei obtained from a buccal smear. Methylation studies using polymerase chain reaction with sodium bisulfite-treated DNA demonstrated a normal biparental methylation pattern. To the best of our knowledge, this is the first case with AS and a FISH detectable deletion in a mosaic pattern. We recommend FISH studies for the detection of mosaicism in the patients with AS clinical findings even if results of the methylation studies are normal. \n",
      "\n",
      "##\n",
      "\n",
      "  mild to moderate global developmental delay | HP_0000707\n",
      " global developmental delay | HP_0001263\n",
      " severe speech impairment | HP_0008619\n",
      " inappropriate happy demeanor | HP_0002858\n",
      " happy demeanor | HP_0002471\n",
      " wide-based gait | HP_0004458\n",
      " frequent ear infections | HP_0000598\n",
      " mild hearing loss | HP_0000407\n",
      " deep-set eyes | HP_0000490\n",
      " wide mouth | HP_0000181\n",
      " widely-spaced teeth | HP_0000383\n",
      " normal head circumference | HP_0005684\n",
      " no seizures | HP_0009794\n",
      " Mosaicism | HP_0001054\n",
      " FISH studies | HP_0008090\n",
      " Deletion | HP_0001193\n",
      " ENDORSE | HP_0008589\n",
      " ENDORSE-1 | HP_0007390\n",
      " ENDORSE-2 | HP_0007391\n",
      " ENDORSE-3 | HP_0007392\n",
      " ENDORSE-4 | HP_0007393\n",
      " ENDORSE-5 | HP_0007394\n",
      " ENDORSE-6 | HP_0007395\n",
      " ENDORSE-7 | HP_0007396\n",
      " ENDORSE-8 | HP_0007397\n",
      " ENDORSE-9 | HP_0007398\n",
      " ENDORSE-10 | HP_0007399\n",
      " ENDORSE-11 | HP_0007400\n",
      " ENDORSE-12 | HP_0007401\n",
      "\n",
      "------5------\n"
     ]
    },
    {
     "name": "stderr",
     "output_type": "stream",
     "text": [
      "Setting `pad_token_id` to `eos_token_id`:50256 for open-end generation.\n"
     ]
    },
    {
     "name": "stdout",
     "output_type": "stream",
     "text": [
      "Branchio-oto-renal (BOR) syndrome is an autosomal dominant disorder characterized by branchial abnormality, hearing loss, and renal anomalies. Recently, the disease gene has been localized to chromosome 8q. Here, we report genetic studies that further refine the disease gene region to a smaller interval and identify several YACs from the critical region. We studied two large, clinically well-characterized BOR families with a set of 13 polymorphic markers spanning the D8S165-D8S275 interval from the chromosome 8q region. Based on multipoint analysis, the highest likelihood for the location of the BOR gene is between markers D8S543 and D8S530, a distance of about 2 cM. YACs that map in the BOR critical region have been identified and characterized by fluorescence in situ hybridization and pulsed-field gel electrophoresis. A YAC contig, based on the STS content map, that covers a minimum of 4 Mb of human DNA in the critical region of BOR is assembled. This lays the groundwork for the construction of a transcriptional map of this region and the eventual identification of genes involved in BOR syndrome. \n",
      "\n",
      "##\n",
      "\n",
      "  autosomal dominant disorder | HP_0000006\n",
      " branchial abnormality | HP_0009794\n",
      " hearing loss | HP_0000365\n",
      " renal anomalies | HP_0000077\n",
      " END OF REPORT |\n",
      "\n",
      "##\n",
      "\n",
      " Branchio-oto-renal (BOR) | HP_0009795\n",
      " END OF BRANCHIOSURERIS |\n",
      "\n",
      "##\n",
      "\n",
      " autosomal dominant disorder | HP_0000006\n",
      " hearing loss | HP_0000365\n",
      " renal anomalies | HP_0000077\n",
      " END OF REPORT |\n",
      " END OF BRANCHIOSURERIS |\n",
      " END OF HP_0009795 |\n",
      " END OF HP_0009794 |\n",
      " HP_0009796\n",
      " END OF HP_0009796 |\n",
      " END OF HP_0009797\n",
      " renal anomalies | HP_0000077\n",
      " END OF HP_0000076\n",
      " renal anomalies, hearing loss | HP_0000174\n",
      " renal anomalies | HP_0000077\n",
      " END OF HP_0000174 |\n",
      " END OF HP_0000175\n",
      " renal anomalies, hearing loss, branchial | HP_0009798\n",
      " renal anomalies, branchial | HP_0009794\n",
      " renal anomalies | HP_0000077\n",
      " hearing loss, branchial | HP_0009828\n",
      " branchial | HP_0009794\n",
      " renal anomalies, branchial, hearing loss | HP_0009829\n",
      " END OF HP_0009829 |\n",
      " END OF HP_0009830\n",
      " renal anomalies, branchial, hearing loss, renal anomalies | HP_0009831\n",
      " renal anomalies, branchial, hearing loss | HP_0009828\n",
      " renal anomalies, branchial, hearing loss, renal anomalies, branchial\n",
      "------6------\n"
     ]
    },
    {
     "name": "stderr",
     "output_type": "stream",
     "text": [
      "Setting `pad_token_id` to `eos_token_id`:50256 for open-end generation.\n"
     ]
    },
    {
     "name": "stdout",
     "output_type": "stream",
     "text": [
      "Brachydactyly type A-1 (BDA-1; MIM 112500) is characterized by shortening or missing of the middle phalanges (Fig. 1a). It was first identified by Farabee in 1903 (ref. 2), is the first recorded example of a human anomaly with Mendelian autosomal-dominant inheritance and, as such, is cited in most genetic and biological textbooks. Here we show that mutations in IHH, which encodes Indian hedgehog, cause BDA-1. We have identified three heterozygous missense mutations in the region encoding the amino-terminal signaling domain in all affected members of three large, unrelated families. The three mutant amino acids, which are conserved across all vertebrates and invertebrates studied so far, are predicted to be adjacent on the surface of IHH. \n",
      "\n",
      "##\n",
      "\n",
      "  Brachydactyly type A-1 | HP_0009371\n",
      " Shortening or missing of the middle phalanges | HP_0004100\n",
      " autosomal-dominant inheritance | HP_0000006\n",
      " ENDOCYTOSCHITOSIS | HP_0006746\n",
      " IHH | HP_0009588\n",
      " ENDOCYTOSCHITOSIS | HP_0009579\n",
      " Vertebrates | HP_0003123\n",
      " conserved amino acids | HP_0002450\n",
      " ENDOCYTOSCHITOSIS | HP_0009588\n",
      " ENDOCYTOSCHITOSIS | HP_0009579\n",
      " BDA-1 | HP_0009452\n",
      " ENDOGENOUS STROMAL CYSTISMS | HP_0009490\n",
      " ENDOGENOUS STROMAL CYSTISMS | HP_0009591\n",
      " ENDOGENOUS STROMAL CYSTISMS | HP_0009592\n",
      " ENDOGENOUS STROMAL CYSTISMS | HP_0009593\n",
      " ENDOGENOUS STROMAL CYSTISMS | HP_0009594\n",
      " ENDOGENOUS STROMAL CYSTISMS | HP_0009595\n",
      " ENDOGENOUS STROMAL CYSTISMS | HP_0009656\n",
      " CYSTISMS | HP_0002664\n",
      " ENDOCYTOSCHITOSIS | HP_0001067\n",
      " CYSTISMS | HP_0002665\n",
      " CYSTISMS | HP_0009656\n",
      " BACTERIAL INHERITANCY | HP_0009405\n",
      " ENDOCYTOSCHITOSIS | HP_0009579\n",
      " ENDOCYTOSCHITOSIS | HP_0009881\n",
      " ENDOCYTOSCHITOSIS | HP_0009579\n",
      " ENDOCYTOSCHITOSIS | HP_0009881\n",
      " DYSPALATINIA | HP_0001249\n",
      "------7------\n"
     ]
    },
    {
     "name": "stderr",
     "output_type": "stream",
     "text": [
      "Setting `pad_token_id` to `eos_token_id`:50256 for open-end generation.\n"
     ]
    },
    {
     "name": "stdout",
     "output_type": "stream",
     "text": [
      "Neurofibromatosis 2 (NF2) features bilateral vestibular schwannomas, other benign neural tumors, and cataracts. Patients in some families develop many tumors at an early age and have rapid clinical progression, whereas in other families, patients may not have symptoms until much later and vestibular schwannomas may be the only tumors. The NF2 gene has been cloned from chromosome 22q; most identified germ-line mutations result in a truncated protein and severe NF2. To look for additional mutations and clinical correlations, we used SSCP analysis to screen DNA from 32 unrelated patients. We identified 20 different mutations in 21 patients (66%): 10 nonsense mutations, 2 frameshifts, 7 splice-site mutations, and 1 large in-frame deletion. Clinical information on 47 patients from the 21 families included ages at onset and at diagnosis, numbers of meningiomas, spinal and skin tumors, and presence of cataracts and retinal abnormalities. We compared clinical findings in patients with nonsense or frameshift mutations to those with splice-site mutations. When each patient was considered as an independent random event, the two groups differed (P < or =.05) for nearly every variable. Patients with nonsense or frameshift mutations were younger at onset and at diagnosis and had a higher frequency and mean number of tumors, supporting the correlation between nonsense and frameshift mutations and severe NF2. When each family was considered as an independent random event, statistically significant differences between the two groups were observed only for mean ages at onset and at diagnosis. A larger data set is needed to resolve these discrepancies. We observed retinal hamartomas and/or epiretinal membranes in nine patients from five families with four different nonsense mutations. This finding, which may represent a new genotype-phenotype correlation, merits further study. \n",
      "\n",
      "##\n",
      "\n",
      "  Neurofibromatosis | HP_0006746\n",
      " bilateral vestibular schwannomas | HP_0009589\n",
      " vestibular schwannomas | HP_0009588\n",
      " schwannomas | HP_0100008\n",
      " other benign neural tumors | HP_0004375\n",
      " tumors | HP_0002664\n",
      " rapid clinical progression | HP_0003891\n",
      " clinical progression | HP_0002583\n",
      " early age | HP_0003593\n",
      " ENDOM | HP_0004363\n",
      " ENDOCANNA | HP_0100006\n",
      " meningiomas | HP_0002858\n",
      " spinal and skin tumors | HP_0010302\n",
      " skin tumors | HP_0000951\n",
      " cataracts | HP_0000518\n",
      " retinal hamartomas | HP_0007385\n",
      " epiretinal membranes | HP_0100010\n",
      " ENDOM | HP_0004467\n",
      " ENDOCANNA | HP_0001291\n",
      " early age and rapid clinical progression | HP_00038\n",
      "------8------\n"
     ]
    },
    {
     "name": "stderr",
     "output_type": "stream",
     "text": [
      "Setting `pad_token_id` to `eos_token_id`:50256 for open-end generation.\n"
     ]
    },
    {
     "name": "stdout",
     "output_type": "stream",
     "text": [
      "The basal cell nevus syndrome is characterized by multiple basal cell nevi and basal cell carcinoma, cysts of the jaw, anomalies of ribs and spine, abnormal calcifications, and additional anomalies of the facial skull. A German family is described with manifestations of the syndrome in the mother and her three daughters. Expressivity was variable, in part due to age effects. The observation conforms to the assumed autosomal dominant mode of inheritance with high penetrance. \n",
      "\n",
      "##\n",
      "\n",
      "  basal cell nevus | HP_0002671\n",
      " basal cell carcinoma | HP_0002664\n",
      " cysts of the jaw | HP_0004390\n",
      " anomalies of ribs and spine | HP_0000951\n",
      " abnormal calcifications | HP_0004121\n",
      " additional anomalies of the facial skull | HP_0000951\n",
      " autosomal dominant | HP_0000006\n",
      " variable | HP_0003828\n",
      " variable age | HP_0003813\n",
      " END_CLASS | HP_0001263\n",
      " END_CLASS | HP_0001263009\n",
      " MIM_0002673 | HP_0004390\n",
      " END_CLASS | HP_0003829\n",
      " variable | HP_0003828\n",
      " variable age | HP_0003813\n",
      " variable mode of inheritance | HP_0003828\n",
      " variable mode of inheritance | HP_0003813\n",
      " variable mode of inheritance | HP_0003828\n",
      " variable mode of inheritance | HP_0003812\n",
      " END_CLASS | HP_0002676\n",
      " END_CLASS | HP_0002677\n",
      " MIM_0002675 | HP_0008951\n",
      " END_CLASS | HP_0002678\n",
      " END_CLASS | HP_0003814\n",
      " variable mode of inheritance | HP_0003813\n",
      " variable mode of inheritance | HP_0003812\n",
      " Cystic basal cell nevus | HP_0009589\n",
      " Cystic basal cell carcinoma | HP_0009588\n",
      " Cystic basal cell nevus, sporadic | HP_0009591\n",
      " sporadic | HP_0003815\n",
      " Sporadic | HP_0003816\n",
      " Sporadic basal cell carcinoma | HP_0009588\n",
      " Sporadic basal cell carcinoma, cystic | HP_0009587\n",
      " Cystic basal cell carcinoma, sporadic | HP_0009586\n",
      " Cystic basal cell carcinoma | HP_0009588\n",
      " Cystic basal cell carcinoma, sporadic | HP_0009585\n",
      " Cystic basal cell carcinoma, familial | HP_0009584\n",
      " Cystic basal cell carcinoma, familial, autosomal dominant | HP_0009583\n",
      " Cystic basal cell carcinoma, familial, autosomal dominant, sporadic | HP_0009582\n",
      " Cystic basal cell carcinoma, familial, autosomal dominant | HP_0009581\n",
      " Cystic basal cell carcinoma, familial, autosomal dominant, sporadic | HP_0009\n",
      "------9------\n"
     ]
    },
    {
     "name": "stderr",
     "output_type": "stream",
     "text": [
      "Setting `pad_token_id` to `eos_token_id`:50256 for open-end generation.\n"
     ]
    },
    {
     "name": "stdout",
     "output_type": "stream",
     "text": [
      "We report a girl aged 11 and her brother aged five, both with the typical features of Angelman syndrome, and three isolated cases. This report, together with a review of published reports and contact with previous authors, has revealed a total of 41 sibs of probands, although only nine of these are known to have been later born. The possible effect of voluntary restriction of family size after the birth of an affected child is discussed in relation to the possibility of autosomal recessive inheritance, but a recurrence risk of 5% is appropriate for use in the genetic clinic. \n",
      "\n",
      "##\n",
      "\n",
      "  isolated cases | HP_0003813\n",
      " sibs of probands | HP_0000005\n",
      " autosomal recessive inheritance | HP_0000007\n",
      " END_CLASS\n",
      " END_CLASS\n",
      "\n",
      "#### Autosomal-dominant disorders | HP_0000006\n",
      " family size | HP_0006445\n",
      " END_CLASS\n",
      "\n",
      "## What is this condition's usual presentation?\n",
      "\n",
      "The main features are mental retardation, ataxic movements, microcephaly, and a happy disposition. The latter is a mental state resulting from a lack of conflict or frustration in the face of difficult or painful situations, and may be a feature of the so-called \"happy puppet\" syndrome (see video at http://albion.com/albion/happypuppet.asp). This implies that the child is able to respond to the external world but has no internal conflict or difficulty in dealing with it. This is a transient condition and may be a normal response to an otherwise distressing situation. So, if we are not told about the transient condition, we should suspect mental retardation resulting from a brain damage (which can be transient or not transient), and this should alert us to the possibility of Angelman syndrome. We should also suspect other syndromes presenting with microcephaly, such as Prader-Willi syndrome and Duane syndrome, which have a happy disposition as a main symptom. Finally, we should suspect other mental retardation syndromes, such as Prader-Willi syndrome, which has mental retardation as a main symptom, and we should suspect other syndromes presenting with ataxic movements, such as Prader-Willi syndrome and Duane syndrome, which have mental retardation as a main symptom.\n",
      " Mental retardation | HP_0001249\n",
      " ataxic movements | HP_0001251\n",
      " microcephaly | HP_0000202\n",
      " happy disposition | HP_0004467\n",
      " transient condition | HP_0007087\n",
      " END_CLASS\n",
      " END_CLASS\n",
      "\n",
      "## Specific recommendations for this condition | HP_0008500\n",
      " mental retardation | HP_0001249\n",
      " ataxic movements | HP_0001251\n",
      " microcephaly | HP_0000202\n",
      " happy disposition | HP_0004467\n",
      " END_CLASS\n",
      "\n",
      "## Autosomal-dom\n",
      "------10------\n"
     ]
    },
    {
     "name": "stderr",
     "output_type": "stream",
     "text": [
      "Setting `pad_token_id` to `eos_token_id`:50256 for open-end generation.\n"
     ]
    },
    {
     "name": "stdout",
     "output_type": "stream",
     "text": [
      "To evaluate patients with multiple endocrine neoplasia type 1 (MEN 1) for cutaneous manifestations.\r\n",
      "\r\n",
      "Survey during a 3-year period.\r\n",
      "\r\n",
      "The National Institutes of Health, a tertiary referral research hospital in Bethesda Md.\r\n",
      "\r\n",
      "A consecutive sample of 32 individuals with previously diagnosed MEN1 who were not preselected for the presence of skin lesions were examined for cutaneous abnormalities. None of the patients or family members were diagnosed as having tuberous sclerosis.\r\n",
      "\r\n",
      "Lesions were identified by clinical appearance, photographed, and confirmed histologically.\r\n",
      "\r\n",
      "To determine the frequency of skin lesions in patients with MEN1.\r\n",
      "\r\n",
      "Multiple facial angiofibromas were observed in 28 (88%) of the patients with MEN1, with 16 patients (50%) having 5 or more. Angiofibromas were clinically and histologically identical to those in individuals with tuberous sclerosis. Collagenomas were observed in 23 patients (72%). Also observed were cafe au lait macules in 12 patients (38%), lipomas in 11 patients (34%), confetti-like hypopigmented macules in 2 patients (6%), and multiple gingival papules in 2 patients (6%).\r\n",
      "\r\n",
      "Multiple angiofibromas, collagenomas, lipomas, confetti-like hypopigmented macules and multiple gingival papules are cutaneous manifestations of MEN1 and should be looked for in both family members of patients with MEN1 and individuals with hyperparathyroidism of other MEN1-associated tumors. Multiple angiofibromas can no longer be considered pathognomonic for tuberous sclerosis. The observation of angiofibromas in individuals without tuberous sclerosis necessitates further biochemical testing for MEN1. \n",
      "\n",
      "##\n",
      "\n",
      "  multiple facial angiofibromas | HP_0009603\n",
      " facial angiofibromas | HP_0009594\n",
      " END1 | HP_0009662\n",
      " END2 | HP_0007121\n",
      " END | HP_0009662\n",
      " Tuberous Sclerosis | HP_0009588\n",
      " CafÃ© Au Lait Macule | HP_0000957\n",
      " lipomas | HP_0000196\n",
      " END1 | HP_0007121\n",
      " Hypopigmented Macules | HP_0000951\n",
      " Gingival Papules | HP_0004467\n",
      " END | HP_0007339\n",
      " Cutaneous Abnormalities | HP_0000077\n",
      " END1 | HP_0007390\n",
      " END2 | HP_0007121\n",
      " Hyperparathyroidism | HP_0004742\n",
      " END | HP_0009794\n",
      " END1 | HP_0009603\n",
      " END2 | HP_0007121\n",
      " SAC | HP_0003745\n",
      " Facial Angiofibromas | HP_\n",
      "------11------\n"
     ]
    },
    {
     "name": "stderr",
     "output_type": "stream",
     "text": [
      "Setting `pad_token_id` to `eos_token_id`:50256 for open-end generation.\n"
     ]
    },
    {
     "name": "stdout",
     "output_type": "stream",
     "text": [
      "Nevoid basal cell carcinoma syndrome (NBCCS) is a genodermatosis with autosomal dominant inheritance. In identified kindreds the diagnosis is relatively easy, but for the patients without family history of this syndrome a high clinical suspicion is necessary for diagnosis.\r\n",
      "\r\n",
      "Acrochordons are distinctly uncommon in childhood. Our purpose was to evaluate skin tags that develop at an early age.\r\n",
      "\r\n",
      "This is a retrospective series evaluation of 7 children who presented with pedunculated papules (acrochordon-like growths). A full history was then correlated with biopsy results in each patient.\r\n",
      "\r\n",
      "Clinically, lesions consisted of flesh-colored and pigmented pedunculated papules. Histopathologic examination of these papules showed basal cell carcinomas in each biopsy specimen.\r\n",
      "\r\n",
      "We consider that \"skin tag\"-like basal cell carcinomas in childhood may represent a marker for NBCCS. Early diagnosis of this syndrome and early sun protection of the affected children could help decrease the number of lifetime tumors. Biopsy should be performed on acrochordons in children because they may be the presenting sign of NBCCS. Because these tags may precede other stigmata of the NBCCS, recognition may facilitate early diagnosis and allow early treatment and sun protection. \n",
      "\n",
      "##\n",
      "\n",
      "  childhood | HP_0011463\n",
      " skin tag | HP_0009589\n",
      " basal cell carcinoma | HP_0002664\n",
      " pigmented | HP_0008513\n",
      " tumor | HP_0002664\n",
      " early sun protection | HP_0009588\n",
      " END_CLASS\n",
      "\n",
      "##\n",
      "\n",
      "  Early sun protection | HP_0009588\n",
      " tumors | HP_0002664\n",
      " END_CLASS\n",
      "\n",
      "##\n",
      "\n",
      "  autosomal dominant inheritance | HP_0000006\n",
      " basal cell carcinoma | HP_0002664\n",
      " sun protection | HP_0009588\n",
      " tumors | HP_0002664\n",
      " END_CLASS\n",
      "\n",
      "##\n",
      "\n",
      "  This series | HP_0003813\n",
      " early diagnosis | HP_0007390\n",
      " END_CLASS\n",
      "\n",
      "##\n",
      "\n",
      "  pediatric | HP_0003593\n",
      " END_CLASS\n",
      "\n",
      "##\n",
      "\n",
      "  These growths | HP_0009588\n",
      " early diagnosis | HP_0007390\n",
      " END_CLASS\n",
      "\n",
      "##\n",
      "\n",
      "  Early diagnosis | HP_0007390\n",
      " END_CLASS\n",
      "\n",
      "##\n",
      "\n",
      "  Early sun protection | HP_0009588\n",
      " END_CLASS\n",
      "\n",
      "##\n",
      "\n",
      "  These growths | HP_0009588\n",
      " early diagnosis | HP_0007390\n",
      " END_CLASS\n",
      "\n",
      "##\n",
      "\n",
      "  Early sun protection | HP_0009588\n",
      " END_CLASS\n",
      "\n",
      "##\n",
      "\n",
      "  Early sun protection | HP_0009588\n",
      " END_CLASS\n",
      "\n",
      "##\n",
      "\n",
      "  Early sun protection | HP_0009588\n",
      " END_CLASS\n",
      "\n",
      "##\n",
      "\n",
      "  Early sun protection | HP_\n",
      "------12------\n"
     ]
    },
    {
     "name": "stderr",
     "output_type": "stream",
     "text": [
      "Setting `pad_token_id` to `eos_token_id`:50256 for open-end generation.\n"
     ]
    },
    {
     "name": "stdout",
     "output_type": "stream",
     "text": [
      "The diagnosis of Angelman syndrome (AS) has seldom been made in infants because the previously described characteristic manifestations usually are not apparent until after age 2 years. We describe 4 AS patients, one of whom has oculocutaneous albinism, who were less than 2 years old when first evaluated. All 4 have deletions of the region q11.2-q13 of chromosome 15. In the 3 cases in which parents were available for study the deleted chromosome 15 was maternally derived, as determined by cytological markers. All of the patients presented with severe to profound global developmental delay and postnatal-onset microcephaly; they had seizures, hypotonia, hyperreflexia, and hyperkinesis. All were hypopigmented as compared to their relatives. Each had eye abnormalities; all had choroidal pigment hypoplasia. None were initially described as having an abnormal appearance. We believe that AS is far more common than previously thought and present these 4 children to emphasize the manifestations that may be helpful in making the diagnosis in the young patient. We also emphasize the hypopigmentation that patients with AS frequently have, including what we think is the first reported case of albinism and AS. \n",
      "\n",
      "##\n",
      "\n",
      "  global developmental delay | HP_0001263\n",
      " developmental delay | HP_0001264\n",
      " microcephaly | HP_0000252\n",
      " oculocutaneous albinism | HP_0008945\n",
      " hypopigmented | HP_0008090\n",
      " choroidal pigment hypoplasia | HP_0009794\n",
      " hypopigmented | HP_0007745\n",
      " albinism | HP_0001022\n",
      " seizures | HP_0001250\n",
      " hypotonia | HP_0001252\n",
      " hyperreflexia | HP_0002828\n",
      " hyperkinesis | HP_0002258\n",
      " abnormal appearance | HP_0001999\n",
      " END_CLASS\n",
      " END_CLASS\n",
      "\n",
      "##\n",
      "\n",
      "  developmental delay | HP_0001249\n",
      " microcephaly | HP_0001251\n",
      " oculocutaneous albinism | HP_0001011\n",
      " hypopigmented | HP_0007746\n",
      " albinism | HP_0001022\n",
      " END_CLASS\n",
      "  developmental delay | HP_0001249\n",
      " END_CLASS\n",
      "  END_CLASS\n",
      "MIM:700000 | HP_0006746\n",
      " oculocutaneous albinism | HP_0001011\n",
      " hypopigmented | HP_0007746\n",
      " albinism | HP_0001022\n",
      " END_CLASS\n",
      "  oculocutaneous albinism | HP_0001011\n",
      " hypopigmented | HP_0007746\n",
      " albinism | HP_0001022\n",
      " END_CLASS\n",
      "  END_CLASS\n",
      "ALBINISM | HP_0001022\n",
      " END_CLASS\n",
      "MS2:P10626 | HP_0008664\n",
      " MS2:P106\n",
      "------13------\n"
     ]
    },
    {
     "name": "stderr",
     "output_type": "stream",
     "text": [
      "Setting `pad_token_id` to `eos_token_id`:50256 for open-end generation.\n"
     ]
    },
    {
     "name": "stdout",
     "output_type": "stream",
     "text": [
      "Robertsonian translocations, occurring with a frequency of about 1 in 10,000 livebirths, may be an important cause of uniparental disomy as demonstrated for 13/15, 13/14, 14/14, and 22/22 translocations. Dysmorphogenesis and/or mental retardation provide clinical clues for uniparental disomy in apparently balanced offspring of translocation carriers. Research strategies for assessing frequency and implications of uniparental disomy in translocation carriers include a genetic register approach, study of abortuses from balanced translocation carriers, and parent-of-origin studies on de novo homologous Robertsonian translocations. \n",
      "\n",
      "##\n",
      "\n",
      "  uniparental disomy | HP_0004467\n",
      " mental retardation | HP_0001249\n",
      " dysmorphogenesis | HP_0000924\n",
      " mental retardation, mental, retardation, uniparental disomy | HP_0006291\n",
      " dysmorphology | HP_0000913\n",
      " mental retardation, mental retardation, mental retardation, mental retardation, mental retardation, mental retardation, mental retardation, mental retardation, mental retardation, mental retardation, mental retardation, mental retardation, mental retardation, mental retardation, mental retardation, mental retardation, mental retardation, mental retardation, mental retardation, mental retardation, mental retardation, mental retardation, mental retardation, mental retardation, mental retardation, mental retardation, mental retardation, mental retardation, mental retardation, mental retardation, mental retardation, mental retardation, mental retardation, mental retardation, mental retardation, mental retardation, mental retardation, mental retardation, mental retardation, mental retardation, mental retardation, mental retardation, mental retardation, mental retardation, mental retardation, mental retardation, mental retardation, mental retardation, mental retardation, mental retardation, mental retardation, mental retardation, mental retardation, mental retardation, mental retardation, mental retardation, mental retardation, mental retardation, mental retardation, mental retardation, mental retardation, mental retardation, mental retardation, mental retardation, mental retardation, mental retardation, mental retardation, mental retardation, mental retardation, mental retardation, mental retardation, mental retardation, mental retardation, mental retardation, mental retardation, mental retardation, mental retardation, mental retardation, mental retardation, mental retardation, mental retardation, mental retardation, mental retardation, mental retardation, mental retardation, mental retardation, mental retardation, mental retardation, mental retardation, mental retardation, mental retardation, mental retardation, mental retardation, mental retardation, mental retardation, mental retardation, mental retardation, mental retardation, mental retardation\n",
      "------14------\n"
     ]
    },
    {
     "name": "stderr",
     "output_type": "stream",
     "text": [
      "Setting `pad_token_id` to `eos_token_id`:50256 for open-end generation.\n"
     ]
    },
    {
     "name": "stdout",
     "output_type": "stream",
     "text": [
      "The E6-AP ubiquitin ligase (human/mouse gene UBE3A/Ube3a) promotes the degradation of p53 in association with papilloma E6 protein, and maternal deficiency causes human Angelman syndrome (AS). Ube3a is imprinted with silencing of the paternal allele in hippocampus and cerebellum in mice. We found that the phenotype of mice with maternal deficiency (m-/p+) for Ube3a resembles human AS with motor dysfunction, inducible seizures, and a context-dependent learning deficit. Long-term potentiation (LTP) was severely impaired in m-/p+ mice despite normal baseline synaptic transmission and neuroanatomy, indicating that ubiquitination may play a role in mammalian LTP and that LTP may be abnormal in AS. The cytoplasmic abundance of p53 was increased in postmitotic neurons in m-/p+ mice and in AS, providing a potential biochemical basis for the phenotype through failure to ubiquitinate and degrade various effectors. \n",
      "\n",
      "##\n",
      "\n",
      "  autosomal dominant | HP_0000006\n",
      " p53 | HP_0002671\n",
      " ENDORFL | HP_0008589\n",
      " seizures | HP_0001250\n",
      " neuroanatomy | HP_0000077\n",
      " Long-term potentiation | HP_0006746\n",
      " ENDORFL | HP_0008588\n",
      " Cytoplasmic abundance of p53 | HP_0008675\n",
      " mammalian LTP | HP_0006745\n",
      " ENDORFL | HP_0008589\n",
      " ENDORFL | HP_0008588\n",
      " ENDORFL | HP_0003813\n",
      " ENDORFL | HP_0003812\n",
      " ENDORFL | HP_0002612\n",
      " HP_0008675: p53 in cerebellum | HP_0008840\n",
      " HP_0008840: ENDORFL | HP_0008835\n",
      " HP_0008835: ENDORFL | HP_0002612\n",
      " HP_0002671: imprinted | HP_0001405\n",
      " HP_0001405: Maternal deficiency | HP_0004467\n",
      " HP_0004467: Maternal deficiency | HP_0006444\n",
      " HP_0006444: Maternal deficiency | HP_0008680\n",
      " HP_0008680: AS | HP_0001249\n",
      " HP_0001249: Maternal deficiency | HP_0009594\n",
      " SMALL | HP_0004411\n",
      " SMALL | HP_0001291\n",
      " ENDORFL | HP_0002613\n",
      " SMALL | HP_0001311\n",
      " SMALL | HP_0001311\n",
      " SMALL | HP_0001311\n",
      " SMALL | HP_0001311\n",
      " SMALL | HP_0001311\n",
      " SMALL | HP_0001311\n",
      " SMALL | HP_0001311\n",
      " SMALL | HP_0001311\n",
      " SMALL |\n",
      "------15------\n"
     ]
    },
    {
     "name": "stderr",
     "output_type": "stream",
     "text": [
      "Setting `pad_token_id` to `eos_token_id`:50256 for open-end generation.\n"
     ]
    },
    {
     "name": "stdout",
     "output_type": "stream",
     "text": [
      "A young girl 12 old, sent to us for obesity, and coxa-epiphysiolysis showed signs of mental retardation and bilateral thumb ankylosis. The fact that the mother was also affected by both of these signs, led to a more detailed genetic research. The latter revealed that not only the daughter, the mother, but also their own mother and may be, the sister, the grand-mother and the great-aunt of the patient had a retardation, a slight dysmorphia, a type A brachydactylia, signs of obesity and an identical ankylosis of both thumbs. This vertical inheritance, affecting apparently females only, but not associated with a high rate of miscarriage, has, it seems, never been reported. The characteristics of this family are being considered and discussed. \n",
      "\n",
      "##\n",
      "\n",
      "  young girl | HP_0004045\n",
      " mental retardation | HP_0001249\n",
      " brachydactylia | HP_0001181\n",
      " retardation | HP_0001249\n",
      " dysmorphia | HP_0001252\n",
      " type A brachydactylia | HP_0008069\n",
      " brachydactylism | HP_0001159\n",
      " ankylosis of both thumbs | HP_0002216\n",
      " vertical inheritance | HP_0001425\n",
      " females only | HP_0004363\n",
      " miscarriage | HP_0002060\n",
      " ENDORSE | HP_0008384\n",
      " brachydactylism | HP_0001159\n",
      " ENDORSE_1 | HP_0008385\n",
      " brachydactylism_type | HP_0008070\n",
      " brachydactyly | HP_0001155\n",
      " dysmorphy | HP_0001252\n",
      " type | HP_0002464\n",
      " brachydactyly_type_2 | HP_0007603\n",
      " brachydactyly_type_end | HP_0007602\n",
      " brachydactyly_type_end_1 | HP_0007605\n",
      " brachydactyly_type_end_2 | HP_0007601\n",
      " brachydactyly_type_end_3 | HP_0007602\n",
      " brachydactyly_type_end_4 | HP_0007603\n",
      " brachydactyly_type_end_5 | HP_0007612\n",
      " brachydactyly_type_end_6 | HP_0007613\n",
      " brachydactyly_type_end_7 | HP_0007614\n",
      " brachydactyly_type_end_8 | HP_0007615\n",
      " brachydactyly_type_end_9 | HP_0007616\n",
      " brachydactyly_type_end_10 | HP_0007617\n",
      " brachydactyly_type_end_\n",
      "------16------\n"
     ]
    },
    {
     "name": "stderr",
     "output_type": "stream",
     "text": [
      "Setting `pad_token_id` to `eos_token_id`:50256 for open-end generation.\n"
     ]
    },
    {
     "name": "stdout",
     "output_type": "stream",
     "text": [
      "Several pedigrees with 19 new cases of the earpits-deafness syndrome (McK +12510) [28] are presented. Mention is made of clinical findings obtained in audiometric and vestibular studies, studies of renal function and configuration and polytomographic studies of the labyrinth, and results of exploratory tympanotomies are discussed. The literature is reviewed and the features found in 138 cases and in our 19 cases are presented. The earpits-deafness syndrome is an autosomal dominant disorder in which affected individuals may have sensorineural, conductive or mixed hearing loss, preauricular pits, structural defects of the outer, middle and inner ear, lacrimal duct stenosis, branchial fistulas or cysts of the second branchial arch, and renal anomalies ranging from mild hypoplasia to complete absence. Not all the features of the syndrome are expressed in all carriers of the gene. Pits, branchial clefts and hearing loss are frequently expressed. The incidence of renal malformation is higher, as mentioned earlier in the literature. The poor results of exploratory tympanotomies are discussed. On the basis of personal observations as well as in view of data from the literature it is maintained that the BOR (branchio-oto-renal dysplasia) syndrome [12,30-32] and the BO (branchio-oto dysplasia) syndrome are in fact the same affection. It is also maintained that no separate syndromes can be distinguished on the basis of the type of hearing loss. The present knowledge of the syndrome is summarized in terms of the information available for genetic counselling. \n",
      "\n",
      "##\n",
      "\n",
      "  renal anomalies | HP_0000087\n",
      " renal malformation | HP_0000104\n",
      " hearing loss | HP_0000365\n",
      " hearing loss, sensorineural | HP_0000405\n",
      " hearing loss, conductive | HP_0000407\n",
      " hearing loss, mixed | HP_0000390\n",
      " earpits | HP_0000383\n",
      " deafness | HP_0000404\n",
      " autosomal dominant disorder | HP_0000006\n",
      " preauricular pits | HP_0004467\n",
      " branchial fistulas | HP_0009794\n",
      " lacrimal duct stenosis | HP_0008880\n",
      " branchial clefts | HP_0009794\n",
      " cysts of the second branchial arch | HP_0009796\n",
      " renal hypoplasia | HP_0000104\n",
      " renal hypoplasia, unilateral | HP_0008657\n",
      " ENDORF | HP_0009830\n",
      " ENDORF, unilateral | HP_0010617\n",
      " ENDORF, unilateral and bilateral | HP_0010618\n",
      " ENDORF, bilateral | HP_0010619\n",
      " ENDORF, bilateral and unilateral and bilateral | HP_0010620\n",
      " ENDORF, bilateral and unilateral and unilateral and bilateral and unilateral | HP_00\n",
      "------17------\n"
     ]
    },
    {
     "name": "stderr",
     "output_type": "stream",
     "text": [
      "Setting `pad_token_id` to `eos_token_id`:50256 for open-end generation.\n"
     ]
    },
    {
     "name": "stdout",
     "output_type": "stream",
     "text": [
      "Neurofibromatosis type 2 (NF2) must be suspected in patients presenting with a unilateral vestibular schwannoma at a young age who are therefore at theoretical risk of developing bilateral disease. We identified 45 patients aged 30 years or less at the onset of symptoms of a unilateral vestibular schwannoma. Molecular genetic analysis of the NF2 gene was completed on peripheral blood samples in all 45 and on 28 tumour samples. No pathogenic NF2 mutations were identified in any of the blood samples. NF2 point mutations were identified in 21/28 (75%) tumour samples and loss of heterozygosity (LOH) in 21/28 (75%) tumour samples. Both mutational hits were identified in 18/28 (65%) tumour samples. In one multilobular tumour, one (presumably first hit) mutation was confirmed which was common to different foci of the tumour, while the second mutational event differed between foci. The molecular findings in this patient were consistent with somatic mosaicism for NF2 and the clinical diagnosis was confirmed with the presence of two meningiomas on a follow up MRI scan. A further patient developed a contralateral vestibular schwannoma on a follow up MRI scan in whom neither of the truncating mutations in the vestibular schwannoma were present in blood. It is important when counselling patients with unilateral vestibular schwannomas to identify (1) those at risk of bilateral disease, (2) those at risk of developing other tumours, and (3) other family members at risk of developing NF2. Comparing tumour and blood DNA cannot exclude mosaicism in the index case and cannot, therefore, be used to predict those at risk of developing further tumours. However, identification of both mutations or one mutation plus LOH in the tumour and exclusion of those mutations in the blood samples of the sibs or offspring of the affected case may be sufficient to render further screening unnecessary in these relatives. \n",
      "\n",
      "##\n",
      "\n",
      "  Neurofibromatosis | HP_0006746\n",
      " unilateral vestibular schwannoma | HP_0009589\n",
      " vestibular schwannoma | HP_0009588\n",
      " schwannoma | HP_0100008\n",
      " young | HP_0003593\n",
      " vestibular schwannoma at a young age | HP_0009591\n",
      " bilateral disease | HP_0009588\n",
      " somatic mosaicism | HP_0001442\n",
      " meningiomas | HP_0002858\n",
      " contralateral vestibular schwannoma | HP_0009592\n",
      " tumours | HP_0002664\n",
      " LOH | HP_0005640\n",
      " END_CLASS | HP_0004322\n",
      " END_CLASS | HP_0004744\n",
      " unilateral vestibular schwannoma | HP_\n",
      "------18------\n"
     ]
    },
    {
     "name": "stderr",
     "output_type": "stream",
     "text": [
      "Setting `pad_token_id` to `eos_token_id`:50256 for open-end generation.\n"
     ]
    },
    {
     "name": "stdout",
     "output_type": "stream",
     "text": [
      "We had previously described a patient with an overgrowth syndrome and the chromosome constitution 45,XY,t(15q15q) (Wajntal et al., DNA Cell Biol 1993: 12: 227-231). Clinical reassessment and the use of molecular studies, including methylation analysis with an SNRPN probe, microsatellite analyses of D15S11, GABRB3 and D15S113 loci, and fluorescence in situ hybridization (FISH) using the SNRPN and GABRB3 probes, are consistent with a diagnosis of Angelman syndrome (AS) due to paternal isodisomy. This is the fourth report case of a translocation 15q15q with paternal uniparental disomy (UPD). Our findings suggest that some patients with clinical features of AS have hyperphagia and obesity with overgrowth, and that these features should not rule out a diagnosis of AS. \n",
      "\n",
      "##\n",
      "\n",
      "  hyperphagia | HP_0001058\n",
      " obesity | HP_0001511\n",
      " overgrowth | HP_0007087\n",
      " ENDORFL | HP_0008586\n",
      " ENDORFL for AS | HP_0009373\n",
      " ENDORFL for PAD | HP_0012371\n",
      " ENDORFL for PADL | HP_0012372\n",
      " translocation | HP_0001442\n",
      " UPD | HP_0001638\n",
      " hyperphagia | HP_0001058\n",
      " ENDORFL for PADL | HP_0007356\n",
      " ENDORFL for PAD | HP_0008586\n",
      " ENDORFL for AS | HP_0009373\n",
      " ENDORFL for PADL | HP_0012371\n",
      " ENDORFL for PAD | HP_0007357\n",
      " ENDORFL for PADL | HP_0012372\n",
      " ENDORFL for PADL | HP_0012373\n",
      " ENDORFL for PAD | HP_0011365\n",
      " ENDORFL for PADL | HP_0012374\n",
      " ENDORFL for PAD | HP_0007356\n",
      " ENDORFL for PADL | HP_0012375\n",
      " ENDORFL for PAD | HP_0007359\n",
      " ENDORFL for PADL | HP_0012376\n",
      " ENDORFL for PAD | HP_0007365\n",
      " ENDORFL for PADL | HP_0012377\n",
      " ENDORFL for PAD | HP_0007366\n",
      " ENDORFL for PADL | HP_0012378\n",
      " translocation | HP_0001442\n",
      " hyperphagia | HP_0001058\n",
      " ENDORFL for PAD | HP_0007359\n",
      " ENDORFL for PAD | HP_0007365\n",
      " ENDORFL for PAD | HP_0007366\n",
      " ENDORFL for PAD | HP_0007\n",
      "------19------\n"
     ]
    },
    {
     "name": "stderr",
     "output_type": "stream",
     "text": [
      "Setting `pad_token_id` to `eos_token_id`:50256 for open-end generation.\n"
     ]
    },
    {
     "name": "stdout",
     "output_type": "stream",
     "text": [
      "Neurofibromatosis type 2 (NF2) is a monogenic dominantly inherited disease predisposing carriers to develop nervous system tumours. To identify the genetic defect, the region between two flanking polymorphic markers on chromosome 22 was cloned and several genes identified. One is the site of germ-line mutations in NF2 patients and of somatic mutations in NF2-related tumours. Its deduced product has homology with proteins at the plasma membrane and cytoskeleton interface, a previously unknown site of action of tumour suppressor genes in humans. \n",
      "\n",
      "##\n",
      "\n",
      "  Neurofibromatosis | HP_0006746\n",
      " dominantly inherited disease | HP_0000006\n",
      " tumour | HP_0002664\n",
      " somatic mutations | HP_0001425\n",
      " END_CLASS959000 | HP_0007121\n",
      " END_CLASS65000 | HP_0009794\n",
      " END_CLASS68000 | HP_0009795\n",
      " END_CLASS16000 | HP_0004467\n",
      " plasma membrane | HP_0001059\n",
      " cytoskeleton | HP_0003121\n",
      " somatic mutations in NF2-related tumours | HP_0009792\n",
      " NF2 patients | HP_0009588\n",
      " relevant loci | HP_0009911\n",
      " relevant loci, between two flanking polymorphic markers | HP_0001432\n",
      " relevant loci, locus of germ-line mutations in NF2 patients | HP_0004743\n",
      " relevant loci, locus of somatic mutations in NF2-related tumours | HP_0004741\n",
      " relevant loci, site of germ-line mutations in NF2 | HP_0004742\n",
      " relevant loci, site of somatic mutations in NF2-related tumours | HP_0004740\n",
      " relevant loci, site of somatic mutations in NF2-related tumours | HP_0009794\n",
      " END_CLASS959001 | HP_0100022\n",
      " END_CLASS959002 | HP_0100019\n",
      " END_CLASS959003 | HP_01000118\n",
      " END_CLASS959004 | HP_01000117\n",
      " END_CLASS959005 | HP_01000116\n",
      " END_CLASS959006 | HP_01000115\n",
      " END_CLASS959007 | HP_01000114\n",
      " END_CLASS959008 | HP_01000113\n",
      " END_CLASS959009 | HP_01000112\n",
      " END_CLASS959010 | HP_01000111\n",
      " END_CLASS959011 | HP_01000110\n",
      " END_CLASS959012 | HP_01000109\n",
      " END_CLASS959013 | HP_01000108\n",
      " END_CLASS959014 | HP_01000107\n",
      " END_CLASS959015 | HP_01000106\n",
      " END_CLASS959016 | HP\n",
      "------20------\n"
     ]
    },
    {
     "name": "stderr",
     "output_type": "stream",
     "text": [
      "Setting `pad_token_id` to `eos_token_id`:50256 for open-end generation.\n"
     ]
    },
    {
     "name": "stdout",
     "output_type": "stream",
     "text": [
      "Bilateral acoustic neurofibromatosis (BANF) is a severe autosomal dominant disorder involving development of multiple tumours of the nervous system including meningiomas, gliomas, neurofibromas and particularly bilateral acoustic neuromas. We have used genetic linkage analysis with DNA markers to establish that the defective gene causing BANF is on chromosome 22, and is therefore distinct from the gene for the von Recklinghausen form of neurofibromatosis, which maps to chromosome 17. Linked DNA markers will be particularly valuable in BANF, facilitating early detection of tumours and thereby permitting more effective surgical intervention. In view of the reported loss of genes on chromosome 22 in meningiomas and acoustic neuromas, the genetic localization of the primary BANF defect strongly supports the concept that the disease locus encodes a 'tumour suppressor' gene. Isolation of this gene should provide insights into the pathogenesis of acoustic neuromas and other nervous system tumours, as well as into the control of proliferation and differentiation of neural crest cells. \n",
      "\n",
      "##\n",
      "\n",
      "  Bilateral acoustic neurofibromatosis | HP_0009589\n",
      " neurofibromatosis | HP_0006746\n",
      " autosomal dominant disorder | HP_0000006\n",
      " development of multiple tumours of the nervous system | HP_0004375\n",
      " tumours | HP_0002664\n",
      " meningiomas | HP_0002858\n",
      " gliomas | HP_0009733\n",
      " neurofibromas | HP_0001067\n",
      " tumours | HP_0002664\n",
      " bilateral acoustic neurofibromatosis | HP_0009588\n",
      " early detection of tumours | HP_0001432\n",
      " meningiomas | HP_0002858\n",
      " gliomas | HP_0009733\n",
      " isolation of the defective gene | HP_0003813\n",
      " loss of genes on chromosome 22 | HP_0009466\n",
      " loss  of genes | HP_0001442\n",
      " ENDORF1 | HP_0004712\n",
      " ENDORF2 | HP_0004713\n",
      " ENDORF3 | HP_0004714\n",
      " ENDORF4 | HP_0004715\n",
      " ENDORF5 | HP_0004716\n",
      " ENDORF6 | HP_0004717\n",
      " ENDORF7 | HP_0004718\n",
      " ENDORF8 | HP_0004719\n",
      " ENDORF9 | HP_0004720\n",
      " ENDORF10 | HP_0004721\n",
      " ENDORF11 | HP_0004722\n",
      " ENDORF12 | HP_0004723\n",
      " ENDORF13 | HP_0004724\n",
      " ENDORF14 | HP_0004725\n",
      " ENDORF15 | HP_0004726\n",
      " ENDORF16 | HP_0004727\n",
      " ENDORF17 | HP_\n",
      "------21------\n"
     ]
    },
    {
     "name": "stderr",
     "output_type": "stream",
     "text": [
      "Setting `pad_token_id` to `eos_token_id`:50256 for open-end generation.\n"
     ]
    },
    {
     "name": "stdout",
     "output_type": "stream",
     "text": [
      "Three successive generations in two families affected with the popliteal pterygium syndrome are reported. While expression of the syndrome was relatively mild in the first and second generation, the patients in the third generation showed the full-blown syndrome. Differential diagnosis between mildly affected patients with the popliteal pterygium syndrome and those with Van der Woude syndrome is difficult and may even be impossible. The present observations further support the hypothesis that both syndromes may in fact represent variants of the same condition. \n",
      "\n",
      "##\n",
      "\n",
      "  popliteal pterygium | HP_0009756\n",
      " pterygium | HP_0001059\n",
      " popliteal pterygium syndrome | HP_0009757\n",
      " mildly affected | HP_0004467\n",
      " Van der Woude syndrome | HP_0100257\n",
      " differential diagnosis | HP_0004713\n",
      " END_CLASSROOM(HP_0009756) | CPG_241500\n",
      " END_CLASSROOM(HP_0001059) | CPG_3US | CPG_000300\n",
      " END_CLASSROOM(HP_0001508) | HMW_HORVATIC_CURVATURAL | HP_0004707\n",
      " END_CLASSROOM(HP_0004467) | HMW_HORVATIC_CURVATURAL | HP_0004707\n",
      " END_CLASSROOM(HP_0005684) | HMW_HORVATIC_CURVATURAL | HP_0004707\n",
      " END_CLASSROOM(HP_0100252) | HMW_HORVATIC_CURVATURAL | HP_0004707\n",
      " END_CLASSROOM(HP_0100257) | HMW_HORVATIC_CURVATURAL | HP_0004707\n",
      " END_CLASSROOM(HP_0100263) | HMW_HORVATIC_CURVATURAL | HP_0004707\n",
      " END_CLASSROOM(HP_0100264) | HMW_HORVATIC_CURVATURAL | HP_0004707\n",
      " END_CLASSROOM(HP_0100265) | HMW_HORVATIC_CURVATURAL | HP_0004707\n",
      " END_CLASSROOM(HP_0100266) | HMW_HORVATIC_CURVATURAL | HP_0004707\n",
      " END_CLASSROOM(HP_0100267) | HMW_HORVATIC_CURVATURAL | HP_0004707\n",
      " END_CLASSROOM(HP_0100268) | HMW_HORVATIC_CURVATURAL | HP_0004707\n",
      " END_\n",
      "------22------\n",
      "We compared epilepsy phenotypes with genotypes of Angelman syndrome (AS), including chromosome 15q11-13 deletions (class I), uniparental disomy (class II), methylation imprinting abnormalities (class III), and mutation in the UBE3A gene (class IV). Twenty patients were prospectively selected based on clinical cytogenetic and molecular diagnosis of AS. All patients had 6 to 72 hours of closed-circuit television videotaping and digitized electroencephalogrpahic (EEG) telemetry. Patients from all genotypic classes had characteristic EEGs with diffuse bifrontally dominant high-amplitude 1- to 3-Hz notched or triphasic or polyphasic slow waves, or slow and sharp waves. Class I patients had severe intractable epilepsy, most frequently with atypical absences and myoclonias and less frequently with generalized extensor tonic seizures or flexor spasms. Epileptic spasms were recorded in AS patients as old as 41 years. Aged-matched class II, III, and IV patients had either no epilepsy or drug-responsive mild epilepsy with relatively infrequent atypical absences, myoclonias, or atonic seizures. In conclusion, maternally inherited chromosome 15q11-13 deletions produce severe epilepsy. Loss-of-function UBE3A mutations, uniparental disomy, or methylation imprint abnormalities in AS are associated with relatively mild epilepsy. Involvement of other genes in the chromosome 15q11-13 deletion, such as GABRB3, may explain severe epilepsy in AS. \n",
      "\n",
      "##\n",
      "\n",
      "  epilepsy | HP_0001250\n",
      " autosomal dominant | HP_0000006\n",
      " atypical absences | HP_0002007\n",
      " myoclonias | HP_0001181\n",
      " atonic seizures | HP_0007087\n",
      " generalized extensor tonic seizures | HP_0009756\n",
      " extensor tonic seizures | HP_0001177\n",
      " flexor spasms | HP_0001177\n",
      " spasms | HP_0002363\n",
      " old as 41 years | HP_0003593\n",
      " ENDORFL | HP_0008794\n",
      " ENDORFL | HP_0008879\n",
      " ENDORFL | HP_0008878\n",
      " ENDORFL | HP_0008877\n",
      " ENDORFL | HP_0008876\n",
      " ENDORFL | HP_0008875\n",
      " ENDORFL | HP_0008874\n",
      " ENDORFL | HP_0008873\n",
      " ENDORFL | HP_0008872\n",
      " ENDORFL | HP_0008871\n",
      " ENDORFL | HP_0008870\n",
      " ENDORFL | HP_0008869\n",
      " ENDORFL | HP_0008868\n",
      " ENDORFL | HP_0008867\n",
      " ENDORFL | HP_0008866\n",
      " ENDORFL | HP_\n"
     ]
    }
   ],
   "source": [
    "for id, prompt in enumerate(biolark_tt):\n",
    "    \n",
    "    prompt = prompt.split('\\n\\n##\\n\\n')[0] + '\\n\\n##\\n\\n'\n",
    "    print(f'------{id}------')\n",
    "    gpt_val(prompt)\n"
   ]
  },
  {
   "cell_type": "markdown",
   "metadata": {
    "id": "lx1T8Qvga-fN"
   },
   "source": [
    "This training loop is just a proof of concept - to show that even in the heaviest case, it still fits on a gpu.\n",
    "Depending on your finetuning task, you'll need to remove some parts.\n",
    "Below we explain how to modify the code to achieve the setup from the [LoRA paper](https://arxiv.org/pdf/2106.09685.pdf)\n",
    "\n",
    "If you wanna fine-tune a-la LoRA , please use the parameters from Table 11,12 and 15 as a starter:\n",
    "\n",
    "(1) Train only the adapter matrices from attention layers\n",
    "\n",
    "In the above example, we train all kinds of adapters, and also layernorm scales and biases. This is only useful for fine-tuning over reasonably large datasets over long time.\n",
    "For quick setups you should tag everything except **the attention adapters** as `requires_grad=False` -- or just don't feed them into Adam:\n",
    "\n",
    "```\n",
    "\n",
    "params_for_optimizer = [\n",
    "    param for name, param in model.named_parameters()\n",
    "    if \"attn\" in name and \"adapter\" in name\n",
    "]\n",
    "print(\"Trainiable params:\", len(params_for_optimizer))\n",
    "\n",
    "# and after you verified it:\n",
    "for name, param in model.named_parameters():\n",
    "    if param not in params_for_optimizer:\n",
    "        print(f\"Setting {name} requires_grad=False\")\n",
    "        param.requires_grad = False\n",
    "```\n",
    "\n",
    "An even better way is to only create adapters that you need by modifying the `add_adapters` function above:\n",
    "```\n",
    "for name, module in model.named_modules():\n",
    "    if isinstance(module, (FrozenBNBLinear, FrozenBNBEmbedding)):\n",
    "        if \"attn\" in name:\n",
    "            print(\"Adding adapter to\", name)\n",
    "\n",
    "            todo_initialize_adapters_like_in_notebook()\n",
    "        else:\n",
    "            print(\"Not adding adapter to\", name)\n",
    "```\n",
    "As a side-effect, that would actually somewhat reduce the memory usage and may let you fit a longer sequence (e.g. 256)\n",
    "\n",
    "\n",
    "(2) initialize the second adapter matrix with zeros\n",
    "```\n",
    "for name, module in model.named_modules():\n",
    "    if hasattr(module, \"adapter\"):\n",
    "        print(\"Initializing\", name)\n",
    "        nn.init.zeros_(module.adapter[1].weight)\n",
    "        # optional: scale adapter[0].weight by (LoRA_alpha / r)\n",
    "```\n",
    "\n",
    "(3) use warmup and weight decay in Adam:\n",
    "```\n",
    "optimizer = Adam8Bit(..., weight_decay=0.01)\n",
    "scheduler = transformers.get_linear_schedule_with_warmup(\n",
    "    optimizer, num_warmup_steps_from_paper(), expected_total_number_of_steps\n",
    ")\n",
    "\n",
    "actually_use_scheduler_in_training_loop()\n",
    "```\n",
    "\n",
    "Finally, we recommend modifying training loop to track the training metrics, saving the best checkpoint, etc."
   ]
  },
  {
   "cell_type": "code",
   "execution_count": 11,
   "metadata": {},
   "outputs": [
    {
     "data": {
      "text/plain": [
       "['17DG0781',\n",
       " '09DG00835',\n",
       " '16DG0402',\n",
       " '13DG0911',\n",
       " '14DG1188',\n",
       " '17DG0766',\n",
       " '17DG0769',\n",
       " '17DG0773',\n",
       " '12DG1370',\n",
       " '14DG0647',\n",
       " '15DG0298',\n",
       " '15DG0299',\n",
       " '17DG0783',\n",
       " '17DG0768',\n",
       " '15DG0315',\n",
       " '16DG1608',\n",
       " '16DG0485',\n",
       " '17DG0777',\n",
       " '15DG0307',\n",
       " '17DG0764',\n",
       " '17DG0776',\n",
       " '17DG0774',\n",
       " '17DG0775',\n",
       " '16DG1123',\n",
       " '16DG0971',\n",
       " '15DG2492',\n",
       " '15DG2032',\n",
       " 'DD_91704',\n",
       " '15DG0837',\n",
       " '15DG0633',\n",
       " '12DG2311',\n",
       " '15DG2336',\n",
       " '17DG0771',\n",
       " '15DG0305',\n",
       " '13DG1545',\n",
       " '13DG1665',\n",
       " '16DG1625',\n",
       " '11DG1842',\n",
       " '16DG0201',\n",
       " '10DG0720',\n",
       " '14DG2158',\n",
       " '16DG0105',\n",
       " '17DG0780',\n",
       " '15DG0115',\n",
       " '15DG2064',\n",
       " '15DG0749',\n",
       " '14DG0959',\n",
       " '17DG0778',\n",
       " '13DG1202',\n",
       " '17DG0767',\n",
       " '16DG0325',\n",
       " '17DG0779',\n",
       " '17DG0763',\n",
       " '14DG1743',\n",
       " '10DG0840',\n",
       " '17DG0772',\n",
       " '17DG0782',\n",
       " '14DG0467',\n",
       " '15DG2661',\n",
       " '17DG0762',\n",
       " '17DG0770',\n",
       " '16DG0697',\n",
       " '16DG0051',\n",
       " '15DG2307',\n",
       " '15DG2206',\n",
       " '14DG1320',\n",
       " '14DG0056',\n",
       " '17DG0765']"
      ]
     },
     "execution_count": 11,
     "metadata": {},
     "output_type": "execute_result"
    }
   ],
   "source": [
    "#run ID-68\n",
    "import os\n",
    "\n",
    "notes = os.listdir('/mnt/isilon/wang_lab/jingye/projects/data/ID-68/corpus/')\n",
    "notes"
   ]
  },
  {
   "cell_type": "code",
   "execution_count": 12,
   "metadata": {},
   "outputs": [],
   "source": [
    "id_68 = []\n",
    "id_68_lb = [] \n",
    "for note in notes:\n",
    "    with open(f'/mnt/isilon/wang_lab/jingye/projects/data/ID-68/corpus/{note}','r') as file:\n",
    "        id_68.append(file.read())\n",
    "    with open(f'/mnt/isilon/wang_lab/jingye/projects/data/ID-68/ann/{note}', 'r') as file:\n",
    "        id_68_lb.append(file.read())"
   ]
  },
  {
   "cell_type": "code",
   "execution_count": 13,
   "metadata": {
    "scrolled": false
   },
   "outputs": [],
   "source": [
    "a = list(zip(id_68, id_68_lb))\n",
    "import random\n",
    "random.seed(1)\n",
    "a = list(zip(id_68,id_68_lb))"
   ]
  },
  {
   "cell_type": "code",
   "execution_count": 27,
   "metadata": {},
   "outputs": [],
   "source": [
    "my_list = []\n",
    "for prompt, lb in zip(id_68, id_68_lb):\n",
    "    if len(lb.rstrip('\\n').split('\\n')) <= 10:\n",
    "        my_list.append((prompt,lb))"
   ]
  },
  {
   "cell_type": "code",
   "execution_count": 28,
   "metadata": {},
   "outputs": [
    {
     "data": {
      "text/plain": [
       "31"
      ]
     },
     "execution_count": 28,
     "metadata": {},
     "output_type": "execute_result"
    }
   ],
   "source": [
    "len(my_list)"
   ]
  },
  {
   "cell_type": "code",
   "execution_count": 29,
   "metadata": {},
   "outputs": [],
   "source": [
    "random.seed(1)\n",
    "new_list = random.sample(my_list, 20)"
   ]
  },
  {
   "cell_type": "code",
   "execution_count": 32,
   "metadata": {
    "scrolled": false
   },
   "outputs": [
    {
     "name": "stdout",
     "output_type": "stream",
     "text": [
      "---1---\n",
      "This is a 13 months old boy with severe microcephaly, Dandy-Walker malformation, spasticity, GDD, developmental regression and failure to thrive. Parents are consanguineous, and there are no affected siblings. Head circumference at birth was 27 cm and at 1 year was 34 cm.\n",
      "40\t52\tmicrocephaly\tHP:0000252\n",
      "54\t79\tdandy walker malformation\tHP:0001305\n",
      "81\t91\tspasticity\tHP:0001257\n",
      "98\t122\tdevelopmental regression\tHP:0002376\n",
      "127\t144\tfailure to thrive\tHP:0001508\n",
      "\n",
      "5\n",
      "---2---\n",
      "A 9 months old deceased boy who was born at full-term via C-section due to meconium-stained liquor and fetal distress. He was admitted to NICU immediately after birth where he developed convulsions and jerky movements. His seizures have been difficult to control, and he is on multiple medications. The parents are first-degree cousins once removed, and they had a daughter with a similar course that passed away at the age of 16 months. His examination was significant for dysmorphic features and sluggish pupils. Brain MRI showed diffuse brain atrophy and delayed myelination of white matter. \n",
      "75\t98\tmeconium-stained liquor\tHP:0012420\tRelated\n",
      "103\t117\tfetal distress\tHP:0025116\n",
      "186\t197\tconvulsions\tHP:0001250\n",
      "223\t231\tseizures\tHP:0001250\n",
      "498\t513\tsluggish pupils\tHP:0000615\tRelated\n",
      "515\t553\tbrain mri showed diffuse brain atrophy\tHP:0002283\n",
      "558\t577\tdelayed myelination\tHP:0012448\n",
      "\n",
      "7\n",
      "---3---\n",
      "A 12 years old boy who was born at full term via NSVD to a G2P1 mother following an uneventful pregnancy. He was noted to have an abnormal roving eye movement in infancy, and it was found that his retina is severely damaged, bilaterally. His motor and cognitive functions are appropriate for age. His parents are first-degree cousins, and they have a daughter with a similar condition and occipital encephalocele and two sons with intellectual disability. His growth parameters at 12 years of age were weight 39 kg (50th -75th percentile), height 153 cm (50th -75th percentile) and head circumference 53 cm (25th – 50th percentile). He does not have dysmorphic features. Brain MRI showed nonspecific white matter changes.\n",
      "130\t158\tabnormal roving eye movement\tHP:0000496\tRelated\n",
      "197\t223\tretina is severely damaged\tHP:0000479\tRelated\n",
      "389\t412\toccipital encephalocele\tHP:0002085\n",
      "426\t454\twith intellectual disability\tHP:0001249\n",
      "700\t720\twhite matter changes\tHP:0002500\n",
      "\n",
      "5\n",
      "---4---\n",
      "A 17 months old girl with global developmental delay and neonatal-onset hypotonia. She was born via NSVD with no perinatal or maternal risk factors. She has poor feeding and hypotonia since birth. Developmentally, she has a global developmental delay affecting all domains. She can coo, raise her head, grasp objects and roll over from side to side. The parents are first-degree cousins with two healthy daughters. Her examination was significant for severe hypotonia and weakness, but other examinations were within normal limits. Her last growth parameters at 17 months of age were weight 9.7 kg (25th -50th percentile), height 80 cm (on the 50th percentile) and head circumference 47.1 cm (50th -75th percentile). The brain MRI showed white matter abnormality. \n",
      "26\t52\tglobal developmental delay\tHP:0001263\n",
      "57\t81\tneonatal onset hypotonia\tHP:0001319\n",
      "157\t169\tpoor feeding\tHP:0011968\n",
      "174\t195\thypotonia since birth\tHP:0001319\n",
      "224\t250\tglobal developmental delay\tHP:0001263\n",
      "451\t467\tsevere hypotonia\tHP:0006829\n",
      "472\t480\tweakness\tHP:0001324\tRelated\n",
      "738\t762\twhite matter abnormality\tHP:0002500\n",
      "8\n",
      "---5---\n",
      "Autism spectrum disorder and speech delay\n",
      "0\t24\tautism spectrum disorder\tHP:0000729\n",
      "29\t41\tspeech delay\tHP:0000750\n",
      "\n",
      "2\n",
      "---6---\n",
      "A 6 years old girl who was born via NSVD to a healthy 20 years old primigravida following a pregnancy that was complicated by threatened abortion. The antenatal and perinatal histories were unremarkable, and she was discharged on the second day. The first abnormality was noted at 14 months of age when she had tip-toeing and extensive investigations at that time were normal. She had two seizures at 26 and 28 months of age, and she has been seizure-free since then. She is now off medications. However, the primary concern was noted at the age of three years when she had an expressive language delay. Her cognitive abilities, in general, were reduced. She was evaluated by a psychiatrist and was diagnosed with ADHD and was started on medications. She also had an estimated IQ of 76. Her mother also noticed that she has frequent sleep panic attacks. Her parents are nonconsanguineous with another mildly affected daughter. Her father also has mild cognitive impairment, and there are multiple family members affected on the paternal side. Physical examination revealed mild hypertelorism and hypopigmentation on the back, and other examinations were within normal limits. Her growth parameters at 9 years of age were weight 44.2 kg ( >97th percentile), height 150 cm (>97th percentile, +2.64 SD) and head circumference 55.5 cm (>99th percentile, + 2.68 SD). EEG, brain MRI, CBC, tandem mass spectrometry and CGH microarray were within normal limits.\n",
      "126\t145\tthreatened abortion\tHP:0005268\tRelated\n",
      "389\t397\tseizures\tHP:0001250\n",
      "443\t450\tseizure\tHP:0001250\n",
      "577\t602\texpressive language delay\tHP:0002474\n",
      "608\t627\tcognitive abilities\tHP:0100543\n",
      "714\t718\tADHD\tHP:0007018\n",
      "839\t852\tpanic attacks\tHP:0025269\n",
      "947\t972\tmild cognitive impairment\tHP:0001256\n",
      "1078\t1091\thypertelorism\tHP:0000316\n",
      "1096\t1124\thypopigmentation on the back\tHP:0001010\n",
      "\n",
      "10\n",
      "---7---\n",
      "A 7 years old girl with a developmental delay, nystagmus and ADHD. She was born at full term via NSVD to a G9P6 SB2 40 years old mother following an uneventful pregnancy. The perinatal and postnatal histories were unremarkable, and she was discharged on the second day. The first concern was a developmental delay that was recognized in late infancy. She walked at 18 months, and she started saying mama and dada at 12 months, but she currently has less than 100 words vocabulary. She is not toilet trained. Her IQ was estimated to be 77. Her parents are consanguineous with a family history of a similar condition in two siblings and four cousins. Her father seems to be mildly affected. Her physical examination showed a thin body built, and other examinations were within normal limits. Her growth parameters at 7 years and 4 months were weight 16.1 kg (<3rd percentile), height 113.4 cm (3rd-10th percentile) and head circumference 53 cm (75th-90th percentile). Brain MRI showed thickened corpus callosum, mild cerebellar atrophy and small hippocampi.\n",
      "26\t45\tdevelopmental delay\tHP:0001263\n",
      "47\t56\tnystagmus\tHP:0000639\n",
      "61\t65\tADHD\tHP:0007018\tRelated\n",
      "294\t313\tdevelopmental delay\tHP:0001263\n",
      "723\t738\tthin body built\tHP:0001533\n",
      "983\t1008\tthickened corpus callosum\tHP:0002079\n",
      "1015\t1033\tcerebellar atrophy\tHP:0001272\n",
      "1038\t1054\tsmall hippocampi\tHP:0025517\n",
      "\n",
      "8\n",
      "---8---\n",
      "11 years old boy who was born at full term via NSVD following an uneventful pregnancy. His birth growth parameters were weight 2.75 kg and head circumference 31.5 cm. He has a global developmental delay, microcephaly and seizures. Parents are first-degree cousins, and they have another affected son. There is a family history of hearing loss on the maternal side. (14DG0648) A 9 years old boy who was born at full term via NSVD following an uneventful pregnancy. Birth weight was 2.5 kg, and he was noted to have microcephaly. He also has a global developmental delay and seizures. \n",
      "176\t202\tglobal developmental delay\tHP:0001263\n",
      "204\t216\tmicrocephaly\tHP:0000252\n",
      "221\t229\tseizures\tHP:0001250\n",
      "330\t342\thearing loss\tHP:0000365\n",
      "514\t526\tmicrocephaly\tHP:0000252\n",
      "542\t568\tglobal developmental delay\tHP:0001263\n",
      "573\t581\tseizures\tHP:0001250\n",
      "\n",
      "7\n",
      "---9---\n",
      "This is a baby girl who was born at 36 weeks gestational age via C-section to primigravid 24 years old healthy mother. She was admitted to NICU for symmetric IUGR and mild respiratory distress. Apgar scores were 8 and 9 at 1 and 5 minutes, respectively, and growth parameters at birth were weight 1.92 kg (<1st percentile), length 48 cm (25th-50th percentile) and OFC 29.5 cm (<1st percentile). On examination, her dysmorphic features include oligodactyly and dysplasia of the digits in the right hand (4 digits), Cutis aplasia in the scalp, posteriorly rotated ears, prominent nose and micrognathia. Her last growth parameters were all below 3rd percentile, and other examinations were within normal limits. Brain MRI was reported to be within normal limits. Skeletal survey showed 5 metacarpals with 3 hypoplastic fingers in the right hand as well as a claw appearance of a part of the little finger. The left hand is unremarkable. \n",
      "158\t162\tIUGR\tHP:0001511\n",
      "172\t192\trespiratory distress\tHP:0002098\n",
      "443\t455\toligodactyly\tHP:0012165\n",
      "460\t501\tdysplasia of the digits in the right hand\tHP:0009767\tRelated\n",
      "514\t540\tcutis aplasia in the scalp\tHP:0007385\n",
      "542\t566\tposteriorly rotated ears\tHP:0000358\n",
      "568\t582\tprominent nose\tHP:0000448\n",
      "587\t599\tmicrognathia\tHP:0000347\n",
      "802\t841\t3 hypoplastic fingers in the right hand\tHP:0009381\n",
      "9\n",
      "---10---\n",
      "A 5 years old girl with swallowing difficulty, recurrent chest infections and developmental delay. She can only say 4 words. Her parents are first-degree cousins, and there is no family history of a similar condition. Her growth parameters at 5 years of age were weight 9.4 kg, height 82.5 cm and head circumference 46 cm, all below the 3rd percentile. Her physical examination was significant for a blue sclera, hypotonia and hyporeflexia. Vision and hearing were normal, and other examinations were within normal limits. The brain MRI was grossly normal with diffuse T-2 hyperintensity in subcortical white matter. \n",
      "24\t45\tswallowing difficulty\tHP:0200136\n",
      "47\t73\trecurrent chest infections\tHP:0002783\n",
      "78\t97\tdevelopmental delay\tHP:0001263\n",
      "398\t411\ta blue sclera\tHP:0000592\n",
      "413\t422\thypotonia\tHP:0001290\n",
      "427\t439\thyporeflexia\tHP:0001265\n",
      "573\t615\thyperintensity in subcortical white matter\tHP:0030890\n",
      "7\n",
      "---11---\n",
      "A 6.5 years old boy who was born at full term via NSVD with normal growth parameters at birth. Antenatal and perinatal history was unremarkable, and he was discharged home on the following day. His gross motor development has been appropriate for age. However, he seems to have a delay in fine motor and language domains. He still has immature finger grasp and cannot feed himself or dress himself. Parents are first-degree cousins, and they have two other children with intellectual disability. His last growth parameters at 6 years of age were weight 16.6 kg (10th-25th percentile), height 113 cm (on the 25th percentile) and head circumference 48.4 cm (5th-10th percentile). He has no dysmorphic features apart from bilateral clinodactyly. \n",
      "198\t221\tgross motor development\tHP:0002194\tNeg\n",
      "280\t320\tdelay in fine motor domains\tHP:0010862\n",
      "280\t320\tdelay in language domains\tHP:0000750\tRelated\n",
      "335\t356\timmature finger grasp\tHP:0006135\tRelated\n",
      "457\t494\tchildren with intellectual disability\tHP:0001249\n",
      "729\t741\tclinodactyly\tHP:0030084\n",
      "\n",
      "6\n",
      "---12---\n",
      "A 23 months old girl who was born via NSVD to G4P3 36 years old mother following an uneventful pregnancy. Apgar scores were 8 and 9 at 1 and 5 minutes, respectively. She seized at the 10th hour of life, and she was admitted to NICU. Comprehensive investigations were carried out, and they were negative. She continues to have break-through seizures despite a trial of multiple antiepileptic drugs. On examination, her growth parameters at 23 months were weight 9.6 kg (10th -25th percentile), height 79.5 cm (10th -25th percentile) and head circumference 51 cm (>98th percentile). Her dysmorphic features are macrocephaly, prominent forehead, downslanting epicanthal folds, anteverted nares, one café au lait spot and significant axial and appendicular hypotonia. Other examinations were within normal limits. \n",
      "326\t348\tbreak-through seizures\tHP:0001250\n",
      "609\t621\tmacrocephaly\tHP:0000256\n",
      "623\t641\tprominent forehead\tHP:0011220\n",
      "656\t672\tepicanthal folds\tHP:0000286\n",
      "674\t690\tanteverted nares\tHP:0000463\n",
      "696\t713\tcafe au lait spot\tHP:0000957\n",
      "740\t762\tappendicular hypotonia\tHP:0012389\n",
      "730\t762\taxial hypotonia\tHP:0008936\n",
      "8\n",
      "---13---\n",
      "A 13 years old boy who was born at full term via NSVD following an uneventful pregnancy. He was developmentally normal until two years of age when he started to regress by losing his ability to speak. He sat with support at 4 months, talked by 9 months, and walked at 13 months. He is currently nonexpressive verbally, although he does seem to retain some verbal comprehension. He started to have seizures at 3 years of age. His seizures seem to be a combination of absence seizures and generalized tonic-clonic seizures which can occur even while he is walking and causing him to fall on the floor. He has an older sister who has been through the same course. His past medical history is noteworthy for a herniorrhaphy at age 4 months of age. His physical examination revealed appendicular hypertonia and hyporeflexia. He does not have dysmorphic features, and other examinations were within normal limits. His and his sister’s brain MRI were reported as normal. An experimental PET scan was done for him and it showed increased radiotracer binding in the bilateral basal ganglia and right hippocampus.\n",
      "172\t199\tlosing his ability to speak\tHP:0002371\n",
      "397\t405\tseizures\tHP:0001250\n",
      "429\t437\tseizures\tHP:0001250\n",
      "466\t482\tabsence seizures\tHP:0002121\n",
      "487\t520\tgeneralized tonic clonic seizures\tHP:0002069\n",
      "791\t801\thypertonia\tHP:0001276\n",
      "806\t818\thyporeflexia\tHP:0001265\n",
      "1020\t1080\tincreased radiotracer binding in the bilateral basal ganglia\tHP:0007146\n",
      "1020\t1102\tincreased radiotracer binding in the right hippocampus\tHP:0025100\tRelated\n",
      "\n",
      "9\n",
      "---14---\n",
      "A 10 years old with ADHD, autistic features, cold intolerance, sloping forehead, microcephaly, brittle hair, esotropia, failure to thrive, muscle weakness and frequent falls.\n",
      "20\t24\tADHD\tHP:0007018\tRelated\n",
      "26\t43\tautistic features\tHP:0000729\n",
      "45\t61\tcold intolerance\tHP:0004370\n",
      "63\t79\tsloping forehead\tHP:0000340\n",
      "81\t93\tmicrocephaly\tHP:0000252\n",
      "95\t107\tbrittle hair\tHP:0002299\n",
      "109\t118\tesotropia\tHP:0000565\n",
      "120\t137\tfailure to thrive\tHP:0001508\n",
      "139\t154\tmuscle weakness\tHP:0001324\n",
      "159\t173\tfrequent falls\tHP:0002359\n",
      "\n",
      "10\n",
      "---15---\n",
      "A 14 months old boy with severe microcephaly, global developmental delay, severe photosensitivity and congenital cataract. Family history is significant of two deceased sisters with a similar phenotype.\n",
      "32\t44\tmicrocephaly\tHP:0000252\n",
      "46\t72\tglobal developmental delay\tHP:0001263\n",
      "74\t97\tsevere photosensitivity\tHP:0007537\n",
      "102\t121\tcongenital cataract\tHP:0000519\n",
      "4\n",
      "---16---\n",
      "An 11 months old girl who was born at full-term via C-section due to failure to progress. Birth weight was 2.6 kg, and she was discharged from the hospital on the following day. She was noted at birth to have a cleft palate. She has had recurrent aspiration pneumonia that began within the second week of life led to several hospital admissions. Developmentally, she has a global developmental delay affecting all domains. She can roll over and hold her milk bottle, but she cannot sit, stand or say any word. Her parents are nonconsanguineous, and other siblings are healthy. On examination, her dysmorphic features include hypertelorism, excessive forehead hair, broad thumbs, three phalanges thumbs and bilateral prominent fingertip pads. Her growth parameters at 11 months of age were weight 5.1 KG and height 64 cm; both were below the 1st percentile. Her neurological assessment showed hyperreflexia and hypotonia, but other examinations were within normal limits. Brain MRI and EEG were reported to be normal. \n",
      "211\t223\tcleft palate\tHP:0000175\n",
      "237\t267\trecurrent aspiration pneumonia\tHP:0002100\n",
      "373\t399\tglobal developmental delay\tHP:0001263\n",
      "625\t638\thypertelorism\tHP:0000316\n",
      "640\t663\texcessive forehead hair\tHP:0011335\tRelated\n",
      "665\t677\tbroad thumbs\tHP:0011304\n",
      "679\t701\tthree phalanges thumbs\tHP:0001199\tRelated\n",
      "716\t740\tprominent fingertip pads\tHP:0001212\n",
      "892\t905\thyperreflexia\tHP:0001347\n",
      "910\t919\thypotonia\tHP:0001290\n",
      "\n",
      "10\n",
      "---17---\n",
      "A 3 years old girl with failure to thrive, short stature, microcephaly, speech delay, anteriorly placed anus and dysmorphic features. She was born preterm with IUGR to consanguineous parents. \n",
      "19\t41\twith failure to thrive\tHP:0001508\n",
      "43\t56\tshort stature\tHP:0004322\n",
      "58\t70\tmicrocephaly\tHP:0000252\n",
      "72\t84\tspeech delay\tHP:0000750\n",
      "86\t108\tanteriorly placed anus\tHP:0001545\n",
      "155\t167\twith IUGR to\tHP:0001511\n",
      "\n",
      "6\n",
      "---18---\n",
      "A 5 years old boy with dysmorphic facial features, hypertelorism, downslanting eyes, small ears, epicanthal folds, short neck, global developmental delay and mild autistic features. The parents are consanguineous, and they have another affected daughter.\n",
      "18\t49\twith dysmorphic facial features\tHP:0001999\n",
      "51\t64\thypertelorism\tHP:0000316\n",
      "85\t95\tsmall ears\tHP:0008551\n",
      "97\t113\tepicanthal folds\tHP:0000286\n",
      "115\t125\tshort neck\tHP:0000470\n",
      "127\t153\tglobal developmental delay\tHP:0001263\n",
      "158\t180\tmild autistic features\tHP:0000729\n",
      "7\n",
      "---19---\n",
      "A 17 years old girl with neuroregression that started at 4 years of age. She had been developmentally normal until the age of 4 years when she started to gradually lose her ability to walk and talk, and she is currently wheelchair-bound. She communicates through nodding her head. She also has developed seizures, but they have been under control. The parents are first-degree cousins, and they have three other affected children and three deceased children who died for an unknown reason. On examination, her growth parameters were weight 32 kg (<3rd percentile) and head circumference 49 cm(<3rd percentile). She has an ulnar deviation of the hands. She also has hyperreflexia of the extremities and strabismus. MRI showed mild leukodystrophy. Skin biopsy showed inclusion bodies. \n",
      "25\t40\tneuroregression\tHP:0002376\tRelated\n",
      "154\t188\tgradually lose her ability to walk\tHP:0002505\n",
      "154\t197\tgradually lose her ability to talk\tHP:0001344\n",
      "304\t312\tseizures\tHP:0001250\n",
      "619\t650\tan ulnar deviation of the hands\tHP:0009487\n",
      "665\t678\thyperreflexia\tHP:0001347\n",
      "702\t712\tstrabismus\tHP:0000486\n",
      "730\t744\tleukodystrophy\tHP:0002415\n",
      "\n",
      "8\n",
      "---20---\n",
      "An 8 years old boy who was born via an induced vaginal delivery to G3P0 A2 23 years old mother. Neonatal history was uneventful, and they were discharged on the third day. His motor development has been appropriate for age, but his language has always been delayed. He was 2 years old when his parents started to feel his gait was unstable, and they were concerned about his language delay. His IQ was estimated to be 70. He has a 6 years old sister with a similar condition, and there is a family history of intellectual disability. On examination, he has no dysmorphic features, and his growth parameters at 8 years of age were weight 18.7 kg (10th percentile), height 113.5 cm (3rd -5th percentile) and head circumference 51 cm (25th- 50th percentile).\n",
      "36\t63\tan induced vaginal delivery\tHP:0030369\n",
      "176\t193\tmotor development\tHP:0001270\tNeg\n",
      "232\t264\tlanguage has always been delayed\tHP:0000750\n",
      "322\t339\tgait was unstable\tHP:0002317\n",
      "375\t389\tlanguage delay\tHP:0000750\n",
      "498\t532\thistory of intellectual disability\tHP:0001249\n",
      "\n",
      "6\n"
     ]
    }
   ],
   "source": [
    "i = 1\n",
    "for prompt, lb in new_list:\n",
    "    print(f'---{i}---')\n",
    "    print(prompt)\n",
    "    print(lb)\n",
    "    print(len(lb.rstrip('\\n').split('\\n')))\n",
    "    i += 1"
   ]
  },
  {
   "cell_type": "code",
   "execution_count": 33,
   "metadata": {
    "scrolled": false
   },
   "outputs": [
    {
     "name": "stderr",
     "output_type": "stream",
     "text": [
      "Setting `pad_token_id` to `eos_token_id`:50256 for open-end generation.\n"
     ]
    },
    {
     "name": "stdout",
     "output_type": "stream",
     "text": [
      "------1------\n"
     ]
    },
    {
     "name": "stderr",
     "output_type": "stream",
     "text": [
      "Setting `pad_token_id` to `eos_token_id`:50256 for open-end generation.\n"
     ]
    },
    {
     "name": "stdout",
     "output_type": "stream",
     "text": [
      "This is a 13 months old boy with severe microcephaly, Dandy-Walker malformation, spasticity, GDD, developmental regression and failure to thrive. Parents are consanguineous, and there are no affected siblings. Head circumference at birth was 27 cm and at 1 year was 34 cm.\n",
      "\n",
      "##\n",
      "\n",
      "  severe microcephaly | HP_0008635\n",
      " microcephaly | HP_0001156\n",
      " Dandy-Walker malformation | HP_0009589\n",
      " spasticity | HP_0001250\n",
      " GDD | HP_0001263\n",
      " developmental regression | HP_0007087\n",
      " failure to thrive | HP_0002089\n",
      " Consangineous | HP_0003745\n",
      " END_CLASS | HP_0004322\n",
      " END_CLASS | HP_0001425\n",
      " 13 months old boy | HP_0003593\n",
      " growth retardation | HP_0001263\n",
      " END_CLASS | HP_0004467\n",
      " ILL | HP_0003812\n",
      "  spasticity, GDD | HP_0002564\n",
      "  spasticity | HP_0001250\n",
      "  microcephaly | HP_0001999\n",
      "  Consangineous | HP_0003745\n",
      "  END_CLASS | HP_0004412\n",
      "  END_CLASS | HP_0003812\n",
      "  HP_0003812\n",
      "  GDD | HP_0001263\n",
      "  END_CLASS | HP_0004712\n",
      "  HP_0004745\n",
      "  developmental regression | HP_0007087\n",
      "  failure to thrive | HP_0002089\n",
      "  growth retardation | HP_0001263\n",
      "  END_CLASS | HP_0004746\n",
      "  HP_0005684\n",
      "  microcephaly | HP_0001999\n",
      "  Consangineous | HP_0003745\n",
      "  END_CLASS | HP_0003813\n",
      "  HP_0004452\n",
      " END_CLASS | HP_0002664\n",
      "\n",
      "##\n",
      "\n",
      "  microcephaly | HP_0001156\n",
      " microcephaly, severe | HP_0001200\n",
      " microcephaly, Dandy-Walker malformation | HP_0009588\n",
      " microcephaly, spasticity | HP_0009588\n",
      " microcephaly, spasticity, GDD | HP_0009589\n",
      " microcephaly, spasticity, developmental regression | HP_0009589\n",
      " microcephaly, developmental regression, and failure to thrive | HP_0007088\n",
      " microcephaly, developmental regression, and failure to thrive, and spasticity | HP_0007088\n",
      " microcephaly, developmental regression, spasticity, and GDD | HP_0007088\n",
      " microcephaly, developmental regression, spasticity, GDD, and Consangineous | HP_0007088\n",
      " micro\n",
      "------2------\n"
     ]
    },
    {
     "name": "stderr",
     "output_type": "stream",
     "text": [
      "Setting `pad_token_id` to `eos_token_id`:50256 for open-end generation.\n"
     ]
    },
    {
     "name": "stdout",
     "output_type": "stream",
     "text": [
      "A 9 months old deceased boy who was born at full-term via C-section due to meconium-stained liquor and fetal distress. He was admitted to NICU immediately after birth where he developed convulsions and jerky movements. His seizures have been difficult to control, and he is on multiple medications. The parents are first-degree cousins once removed, and they had a daughter with a similar course that passed away at the age of 16 months. His examination was significant for dysmorphic features and sluggish pupils. Brain MRI showed diffuse brain atrophy and delayed myelination of white matter. \n",
      "\n",
      "##\n",
      "\n",
      "  hyperactive child | HP_0001263\n",
      " ENDODROPHIN | HP_0004363\n",
      " meconium-stained liquor | HP_0002167\n",
      " fetal distress | HP_0008897\n",
      " convulsions | HP_0001250\n",
      " jerky movements | HP_0001251\n",
      " dysmorphic features | HP_0004467\n",
      " delayed myelination | HP_0001317\n",
      " ENDODROPHIN | HP_0004359\n",
      " ENDODROPIN | HP_000897\n",
      " ENDOCYTOSC | HP_0004656\n",
      " ENDOCYTOSC PTP | HP_0007118\n",
      " delayed myelination | HP_0001317\n",
      " ENDOCYTOSC PTP | HP_0007121\n",
      " ENDOCYTOSC GLY | HP_0004657\n",
      " ENDOCYTOSC GLY PTP | HP_0004741\n",
      " ENDOCYTOSC PTP SAC | HP_0008405\n",
      " ENDOCYTOSC GLY SAC | HP_0010610\n",
      " ENDOCYTOSC GLY SAC PTP | HP_0010618\n",
      " ENDOCYTOSC GLY SAC PTP SAC | HP_0010628\n",
      " ENDOCYTOSC GLY SAC PTP SAC DIS | HP_0010638\n",
      " ENDOCYTOSC GLY SAC PTP SAC DIS MUT | HP_0010622\n",
      " ENDOCYTOSC GLY MUT | HP_0004656\n",
      " ENDOCYTOSC GLY PTP MUT | HP_0004742\n",
      " ENDOCYTOSC GLY PTP DIS M | HP_0005684\n",
      " ENDOCYTOSC PTP MUT | HP_0007118\n",
      " ENDOCYTOSC GLY PTP MUT | HP_0004741\n",
      " ENDOCYTOSC GLY PTP DIS M | HP_0005684\n",
      " dysmorphic features | HP_0001263\n",
      " ENDOCYTOSC GLY PTP DIS M | HP_0004741\n",
      " ENDOCYTOSC GLY MUT | HP_0004656\n",
      " ENDOCY\n",
      "------3------\n"
     ]
    },
    {
     "name": "stderr",
     "output_type": "stream",
     "text": [
      "Setting `pad_token_id` to `eos_token_id`:50256 for open-end generation.\n"
     ]
    },
    {
     "name": "stdout",
     "output_type": "stream",
     "text": [
      "A 12 years old boy who was born at full term via NSVD to a G2P1 mother following an uneventful pregnancy. He was noted to have an abnormal roving eye movement in infancy, and it was found that his retina is severely damaged, bilaterally. His motor and cognitive functions are appropriate for age. His parents are first-degree cousins, and they have a daughter with a similar condition and occipital encephalocele and two sons with intellectual disability. His growth parameters at 12 years of age were weight 39 kg (50th -75th percentile), height 153 cm (50th -75th percentile) and head circumference 53 cm (25th – 50th percentile). He does not have dysmorphic features. Brain MRI showed nonspecific white matter changes.\n",
      "\n",
      "##\n",
      "\n",
      "  abnormal roving eye movement | HP_0006818\n",
      " roving eye movement | HP_0001263\n",
      " full term | HP_000377\n",
      " END_OF_1ST_TRIM | HP_0006996\n",
      " END_OF_1ST_TRIM | HP_0004467\n",
      " encephalocele | HP_0000238\n",
      " condition | HP_0001425\n",
      " nonspecific white matter changes | HP_0007407\n",
      " weight | HP_0001196\n",
      " growth parameters | HP_0004375\n",
      " intellectual disability | HP_0001249\n",
      " intellectual disability | HP_0001249\n",
      " two sons | HP_0004466\n",
      " END_OF_1ST_TRIM | HP_0009795\n",
      " END_OF_1ST_TRIM | HP_0006996\n",
      " END_OF_1ST_TRIM | HP_0009796\n",
      " END_OF_1ST_TRIM | HP_0003822\n",
      " END_OF_1ST_TRIM | HP_0001999\n",
      " END_OF_1ST_TRIM | HP_0001100\n",
      " END_OF_1ST_TRIM | HP_0003823\n",
      " END_OF_1ST_TRIM | HP_0009798\n",
      " END_OF_1ST_TRIM | HP_0003824\n",
      " END_OF_1ST_TRIM | HP_0003825\n",
      " END_OF_1ST_TRIM | HP_0003826\n",
      " END_OF_1ST_TRIM | HP_0003827\n",
      " END_OF_1ST_TRIM | HP_0003828\n",
      " END_OF_1ST_TRIM | HP_0003829\n",
      " END_OF_1ST_TRIM | HP_0003830\n",
      " END_OF_1ST_TRIM | HP_0003831\n",
      " END_OF_1ST_TRIM | HP_0003832\n",
      " END_OF_1ST_TRIM | HP_0003833\n",
      " END_OF_1ST_TRIM | HP_000\n",
      "------4------\n"
     ]
    },
    {
     "name": "stderr",
     "output_type": "stream",
     "text": [
      "Setting `pad_token_id` to `eos_token_id`:50256 for open-end generation.\n"
     ]
    },
    {
     "name": "stdout",
     "output_type": "stream",
     "text": [
      "A 17 months old girl with global developmental delay and neonatal-onset hypotonia. She was born via NSVD with no perinatal or maternal risk factors. She has poor feeding and hypotonia since birth. Developmentally, she has a global developmental delay affecting all domains. She can coo, raise her head, grasp objects and roll over from side to side. The parents are first-degree cousins with two healthy daughters. Her examination was significant for severe hypotonia and weakness, but other examinations were within normal limits. Her last growth parameters at 17 months of age were weight 9.7 kg (25th -50th percentile), height 80 cm (on the 50th percentile) and head circumference 47.1 cm (50th -75th percentile). The brain MRI showed white matter abnormality. \n",
      "\n",
      "##\n",
      "\n",
      "  global developmental delay | HP_0001263\n",
      " neonatal-onset hypotonia | HP_0006821\n",
      " hypotonia | HP_0001252\n",
      " poor feeding | HP_0006828\n",
      " poor feeding and hypotonia | HP_0007078\n",
      " poor feeding since birth | HP_0004452\n",
      " developmental delay | HP_0001263\n",
      " global developmental delay | HP_0001263\n",
      " developmental delay affecting all domains | HP_0004746\n",
      " developmental delay affecting all domains, but more prominent global developmental delay | HP_0004711\n",
      " severe hypotonia | HP_0002858\n",
      " hypotonia | HP_0001252\n",
      " weakness | HP_0002013\n",
      " severe hypotonia and weakness | HP_0002859\n",
      " severe hypotonia | HP_0002857\n",
      " severe hypotonia and weakness, but other examinations were within normal limits | HP_0002860\n",
      " severe hypotonia and weakness, but other examinations were within normal limits, and severe hypotonia | HP_0002861\n",
      " severe hypotonia and weakness, but other examinations were within normal limits, and poor feeding | HP_0004452\n",
      " severe hypotonia and weakness, but other examinations were within normal limits, and poor feeding and hypotonia | HP_0007079\n",
      " severe hypotonia and weakness, but other examinations were within normal limits, and poor feeding, and poor feeding since birth | HP_0007080\n",
      " severe hypotonia and weakness, but other examinations were within normal limits, and poor feeding, and global developmental delay | HP_0007081\n",
      " global developmental delay and neonatal-onset hypotonia | HP_0007078\n",
      " global developmental delay | HP_0001263\n",
      " cousin | HP_0006443\n",
      " ENDORFICHTHYDIABETIC | HP_0006512\n",
      " ENDORFICHTHYDIABETIC (fetal) | HP_0009373\n",
      " ENDORFICHTHYDIABETIC (perinatal) | HP_0009371\n",
      " ENDORFICHTHYDIABETIC (perinatal and maternal risk factors\n",
      "------5------\n"
     ]
    },
    {
     "name": "stderr",
     "output_type": "stream",
     "text": [
      "Setting `pad_token_id` to `eos_token_id`:50256 for open-end generation.\n"
     ]
    },
    {
     "name": "stdout",
     "output_type": "stream",
     "text": [
      "Autism spectrum disorder and speech delay\n",
      "\n",
      "##\n",
      "\n",
      "  autism spectrum disorder | HP_0003593\n",
      " speech delay | HP_0001344\n",
      " END_OF_SHORTHOUSE_DELAY | HP_0003571\n",
      " END_OF_SHORTHOUSE_DELay | HP_0003570\n",
      " Short Hais | HP_0000336\n",
      " Hais | HP_0001059\n",
      " END_OF_REMS | HP_0002508\n",
      " REMS | HP_0001263\n",
      " END_OF_VAGINAL_RHYTHM | HP_0006573\n",
      " END_OF_VAGINAL_RHYTHM | HP_0002651\n",
      " VAGINAL_RHYTHM | HP_0002612\n",
      " END_OF_SLEEP | HP_0008684\n",
      " SLEEP | HP_0001263\n",
      " END_OF_LIFESPAN | HP_0008422\n",
      " END_OF_LIFESPAN | HP_0003589\n",
      " LIFESPAN | HP_0001264\n",
      " END_OF_FACET | HP_0004452\n",
      " Facet | HP_0000951\n",
      " END_OF_TOOTH | HP_0004452\n",
      " TOOTH | HP_0000196\n",
      " END_OF_RIB | HP_0004452\n",
      " RIB | HP_0000177\n",
      " END_OF_SKIN | HP_0000076\n",
      " Skin | HP_0001999\n",
      " END_OF_JAW | HP_0004452\n",
      " Jaw | HP_0000206\n",
      " END_OF_TRA | HP_0004452\n",
      " TRA | HP_0001291\n",
      " END_OF_URIN | HP_0011463\n",
      " URD | HP_0008794\n",
      " END_OF_URIN | HP_0008897\n",
      " END_OF_URIN | HP_0008898\n",
      " URD | HP_0008794\n",
      " END_OF_URIN | HP_0008897\n",
      " END_OF_URIN | HP_0008898\n",
      " END_OF_URIN | HP_0008899\n",
      " END_OF_URIN | HP_0008900\n",
      " END_OF_URIN | HP_0008901\n",
      " END_OF_URIN | HP_0008902\n",
      " END_OF_URIN | HP_0008903\n",
      " END_OF_URIN | HP_0008904\n",
      " END_OF_URIN | HP_0008905\n",
      " END_OF_URIN | HP_0008906\n",
      " END_OF_URIN | HP_0008907\n",
      " END_OF_URIN | HP_0008908\n",
      " END_OF_URIN | HP_0008909\n",
      " END_OF_URIN | HP_0008910\n",
      " END_OF_URIN | HP_00089\n",
      "------6------\n"
     ]
    },
    {
     "name": "stderr",
     "output_type": "stream",
     "text": [
      "Setting `pad_token_id` to `eos_token_id`:50256 for open-end generation.\n"
     ]
    },
    {
     "name": "stdout",
     "output_type": "stream",
     "text": [
      "A 6 years old girl who was born via NSVD to a healthy 20 years old primigravida following a pregnancy that was complicated by threatened abortion. The antenatal and perinatal histories were unremarkable, and she was discharged on the second day. The first abnormality was noted at 14 months of age when she had tip-toeing and extensive investigations at that time were normal. She had two seizures at 26 and 28 months of age, and she has been seizure-free since then. She is now off medications. However, the primary concern was noted at the age of three years when she had an expressive language delay. Her cognitive abilities, in general, were reduced. She was evaluated by a psychiatrist and was diagnosed with ADHD and was started on medications. She also had an estimated IQ of 76. Her mother also noticed that she has frequent sleep panic attacks. Her parents are nonconsanguineous with another mildly affected daughter. Her father also has mild cognitive impairment, and there are multiple family members affected on the paternal side. Physical examination revealed mild hypertelorism and hypopigmentation on the back, and other examinations were within normal limits. Her growth parameters at 9 years of age were weight 44.2 kg ( >97th percentile), height 150 cm (>97th percentile, +2.64 SD) and head circumference 55.5 cm (>99th percentile, + 2.68 SD). EEG, brain MRI, CBC, tandem mass spectrometry and CGH microarray were within normal limits.\n",
      "\n",
      "##\n",
      "\n",
      "  mild hypertelorism | HP_0000248\n",
      " hypopigmentation | HP_0008546\n",
      " END_CLASS | HP_0004375\n",
      " END_CLASS | HP_0002858\n",
      " MIMETOBSERV | HP_0003512\n",
      " END_CLASS | HP_0008887\n",
      " END_CLASS | HP_0006611\n",
      " Physical appearance | HP_0000356\n",
      " Physical appearance | HP_0000291\n",
      " Physical appearance | HP_0004467\n",
      " Sleep | HP_0002360\n",
      " END_CLASS | HP_0001263\n",
      " END_CLASS | HP_0001999\n",
      " END_CLASS | HP_0001999\n",
      " Physical appearance | HP_0004468\n",
      " END_CLASS | HP_0004467\n",
      " END_CLASS | HP_0004468\n",
      " Physical appearance | HP_0004469\n",
      " END_CLASS | HP_0004469\n",
      " Physical appearance | HP_0004470\n",
      " END_CLASS | HP_0004470\n",
      " Physical appearance | HP_0004471\n",
      " END_CLASS | HP_0004471\n",
      " Physical appearance | HP_0004472\n",
      " END_CLASS | HP_0004472\n",
      " Physical appearance | HP_0004473\n",
      " END_CLASS | HP_0004473\n",
      " Physical appearance | HP_0004474\n",
      " END_CLASS | HP_0004474\n",
      " Physical appearance | HP_00044\n",
      "------7------\n"
     ]
    },
    {
     "name": "stderr",
     "output_type": "stream",
     "text": [
      "Setting `pad_token_id` to `eos_token_id`:50256 for open-end generation.\n"
     ]
    },
    {
     "name": "stdout",
     "output_type": "stream",
     "text": [
      "A 7 years old girl with a developmental delay, nystagmus and ADHD. She was born at full term via NSVD to a G9P6 SB2 40 years old mother following an uneventful pregnancy. The perinatal and postnatal histories were unremarkable, and she was discharged on the second day. The first concern was a developmental delay that was recognized in late infancy. She walked at 18 months, and she started saying mama and dada at 12 months, but she currently has less than 100 words vocabulary. She is not toilet trained. Her IQ was estimated to be 77. Her parents are consanguineous with a family history of a similar condition in two siblings and four cousins. Her father seems to be mildly affected. Her physical examination showed a thin body built, and other examinations were within normal limits. Her growth parameters at 7 years and 4 months were weight 16.1 kg (<3rd percentile), height 113.4 cm (3rd-10th percentile) and head circumference 53 cm (75th-90th percentile). Brain MRI showed thickened corpus callosum, mild cerebellar atrophy and small hippocampi.\n",
      "\n",
      "##\n",
      "\n",
      "  developmental delay | HP_0001249\n",
      " nystagmus | HP_0000155\n",
      " ADHD | HP_0000303\n",
      " ENDART | HP_0004467\n",
      " SB2 | HP_0006746\n",
      " perinatal and postnatal histories were unremarkable | HP_0009794\n",
      " ENDART_SB2 | HP_0006780\n",
      " The perinatal and postnatal histories were unremarkable, and she was discharged on the second day | HP_0009794\n",
      " Her growth parameters at 7 years and 4 months were weight 16.1 kg (<3rd percentile), height 113.4 cm (3rd-10th percentile) and head circumference 53 cm (75th-90th percentile). | HP_0008886\n",
      " body built | HP_0001249\n",
      " growth parameters | HP_0006066\n",
      " thin body built | HP_0001252\n",
      " Her growth parameters at 7 years and 4 months were weight 16.1 kg (<3rd percentile), height 113.4 cm (3rd-10th percentile) and head circumference 53 cm (75th-90th percentile). | HP_0008886\n",
      " Her growth parameters at 7 years and 4 months were weight 16.1 kg (<3rd percentile), height 113.4 cm (3rd-10th percentile) | HP_0008886\n",
      " Her growth parameters at 7 years and 4 months were weight 16.1 kg (<3rd percentile), height 113.4 cm (3rd-10th percentile) | HP_0008886\n",
      " Her growth parameters at 7 years and 4 months were weight 16.1 kg (<3rd percentile), height 113.4 cm (3rd-10th percentile) | HP_0008886\n",
      " ENDART_SB2\n",
      "------8------\n"
     ]
    },
    {
     "name": "stderr",
     "output_type": "stream",
     "text": [
      "Setting `pad_token_id` to `eos_token_id`:50256 for open-end generation.\n"
     ]
    },
    {
     "name": "stdout",
     "output_type": "stream",
     "text": [
      "11 years old boy who was born at full term via NSVD following an uneventful pregnancy. His birth growth parameters were weight 2.75 kg and head circumference 31.5 cm. He has a global developmental delay, microcephaly and seizures. Parents are first-degree cousins, and they have another affected son. There is a family history of hearing loss on the maternal side. (14DG0648) A 9 years old boy who was born at full term via NSVD following an uneventful pregnancy. Birth weight was 2.5 kg, and he was noted to have microcephaly. He also has a global developmental delay and seizures. \n",
      "\n",
      "##\n",
      "\n",
      "  global developmental delay | HP_0001249\n",
      " microcephaly | HP_0000252\n",
      " seizures | HP_0001250\n",
      " hearing loss | HP_0000365\n",
      " hearing loss, on the maternal side | HP_0004363\n",
      " hearing loss, on the maternal side | HP_0000110\n",
      " global developmental delay | HP_0002276\n",
      " ENDORECOMPATIBILITY | HP_0003813\n",
      " ENDORECOMPATIBILITIES | HP_0001291\n",
      " ENDORECOMPATIBILITIES | HP_0004363\n",
      " ENDOCYSTAL CYSTS | HP_0005986\n",
      " CYSTS | HP_0002664\n",
      " ENDOCYSTAL CYSTS | HP_0009795\n",
      " ENDOCYSTAL CYSTS | HP_0009796\n",
      " ENDOCYSTAL CYSTS | HP_0009797\n",
      " ENDOCYSTAL CYSTS | HP_0010610\n",
      " ENDOCYSTAL CYSTS | HP_0010612\n",
      " ENDOCYSTAL CYSTS | HP_0010611\n",
      " ENDOCYSTAL CYSTS | HP_0010613\n",
      " ENDOCYSTAL CYSTS | HP_0010614\n",
      " ENDOCYSTAL CYSTS | HP_0010615\n",
      " ENDOCYSTAL CYSTS | HP_0010616\n",
      " ENDOCYSTAL CYSTS | HP_0010617\n",
      " ENDOCYSTAL CYSTS | HP_0010618\n",
      " ENDOCYSTAL CYSTS | HP_0010619\n",
      " ENDOCYSTAL CYSTS | HP_0010620\n",
      " ENDOCYSTAL CYSTS | HP_0010621\n",
      " ENDOCYSTAL CYSTS | HP_0010622\n",
      " ENDOCYSTAL CYSTS | HP_0010623\n",
      " ENDOCYSTAL CYSTS | HP_0010624\n",
      " ENDOCYSTAL CYSTS | HP_0010625\n",
      " ENDOCYSTAL CYSTS | HP_0010626\n",
      " ENDOCYSTAL CYSTS | HP_0010628\n",
      " ENDOC\n",
      "------9------\n"
     ]
    },
    {
     "name": "stderr",
     "output_type": "stream",
     "text": [
      "Setting `pad_token_id` to `eos_token_id`:50256 for open-end generation.\n"
     ]
    },
    {
     "name": "stdout",
     "output_type": "stream",
     "text": [
      "This is a baby girl who was born at 36 weeks gestational age via C-section to primigravid 24 years old healthy mother. She was admitted to NICU for symmetric IUGR and mild respiratory distress. Apgar scores were 8 and 9 at 1 and 5 minutes, respectively, and growth parameters at birth were weight 1.92 kg (<1st percentile), length 48 cm (25th-50th percentile) and OFC 29.5 cm (<1st percentile). On examination, her dysmorphic features include oligodactyly and dysplasia of the digits in the right hand (4 digits), Cutis aplasia in the scalp, posteriorly rotated ears, prominent nose and micrognathia. Her last growth parameters were all below 3rd percentile, and other examinations were within normal limits. Brain MRI was reported to be within normal limits. Skeletal survey showed 5 metacarpals with 3 hypoplastic fingers in the right hand as well as a claw appearance of a part of the little finger. The left hand is unremarkable. \n",
      "\n",
      "##\n",
      "\n",
      "  asymmetric IUGR | HP_0008935\n",
      " mild respiratory distress | HP_0002664\n",
      " birth at 36 weeks | HP_0001144\n",
      " IUGR | HP_0001263\n",
      " END_CLASS | HP_0004322\n",
      " END_CLASS | HP_0004370\n",
      " dysplasia of the digits | HP_0001196\n",
      " oligodactyly | HP_0001159\n",
      " dysplasia of the digits | HP_0001196\n",
      " posteriorly rotated ears | HP_0000316\n",
      " ears, prominent | HP_0000366\n",
      " micrognathia | HP_0000211\n",
      " cutis aplasia | HP_0004458\n",
      " hypoplastic fingers | HP_0008590\n",
      " metacarpals | HP_0001155\n",
      " claw appearance of a part of the little finger | HP_0008020\n",
      " END_CLASS | HP_0004467\n",
      " END_CLASS | HP_0001291\n",
      " Normal Growth and Development | HP_0001153\n",
      " END_CLASS | HP_0004375\n",
      " Skeletal Findings | HP_0000812\n",
      " skeletal survey | HP_0003745\n",
      " END_CLASS | HP_0004330\n",
      " END_CLASS | HP_0001291\n",
      " dysmorphic features | HP_0001999\n",
      " oligodactyly | HP_0001159\n",
      " dysplasia of the digits | HP_0001196\n",
      " posteriorly rotated ears | HP_0000316\n",
      " ears, prominent | HP_0000366\n",
      " prominent nose | HP_0002069\n",
      " micrognathia | HP_0000211\n",
      " cutis aplasia | HP_0004458\n",
      " END_CLASS | HP_0004347\n",
      " END_CLASS | HP_0001291\n",
      " IUGR | HP_0008935\n",
      " END_CLASS | HP_00044\n",
      "------10------\n"
     ]
    },
    {
     "name": "stderr",
     "output_type": "stream",
     "text": [
      "Setting `pad_token_id` to `eos_token_id`:50256 for open-end generation.\n"
     ]
    },
    {
     "name": "stdout",
     "output_type": "stream",
     "text": [
      "A 5 years old girl with swallowing difficulty, recurrent chest infections and developmental delay. She can only say 4 words. Her parents are first-degree cousins, and there is no family history of a similar condition. Her growth parameters at 5 years of age were weight 9.4 kg, height 82.5 cm and head circumference 46 cm, all below the 3rd percentile. Her physical examination was significant for a blue sclera, hypotonia and hyporeflexia. Vision and hearing were normal, and other examinations were within normal limits. The brain MRI was grossly normal with diffuse T-2 hyperintensity in subcortical white matter. \n",
      "\n",
      "##\n",
      "\n",
      "  swallowing difficulty | HP_0001627\n",
      " developmental delay | HP_0001263\n",
      " hypotonia | HP_0001159\n",
      " hyporeflexia | HP_0008586\n",
      " 3 rd percentile | HP_0004051\n",
      " low weight, 9.4 k | HP_0006996\n",
      " low height, 82.5 cm | HP_0009373\n",
      " low head circumference, 46 cm | HP_0004458\n",
      " hypoplastic scul | HP_0001140\n",
      " hypoplastic scul | HP_0004452\n",
      " brachycephaly | HP_0001155\n",
      " brachycephaly | HP_0004999\n",
      " END_CLASS | HP_0004656\n",
      " END_CLASS | HP_0001263\n",
      " END_CLASS | HP_0001140 \n",
      "\n",
      "##\n",
      "\n",
      "  5 years of age | HP_201280\n",
      " growth parameters | HP_0004322\n",
      " weight, 9.4 k | HP_0006995\n",
      " END_CLASS | HP_0004467\n",
      " developmental delay | HP_0001264\n",
      " recurrent chest infections | HP_0002664\n",
      " chest infections | HP_0002666\n",
      " hypoplastic scul | HP_0001140\n",
      " END_CLASS | HP_0002858\n",
      " END_CLASS | HP_0002665\n",
      " END_CLASS | HP_0002650\n",
      " END_CLASS | HP_0001999 \n",
      "\n",
      "##\n",
      "\n",
      "  blue sclera | HP_0000336\n",
      " swallowing difficulty | HP_0001627\n",
      " developmental delay | HP_0001263\n",
      " hypotonia | HP_0001159\n",
      " hyporeflexia | HP_0008586\n",
      " cousin | HP_010080\n",
      " low head circumference | HP_0004458\n",
      " brachycephaly | HP_0001155\n",
      " END_CLASS | HP_0001425\n",
      " END_CLASS | HP_0001999\n",
      " END_CLASS | HP_0004467\n",
      " END_CLASS | HP_0002858\n",
      "\n",
      "##\n",
      "\n",
      "  hypoplastic scul | HP_0001140\n",
      " swallowing difficulty | HP_0001627\n",
      " developmental delay | HP_0001263\n",
      " END_CLASS | HP_0002858\n",
      " END_CLASS | HP_0004467\n",
      " END_CLASS | HP_0002857\n",
      " END_\n",
      "------11------\n"
     ]
    },
    {
     "name": "stderr",
     "output_type": "stream",
     "text": [
      "Setting `pad_token_id` to `eos_token_id`:50256 for open-end generation.\n"
     ]
    },
    {
     "name": "stdout",
     "output_type": "stream",
     "text": [
      "A 6.5 years old boy who was born at full term via NSVD with normal growth parameters at birth. Antenatal and perinatal history was unremarkable, and he was discharged home on the following day. His gross motor development has been appropriate for age. However, he seems to have a delay in fine motor and language domains. He still has immature finger grasp and cannot feed himself or dress himself. Parents are first-degree cousins, and they have two other children with intellectual disability. His last growth parameters at 6 years of age were weight 16.6 kg (10th-25th percentile), height 113 cm (on the 25th percentile) and head circumference 48.4 cm (5th-10th percentile). He has no dysmorphic features apart from bilateral clinodactyly. \n",
      "\n",
      "##\n",
      "\n",
      "  intellectual disability | HP_0001249\n",
      " bilateral clinodactyly | HP_0008021\n",
      " ENDODERM | HP_0001949\n",
      " ENDODERM, Normal Growth | HP_0008522\n",
      " ENDOGENOUS FERTILITY | HP_0001249\n",
      " ENDOGENOUS FERTILITY (MIDDLE OF GESTATION) | HP_0006821\n",
      " ENDOGENOUS FERTILITY (ORTHOGENOUS ZONES FACTOR) | HP_0008675\n",
      " ENDOGENOUS FERTILITY (ORTHOGENOUS ZONES FACTOR) without dysmorphic features | HP_0008675\n",
      " FALLOPI | HP_0009911\n",
      " growth parameters | HP_0004375\n",
      " delay in fine motor and language domains | HP_0001148\n",
      " immature finger grasps | HP_0001181\n",
      " cannot feed | HP_0001251\n",
      " immature finger grasps, and cannot dress | HP_0001181\n",
      " immature finger grasps and cannot use utensil | HP_0001181\n",
      " bilateral clinodactyly | HP_0008020\n",
      " intellectual disability | HP_0001249\n",
      " familial intellectual disability | HP_0001252\n",
      " ENDOGENOUS FERTILITY (ORIGIN OF MALFORMED CAKEDOMAS) | HP_0007458\n",
      " ENDOGENOUS FERTILITY (ORIGIN OF MALFORMED CAKEDOMAS, OF PSEUDO CYSTIC FALLS) | HP_0007999\n",
      " ENDOGENOUS FERTILITY (ORIGIN OF MALFORMED CAKEDOMAS, OF CYSTIC FALLS) | HP_0002650\n",
      " CYSTIC FALLS | HP_0001336\n",
      " bilateral CYCLOEDYMOUS | HP_0001385\n",
      " bilateral CYCLOEDYMOUS, with bilateral CYCLODACTYLY | HP_0001385\n",
      " CYCLOEDYMOUS | HP_0001\n",
      "------12------\n"
     ]
    },
    {
     "name": "stderr",
     "output_type": "stream",
     "text": [
      "Setting `pad_token_id` to `eos_token_id`:50256 for open-end generation.\n"
     ]
    },
    {
     "name": "stdout",
     "output_type": "stream",
     "text": [
      "A 23 months old girl who was born via NSVD to G4P3 36 years old mother following an uneventful pregnancy. Apgar scores were 8 and 9 at 1 and 5 minutes, respectively. She seized at the 10th hour of life, and she was admitted to NICU. Comprehensive investigations were carried out, and they were negative. She continues to have break-through seizures despite a trial of multiple antiepileptic drugs. On examination, her growth parameters at 23 months were weight 9.6 kg (10th -25th percentile), height 79.5 cm (10th -25th percentile) and head circumference 51 cm (>98th percentile). Her dysmorphic features are macrocephaly, prominent forehead, downslanting epicanthal folds, anteverted nares, one café au lait spot and significant axial and appendicular hypotonia. Other examinations were within normal limits. \n",
      "\n",
      "##\n",
      "\n",
      "  hyperinsulinaemia | HP_0009589\n",
      " ENDORETIN | HP_0004606\n",
      " ENDORETIN REACH | HP_0005486\n",
      " ENDOCYTOSCOPIC SYNDROME | HP_0002664\n",
      " ENDOCYTOSCOPIC SYNDROME | HP_0002665\n",
      " SYNDROMES | HP_0001371\n",
      " growth parameters | HP_0004322\n",
      " dysmorphic features | HP_0001263\n",
      " axial and appendicular hypotonia | HP_0001252\n",
      " hypotonia | HP_0001252\n",
      " ENDOCYTOSCOPIC SYNDROME | HP_0002664\n",
      " ENDOCYTOSCOPIC SYNDROME | HP_0002665\n",
      " ENDOCYTOSCOPIC SYNDROME | HP_0009588\n",
      " ENDOCYTOSCOPIC SYNDROME | HP_0009589\n",
      " ENDOCYTOSCOPIC SYNDROME | HP_0009588\n",
      " ENDOCYTOSCOPIC SYNDROME | HP_0009587\n",
      " ENDOCYTOSCOPIC SYNDROME | HP_0009586\n",
      " ENDOCYTOSCOPIC SYNDROME | HP_0009585\n",
      " ENDOCYTOSCOPIC SYNDROME | HP_0009584\n",
      " ENDOCYTOSCOPIC SYNDROME | HP_0009583\n",
      " ENDOCYTOSCOPIC SYNDROME | HP_0009582\n",
      " ENDOCYTOSCOPIC SYNDROME | HP_0009581\n",
      " ENDOCYTOSCOPIC SYNDROME | HP_0009579\n",
      " ENDOCYTOSCOPIC SYNDROME | HP_0009577\n",
      " ENDOCYTOSCOPIC SYNDROME | HP_000\n",
      "------13------\n"
     ]
    },
    {
     "name": "stderr",
     "output_type": "stream",
     "text": [
      "Setting `pad_token_id` to `eos_token_id`:50256 for open-end generation.\n"
     ]
    },
    {
     "name": "stdout",
     "output_type": "stream",
     "text": [
      "A 13 years old boy who was born at full term via NSVD following an uneventful pregnancy. He was developmentally normal until two years of age when he started to regress by losing his ability to speak. He sat with support at 4 months, talked by 9 months, and walked at 13 months. He is currently nonexpressive verbally, although he does seem to retain some verbal comprehension. He started to have seizures at 3 years of age. His seizures seem to be a combination of absence seizures and generalized tonic-clonic seizures which can occur even while he is walking and causing him to fall on the floor. He has an older sister who has been through the same course. His past medical history is noteworthy for a herniorrhaphy at age 4 months of age. His physical examination revealed appendicular hypertonia and hyporeflexia. He does not have dysmorphic features, and other examinations were within normal limits. His and his sister’s brain MRI were reported as normal. An experimental PET scan was done for him and it showed increased radiotracer binding in the bilateral basal ganglia and right hippocampus.\n",
      "\n",
      "##\n",
      "\n",
      "  hypertonic | HP_0001258\n",
      " appendicular hypertonia | HP_0001272\n",
      " hyporeflexia | HP_0002167\n",
      " brain MRI | HP_0002059\n",
      " older sister | HP_0003813\n",
      " seizures | HP_0001250\n",
      " absence seizures | HP_0001250\n",
      " generalized tonic-clonic seizures | HP_0002061\n",
      " seizures, combination of absence and generalized tonic-clonic | HP_0002264\n",
      " seizures, while walking | HP_0002267\n",
      " END_CLASS | HP_0000410 | absence seizures | HP_0001250\n",
      " END_CLASS | HP_0002664 | END_CLASS | HP_0003814\n",
      " END_CLASS | HP_0001425 | older sister | HP_0003813\n",
      " END_OF_CLASS | HP_0002671 | seizures | HP_0001250\n",
      " END_OF_CLASS | HP_0003593 | absence seizures | HP_0001250\n",
      " END_OF_CLASS | HP_0002590 | generalized tonic-clonic seizures | HP_0002061\n",
      " END_OF_CLASS | HP_0002612 | seizures, while walking | HP_0002267\n",
      " END_OF_CLASS | HP_0002613 | seizures | HP_0001250\n",
      " developmentally normal | HP_0001464\n",
      " END_OF_CLASS | HP_0002622 | brain MRI | HP_0002059\n",
      " END_OF_CLASS | HP_0002615 | older sister | HP_0003813\n",
      " END_OF_CLASS | HP_0009792 | brain MRI, normal | HP_0004741\n",
      " END_OF_CLASS | HP_0005684 | END_CLASS | HP_\n",
      "------14------\n"
     ]
    },
    {
     "name": "stderr",
     "output_type": "stream",
     "text": [
      "Setting `pad_token_id` to `eos_token_id`:50256 for open-end generation.\n"
     ]
    },
    {
     "name": "stdout",
     "output_type": "stream",
     "text": [
      "A 10 years old with ADHD, autistic features, cold intolerance, sloping forehead, microcephaly, brittle hair, esotropia, failure to thrive, muscle weakness and frequent falls.\n",
      "\n",
      "##\n",
      "\n",
      "  hyperactive disorder | HP_0004378\n",
      " ENDORECOMPENSABILITY | HP_0004467\n",
      " AUTISTIC FACTOR | HP_0001249\n",
      " AUTISTIC FACTOR SYNDROME | HP_0001250\n",
      " AUTISITIC SYNDROME | HP_0001251\n",
      " AUTISITIC ESSURGECT | HP_0004390\n",
      " AUTISITIC ESSURGECT SYNDROME | HP_0004087\n",
      " ENDORECOMPENSABILITY | HP_0001143\n",
      " BRACIOSCOPIC | HP_0005363\n",
      " BRACIOSCOPIC SYMMETRICAL | HP_0005361\n",
      " Microcephaly | HP_0000252\n",
      " BRACIO-CORVOSCOPIC | HP_0001272\n",
      " BRACIOSCOPIC SYMMETRICAL | HP_0001270\n",
      " SYMMETRICAL | HP_0006411\n",
      " ENDORECOMPENSABILITY | HP_0004467\n",
      " ENDORECOMPENSABILITY SYMMETRICAL | HP_0004468\n",
      " ENDORECOMPENSABILITY | HP_0004378\n",
      " ENDORECOMPENSABILITY SYMMETRICAL | HP_0004468\n",
      " AUTISITIC | HP_0001263\n",
      " ENDORECOMPENSABILITY | HP_0004088\n",
      " AUTISITIC ESSURGECT | HP_0004390\n",
      " ENDORECOMPENSABILITY | HP_0004381\n",
      " Autistic features | HP_0001263\n",
      " ENDORECOMPENSABILITY | HP_0004089\n",
      " Autistic features | HP_0001264\n",
      " Autistic features | HP_0001263\n",
      " Autistic features | HP_0001249\n",
      " Autistic features | HP_0001250\n",
      " Autistic features | HP_0001251\n",
      " Autistic features | HP_0004381\n",
      " Autistic features | HP_0004378\n",
      " Autistic features | HP_0004467\n",
      " Autistic features | HP_0004468\n",
      " Autistic features | HP_0004469\n",
      " Autistic features | HP_0004470\n",
      " Autistic features | HP_0004471\n",
      " Autistic features | HP_0004472\n",
      " Autistic features | HP_0004473\n",
      " Autistic features | HP_0004474\n",
      " Autistic features | HP_0004475\n",
      " Autistic features | HP_0004476\n",
      " Autistic features | HP_0004477\n",
      " Autistic features | HP_0004478\n",
      " Autistic features | HP_0004479\n",
      " Autistic features |\n",
      "------15------\n"
     ]
    },
    {
     "name": "stderr",
     "output_type": "stream",
     "text": [
      "Setting `pad_token_id` to `eos_token_id`:50256 for open-end generation.\n"
     ]
    },
    {
     "name": "stdout",
     "output_type": "stream",
     "text": [
      "A 14 months old boy with severe microcephaly, global developmental delay, severe photosensitivity and congenital cataract. Family history is significant of two deceased sisters with a similar phenotype.\n",
      "\n",
      "##\n",
      "\n",
      "  severe microcephaly | HP_0000252\n",
      " global developmental delay | HP_0001263\n",
      " severe photosensitivity | HP_0008675\n",
      " cataract | HP_0000518\n",
      " congenital | HP_0001267\n",
      " END_OF_GENE | HP_0001420\n",
      " END_OF_GENE | HP_0004322\n",
      " died | HP_0001317\n",
      " END_OF_GENE | HP_0004319\n",
      " END_OF_GENE | HP_0004321\n",
      " END_OF_GENE | HP_0004320\n",
      " END_OF_GENE | HP_0002212\n",
      " END_OF_GENE | HP_0004318\n",
      " END_OF_GENE | HP_0002564\n",
      " END_OF_GENE | HP_0004317\n",
      " END_OF_GENE | HP_0002565\n",
      " END_OF_GENE | HP_0004314\n",
      " END_OF_GENE | HP_0002566\n",
      " END_OF_GENE | HP_0002567\n",
      " END_OF_GENE | HP_0002568\n",
      " END_OF_GENE | HP_0002569\n",
      " END_OF_GENE | HP_0002570\n",
      " END_OF_GENE | HP_0002571\n",
      " END_OF_GENE | HP_0002572\n",
      " END_OF_GENE | HP_0002573\n",
      " END_OF_GENE | HP_0002574\n",
      " END_OF_GENE | HP_0002575\n",
      " END_OF_GENE | HP_0002576\n",
      " END_OF_GENE | HP_0002577\n",
      " END_OF_GENE | HP_0002578\n",
      " END_OF_GENE | HP_0002579\n",
      " END_OF_GENE | HP_0002580\n",
      " END_OF_GENE | HP_0002581\n",
      " END_OF_GENE | HP_0002582\n",
      " END_OF_GENE | HP_0002583\n",
      " END_OF_GENE | HP_0002584\n",
      " END_OF_GENE | HP_0002585\n",
      " END_OF_GENE | HP_0002586\n",
      " END_OF_GENE | HP_0002587\n",
      " END_OF_GENE | HP_0002588\n",
      " END_OF_GENE | HP_0002589\n",
      " END_OF_GENE | HP_0002590\n",
      " END_OF_GENE | HP_0002591\n",
      " END_OF_GENE | HP_0002592\n",
      " END_OF_GENE | HP\n",
      "------16------\n"
     ]
    },
    {
     "name": "stderr",
     "output_type": "stream",
     "text": [
      "Setting `pad_token_id` to `eos_token_id`:50256 for open-end generation.\n"
     ]
    },
    {
     "name": "stdout",
     "output_type": "stream",
     "text": [
      "An 11 months old girl who was born at full-term via C-section due to failure to progress. Birth weight was 2.6 kg, and she was discharged from the hospital on the following day. She was noted at birth to have a cleft palate. She has had recurrent aspiration pneumonia that began within the second week of life led to several hospital admissions. Developmentally, she has a global developmental delay affecting all domains. She can roll over and hold her milk bottle, but she cannot sit, stand or say any word. Her parents are nonconsanguineous, and other siblings are healthy. On examination, her dysmorphic features include hypertelorism, excessive forehead hair, broad thumbs, three phalanges thumbs and bilateral prominent fingertip pads. Her growth parameters at 11 months of age were weight 5.1 KG and height 64 cm; both were below the 1st percentile. Her neurological assessment showed hyperreflexia and hypotonia, but other examinations were within normal limits. Brain MRI and EEG were reported to be normal. \n",
      "\n",
      "##\n",
      "\n",
      "  11 months old | HP_0004065\n",
      " cleft palate | HP_0000175\n",
      " Aspiration pneumonia | HP_0002664\n",
      " global developmental delay | HP_0001263\n",
      " developmental delay | HP_0001263\n",
      " global developmental delay | HP_0008675\n",
      " nonconsangineous | HP_0000006\n",
      " nonconsangineous, excessive forehead hair | HP_0004458\n",
      " excessive forehead hair | HP_0008657\n",
      " broad thumbs | HP_0000269\n",
      " bilateral prominent fingertip pads | HP_0010044\n",
      " hypertelorism | HP_0000279\n",
      " growth retardation | HP_0001252\n",
      " hypotonia | HP_0001252\n",
      " hyperreflexia | HP_0002215\n",
      " ENDODISCOPIC_CASE | HP_0008743\n",
      " ENDODISCOPIC_CASE | HP_0008744\n",
      " ENDODISCOPIC_CASE | HP_0008745\n",
      " ENDODISCOPIC_CASE | HP_0008746\n",
      " ENDODISCOPIC_CASE | HP_0008747\n",
      " ENDODISCOPIC_CASE | HP_0008748\n",
      " ENDODISCOPIC_CASE | HP_0008749\n",
      " ENDODISCOPIC_CASE | HP_0008750\n",
      " ENDODISCOPIC_CASE | HP_0008751\n",
      " ENDODISCOPIC_CASE | HP_0008752\n",
      " ENDODISCOPIC_CASE | HP_0008753\n",
      " ENDODISCOPIC_CASE | HP_0008754\n",
      " ENDODISCOPIC_CASE | HP_0008755\n",
      " ENDODISCOPIC_CASE | HP_0009373\n",
      " ENDODISCOPIC_CASE | HP_0009378\n",
      " ENDODISCOP\n",
      "------17------\n"
     ]
    },
    {
     "name": "stderr",
     "output_type": "stream",
     "text": [
      "Setting `pad_token_id` to `eos_token_id`:50256 for open-end generation.\n"
     ]
    },
    {
     "name": "stdout",
     "output_type": "stream",
     "text": [
      "A 3 years old girl with failure to thrive, short stature, microcephaly, speech delay, anteriorly placed anus and dysmorphic features. She was born preterm with IUGR to consanguineous parents. \n",
      "\n",
      "##\n",
      "\n",
      "  failure to thrive | HP_0001061\n",
      " short stature | HP_0004375\n",
      " microcephaly | HP_0000252\n",
      " speech delay | HP_0001177\n",
      " anteriorly placed anus | HP_0002089\n",
      " dysmorphic features | HP_0001249\n",
      " preterm | HP_0002814\n",
      " IUGR | HP_0001425\n",
      " consanguineous parents | HP_0006746\n",
      " END_CLASSIFICATION\n",
      " END_CLASSIFICATION3RICH_BASIC_SYNDROMS | HP_0006322\n",
      " preterm | HP_0001425\n",
      " IUGR | HP_0001425\n",
      " END_CLASSIFICATION2CUTANEOUS_SYMPTOMS | HP_0004711\n",
      " dysmorphic features | HP_0001250\n",
      " END_CLASSIFICATION1CUTANEOUS_SYMPTOMS | HP_0001263\n",
      " END_CLASSIFICATION1CUTANEOUS | HP_0004711\n",
      " END_CLASSIFICATION2VAGINAL_CRY | HP_0005134\n",
      " END_CLASSIFICATION3RICH_BASIC | HP_0009795\n",
      " END_CLASSIFICATION1IUGR | HP_0001425\n",
      " END_CLASSIFICATION2CUTANEOUS_SYMPTOMS_VAGINAL_CRY | HP_0005136\n",
      " IUGR | HP_0001425\n",
      " END_CLASSIFICATION3RICH_BASIC_SYNDROMS_VAGINAL_CRY | HP_0005137\n",
      " SYNDROMES_VAGINAL_CRY | HP_0005122\n",
      " END_CLASSIFICATION1IUGR_PRETERM | HP_0004378\n",
      " END_CLASSIFICATION2CUTANEOUS_SYMPTOMS_VAGINAL_CRY_VAGINAL_CRY_VAGINALL | HP_0005121\n",
      " END_CLASSIFICATION1IUGR_PRETERM_VAGINAL_CRY | HP_0004377\n",
      " preterm | HP_0002814\n",
      " IUGR | HP_0001425\n",
      " END_CLASSIFICATION1CUTANEOUS_SYMPTOMS_VAGINAL_CRY_VAGINAL_CRY_VAGINALL | HP_0005122\n",
      " END_CLASSIFICATION1IUGR_PRETERM_VAGINAL_CRY | HP_0004377\n",
      " preterm | HP_0002814\n",
      " IUGR | HP_0001425\n",
      " END_\n",
      "------18------\n"
     ]
    },
    {
     "name": "stderr",
     "output_type": "stream",
     "text": [
      "Setting `pad_token_id` to `eos_token_id`:50256 for open-end generation.\n"
     ]
    },
    {
     "name": "stdout",
     "output_type": "stream",
     "text": [
      "A 5 years old boy with dysmorphic facial features, hypertelorism, downslanting eyes, small ears, epicanthal folds, short neck, global developmental delay and mild autistic features. The parents are consanguineous, and they have another affected daughter.\n",
      "\n",
      "##\n",
      "\n",
      "  dysmorphic facial features | HP_0004467\n",
      " hypertelorism | HP_0000209\n",
      " downslanting eyes | HP_0000356\n",
      " small ears | HP_0000394\n",
      " epicanthal folds | HP_0000381\n",
      " short neck | HP_0004412\n",
      " global developmental delay | HP_0001263\n",
      " mild autistic features | HP_0001263\n",
      " END_OF_PROJECTION | HP_0004422\n",
      " Consanguineous | HP_0001425\n",
      " global developmental delay | HP_0001263\n",
      " mild autistic features | HP_0001263\n",
      " END_OF_PROJECT | HP_0003813\n",
      " END_OF_HEAD | HP_0004450\n",
      " developmental delay | HP_0001263\n",
      " Autistic features | HP_0001263\n",
      " END_OF_HEAD | HP_0004449\n",
      " Autistic features | HP_0001263\n",
      " END_OF_BEHAVIOR | HP_0004429\n",
      " Consanguineous | HP_0001425\n",
      " END_OF_BEHAVIOR | HP_0004428\n",
      " Autistic features | HP_0001263\n",
      " END_OF_BEHAVIOR | HP_0004427\n",
      " Autistic features | HP_0001263\n",
      " END_OF_BEHAVIOR | HP_0004426\n",
      " Autistic features | HP_0001263\n",
      " END_OF_BEHAVIOR | HP_0004425\n",
      " Autistic features | HP_0001263\n",
      " END_OF_BEHAVIOR | HP_0004424\n",
      " Autistic features | HP_0001263\n",
      " END_OF_BEHAVIOR | HP_0004423\n",
      " Autistic features | HP_0001263\n",
      " END_OF_BEHAVIOR | HP_0004412\n",
      " Short neck | HP_0000307\n",
      " END_OF_BEHAVIOR | HP_0004411\n",
      " Autistic features | HP_0001263\n",
      " Short neck | HP_0000307\n",
      " Autistic features | HP_0001263\n",
      " Short neck | HP_0001263\n",
      " Short stature | HP_0004439\n",
      " Autistic features | HP_0001263\n",
      " GLYPHIC | HP_0004470\n",
      " GLYPHIC | HP_0004471\n",
      " GLYPHIC | HP_0004472\n",
      " END_OF_CHROMOSOME | HP_0009756\n",
      " END_OF_CHROMOSOME | HP_0009755\n",
      " END_OF_CHROMOSOME | HP_0009794\n",
      " END_OF_CHROMOSOME | HP_0009795\n",
      " END_OF_CH\n",
      "------19------\n"
     ]
    },
    {
     "name": "stderr",
     "output_type": "stream",
     "text": [
      "Setting `pad_token_id` to `eos_token_id`:50256 for open-end generation.\n"
     ]
    },
    {
     "name": "stdout",
     "output_type": "stream",
     "text": [
      "A 17 years old girl with neuroregression that started at 4 years of age. She had been developmentally normal until the age of 4 years when she started to gradually lose her ability to walk and talk, and she is currently wheelchair-bound. She communicates through nodding her head. She also has developed seizures, but they have been under control. The parents are first-degree cousins, and they have three other affected children and three deceased children who died for an unknown reason. On examination, her growth parameters were weight 32 kg (<3rd percentile) and head circumference 49 cm(<3rd percentile). She has an ulnar deviation of the hands. She also has hyperreflexia of the extremities and strabismus. MRI showed mild leukodystrophy. Skin biopsy showed inclusion bodies. \n",
      "\n",
      "##\n",
      "\n",
      "  neuroregression | HP_0001311\n",
      " developmentally normal | HP_0004322\n",
      " gradually lost her ability to walk and talk | HP_000ID35\n",
      " loss of her ability to walk and talk | HP_0004711\n",
      " gradually lost her ability to walk | HP_0004712\n",
      " progressively disabled | HP_0004446\n",
      " ulnar deviation of the hands | HP_0004390\n",
      " hyperreflexia | HP_0001177\n",
      " Strabismus | HP_0000478\n",
      " growth parameters | HP_0004380\n",
      " neurodevelopmental disorder | HP_0001263\n",
      " END_NEUROGENOUS | HP_0008886\n",
      " seizures | HP_0001250\n",
      " seizures, but have been under control | HP_0002353\n",
      " END_DEBTHALY | HP_0001425\n",
      " END_DEBTHALY | HP_0001206\n",
      " three affected | HP_0007390\n",
      " END_OF_RADIUS | HP_0008020\n",
      " END_OF_RADIUS | HP_0008022\n",
      " affected children | HP_0007394\n",
      " affected by an unknown cause | HP_0004729\n",
      " END_OF_RADIUS | HP_0008024\n",
      " END_OF_RADIUS | HP_0008021\n",
      " END_OF_RADIUS | HP_0008020\n",
      " END_OF_RADIUS | HP_0008028\n",
      " END_OF_RADIUS | HP_0008026\n",
      " END_OF_RADIUS | HP_0008022\n",
      " END_OF_RADIUS | HP_0008023\n",
      " END_OF_RADIUS | HP_0008024\n",
      " END_OF_RADIUS | HP_0008025\n",
      " END_OF_RADIUS | HP_0008027\n",
      " END_OF_RADIUS | HP_0008028\n",
      " END_OF_RADIUS | HP_0004381\n",
      " END_OF_R\n",
      "------20------\n",
      "An 8 years old boy who was born via an induced vaginal delivery to G3P0 A2 23 years old mother. Neonatal history was uneventful, and they were discharged on the third day. His motor development has been appropriate for age, but his language has always been delayed. He was 2 years old when his parents started to feel his gait was unstable, and they were concerned about his language delay. His IQ was estimated to be 70. He has a 6 years old sister with a similar condition, and there is a family history of intellectual disability. On examination, he has no dysmorphic features, and his growth parameters at 8 years of age were weight 18.7 kg (10th percentile), height 113.5 cm (3rd -5th percentile) and head circumference 51 cm (25th- 50th percentile).\n",
      "\n",
      "##\n",
      "\n",
      "  8 years old | HP_0002512\n",
      " intellectual disability | HP_0001249\n",
      " unstable gait | HP_0002260\n",
      " growth retardation | HP_0001252\n",
      " motor development | HP_0002218\n",
      " language delay | HP_0002121\n",
      " family history | HP_0000005\n",
      " ENDORET | HP_0100038\n",
      " ENDORET | HP_0100019\n",
      " ENDORET | HP_01000167\n",
      " ENDORET | HP_01000126\n",
      " ENDORET | HP_01000118\n",
      " ENDORET | HP_01000104\n",
      " ENDORET | HP_01000113\n",
      " ENDORET | HP_01000111\n",
      " ENDORET | HP_01000101\n",
      " ENDORET | HP_01000064\n",
      " ENDORET | HP_01000059\n",
      " ENDORET | HP_01000048\n",
      " ENDORET | HP_01000040\n",
      " ENDORET | HP_01000017\n",
      " ENDORET | HP_01000015\n",
      " ENDORET | HP_01000014\n",
      " ENDORET | HP_01000012\n",
      " ENDORET | HP_01000010\n",
      " ENDORET | HP_0100009\n",
      " ENDORET | HP_0100008\n",
      " ENDORET | HP_0100006\n",
      " ENDORET | HP_0100005\n",
      " ENDORET | HP_0100004\n",
      " ENDORET | HP_0100003\n",
      " ENDORET | HP_0100002\n",
      " ENDORET | HP_01000001\n",
      " ENDORET | HP_0100000\n",
      " ENDORET | HP_01000076\n",
      " ENDORET | HP_01000073\n",
      " ENDORET | HP_01000069\n",
      " ENDORET | HP_01000064\n",
      " ENDORET | HP_01000059\n",
      " ENDORET | HP_01000048\n",
      " ENDORET | HP_01000040\n",
      " ENDORET | HP_01000017\n",
      " ENDORET | HP_01000015\n",
      " ENDOR\n"
     ]
    }
   ],
   "source": [
    "i = 1\n",
    "for prompt, lb in new_list:\n",
    "    prompt = prompt + '\\n\\n##\\n\\n'\n",
    "    print(f'------{i}------')\n",
    "    gpt_val(prompt)\n",
    "    i += 1"
   ]
  },
  {
   "cell_type": "code",
   "execution_count": null,
   "metadata": {},
   "outputs": [],
   "source": []
  }
 ],
 "metadata": {
  "accelerator": "GPU",
  "colab": {
   "gpuType": "T4",
   "machine_shape": "hm",
   "provenance": []
  },
  "kernelspec": {
   "display_name": "GPTJ",
   "language": "python",
   "name": "gptj"
  },
  "language_info": {
   "codemirror_mode": {
    "name": "ipython",
    "version": 3
   },
   "file_extension": ".py",
   "mimetype": "text/x-python",
   "name": "python",
   "nbconvert_exporter": "python",
   "pygments_lexer": "ipython3",
   "version": "3.11.3"
  },
  "widgets": {
   "application/vnd.jupyter.widget-state+json": {
    "1895f798cd0149959536304f95fe6969": {
     "model_module": "@jupyter-widgets/controls",
     "model_module_version": "1.5.0",
     "model_name": "DescriptionStyleModel",
     "state": {
      "_model_module": "@jupyter-widgets/controls",
      "_model_module_version": "1.5.0",
      "_model_name": "DescriptionStyleModel",
      "_view_count": null,
      "_view_module": "@jupyter-widgets/base",
      "_view_module_version": "1.2.0",
      "_view_name": "StyleView",
      "description_width": ""
     }
    },
    "18c6cc9aa7584d48a5f9b1ce358bb851": {
     "model_module": "@jupyter-widgets/controls",
     "model_module_version": "1.5.0",
     "model_name": "ProgressStyleModel",
     "state": {
      "_model_module": "@jupyter-widgets/controls",
      "_model_module_version": "1.5.0",
      "_model_name": "ProgressStyleModel",
      "_view_count": null,
      "_view_module": "@jupyter-widgets/base",
      "_view_module_version": "1.2.0",
      "_view_name": "StyleView",
      "bar_color": null,
      "description_width": ""
     }
    },
    "23bc2d71a9414ed4af0f2a43638bd6b4": {
     "model_module": "@jupyter-widgets/base",
     "model_module_version": "1.2.0",
     "model_name": "LayoutModel",
     "state": {
      "_model_module": "@jupyter-widgets/base",
      "_model_module_version": "1.2.0",
      "_model_name": "LayoutModel",
      "_view_count": null,
      "_view_module": "@jupyter-widgets/base",
      "_view_module_version": "1.2.0",
      "_view_name": "LayoutView",
      "align_content": null,
      "align_items": null,
      "align_self": null,
      "border": null,
      "bottom": null,
      "display": null,
      "flex": null,
      "flex_flow": null,
      "grid_area": null,
      "grid_auto_columns": null,
      "grid_auto_flow": null,
      "grid_auto_rows": null,
      "grid_column": null,
      "grid_gap": null,
      "grid_row": null,
      "grid_template_areas": null,
      "grid_template_columns": null,
      "grid_template_rows": null,
      "height": null,
      "justify_content": null,
      "justify_items": null,
      "left": null,
      "margin": null,
      "max_height": null,
      "max_width": null,
      "min_height": null,
      "min_width": null,
      "object_fit": null,
      "object_position": null,
      "order": null,
      "overflow": null,
      "overflow_x": null,
      "overflow_y": null,
      "padding": null,
      "right": null,
      "top": null,
      "visibility": null,
      "width": null
     }
    },
    "39de2c65252b43f5ae8ae8834f0954e1": {
     "model_module": "@jupyter-widgets/base",
     "model_module_version": "1.2.0",
     "model_name": "LayoutModel",
     "state": {
      "_model_module": "@jupyter-widgets/base",
      "_model_module_version": "1.2.0",
      "_model_name": "LayoutModel",
      "_view_count": null,
      "_view_module": "@jupyter-widgets/base",
      "_view_module_version": "1.2.0",
      "_view_name": "LayoutView",
      "align_content": null,
      "align_items": null,
      "align_self": null,
      "border": null,
      "bottom": null,
      "display": null,
      "flex": null,
      "flex_flow": null,
      "grid_area": null,
      "grid_auto_columns": null,
      "grid_auto_flow": null,
      "grid_auto_rows": null,
      "grid_column": null,
      "grid_gap": null,
      "grid_row": null,
      "grid_template_areas": null,
      "grid_template_columns": null,
      "grid_template_rows": null,
      "height": null,
      "justify_content": null,
      "justify_items": null,
      "left": null,
      "margin": null,
      "max_height": null,
      "max_width": null,
      "min_height": null,
      "min_width": null,
      "object_fit": null,
      "object_position": null,
      "order": null,
      "overflow": null,
      "overflow_x": null,
      "overflow_y": null,
      "padding": null,
      "right": null,
      "top": null,
      "visibility": null,
      "width": null
     }
    },
    "3f0f45fb011d45d38f5da7d636cbc306": {
     "model_module": "@jupyter-widgets/controls",
     "model_module_version": "1.5.0",
     "model_name": "HBoxModel",
     "state": {
      "_dom_classes": [],
      "_model_module": "@jupyter-widgets/controls",
      "_model_module_version": "1.5.0",
      "_model_name": "HBoxModel",
      "_view_count": null,
      "_view_module": "@jupyter-widgets/controls",
      "_view_module_version": "1.5.0",
      "_view_name": "HBoxView",
      "box_style": "",
      "children": [
       "IPY_MODEL_c381b8a110494d2498633946784d5af2",
       "IPY_MODEL_627cee1b4e394aa0b3fcb6229dc6eaf2",
       "IPY_MODEL_6bace256e7bb4500a61e32ddd4479ab6"
      ],
      "layout": "IPY_MODEL_23bc2d71a9414ed4af0f2a43638bd6b4"
     }
    },
    "47aa1d2634f648a2b52459f51ee12257": {
     "model_module": "@jupyter-widgets/controls",
     "model_module_version": "1.5.0",
     "model_name": "FloatProgressModel",
     "state": {
      "_dom_classes": [],
      "_model_module": "@jupyter-widgets/controls",
      "_model_module_version": "1.5.0",
      "_model_name": "FloatProgressModel",
      "_view_count": null,
      "_view_module": "@jupyter-widgets/controls",
      "_view_module_version": "1.5.0",
      "_view_name": "ProgressView",
      "bar_style": "danger",
      "description": "",
      "description_tooltip": null,
      "layout": "IPY_MODEL_a0b4e6f675ed4be6ac0191f3f08ca22c",
      "max": 228,
      "min": 0,
      "orientation": "horizontal",
      "style": "IPY_MODEL_18c6cc9aa7584d48a5f9b1ce358bb851",
      "value": 0
     }
    },
    "551c707ad0c3451e97f589203227728c": {
     "model_module": "@jupyter-widgets/controls",
     "model_module_version": "1.5.0",
     "model_name": "HBoxModel",
     "state": {
      "_dom_classes": [],
      "_model_module": "@jupyter-widgets/controls",
      "_model_module_version": "1.5.0",
      "_model_name": "HBoxModel",
      "_view_count": null,
      "_view_module": "@jupyter-widgets/controls",
      "_view_module_version": "1.5.0",
      "_view_name": "HBoxView",
      "box_style": "",
      "children": [
       "IPY_MODEL_fe79b2e6b670405e96b29fde79fb3d41",
       "IPY_MODEL_47aa1d2634f648a2b52459f51ee12257",
       "IPY_MODEL_632199b36eec467382c6e8486ecc7de8"
      ],
      "layout": "IPY_MODEL_d34f2e8ed1d843ed8f08b4a7103ff582"
     }
    },
    "615efe5a1068415cbab7220e31a4395a": {
     "model_module": "@jupyter-widgets/base",
     "model_module_version": "1.2.0",
     "model_name": "LayoutModel",
     "state": {
      "_model_module": "@jupyter-widgets/base",
      "_model_module_version": "1.2.0",
      "_model_name": "LayoutModel",
      "_view_count": null,
      "_view_module": "@jupyter-widgets/base",
      "_view_module_version": "1.2.0",
      "_view_name": "LayoutView",
      "align_content": null,
      "align_items": null,
      "align_self": null,
      "border": null,
      "bottom": null,
      "display": null,
      "flex": null,
      "flex_flow": null,
      "grid_area": null,
      "grid_auto_columns": null,
      "grid_auto_flow": null,
      "grid_auto_rows": null,
      "grid_column": null,
      "grid_gap": null,
      "grid_row": null,
      "grid_template_areas": null,
      "grid_template_columns": null,
      "grid_template_rows": null,
      "height": null,
      "justify_content": null,
      "justify_items": null,
      "left": null,
      "margin": null,
      "max_height": null,
      "max_width": null,
      "min_height": null,
      "min_width": null,
      "object_fit": null,
      "object_position": null,
      "order": null,
      "overflow": null,
      "overflow_x": null,
      "overflow_y": null,
      "padding": null,
      "right": null,
      "top": null,
      "visibility": null,
      "width": null
     }
    },
    "627cee1b4e394aa0b3fcb6229dc6eaf2": {
     "model_module": "@jupyter-widgets/controls",
     "model_module_version": "1.5.0",
     "model_name": "FloatProgressModel",
     "state": {
      "_dom_classes": [],
      "_model_module": "@jupyter-widgets/controls",
      "_model_module_version": "1.5.0",
      "_model_name": "FloatProgressModel",
      "_view_count": null,
      "_view_module": "@jupyter-widgets/controls",
      "_view_module_version": "1.5.0",
      "_view_name": "ProgressView",
      "bar_style": "danger",
      "description": "",
      "description_tooltip": null,
      "layout": "IPY_MODEL_9964d1b0ad5b4e62adf4e3a9e5c337e2",
      "max": 1,
      "min": 0,
      "orientation": "horizontal",
      "style": "IPY_MODEL_d70562d630a54ac18cbd00e1ddec7c0e",
      "value": 1
     }
    },
    "632199b36eec467382c6e8486ecc7de8": {
     "model_module": "@jupyter-widgets/controls",
     "model_module_version": "1.5.0",
     "model_name": "HTMLModel",
     "state": {
      "_dom_classes": [],
      "_model_module": "@jupyter-widgets/controls",
      "_model_module_version": "1.5.0",
      "_model_name": "HTMLModel",
      "_view_count": null,
      "_view_module": "@jupyter-widgets/controls",
      "_view_module_version": "1.5.0",
      "_view_name": "HTMLView",
      "description": "",
      "description_tooltip": null,
      "layout": "IPY_MODEL_fec55487153a458b953bdf5c586b71a7",
      "placeholder": "​",
      "style": "IPY_MODEL_b5ba1d15b93e440a993fccbf01f86306",
      "value": " 0/228 [00:00&lt;?, ?it/s]"
     }
    },
    "6bace256e7bb4500a61e32ddd4479ab6": {
     "model_module": "@jupyter-widgets/controls",
     "model_module_version": "1.5.0",
     "model_name": "HTMLModel",
     "state": {
      "_dom_classes": [],
      "_model_module": "@jupyter-widgets/controls",
      "_model_module_version": "1.5.0",
      "_model_name": "HTMLModel",
      "_view_count": null,
      "_view_module": "@jupyter-widgets/controls",
      "_view_module_version": "1.5.0",
      "_view_name": "HTMLView",
      "description": "",
      "description_tooltip": null,
      "layout": "IPY_MODEL_615efe5a1068415cbab7220e31a4395a",
      "placeholder": "​",
      "style": "IPY_MODEL_1895f798cd0149959536304f95fe6969",
      "value": " 754/? [14:08&lt;00:00,  1.12s/it]"
     }
    },
    "9964d1b0ad5b4e62adf4e3a9e5c337e2": {
     "model_module": "@jupyter-widgets/base",
     "model_module_version": "1.2.0",
     "model_name": "LayoutModel",
     "state": {
      "_model_module": "@jupyter-widgets/base",
      "_model_module_version": "1.2.0",
      "_model_name": "LayoutModel",
      "_view_count": null,
      "_view_module": "@jupyter-widgets/base",
      "_view_module_version": "1.2.0",
      "_view_name": "LayoutView",
      "align_content": null,
      "align_items": null,
      "align_self": null,
      "border": null,
      "bottom": null,
      "display": null,
      "flex": null,
      "flex_flow": null,
      "grid_area": null,
      "grid_auto_columns": null,
      "grid_auto_flow": null,
      "grid_auto_rows": null,
      "grid_column": null,
      "grid_gap": null,
      "grid_row": null,
      "grid_template_areas": null,
      "grid_template_columns": null,
      "grid_template_rows": null,
      "height": null,
      "justify_content": null,
      "justify_items": null,
      "left": null,
      "margin": null,
      "max_height": null,
      "max_width": null,
      "min_height": null,
      "min_width": null,
      "object_fit": null,
      "object_position": null,
      "order": null,
      "overflow": null,
      "overflow_x": null,
      "overflow_y": null,
      "padding": null,
      "right": null,
      "top": null,
      "visibility": null,
      "width": "20px"
     }
    },
    "a0b4e6f675ed4be6ac0191f3f08ca22c": {
     "model_module": "@jupyter-widgets/base",
     "model_module_version": "1.2.0",
     "model_name": "LayoutModel",
     "state": {
      "_model_module": "@jupyter-widgets/base",
      "_model_module_version": "1.2.0",
      "_model_name": "LayoutModel",
      "_view_count": null,
      "_view_module": "@jupyter-widgets/base",
      "_view_module_version": "1.2.0",
      "_view_name": "LayoutView",
      "align_content": null,
      "align_items": null,
      "align_self": null,
      "border": null,
      "bottom": null,
      "display": null,
      "flex": null,
      "flex_flow": null,
      "grid_area": null,
      "grid_auto_columns": null,
      "grid_auto_flow": null,
      "grid_auto_rows": null,
      "grid_column": null,
      "grid_gap": null,
      "grid_row": null,
      "grid_template_areas": null,
      "grid_template_columns": null,
      "grid_template_rows": null,
      "height": null,
      "justify_content": null,
      "justify_items": null,
      "left": null,
      "margin": null,
      "max_height": null,
      "max_width": null,
      "min_height": null,
      "min_width": null,
      "object_fit": null,
      "object_position": null,
      "order": null,
      "overflow": null,
      "overflow_x": null,
      "overflow_y": null,
      "padding": null,
      "right": null,
      "top": null,
      "visibility": null,
      "width": null
     }
    },
    "b5ba1d15b93e440a993fccbf01f86306": {
     "model_module": "@jupyter-widgets/controls",
     "model_module_version": "1.5.0",
     "model_name": "DescriptionStyleModel",
     "state": {
      "_model_module": "@jupyter-widgets/controls",
      "_model_module_version": "1.5.0",
      "_model_name": "DescriptionStyleModel",
      "_view_count": null,
      "_view_module": "@jupyter-widgets/base",
      "_view_module_version": "1.2.0",
      "_view_name": "StyleView",
      "description_width": ""
     }
    },
    "b818f70f333a4b90a1bc2057ff77d561": {
     "model_module": "@jupyter-widgets/controls",
     "model_module_version": "1.5.0",
     "model_name": "DescriptionStyleModel",
     "state": {
      "_model_module": "@jupyter-widgets/controls",
      "_model_module_version": "1.5.0",
      "_model_name": "DescriptionStyleModel",
      "_view_count": null,
      "_view_module": "@jupyter-widgets/base",
      "_view_module_version": "1.2.0",
      "_view_name": "StyleView",
      "description_width": ""
     }
    },
    "c381b8a110494d2498633946784d5af2": {
     "model_module": "@jupyter-widgets/controls",
     "model_module_version": "1.5.0",
     "model_name": "HTMLModel",
     "state": {
      "_dom_classes": [],
      "_model_module": "@jupyter-widgets/controls",
      "_model_module_version": "1.5.0",
      "_model_name": "HTMLModel",
      "_view_count": null,
      "_view_module": "@jupyter-widgets/controls",
      "_view_module_version": "1.5.0",
      "_view_name": "HTMLView",
      "description": "",
      "description_tooltip": null,
      "layout": "IPY_MODEL_d36eac93a7a949b68a8a9216f951ca1c",
      "placeholder": "​",
      "style": "IPY_MODEL_d0a779eb6a734bf39b5611dc70d21cab",
      "value": ""
     }
    },
    "d0a779eb6a734bf39b5611dc70d21cab": {
     "model_module": "@jupyter-widgets/controls",
     "model_module_version": "1.5.0",
     "model_name": "DescriptionStyleModel",
     "state": {
      "_model_module": "@jupyter-widgets/controls",
      "_model_module_version": "1.5.0",
      "_model_name": "DescriptionStyleModel",
      "_view_count": null,
      "_view_module": "@jupyter-widgets/base",
      "_view_module_version": "1.2.0",
      "_view_name": "StyleView",
      "description_width": ""
     }
    },
    "d34f2e8ed1d843ed8f08b4a7103ff582": {
     "model_module": "@jupyter-widgets/base",
     "model_module_version": "1.2.0",
     "model_name": "LayoutModel",
     "state": {
      "_model_module": "@jupyter-widgets/base",
      "_model_module_version": "1.2.0",
      "_model_name": "LayoutModel",
      "_view_count": null,
      "_view_module": "@jupyter-widgets/base",
      "_view_module_version": "1.2.0",
      "_view_name": "LayoutView",
      "align_content": null,
      "align_items": null,
      "align_self": null,
      "border": null,
      "bottom": null,
      "display": null,
      "flex": null,
      "flex_flow": null,
      "grid_area": null,
      "grid_auto_columns": null,
      "grid_auto_flow": null,
      "grid_auto_rows": null,
      "grid_column": null,
      "grid_gap": null,
      "grid_row": null,
      "grid_template_areas": null,
      "grid_template_columns": null,
      "grid_template_rows": null,
      "height": null,
      "justify_content": null,
      "justify_items": null,
      "left": null,
      "margin": null,
      "max_height": null,
      "max_width": null,
      "min_height": null,
      "min_width": null,
      "object_fit": null,
      "object_position": null,
      "order": null,
      "overflow": null,
      "overflow_x": null,
      "overflow_y": null,
      "padding": null,
      "right": null,
      "top": null,
      "visibility": null,
      "width": null
     }
    },
    "d36eac93a7a949b68a8a9216f951ca1c": {
     "model_module": "@jupyter-widgets/base",
     "model_module_version": "1.2.0",
     "model_name": "LayoutModel",
     "state": {
      "_model_module": "@jupyter-widgets/base",
      "_model_module_version": "1.2.0",
      "_model_name": "LayoutModel",
      "_view_count": null,
      "_view_module": "@jupyter-widgets/base",
      "_view_module_version": "1.2.0",
      "_view_name": "LayoutView",
      "align_content": null,
      "align_items": null,
      "align_self": null,
      "border": null,
      "bottom": null,
      "display": null,
      "flex": null,
      "flex_flow": null,
      "grid_area": null,
      "grid_auto_columns": null,
      "grid_auto_flow": null,
      "grid_auto_rows": null,
      "grid_column": null,
      "grid_gap": null,
      "grid_row": null,
      "grid_template_areas": null,
      "grid_template_columns": null,
      "grid_template_rows": null,
      "height": null,
      "justify_content": null,
      "justify_items": null,
      "left": null,
      "margin": null,
      "max_height": null,
      "max_width": null,
      "min_height": null,
      "min_width": null,
      "object_fit": null,
      "object_position": null,
      "order": null,
      "overflow": null,
      "overflow_x": null,
      "overflow_y": null,
      "padding": null,
      "right": null,
      "top": null,
      "visibility": null,
      "width": null
     }
    },
    "d70562d630a54ac18cbd00e1ddec7c0e": {
     "model_module": "@jupyter-widgets/controls",
     "model_module_version": "1.5.0",
     "model_name": "ProgressStyleModel",
     "state": {
      "_model_module": "@jupyter-widgets/controls",
      "_model_module_version": "1.5.0",
      "_model_name": "ProgressStyleModel",
      "_view_count": null,
      "_view_module": "@jupyter-widgets/base",
      "_view_module_version": "1.2.0",
      "_view_name": "StyleView",
      "bar_color": null,
      "description_width": ""
     }
    },
    "fe79b2e6b670405e96b29fde79fb3d41": {
     "model_module": "@jupyter-widgets/controls",
     "model_module_version": "1.5.0",
     "model_name": "HTMLModel",
     "state": {
      "_dom_classes": [],
      "_model_module": "@jupyter-widgets/controls",
      "_model_module_version": "1.5.0",
      "_model_name": "HTMLModel",
      "_view_count": null,
      "_view_module": "@jupyter-widgets/controls",
      "_view_module_version": "1.5.0",
      "_view_name": "HTMLView",
      "description": "",
      "description_tooltip": null,
      "layout": "IPY_MODEL_39de2c65252b43f5ae8ae8834f0954e1",
      "placeholder": "​",
      "style": "IPY_MODEL_b818f70f333a4b90a1bc2057ff77d561",
      "value": "  0%"
     }
    },
    "fec55487153a458b953bdf5c586b71a7": {
     "model_module": "@jupyter-widgets/base",
     "model_module_version": "1.2.0",
     "model_name": "LayoutModel",
     "state": {
      "_model_module": "@jupyter-widgets/base",
      "_model_module_version": "1.2.0",
      "_model_name": "LayoutModel",
      "_view_count": null,
      "_view_module": "@jupyter-widgets/base",
      "_view_module_version": "1.2.0",
      "_view_name": "LayoutView",
      "align_content": null,
      "align_items": null,
      "align_self": null,
      "border": null,
      "bottom": null,
      "display": null,
      "flex": null,
      "flex_flow": null,
      "grid_area": null,
      "grid_auto_columns": null,
      "grid_auto_flow": null,
      "grid_auto_rows": null,
      "grid_column": null,
      "grid_gap": null,
      "grid_row": null,
      "grid_template_areas": null,
      "grid_template_columns": null,
      "grid_template_rows": null,
      "height": null,
      "justify_content": null,
      "justify_items": null,
      "left": null,
      "margin": null,
      "max_height": null,
      "max_width": null,
      "min_height": null,
      "min_width": null,
      "object_fit": null,
      "object_position": null,
      "order": null,
      "overflow": null,
      "overflow_x": null,
      "overflow_y": null,
      "padding": null,
      "right": null,
      "top": null,
      "visibility": null,
      "width": null
     }
    }
   }
  }
 },
 "nbformat": 4,
 "nbformat_minor": 1
}
