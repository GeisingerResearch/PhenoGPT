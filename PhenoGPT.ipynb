{
  "nbformat": 4,
  "nbformat_minor": 0,
  "metadata": {
    "colab": {
      "provenance": [],
      "machine_shape": "hm",
      "toc_visible": true
    },
    "kernelspec": {
      "name": "python3",
      "display_name": "Python 3"
    },
    "language_info": {
      "name": "python"
    },
    "accelerator": "GPU",
    "gpuClass": "standard"
  },
  "cells": [
    {
      "cell_type": "markdown",
      "source": [
        "# Prompt-based learning with OpenAI's GPT model"
      ],
      "metadata": {
        "id": "Ta2GQLPaJ23m"
      }
    },
    {
      "cell_type": "markdown",
      "source": [
        "In this tutorial, we will present how to utilize one of the most advanced Large language model in the world, GPT-3.5, to assist you in detecting phenotypic abnormalties in clinical notes."
      ],
      "metadata": {
        "id": "K8paEh4eKBBx"
      }
    },
    {
      "cell_type": "markdown",
      "source": [
        "## Install Packages\n",
        "\n",
        "First, we need to install OpenAI library to our Colab session."
      ],
      "metadata": {
        "id": "305gUd8TKZgw"
      }
    },
    {
      "cell_type": "code",
      "execution_count": null,
      "metadata": {
        "colab": {
          "base_uri": "https://localhost:8080/"
        },
        "id": "Z9e_Qg9RYdo7",
        "outputId": "a87f8d23-6220-4c3a-b9b0-684ff3e9e350"
      },
      "outputs": [
        {
          "output_type": "stream",
          "name": "stdout",
          "text": [
            "Looking in indexes: https://pypi.org/simple, https://us-python.pkg.dev/colab-wheels/public/simple/\n",
            "Collecting openai\n",
            "  Downloading openai-0.27.6-py3-none-any.whl (71 kB)\n",
            "\u001b[2K     \u001b[90m━━━━━━━━━━━━━━━━━━━━━━━━━━━━━━━━━━━━━━━━\u001b[0m \u001b[32m71.9/71.9 kB\u001b[0m \u001b[31m2.2 MB/s\u001b[0m eta \u001b[36m0:00:00\u001b[0m\n",
            "\u001b[?25hRequirement already satisfied: requests>=2.20 in /usr/local/lib/python3.10/dist-packages (from openai) (2.27.1)\n",
            "Requirement already satisfied: tqdm in /usr/local/lib/python3.10/dist-packages (from openai) (4.65.0)\n",
            "Collecting aiohttp\n",
            "  Downloading aiohttp-3.8.4-cp310-cp310-manylinux_2_17_x86_64.manylinux2014_x86_64.whl (1.0 MB)\n",
            "\u001b[2K     \u001b[90m━━━━━━━━━━━━━━━━━━━━━━━━━━━━━━━━━━━━━━━━\u001b[0m \u001b[32m1.0/1.0 MB\u001b[0m \u001b[31m35.5 MB/s\u001b[0m eta \u001b[36m0:00:00\u001b[0m\n",
            "\u001b[?25hRequirement already satisfied: certifi>=2017.4.17 in /usr/local/lib/python3.10/dist-packages (from requests>=2.20->openai) (2022.12.7)\n",
            "Requirement already satisfied: urllib3<1.27,>=1.21.1 in /usr/local/lib/python3.10/dist-packages (from requests>=2.20->openai) (1.26.15)\n",
            "Requirement already satisfied: charset-normalizer~=2.0.0 in /usr/local/lib/python3.10/dist-packages (from requests>=2.20->openai) (2.0.12)\n",
            "Requirement already satisfied: idna<4,>=2.5 in /usr/local/lib/python3.10/dist-packages (from requests>=2.20->openai) (3.4)\n",
            "Collecting multidict<7.0,>=4.5\n",
            "  Downloading multidict-6.0.4-cp310-cp310-manylinux_2_17_x86_64.manylinux2014_x86_64.whl (114 kB)\n",
            "\u001b[2K     \u001b[90m━━━━━━━━━━━━━━━━━━━━━━━━━━━━━━━━━━━━━━━\u001b[0m \u001b[32m114.5/114.5 kB\u001b[0m \u001b[31m4.1 MB/s\u001b[0m eta \u001b[36m0:00:00\u001b[0m\n",
            "\u001b[?25hCollecting frozenlist>=1.1.1\n",
            "  Downloading frozenlist-1.3.3-cp310-cp310-manylinux_2_5_x86_64.manylinux1_x86_64.manylinux_2_17_x86_64.manylinux2014_x86_64.whl (149 kB)\n",
            "\u001b[2K     \u001b[90m━━━━━━━━━━━━━━━━━━━━━━━━━━━━━━━━━━━━━\u001b[0m \u001b[32m149.6/149.6 kB\u001b[0m \u001b[31m995.5 kB/s\u001b[0m eta \u001b[36m0:00:00\u001b[0m\n",
            "\u001b[?25hCollecting async-timeout<5.0,>=4.0.0a3\n",
            "  Downloading async_timeout-4.0.2-py3-none-any.whl (5.8 kB)\n",
            "Collecting yarl<2.0,>=1.0\n",
            "  Downloading yarl-1.9.2-cp310-cp310-manylinux_2_17_x86_64.manylinux2014_x86_64.whl (268 kB)\n",
            "\u001b[2K     \u001b[90m━━━━━━━━━━━━━━━━━━━━━━━━━━━━━━━━━━━━━━\u001b[0m \u001b[32m268.8/268.8 kB\u001b[0m \u001b[31m11.4 MB/s\u001b[0m eta \u001b[36m0:00:00\u001b[0m\n",
            "\u001b[?25hRequirement already satisfied: attrs>=17.3.0 in /usr/local/lib/python3.10/dist-packages (from aiohttp->openai) (23.1.0)\n",
            "Collecting aiosignal>=1.1.2\n",
            "  Downloading aiosignal-1.3.1-py3-none-any.whl (7.6 kB)\n",
            "Installing collected packages: multidict, frozenlist, async-timeout, yarl, aiosignal, aiohttp, openai\n",
            "Successfully installed aiohttp-3.8.4 aiosignal-1.3.1 async-timeout-4.0.2 frozenlist-1.3.3 multidict-6.0.4 openai-0.27.6 yarl-1.9.2\n"
          ]
        }
      ],
      "source": [
        "!pip install openai"
      ]
    },
    {
      "cell_type": "markdown",
      "source": [
        "## Register your OpenAI API tokens"
      ],
      "metadata": {
        "id": "YLIpaPb_NeXx"
      }
    },
    {
      "cell_type": "markdown",
      "source": [
        "Next, you need to provide your own OpenAI API token for using their cloud computing, like training an LLM or using their pretrained model for inference.\n",
        "\n",
        "We will do the later here. You can follow the instruction on their [OpenAI user page](https://platform.openai.com/account/api-keys) to get an API token. (Register first)\n",
        "\n",
        "Once you have this, please continue the tutorial."
      ],
      "metadata": {
        "id": "f8KIGG8k4LN8"
      }
    },
    {
      "cell_type": "code",
      "source": [
        "import openai\n",
        "# Load your API token \n",
        "openai.api_key = <your-api-token>"
      ],
      "metadata": {
        "id": "YmrReHbGaQZj"
      },
      "execution_count": null,
      "outputs": []
    },
    {
      "cell_type": "markdown",
      "source": [
        "To check what models are available right now, you can use the following code. "
      ],
      "metadata": {
        "id": "4iCIfxwe4MB9"
      }
    },
    {
      "cell_type": "code",
      "source": [
        "for candidate in openai.Model.list()['data']:\n",
        "    print(candidate['id'])\n",
        "   \n",
        "\n",
        "# print(openai.Model.list())"
      ],
      "metadata": {
        "colab": {
          "base_uri": "https://localhost:8080/"
        },
        "id": "iziG5wM4MfWk",
        "outputId": "26ebb172-c468-4db4-879e-da9d8b40f142"
      },
      "execution_count": null,
      "outputs": [
        {
          "output_type": "stream",
          "name": "stdout",
          "text": [
            "babbage\n",
            "davinci\n",
            "text-davinci-edit-001\n",
            "babbage-code-search-code\n",
            "text-similarity-babbage-001\n",
            "code-davinci-edit-001\n",
            "text-davinci-001\n",
            "ada\n",
            "babbage-code-search-text\n",
            "babbage-similarity\n",
            "code-search-babbage-text-001\n",
            "text-curie-001\n",
            "code-search-babbage-code-001\n",
            "text-ada-001\n",
            "text-embedding-ada-002\n",
            "text-similarity-ada-001\n",
            "gpt-3.5-turbo\n",
            "curie-instruct-beta\n",
            "ada-code-search-code\n",
            "gpt-3.5-turbo-0301\n",
            "ada-similarity\n",
            "code-search-ada-text-001\n",
            "text-search-ada-query-001\n",
            "davinci-search-document\n",
            "ada-code-search-text\n",
            "text-search-ada-doc-001\n",
            "davinci-instruct-beta\n",
            "text-similarity-curie-001\n",
            "code-search-ada-code-001\n",
            "ada-search-query\n",
            "text-search-davinci-query-001\n",
            "curie-search-query\n",
            "davinci-search-query\n",
            "babbage-search-document\n",
            "ada-search-document\n",
            "text-search-curie-query-001\n",
            "whisper-1\n",
            "text-search-babbage-doc-001\n",
            "curie-search-document\n",
            "text-davinci-003\n",
            "text-search-curie-doc-001\n",
            "babbage-search-query\n",
            "text-babbage-001\n",
            "text-search-davinci-doc-001\n",
            "text-search-babbage-query-001\n",
            "curie-similarity\n",
            "curie\n",
            "text-similarity-davinci-001\n",
            "text-davinci-002\n",
            "davinci-similarity\n",
            "cushman:2020-05-03\n",
            "ada:2020-05-03\n",
            "babbage:2020-05-03\n",
            "curie:2020-05-03\n",
            "davinci:2020-05-03\n",
            "if-davinci-v2\n",
            "if-curie-v2\n",
            "if-davinci:3.0.0\n",
            "davinci-if:3.0.0\n",
            "davinci-instruct-beta:2.0.0\n",
            "text-ada:001\n",
            "text-davinci:001\n",
            "text-curie:001\n",
            "text-babbage:001\n",
            "davinci:ft-personal:cont-2023-03-20-03-17-56\n",
            "davinci:ft-personal:phenogpt-2023-03-19-20-21-53\n",
            "davinci:ft-personal:few-shot-ft-2023-03-20-04-23-25\n",
            "davinci:ft-personal:few-shot-ft-2023-03-20-04-38-25\n",
            "davinci:ft-personal:phenogpt-2023-03-19-20-45-22\n",
            "davinci:ft-personal:few-shot-ft-2023-03-21-06-24-09\n"
          ]
        }
      ]
    },
    {
      "cell_type": "markdown",
      "source": [
        "Please visit this [page](https://platform.openai.com/docs/models/model-endpoint-compatibility) for details. \n",
        "\n",
        "Until now, we can use the most advanced GPT-3.5 model for chat completion (not for fine-tuning). Let's do this."
      ],
      "metadata": {
        "id": "85ZiiCftNY5u"
      }
    },
    {
      "cell_type": "markdown",
      "source": [
        "## Prompt-based learning"
      ],
      "metadata": {
        "id": "FwnJEmMXNtIx"
      }
    },
    {
      "cell_type": "markdown",
      "source": [
        "First, we need to prepare some learning and testing data. Since we want the model to detect phenotypic abnormalties, we need to have few clinical notes and corresponding phenotypic information in advance."
      ],
      "metadata": {
        "id": "Q8XSJ-qPOtZt"
      }
    },
    {
      "cell_type": "markdown",
      "source": [
        "Let's look at the following example:\n",
        "\n",
        "**Clinical note 1**:\n",
        "\n",
        "\"\n",
        "*Thirty six children with typical features of Angelman's syndrome, including global developmental delay, ataxia, episodes of paroxysmal laughter, seizures, and microcephaly were studied. The series included three sibships of three affected sisters, two affected brothers, and two affected sisters, respectively. The facial appearance is characterised by a prominent jaw, a wide mouth, and a pointed chin. Tongue thrusting is common. The movement disorder consists of a wide based, ataxic gait with frequent jerky limb movements and flapping of the hands.*\n",
        "\"\n",
        "\n",
        "\n",
        "**Clinical note 2**:\n",
        "\n",
        "\"*We describe the clinical findings of 15 individuals in a large kindred affected with distal arthrogryposis type 1A (DA1A). The most consistent findings among individuals were overlapping fingers at birth, abnormal digital flexion creases, and foot deformities, including talipes equinovarus and vertical talus. There was marked intrafamilial variation in the expression of DA1A. Linkage mapping of the locus for DA1A suggests that the use of strict diagnostic criteria excludes unaffected individuals rigorously, but can produce incomplete ascertainment of affected individuals. In the context of an affected family, the range of phenotypes consistent with a diagnosis of DA1A needs to be expanded.*\""
      ],
      "metadata": {
        "id": "Nq0fUGRzPFlG"
      }
    },
    {
      "cell_type": "markdown",
      "source": [
        "### Zero-shot learning"
      ],
      "metadata": {
        "id": "F-m2Vxa0RLkI"
      }
    },
    {
      "cell_type": "markdown",
      "source": [
        "If we didn't let model learn what we expect, i.e. zero-shot learning, we can simply run the following code. Let's use clinical note 1 for example."
      ],
      "metadata": {
        "id": "7h4phJfRPaTa"
      }
    },
    {
      "cell_type": "code",
      "source": [
        "completion = openai.ChatCompletion.create(\n",
        "  model=\"gpt-3.5-turbo\", \n",
        "  messages=[\n",
        "        {\"role\": \"system\", \"content\": \"You are a helpful assistant.\"},\n",
        "        {\"role\": \"user\", \"content\": \"please identify human phenotype ontology for me\"},\n",
        "        {\"role\": \"user\", \"content\": \"Thirty six children with typical features of Angelman's syndrome, including global developmental delay, ataxia, episodes of paroxysmal laughter, seizures, and microcephaly were studied. The series included three sibships of three affected sisters, two affected brothers, and two affected sisters, respectively. The facial appearance is characterised by a prominent jaw, a wide mouth, and a pointed chin. Tongue thrusting is common. The movement disorder consists of a wide based, ataxic gait with frequent jerky limb movements and flapping of the hands.\"},\n",
        "        ]\n",
        ")"
      ],
      "metadata": {
        "id": "02BuL948P-xC"
      },
      "execution_count": null,
      "outputs": []
    },
    {
      "cell_type": "code",
      "source": [
        "print(completion['choices'][0]['message']['content'])"
      ],
      "metadata": {
        "colab": {
          "base_uri": "https://localhost:8080/"
        },
        "id": "MHTwYhhrQIq1",
        "outputId": "4c975fa8-4420-423a-dcf6-80d40abad642"
      },
      "execution_count": null,
      "outputs": [
        {
          "output_type": "stream",
          "name": "stdout",
          "text": [
            "The human phenotype ontology (HPO) terms that could be related to the description of the phenotypic features observed in this case report include: \n",
            "\n",
            "- HP:0001249 Global developmental delay\n",
            "- HP:0002078 Microcephaly\n",
            "- HP:0000750 Ataxia\n",
            "- HP:0002141 Paroxysmal bursts of laughter\n",
            "- HP:0001250 Seizures\n",
            "- HP:0000202 Prominent jaw\n",
            "- HP:0000154 Wide mouth\n",
            "- HP:0000307 Pointed chin\n",
            "- HP:0000180 Tongue protrusion\n",
            "- HP:0001288 Gait ataxia\n",
            "- HP:0003487 Limb tremor\n",
            "- HP:0001252 Flapping tremor of hands \n",
            "\n",
            "It's important to note that this is not an exhaustive list and other HPO terms may also be relevant based on the specific clinical findings of each patient.\n"
          ]
        }
      ]
    },
    {
      "cell_type": "markdown",
      "source": [
        "Here, we first act as a *system* to give the *assistant* an identity and an order:\n",
        "\n",
        "\"*You are a helpful assistant.*\"\n",
        "\n",
        "\"*Please identify human phenotype ontology for me*\"\n",
        "\n",
        "Next, you as a *user*, should provide a copy of clinical note as above. Then, here we go!"
      ],
      "metadata": {
        "id": "tNTKZsBQQXA2"
      }
    },
    {
      "cell_type": "markdown",
      "source": [
        "### One-shot learning\n",
        "\n",
        "If we want the \"assistant\" to better align with our thoughts (contents, patterns, etc.), We can also perform one-shot learning by providing the expected outcomes. All we need to do is to provide at least one example (clinical note) with labeling information.\n",
        "\n",
        "In our case, we should tell the assistant what we expect to see. Let's take the first clinical note as an example.\n",
        "\n",
        "If the correct output of all phenotypic abnormalties is:\n",
        "\n",
        "\n",
        "\"I have found HPO terms:<br>\n",
        "overlapping fingers | HP_0001177<br>\n",
        "abnormal digital flexion creases | HP_0006143<br>\n",
        "foot deformities | HP_0001760<br>\n",
        "talipes equinovarus | HP_0001762<br>\n",
        "vertical talus | HP_0001858<br>\n",
        "intrafamilial variation | HP_0003828<br>\n",
        "ascertainment bias | HP_0045088<br> \"\n",
        "\n",
        "\n",
        "We can provide this information along with clinical note, so that model can understand what is expected. Then immediately following this output, we give a second clinical note for prediction."
      ],
      "metadata": {
        "id": "T0_Vqio5RQ6l"
      }
    },
    {
      "cell_type": "code",
      "source": [
        "new_completion = openai.ChatCompletion.create(\n",
        "  model=\"gpt-3.5-turbo\", \n",
        "  messages=[\n",
        "        {\"role\": \"system\", \"content\": \"You are a helpful assistant.\"},\n",
        "        {\"role\": \"user\", \"content\": \"please identify human phenotype ontology for me\"},\n",
        "        {\"role\": \"user\", \"content\": \"Thirty six children with typical features of Angelman's syndrome, including global developmental delay, ataxia, episodes of paroxysmal laughter, seizures, and microcephaly were studied. The series included three sibships of three affected sisters, two affected brothers, and two affected sisters, respectively. The facial appearance is characterised by a prominent jaw, a wide mouth, and a pointed chin. Tongue thrusting is common. The movement disorder consists of a wide based, ataxic gait with frequent jerky limb movements and flapping of the hands.\"},\n",
        "        {\"role\": \"assistant\", \"content\": \"I have found HPO terms:\\nglobal developmental delay | HP_0001263\\nataxia | HP_0001251\\nepisodes of paroxysmal laughter | HP_0000749\\nlaughter | HP_0000748\\nseizures | HP_0001250\\nmicrocephaly | HP_0000252\\nprominent jaw | HP_0002051\\nwide mouth | HP_0000154\\npointed chin | HP_0000307\\nTongue thrusting | HP_0000182\\nmovement disorder | HP_0100022\\nwide based, ataxic gait | HP_0002136\\nataxic gait | HP_0002066\\njerky limb movements | HP_0002276\\nflapping of the hands | HP_0100023\"},\n",
        "        {\"role\": \"user\", \"content\": \"We describe the clinical findings of 15 individuals in a large kindred affected with distal arthrogryposis type 1A (DA1A). The most consistent findings among individuals were overlapping fingers at birth, abnormal digital flexion creases, and foot deformities, including talipes equinovarus and vertical talus. There was marked intrafamilial variation in the expression of DA1A. Linkage mapping of the locus for DA1A suggests that the use of strict diagnostic criteria excludes unaffected individuals rigorously, but can produce incomplete ascertainment of affected individuals. In the context of an affected family, the range of phenotypes consistent with a diagnosis of DA1A needs to be expanded.\"}\n",
        "    ]\n",
        ")\n"
      ],
      "metadata": {
        "id": "eQHm7wPZapfg"
      },
      "execution_count": null,
      "outputs": []
    },
    {
      "cell_type": "code",
      "source": [
        "print(new_completion['choices'][0]['message']['content'])"
      ],
      "metadata": {
        "colab": {
          "base_uri": "https://localhost:8080/"
        },
        "id": "kwl3PQvXzE9x",
        "outputId": "ecfffe3d-909c-473f-e465-e4df97532afd"
      },
      "execution_count": null,
      "outputs": [
        {
          "output_type": "stream",
          "name": "stdout",
          "text": [
            "I have found HPO terms:\n",
            "overlapping fingers | HP_0001177\n",
            "abnormal digital flexion creases | HP_0006143\n",
            "talipes equinovarus | HP_0001762\n",
            "vertical talus | HP_0001845\n",
            "marked intrafamilial variation | HP_0003827\n"
          ]
        }
      ]
    },
    {
      "cell_type": "markdown",
      "source": [
        "# Fine-tuning with OpenAI API"
      ],
      "metadata": {
        "id": "FXRLw7yIThU_"
      }
    },
    {
      "cell_type": "markdown",
      "source": [
        "Sure, some of you may not be satisfied by borrowing their pretrained general language model on this specific task. It feels a bit weird. So you may want to fine-tune a little bit to boost the result.\n",
        "\n",
        "This is feasible with OpenAI's finetuning script."
      ],
      "metadata": {
        "id": "5mr4eMrkTlpD"
      }
    },
    {
      "cell_type": "markdown",
      "source": [
        "## Prepare finetuning dataset\n",
        "\n",
        "We should be **very careful** with what data you may want to use.\n",
        "\n",
        "\n",
        "\n",
        "1.   Bad or low quality dataset will compromise the model and even destroy the orginal capacibility of language modeling;\n",
        "2.   Sensitive dataset need to be examed before uploading to third-party platform.\n",
        "\n"
      ],
      "metadata": {
        "id": "7dCM7GU9UC9l"
      }
    },
    {
      "cell_type": "markdown",
      "source": [
        "Considering these issues, we will use the BiolarkGSC+ public dataset, which contains around 200 clinical texts and their corresponding phenotypic information.\n",
        "\n",
        "You can download via this [webpage](https://data.mendeley.com/datasets/v4t59p8w4z/2). Download the file called \"biolarkgsc_locs.csv\" or you can run the following cell."
      ],
      "metadata": {
        "id": "Yjgc6iM_UvVL"
      }
    },
    {
      "cell_type": "code",
      "source": [
        "!wget https://data.mendeley.com/public-files/datasets/v4t59p8w4z/files/6c424d2f-3178-441e-bbb6-f533ab2f7350/file_downloaded\n"
      ],
      "metadata": {
        "colab": {
          "base_uri": "https://localhost:8080/"
        },
        "id": "i0jW6EaqUKhQ",
        "outputId": "cfce699c-c1b7-4460-fb7f-267dc25787e0"
      },
      "execution_count": null,
      "outputs": [
        {
          "output_type": "stream",
          "name": "stdout",
          "text": [
            "--2023-05-06 16:21:51--  https://data.mendeley.com/public-files/datasets/v4t59p8w4z/files/6c424d2f-3178-441e-bbb6-f533ab2f7350/file_downloaded\n",
            "Resolving data.mendeley.com (data.mendeley.com)... 162.159.133.86, 162.159.130.86\n",
            "Connecting to data.mendeley.com (data.mendeley.com)|162.159.133.86|:443... connected.\n",
            "HTTP request sent, awaiting response... 302 Found\n",
            "Location: https://prod-dcd-datasets-public-files-eu-west-1.s3.eu-west-1.amazonaws.com/e86ecbae-ca83-4736-9bf5-6e597a856185 [following]\n",
            "--2023-05-06 16:21:52--  https://prod-dcd-datasets-public-files-eu-west-1.s3.eu-west-1.amazonaws.com/e86ecbae-ca83-4736-9bf5-6e597a856185\n",
            "Resolving prod-dcd-datasets-public-files-eu-west-1.s3.eu-west-1.amazonaws.com (prod-dcd-datasets-public-files-eu-west-1.s3.eu-west-1.amazonaws.com)... 52.92.33.42, 52.218.118.82, 52.218.116.42, ...\n",
            "Connecting to prod-dcd-datasets-public-files-eu-west-1.s3.eu-west-1.amazonaws.com (prod-dcd-datasets-public-files-eu-west-1.s3.eu-west-1.amazonaws.com)|52.92.33.42|:443... connected.\n",
            "HTTP request sent, awaiting response... 200 OK\n",
            "Length: 282645 (276K) [application/vnd.ms-excel]\n",
            "Saving to: ‘file_downloaded’\n",
            "\n",
            "file_downloaded     100%[===================>] 276.02K   260KB/s    in 1.1s    \n",
            "\n",
            "2023-05-06 16:21:55 (260 KB/s) - ‘file_downloaded’ saved [282645/282645]\n",
            "\n"
          ]
        }
      ]
    },
    {
      "cell_type": "code",
      "source": [
        "import os\n",
        "\n",
        "old_name = r\"file_downloaded\"\n",
        "new_name = r\"biolarkgsc_locs\"\n",
        "os.rename(old_name, new_name)"
      ],
      "metadata": {
        "id": "0q111hdxV2gY"
      },
      "execution_count": null,
      "outputs": []
    },
    {
      "cell_type": "markdown",
      "source": [
        "Let's exam the dataset a bit"
      ],
      "metadata": {
        "id": "3Aue1XHuWWAy"
      }
    },
    {
      "cell_type": "code",
      "source": [
        "import pandas as pd\n",
        "\n",
        "df = pd.read_csv('./biolarkgsc_locs', delimiter='\\t')\n",
        "df.head()"
      ],
      "metadata": {
        "id": "AqugoH9LMqBj",
        "colab": {
          "base_uri": "https://localhost:8080/",
          "height": 206
        },
        "outputId": "d240f4e4-01e5-4b6b-f17d-0028faae480f"
      },
      "execution_count": null,
      "outputs": [
        {
          "output_type": "execute_result",
          "data": {
            "text/plain": [
              "         id                                               text  \\\n",
              "0   1003450  A syndrome of brachydactyly (absence of some m...   \n",
              "1  10051003  Townes-Brocks syndrome (TBS) is an autosomal d...   \n",
              "2  10066029  Nevoid basal cell carcinoma syndrome (NBCCS) i...   \n",
              "3  10196695  Angelman syndrome (AS) is a neurodevelopmental...   \n",
              "4  10417280  Prader-Willi syndrome (PWS) and Angelman syndr...   \n",
              "\n",
              "                                              labels  \n",
              "0  HP_0001156|14:27;HP_0009881|29:71;HP_0001798|7...  \n",
              "1  HP_0000006|35:62;HP_0000006|35:53;HP_0000006|4...  \n",
              "2  HP_0002671|7:27;HP_0000006|89:107;HP_0000006|8...  \n",
              "3                HP_0000707|28:55;HP_0001466|839:863  \n",
              "4                HP_0000708|68:93;HP_0003745|223:230  "
            ],
            "text/html": [
              "\n",
              "  <div id=\"df-06c24813-dca2-4d19-8606-bc377aaf6a92\">\n",
              "    <div class=\"colab-df-container\">\n",
              "      <div>\n",
              "<style scoped>\n",
              "    .dataframe tbody tr th:only-of-type {\n",
              "        vertical-align: middle;\n",
              "    }\n",
              "\n",
              "    .dataframe tbody tr th {\n",
              "        vertical-align: top;\n",
              "    }\n",
              "\n",
              "    .dataframe thead th {\n",
              "        text-align: right;\n",
              "    }\n",
              "</style>\n",
              "<table border=\"1\" class=\"dataframe\">\n",
              "  <thead>\n",
              "    <tr style=\"text-align: right;\">\n",
              "      <th></th>\n",
              "      <th>id</th>\n",
              "      <th>text</th>\n",
              "      <th>labels</th>\n",
              "    </tr>\n",
              "  </thead>\n",
              "  <tbody>\n",
              "    <tr>\n",
              "      <th>0</th>\n",
              "      <td>1003450</td>\n",
              "      <td>A syndrome of brachydactyly (absence of some m...</td>\n",
              "      <td>HP_0001156|14:27;HP_0009881|29:71;HP_0001798|7...</td>\n",
              "    </tr>\n",
              "    <tr>\n",
              "      <th>1</th>\n",
              "      <td>10051003</td>\n",
              "      <td>Townes-Brocks syndrome (TBS) is an autosomal d...</td>\n",
              "      <td>HP_0000006|35:62;HP_0000006|35:53;HP_0000006|4...</td>\n",
              "    </tr>\n",
              "    <tr>\n",
              "      <th>2</th>\n",
              "      <td>10066029</td>\n",
              "      <td>Nevoid basal cell carcinoma syndrome (NBCCS) i...</td>\n",
              "      <td>HP_0002671|7:27;HP_0000006|89:107;HP_0000006|8...</td>\n",
              "    </tr>\n",
              "    <tr>\n",
              "      <th>3</th>\n",
              "      <td>10196695</td>\n",
              "      <td>Angelman syndrome (AS) is a neurodevelopmental...</td>\n",
              "      <td>HP_0000707|28:55;HP_0001466|839:863</td>\n",
              "    </tr>\n",
              "    <tr>\n",
              "      <th>4</th>\n",
              "      <td>10417280</td>\n",
              "      <td>Prader-Willi syndrome (PWS) and Angelman syndr...</td>\n",
              "      <td>HP_0000708|68:93;HP_0003745|223:230</td>\n",
              "    </tr>\n",
              "  </tbody>\n",
              "</table>\n",
              "</div>\n",
              "      <button class=\"colab-df-convert\" onclick=\"convertToInteractive('df-06c24813-dca2-4d19-8606-bc377aaf6a92')\"\n",
              "              title=\"Convert this dataframe to an interactive table.\"\n",
              "              style=\"display:none;\">\n",
              "        \n",
              "  <svg xmlns=\"http://www.w3.org/2000/svg\" height=\"24px\"viewBox=\"0 0 24 24\"\n",
              "       width=\"24px\">\n",
              "    <path d=\"M0 0h24v24H0V0z\" fill=\"none\"/>\n",
              "    <path d=\"M18.56 5.44l.94 2.06.94-2.06 2.06-.94-2.06-.94-.94-2.06-.94 2.06-2.06.94zm-11 1L8.5 8.5l.94-2.06 2.06-.94-2.06-.94L8.5 2.5l-.94 2.06-2.06.94zm10 10l.94 2.06.94-2.06 2.06-.94-2.06-.94-.94-2.06-.94 2.06-2.06.94z\"/><path d=\"M17.41 7.96l-1.37-1.37c-.4-.4-.92-.59-1.43-.59-.52 0-1.04.2-1.43.59L10.3 9.45l-7.72 7.72c-.78.78-.78 2.05 0 2.83L4 21.41c.39.39.9.59 1.41.59.51 0 1.02-.2 1.41-.59l7.78-7.78 2.81-2.81c.8-.78.8-2.07 0-2.86zM5.41 20L4 18.59l7.72-7.72 1.47 1.35L5.41 20z\"/>\n",
              "  </svg>\n",
              "      </button>\n",
              "      \n",
              "  <style>\n",
              "    .colab-df-container {\n",
              "      display:flex;\n",
              "      flex-wrap:wrap;\n",
              "      gap: 12px;\n",
              "    }\n",
              "\n",
              "    .colab-df-convert {\n",
              "      background-color: #E8F0FE;\n",
              "      border: none;\n",
              "      border-radius: 50%;\n",
              "      cursor: pointer;\n",
              "      display: none;\n",
              "      fill: #1967D2;\n",
              "      height: 32px;\n",
              "      padding: 0 0 0 0;\n",
              "      width: 32px;\n",
              "    }\n",
              "\n",
              "    .colab-df-convert:hover {\n",
              "      background-color: #E2EBFA;\n",
              "      box-shadow: 0px 1px 2px rgba(60, 64, 67, 0.3), 0px 1px 3px 1px rgba(60, 64, 67, 0.15);\n",
              "      fill: #174EA6;\n",
              "    }\n",
              "\n",
              "    [theme=dark] .colab-df-convert {\n",
              "      background-color: #3B4455;\n",
              "      fill: #D2E3FC;\n",
              "    }\n",
              "\n",
              "    [theme=dark] .colab-df-convert:hover {\n",
              "      background-color: #434B5C;\n",
              "      box-shadow: 0px 1px 3px 1px rgba(0, 0, 0, 0.15);\n",
              "      filter: drop-shadow(0px 1px 2px rgba(0, 0, 0, 0.3));\n",
              "      fill: #FFFFFF;\n",
              "    }\n",
              "  </style>\n",
              "\n",
              "      <script>\n",
              "        const buttonEl =\n",
              "          document.querySelector('#df-06c24813-dca2-4d19-8606-bc377aaf6a92 button.colab-df-convert');\n",
              "        buttonEl.style.display =\n",
              "          google.colab.kernel.accessAllowed ? 'block' : 'none';\n",
              "\n",
              "        async function convertToInteractive(key) {\n",
              "          const element = document.querySelector('#df-06c24813-dca2-4d19-8606-bc377aaf6a92');\n",
              "          const dataTable =\n",
              "            await google.colab.kernel.invokeFunction('convertToInteractive',\n",
              "                                                     [key], {});\n",
              "          if (!dataTable) return;\n",
              "\n",
              "          const docLinkHtml = 'Like what you see? Visit the ' +\n",
              "            '<a target=\"_blank\" href=https://colab.research.google.com/notebooks/data_table.ipynb>data table notebook</a>'\n",
              "            + ' to learn more about interactive tables.';\n",
              "          element.innerHTML = '';\n",
              "          dataTable['output_type'] = 'display_data';\n",
              "          await google.colab.output.renderOutput(dataTable, element);\n",
              "          const docLink = document.createElement('div');\n",
              "          docLink.innerHTML = docLinkHtml;\n",
              "          element.appendChild(docLink);\n",
              "        }\n",
              "      </script>\n",
              "    </div>\n",
              "  </div>\n",
              "  "
            ]
          },
          "metadata": {},
          "execution_count": 20
        }
      ]
    },
    {
      "cell_type": "code",
      "source": [
        "len(df)"
      ],
      "metadata": {
        "colab": {
          "base_uri": "https://localhost:8080/"
        },
        "id": "5vg93GizWauJ",
        "outputId": "99cfe950-29c0-45d0-9980-c147792d4613"
      },
      "execution_count": null,
      "outputs": [
        {
          "output_type": "execute_result",
          "data": {
            "text/plain": [
              "228"
            ]
          },
          "metadata": {},
          "execution_count": 21
        }
      ]
    },
    {
      "cell_type": "markdown",
      "source": [
        "## dataset cleaning\n",
        "\n",
        "We can divide this dataset into two portions: one for fine-tuning and the other for validation."
      ],
      "metadata": {
        "id": "Xx2MVCsUWo91"
      }
    },
    {
      "cell_type": "code",
      "source": [
        "from sklearn.model_selection import train_test_split\n",
        "train_df, test_df = train_test_split(df, test_size=0.1, random_state=42)\n",
        "len(train_df), len(test_df)"
      ],
      "metadata": {
        "colab": {
          "base_uri": "https://localhost:8080/"
        },
        "id": "SPDI0DG5WmNP",
        "outputId": "620244a4-3e83-4280-fff2-781df668e90b"
      },
      "execution_count": null,
      "outputs": [
        {
          "output_type": "execute_result",
          "data": {
            "text/plain": [
              "(205, 23)"
            ]
          },
          "metadata": {},
          "execution_count": 22
        }
      ]
    },
    {
      "cell_type": "markdown",
      "source": [
        "Next, we should process both the training dataset and testing dataset such that it meets the requirement for the fine-tuning API on OpanAI's [documentation](https://platform.openai.com/docs/guides/fine-tuning/preparing-your-dataset)"
      ],
      "metadata": {
        "id": "TlzYDnDsXI_Q"
      }
    },
    {
      "cell_type": "code",
      "source": [
        "def preprocess(train_df):\n",
        "    rows = []\n",
        "    for i, row in train_df.iterrows():\n",
        "        #bad examples in train_df\n",
        "        # if i in {160,7,23,76}:\n",
        "        #     continue\n",
        "        list_hpo = row.labels.split(';')\n",
        "        list_hpo_pair = [[_.split('|')[0], _.split('|')[1].split(':')]  for _ in list_hpo]\n",
        "        # print(list_hpo_pair)\n",
        "        # for hpo, [s,e] in list_hpo_pair:\n",
        "        #     print(row.text[int(s)-50:int(e)+50])\n",
        "        # break\n",
        "        ans = \"\"\n",
        "        hpos = set()\n",
        "        for hpo, [s,e] in list_hpo_pair:\n",
        "            if hpo in hpos:\n",
        "                continue\n",
        "            ans += row.text[int(s):int(e)] + ' | ' + hpo + '\\n'\n",
        "            hpos.add(hpo)\n",
        "        ans += 'END'\n",
        "        rows.append({\"prompt\":f\"{row.text}\\n\\n###\\n\\n\", \"completion\":f\" {ans}\"})\n",
        "    return pd.DataFrame(rows)"
      ],
      "metadata": {
        "id": "Akrhjr9rXH5h"
      },
      "execution_count": null,
      "outputs": []
    },
    {
      "cell_type": "code",
      "source": [
        "ft = preprocess(test_df)\n",
        "ft.to_json(f'test.jsonl', orient='records', lines=True)"
      ],
      "metadata": {
        "id": "5jXFygetYSJz"
      },
      "execution_count": null,
      "outputs": []
    },
    {
      "cell_type": "code",
      "source": [
        "ft = preprocess(train_df)\n",
        "ft.to_json(f'train.jsonl', orient='records', lines=True)"
      ],
      "metadata": {
        "id": "O2c1Ht9vYV3d"
      },
      "execution_count": null,
      "outputs": []
    },
    {
      "cell_type": "code",
      "source": [
        "ft"
      ],
      "metadata": {
        "colab": {
          "base_uri": "https://localhost:8080/",
          "height": 423
        },
        "id": "GuKBRjKt5Hle",
        "outputId": "f6e38d06-258f-4acc-bec8-4de27e139cdf"
      },
      "execution_count": null,
      "outputs": [
        {
          "output_type": "execute_result",
          "data": {
            "text/plain": [
              "                                                prompt  \\\n",
              "0    Familial Angelman syndrome (AS) can result fro...   \n",
              "1    The nevoid basal-cell carcinoma syndrome is ch...   \n",
              "2    Hereditary isolated brachydactyly type C (OMIM...   \n",
              "3    The results of a systematic study of the otolo...   \n",
              "4    Six patients, including two sibs, with Angelma...   \n",
              "..                                                 ...   \n",
              "200  This study of 47 patients from 11 families wit...   \n",
              "201  Angelman syndrome is a neuro-developmental dis...   \n",
              "202  Neurofibromatosis type 2 is an autosomal-domin...   \n",
              "203  We present 3 individuals, a mother, her son, a...   \n",
              "204  A father and son are described with an autosom...   \n",
              "\n",
              "                                            completion  \n",
              "0     phenotypic abnormality | HP_0000118\\ndominant...  \n",
              "1     basal-cell carcinoma | HP_0002671\\ncysts of t...  \n",
              "2     brachydactyly | HP_0001156\\nbrachydactyly typ...  \n",
              "3     earpit | HP_0004467\\ndeafness | HP_0000404\\nm...  \n",
              "4     sporadic | HP_0003745\\nheterogeneity | HP_000...  \n",
              "..                                                 ...  \n",
              "200   neurofibromatosis | HP_0006746\\nposterior cap...  \n",
              "201     neuro-developmental disorder | HP_0012759\\nEND  \n",
              "202   Neurofibromatosis | HP_0006746\\nautosomal-dom...  \n",
              "203   unilateral renal agenesis | HP_0000122\\nrenal...  \n",
              "204   autosomal dominant | HP_0000006\\nbranchial | ...  \n",
              "\n",
              "[205 rows x 2 columns]"
            ],
            "text/html": [
              "\n",
              "  <div id=\"df-7069042f-d7b9-4012-98a6-5ea22ffca25d\">\n",
              "    <div class=\"colab-df-container\">\n",
              "      <div>\n",
              "<style scoped>\n",
              "    .dataframe tbody tr th:only-of-type {\n",
              "        vertical-align: middle;\n",
              "    }\n",
              "\n",
              "    .dataframe tbody tr th {\n",
              "        vertical-align: top;\n",
              "    }\n",
              "\n",
              "    .dataframe thead th {\n",
              "        text-align: right;\n",
              "    }\n",
              "</style>\n",
              "<table border=\"1\" class=\"dataframe\">\n",
              "  <thead>\n",
              "    <tr style=\"text-align: right;\">\n",
              "      <th></th>\n",
              "      <th>prompt</th>\n",
              "      <th>completion</th>\n",
              "    </tr>\n",
              "  </thead>\n",
              "  <tbody>\n",
              "    <tr>\n",
              "      <th>0</th>\n",
              "      <td>Familial Angelman syndrome (AS) can result fro...</td>\n",
              "      <td>phenotypic abnormality | HP_0000118\\ndominant...</td>\n",
              "    </tr>\n",
              "    <tr>\n",
              "      <th>1</th>\n",
              "      <td>The nevoid basal-cell carcinoma syndrome is ch...</td>\n",
              "      <td>basal-cell carcinoma | HP_0002671\\ncysts of t...</td>\n",
              "    </tr>\n",
              "    <tr>\n",
              "      <th>2</th>\n",
              "      <td>Hereditary isolated brachydactyly type C (OMIM...</td>\n",
              "      <td>brachydactyly | HP_0001156\\nbrachydactyly typ...</td>\n",
              "    </tr>\n",
              "    <tr>\n",
              "      <th>3</th>\n",
              "      <td>The results of a systematic study of the otolo...</td>\n",
              "      <td>earpit | HP_0004467\\ndeafness | HP_0000404\\nm...</td>\n",
              "    </tr>\n",
              "    <tr>\n",
              "      <th>4</th>\n",
              "      <td>Six patients, including two sibs, with Angelma...</td>\n",
              "      <td>sporadic | HP_0003745\\nheterogeneity | HP_000...</td>\n",
              "    </tr>\n",
              "    <tr>\n",
              "      <th>...</th>\n",
              "      <td>...</td>\n",
              "      <td>...</td>\n",
              "    </tr>\n",
              "    <tr>\n",
              "      <th>200</th>\n",
              "      <td>This study of 47 patients from 11 families wit...</td>\n",
              "      <td>neurofibromatosis | HP_0006746\\nposterior cap...</td>\n",
              "    </tr>\n",
              "    <tr>\n",
              "      <th>201</th>\n",
              "      <td>Angelman syndrome is a neuro-developmental dis...</td>\n",
              "      <td>neuro-developmental disorder | HP_0012759\\nEND</td>\n",
              "    </tr>\n",
              "    <tr>\n",
              "      <th>202</th>\n",
              "      <td>Neurofibromatosis type 2 is an autosomal-domin...</td>\n",
              "      <td>Neurofibromatosis | HP_0006746\\nautosomal-dom...</td>\n",
              "    </tr>\n",
              "    <tr>\n",
              "      <th>203</th>\n",
              "      <td>We present 3 individuals, a mother, her son, a...</td>\n",
              "      <td>unilateral renal agenesis | HP_0000122\\nrenal...</td>\n",
              "    </tr>\n",
              "    <tr>\n",
              "      <th>204</th>\n",
              "      <td>A father and son are described with an autosom...</td>\n",
              "      <td>autosomal dominant | HP_0000006\\nbranchial | ...</td>\n",
              "    </tr>\n",
              "  </tbody>\n",
              "</table>\n",
              "<p>205 rows × 2 columns</p>\n",
              "</div>\n",
              "      <button class=\"colab-df-convert\" onclick=\"convertToInteractive('df-7069042f-d7b9-4012-98a6-5ea22ffca25d')\"\n",
              "              title=\"Convert this dataframe to an interactive table.\"\n",
              "              style=\"display:none;\">\n",
              "        \n",
              "  <svg xmlns=\"http://www.w3.org/2000/svg\" height=\"24px\"viewBox=\"0 0 24 24\"\n",
              "       width=\"24px\">\n",
              "    <path d=\"M0 0h24v24H0V0z\" fill=\"none\"/>\n",
              "    <path d=\"M18.56 5.44l.94 2.06.94-2.06 2.06-.94-2.06-.94-.94-2.06-.94 2.06-2.06.94zm-11 1L8.5 8.5l.94-2.06 2.06-.94-2.06-.94L8.5 2.5l-.94 2.06-2.06.94zm10 10l.94 2.06.94-2.06 2.06-.94-2.06-.94-.94-2.06-.94 2.06-2.06.94z\"/><path d=\"M17.41 7.96l-1.37-1.37c-.4-.4-.92-.59-1.43-.59-.52 0-1.04.2-1.43.59L10.3 9.45l-7.72 7.72c-.78.78-.78 2.05 0 2.83L4 21.41c.39.39.9.59 1.41.59.51 0 1.02-.2 1.41-.59l7.78-7.78 2.81-2.81c.8-.78.8-2.07 0-2.86zM5.41 20L4 18.59l7.72-7.72 1.47 1.35L5.41 20z\"/>\n",
              "  </svg>\n",
              "      </button>\n",
              "      \n",
              "  <style>\n",
              "    .colab-df-container {\n",
              "      display:flex;\n",
              "      flex-wrap:wrap;\n",
              "      gap: 12px;\n",
              "    }\n",
              "\n",
              "    .colab-df-convert {\n",
              "      background-color: #E8F0FE;\n",
              "      border: none;\n",
              "      border-radius: 50%;\n",
              "      cursor: pointer;\n",
              "      display: none;\n",
              "      fill: #1967D2;\n",
              "      height: 32px;\n",
              "      padding: 0 0 0 0;\n",
              "      width: 32px;\n",
              "    }\n",
              "\n",
              "    .colab-df-convert:hover {\n",
              "      background-color: #E2EBFA;\n",
              "      box-shadow: 0px 1px 2px rgba(60, 64, 67, 0.3), 0px 1px 3px 1px rgba(60, 64, 67, 0.15);\n",
              "      fill: #174EA6;\n",
              "    }\n",
              "\n",
              "    [theme=dark] .colab-df-convert {\n",
              "      background-color: #3B4455;\n",
              "      fill: #D2E3FC;\n",
              "    }\n",
              "\n",
              "    [theme=dark] .colab-df-convert:hover {\n",
              "      background-color: #434B5C;\n",
              "      box-shadow: 0px 1px 3px 1px rgba(0, 0, 0, 0.15);\n",
              "      filter: drop-shadow(0px 1px 2px rgba(0, 0, 0, 0.3));\n",
              "      fill: #FFFFFF;\n",
              "    }\n",
              "  </style>\n",
              "\n",
              "      <script>\n",
              "        const buttonEl =\n",
              "          document.querySelector('#df-7069042f-d7b9-4012-98a6-5ea22ffca25d button.colab-df-convert');\n",
              "        buttonEl.style.display =\n",
              "          google.colab.kernel.accessAllowed ? 'block' : 'none';\n",
              "\n",
              "        async function convertToInteractive(key) {\n",
              "          const element = document.querySelector('#df-7069042f-d7b9-4012-98a6-5ea22ffca25d');\n",
              "          const dataTable =\n",
              "            await google.colab.kernel.invokeFunction('convertToInteractive',\n",
              "                                                     [key], {});\n",
              "          if (!dataTable) return;\n",
              "\n",
              "          const docLinkHtml = 'Like what you see? Visit the ' +\n",
              "            '<a target=\"_blank\" href=https://colab.research.google.com/notebooks/data_table.ipynb>data table notebook</a>'\n",
              "            + ' to learn more about interactive tables.';\n",
              "          element.innerHTML = '';\n",
              "          dataTable['output_type'] = 'display_data';\n",
              "          await google.colab.output.renderOutput(dataTable, element);\n",
              "          const docLink = document.createElement('div');\n",
              "          docLink.innerHTML = docLinkHtml;\n",
              "          element.appendChild(docLink);\n",
              "        }\n",
              "      </script>\n",
              "    </div>\n",
              "  </div>\n",
              "  "
            ]
          },
          "metadata": {},
          "execution_count": 38
        }
      ]
    },
    {
      "cell_type": "markdown",
      "source": [
        "Refresh your repository, you can see two new jsonl files ready to use!\n",
        "\n",
        "Just in case, OpenAI provide a nice API for formatting checking and correcting. (free)"
      ],
      "metadata": {
        "id": "5unUM4ZOYi3V"
      }
    },
    {
      "cell_type": "code",
      "source": [
        "!openai tools fine_tunes.prepare_data -f train.jsonl"
      ],
      "metadata": {
        "colab": {
          "base_uri": "https://localhost:8080/"
        },
        "id": "41rzczmkYWIv",
        "outputId": "47ee8b48-b967-498f-b66b-b3b5c6dac92d"
      },
      "execution_count": null,
      "outputs": [
        {
          "output_type": "stream",
          "name": "stdout",
          "text": [
            "Analyzing...\n",
            "\n",
            "- Your file contains 205 prompt-completion pairs\n",
            "- All prompts end with suffix `.\\n\\n###\\n\\n`\n",
            "- All completions end with suffix `\\nEND`\n",
            "\n",
            "No remediations found.\n",
            "\n",
            "You can use your file for fine-tuning:\n",
            "> openai api fine_tunes.create -t \"train.jsonl\"\n",
            "\n",
            "After you’ve fine-tuned a model, remember that your prompt has to end with the indicator string `.\\n\\n###\\n\\n` for the model to start generating completions, rather than continuing with the prompt. Make sure to include `stop=[\"\\nEND\"]` so that the generated texts ends at the expected place.\n",
            "Once your model starts training, it'll approximately take 5.26 minutes to train a `curie` model, and less for `ada` and `babbage`. Queue will approximately take half an hour per job ahead of you.\n"
          ]
        }
      ]
    },
    {
      "cell_type": "markdown",
      "source": [
        "Now we are ready to fine-tune our own GPT model to recognize HPO terms based on `train.jsonl` dataset."
      ],
      "metadata": {
        "id": "4QvBrKCu5Pzi"
      }
    },
    {
      "cell_type": "markdown",
      "source": [
        "Notice that Fine-tuning is currently only available for the following base models: `davinci`, `curie`, `babbage`, and `ada`."
      ],
      "metadata": {
        "id": "Vlx9YKT16Wh0"
      }
    },
    {
      "cell_type": "code",
      "source": [
        "%%bash\n",
        "export OPENAI_API_KEY=<you-api-key>\n",
        "openai api fine_tunes.create -t ./train.jsonl -v ./test.jsonl --batch_size 16 -m davinci --suffix phenogpt --n_epochs 12 --learning_rate_multiplier 0.1"
      ],
      "metadata": {
        "colab": {
          "base_uri": "https://localhost:8080/"
        },
        "id": "Mj8gUFVW5Pk7",
        "outputId": "baa8c85d-bb25-4e06-d456-5437d876fa9c"
      },
      "execution_count": null,
      "outputs": [
        {
          "output_type": "stream",
          "name": "stdout",
          "text": [
            "Found potentially duplicated files with name 'train.jsonl', purpose 'fine-tune' and size 266305 bytes\n",
            "file-3oswPITVAaQYeLtmzitGez9Y\n",
            "Enter file ID to reuse an already uploaded file, or an empty string to upload this file anyway: Uploaded file from ./train.jsonl: file-hbDe2rPZBUI7mLPCx3WJwvIG\n",
            "Found potentially duplicated files with name 'test.jsonl', purpose 'fine-tune' and size 31331 bytes\n",
            "file-iic4DKLeem4RsosOEmHwmA9T\n",
            "file-MpvcteVAPeVADrlGKEKeXF2h\n",
            "file-XhiEnBOYQl4Z0FVjqkbruZD7\n",
            "file-TnpeUdp05EgBugrwCbz9axEv\n",
            "file-1xwMn7poXBvAklpsLzKYKBFE\n",
            "file-GRvG3W0AY7etf7GkmjCe0bBR\n",
            "file-GOS25ykHigJcWOjj3EhcH0Nf\n",
            "file-PzWPdUwKvhxD5IklqSlYuSmr\n",
            "Enter file ID to reuse an already uploaded file, or an empty string to upload this file anyway: Uploaded file from ./test.jsonl: file-gKUwYWkQ7B3TcA2KIm1l3K2A\n",
            "Created fine-tune: ft-fKhpCacvqI38am5vtW5AB0mk\n",
            "Streaming events until fine-tuning is complete...\n",
            "\n",
            "(Ctrl-C will interrupt the stream, but not cancel the fine-tune)\n",
            "[2023-05-06 16:32:38] Created fine-tune: ft-fKhpCacvqI38am5vtW5AB0mk\n",
            "[2023-05-06 16:32:43] Fine-tune costs $22.72\n",
            "[2023-05-06 16:32:43] Fine-tune enqueued. Queue number: 0\n",
            "\n"
          ]
        },
        {
          "output_type": "stream",
          "name": "stderr",
          "text": [
            "\rUpload progress:   0%|          | 0.00/266k [00:00<?, ?it/s]\rUpload progress: 100%|██████████| 266k/266k [00:00<00:00, 328Mit/s]\n",
            "\rUpload progress:   0%|          | 0.00/31.3k [00:00<?, ?it/s]\rUpload progress: 100%|██████████| 31.3k/31.3k [00:00<00:00, 61.4Mit/s]\n"
          ]
        }
      ]
    },
    {
      "cell_type": "markdown",
      "source": [
        "If it stops training, you can use the following cell to continue your training"
      ],
      "metadata": {
        "id": "Je9q5IEZ6s76"
      }
    },
    {
      "cell_type": "code",
      "source": [
        "%%bash\n",
        "export OPENAI_API_KEY=<your-api-token>"
      ],
      "metadata": {
        "colab": {
          "base_uri": "https://localhost:8080/"
        },
        "id": "Ha6q_A2_6Gfe",
        "outputId": "661684b9-9795-44be-d8aa-766f96928340"
      },
      "execution_count": null,
      "outputs": [
        {
          "output_type": "stream",
          "name": "stdout",
          "text": [
            "[2023-05-06 16:32:38] Created fine-tune: ft-fKhpCacvqI38am5vtW5AB0mk\n",
            "[2023-05-06 16:32:43] Fine-tune costs $22.72\n",
            "[2023-05-06 16:32:43] Fine-tune enqueued. Queue number: 0\n",
            "[2023-05-06 16:42:45] Fine-tune started\n",
            "[2023-05-06 16:45:00] Completed epoch 1/12\n",
            "[2023-05-06 16:45:39] Completed epoch 2/12\n",
            "[2023-05-06 16:46:16] Completed epoch 3/12\n",
            "[2023-05-06 16:46:56] Completed epoch 4/12\n",
            "[2023-05-06 16:47:35] Completed epoch 5/12\n",
            "\n"
          ]
        }
      ]
    },
    {
      "cell_type": "code",
      "source": [
        "# You can also monitor your fine-tune jobs' list.\n",
        "openai.FineTune.list()"
      ],
      "metadata": {
        "colab": {
          "base_uri": "https://localhost:8080/"
        },
        "id": "XudMy_6i8PbM",
        "outputId": "1cb1f4a5-7f10-4950-d40a-082eeb278b51"
      },
      "execution_count": null,
      "outputs": [
        {
          "output_type": "execute_result",
          "data": {
            "text/plain": [
              "<OpenAIObject list at 0x7ff9abaede90> JSON: {\n",
              "  \"data\": [\n",
              "    {\n",
              "      \"created_at\": 1679256505,\n",
              "      \"fine_tuned_model\": \"davinci:ft-personal:phenogpt-2023-03-19-20-21-53\",\n",
              "      \"hyperparams\": {\n",
              "        \"batch_size\": 16,\n",
              "        \"learning_rate_multiplier\": 0.2,\n",
              "        \"n_epochs\": 4,\n",
              "        \"prompt_loss_weight\": 0.01\n",
              "      },\n",
              "      \"id\": \"ft-tbnuwkw0jWUFsN2zCaPWSwjg\",\n",
              "      \"model\": \"davinci\",\n",
              "      \"object\": \"fine-tune\",\n",
              "      \"organization_id\": \"org-V4oAQ7pfpLNhWU0v4hORFv9P\",\n",
              "      \"result_files\": [\n",
              "        {\n",
              "          \"bytes\": 3556,\n",
              "          \"created_at\": 1679257314,\n",
              "          \"filename\": \"compiled_results.csv\",\n",
              "          \"id\": \"file-nAyVYA1Io0OZFkP1kqrX8ezP\",\n",
              "          \"object\": \"file\",\n",
              "          \"purpose\": \"fine-tune-results\",\n",
              "          \"status\": \"processed\",\n",
              "          \"status_details\": null\n",
              "        }\n",
              "      ],\n",
              "      \"status\": \"succeeded\",\n",
              "      \"training_files\": [\n",
              "        {\n",
              "          \"bytes\": 257960,\n",
              "          \"created_at\": 1679256504,\n",
              "          \"filename\": \"./train_prepared.jsonl\",\n",
              "          \"id\": \"file-z1aabBdYavjwMMDHREcfXeUf\",\n",
              "          \"object\": \"file\",\n",
              "          \"purpose\": \"fine-tune\",\n",
              "          \"status\": \"processed\",\n",
              "          \"status_details\": null\n",
              "        }\n",
              "      ],\n",
              "      \"updated_at\": 1679257314,\n",
              "      \"validation_files\": [\n",
              "        {\n",
              "          \"bytes\": 31331,\n",
              "          \"created_at\": 1679256505,\n",
              "          \"filename\": \"./test.jsonl\",\n",
              "          \"id\": \"file-XhiEnBOYQl4Z0FVjqkbruZD7\",\n",
              "          \"object\": \"file\",\n",
              "          \"purpose\": \"fine-tune\",\n",
              "          \"status\": \"processed\",\n",
              "          \"status_details\": null\n",
              "        }\n",
              "      ]\n",
              "    },\n",
              "    {\n",
              "      \"created_at\": 1679258190,\n",
              "      \"fine_tuned_model\": \"davinci:ft-personal:phenogpt-2023-03-19-20-45-22\",\n",
              "      \"hyperparams\": {\n",
              "        \"batch_size\": 16,\n",
              "        \"learning_rate_multiplier\": 0.2,\n",
              "        \"n_epochs\": 4,\n",
              "        \"prompt_loss_weight\": 0.01\n",
              "      },\n",
              "      \"id\": \"ft-BP4ozWKKe1F8sZq66bMEGKqj\",\n",
              "      \"model\": \"davinci\",\n",
              "      \"object\": \"fine-tune\",\n",
              "      \"organization_id\": \"org-V4oAQ7pfpLNhWU0v4hORFv9P\",\n",
              "      \"result_files\": [\n",
              "        {\n",
              "          \"bytes\": 3541,\n",
              "          \"created_at\": 1679258723,\n",
              "          \"filename\": \"compiled_results.csv\",\n",
              "          \"id\": \"file-7O3V06H0e6aVgvdTMCAMnhQ4\",\n",
              "          \"object\": \"file\",\n",
              "          \"purpose\": \"fine-tune-results\",\n",
              "          \"status\": \"processed\",\n",
              "          \"status_details\": null\n",
              "        }\n",
              "      ],\n",
              "      \"status\": \"succeeded\",\n",
              "      \"training_files\": [\n",
              "        {\n",
              "          \"bytes\": 257960,\n",
              "          \"created_at\": 1679258190,\n",
              "          \"filename\": \"./train_prepared.jsonl\",\n",
              "          \"id\": \"file-YnTqcnl0HNV7ym8pTL0t1KN4\",\n",
              "          \"object\": \"file\",\n",
              "          \"purpose\": \"fine-tune\",\n",
              "          \"status\": \"processed\",\n",
              "          \"status_details\": null\n",
              "        }\n",
              "      ],\n",
              "      \"updated_at\": 1679258724,\n",
              "      \"validation_files\": [\n",
              "        {\n",
              "          \"bytes\": 31331,\n",
              "          \"created_at\": 1679258190,\n",
              "          \"filename\": \"./test.jsonl\",\n",
              "          \"id\": \"file-TnpeUdp05EgBugrwCbz9axEv\",\n",
              "          \"object\": \"file\",\n",
              "          \"purpose\": \"fine-tune\",\n",
              "          \"status\": \"processed\",\n",
              "          \"status_details\": null\n",
              "        }\n",
              "      ]\n",
              "    },\n",
              "    {\n",
              "      \"created_at\": 1679280651,\n",
              "      \"fine_tuned_model\": null,\n",
              "      \"hyperparams\": {\n",
              "        \"batch_size\": 16,\n",
              "        \"learning_rate_multiplier\": 0.1,\n",
              "        \"n_epochs\": 12,\n",
              "        \"prompt_loss_weight\": 0.01\n",
              "      },\n",
              "      \"id\": \"ft-kKOvYjOorPmIhu6qWWKjFrAy\",\n",
              "      \"model\": \"davinci:ft-personal:phenogpt-2023-03-19-20-45-22\",\n",
              "      \"object\": \"fine-tune\",\n",
              "      \"organization_id\": \"org-V4oAQ7pfpLNhWU0v4hORFv9P\",\n",
              "      \"result_files\": [],\n",
              "      \"status\": \"failed\",\n",
              "      \"training_files\": [\n",
              "        {\n",
              "          \"bytes\": 257960,\n",
              "          \"created_at\": 1679280650,\n",
              "          \"filename\": \"./train_prepared.jsonl\",\n",
              "          \"id\": \"file-kpRAcfO4gEGvNhBaSVfDKJZA\",\n",
              "          \"object\": \"file\",\n",
              "          \"purpose\": \"fine-tune\",\n",
              "          \"status\": \"processed\",\n",
              "          \"status_details\": null\n",
              "        }\n",
              "      ],\n",
              "      \"updated_at\": 1679280891,\n",
              "      \"validation_files\": [\n",
              "        {\n",
              "          \"bytes\": 31331,\n",
              "          \"created_at\": 1679280651,\n",
              "          \"filename\": \"./test.jsonl\",\n",
              "          \"id\": \"file-1xwMn7poXBvAklpsLzKYKBFE\",\n",
              "          \"object\": \"file\",\n",
              "          \"purpose\": \"fine-tune\",\n",
              "          \"status\": \"processed\",\n",
              "          \"status_details\": null\n",
              "        }\n",
              "      ]\n",
              "    },\n",
              "    {\n",
              "      \"created_at\": 1679281130,\n",
              "      \"fine_tuned_model\": \"davinci:ft-personal:cont-2023-03-20-03-17-56\",\n",
              "      \"hyperparams\": {\n",
              "        \"batch_size\": 16,\n",
              "        \"learning_rate_multiplier\": 0.1,\n",
              "        \"n_epochs\": 12,\n",
              "        \"prompt_loss_weight\": 0.01\n",
              "      },\n",
              "      \"id\": \"ft-Vk32tLsyp7kulpZ7ixPSlCUq\",\n",
              "      \"model\": \"davinci:ft-personal:phenogpt-2023-03-19-20-45-22\",\n",
              "      \"object\": \"fine-tune\",\n",
              "      \"organization_id\": \"org-V4oAQ7pfpLNhWU0v4hORFv9P\",\n",
              "      \"result_files\": [\n",
              "        {\n",
              "          \"bytes\": 10150,\n",
              "          \"created_at\": 1679282277,\n",
              "          \"filename\": \"compiled_results.csv\",\n",
              "          \"id\": \"file-PEeVu67Bp4T6AnMUERU1FwWF\",\n",
              "          \"object\": \"file\",\n",
              "          \"purpose\": \"fine-tune-results\",\n",
              "          \"status\": \"processed\",\n",
              "          \"status_details\": null\n",
              "        }\n",
              "      ],\n",
              "      \"status\": \"succeeded\",\n",
              "      \"training_files\": [\n",
              "        {\n",
              "          \"bytes\": 257960,\n",
              "          \"created_at\": 1679281129,\n",
              "          \"filename\": \"./train_prepared.jsonl\",\n",
              "          \"id\": \"file-3giU0YPk7c4yVrhs5PhFVRW0\",\n",
              "          \"object\": \"file\",\n",
              "          \"purpose\": \"fine-tune\",\n",
              "          \"status\": \"processed\",\n",
              "          \"status_details\": null\n",
              "        }\n",
              "      ],\n",
              "      \"updated_at\": 1679282277,\n",
              "      \"validation_files\": [\n",
              "        {\n",
              "          \"bytes\": 31331,\n",
              "          \"created_at\": 1679281130,\n",
              "          \"filename\": \"./test.jsonl\",\n",
              "          \"id\": \"file-GRvG3W0AY7etf7GkmjCe0bBR\",\n",
              "          \"object\": \"file\",\n",
              "          \"purpose\": \"fine-tune\",\n",
              "          \"status\": \"processed\",\n",
              "          \"status_details\": null\n",
              "        }\n",
              "      ]\n",
              "    },\n",
              "    {\n",
              "      \"created_at\": 1679285878,\n",
              "      \"fine_tuned_model\": \"davinci:ft-personal:few-shot-ft-2023-03-20-04-23-25\",\n",
              "      \"hyperparams\": {\n",
              "        \"batch_size\": 16,\n",
              "        \"learning_rate_multiplier\": 0.2,\n",
              "        \"n_epochs\": 8,\n",
              "        \"prompt_loss_weight\": 0.01\n",
              "      },\n",
              "      \"id\": \"ft-TESiKEHSa1xzqyrdATs5dJ9r\",\n",
              "      \"model\": \"davinci\",\n",
              "      \"object\": \"fine-tune\",\n",
              "      \"organization_id\": \"org-V4oAQ7pfpLNhWU0v4hORFv9P\",\n",
              "      \"result_files\": [\n",
              "        {\n",
              "          \"bytes\": 997,\n",
              "          \"created_at\": 1679286206,\n",
              "          \"filename\": \"compiled_results.csv\",\n",
              "          \"id\": \"file-x09gJwEdLAPhtF1Tl7dfCoxY\",\n",
              "          \"object\": \"file\",\n",
              "          \"purpose\": \"fine-tune-results\",\n",
              "          \"status\": \"processed\",\n",
              "          \"status_details\": null\n",
              "        }\n",
              "      ],\n",
              "      \"status\": \"succeeded\",\n",
              "      \"training_files\": [\n",
              "        {\n",
              "          \"bytes\": 31331,\n",
              "          \"created_at\": 1679285876,\n",
              "          \"filename\": \"./test.jsonl\",\n",
              "          \"id\": \"file-PzWPdUwKvhxD5IklqSlYuSmr\",\n",
              "          \"object\": \"file\",\n",
              "          \"purpose\": \"fine-tune\",\n",
              "          \"status\": \"processed\",\n",
              "          \"status_details\": null\n",
              "        }\n",
              "      ],\n",
              "      \"updated_at\": 1679286207,\n",
              "      \"validation_files\": [\n",
              "        {\n",
              "          \"bytes\": 257960,\n",
              "          \"created_at\": 1679285877,\n",
              "          \"filename\": \"./train_prepared.jsonl\",\n",
              "          \"id\": \"file-OSVnmIQ9BwGVG0gTvZShu9SC\",\n",
              "          \"object\": \"file\",\n",
              "          \"purpose\": \"fine-tune\",\n",
              "          \"status\": \"processed\",\n",
              "          \"status_details\": null\n",
              "        }\n",
              "      ]\n",
              "    },\n",
              "    {\n",
              "      \"created_at\": 1679286668,\n",
              "      \"fine_tuned_model\": \"davinci:ft-personal:few-shot-ft-2023-03-20-04-38-25\",\n",
              "      \"hyperparams\": {\n",
              "        \"batch_size\": 16,\n",
              "        \"learning_rate_multiplier\": 0.2,\n",
              "        \"n_epochs\": 32,\n",
              "        \"prompt_loss_weight\": 0.01\n",
              "      },\n",
              "      \"id\": \"ft-NDrtbbM58izmb3fUkgtgG3o8\",\n",
              "      \"model\": \"davinci\",\n",
              "      \"object\": \"fine-tune\",\n",
              "      \"organization_id\": \"org-V4oAQ7pfpLNhWU0v4hORFv9P\",\n",
              "      \"result_files\": [\n",
              "        {\n",
              "          \"bytes\": 3229,\n",
              "          \"created_at\": 1679287106,\n",
              "          \"filename\": \"compiled_results.csv\",\n",
              "          \"id\": \"file-Hr420Q1yeQKXxWlhNvPQ54dT\",\n",
              "          \"object\": \"file\",\n",
              "          \"purpose\": \"fine-tune-results\",\n",
              "          \"status\": \"processed\",\n",
              "          \"status_details\": null\n",
              "        }\n",
              "      ],\n",
              "      \"status\": \"succeeded\",\n",
              "      \"training_files\": [\n",
              "        {\n",
              "          \"bytes\": 31331,\n",
              "          \"created_at\": 1679286667,\n",
              "          \"filename\": \"./test.jsonl\",\n",
              "          \"id\": \"file-GOS25ykHigJcWOjj3EhcH0Nf\",\n",
              "          \"object\": \"file\",\n",
              "          \"purpose\": \"fine-tune\",\n",
              "          \"status\": \"processed\",\n",
              "          \"status_details\": null\n",
              "        }\n",
              "      ],\n",
              "      \"updated_at\": 1679287107,\n",
              "      \"validation_files\": [\n",
              "        {\n",
              "          \"bytes\": 257960,\n",
              "          \"created_at\": 1679286668,\n",
              "          \"filename\": \"./train_prepared.jsonl\",\n",
              "          \"id\": \"file-8k0dkUMq9lrqqfMb6flsD4Va\",\n",
              "          \"object\": \"file\",\n",
              "          \"purpose\": \"fine-tune\",\n",
              "          \"status\": \"processed\",\n",
              "          \"status_details\": null\n",
              "        }\n",
              "      ]\n",
              "    },\n",
              "    {\n",
              "      \"created_at\": 1679379412,\n",
              "      \"fine_tuned_model\": \"davinci:ft-personal:few-shot-ft-2023-03-21-06-24-09\",\n",
              "      \"hyperparams\": {\n",
              "        \"batch_size\": 16,\n",
              "        \"learning_rate_multiplier\": 0.2,\n",
              "        \"n_epochs\": 32,\n",
              "        \"prompt_loss_weight\": 0.01\n",
              "      },\n",
              "      \"id\": \"ft-TsdqYBuFtL83KWQC7j7i3ciG\",\n",
              "      \"model\": \"davinci\",\n",
              "      \"object\": \"fine-tune\",\n",
              "      \"organization_id\": \"org-V4oAQ7pfpLNhWU0v4hORFv9P\",\n",
              "      \"result_files\": [\n",
              "        {\n",
              "          \"bytes\": 3096,\n",
              "          \"created_at\": 1679379850,\n",
              "          \"filename\": \"compiled_results.csv\",\n",
              "          \"id\": \"file-rX57nRXSjqFcRujzIUVyvhqQ\",\n",
              "          \"object\": \"file\",\n",
              "          \"purpose\": \"fine-tune-results\",\n",
              "          \"status\": \"processed\",\n",
              "          \"status_details\": null\n",
              "        }\n",
              "      ],\n",
              "      \"status\": \"succeeded\",\n",
              "      \"training_files\": [\n",
              "        {\n",
              "          \"bytes\": 30272,\n",
              "          \"created_at\": 1679379411,\n",
              "          \"filename\": \"./test.jsonl\",\n",
              "          \"id\": \"file-Vh4U6CUSuLUjnc1Kachm7hwD\",\n",
              "          \"object\": \"file\",\n",
              "          \"purpose\": \"fine-tune\",\n",
              "          \"status\": \"processed\",\n",
              "          \"status_details\": null\n",
              "        }\n",
              "      ],\n",
              "      \"updated_at\": 1679379850,\n",
              "      \"validation_files\": [\n",
              "        {\n",
              "          \"bytes\": 266305,\n",
              "          \"created_at\": 1679379412,\n",
              "          \"filename\": \"./train.jsonl\",\n",
              "          \"id\": \"file-3oswPITVAaQYeLtmzitGez9Y\",\n",
              "          \"object\": \"file\",\n",
              "          \"purpose\": \"fine-tune\",\n",
              "          \"status\": \"processed\",\n",
              "          \"status_details\": null\n",
              "        }\n",
              "      ]\n",
              "    },\n",
              "    {\n",
              "      \"created_at\": 1683390758,\n",
              "      \"fine_tuned_model\": null,\n",
              "      \"hyperparams\": {\n",
              "        \"batch_size\": 16,\n",
              "        \"learning_rate_multiplier\": 0.1,\n",
              "        \"n_epochs\": 12,\n",
              "        \"prompt_loss_weight\": 0.01\n",
              "      },\n",
              "      \"id\": \"ft-fKhpCacvqI38am5vtW5AB0mk\",\n",
              "      \"model\": \"davinci\",\n",
              "      \"object\": \"fine-tune\",\n",
              "      \"organization_id\": \"org-V4oAQ7pfpLNhWU0v4hORFv9P\",\n",
              "      \"result_files\": [],\n",
              "      \"status\": \"running\",\n",
              "      \"training_files\": [\n",
              "        {\n",
              "          \"bytes\": 266305,\n",
              "          \"created_at\": 1683390756,\n",
              "          \"filename\": \"./train.jsonl\",\n",
              "          \"id\": \"file-hbDe2rPZBUI7mLPCx3WJwvIG\",\n",
              "          \"object\": \"file\",\n",
              "          \"purpose\": \"fine-tune\",\n",
              "          \"status\": \"processed\",\n",
              "          \"status_details\": null\n",
              "        }\n",
              "      ],\n",
              "      \"updated_at\": 1683391576,\n",
              "      \"validation_files\": [\n",
              "        {\n",
              "          \"bytes\": 31331,\n",
              "          \"created_at\": 1683390758,\n",
              "          \"filename\": \"./test.jsonl\",\n",
              "          \"id\": \"file-gKUwYWkQ7B3TcA2KIm1l3K2A\",\n",
              "          \"object\": \"file\",\n",
              "          \"purpose\": \"fine-tune\",\n",
              "          \"status\": \"processed\",\n",
              "          \"status_details\": null\n",
              "        }\n",
              "      ]\n",
              "    }\n",
              "  ],\n",
              "  \"object\": \"list\"\n",
              "}"
            ]
          },
          "metadata": {},
          "execution_count": 51
        }
      ]
    },
    {
      "cell_type": "markdown",
      "source": [
        "After it's done, it will return a model name like: `<model_name>:ft-personal:<prefix>-<date>`\n",
        "Then you can predict using your own model! Just replace `gpt-3.5-turbo` with your modal name"
      ],
      "metadata": {
        "id": "5gJip3Je6ze8"
      }
    },
    {
      "cell_type": "code",
      "source": [
        "prompt = \"We describe the clinical findings of 15 individuals in a large kindred affected with distal arthrogryposis type 1A (DA1A). The most consistent findings among individuals were overlapping fingers at birth, abnormal digital flexion creases, and foot deformities, including talipes equinovarus and vertical talus. There was marked intrafamilial variation in the expression of DA1A. Linkage mapping of the locus for DA1A suggests that the use of strict diagnostic criteria excludes unaffected individuals rigorously, but can produce incomplete ascertainment of affected individuals. In the context of an affected family, the range of phenotypes consistent with a diagnosis of DA1A needs to be expanded.\\n\\n###\\n\\n\"\n",
        "openai.Completion.create(\n",
        "    model=\"your-model-name\",\n",
        "    prompt=prompt,\n",
        "    max_tokens = 1000,\n",
        "    stop='\\nEND')"
      ],
      "metadata": {
        "id": "p6JkErU27QCh"
      },
      "execution_count": null,
      "outputs": []
    },
    {
      "cell_type": "markdown",
      "source": [
        "More about how to fine-tune using OpenAI API can be found [here](https://platform.openai.com/docs/guides/fine-tuning). Please enjoy!"
      ],
      "metadata": {
        "id": "pABbG7wT7fjZ"
      }
    }
  ]
}